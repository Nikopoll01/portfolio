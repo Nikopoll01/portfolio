{
 "cells": [
  {
   "cell_type": "markdown",
   "metadata": {
    "toc": true
   },
   "source": [
    "<h1>Содержание<span class=\"tocSkip\"></span></h1>\n",
    "<div class=\"toc\"><ul class=\"toc-item\"><li><span><a href=\"#Подготовка-данных\" data-toc-modified-id=\"Подготовка-данных-1\"><span class=\"toc-item-num\">1&nbsp;&nbsp;</span>Подготовка данных</a></span></li><li><span><a href=\"#Анализ-данных\" data-toc-modified-id=\"Анализ-данных-2\"><span class=\"toc-item-num\">2&nbsp;&nbsp;</span>Анализ данных</a></span></li><li><span><a href=\"#Модель\" data-toc-modified-id=\"Модель-3\"><span class=\"toc-item-num\">3&nbsp;&nbsp;</span>Модель</a></span></li></ul></div>"
   ]
  },
  {
   "cell_type": "markdown",
   "metadata": {},
   "source": [
    "# Восстановление золота из руды"
   ]
  },
  {
   "cell_type": "markdown",
   "metadata": {},
   "source": [
    "## Подготовка данных"
   ]
  },
  {
   "cell_type": "code",
   "execution_count": 1,
   "metadata": {},
   "outputs": [],
   "source": [
    "import pandas as pd\n",
    "import numpy as np\n",
    "\n",
    "\n",
    "import seaborn as sns\n",
    "import matplotlib.pyplot as plt \n",
    "\n",
    "from sklearn.metrics import mean_absolute_error, make_scorer\n",
    "\n",
    "#from numpy.random import RandomState\n",
    "\n",
    "#определяю переменную для рандомного randomstate\n",
    "\n",
    "state = 12345\n",
    "\n",
    "from sklearn.tree import DecisionTreeRegressor\n",
    "from sklearn.linear_model import LinearRegression\n",
    "from sklearn.ensemble import RandomForestRegressor\n",
    "from sklearn.model_selection import GridSearchCV, cross_val_score\n",
    "from sklearn.dummy import DummyRegressor"
   ]
  },
  {
   "cell_type": "code",
   "execution_count": 2,
   "metadata": {},
   "outputs": [],
   "source": [
    "#читаю файлы\n",
    "\n",
    "train = pd.read_csv('/datasets/gold_recovery_train_new.csv')\n",
    "test = pd.read_csv('/datasets/gold_recovery_test_new.csv')\n",
    "full = pd.read_csv('/datasets/gold_recovery_full_new.csv')"
   ]
  },
  {
   "cell_type": "code",
   "execution_count": 3,
   "metadata": {},
   "outputs": [],
   "source": [
    "#функция дает информацю по датасету: первые 5 строк, сводную инфорацию, ищет дубли\n",
    "#показывает статистики, корреляцию\n",
    "\n",
    "def info_df(df):\n",
    "    print(f'первые пять строк датасета')\n",
    "    print(df.head())\n",
    "    print()\n",
    "    print(f'СВОДНАЯ ИНФОРМАЦИЯ')\n",
    "    print(df.info())\n",
    "    print()\n",
    "    print(f'ПОИСК ДУБЛИКАТОВ')\n",
    "    print(df.duplicated().sum()) \n",
    "    print()\n",
    "    print(f'СТАТИСТИКИ')\n",
    "    print(df.describe())\n",
    "    print(f'ТАБЛИЦА КОРЕЛЯЦИИ')\n",
    "    print()\n",
    "    print(df.corr())\n",
    "    #print(plt.figure(figsize=(7,5)), sns.heatmap(df.corr(), annot=True, cmap='coolwarm'), plt.title('Матрица корреляции признаков'), plt.show)\n",
    "    print()\n",
    "    #print(f'ГИСТОГРАММЫ')\n",
    "    #print(df.hist(bins=20, figsize = (20,15)))"
   ]
  },
  {
   "cell_type": "code",
   "execution_count": 4,
   "metadata": {},
   "outputs": [
    {
     "name": "stdout",
     "output_type": "stream",
     "text": [
      "первые пять строк датасета\n",
      "                  date  final.output.concentrate_ag  \\\n",
      "0  2016-01-15 00:00:00                     6.055403   \n",
      "1  2016-01-15 01:00:00                     6.029369   \n",
      "2  2016-01-15 02:00:00                     6.055926   \n",
      "3  2016-01-15 03:00:00                     6.047977   \n",
      "4  2016-01-15 04:00:00                     6.148599   \n",
      "\n",
      "   final.output.concentrate_pb  final.output.concentrate_sol  \\\n",
      "0                     9.889648                      5.507324   \n",
      "1                     9.968944                      5.257781   \n",
      "2                    10.213995                      5.383759   \n",
      "3                     9.977019                      4.858634   \n",
      "4                    10.142511                      4.939416   \n",
      "\n",
      "   final.output.concentrate_au  final.output.recovery  final.output.tail_ag  \\\n",
      "0                    42.192020              70.541216             10.411962   \n",
      "1                    42.701629              69.266198             10.462676   \n",
      "2                    42.657501              68.116445             10.507046   \n",
      "3                    42.689819              68.347543             10.422762   \n",
      "4                    42.774141              66.927016             10.360302   \n",
      "\n",
      "   final.output.tail_pb  final.output.tail_sol  final.output.tail_au  ...  \\\n",
      "0              0.895447              16.904297              2.143149  ...   \n",
      "1              0.927452              16.634514              2.224930  ...   \n",
      "2              0.953716              16.208849              2.257889  ...   \n",
      "3              0.883763              16.532835              2.146849  ...   \n",
      "4              0.792826              16.525686              2.055292  ...   \n",
      "\n",
      "   secondary_cleaner.state.floatbank4_a_air  \\\n",
      "0                                 14.016835   \n",
      "1                                 13.992281   \n",
      "2                                 14.015015   \n",
      "3                                 14.036510   \n",
      "4                                 14.027298   \n",
      "\n",
      "   secondary_cleaner.state.floatbank4_a_level  \\\n",
      "0                                 -502.488007   \n",
      "1                                 -505.503262   \n",
      "2                                 -502.520901   \n",
      "3                                 -500.857308   \n",
      "4                                 -499.838632   \n",
      "\n",
      "   secondary_cleaner.state.floatbank4_b_air  \\\n",
      "0                                 12.099931   \n",
      "1                                 11.950531   \n",
      "2                                 11.912783   \n",
      "3                                 11.999550   \n",
      "4                                 11.953070   \n",
      "\n",
      "   secondary_cleaner.state.floatbank4_b_level  \\\n",
      "0                                 -504.715942   \n",
      "1                                 -501.331529   \n",
      "2                                 -501.133383   \n",
      "3                                 -501.193686   \n",
      "4                                 -501.053894   \n",
      "\n",
      "   secondary_cleaner.state.floatbank5_a_air  \\\n",
      "0                                  9.925633   \n",
      "1                                 10.039245   \n",
      "2                                 10.070913   \n",
      "3                                  9.970366   \n",
      "4                                  9.925709   \n",
      "\n",
      "   secondary_cleaner.state.floatbank5_a_level  \\\n",
      "0                                 -498.310211   \n",
      "1                                 -500.169983   \n",
      "2                                 -500.129135   \n",
      "3                                 -499.201640   \n",
      "4                                 -501.686727   \n",
      "\n",
      "   secondary_cleaner.state.floatbank5_b_air  \\\n",
      "0                                  8.079666   \n",
      "1                                  7.984757   \n",
      "2                                  8.013877   \n",
      "3                                  7.977324   \n",
      "4                                  7.894242   \n",
      "\n",
      "   secondary_cleaner.state.floatbank5_b_level  \\\n",
      "0                                 -500.470978   \n",
      "1                                 -500.582168   \n",
      "2                                 -500.517572   \n",
      "3                                 -500.255908   \n",
      "4                                 -500.356035   \n",
      "\n",
      "   secondary_cleaner.state.floatbank6_a_air  \\\n",
      "0                                 14.151341   \n",
      "1                                 13.998353   \n",
      "2                                 14.028663   \n",
      "3                                 14.005551   \n",
      "4                                 13.996647   \n",
      "\n",
      "   secondary_cleaner.state.floatbank6_a_level  \n",
      "0                                 -605.841980  \n",
      "1                                 -599.787184  \n",
      "2                                 -601.427363  \n",
      "3                                 -599.996129  \n",
      "4                                 -601.496691  \n",
      "\n",
      "[5 rows x 87 columns]\n",
      "\n",
      "СВОДНАЯ ИНФОРМАЦИЯ\n",
      "<class 'pandas.core.frame.DataFrame'>\n",
      "RangeIndex: 14149 entries, 0 to 14148\n",
      "Data columns (total 87 columns):\n",
      " #   Column                                              Non-Null Count  Dtype  \n",
      "---  ------                                              --------------  -----  \n",
      " 0   date                                                14149 non-null  object \n",
      " 1   final.output.concentrate_ag                         14148 non-null  float64\n",
      " 2   final.output.concentrate_pb                         14148 non-null  float64\n",
      " 3   final.output.concentrate_sol                        13938 non-null  float64\n",
      " 4   final.output.concentrate_au                         14149 non-null  float64\n",
      " 5   final.output.recovery                               14149 non-null  float64\n",
      " 6   final.output.tail_ag                                14149 non-null  float64\n",
      " 7   final.output.tail_pb                                14049 non-null  float64\n",
      " 8   final.output.tail_sol                               14144 non-null  float64\n",
      " 9   final.output.tail_au                                14149 non-null  float64\n",
      " 10  primary_cleaner.input.sulfate                       14129 non-null  float64\n",
      " 11  primary_cleaner.input.depressant                    14117 non-null  float64\n",
      " 12  primary_cleaner.input.feed_size                     14149 non-null  float64\n",
      " 13  primary_cleaner.input.xanthate                      14049 non-null  float64\n",
      " 14  primary_cleaner.output.concentrate_ag               14149 non-null  float64\n",
      " 15  primary_cleaner.output.concentrate_pb               14063 non-null  float64\n",
      " 16  primary_cleaner.output.concentrate_sol              13863 non-null  float64\n",
      " 17  primary_cleaner.output.concentrate_au               14149 non-null  float64\n",
      " 18  primary_cleaner.output.tail_ag                      14148 non-null  float64\n",
      " 19  primary_cleaner.output.tail_pb                      14134 non-null  float64\n",
      " 20  primary_cleaner.output.tail_sol                     14103 non-null  float64\n",
      " 21  primary_cleaner.output.tail_au                      14149 non-null  float64\n",
      " 22  primary_cleaner.state.floatbank8_a_air              14145 non-null  float64\n",
      " 23  primary_cleaner.state.floatbank8_a_level            14148 non-null  float64\n",
      " 24  primary_cleaner.state.floatbank8_b_air              14145 non-null  float64\n",
      " 25  primary_cleaner.state.floatbank8_b_level            14148 non-null  float64\n",
      " 26  primary_cleaner.state.floatbank8_c_air              14147 non-null  float64\n",
      " 27  primary_cleaner.state.floatbank8_c_level            14148 non-null  float64\n",
      " 28  primary_cleaner.state.floatbank8_d_air              14146 non-null  float64\n",
      " 29  primary_cleaner.state.floatbank8_d_level            14148 non-null  float64\n",
      " 30  rougher.calculation.sulfate_to_au_concentrate       14148 non-null  float64\n",
      " 31  rougher.calculation.floatbank10_sulfate_to_au_feed  14148 non-null  float64\n",
      " 32  rougher.calculation.floatbank11_sulfate_to_au_feed  14148 non-null  float64\n",
      " 33  rougher.calculation.au_pb_ratio                     14149 non-null  float64\n",
      " 34  rougher.input.feed_ag                               14149 non-null  float64\n",
      " 35  rougher.input.feed_pb                               14049 non-null  float64\n",
      " 36  rougher.input.feed_rate                             14141 non-null  float64\n",
      " 37  rougher.input.feed_size                             14005 non-null  float64\n",
      " 38  rougher.input.feed_sol                              14071 non-null  float64\n",
      " 39  rougher.input.feed_au                               14149 non-null  float64\n",
      " 40  rougher.input.floatbank10_sulfate                   14120 non-null  float64\n",
      " 41  rougher.input.floatbank10_xanthate                  14141 non-null  float64\n",
      " 42  rougher.input.floatbank11_sulfate                   14113 non-null  float64\n",
      " 43  rougher.input.floatbank11_xanthate                  13721 non-null  float64\n",
      " 44  rougher.output.concentrate_ag                       14149 non-null  float64\n",
      " 45  rougher.output.concentrate_pb                       14149 non-null  float64\n",
      " 46  rougher.output.concentrate_sol                      14127 non-null  float64\n",
      " 47  rougher.output.concentrate_au                       14149 non-null  float64\n",
      " 48  rougher.output.recovery                             14149 non-null  float64\n",
      " 49  rougher.output.tail_ag                              14148 non-null  float64\n",
      " 50  rougher.output.tail_pb                              14149 non-null  float64\n",
      " 51  rougher.output.tail_sol                             14149 non-null  float64\n",
      " 52  rougher.output.tail_au                              14149 non-null  float64\n",
      " 53  rougher.state.floatbank10_a_air                     14148 non-null  float64\n",
      " 54  rougher.state.floatbank10_a_level                   14148 non-null  float64\n",
      " 55  rougher.state.floatbank10_b_air                     14148 non-null  float64\n",
      " 56  rougher.state.floatbank10_b_level                   14148 non-null  float64\n",
      " 57  rougher.state.floatbank10_c_air                     14148 non-null  float64\n",
      " 58  rougher.state.floatbank10_c_level                   14148 non-null  float64\n",
      " 59  rougher.state.floatbank10_d_air                     14149 non-null  float64\n",
      " 60  rougher.state.floatbank10_d_level                   14149 non-null  float64\n",
      " 61  rougher.state.floatbank10_e_air                     13713 non-null  float64\n",
      " 62  rougher.state.floatbank10_e_level                   14149 non-null  float64\n",
      " 63  rougher.state.floatbank10_f_air                     14149 non-null  float64\n",
      " 64  rougher.state.floatbank10_f_level                   14149 non-null  float64\n",
      " 65  secondary_cleaner.output.tail_ag                    14147 non-null  float64\n",
      " 66  secondary_cleaner.output.tail_pb                    14139 non-null  float64\n",
      " 67  secondary_cleaner.output.tail_sol                   12544 non-null  float64\n",
      " 68  secondary_cleaner.output.tail_au                    14149 non-null  float64\n",
      " 69  secondary_cleaner.state.floatbank2_a_air            13932 non-null  float64\n",
      " 70  secondary_cleaner.state.floatbank2_a_level          14148 non-null  float64\n",
      " 71  secondary_cleaner.state.floatbank2_b_air            14128 non-null  float64\n",
      " 72  secondary_cleaner.state.floatbank2_b_level          14148 non-null  float64\n",
      " 73  secondary_cleaner.state.floatbank3_a_air            14145 non-null  float64\n",
      " 74  secondary_cleaner.state.floatbank3_a_level          14148 non-null  float64\n",
      " 75  secondary_cleaner.state.floatbank3_b_air            14148 non-null  float64\n",
      " 76  secondary_cleaner.state.floatbank3_b_level          14148 non-null  float64\n",
      " 77  secondary_cleaner.state.floatbank4_a_air            14143 non-null  float64\n",
      " 78  secondary_cleaner.state.floatbank4_a_level          14148 non-null  float64\n",
      " 79  secondary_cleaner.state.floatbank4_b_air            14148 non-null  float64\n",
      " 80  secondary_cleaner.state.floatbank4_b_level          14148 non-null  float64\n",
      " 81  secondary_cleaner.state.floatbank5_a_air            14148 non-null  float64\n",
      " 82  secondary_cleaner.state.floatbank5_a_level          14148 non-null  float64\n",
      " 83  secondary_cleaner.state.floatbank5_b_air            14148 non-null  float64\n",
      " 84  secondary_cleaner.state.floatbank5_b_level          14148 non-null  float64\n",
      " 85  secondary_cleaner.state.floatbank6_a_air            14147 non-null  float64\n",
      " 86  secondary_cleaner.state.floatbank6_a_level          14148 non-null  float64\n",
      "dtypes: float64(86), object(1)\n",
      "memory usage: 9.4+ MB\n",
      "None\n",
      "\n",
      "ПОИСК ДУБЛИКАТОВ\n",
      "0\n",
      "\n",
      "СТАТИСТИКИ\n",
      "       final.output.concentrate_ag  final.output.concentrate_pb  \\\n",
      "count                 14148.000000                 14148.000000   \n",
      "mean                      5.142034                    10.132960   \n",
      "std                       1.369586                     1.654930   \n",
      "min                       0.000000                     0.000000   \n",
      "25%                       4.211620                     9.297355   \n",
      "50%                       4.994652                    10.297144   \n",
      "75%                       5.859540                    11.170603   \n",
      "max                      16.001945                    17.031899   \n",
      "\n",
      "       final.output.concentrate_sol  final.output.concentrate_au  \\\n",
      "count                  13938.000000                 14149.000000   \n",
      "mean                       9.202849                    44.003792   \n",
      "std                        2.790516                     4.905261   \n",
      "min                        0.000000                     0.000000   \n",
      "25%                        7.484645                    43.276111   \n",
      "50%                        8.845462                    44.872436   \n",
      "75%                       10.487508                    46.166425   \n",
      "max                       18.124851                    52.756638   \n",
      "\n",
      "       final.output.recovery  final.output.tail_ag  final.output.tail_pb  \\\n",
      "count           14149.000000          14149.000000          14049.000000   \n",
      "mean               66.518832              9.607035              2.597298   \n",
      "std                10.295402              2.319069              0.971843   \n",
      "min                 0.000000              0.000000              0.000000   \n",
      "25%                62.545817              7.997429              1.905973   \n",
      "50%                67.432775              9.480270              2.592022   \n",
      "75%                72.346428             11.003707              3.241723   \n",
      "max               100.000000             19.552149              5.639565   \n",
      "\n",
      "       final.output.tail_sol  final.output.tail_au  \\\n",
      "count           14144.000000          14149.000000   \n",
      "mean               10.512122              2.918421   \n",
      "std                 3.003617              0.903712   \n",
      "min                 0.000000              0.000000   \n",
      "25%                 8.811324              2.368607   \n",
      "50%                10.514621              2.851025   \n",
      "75%                11.933009              3.434764   \n",
      "max                22.317730              8.197408   \n",
      "\n",
      "       primary_cleaner.input.sulfate  ...  \\\n",
      "count                   14129.000000  ...   \n",
      "mean                      133.320659  ...   \n",
      "std                        39.431659  ...   \n",
      "min                         0.003112  ...   \n",
      "25%                       107.006651  ...   \n",
      "50%                       133.018328  ...   \n",
      "75%                       159.825396  ...   \n",
      "max                       250.127834  ...   \n",
      "\n",
      "       secondary_cleaner.state.floatbank4_a_air  \\\n",
      "count                              14143.000000   \n",
      "mean                                  19.985454   \n",
      "std                                    5.657723   \n",
      "min                                    0.000000   \n",
      "25%                                   14.990775   \n",
      "50%                                   20.001789   \n",
      "75%                                   24.990826   \n",
      "max                                   30.115735   \n",
      "\n",
      "       secondary_cleaner.state.floatbank4_a_level  \\\n",
      "count                                14148.000000   \n",
      "mean                                  -478.696836   \n",
      "std                                     50.736021   \n",
      "min                                   -799.709069   \n",
      "25%                                   -500.628656   \n",
      "50%                                   -499.681450   \n",
      "75%                                   -477.472413   \n",
      "max                                   -245.239184   \n",
      "\n",
      "       secondary_cleaner.state.floatbank4_b_air  \\\n",
      "count                              14148.000000   \n",
      "mean                                  15.487065   \n",
      "std                                    5.255655   \n",
      "min                                    0.000000   \n",
      "25%                                   11.894558   \n",
      "50%                                   14.975536   \n",
      "75%                                   20.059375   \n",
      "max                                   24.007913   \n",
      "\n",
      "       secondary_cleaner.state.floatbank4_b_level  \\\n",
      "count                                14148.000000   \n",
      "mean                                  -460.229416   \n",
      "std                                     58.843586   \n",
      "min                                   -799.889113   \n",
      "25%                                   -500.149000   \n",
      "50%                                   -499.388738   \n",
      "75%                                   -400.039008   \n",
      "max                                   -145.071088   \n",
      "\n",
      "       secondary_cleaner.state.floatbank5_a_air  \\\n",
      "count                              14148.000000   \n",
      "mean                                  16.775136   \n",
      "std                                    5.831906   \n",
      "min                                   -0.372054   \n",
      "25%                                   11.083980   \n",
      "50%                                   17.932223   \n",
      "75%                                   21.346550   \n",
      "max                                   43.709931   \n",
      "\n",
      "       secondary_cleaner.state.floatbank5_a_level  \\\n",
      "count                                14148.000000   \n",
      "mean                                  -483.956022   \n",
      "std                                     37.892788   \n",
      "min                                   -797.142475   \n",
      "25%                                   -500.363177   \n",
      "50%                                   -499.702452   \n",
      "75%                                   -487.712108   \n",
      "max                                   -275.073125   \n",
      "\n",
      "       secondary_cleaner.state.floatbank5_b_air  \\\n",
      "count                              14148.000000   \n",
      "mean                                  13.064590   \n",
      "std                                    5.765617   \n",
      "min                                    0.646208   \n",
      "25%                                    8.994405   \n",
      "50%                                   11.997547   \n",
      "75%                                   17.982903   \n",
      "max                                   27.926001   \n",
      "\n",
      "       secondary_cleaner.state.floatbank5_b_level  \\\n",
      "count                                14148.000000   \n",
      "mean                                  -483.966564   \n",
      "std                                     39.207913   \n",
      "min                                   -800.006180   \n",
      "25%                                   -500.105994   \n",
      "50%                                   -499.914556   \n",
      "75%                                   -453.186936   \n",
      "max                                   -157.396071   \n",
      "\n",
      "       secondary_cleaner.state.floatbank6_a_air  \\\n",
      "count                              14147.000000   \n",
      "mean                                  19.577539   \n",
      "std                                    5.764417   \n",
      "min                                    0.195324   \n",
      "25%                                   14.989304   \n",
      "50%                                   19.984175   \n",
      "75%                                   24.991623   \n",
      "max                                   32.188906   \n",
      "\n",
      "       secondary_cleaner.state.floatbank6_a_level  \n",
      "count                                14148.000000  \n",
      "mean                                  -506.798480  \n",
      "std                                     37.079249  \n",
      "min                                   -809.398668  \n",
      "25%                                   -500.745104  \n",
      "50%                                   -500.061431  \n",
      "75%                                   -499.536466  \n",
      "max                                   -104.427459  \n",
      "\n",
      "[8 rows x 86 columns]\n",
      "ТАБЛИЦА КОРЕЛЯЦИИ\n",
      "\n",
      "                                            final.output.concentrate_ag  \\\n",
      "final.output.concentrate_ag                                    1.000000   \n",
      "final.output.concentrate_pb                                    0.021110   \n",
      "final.output.concentrate_sol                                   0.351985   \n",
      "final.output.concentrate_au                                   -0.104934   \n",
      "final.output.recovery                                          0.133238   \n",
      "...                                                                 ...   \n",
      "secondary_cleaner.state.floatbank5_a_level                     0.228753   \n",
      "secondary_cleaner.state.floatbank5_b_air                       0.021660   \n",
      "secondary_cleaner.state.floatbank5_b_level                     0.199048   \n",
      "secondary_cleaner.state.floatbank6_a_air                       0.170298   \n",
      "secondary_cleaner.state.floatbank6_a_level                     0.061009   \n",
      "\n",
      "                                            final.output.concentrate_pb  \\\n",
      "final.output.concentrate_ag                                    0.021110   \n",
      "final.output.concentrate_pb                                    1.000000   \n",
      "final.output.concentrate_sol                                  -0.008451   \n",
      "final.output.concentrate_au                                    0.320916   \n",
      "final.output.recovery                                          0.095000   \n",
      "...                                                                 ...   \n",
      "secondary_cleaner.state.floatbank5_a_level                    -0.096191   \n",
      "secondary_cleaner.state.floatbank5_b_air                       0.123765   \n",
      "secondary_cleaner.state.floatbank5_b_level                    -0.115190   \n",
      "secondary_cleaner.state.floatbank6_a_air                      -0.018740   \n",
      "secondary_cleaner.state.floatbank6_a_level                     0.075302   \n",
      "\n",
      "                                            final.output.concentrate_sol  \\\n",
      "final.output.concentrate_ag                                     0.351985   \n",
      "final.output.concentrate_pb                                    -0.008451   \n",
      "final.output.concentrate_sol                                    1.000000   \n",
      "final.output.concentrate_au                                     0.217363   \n",
      "final.output.recovery                                           0.249632   \n",
      "...                                                                  ...   \n",
      "secondary_cleaner.state.floatbank5_a_level                      0.246817   \n",
      "secondary_cleaner.state.floatbank5_b_air                        0.015942   \n",
      "secondary_cleaner.state.floatbank5_b_level                      0.234651   \n",
      "secondary_cleaner.state.floatbank6_a_air                        0.228520   \n",
      "secondary_cleaner.state.floatbank6_a_level                     -0.276807   \n",
      "\n",
      "                                            final.output.concentrate_au  \\\n",
      "final.output.concentrate_ag                                   -0.104934   \n",
      "final.output.concentrate_pb                                    0.320916   \n",
      "final.output.concentrate_sol                                   0.217363   \n",
      "final.output.concentrate_au                                    1.000000   \n",
      "final.output.recovery                                          0.253067   \n",
      "...                                                                 ...   \n",
      "secondary_cleaner.state.floatbank5_a_level                    -0.098015   \n",
      "secondary_cleaner.state.floatbank5_b_air                      -0.014616   \n",
      "secondary_cleaner.state.floatbank5_b_level                    -0.086371   \n",
      "secondary_cleaner.state.floatbank6_a_air                      -0.123644   \n",
      "secondary_cleaner.state.floatbank6_a_level                    -0.030628   \n",
      "\n",
      "                                            final.output.recovery  \\\n",
      "final.output.concentrate_ag                              0.133238   \n",
      "final.output.concentrate_pb                              0.095000   \n",
      "final.output.concentrate_sol                             0.249632   \n",
      "final.output.concentrate_au                              0.253067   \n",
      "final.output.recovery                                    1.000000   \n",
      "...                                                           ...   \n",
      "secondary_cleaner.state.floatbank5_a_level               0.024196   \n",
      "secondary_cleaner.state.floatbank5_b_air                 0.068331   \n",
      "secondary_cleaner.state.floatbank5_b_level               0.043838   \n",
      "secondary_cleaner.state.floatbank6_a_air                -0.027593   \n",
      "secondary_cleaner.state.floatbank6_a_level              -0.035658   \n",
      "\n",
      "                                            final.output.tail_ag  \\\n",
      "final.output.concentrate_ag                             0.289552   \n",
      "final.output.concentrate_pb                            -0.100616   \n",
      "final.output.concentrate_sol                            0.225460   \n",
      "final.output.concentrate_au                             0.079619   \n",
      "final.output.recovery                                   0.151610   \n",
      "...                                                          ...   \n",
      "secondary_cleaner.state.floatbank5_a_level             -0.008345   \n",
      "secondary_cleaner.state.floatbank5_b_air                0.008731   \n",
      "secondary_cleaner.state.floatbank5_b_level             -0.000398   \n",
      "secondary_cleaner.state.floatbank6_a_air               -0.103898   \n",
      "secondary_cleaner.state.floatbank6_a_level             -0.123110   \n",
      "\n",
      "                                            final.output.tail_pb  \\\n",
      "final.output.concentrate_ag                            -0.099818   \n",
      "final.output.concentrate_pb                             0.240650   \n",
      "final.output.concentrate_sol                            0.259185   \n",
      "final.output.concentrate_au                             0.067949   \n",
      "final.output.recovery                                  -0.151287   \n",
      "...                                                          ...   \n",
      "secondary_cleaner.state.floatbank5_a_level              0.066600   \n",
      "secondary_cleaner.state.floatbank5_b_air                0.216899   \n",
      "secondary_cleaner.state.floatbank5_b_level              0.075721   \n",
      "secondary_cleaner.state.floatbank6_a_air                0.072273   \n",
      "secondary_cleaner.state.floatbank6_a_level             -0.183759   \n",
      "\n",
      "                                            final.output.tail_sol  \\\n",
      "final.output.concentrate_ag                              0.045896   \n",
      "final.output.concentrate_pb                              0.068287   \n",
      "final.output.concentrate_sol                            -0.023407   \n",
      "final.output.concentrate_au                              0.098396   \n",
      "final.output.recovery                                   -0.088242   \n",
      "...                                                           ...   \n",
      "secondary_cleaner.state.floatbank5_a_level              -0.085835   \n",
      "secondary_cleaner.state.floatbank5_b_air                -0.133159   \n",
      "secondary_cleaner.state.floatbank5_b_level              -0.104591   \n",
      "secondary_cleaner.state.floatbank6_a_air                 0.001968   \n",
      "secondary_cleaner.state.floatbank6_a_level               0.016933   \n",
      "\n",
      "                                            final.output.tail_au  \\\n",
      "final.output.concentrate_ag                             0.193935   \n",
      "final.output.concentrate_pb                             0.029186   \n",
      "final.output.concentrate_sol                            0.244294   \n",
      "final.output.concentrate_au                            -0.070600   \n",
      "final.output.recovery                                  -0.435553   \n",
      "...                                                          ...   \n",
      "secondary_cleaner.state.floatbank5_a_level              0.116366   \n",
      "secondary_cleaner.state.floatbank5_b_air               -0.104743   \n",
      "secondary_cleaner.state.floatbank5_b_level              0.101261   \n",
      "secondary_cleaner.state.floatbank6_a_air                0.068385   \n",
      "secondary_cleaner.state.floatbank6_a_level             -0.107111   \n",
      "\n",
      "                                            primary_cleaner.input.sulfate  \\\n",
      "final.output.concentrate_ag                                      0.015923   \n",
      "final.output.concentrate_pb                                      0.124170   \n",
      "final.output.concentrate_sol                                     0.343058   \n",
      "final.output.concentrate_au                                      0.108014   \n",
      "final.output.recovery                                            0.398307   \n",
      "...                                                                   ...   \n",
      "secondary_cleaner.state.floatbank5_a_level                      -0.031146   \n",
      "secondary_cleaner.state.floatbank5_b_air                        -0.000789   \n",
      "secondary_cleaner.state.floatbank5_b_level                      -0.022692   \n",
      "secondary_cleaner.state.floatbank6_a_air                        -0.106076   \n",
      "secondary_cleaner.state.floatbank6_a_level                      -0.141741   \n",
      "\n",
      "                                            ...  \\\n",
      "final.output.concentrate_ag                 ...   \n",
      "final.output.concentrate_pb                 ...   \n",
      "final.output.concentrate_sol                ...   \n",
      "final.output.concentrate_au                 ...   \n",
      "final.output.recovery                       ...   \n",
      "...                                         ...   \n",
      "secondary_cleaner.state.floatbank5_a_level  ...   \n",
      "secondary_cleaner.state.floatbank5_b_air    ...   \n",
      "secondary_cleaner.state.floatbank5_b_level  ...   \n",
      "secondary_cleaner.state.floatbank6_a_air    ...   \n",
      "secondary_cleaner.state.floatbank6_a_level  ...   \n",
      "\n",
      "                                            secondary_cleaner.state.floatbank4_a_air  \\\n",
      "final.output.concentrate_ag                                                 0.041765   \n",
      "final.output.concentrate_pb                                                -0.001365   \n",
      "final.output.concentrate_sol                                               -0.007337   \n",
      "final.output.concentrate_au                                                 0.035814   \n",
      "final.output.recovery                                                       0.207745   \n",
      "...                                                                              ...   \n",
      "secondary_cleaner.state.floatbank5_a_level                                  0.105263   \n",
      "secondary_cleaner.state.floatbank5_b_air                                    0.723039   \n",
      "secondary_cleaner.state.floatbank5_b_level                                  0.110727   \n",
      "secondary_cleaner.state.floatbank6_a_air                                    0.205628   \n",
      "secondary_cleaner.state.floatbank6_a_level                                 -0.001757   \n",
      "\n",
      "                                            secondary_cleaner.state.floatbank4_a_level  \\\n",
      "final.output.concentrate_ag                                                   0.169538   \n",
      "final.output.concentrate_pb                                                  -0.035219   \n",
      "final.output.concentrate_sol                                                  0.268279   \n",
      "final.output.concentrate_au                                                  -0.042100   \n",
      "final.output.recovery                                                         0.057454   \n",
      "...                                                                                ...   \n",
      "secondary_cleaner.state.floatbank5_a_level                                    0.790037   \n",
      "secondary_cleaner.state.floatbank5_b_air                                      0.244762   \n",
      "secondary_cleaner.state.floatbank5_b_level                                    0.747276   \n",
      "secondary_cleaner.state.floatbank6_a_air                                      0.566670   \n",
      "secondary_cleaner.state.floatbank6_a_level                                    0.256956   \n",
      "\n",
      "                                            secondary_cleaner.state.floatbank4_b_air  \\\n",
      "final.output.concentrate_ag                                                 0.020832   \n",
      "final.output.concentrate_pb                                                 0.092632   \n",
      "final.output.concentrate_sol                                                0.032091   \n",
      "final.output.concentrate_au                                                 0.002307   \n",
      "final.output.recovery                                                       0.170838   \n",
      "...                                                                              ...   \n",
      "secondary_cleaner.state.floatbank5_a_level                                  0.013033   \n",
      "secondary_cleaner.state.floatbank5_b_air                                    0.878027   \n",
      "secondary_cleaner.state.floatbank5_b_level                                  0.035808   \n",
      "secondary_cleaner.state.floatbank6_a_air                                    0.311765   \n",
      "secondary_cleaner.state.floatbank6_a_level                                 -0.108201   \n",
      "\n",
      "                                            secondary_cleaner.state.floatbank4_b_level  \\\n",
      "final.output.concentrate_ag                                                   0.005319   \n",
      "final.output.concentrate_pb                                                   0.069315   \n",
      "final.output.concentrate_sol                                                  0.134591   \n",
      "final.output.concentrate_au                                                  -0.011165   \n",
      "final.output.recovery                                                        -0.088934   \n",
      "...                                                                                ...   \n",
      "secondary_cleaner.state.floatbank5_a_level                                    0.554604   \n",
      "secondary_cleaner.state.floatbank5_b_air                                      0.153923   \n",
      "secondary_cleaner.state.floatbank5_b_level                                    0.515643   \n",
      "secondary_cleaner.state.floatbank6_a_air                                      0.271796   \n",
      "secondary_cleaner.state.floatbank6_a_level                                    0.281287   \n",
      "\n",
      "                                            secondary_cleaner.state.floatbank5_a_air  \\\n",
      "final.output.concentrate_ag                                                 0.013019   \n",
      "final.output.concentrate_pb                                                 0.095147   \n",
      "final.output.concentrate_sol                                                0.031137   \n",
      "final.output.concentrate_au                                                 0.005808   \n",
      "final.output.recovery                                                       0.098267   \n",
      "...                                                                              ...   \n",
      "secondary_cleaner.state.floatbank5_a_level                                  0.083423   \n",
      "secondary_cleaner.state.floatbank5_b_air                                    0.892482   \n",
      "secondary_cleaner.state.floatbank5_b_level                                  0.100697   \n",
      "secondary_cleaner.state.floatbank6_a_air                                    0.440929   \n",
      "secondary_cleaner.state.floatbank6_a_level                                 -0.003063   \n",
      "\n",
      "                                            secondary_cleaner.state.floatbank5_a_level  \\\n",
      "final.output.concentrate_ag                                                   0.228753   \n",
      "final.output.concentrate_pb                                                  -0.096191   \n",
      "final.output.concentrate_sol                                                  0.246817   \n",
      "final.output.concentrate_au                                                  -0.098015   \n",
      "final.output.recovery                                                         0.024196   \n",
      "...                                                                                ...   \n",
      "secondary_cleaner.state.floatbank5_a_level                                    1.000000   \n",
      "secondary_cleaner.state.floatbank5_b_air                                      0.036557   \n",
      "secondary_cleaner.state.floatbank5_b_level                                    0.884422   \n",
      "secondary_cleaner.state.floatbank6_a_air                                      0.512286   \n",
      "secondary_cleaner.state.floatbank6_a_level                                    0.379832   \n",
      "\n",
      "                                            secondary_cleaner.state.floatbank5_b_air  \\\n",
      "final.output.concentrate_ag                                                 0.021660   \n",
      "final.output.concentrate_pb                                                 0.123765   \n",
      "final.output.concentrate_sol                                                0.015942   \n",
      "final.output.concentrate_au                                                -0.014616   \n",
      "final.output.recovery                                                       0.068331   \n",
      "...                                                                              ...   \n",
      "secondary_cleaner.state.floatbank5_a_level                                  0.036557   \n",
      "secondary_cleaner.state.floatbank5_b_air                                    1.000000   \n",
      "secondary_cleaner.state.floatbank5_b_level                                  0.046352   \n",
      "secondary_cleaner.state.floatbank6_a_air                                    0.474619   \n",
      "secondary_cleaner.state.floatbank6_a_level                                 -0.025908   \n",
      "\n",
      "                                            secondary_cleaner.state.floatbank5_b_level  \\\n",
      "final.output.concentrate_ag                                                   0.199048   \n",
      "final.output.concentrate_pb                                                  -0.115190   \n",
      "final.output.concentrate_sol                                                  0.234651   \n",
      "final.output.concentrate_au                                                  -0.086371   \n",
      "final.output.recovery                                                         0.043838   \n",
      "...                                                                                ...   \n",
      "secondary_cleaner.state.floatbank5_a_level                                    0.884422   \n",
      "secondary_cleaner.state.floatbank5_b_air                                      0.046352   \n",
      "secondary_cleaner.state.floatbank5_b_level                                    1.000000   \n",
      "secondary_cleaner.state.floatbank6_a_air                                      0.493110   \n",
      "secondary_cleaner.state.floatbank6_a_level                                    0.342094   \n",
      "\n",
      "                                            secondary_cleaner.state.floatbank6_a_air  \\\n",
      "final.output.concentrate_ag                                                 0.170298   \n",
      "final.output.concentrate_pb                                                -0.018740   \n",
      "final.output.concentrate_sol                                                0.228520   \n",
      "final.output.concentrate_au                                                -0.123644   \n",
      "final.output.recovery                                                      -0.027593   \n",
      "...                                                                              ...   \n",
      "secondary_cleaner.state.floatbank5_a_level                                  0.512286   \n",
      "secondary_cleaner.state.floatbank5_b_air                                    0.474619   \n",
      "secondary_cleaner.state.floatbank5_b_level                                  0.493110   \n",
      "secondary_cleaner.state.floatbank6_a_air                                    1.000000   \n",
      "secondary_cleaner.state.floatbank6_a_level                                  0.098643   \n",
      "\n",
      "                                            secondary_cleaner.state.floatbank6_a_level  \n",
      "final.output.concentrate_ag                                                   0.061009  \n",
      "final.output.concentrate_pb                                                   0.075302  \n",
      "final.output.concentrate_sol                                                 -0.276807  \n",
      "final.output.concentrate_au                                                  -0.030628  \n",
      "final.output.recovery                                                        -0.035658  \n",
      "...                                                                                ...  \n",
      "secondary_cleaner.state.floatbank5_a_level                                    0.379832  \n",
      "secondary_cleaner.state.floatbank5_b_air                                     -0.025908  \n",
      "secondary_cleaner.state.floatbank5_b_level                                    0.342094  \n",
      "secondary_cleaner.state.floatbank6_a_air                                      0.098643  \n",
      "secondary_cleaner.state.floatbank6_a_level                                    1.000000  \n",
      "\n",
      "[86 rows x 86 columns]\n",
      "\n"
     ]
    }
   ],
   "source": [
    "info_df(train)"
   ]
  },
  {
   "cell_type": "code",
   "execution_count": 5,
   "metadata": {},
   "outputs": [
    {
     "name": "stdout",
     "output_type": "stream",
     "text": [
      "первые пять строк датасета\n",
      "                  date  primary_cleaner.input.sulfate  \\\n",
      "0  2016-09-01 00:59:59                     210.800909   \n",
      "1  2016-09-01 01:59:59                     215.392455   \n",
      "2  2016-09-01 02:59:59                     215.259946   \n",
      "3  2016-09-01 03:59:59                     215.336236   \n",
      "4  2016-09-01 04:59:59                     199.099327   \n",
      "\n",
      "   primary_cleaner.input.depressant  primary_cleaner.input.feed_size  \\\n",
      "0                         14.993118                         8.080000   \n",
      "1                         14.987471                         8.080000   \n",
      "2                         12.884934                         7.786667   \n",
      "3                         12.006805                         7.640000   \n",
      "4                         10.682530                         7.530000   \n",
      "\n",
      "   primary_cleaner.input.xanthate  primary_cleaner.state.floatbank8_a_air  \\\n",
      "0                        1.005021                             1398.981301   \n",
      "1                        0.990469                             1398.777912   \n",
      "2                        0.996043                             1398.493666   \n",
      "3                        0.863514                             1399.618111   \n",
      "4                        0.805575                             1401.268123   \n",
      "\n",
      "   primary_cleaner.state.floatbank8_a_level  \\\n",
      "0                               -500.225577   \n",
      "1                               -500.057435   \n",
      "2                               -500.868360   \n",
      "3                               -498.863574   \n",
      "4                               -500.808305   \n",
      "\n",
      "   primary_cleaner.state.floatbank8_b_air  \\\n",
      "0                             1399.144926   \n",
      "1                             1398.055362   \n",
      "2                             1398.860436   \n",
      "3                             1397.440120   \n",
      "4                             1398.128818   \n",
      "\n",
      "   primary_cleaner.state.floatbank8_b_level  \\\n",
      "0                               -499.919735   \n",
      "1                               -499.778182   \n",
      "2                               -499.764529   \n",
      "3                               -499.211024   \n",
      "4                               -499.504543   \n",
      "\n",
      "   primary_cleaner.state.floatbank8_c_air  ...  \\\n",
      "0                             1400.102998  ...   \n",
      "1                             1396.151033  ...   \n",
      "2                             1398.075709  ...   \n",
      "3                             1400.129303  ...   \n",
      "4                             1402.172226  ...   \n",
      "\n",
      "   secondary_cleaner.state.floatbank4_a_air  \\\n",
      "0                                 12.023554   \n",
      "1                                 12.058140   \n",
      "2                                 11.962366   \n",
      "3                                 12.033091   \n",
      "4                                 12.025367   \n",
      "\n",
      "   secondary_cleaner.state.floatbank4_a_level  \\\n",
      "0                                 -497.795834   \n",
      "1                                 -498.695773   \n",
      "2                                 -498.767484   \n",
      "3                                 -498.350935   \n",
      "4                                 -500.786497   \n",
      "\n",
      "   secondary_cleaner.state.floatbank4_b_air  \\\n",
      "0                                  8.016656   \n",
      "1                                  8.130979   \n",
      "2                                  8.096893   \n",
      "3                                  8.074946   \n",
      "4                                  8.054678   \n",
      "\n",
      "   secondary_cleaner.state.floatbank4_b_level  \\\n",
      "0                                 -501.289139   \n",
      "1                                 -499.634209   \n",
      "2                                 -500.827423   \n",
      "3                                 -499.474407   \n",
      "4                                 -500.397500   \n",
      "\n",
      "   secondary_cleaner.state.floatbank5_a_air  \\\n",
      "0                                  7.946562   \n",
      "1                                  7.958270   \n",
      "2                                  8.071056   \n",
      "3                                  7.897085   \n",
      "4                                  8.107890   \n",
      "\n",
      "   secondary_cleaner.state.floatbank5_a_level  \\\n",
      "0                                 -432.317850   \n",
      "1                                 -525.839648   \n",
      "2                                 -500.801673   \n",
      "3                                 -500.868509   \n",
      "4                                 -509.526725   \n",
      "\n",
      "   secondary_cleaner.state.floatbank5_b_air  \\\n",
      "0                                  4.872511   \n",
      "1                                  4.878850   \n",
      "2                                  4.905125   \n",
      "3                                  4.931400   \n",
      "4                                  4.957674   \n",
      "\n",
      "   secondary_cleaner.state.floatbank5_b_level  \\\n",
      "0                                 -500.037437   \n",
      "1                                 -500.162375   \n",
      "2                                 -499.828510   \n",
      "3                                 -499.963623   \n",
      "4                                 -500.360026   \n",
      "\n",
      "   secondary_cleaner.state.floatbank6_a_air  \\\n",
      "0                                 26.705889   \n",
      "1                                 25.019940   \n",
      "2                                 24.994862   \n",
      "3                                 24.948919   \n",
      "4                                 25.003331   \n",
      "\n",
      "   secondary_cleaner.state.floatbank6_a_level  \n",
      "0                                 -499.709414  \n",
      "1                                 -499.819438  \n",
      "2                                 -500.622559  \n",
      "3                                 -498.709987  \n",
      "4                                 -500.856333  \n",
      "\n",
      "[5 rows x 53 columns]\n",
      "\n",
      "СВОДНАЯ ИНФОРМАЦИЯ\n",
      "<class 'pandas.core.frame.DataFrame'>\n",
      "RangeIndex: 5290 entries, 0 to 5289\n",
      "Data columns (total 53 columns):\n",
      " #   Column                                      Non-Null Count  Dtype  \n",
      "---  ------                                      --------------  -----  \n",
      " 0   date                                        5290 non-null   object \n",
      " 1   primary_cleaner.input.sulfate               5286 non-null   float64\n",
      " 2   primary_cleaner.input.depressant            5285 non-null   float64\n",
      " 3   primary_cleaner.input.feed_size             5290 non-null   float64\n",
      " 4   primary_cleaner.input.xanthate              5286 non-null   float64\n",
      " 5   primary_cleaner.state.floatbank8_a_air      5290 non-null   float64\n",
      " 6   primary_cleaner.state.floatbank8_a_level    5290 non-null   float64\n",
      " 7   primary_cleaner.state.floatbank8_b_air      5290 non-null   float64\n",
      " 8   primary_cleaner.state.floatbank8_b_level    5290 non-null   float64\n",
      " 9   primary_cleaner.state.floatbank8_c_air      5290 non-null   float64\n",
      " 10  primary_cleaner.state.floatbank8_c_level    5290 non-null   float64\n",
      " 11  primary_cleaner.state.floatbank8_d_air      5290 non-null   float64\n",
      " 12  primary_cleaner.state.floatbank8_d_level    5290 non-null   float64\n",
      " 13  rougher.input.feed_ag                       5290 non-null   float64\n",
      " 14  rougher.input.feed_pb                       5290 non-null   float64\n",
      " 15  rougher.input.feed_rate                     5287 non-null   float64\n",
      " 16  rougher.input.feed_size                     5289 non-null   float64\n",
      " 17  rougher.input.feed_sol                      5269 non-null   float64\n",
      " 18  rougher.input.feed_au                       5290 non-null   float64\n",
      " 19  rougher.input.floatbank10_sulfate           5285 non-null   float64\n",
      " 20  rougher.input.floatbank10_xanthate          5290 non-null   float64\n",
      " 21  rougher.input.floatbank11_sulfate           5282 non-null   float64\n",
      " 22  rougher.input.floatbank11_xanthate          5265 non-null   float64\n",
      " 23  rougher.state.floatbank10_a_air             5290 non-null   float64\n",
      " 24  rougher.state.floatbank10_a_level           5290 non-null   float64\n",
      " 25  rougher.state.floatbank10_b_air             5290 non-null   float64\n",
      " 26  rougher.state.floatbank10_b_level           5290 non-null   float64\n",
      " 27  rougher.state.floatbank10_c_air             5290 non-null   float64\n",
      " 28  rougher.state.floatbank10_c_level           5290 non-null   float64\n",
      " 29  rougher.state.floatbank10_d_air             5290 non-null   float64\n",
      " 30  rougher.state.floatbank10_d_level           5290 non-null   float64\n",
      " 31  rougher.state.floatbank10_e_air             5290 non-null   float64\n",
      " 32  rougher.state.floatbank10_e_level           5290 non-null   float64\n",
      " 33  rougher.state.floatbank10_f_air             5290 non-null   float64\n",
      " 34  rougher.state.floatbank10_f_level           5290 non-null   float64\n",
      " 35  secondary_cleaner.state.floatbank2_a_air    5287 non-null   float64\n",
      " 36  secondary_cleaner.state.floatbank2_a_level  5290 non-null   float64\n",
      " 37  secondary_cleaner.state.floatbank2_b_air    5288 non-null   float64\n",
      " 38  secondary_cleaner.state.floatbank2_b_level  5290 non-null   float64\n",
      " 39  secondary_cleaner.state.floatbank3_a_air    5281 non-null   float64\n",
      " 40  secondary_cleaner.state.floatbank3_a_level  5290 non-null   float64\n",
      " 41  secondary_cleaner.state.floatbank3_b_air    5290 non-null   float64\n",
      " 42  secondary_cleaner.state.floatbank3_b_level  5290 non-null   float64\n",
      " 43  secondary_cleaner.state.floatbank4_a_air    5290 non-null   float64\n",
      " 44  secondary_cleaner.state.floatbank4_a_level  5290 non-null   float64\n",
      " 45  secondary_cleaner.state.floatbank4_b_air    5290 non-null   float64\n",
      " 46  secondary_cleaner.state.floatbank4_b_level  5290 non-null   float64\n",
      " 47  secondary_cleaner.state.floatbank5_a_air    5290 non-null   float64\n",
      " 48  secondary_cleaner.state.floatbank5_a_level  5290 non-null   float64\n",
      " 49  secondary_cleaner.state.floatbank5_b_air    5290 non-null   float64\n",
      " 50  secondary_cleaner.state.floatbank5_b_level  5290 non-null   float64\n",
      " 51  secondary_cleaner.state.floatbank6_a_air    5290 non-null   float64\n",
      " 52  secondary_cleaner.state.floatbank6_a_level  5290 non-null   float64\n",
      "dtypes: float64(52), object(1)\n",
      "memory usage: 2.1+ MB\n",
      "None\n",
      "\n",
      "ПОИСК ДУБЛИКАТОВ\n",
      "0\n",
      "\n",
      "СТАТИСТИКИ\n",
      "       primary_cleaner.input.sulfate  primary_cleaner.input.depressant  \\\n",
      "count                    5286.000000                       5285.000000   \n",
      "mean                      174.839652                          8.683596   \n",
      "std                        43.027080                          3.072050   \n",
      "min                         2.566156                          0.003839   \n",
      "25%                       147.121401                          6.489555   \n",
      "50%                       177.828489                          8.052207   \n",
      "75%                       208.125438                         10.027764   \n",
      "max                       265.983123                         40.000000   \n",
      "\n",
      "       primary_cleaner.input.feed_size  primary_cleaner.input.xanthate  \\\n",
      "count                      5290.000000                     5286.000000   \n",
      "mean                          7.266339                        1.383803   \n",
      "std                           0.610219                        0.643474   \n",
      "min                           5.650000                        0.004984   \n",
      "25%                           6.890000                        0.907623   \n",
      "50%                           7.250000                        1.197610   \n",
      "75%                           7.600000                        1.797819   \n",
      "max                          15.500000                        4.102454   \n",
      "\n",
      "       primary_cleaner.state.floatbank8_a_air  \\\n",
      "count                            5.290000e+03   \n",
      "mean                             1.539494e+03   \n",
      "std                              1.167979e+02   \n",
      "min                              5.445860e-32   \n",
      "25%                              1.498936e+03   \n",
      "50%                              1.585129e+03   \n",
      "75%                              1.602077e+03   \n",
      "max                              2.103104e+03   \n",
      "\n",
      "       primary_cleaner.state.floatbank8_a_level  \\\n",
      "count                               5290.000000   \n",
      "mean                                -497.665883   \n",
      "std                                   19.952431   \n",
      "min                                 -795.316337   \n",
      "25%                                 -500.357298   \n",
      "50%                                 -499.969164   \n",
      "75%                                 -499.568951   \n",
      "max                                  -57.195404   \n",
      "\n",
      "       primary_cleaner.state.floatbank8_b_air  \\\n",
      "count                            5.290000e+03   \n",
      "mean                             1.545174e+03   \n",
      "std                              1.222246e+02   \n",
      "min                              6.647490e-32   \n",
      "25%                              1.498971e+03   \n",
      "50%                              1.595622e+03   \n",
      "75%                              1.602324e+03   \n",
      "max                              1.813084e+03   \n",
      "\n",
      "       primary_cleaner.state.floatbank8_b_level  \\\n",
      "count                               5290.000000   \n",
      "mean                                -500.273098   \n",
      "std                                   32.968307   \n",
      "min                                 -799.997015   \n",
      "25%                                 -500.703002   \n",
      "50%                                 -500.028514   \n",
      "75%                                 -499.293257   \n",
      "max                                 -142.527229   \n",
      "\n",
      "       primary_cleaner.state.floatbank8_c_air  \\\n",
      "count                            5.290000e+03   \n",
      "mean                             1.527272e+03   \n",
      "std                              1.225380e+02   \n",
      "min                              4.033736e-32   \n",
      "25%                              1.473230e+03   \n",
      "50%                              1.549595e+03   \n",
      "75%                              1.601144e+03   \n",
      "max                              1.715054e+03   \n",
      "\n",
      "       primary_cleaner.state.floatbank8_c_level  ...  \\\n",
      "count                               5290.000000  ...   \n",
      "mean                                -498.330680  ...   \n",
      "std                                   21.964876  ...   \n",
      "min                                 -799.960571  ...   \n",
      "25%                                 -501.018117  ...   \n",
      "50%                                 -500.017711  ...   \n",
      "75%                                 -498.994130  ...   \n",
      "max                                 -150.937035  ...   \n",
      "\n",
      "       secondary_cleaner.state.floatbank4_a_air  \\\n",
      "count                              5.290000e+03   \n",
      "mean                               1.632007e+01   \n",
      "std                                3.493583e+00   \n",
      "min                                1.079872e-16   \n",
      "25%                                1.403618e+01   \n",
      "50%                                1.700847e+01   \n",
      "75%                                1.803862e+01   \n",
      "max                                3.005180e+01   \n",
      "\n",
      "       secondary_cleaner.state.floatbank4_a_level  \\\n",
      "count                                 5290.000000   \n",
      "mean                                  -505.144570   \n",
      "std                                     31.427337   \n",
      "min                                   -799.798523   \n",
      "25%                                   -500.868258   \n",
      "50%                                   -500.115727   \n",
      "75%                                   -499.404224   \n",
      "max                                   -401.565212   \n",
      "\n",
      "       secondary_cleaner.state.floatbank4_b_air  \\\n",
      "count                              5.290000e+03   \n",
      "mean                               1.373544e+01   \n",
      "std                                3.430484e+00   \n",
      "min                                2.489718e-17   \n",
      "25%                                1.202862e+01   \n",
      "50%                                1.496486e+01   \n",
      "75%                                1.596213e+01   \n",
      "max                                3.126971e+01   \n",
      "\n",
      "       secondary_cleaner.state.floatbank4_b_level  \\\n",
      "count                                 5290.000000   \n",
      "mean                                  -463.349858   \n",
      "std                                     86.189107   \n",
      "min                                   -800.836914   \n",
      "25%                                   -500.323028   \n",
      "50%                                   -499.576513   \n",
      "75%                                   -400.933805   \n",
      "max                                     -6.506986   \n",
      "\n",
      "       secondary_cleaner.state.floatbank5_a_air  \\\n",
      "count                               5290.000000   \n",
      "mean                                  12.804186   \n",
      "std                                    3.026591   \n",
      "min                                    0.069227   \n",
      "25%                                   10.914838   \n",
      "50%                                   12.954182   \n",
      "75%                                   15.097528   \n",
      "max                                   25.258848   \n",
      "\n",
      "       secondary_cleaner.state.floatbank5_a_level  \\\n",
      "count                                 5290.000000   \n",
      "mean                                  -501.329122   \n",
      "std                                     17.951495   \n",
      "min                                   -797.323986   \n",
      "25%                                   -500.726841   \n",
      "50%                                   -499.990332   \n",
      "75%                                   -499.283191   \n",
      "max                                   -244.483566   \n",
      "\n",
      "       secondary_cleaner.state.floatbank5_b_air  \\\n",
      "count                               5290.000000   \n",
      "mean                                   9.881145   \n",
      "std                                    2.868205   \n",
      "min                                    0.528083   \n",
      "25%                                    8.036719   \n",
      "50%                                   10.004301   \n",
      "75%                                   11.997467   \n",
      "max                                   14.086866   \n",
      "\n",
      "       secondary_cleaner.state.floatbank5_b_level  \\\n",
      "count                                 5290.000000   \n",
      "mean                                  -495.663398   \n",
      "std                                     34.535007   \n",
      "min                                   -800.220337   \n",
      "25%                                   -500.194668   \n",
      "50%                                   -499.990535   \n",
      "75%                                   -499.719913   \n",
      "max                                   -137.740004   \n",
      "\n",
      "       secondary_cleaner.state.floatbank6_a_air  \\\n",
      "count                               5290.000000   \n",
      "mean                                  17.304935   \n",
      "std                                    4.536544   \n",
      "min                                   -0.079426   \n",
      "25%                                   13.997317   \n",
      "50%                                   16.014935   \n",
      "75%                                   21.020013   \n",
      "max                                   26.705889   \n",
      "\n",
      "       secondary_cleaner.state.floatbank6_a_level  \n",
      "count                                 5290.000000  \n",
      "mean                                  -501.793193  \n",
      "std                                     39.044215  \n",
      "min                                   -809.741464  \n",
      "25%                                   -500.690984  \n",
      "50%                                   -500.007126  \n",
      "75%                                   -499.373018  \n",
      "max                                   -123.307487  \n",
      "\n",
      "[8 rows x 52 columns]\n",
      "ТАБЛИЦА КОРЕЛЯЦИИ\n",
      "\n",
      "                                            primary_cleaner.input.sulfate  \\\n",
      "primary_cleaner.input.sulfate                                    1.000000   \n",
      "primary_cleaner.input.depressant                                 0.455718   \n",
      "primary_cleaner.input.feed_size                                  0.114456   \n",
      "primary_cleaner.input.xanthate                                   0.497568   \n",
      "primary_cleaner.state.floatbank8_a_air                           0.102653   \n",
      "primary_cleaner.state.floatbank8_a_level                         0.048032   \n",
      "primary_cleaner.state.floatbank8_b_air                           0.075737   \n",
      "primary_cleaner.state.floatbank8_b_level                         0.138949   \n",
      "primary_cleaner.state.floatbank8_c_air                           0.024710   \n",
      "primary_cleaner.state.floatbank8_c_level                         0.027697   \n",
      "primary_cleaner.state.floatbank8_d_air                           0.095001   \n",
      "primary_cleaner.state.floatbank8_d_level                        -0.020533   \n",
      "rougher.input.feed_ag                                            0.359619   \n",
      "rougher.input.feed_pb                                            0.428382   \n",
      "rougher.input.feed_rate                                          0.464251   \n",
      "rougher.input.feed_size                                         -0.009796   \n",
      "rougher.input.feed_sol                                           0.423859   \n",
      "rougher.input.feed_au                                            0.437016   \n",
      "rougher.input.floatbank10_sulfate                                0.617768   \n",
      "rougher.input.floatbank10_xanthate                               0.557307   \n",
      "rougher.input.floatbank11_sulfate                                0.583022   \n",
      "rougher.input.floatbank11_xanthate                               0.527014   \n",
      "rougher.state.floatbank10_a_air                                  0.236898   \n",
      "rougher.state.floatbank10_a_level                                0.222913   \n",
      "rougher.state.floatbank10_b_air                                 -0.230670   \n",
      "rougher.state.floatbank10_b_level                               -0.047665   \n",
      "rougher.state.floatbank10_c_air                                 -0.247043   \n",
      "rougher.state.floatbank10_c_level                               -0.051896   \n",
      "rougher.state.floatbank10_d_air                                 -0.247163   \n",
      "rougher.state.floatbank10_d_level                               -0.016032   \n",
      "rougher.state.floatbank10_e_air                                 -0.234958   \n",
      "rougher.state.floatbank10_e_level                               -0.120379   \n",
      "rougher.state.floatbank10_f_air                                 -0.250187   \n",
      "rougher.state.floatbank10_f_level                               -0.063497   \n",
      "secondary_cleaner.state.floatbank2_a_air                         0.051989   \n",
      "secondary_cleaner.state.floatbank2_a_level                      -0.039145   \n",
      "secondary_cleaner.state.floatbank2_b_air                         0.254702   \n",
      "secondary_cleaner.state.floatbank2_b_level                      -0.011921   \n",
      "secondary_cleaner.state.floatbank3_a_air                         0.136986   \n",
      "secondary_cleaner.state.floatbank3_a_level                       0.003869   \n",
      "secondary_cleaner.state.floatbank3_b_air                         0.148037   \n",
      "secondary_cleaner.state.floatbank3_b_level                       0.020303   \n",
      "secondary_cleaner.state.floatbank4_a_air                         0.305793   \n",
      "secondary_cleaner.state.floatbank4_a_level                       0.117976   \n",
      "secondary_cleaner.state.floatbank4_b_air                         0.348395   \n",
      "secondary_cleaner.state.floatbank4_b_level                       0.068693   \n",
      "secondary_cleaner.state.floatbank5_a_air                         0.093608   \n",
      "secondary_cleaner.state.floatbank5_a_level                       0.132193   \n",
      "secondary_cleaner.state.floatbank5_b_air                         0.156583   \n",
      "secondary_cleaner.state.floatbank5_b_level                       0.072618   \n",
      "secondary_cleaner.state.floatbank6_a_air                        -0.134499   \n",
      "secondary_cleaner.state.floatbank6_a_level                       0.033945   \n",
      "\n",
      "                                            primary_cleaner.input.depressant  \\\n",
      "primary_cleaner.input.sulfate                                       0.455718   \n",
      "primary_cleaner.input.depressant                                    1.000000   \n",
      "primary_cleaner.input.feed_size                                     0.215703   \n",
      "primary_cleaner.input.xanthate                                      0.150760   \n",
      "primary_cleaner.state.floatbank8_a_air                              0.144443   \n",
      "primary_cleaner.state.floatbank8_a_level                            0.242592   \n",
      "primary_cleaner.state.floatbank8_b_air                              0.148658   \n",
      "primary_cleaner.state.floatbank8_b_level                            0.201499   \n",
      "primary_cleaner.state.floatbank8_c_air                              0.036655   \n",
      "primary_cleaner.state.floatbank8_c_level                            0.207632   \n",
      "primary_cleaner.state.floatbank8_d_air                              0.141651   \n",
      "primary_cleaner.state.floatbank8_d_level                            0.082802   \n",
      "rougher.input.feed_ag                                               0.497866   \n",
      "rougher.input.feed_pb                                               0.465961   \n",
      "rougher.input.feed_rate                                             0.132437   \n",
      "rougher.input.feed_size                                             0.004431   \n",
      "rougher.input.feed_sol                                              0.169735   \n",
      "rougher.input.feed_au                                               0.460965   \n",
      "rougher.input.floatbank10_sulfate                                   0.240528   \n",
      "rougher.input.floatbank10_xanthate                                  0.347558   \n",
      "rougher.input.floatbank11_sulfate                                   0.208050   \n",
      "rougher.input.floatbank11_xanthate                                  0.361123   \n",
      "rougher.state.floatbank10_a_air                                     0.422574   \n",
      "rougher.state.floatbank10_a_level                                   0.133122   \n",
      "rougher.state.floatbank10_b_air                                    -0.355519   \n",
      "rougher.state.floatbank10_b_level                                  -0.112394   \n",
      "rougher.state.floatbank10_c_air                                    -0.366098   \n",
      "rougher.state.floatbank10_c_level                                  -0.102649   \n",
      "rougher.state.floatbank10_d_air                                    -0.346803   \n",
      "rougher.state.floatbank10_d_level                                  -0.079246   \n",
      "rougher.state.floatbank10_e_air                                    -0.361011   \n",
      "rougher.state.floatbank10_e_level                                  -0.129417   \n",
      "rougher.state.floatbank10_f_air                                    -0.376446   \n",
      "rougher.state.floatbank10_f_level                                  -0.110906   \n",
      "secondary_cleaner.state.floatbank2_a_air                            0.084117   \n",
      "secondary_cleaner.state.floatbank2_a_level                         -0.084408   \n",
      "secondary_cleaner.state.floatbank2_b_air                            0.234562   \n",
      "secondary_cleaner.state.floatbank2_b_level                         -0.098847   \n",
      "secondary_cleaner.state.floatbank3_a_air                            0.282703   \n",
      "secondary_cleaner.state.floatbank3_a_level                          0.125933   \n",
      "secondary_cleaner.state.floatbank3_b_air                            0.256512   \n",
      "secondary_cleaner.state.floatbank3_b_level                          0.115952   \n",
      "secondary_cleaner.state.floatbank4_a_air                            0.326090   \n",
      "secondary_cleaner.state.floatbank4_a_level                          0.117510   \n",
      "secondary_cleaner.state.floatbank4_b_air                            0.238618   \n",
      "secondary_cleaner.state.floatbank4_b_level                         -0.085583   \n",
      "secondary_cleaner.state.floatbank5_a_air                           -0.090184   \n",
      "secondary_cleaner.state.floatbank5_a_level                          0.009138   \n",
      "secondary_cleaner.state.floatbank5_b_air                            0.064209   \n",
      "secondary_cleaner.state.floatbank5_b_level                          0.002988   \n",
      "secondary_cleaner.state.floatbank6_a_air                           -0.198422   \n",
      "secondary_cleaner.state.floatbank6_a_level                          0.034654   \n",
      "\n",
      "                                            primary_cleaner.input.feed_size  \\\n",
      "primary_cleaner.input.sulfate                                      0.114456   \n",
      "primary_cleaner.input.depressant                                   0.215703   \n",
      "primary_cleaner.input.feed_size                                    1.000000   \n",
      "primary_cleaner.input.xanthate                                    -0.291792   \n",
      "primary_cleaner.state.floatbank8_a_air                            -0.064628   \n",
      "primary_cleaner.state.floatbank8_a_level                           0.082869   \n",
      "primary_cleaner.state.floatbank8_b_air                            -0.063490   \n",
      "primary_cleaner.state.floatbank8_b_level                           0.071470   \n",
      "primary_cleaner.state.floatbank8_c_air                            -0.091542   \n",
      "primary_cleaner.state.floatbank8_c_level                           0.066384   \n",
      "primary_cleaner.state.floatbank8_d_air                            -0.074156   \n",
      "primary_cleaner.state.floatbank8_d_level                           0.065808   \n",
      "rougher.input.feed_ag                                              0.338795   \n",
      "rougher.input.feed_pb                                              0.000398   \n",
      "rougher.input.feed_rate                                            0.020000   \n",
      "rougher.input.feed_size                                           -0.087331   \n",
      "rougher.input.feed_sol                                             0.054595   \n",
      "rougher.input.feed_au                                              0.238692   \n",
      "rougher.input.floatbank10_sulfate                                 -0.187934   \n",
      "rougher.input.floatbank10_xanthate                                 0.224360   \n",
      "rougher.input.floatbank11_sulfate                                 -0.236345   \n",
      "rougher.input.floatbank11_xanthate                                 0.185176   \n",
      "rougher.state.floatbank10_a_air                                    0.023678   \n",
      "rougher.state.floatbank10_a_level                                 -0.236632   \n",
      "rougher.state.floatbank10_b_air                                    0.044605   \n",
      "rougher.state.floatbank10_b_level                                  0.051614   \n",
      "rougher.state.floatbank10_c_air                                    0.064617   \n",
      "rougher.state.floatbank10_c_level                                  0.049608   \n",
      "rougher.state.floatbank10_d_air                                   -0.009526   \n",
      "rougher.state.floatbank10_d_level                                  0.073623   \n",
      "rougher.state.floatbank10_e_air                                   -0.012558   \n",
      "rougher.state.floatbank10_e_level                                  0.006890   \n",
      "rougher.state.floatbank10_f_air                                   -0.129796   \n",
      "rougher.state.floatbank10_f_level                                  0.036627   \n",
      "secondary_cleaner.state.floatbank2_a_air                          -0.128933   \n",
      "secondary_cleaner.state.floatbank2_a_level                         0.044605   \n",
      "secondary_cleaner.state.floatbank2_b_air                          -0.184586   \n",
      "secondary_cleaner.state.floatbank2_b_level                         0.005911   \n",
      "secondary_cleaner.state.floatbank3_a_air                           0.024193   \n",
      "secondary_cleaner.state.floatbank3_a_level                         0.032868   \n",
      "secondary_cleaner.state.floatbank3_b_air                          -0.017527   \n",
      "secondary_cleaner.state.floatbank3_b_level                         0.025709   \n",
      "secondary_cleaner.state.floatbank4_a_air                          -0.148328   \n",
      "secondary_cleaner.state.floatbank4_a_level                        -0.121148   \n",
      "secondary_cleaner.state.floatbank4_b_air                          -0.173658   \n",
      "secondary_cleaner.state.floatbank4_b_level                        -0.137180   \n",
      "secondary_cleaner.state.floatbank5_a_air                          -0.192880   \n",
      "secondary_cleaner.state.floatbank5_a_level                        -0.059167   \n",
      "secondary_cleaner.state.floatbank5_b_air                          -0.214970   \n",
      "secondary_cleaner.state.floatbank5_b_level                        -0.054173   \n",
      "secondary_cleaner.state.floatbank6_a_air                           0.026930   \n",
      "secondary_cleaner.state.floatbank6_a_level                        -0.083021   \n",
      "\n",
      "                                            primary_cleaner.input.xanthate  \\\n",
      "primary_cleaner.input.sulfate                                     0.497568   \n",
      "primary_cleaner.input.depressant                                  0.150760   \n",
      "primary_cleaner.input.feed_size                                  -0.291792   \n",
      "primary_cleaner.input.xanthate                                    1.000000   \n",
      "primary_cleaner.state.floatbank8_a_air                            0.209017   \n",
      "primary_cleaner.state.floatbank8_a_level                         -0.059553   \n",
      "primary_cleaner.state.floatbank8_b_air                            0.153527   \n",
      "primary_cleaner.state.floatbank8_b_level                          0.016144   \n",
      "primary_cleaner.state.floatbank8_c_air                            0.044194   \n",
      "primary_cleaner.state.floatbank8_c_level                         -0.078742   \n",
      "primary_cleaner.state.floatbank8_d_air                            0.174791   \n",
      "primary_cleaner.state.floatbank8_d_level                         -0.144240   \n",
      "rougher.input.feed_ag                                             0.048319   \n",
      "rougher.input.feed_pb                                             0.241138   \n",
      "rougher.input.feed_rate                                           0.464682   \n",
      "rougher.input.feed_size                                           0.195665   \n",
      "rougher.input.feed_sol                                            0.370448   \n",
      "rougher.input.feed_au                                             0.093609   \n",
      "rougher.input.floatbank10_sulfate                                 0.581118   \n",
      "rougher.input.floatbank10_xanthate                                0.350009   \n",
      "rougher.input.floatbank11_sulfate                                 0.593851   \n",
      "rougher.input.floatbank11_xanthate                                0.368205   \n",
      "rougher.state.floatbank10_a_air                                   0.402757   \n",
      "rougher.state.floatbank10_a_level                                 0.424760   \n",
      "rougher.state.floatbank10_b_air                                  -0.387143   \n",
      "rougher.state.floatbank10_b_level                                -0.342816   \n",
      "rougher.state.floatbank10_c_air                                  -0.405743   \n",
      "rougher.state.floatbank10_c_level                                -0.346091   \n",
      "rougher.state.floatbank10_d_air                                  -0.392980   \n",
      "rougher.state.floatbank10_d_level                                -0.326506   \n",
      "rougher.state.floatbank10_e_air                                  -0.321572   \n",
      "rougher.state.floatbank10_e_level                                -0.363457   \n",
      "rougher.state.floatbank10_f_air                                  -0.290621   \n",
      "rougher.state.floatbank10_f_level                                -0.333947   \n",
      "secondary_cleaner.state.floatbank2_a_air                         -0.038919   \n",
      "secondary_cleaner.state.floatbank2_a_level                       -0.162965   \n",
      "secondary_cleaner.state.floatbank2_b_air                          0.220744   \n",
      "secondary_cleaner.state.floatbank2_b_level                       -0.113589   \n",
      "secondary_cleaner.state.floatbank3_a_air                         -0.049184   \n",
      "secondary_cleaner.state.floatbank3_a_level                       -0.034554   \n",
      "secondary_cleaner.state.floatbank3_b_air                         -0.050835   \n",
      "secondary_cleaner.state.floatbank3_b_level                       -0.009169   \n",
      "secondary_cleaner.state.floatbank4_a_air                          0.313377   \n",
      "secondary_cleaner.state.floatbank4_a_level                        0.131178   \n",
      "secondary_cleaner.state.floatbank4_b_air                          0.360961   \n",
      "secondary_cleaner.state.floatbank4_b_level                        0.121575   \n",
      "secondary_cleaner.state.floatbank5_a_air                          0.059162   \n",
      "secondary_cleaner.state.floatbank5_a_level                        0.128636   \n",
      "secondary_cleaner.state.floatbank5_b_air                          0.077380   \n",
      "secondary_cleaner.state.floatbank5_b_level                        0.095508   \n",
      "secondary_cleaner.state.floatbank6_a_air                         -0.218155   \n",
      "secondary_cleaner.state.floatbank6_a_level                        0.080662   \n",
      "\n",
      "                                            primary_cleaner.state.floatbank8_a_air  \\\n",
      "primary_cleaner.input.sulfate                                             0.102653   \n",
      "primary_cleaner.input.depressant                                          0.144443   \n",
      "primary_cleaner.input.feed_size                                          -0.064628   \n",
      "primary_cleaner.input.xanthate                                            0.209017   \n",
      "primary_cleaner.state.floatbank8_a_air                                    1.000000   \n",
      "primary_cleaner.state.floatbank8_a_level                                  0.121274   \n",
      "primary_cleaner.state.floatbank8_b_air                                    0.968679   \n",
      "primary_cleaner.state.floatbank8_b_level                                 -0.018713   \n",
      "primary_cleaner.state.floatbank8_c_air                                    0.814992   \n",
      "primary_cleaner.state.floatbank8_c_level                                  0.114058   \n",
      "primary_cleaner.state.floatbank8_d_air                                    0.959166   \n",
      "primary_cleaner.state.floatbank8_d_level                                  0.061389   \n",
      "rougher.input.feed_ag                                                     0.252818   \n",
      "rougher.input.feed_pb                                                     0.064620   \n",
      "rougher.input.feed_rate                                                  -0.008505   \n",
      "rougher.input.feed_size                                                  -0.073211   \n",
      "rougher.input.feed_sol                                                   -0.060988   \n",
      "rougher.input.feed_au                                                     0.218384   \n",
      "rougher.input.floatbank10_sulfate                                         0.039898   \n",
      "rougher.input.floatbank10_xanthate                                        0.187693   \n",
      "rougher.input.floatbank11_sulfate                                         0.057004   \n",
      "rougher.input.floatbank11_xanthate                                        0.209414   \n",
      "rougher.state.floatbank10_a_air                                           0.215473   \n",
      "rougher.state.floatbank10_a_level                                        -0.033903   \n",
      "rougher.state.floatbank10_b_air                                           0.199338   \n",
      "rougher.state.floatbank10_b_level                                         0.291111   \n",
      "rougher.state.floatbank10_c_air                                           0.216971   \n",
      "rougher.state.floatbank10_c_level                                         0.285786   \n",
      "rougher.state.floatbank10_d_air                                           0.160151   \n",
      "rougher.state.floatbank10_d_level                                         0.245276   \n",
      "rougher.state.floatbank10_e_air                                           0.347687   \n",
      "rougher.state.floatbank10_e_level                                         0.280493   \n",
      "rougher.state.floatbank10_f_air                                           0.280753   \n",
      "rougher.state.floatbank10_f_level                                         0.289477   \n",
      "secondary_cleaner.state.floatbank2_a_air                                  0.258841   \n",
      "secondary_cleaner.state.floatbank2_a_level                               -0.059849   \n",
      "secondary_cleaner.state.floatbank2_b_air                                  0.422376   \n",
      "secondary_cleaner.state.floatbank2_b_level                               -0.084396   \n",
      "secondary_cleaner.state.floatbank3_a_air                                  0.367139   \n",
      "secondary_cleaner.state.floatbank3_a_level                               -0.040073   \n",
      "secondary_cleaner.state.floatbank3_b_air                                  0.457278   \n",
      "secondary_cleaner.state.floatbank3_b_level                               -0.007847   \n",
      "secondary_cleaner.state.floatbank4_a_air                                  0.469180   \n",
      "secondary_cleaner.state.floatbank4_a_level                                0.005962   \n",
      "secondary_cleaner.state.floatbank4_b_air                                  0.476742   \n",
      "secondary_cleaner.state.floatbank4_b_level                               -0.058593   \n",
      "secondary_cleaner.state.floatbank5_a_air                                  0.408050   \n",
      "secondary_cleaner.state.floatbank5_a_level                                0.271547   \n",
      "secondary_cleaner.state.floatbank5_b_air                                  0.465492   \n",
      "secondary_cleaner.state.floatbank5_b_level                                0.161509   \n",
      "secondary_cleaner.state.floatbank6_a_air                                  0.345231   \n",
      "secondary_cleaner.state.floatbank6_a_level                                0.172154   \n",
      "\n",
      "                                            primary_cleaner.state.floatbank8_a_level  \\\n",
      "primary_cleaner.input.sulfate                                               0.048032   \n",
      "primary_cleaner.input.depressant                                            0.242592   \n",
      "primary_cleaner.input.feed_size                                             0.082869   \n",
      "primary_cleaner.input.xanthate                                             -0.059553   \n",
      "primary_cleaner.state.floatbank8_a_air                                      0.121274   \n",
      "primary_cleaner.state.floatbank8_a_level                                    1.000000   \n",
      "primary_cleaner.state.floatbank8_b_air                                      0.101975   \n",
      "primary_cleaner.state.floatbank8_b_level                                    0.417515   \n",
      "primary_cleaner.state.floatbank8_c_air                                     -0.018378   \n",
      "primary_cleaner.state.floatbank8_c_level                                    0.784061   \n",
      "primary_cleaner.state.floatbank8_d_air                                      0.110760   \n",
      "primary_cleaner.state.floatbank8_d_level                                    0.406960   \n",
      "rougher.input.feed_ag                                                       0.197111   \n",
      "rougher.input.feed_pb                                                       0.231743   \n",
      "rougher.input.feed_rate                                                    -0.005975   \n",
      "rougher.input.feed_size                                                     0.006147   \n",
      "rougher.input.feed_sol                                                      0.058229   \n",
      "rougher.input.feed_au                                                       0.184980   \n",
      "rougher.input.floatbank10_sulfate                                          -0.068462   \n",
      "rougher.input.floatbank10_xanthate                                          0.110566   \n",
      "rougher.input.floatbank11_sulfate                                          -0.077556   \n",
      "rougher.input.floatbank11_xanthate                                          0.117493   \n",
      "rougher.state.floatbank10_a_air                                             0.387206   \n",
      "rougher.state.floatbank10_a_level                                           0.159607   \n",
      "rougher.state.floatbank10_b_air                                            -0.076365   \n",
      "rougher.state.floatbank10_b_level                                          -0.037724   \n",
      "rougher.state.floatbank10_c_air                                            -0.129885   \n",
      "rougher.state.floatbank10_c_level                                          -0.043906   \n",
      "rougher.state.floatbank10_d_air                                            -0.134939   \n",
      "rougher.state.floatbank10_d_level                                          -0.071941   \n",
      "rougher.state.floatbank10_e_air                                            -0.098849   \n",
      "rougher.state.floatbank10_e_level                                          -0.072159   \n",
      "rougher.state.floatbank10_f_air                                            -0.050940   \n",
      "rougher.state.floatbank10_f_level                                          -0.042153   \n",
      "secondary_cleaner.state.floatbank2_a_air                                    0.108262   \n",
      "secondary_cleaner.state.floatbank2_a_level                                  0.083484   \n",
      "secondary_cleaner.state.floatbank2_b_air                                    0.164370   \n",
      "secondary_cleaner.state.floatbank2_b_level                                  0.080897   \n",
      "secondary_cleaner.state.floatbank3_a_air                                    0.084240   \n",
      "secondary_cleaner.state.floatbank3_a_level                                  0.069909   \n",
      "secondary_cleaner.state.floatbank3_b_air                                    0.057372   \n",
      "secondary_cleaner.state.floatbank3_b_level                                  0.053060   \n",
      "secondary_cleaner.state.floatbank4_a_air                                    0.171716   \n",
      "secondary_cleaner.state.floatbank4_a_level                                  0.096500   \n",
      "secondary_cleaner.state.floatbank4_b_air                                    0.084418   \n",
      "secondary_cleaner.state.floatbank4_b_level                                 -0.005819   \n",
      "secondary_cleaner.state.floatbank5_a_air                                   -0.036132   \n",
      "secondary_cleaner.state.floatbank5_a_level                                  0.164220   \n",
      "secondary_cleaner.state.floatbank5_b_air                                   -0.012665   \n",
      "secondary_cleaner.state.floatbank5_b_level                                  0.091263   \n",
      "secondary_cleaner.state.floatbank6_a_air                                   -0.107710   \n",
      "secondary_cleaner.state.floatbank6_a_level                                  0.076271   \n",
      "\n",
      "                                            primary_cleaner.state.floatbank8_b_air  \\\n",
      "primary_cleaner.input.sulfate                                             0.075737   \n",
      "primary_cleaner.input.depressant                                          0.148658   \n",
      "primary_cleaner.input.feed_size                                          -0.063490   \n",
      "primary_cleaner.input.xanthate                                            0.153527   \n",
      "primary_cleaner.state.floatbank8_a_air                                    0.968679   \n",
      "primary_cleaner.state.floatbank8_a_level                                  0.101975   \n",
      "primary_cleaner.state.floatbank8_b_air                                    1.000000   \n",
      "primary_cleaner.state.floatbank8_b_level                                  0.010220   \n",
      "primary_cleaner.state.floatbank8_c_air                                    0.862946   \n",
      "primary_cleaner.state.floatbank8_c_level                                  0.101127   \n",
      "primary_cleaner.state.floatbank8_d_air                                    0.974342   \n",
      "primary_cleaner.state.floatbank8_d_level                                  0.059940   \n",
      "rougher.input.feed_ag                                                     0.250553   \n",
      "rougher.input.feed_pb                                                     0.054633   \n",
      "rougher.input.feed_rate                                                  -0.043674   \n",
      "rougher.input.feed_size                                                  -0.098451   \n",
      "rougher.input.feed_sol                                                   -0.089733   \n",
      "rougher.input.feed_au                                                     0.243540   \n",
      "rougher.input.floatbank10_sulfate                                         0.033192   \n",
      "rougher.input.floatbank10_xanthate                                        0.172360   \n",
      "rougher.input.floatbank11_sulfate                                         0.047620   \n",
      "rougher.input.floatbank11_xanthate                                        0.190951   \n",
      "rougher.state.floatbank10_a_air                                           0.169211   \n",
      "rougher.state.floatbank10_a_level                                        -0.073373   \n",
      "rougher.state.floatbank10_b_air                                           0.230489   \n",
      "rougher.state.floatbank10_b_level                                         0.371841   \n",
      "rougher.state.floatbank10_c_air                                           0.259523   \n",
      "rougher.state.floatbank10_c_level                                         0.368792   \n",
      "rougher.state.floatbank10_d_air                                           0.203227   \n",
      "rougher.state.floatbank10_d_level                                         0.327134   \n",
      "rougher.state.floatbank10_e_air                                           0.402047   \n",
      "rougher.state.floatbank10_e_level                                         0.391511   \n",
      "rougher.state.floatbank10_f_air                                           0.344900   \n",
      "rougher.state.floatbank10_f_level                                         0.394670   \n",
      "secondary_cleaner.state.floatbank2_a_air                                  0.326245   \n",
      "secondary_cleaner.state.floatbank2_a_level                               -0.052484   \n",
      "secondary_cleaner.state.floatbank2_b_air                                  0.458338   \n",
      "secondary_cleaner.state.floatbank2_b_level                               -0.079535   \n",
      "secondary_cleaner.state.floatbank3_a_air                                  0.418511   \n",
      "secondary_cleaner.state.floatbank3_a_level                               -0.023823   \n",
      "secondary_cleaner.state.floatbank3_b_air                                  0.518832   \n",
      "secondary_cleaner.state.floatbank3_b_level                                0.008616   \n",
      "secondary_cleaner.state.floatbank4_a_air                                  0.483741   \n",
      "secondary_cleaner.state.floatbank4_a_level                                0.023801   \n",
      "secondary_cleaner.state.floatbank4_b_air                                  0.487327   \n",
      "secondary_cleaner.state.floatbank4_b_level                               -0.080058   \n",
      "secondary_cleaner.state.floatbank5_a_air                                  0.415343   \n",
      "secondary_cleaner.state.floatbank5_a_level                                0.260220   \n",
      "secondary_cleaner.state.floatbank5_b_air                                  0.499829   \n",
      "secondary_cleaner.state.floatbank5_b_level                                0.155978   \n",
      "secondary_cleaner.state.floatbank6_a_air                                  0.389594   \n",
      "secondary_cleaner.state.floatbank6_a_level                                0.187429   \n",
      "\n",
      "                                            primary_cleaner.state.floatbank8_b_level  \\\n",
      "primary_cleaner.input.sulfate                                               0.138949   \n",
      "primary_cleaner.input.depressant                                            0.201499   \n",
      "primary_cleaner.input.feed_size                                             0.071470   \n",
      "primary_cleaner.input.xanthate                                              0.016144   \n",
      "primary_cleaner.state.floatbank8_a_air                                     -0.018713   \n",
      "primary_cleaner.state.floatbank8_a_level                                    0.417515   \n",
      "primary_cleaner.state.floatbank8_b_air                                      0.010220   \n",
      "primary_cleaner.state.floatbank8_b_level                                    1.000000   \n",
      "primary_cleaner.state.floatbank8_c_air                                     -0.029228   \n",
      "primary_cleaner.state.floatbank8_c_level                                    0.406721   \n",
      "primary_cleaner.state.floatbank8_d_air                                      0.015972   \n",
      "primary_cleaner.state.floatbank8_d_level                                    0.233257   \n",
      "rougher.input.feed_ag                                                       0.128053   \n",
      "rougher.input.feed_pb                                                       0.223188   \n",
      "rougher.input.feed_rate                                                     0.032851   \n",
      "rougher.input.feed_size                                                    -0.043032   \n",
      "rougher.input.feed_sol                                                      0.043890   \n",
      "rougher.input.feed_au                                                       0.178838   \n",
      "rougher.input.floatbank10_sulfate                                           0.022164   \n",
      "rougher.input.floatbank10_xanthate                                          0.067695   \n",
      "rougher.input.floatbank11_sulfate                                           0.000932   \n",
      "rougher.input.floatbank11_xanthate                                          0.086555   \n",
      "rougher.state.floatbank10_a_air                                             0.207161   \n",
      "rougher.state.floatbank10_a_level                                           0.076225   \n",
      "rougher.state.floatbank10_b_air                                            -0.014215   \n",
      "rougher.state.floatbank10_b_level                                           0.020230   \n",
      "rougher.state.floatbank10_c_air                                            -0.052763   \n",
      "rougher.state.floatbank10_c_level                                           0.007639   \n",
      "rougher.state.floatbank10_d_air                                            -0.015855   \n",
      "rougher.state.floatbank10_d_level                                           0.005728   \n",
      "rougher.state.floatbank10_e_air                                            -0.052321   \n",
      "rougher.state.floatbank10_e_level                                           0.002047   \n",
      "rougher.state.floatbank10_f_air                                            -0.007648   \n",
      "rougher.state.floatbank10_f_level                                           0.013656   \n",
      "secondary_cleaner.state.floatbank2_a_air                                    0.064037   \n",
      "secondary_cleaner.state.floatbank2_a_level                                  0.006019   \n",
      "secondary_cleaner.state.floatbank2_b_air                                    0.104963   \n",
      "secondary_cleaner.state.floatbank2_b_level                                  0.009400   \n",
      "secondary_cleaner.state.floatbank3_a_air                                    0.087090   \n",
      "secondary_cleaner.state.floatbank3_a_level                                  0.094441   \n",
      "secondary_cleaner.state.floatbank3_b_air                                    0.081030   \n",
      "secondary_cleaner.state.floatbank3_b_level                                  0.100982   \n",
      "secondary_cleaner.state.floatbank4_a_air                                    0.078411   \n",
      "secondary_cleaner.state.floatbank4_a_level                                  0.216342   \n",
      "secondary_cleaner.state.floatbank4_b_air                                    0.054902   \n",
      "secondary_cleaner.state.floatbank4_b_level                                 -0.038440   \n",
      "secondary_cleaner.state.floatbank5_a_air                                   -0.009671   \n",
      "secondary_cleaner.state.floatbank5_a_level                                  0.029409   \n",
      "secondary_cleaner.state.floatbank5_b_air                                    0.012115   \n",
      "secondary_cleaner.state.floatbank5_b_level                                  0.004864   \n",
      "secondary_cleaner.state.floatbank6_a_air                                   -0.006694   \n",
      "secondary_cleaner.state.floatbank6_a_level                                  0.012904   \n",
      "\n",
      "                                            primary_cleaner.state.floatbank8_c_air  \\\n",
      "primary_cleaner.input.sulfate                                             0.024710   \n",
      "primary_cleaner.input.depressant                                          0.036655   \n",
      "primary_cleaner.input.feed_size                                          -0.091542   \n",
      "primary_cleaner.input.xanthate                                            0.044194   \n",
      "primary_cleaner.state.floatbank8_a_air                                    0.814992   \n",
      "primary_cleaner.state.floatbank8_a_level                                 -0.018378   \n",
      "primary_cleaner.state.floatbank8_b_air                                    0.862946   \n",
      "primary_cleaner.state.floatbank8_b_level                                 -0.029228   \n",
      "primary_cleaner.state.floatbank8_c_air                                    1.000000   \n",
      "primary_cleaner.state.floatbank8_c_level                                  0.003322   \n",
      "primary_cleaner.state.floatbank8_d_air                                    0.848010   \n",
      "primary_cleaner.state.floatbank8_d_level                                  0.013847   \n",
      "rougher.input.feed_ag                                                     0.149500   \n",
      "rougher.input.feed_pb                                                    -0.054736   \n",
      "rougher.input.feed_rate                                                  -0.103408   \n",
      "rougher.input.feed_size                                                  -0.163889   \n",
      "rougher.input.feed_sol                                                   -0.160445   \n",
      "rougher.input.feed_au                                                     0.168597   \n",
      "rougher.input.floatbank10_sulfate                                        -0.021043   \n",
      "rougher.input.floatbank10_xanthate                                        0.135009   \n",
      "rougher.input.floatbank11_sulfate                                         0.006816   \n",
      "rougher.input.floatbank11_xanthate                                        0.151603   \n",
      "rougher.state.floatbank10_a_air                                          -0.087974   \n",
      "rougher.state.floatbank10_a_level                                        -0.222135   \n",
      "rougher.state.floatbank10_b_air                                           0.300457   \n",
      "rougher.state.floatbank10_b_level                                         0.451746   \n",
      "rougher.state.floatbank10_c_air                                           0.360889   \n",
      "rougher.state.floatbank10_c_level                                         0.453606   \n",
      "rougher.state.floatbank10_d_air                                           0.310832   \n",
      "rougher.state.floatbank10_d_level                                         0.406637   \n",
      "rougher.state.floatbank10_e_air                                           0.452348   \n",
      "rougher.state.floatbank10_e_level                                         0.463951   \n",
      "rougher.state.floatbank10_f_air                                           0.354735   \n",
      "rougher.state.floatbank10_f_level                                         0.471963   \n",
      "secondary_cleaner.state.floatbank2_a_air                                  0.277937   \n",
      "secondary_cleaner.state.floatbank2_a_level                                0.022228   \n",
      "secondary_cleaner.state.floatbank2_b_air                                  0.362753   \n",
      "secondary_cleaner.state.floatbank2_b_level                               -0.014146   \n",
      "secondary_cleaner.state.floatbank3_a_air                                  0.414449   \n",
      "secondary_cleaner.state.floatbank3_a_level                               -0.030285   \n",
      "secondary_cleaner.state.floatbank3_b_air                                  0.493835   \n",
      "secondary_cleaner.state.floatbank3_b_level                               -0.000623   \n",
      "secondary_cleaner.state.floatbank4_a_air                                  0.366373   \n",
      "secondary_cleaner.state.floatbank4_a_level                                0.047373   \n",
      "secondary_cleaner.state.floatbank4_b_air                                  0.396029   \n",
      "secondary_cleaner.state.floatbank4_b_level                               -0.031081   \n",
      "secondary_cleaner.state.floatbank5_a_air                                  0.400765   \n",
      "secondary_cleaner.state.floatbank5_a_level                                0.239333   \n",
      "secondary_cleaner.state.floatbank5_b_air                                  0.500353   \n",
      "secondary_cleaner.state.floatbank5_b_level                                0.117465   \n",
      "secondary_cleaner.state.floatbank6_a_air                                  0.490672   \n",
      "secondary_cleaner.state.floatbank6_a_level                                0.169634   \n",
      "\n",
      "                                            primary_cleaner.state.floatbank8_c_level  \\\n",
      "primary_cleaner.input.sulfate                                               0.027697   \n",
      "primary_cleaner.input.depressant                                            0.207632   \n",
      "primary_cleaner.input.feed_size                                             0.066384   \n",
      "primary_cleaner.input.xanthate                                             -0.078742   \n",
      "primary_cleaner.state.floatbank8_a_air                                      0.114058   \n",
      "primary_cleaner.state.floatbank8_a_level                                    0.784061   \n",
      "primary_cleaner.state.floatbank8_b_air                                      0.101127   \n",
      "primary_cleaner.state.floatbank8_b_level                                    0.406721   \n",
      "primary_cleaner.state.floatbank8_c_air                                      0.003322   \n",
      "primary_cleaner.state.floatbank8_c_level                                    1.000000   \n",
      "primary_cleaner.state.floatbank8_d_air                                      0.113492   \n",
      "primary_cleaner.state.floatbank8_d_level                                    0.486463   \n",
      "rougher.input.feed_ag                                                       0.162198   \n",
      "rougher.input.feed_pb                                                       0.176345   \n",
      "rougher.input.feed_rate                                                    -0.002124   \n",
      "rougher.input.feed_size                                                     0.003384   \n",
      "rougher.input.feed_sol                                                      0.042156   \n",
      "rougher.input.feed_au                                                       0.143132   \n",
      "rougher.input.floatbank10_sulfate                                          -0.079709   \n",
      "rougher.input.floatbank10_xanthate                                          0.082145   \n",
      "rougher.input.floatbank11_sulfate                                          -0.087809   \n",
      "rougher.input.floatbank11_xanthate                                          0.085452   \n",
      "rougher.state.floatbank10_a_air                                             0.333690   \n",
      "rougher.state.floatbank10_a_level                                           0.131849   \n",
      "rougher.state.floatbank10_b_air                                            -0.039398   \n",
      "rougher.state.floatbank10_b_level                                          -0.015591   \n",
      "rougher.state.floatbank10_c_air                                            -0.089468   \n",
      "rougher.state.floatbank10_c_level                                          -0.020945   \n",
      "rougher.state.floatbank10_d_air                                            -0.089773   \n",
      "rougher.state.floatbank10_d_level                                          -0.049447   \n",
      "rougher.state.floatbank10_e_air                                            -0.067798   \n",
      "rougher.state.floatbank10_e_level                                          -0.048384   \n",
      "rougher.state.floatbank10_f_air                                            -0.022972   \n",
      "rougher.state.floatbank10_f_level                                          -0.019199   \n",
      "secondary_cleaner.state.floatbank2_a_air                                    0.107395   \n",
      "secondary_cleaner.state.floatbank2_a_level                                  0.075413   \n",
      "secondary_cleaner.state.floatbank2_b_air                                    0.150856   \n",
      "secondary_cleaner.state.floatbank2_b_level                                  0.066475   \n",
      "secondary_cleaner.state.floatbank3_a_air                                    0.074868   \n",
      "secondary_cleaner.state.floatbank3_a_level                                  0.065685   \n",
      "secondary_cleaner.state.floatbank3_b_air                                    0.058887   \n",
      "secondary_cleaner.state.floatbank3_b_level                                  0.050184   \n",
      "secondary_cleaner.state.floatbank4_a_air                                    0.151945   \n",
      "secondary_cleaner.state.floatbank4_a_level                                  0.093293   \n",
      "secondary_cleaner.state.floatbank4_b_air                                    0.071559   \n",
      "secondary_cleaner.state.floatbank4_b_level                                 -0.013814   \n",
      "secondary_cleaner.state.floatbank5_a_air                                   -0.018878   \n",
      "secondary_cleaner.state.floatbank5_a_level                                  0.143313   \n",
      "secondary_cleaner.state.floatbank5_b_air                                   -0.004169   \n",
      "secondary_cleaner.state.floatbank5_b_level                                  0.061153   \n",
      "secondary_cleaner.state.floatbank6_a_air                                   -0.087866   \n",
      "secondary_cleaner.state.floatbank6_a_level                                  0.067955   \n",
      "\n",
      "                                            ...  \\\n",
      "primary_cleaner.input.sulfate               ...   \n",
      "primary_cleaner.input.depressant            ...   \n",
      "primary_cleaner.input.feed_size             ...   \n",
      "primary_cleaner.input.xanthate              ...   \n",
      "primary_cleaner.state.floatbank8_a_air      ...   \n",
      "primary_cleaner.state.floatbank8_a_level    ...   \n",
      "primary_cleaner.state.floatbank8_b_air      ...   \n",
      "primary_cleaner.state.floatbank8_b_level    ...   \n",
      "primary_cleaner.state.floatbank8_c_air      ...   \n",
      "primary_cleaner.state.floatbank8_c_level    ...   \n",
      "primary_cleaner.state.floatbank8_d_air      ...   \n",
      "primary_cleaner.state.floatbank8_d_level    ...   \n",
      "rougher.input.feed_ag                       ...   \n",
      "rougher.input.feed_pb                       ...   \n",
      "rougher.input.feed_rate                     ...   \n",
      "rougher.input.feed_size                     ...   \n",
      "rougher.input.feed_sol                      ...   \n",
      "rougher.input.feed_au                       ...   \n",
      "rougher.input.floatbank10_sulfate           ...   \n",
      "rougher.input.floatbank10_xanthate          ...   \n",
      "rougher.input.floatbank11_sulfate           ...   \n",
      "rougher.input.floatbank11_xanthate          ...   \n",
      "rougher.state.floatbank10_a_air             ...   \n",
      "rougher.state.floatbank10_a_level           ...   \n",
      "rougher.state.floatbank10_b_air             ...   \n",
      "rougher.state.floatbank10_b_level           ...   \n",
      "rougher.state.floatbank10_c_air             ...   \n",
      "rougher.state.floatbank10_c_level           ...   \n",
      "rougher.state.floatbank10_d_air             ...   \n",
      "rougher.state.floatbank10_d_level           ...   \n",
      "rougher.state.floatbank10_e_air             ...   \n",
      "rougher.state.floatbank10_e_level           ...   \n",
      "rougher.state.floatbank10_f_air             ...   \n",
      "rougher.state.floatbank10_f_level           ...   \n",
      "secondary_cleaner.state.floatbank2_a_air    ...   \n",
      "secondary_cleaner.state.floatbank2_a_level  ...   \n",
      "secondary_cleaner.state.floatbank2_b_air    ...   \n",
      "secondary_cleaner.state.floatbank2_b_level  ...   \n",
      "secondary_cleaner.state.floatbank3_a_air    ...   \n",
      "secondary_cleaner.state.floatbank3_a_level  ...   \n",
      "secondary_cleaner.state.floatbank3_b_air    ...   \n",
      "secondary_cleaner.state.floatbank3_b_level  ...   \n",
      "secondary_cleaner.state.floatbank4_a_air    ...   \n",
      "secondary_cleaner.state.floatbank4_a_level  ...   \n",
      "secondary_cleaner.state.floatbank4_b_air    ...   \n",
      "secondary_cleaner.state.floatbank4_b_level  ...   \n",
      "secondary_cleaner.state.floatbank5_a_air    ...   \n",
      "secondary_cleaner.state.floatbank5_a_level  ...   \n",
      "secondary_cleaner.state.floatbank5_b_air    ...   \n",
      "secondary_cleaner.state.floatbank5_b_level  ...   \n",
      "secondary_cleaner.state.floatbank6_a_air    ...   \n",
      "secondary_cleaner.state.floatbank6_a_level  ...   \n",
      "\n",
      "                                            secondary_cleaner.state.floatbank4_a_air  \\\n",
      "primary_cleaner.input.sulfate                                               0.305793   \n",
      "primary_cleaner.input.depressant                                            0.326090   \n",
      "primary_cleaner.input.feed_size                                            -0.148328   \n",
      "primary_cleaner.input.xanthate                                              0.313377   \n",
      "primary_cleaner.state.floatbank8_a_air                                      0.469180   \n",
      "primary_cleaner.state.floatbank8_a_level                                    0.171716   \n",
      "primary_cleaner.state.floatbank8_b_air                                      0.483741   \n",
      "primary_cleaner.state.floatbank8_b_level                                    0.078411   \n",
      "primary_cleaner.state.floatbank8_c_air                                      0.366373   \n",
      "primary_cleaner.state.floatbank8_c_level                                    0.151945   \n",
      "primary_cleaner.state.floatbank8_d_air                                      0.485859   \n",
      "primary_cleaner.state.floatbank8_d_level                                    0.053297   \n",
      "rougher.input.feed_ag                                                       0.167571   \n",
      "rougher.input.feed_pb                                                       0.114111   \n",
      "rougher.input.feed_rate                                                     0.171692   \n",
      "rougher.input.feed_size                                                     0.128550   \n",
      "rougher.input.feed_sol                                                      0.150514   \n",
      "rougher.input.feed_au                                                       0.165834   \n",
      "rougher.input.floatbank10_sulfate                                           0.306461   \n",
      "rougher.input.floatbank10_xanthate                                          0.240843   \n",
      "rougher.input.floatbank11_sulfate                                           0.283144   \n",
      "rougher.input.floatbank11_xanthate                                          0.226249   \n",
      "rougher.state.floatbank10_a_air                                             0.296594   \n",
      "rougher.state.floatbank10_a_level                                           0.207514   \n",
      "rougher.state.floatbank10_b_air                                            -0.171947   \n",
      "rougher.state.floatbank10_b_level                                           0.067727   \n",
      "rougher.state.floatbank10_c_air                                            -0.168834   \n",
      "rougher.state.floatbank10_c_level                                           0.068885   \n",
      "rougher.state.floatbank10_d_air                                            -0.173221   \n",
      "rougher.state.floatbank10_d_level                                           0.072947   \n",
      "rougher.state.floatbank10_e_air                                             0.018780   \n",
      "rougher.state.floatbank10_e_level                                           0.150501   \n",
      "rougher.state.floatbank10_f_air                                             0.043791   \n",
      "rougher.state.floatbank10_f_level                                           0.168028   \n",
      "secondary_cleaner.state.floatbank2_a_air                                    0.394865   \n",
      "secondary_cleaner.state.floatbank2_a_level                                 -0.076507   \n",
      "secondary_cleaner.state.floatbank2_b_air                                    0.640874   \n",
      "secondary_cleaner.state.floatbank2_b_level                                 -0.062850   \n",
      "secondary_cleaner.state.floatbank3_a_air                                    0.412838   \n",
      "secondary_cleaner.state.floatbank3_a_level                                 -0.067846   \n",
      "secondary_cleaner.state.floatbank3_b_air                                    0.480531   \n",
      "secondary_cleaner.state.floatbank3_b_level                                 -0.048674   \n",
      "secondary_cleaner.state.floatbank4_a_air                                    1.000000   \n",
      "secondary_cleaner.state.floatbank4_a_level                                  0.346120   \n",
      "secondary_cleaner.state.floatbank4_b_air                                    0.925344   \n",
      "secondary_cleaner.state.floatbank4_b_level                                  0.256080   \n",
      "secondary_cleaner.state.floatbank5_a_air                                    0.523977   \n",
      "secondary_cleaner.state.floatbank5_a_level                                  0.221838   \n",
      "secondary_cleaner.state.floatbank5_b_air                                    0.630029   \n",
      "secondary_cleaner.state.floatbank5_b_level                                  0.132053   \n",
      "secondary_cleaner.state.floatbank6_a_air                                    0.082357   \n",
      "secondary_cleaner.state.floatbank6_a_level                                  0.145112   \n",
      "\n",
      "                                            secondary_cleaner.state.floatbank4_a_level  \\\n",
      "primary_cleaner.input.sulfate                                                 0.117976   \n",
      "primary_cleaner.input.depressant                                              0.117510   \n",
      "primary_cleaner.input.feed_size                                              -0.121148   \n",
      "primary_cleaner.input.xanthate                                                0.131178   \n",
      "primary_cleaner.state.floatbank8_a_air                                        0.005962   \n",
      "primary_cleaner.state.floatbank8_a_level                                      0.096500   \n",
      "primary_cleaner.state.floatbank8_b_air                                        0.023801   \n",
      "primary_cleaner.state.floatbank8_b_level                                      0.216342   \n",
      "primary_cleaner.state.floatbank8_c_air                                        0.047373   \n",
      "primary_cleaner.state.floatbank8_c_level                                      0.093293   \n",
      "primary_cleaner.state.floatbank8_d_air                                        0.022615   \n",
      "primary_cleaner.state.floatbank8_d_level                                      0.043851   \n",
      "rougher.input.feed_ag                                                        -0.069478   \n",
      "rougher.input.feed_pb                                                        -0.004391   \n",
      "rougher.input.feed_rate                                                       0.127274   \n",
      "rougher.input.feed_size                                                       0.063681   \n",
      "rougher.input.feed_sol                                                        0.065642   \n",
      "rougher.input.feed_au                                                        -0.039397   \n",
      "rougher.input.floatbank10_sulfate                                             0.163816   \n",
      "rougher.input.floatbank10_xanthate                                            0.070772   \n",
      "rougher.input.floatbank11_sulfate                                             0.184944   \n",
      "rougher.input.floatbank11_xanthate                                            0.079953   \n",
      "rougher.state.floatbank10_a_air                                               0.087591   \n",
      "rougher.state.floatbank10_a_level                                             0.131345   \n",
      "rougher.state.floatbank10_b_air                                               0.009334   \n",
      "rougher.state.floatbank10_b_level                                             0.010268   \n",
      "rougher.state.floatbank10_c_air                                              -0.010049   \n",
      "rougher.state.floatbank10_c_level                                             0.011038   \n",
      "rougher.state.floatbank10_d_air                                               0.025358   \n",
      "rougher.state.floatbank10_d_level                                            -0.013329   \n",
      "rougher.state.floatbank10_e_air                                              -0.034684   \n",
      "rougher.state.floatbank10_e_level                                             0.006505   \n",
      "rougher.state.floatbank10_f_air                                               0.025162   \n",
      "rougher.state.floatbank10_f_level                                             0.024309   \n",
      "secondary_cleaner.state.floatbank2_a_air                                      0.181556   \n",
      "secondary_cleaner.state.floatbank2_a_level                                    0.029511   \n",
      "secondary_cleaner.state.floatbank2_b_air                                      0.184139   \n",
      "secondary_cleaner.state.floatbank2_b_level                                    0.030289   \n",
      "secondary_cleaner.state.floatbank3_a_air                                      0.053102   \n",
      "secondary_cleaner.state.floatbank3_a_level                                    0.007752   \n",
      "secondary_cleaner.state.floatbank3_b_air                                      0.073603   \n",
      "secondary_cleaner.state.floatbank3_b_level                                    0.003195   \n",
      "secondary_cleaner.state.floatbank4_a_air                                      0.346120   \n",
      "secondary_cleaner.state.floatbank4_a_level                                    1.000000   \n",
      "secondary_cleaner.state.floatbank4_b_air                                      0.291668   \n",
      "secondary_cleaner.state.floatbank4_b_level                                    0.322602   \n",
      "secondary_cleaner.state.floatbank5_a_air                                      0.139509   \n",
      "secondary_cleaner.state.floatbank5_a_level                                    0.129475   \n",
      "secondary_cleaner.state.floatbank5_b_air                                      0.196989   \n",
      "secondary_cleaner.state.floatbank5_b_level                                    0.038650   \n",
      "secondary_cleaner.state.floatbank6_a_air                                      0.027717   \n",
      "secondary_cleaner.state.floatbank6_a_level                                    0.028501   \n",
      "\n",
      "                                            secondary_cleaner.state.floatbank4_b_air  \\\n",
      "primary_cleaner.input.sulfate                                               0.348395   \n",
      "primary_cleaner.input.depressant                                            0.238618   \n",
      "primary_cleaner.input.feed_size                                            -0.173658   \n",
      "primary_cleaner.input.xanthate                                              0.360961   \n",
      "primary_cleaner.state.floatbank8_a_air                                      0.476742   \n",
      "primary_cleaner.state.floatbank8_a_level                                    0.084418   \n",
      "primary_cleaner.state.floatbank8_b_air                                      0.487327   \n",
      "primary_cleaner.state.floatbank8_b_level                                    0.054902   \n",
      "primary_cleaner.state.floatbank8_c_air                                      0.396029   \n",
      "primary_cleaner.state.floatbank8_c_level                                    0.071559   \n",
      "primary_cleaner.state.floatbank8_d_air                                      0.491643   \n",
      "primary_cleaner.state.floatbank8_d_level                                    0.001856   \n",
      "rougher.input.feed_ag                                                       0.150561   \n",
      "rougher.input.feed_pb                                                       0.138647   \n",
      "rougher.input.feed_rate                                                     0.129663   \n",
      "rougher.input.feed_size                                                     0.037702   \n",
      "rougher.input.feed_sol                                                      0.085967   \n",
      "rougher.input.feed_au                                                       0.160088   \n",
      "rougher.input.floatbank10_sulfate                                           0.329987   \n",
      "rougher.input.floatbank10_xanthate                                          0.187300   \n",
      "rougher.input.floatbank11_sulfate                                           0.306831   \n",
      "rougher.input.floatbank11_xanthate                                          0.160424   \n",
      "rougher.state.floatbank10_a_air                                             0.239912   \n",
      "rougher.state.floatbank10_a_level                                           0.116369   \n",
      "rougher.state.floatbank10_b_air                                            -0.099376   \n",
      "rougher.state.floatbank10_b_level                                           0.105702   \n",
      "rougher.state.floatbank10_c_air                                            -0.100264   \n",
      "rougher.state.floatbank10_c_level                                           0.104035   \n",
      "rougher.state.floatbank10_d_air                                            -0.084851   \n",
      "rougher.state.floatbank10_d_level                                           0.109479   \n",
      "rougher.state.floatbank10_e_air                                             0.067346   \n",
      "rougher.state.floatbank10_e_level                                           0.168247   \n",
      "rougher.state.floatbank10_f_air                                             0.084106   \n",
      "rougher.state.floatbank10_f_level                                           0.188557   \n",
      "secondary_cleaner.state.floatbank2_a_air                                    0.375200   \n",
      "secondary_cleaner.state.floatbank2_a_level                                 -0.097089   \n",
      "secondary_cleaner.state.floatbank2_b_air                                    0.664160   \n",
      "secondary_cleaner.state.floatbank2_b_level                                 -0.077545   \n",
      "secondary_cleaner.state.floatbank3_a_air                                    0.432797   \n",
      "secondary_cleaner.state.floatbank3_a_level                                 -0.088951   \n",
      "secondary_cleaner.state.floatbank3_b_air                                    0.534658   \n",
      "secondary_cleaner.state.floatbank3_b_level                                 -0.061874   \n",
      "secondary_cleaner.state.floatbank4_a_air                                    0.925344   \n",
      "secondary_cleaner.state.floatbank4_a_level                                  0.291668   \n",
      "secondary_cleaner.state.floatbank4_b_air                                    1.000000   \n",
      "secondary_cleaner.state.floatbank4_b_level                                  0.162442   \n",
      "secondary_cleaner.state.floatbank5_a_air                                    0.621448   \n",
      "secondary_cleaner.state.floatbank5_a_level                                  0.231617   \n",
      "secondary_cleaner.state.floatbank5_b_air                                    0.690637   \n",
      "secondary_cleaner.state.floatbank5_b_level                                  0.151066   \n",
      "secondary_cleaner.state.floatbank6_a_air                                    0.188092   \n",
      "secondary_cleaner.state.floatbank6_a_level                                  0.142336   \n",
      "\n",
      "                                            secondary_cleaner.state.floatbank4_b_level  \\\n",
      "primary_cleaner.input.sulfate                                                 0.068693   \n",
      "primary_cleaner.input.depressant                                             -0.085583   \n",
      "primary_cleaner.input.feed_size                                              -0.137180   \n",
      "primary_cleaner.input.xanthate                                                0.121575   \n",
      "primary_cleaner.state.floatbank8_a_air                                       -0.058593   \n",
      "primary_cleaner.state.floatbank8_a_level                                     -0.005819   \n",
      "primary_cleaner.state.floatbank8_b_air                                       -0.080058   \n",
      "primary_cleaner.state.floatbank8_b_level                                     -0.038440   \n",
      "primary_cleaner.state.floatbank8_c_air                                       -0.031081   \n",
      "primary_cleaner.state.floatbank8_c_level                                     -0.013814   \n",
      "primary_cleaner.state.floatbank8_d_air                                       -0.072571   \n",
      "primary_cleaner.state.floatbank8_d_level                                     -0.017416   \n",
      "rougher.input.feed_ag                                                        -0.291577   \n",
      "rougher.input.feed_pb                                                        -0.206534   \n",
      "rougher.input.feed_rate                                                       0.358922   \n",
      "rougher.input.feed_size                                                       0.325574   \n",
      "rougher.input.feed_sol                                                        0.416526   \n",
      "rougher.input.feed_au                                                        -0.266889   \n",
      "rougher.input.floatbank10_sulfate                                             0.298333   \n",
      "rougher.input.floatbank10_xanthate                                            0.163137   \n",
      "rougher.input.floatbank11_sulfate                                             0.340335   \n",
      "rougher.input.floatbank11_xanthate                                            0.215856   \n",
      "rougher.state.floatbank10_a_air                                              -0.123604   \n",
      "rougher.state.floatbank10_a_level                                             0.261028   \n",
      "rougher.state.floatbank10_b_air                                              -0.213919   \n",
      "rougher.state.floatbank10_b_level                                            -0.213382   \n",
      "rougher.state.floatbank10_c_air                                              -0.229330   \n",
      "rougher.state.floatbank10_c_level                                            -0.217125   \n",
      "rougher.state.floatbank10_d_air                                              -0.262495   \n",
      "rougher.state.floatbank10_d_level                                            -0.220828   \n",
      "rougher.state.floatbank10_e_air                                              -0.169546   \n",
      "rougher.state.floatbank10_e_level                                            -0.214266   \n",
      "rougher.state.floatbank10_f_air                                              -0.112751   \n",
      "rougher.state.floatbank10_f_level                                            -0.210791   \n",
      "secondary_cleaner.state.floatbank2_a_air                                     -0.006746   \n",
      "secondary_cleaner.state.floatbank2_a_level                                   -0.016680   \n",
      "secondary_cleaner.state.floatbank2_b_air                                      0.001715   \n",
      "secondary_cleaner.state.floatbank2_b_level                                    0.013354   \n",
      "secondary_cleaner.state.floatbank3_a_air                                     -0.060988   \n",
      "secondary_cleaner.state.floatbank3_a_level                                    0.018798   \n",
      "secondary_cleaner.state.floatbank3_b_air                                     -0.188031   \n",
      "secondary_cleaner.state.floatbank3_b_level                                    0.035838   \n",
      "secondary_cleaner.state.floatbank4_a_air                                      0.256080   \n",
      "secondary_cleaner.state.floatbank4_a_level                                    0.322602   \n",
      "secondary_cleaner.state.floatbank4_b_air                                      0.162442   \n",
      "secondary_cleaner.state.floatbank4_b_level                                    1.000000   \n",
      "secondary_cleaner.state.floatbank5_a_air                                     -0.107707   \n",
      "secondary_cleaner.state.floatbank5_a_level                                    0.147114   \n",
      "secondary_cleaner.state.floatbank5_b_air                                     -0.061246   \n",
      "secondary_cleaner.state.floatbank5_b_level                                    0.085526   \n",
      "secondary_cleaner.state.floatbank6_a_air                                     -0.336132   \n",
      "secondary_cleaner.state.floatbank6_a_level                                    0.046965   \n",
      "\n",
      "                                            secondary_cleaner.state.floatbank5_a_air  \\\n",
      "primary_cleaner.input.sulfate                                               0.093608   \n",
      "primary_cleaner.input.depressant                                           -0.090184   \n",
      "primary_cleaner.input.feed_size                                            -0.192880   \n",
      "primary_cleaner.input.xanthate                                              0.059162   \n",
      "primary_cleaner.state.floatbank8_a_air                                      0.408050   \n",
      "primary_cleaner.state.floatbank8_a_level                                   -0.036132   \n",
      "primary_cleaner.state.floatbank8_b_air                                      0.415343   \n",
      "primary_cleaner.state.floatbank8_b_level                                   -0.009671   \n",
      "primary_cleaner.state.floatbank8_c_air                                      0.400765   \n",
      "primary_cleaner.state.floatbank8_c_level                                   -0.018878   \n",
      "primary_cleaner.state.floatbank8_d_air                                      0.412552   \n",
      "primary_cleaner.state.floatbank8_d_level                                    0.008748   \n",
      "rougher.input.feed_ag                                                      -0.033441   \n",
      "rougher.input.feed_pb                                                      -0.068303   \n",
      "rougher.input.feed_rate                                                    -0.137310   \n",
      "rougher.input.feed_size                                                    -0.116859   \n",
      "rougher.input.feed_sol                                                     -0.229209   \n",
      "rougher.input.feed_au                                                      -0.037379   \n",
      "rougher.input.floatbank10_sulfate                                           0.039912   \n",
      "rougher.input.floatbank10_xanthate                                         -0.141634   \n",
      "rougher.input.floatbank11_sulfate                                           0.066931   \n",
      "rougher.input.floatbank11_xanthate                                         -0.155575   \n",
      "rougher.state.floatbank10_a_air                                            -0.043592   \n",
      "rougher.state.floatbank10_a_level                                          -0.130661   \n",
      "rougher.state.floatbank10_b_air                                             0.351196   \n",
      "rougher.state.floatbank10_b_level                                           0.177808   \n",
      "rougher.state.floatbank10_c_air                                             0.334076   \n",
      "rougher.state.floatbank10_c_level                                           0.172000   \n",
      "rougher.state.floatbank10_d_air                                             0.368140   \n",
      "rougher.state.floatbank10_d_level                                           0.148741   \n",
      "rougher.state.floatbank10_e_air                                             0.395027   \n",
      "rougher.state.floatbank10_e_level                                           0.264139   \n",
      "rougher.state.floatbank10_f_air                                             0.409527   \n",
      "rougher.state.floatbank10_f_level                                           0.261930   \n",
      "secondary_cleaner.state.floatbank2_a_air                                    0.364384   \n",
      "secondary_cleaner.state.floatbank2_a_level                                 -0.013389   \n",
      "secondary_cleaner.state.floatbank2_b_air                                    0.513680   \n",
      "secondary_cleaner.state.floatbank2_b_level                                 -0.020293   \n",
      "secondary_cleaner.state.floatbank3_a_air                                    0.310308   \n",
      "secondary_cleaner.state.floatbank3_a_level                                 -0.197216   \n",
      "secondary_cleaner.state.floatbank3_b_air                                    0.462017   \n",
      "secondary_cleaner.state.floatbank3_b_level                                 -0.174450   \n",
      "secondary_cleaner.state.floatbank4_a_air                                    0.523977   \n",
      "secondary_cleaner.state.floatbank4_a_level                                  0.139509   \n",
      "secondary_cleaner.state.floatbank4_b_air                                    0.621448   \n",
      "secondary_cleaner.state.floatbank4_b_level                                 -0.107707   \n",
      "secondary_cleaner.state.floatbank5_a_air                                    1.000000   \n",
      "secondary_cleaner.state.floatbank5_a_level                                  0.159737   \n",
      "secondary_cleaner.state.floatbank5_b_air                                    0.839300   \n",
      "secondary_cleaner.state.floatbank5_b_level                                  0.097730   \n",
      "secondary_cleaner.state.floatbank6_a_air                                    0.508881   \n",
      "secondary_cleaner.state.floatbank6_a_level                                  0.080659   \n",
      "\n",
      "                                            secondary_cleaner.state.floatbank5_a_level  \\\n",
      "primary_cleaner.input.sulfate                                                 0.132193   \n",
      "primary_cleaner.input.depressant                                              0.009138   \n",
      "primary_cleaner.input.feed_size                                              -0.059167   \n",
      "primary_cleaner.input.xanthate                                                0.128636   \n",
      "primary_cleaner.state.floatbank8_a_air                                        0.271547   \n",
      "primary_cleaner.state.floatbank8_a_level                                      0.164220   \n",
      "primary_cleaner.state.floatbank8_b_air                                        0.260220   \n",
      "primary_cleaner.state.floatbank8_b_level                                      0.029409   \n",
      "primary_cleaner.state.floatbank8_c_air                                        0.239333   \n",
      "primary_cleaner.state.floatbank8_c_level                                      0.143313   \n",
      "primary_cleaner.state.floatbank8_d_air                                        0.259882   \n",
      "primary_cleaner.state.floatbank8_d_level                                      0.078442   \n",
      "rougher.input.feed_ag                                                        -0.011144   \n",
      "rougher.input.feed_pb                                                         0.052358   \n",
      "rougher.input.feed_rate                                                       0.097025   \n",
      "rougher.input.feed_size                                                       0.045213   \n",
      "rougher.input.feed_sol                                                        0.089788   \n",
      "rougher.input.feed_au                                                         0.016553   \n",
      "rougher.input.floatbank10_sulfate                                             0.085431   \n",
      "rougher.input.floatbank10_xanthate                                            0.130590   \n",
      "rougher.input.floatbank11_sulfate                                             0.113906   \n",
      "rougher.input.floatbank11_xanthate                                            0.141563   \n",
      "rougher.state.floatbank10_a_air                                               0.105358   \n",
      "rougher.state.floatbank10_a_level                                             0.119156   \n",
      "rougher.state.floatbank10_b_air                                               0.116437   \n",
      "rougher.state.floatbank10_b_level                                             0.089507   \n",
      "rougher.state.floatbank10_c_air                                               0.092861   \n",
      "rougher.state.floatbank10_c_level                                             0.078225   \n",
      "rougher.state.floatbank10_d_air                                               0.060210   \n",
      "rougher.state.floatbank10_d_level                                             0.048372   \n",
      "rougher.state.floatbank10_e_air                                               0.087056   \n",
      "rougher.state.floatbank10_e_level                                             0.050704   \n",
      "rougher.state.floatbank10_f_air                                               0.085782   \n",
      "rougher.state.floatbank10_f_level                                             0.066304   \n",
      "secondary_cleaner.state.floatbank2_a_air                                      0.161586   \n",
      "secondary_cleaner.state.floatbank2_a_level                                    0.077666   \n",
      "secondary_cleaner.state.floatbank2_b_air                                      0.228662   \n",
      "secondary_cleaner.state.floatbank2_b_level                                    0.078675   \n",
      "secondary_cleaner.state.floatbank3_a_air                                      0.187541   \n",
      "secondary_cleaner.state.floatbank3_a_level                                    0.045148   \n",
      "secondary_cleaner.state.floatbank3_b_air                                      0.174008   \n",
      "secondary_cleaner.state.floatbank3_b_level                                    0.189707   \n",
      "secondary_cleaner.state.floatbank4_a_air                                      0.221838   \n",
      "secondary_cleaner.state.floatbank4_a_level                                    0.129475   \n",
      "secondary_cleaner.state.floatbank4_b_air                                      0.231617   \n",
      "secondary_cleaner.state.floatbank4_b_level                                    0.147114   \n",
      "secondary_cleaner.state.floatbank5_a_air                                      0.159737   \n",
      "secondary_cleaner.state.floatbank5_a_level                                    1.000000   \n",
      "secondary_cleaner.state.floatbank5_b_air                                      0.224178   \n",
      "secondary_cleaner.state.floatbank5_b_level                                    0.516684   \n",
      "secondary_cleaner.state.floatbank6_a_air                                     -0.013499   \n",
      "secondary_cleaner.state.floatbank6_a_level                                    0.404586   \n",
      "\n",
      "                                            secondary_cleaner.state.floatbank5_b_air  \\\n",
      "primary_cleaner.input.sulfate                                               0.156583   \n",
      "primary_cleaner.input.depressant                                            0.064209   \n",
      "primary_cleaner.input.feed_size                                            -0.214970   \n",
      "primary_cleaner.input.xanthate                                              0.077380   \n",
      "primary_cleaner.state.floatbank8_a_air                                      0.465492   \n",
      "primary_cleaner.state.floatbank8_a_level                                   -0.012665   \n",
      "primary_cleaner.state.floatbank8_b_air                                      0.499829   \n",
      "primary_cleaner.state.floatbank8_b_level                                    0.012115   \n",
      "primary_cleaner.state.floatbank8_c_air                                      0.500353   \n",
      "primary_cleaner.state.floatbank8_c_level                                   -0.004169   \n",
      "primary_cleaner.state.floatbank8_d_air                                      0.492616   \n",
      "primary_cleaner.state.floatbank8_d_level                                    0.006287   \n",
      "rougher.input.feed_ag                                                      -0.042389   \n",
      "rougher.input.feed_pb                                                      -0.029590   \n",
      "rougher.input.feed_rate                                                    -0.073347   \n",
      "rougher.input.feed_size                                                    -0.104374   \n",
      "rougher.input.feed_sol                                                     -0.174981   \n",
      "rougher.input.feed_au                                                      -0.015953   \n",
      "rougher.input.floatbank10_sulfate                                           0.143205   \n",
      "rougher.input.floatbank10_xanthate                                         -0.043725   \n",
      "rougher.input.floatbank11_sulfate                                           0.164150   \n",
      "rougher.input.floatbank11_xanthate                                         -0.046432   \n",
      "rougher.state.floatbank10_a_air                                            -0.078618   \n",
      "rougher.state.floatbank10_a_level                                           0.023681   \n",
      "rougher.state.floatbank10_b_air                                             0.291708   \n",
      "rougher.state.floatbank10_b_level                                           0.345947   \n",
      "rougher.state.floatbank10_c_air                                             0.309043   \n",
      "rougher.state.floatbank10_c_level                                           0.353681   \n",
      "rougher.state.floatbank10_d_air                                             0.340406   \n",
      "rougher.state.floatbank10_d_level                                           0.332464   \n",
      "rougher.state.floatbank10_e_air                                             0.414665   \n",
      "rougher.state.floatbank10_e_level                                           0.407902   \n",
      "rougher.state.floatbank10_f_air                                             0.415871   \n",
      "rougher.state.floatbank10_f_level                                           0.392998   \n",
      "secondary_cleaner.state.floatbank2_a_air                                    0.482872   \n",
      "secondary_cleaner.state.floatbank2_a_level                                  0.001987   \n",
      "secondary_cleaner.state.floatbank2_b_air                                    0.670703   \n",
      "secondary_cleaner.state.floatbank2_b_level                                 -0.006990   \n",
      "secondary_cleaner.state.floatbank3_a_air                                    0.525449   \n",
      "secondary_cleaner.state.floatbank3_a_level                                 -0.088070   \n",
      "secondary_cleaner.state.floatbank3_b_air                                    0.641391   \n",
      "secondary_cleaner.state.floatbank3_b_level                                 -0.061240   \n",
      "secondary_cleaner.state.floatbank4_a_air                                    0.630029   \n",
      "secondary_cleaner.state.floatbank4_a_level                                  0.196989   \n",
      "secondary_cleaner.state.floatbank4_b_air                                    0.690637   \n",
      "secondary_cleaner.state.floatbank4_b_level                                 -0.061246   \n",
      "secondary_cleaner.state.floatbank5_a_air                                    0.839300   \n",
      "secondary_cleaner.state.floatbank5_a_level                                  0.224178   \n",
      "secondary_cleaner.state.floatbank5_b_air                                    1.000000   \n",
      "secondary_cleaner.state.floatbank5_b_level                                  0.131951   \n",
      "secondary_cleaner.state.floatbank6_a_air                                    0.463425   \n",
      "secondary_cleaner.state.floatbank6_a_level                                  0.156877   \n",
      "\n",
      "                                            secondary_cleaner.state.floatbank5_b_level  \\\n",
      "primary_cleaner.input.sulfate                                                 0.072618   \n",
      "primary_cleaner.input.depressant                                              0.002988   \n",
      "primary_cleaner.input.feed_size                                              -0.054173   \n",
      "primary_cleaner.input.xanthate                                                0.095508   \n",
      "primary_cleaner.state.floatbank8_a_air                                        0.161509   \n",
      "primary_cleaner.state.floatbank8_a_level                                      0.091263   \n",
      "primary_cleaner.state.floatbank8_b_air                                        0.155978   \n",
      "primary_cleaner.state.floatbank8_b_level                                      0.004864   \n",
      "primary_cleaner.state.floatbank8_c_air                                        0.117465   \n",
      "primary_cleaner.state.floatbank8_c_level                                      0.061153   \n",
      "primary_cleaner.state.floatbank8_d_air                                        0.158148   \n",
      "primary_cleaner.state.floatbank8_d_level                                      0.006570   \n",
      "rougher.input.feed_ag                                                         0.039210   \n",
      "rougher.input.feed_pb                                                         0.077829   \n",
      "rougher.input.feed_rate                                                       0.013943   \n",
      "rougher.input.feed_size                                                      -0.003561   \n",
      "rougher.input.feed_sol                                                        0.008899   \n",
      "rougher.input.feed_au                                                         0.074743   \n",
      "rougher.input.floatbank10_sulfate                                             0.058667   \n",
      "rougher.input.floatbank10_xanthate                                            0.081810   \n",
      "rougher.input.floatbank11_sulfate                                             0.074344   \n",
      "rougher.input.floatbank11_xanthate                                            0.082836   \n",
      "rougher.state.floatbank10_a_air                                               0.072453   \n",
      "rougher.state.floatbank10_a_level                                             0.012086   \n",
      "rougher.state.floatbank10_b_air                                               0.078298   \n",
      "rougher.state.floatbank10_b_level                                             0.058823   \n",
      "rougher.state.floatbank10_c_air                                               0.070987   \n",
      "rougher.state.floatbank10_c_level                                             0.054056   \n",
      "rougher.state.floatbank10_d_air                                               0.045190   \n",
      "rougher.state.floatbank10_d_level                                             0.039969   \n",
      "rougher.state.floatbank10_e_air                                               0.084650   \n",
      "rougher.state.floatbank10_e_level                                             0.048908   \n",
      "rougher.state.floatbank10_f_air                                               0.074507   \n",
      "rougher.state.floatbank10_f_level                                             0.056624   \n",
      "secondary_cleaner.state.floatbank2_a_air                                      0.088529   \n",
      "secondary_cleaner.state.floatbank2_a_level                                    0.010127   \n",
      "secondary_cleaner.state.floatbank2_b_air                                      0.130072   \n",
      "secondary_cleaner.state.floatbank2_b_level                                    0.014914   \n",
      "secondary_cleaner.state.floatbank3_a_air                                      0.100079   \n",
      "secondary_cleaner.state.floatbank3_a_level                                   -0.024978   \n",
      "secondary_cleaner.state.floatbank3_b_air                                      0.089819   \n",
      "secondary_cleaner.state.floatbank3_b_level                                    0.049728   \n",
      "secondary_cleaner.state.floatbank4_a_air                                      0.132053   \n",
      "secondary_cleaner.state.floatbank4_a_level                                    0.038650   \n",
      "secondary_cleaner.state.floatbank4_b_air                                      0.151066   \n",
      "secondary_cleaner.state.floatbank4_b_level                                    0.085526   \n",
      "secondary_cleaner.state.floatbank5_a_air                                      0.097730   \n",
      "secondary_cleaner.state.floatbank5_a_level                                    0.516684   \n",
      "secondary_cleaner.state.floatbank5_b_air                                      0.131951   \n",
      "secondary_cleaner.state.floatbank5_b_level                                    1.000000   \n",
      "secondary_cleaner.state.floatbank6_a_air                                      0.028312   \n",
      "secondary_cleaner.state.floatbank6_a_level                                    0.336502   \n",
      "\n",
      "                                            secondary_cleaner.state.floatbank6_a_air  \\\n",
      "primary_cleaner.input.sulfate                                              -0.134499   \n",
      "primary_cleaner.input.depressant                                           -0.198422   \n",
      "primary_cleaner.input.feed_size                                             0.026930   \n",
      "primary_cleaner.input.xanthate                                             -0.218155   \n",
      "primary_cleaner.state.floatbank8_a_air                                      0.345231   \n",
      "primary_cleaner.state.floatbank8_a_level                                   -0.107710   \n",
      "primary_cleaner.state.floatbank8_b_air                                      0.389594   \n",
      "primary_cleaner.state.floatbank8_b_level                                   -0.006694   \n",
      "primary_cleaner.state.floatbank8_c_air                                      0.490672   \n",
      "primary_cleaner.state.floatbank8_c_level                                   -0.087866   \n",
      "primary_cleaner.state.floatbank8_d_air                                      0.378070   \n",
      "primary_cleaner.state.floatbank8_d_level                                   -0.036983   \n",
      "rougher.input.feed_ag                                                       0.212922   \n",
      "rougher.input.feed_pb                                                      -0.125363   \n",
      "rougher.input.feed_rate                                                    -0.414527   \n",
      "rougher.input.feed_size                                                    -0.356120   \n",
      "rougher.input.feed_sol                                                     -0.488305   \n",
      "rougher.input.feed_au                                                       0.191477   \n",
      "rougher.input.floatbank10_sulfate                                          -0.314369   \n",
      "rougher.input.floatbank10_xanthate                                         -0.112190   \n",
      "rougher.input.floatbank11_sulfate                                          -0.325954   \n",
      "rougher.input.floatbank11_xanthate                                         -0.150245   \n",
      "rougher.state.floatbank10_a_air                                            -0.334347   \n",
      "rougher.state.floatbank10_a_level                                          -0.561842   \n",
      "rougher.state.floatbank10_b_air                                             0.533462   \n",
      "rougher.state.floatbank10_b_level                                           0.455330   \n",
      "rougher.state.floatbank10_c_air                                             0.621525   \n",
      "rougher.state.floatbank10_c_level                                           0.455477   \n",
      "rougher.state.floatbank10_d_air                                             0.598880   \n",
      "rougher.state.floatbank10_d_level                                           0.430585   \n",
      "rougher.state.floatbank10_e_air                                             0.578157   \n",
      "rougher.state.floatbank10_e_level                                           0.484825   \n",
      "rougher.state.floatbank10_f_air                                             0.434982   \n",
      "rougher.state.floatbank10_f_level                                           0.483501   \n",
      "secondary_cleaner.state.floatbank2_a_air                                    0.146489   \n",
      "secondary_cleaner.state.floatbank2_a_level                                  0.048933   \n",
      "secondary_cleaner.state.floatbank2_b_air                                    0.103417   \n",
      "secondary_cleaner.state.floatbank2_b_level                                  0.010788   \n",
      "secondary_cleaner.state.floatbank3_a_air                                    0.268413   \n",
      "secondary_cleaner.state.floatbank3_a_level                                 -0.127807   \n",
      "secondary_cleaner.state.floatbank3_b_air                                    0.395344   \n",
      "secondary_cleaner.state.floatbank3_b_level                                 -0.144723   \n",
      "secondary_cleaner.state.floatbank4_a_air                                    0.082357   \n",
      "secondary_cleaner.state.floatbank4_a_level                                  0.027717   \n",
      "secondary_cleaner.state.floatbank4_b_air                                    0.188092   \n",
      "secondary_cleaner.state.floatbank4_b_level                                 -0.336132   \n",
      "secondary_cleaner.state.floatbank5_a_air                                    0.508881   \n",
      "secondary_cleaner.state.floatbank5_a_level                                 -0.013499   \n",
      "secondary_cleaner.state.floatbank5_b_air                                    0.463425   \n",
      "secondary_cleaner.state.floatbank5_b_level                                  0.028312   \n",
      "secondary_cleaner.state.floatbank6_a_air                                    1.000000   \n",
      "secondary_cleaner.state.floatbank6_a_level                                  0.189606   \n",
      "\n",
      "                                            secondary_cleaner.state.floatbank6_a_level  \n",
      "primary_cleaner.input.sulfate                                                 0.033945  \n",
      "primary_cleaner.input.depressant                                              0.034654  \n",
      "primary_cleaner.input.feed_size                                              -0.083021  \n",
      "primary_cleaner.input.xanthate                                                0.080662  \n",
      "primary_cleaner.state.floatbank8_a_air                                        0.172154  \n",
      "primary_cleaner.state.floatbank8_a_level                                      0.076271  \n",
      "primary_cleaner.state.floatbank8_b_air                                        0.187429  \n",
      "primary_cleaner.state.floatbank8_b_level                                      0.012904  \n",
      "primary_cleaner.state.floatbank8_c_air                                        0.169634  \n",
      "primary_cleaner.state.floatbank8_c_level                                      0.067955  \n",
      "primary_cleaner.state.floatbank8_d_air                                        0.184031  \n",
      "primary_cleaner.state.floatbank8_d_level                                      0.029999  \n",
      "rougher.input.feed_ag                                                        -0.001060  \n",
      "rougher.input.feed_pb                                                         0.067297  \n",
      "rougher.input.feed_rate                                                       0.024289  \n",
      "rougher.input.feed_size                                                       0.007405  \n",
      "rougher.input.feed_sol                                                        0.038093  \n",
      "rougher.input.feed_au                                                         0.036998  \n",
      "rougher.input.floatbank10_sulfate                                             0.066272  \n",
      "rougher.input.floatbank10_xanthate                                            0.112981  \n",
      "rougher.input.floatbank11_sulfate                                             0.082275  \n",
      "rougher.input.floatbank11_xanthate                                            0.129667  \n",
      "rougher.state.floatbank10_a_air                                               0.046717  \n",
      "rougher.state.floatbank10_a_level                                             0.087695  \n",
      "rougher.state.floatbank10_b_air                                               0.022975  \n",
      "rougher.state.floatbank10_b_level                                             0.034661  \n",
      "rougher.state.floatbank10_c_air                                               0.018168  \n",
      "rougher.state.floatbank10_c_level                                             0.031861  \n",
      "rougher.state.floatbank10_d_air                                               0.008341  \n",
      "rougher.state.floatbank10_d_level                                             0.021169  \n",
      "rougher.state.floatbank10_e_air                                               0.040936  \n",
      "rougher.state.floatbank10_e_level                                             0.056080  \n",
      "rougher.state.floatbank10_f_air                                               0.053557  \n",
      "rougher.state.floatbank10_f_level                                             0.064456  \n",
      "secondary_cleaner.state.floatbank2_a_air                                      0.127233  \n",
      "secondary_cleaner.state.floatbank2_a_level                                    0.025503  \n",
      "secondary_cleaner.state.floatbank2_b_air                                      0.158380  \n",
      "secondary_cleaner.state.floatbank2_b_level                                    0.023177  \n",
      "secondary_cleaner.state.floatbank3_a_air                                      0.124885  \n",
      "secondary_cleaner.state.floatbank3_a_level                                    0.010255  \n",
      "secondary_cleaner.state.floatbank3_b_air                                      0.114933  \n",
      "secondary_cleaner.state.floatbank3_b_level                                    0.076089  \n",
      "secondary_cleaner.state.floatbank4_a_air                                      0.145112  \n",
      "secondary_cleaner.state.floatbank4_a_level                                    0.028501  \n",
      "secondary_cleaner.state.floatbank4_b_air                                      0.142336  \n",
      "secondary_cleaner.state.floatbank4_b_level                                    0.046965  \n",
      "secondary_cleaner.state.floatbank5_a_air                                      0.080659  \n",
      "secondary_cleaner.state.floatbank5_a_level                                    0.404586  \n",
      "secondary_cleaner.state.floatbank5_b_air                                      0.156877  \n",
      "secondary_cleaner.state.floatbank5_b_level                                    0.336502  \n",
      "secondary_cleaner.state.floatbank6_a_air                                      0.189606  \n",
      "secondary_cleaner.state.floatbank6_a_level                                    1.000000  \n",
      "\n",
      "[52 rows x 52 columns]\n",
      "\n"
     ]
    }
   ],
   "source": [
    "info_df(test)"
   ]
  },
  {
   "cell_type": "code",
   "execution_count": 6,
   "metadata": {},
   "outputs": [
    {
     "name": "stdout",
     "output_type": "stream",
     "text": [
      "первые пять строк датасета\n",
      "                  date  final.output.concentrate_ag  \\\n",
      "0  2016-01-15 00:00:00                     6.055403   \n",
      "1  2016-01-15 01:00:00                     6.029369   \n",
      "2  2016-01-15 02:00:00                     6.055926   \n",
      "3  2016-01-15 03:00:00                     6.047977   \n",
      "4  2016-01-15 04:00:00                     6.148599   \n",
      "\n",
      "   final.output.concentrate_pb  final.output.concentrate_sol  \\\n",
      "0                     9.889648                      5.507324   \n",
      "1                     9.968944                      5.257781   \n",
      "2                    10.213995                      5.383759   \n",
      "3                     9.977019                      4.858634   \n",
      "4                    10.142511                      4.939416   \n",
      "\n",
      "   final.output.concentrate_au  final.output.recovery  final.output.tail_ag  \\\n",
      "0                    42.192020              70.541216             10.411962   \n",
      "1                    42.701629              69.266198             10.462676   \n",
      "2                    42.657501              68.116445             10.507046   \n",
      "3                    42.689819              68.347543             10.422762   \n",
      "4                    42.774141              66.927016             10.360302   \n",
      "\n",
      "   final.output.tail_pb  final.output.tail_sol  final.output.tail_au  ...  \\\n",
      "0              0.895447              16.904297              2.143149  ...   \n",
      "1              0.927452              16.634514              2.224930  ...   \n",
      "2              0.953716              16.208849              2.257889  ...   \n",
      "3              0.883763              16.532835              2.146849  ...   \n",
      "4              0.792826              16.525686              2.055292  ...   \n",
      "\n",
      "   secondary_cleaner.state.floatbank4_a_air  \\\n",
      "0                                 14.016835   \n",
      "1                                 13.992281   \n",
      "2                                 14.015015   \n",
      "3                                 14.036510   \n",
      "4                                 14.027298   \n",
      "\n",
      "   secondary_cleaner.state.floatbank4_a_level  \\\n",
      "0                                 -502.488007   \n",
      "1                                 -505.503262   \n",
      "2                                 -502.520901   \n",
      "3                                 -500.857308   \n",
      "4                                 -499.838632   \n",
      "\n",
      "   secondary_cleaner.state.floatbank4_b_air  \\\n",
      "0                                 12.099931   \n",
      "1                                 11.950531   \n",
      "2                                 11.912783   \n",
      "3                                 11.999550   \n",
      "4                                 11.953070   \n",
      "\n",
      "   secondary_cleaner.state.floatbank4_b_level  \\\n",
      "0                                 -504.715942   \n",
      "1                                 -501.331529   \n",
      "2                                 -501.133383   \n",
      "3                                 -501.193686   \n",
      "4                                 -501.053894   \n",
      "\n",
      "   secondary_cleaner.state.floatbank5_a_air  \\\n",
      "0                                  9.925633   \n",
      "1                                 10.039245   \n",
      "2                                 10.070913   \n",
      "3                                  9.970366   \n",
      "4                                  9.925709   \n",
      "\n",
      "   secondary_cleaner.state.floatbank5_a_level  \\\n",
      "0                                 -498.310211   \n",
      "1                                 -500.169983   \n",
      "2                                 -500.129135   \n",
      "3                                 -499.201640   \n",
      "4                                 -501.686727   \n",
      "\n",
      "   secondary_cleaner.state.floatbank5_b_air  \\\n",
      "0                                  8.079666   \n",
      "1                                  7.984757   \n",
      "2                                  8.013877   \n",
      "3                                  7.977324   \n",
      "4                                  7.894242   \n",
      "\n",
      "   secondary_cleaner.state.floatbank5_b_level  \\\n",
      "0                                 -500.470978   \n",
      "1                                 -500.582168   \n",
      "2                                 -500.517572   \n",
      "3                                 -500.255908   \n",
      "4                                 -500.356035   \n",
      "\n",
      "   secondary_cleaner.state.floatbank6_a_air  \\\n",
      "0                                 14.151341   \n",
      "1                                 13.998353   \n",
      "2                                 14.028663   \n",
      "3                                 14.005551   \n",
      "4                                 13.996647   \n",
      "\n",
      "   secondary_cleaner.state.floatbank6_a_level  \n",
      "0                                 -605.841980  \n",
      "1                                 -599.787184  \n",
      "2                                 -601.427363  \n",
      "3                                 -599.996129  \n",
      "4                                 -601.496691  \n",
      "\n",
      "[5 rows x 87 columns]\n",
      "\n",
      "СВОДНАЯ ИНФОРМАЦИЯ\n",
      "<class 'pandas.core.frame.DataFrame'>\n",
      "RangeIndex: 19439 entries, 0 to 19438\n",
      "Data columns (total 87 columns):\n",
      " #   Column                                              Non-Null Count  Dtype  \n",
      "---  ------                                              --------------  -----  \n",
      " 0   date                                                19439 non-null  object \n",
      " 1   final.output.concentrate_ag                         19438 non-null  float64\n",
      " 2   final.output.concentrate_pb                         19438 non-null  float64\n",
      " 3   final.output.concentrate_sol                        19228 non-null  float64\n",
      " 4   final.output.concentrate_au                         19439 non-null  float64\n",
      " 5   final.output.recovery                               19439 non-null  float64\n",
      " 6   final.output.tail_ag                                19438 non-null  float64\n",
      " 7   final.output.tail_pb                                19338 non-null  float64\n",
      " 8   final.output.tail_sol                               19433 non-null  float64\n",
      " 9   final.output.tail_au                                19439 non-null  float64\n",
      " 10  primary_cleaner.input.sulfate                       19415 non-null  float64\n",
      " 11  primary_cleaner.input.depressant                    19402 non-null  float64\n",
      " 12  primary_cleaner.input.feed_size                     19439 non-null  float64\n",
      " 13  primary_cleaner.input.xanthate                      19335 non-null  float64\n",
      " 14  primary_cleaner.output.concentrate_ag               19439 non-null  float64\n",
      " 15  primary_cleaner.output.concentrate_pb               19323 non-null  float64\n",
      " 16  primary_cleaner.output.concentrate_sol              19069 non-null  float64\n",
      " 17  primary_cleaner.output.concentrate_au               19439 non-null  float64\n",
      " 18  primary_cleaner.output.tail_ag                      19435 non-null  float64\n",
      " 19  primary_cleaner.output.tail_pb                      19418 non-null  float64\n",
      " 20  primary_cleaner.output.tail_sol                     19377 non-null  float64\n",
      " 21  primary_cleaner.output.tail_au                      19439 non-null  float64\n",
      " 22  primary_cleaner.state.floatbank8_a_air              19435 non-null  float64\n",
      " 23  primary_cleaner.state.floatbank8_a_level            19438 non-null  float64\n",
      " 24  primary_cleaner.state.floatbank8_b_air              19435 non-null  float64\n",
      " 25  primary_cleaner.state.floatbank8_b_level            19438 non-null  float64\n",
      " 26  primary_cleaner.state.floatbank8_c_air              19437 non-null  float64\n",
      " 27  primary_cleaner.state.floatbank8_c_level            19438 non-null  float64\n",
      " 28  primary_cleaner.state.floatbank8_d_air              19436 non-null  float64\n",
      " 29  primary_cleaner.state.floatbank8_d_level            19438 non-null  float64\n",
      " 30  rougher.calculation.sulfate_to_au_concentrate       19437 non-null  float64\n",
      " 31  rougher.calculation.floatbank10_sulfate_to_au_feed  19437 non-null  float64\n",
      " 32  rougher.calculation.floatbank11_sulfate_to_au_feed  19437 non-null  float64\n",
      " 33  rougher.calculation.au_pb_ratio                     19439 non-null  float64\n",
      " 34  rougher.input.feed_ag                               19439 non-null  float64\n",
      " 35  rougher.input.feed_pb                               19339 non-null  float64\n",
      " 36  rougher.input.feed_rate                             19428 non-null  float64\n",
      " 37  rougher.input.feed_size                             19294 non-null  float64\n",
      " 38  rougher.input.feed_sol                              19340 non-null  float64\n",
      " 39  rougher.input.feed_au                               19439 non-null  float64\n",
      " 40  rougher.input.floatbank10_sulfate                   19405 non-null  float64\n",
      " 41  rougher.input.floatbank10_xanthate                  19431 non-null  float64\n",
      " 42  rougher.input.floatbank11_sulfate                   19395 non-null  float64\n",
      " 43  rougher.input.floatbank11_xanthate                  18986 non-null  float64\n",
      " 44  rougher.output.concentrate_ag                       19439 non-null  float64\n",
      " 45  rougher.output.concentrate_pb                       19439 non-null  float64\n",
      " 46  rougher.output.concentrate_sol                      19416 non-null  float64\n",
      " 47  rougher.output.concentrate_au                       19439 non-null  float64\n",
      " 48  rougher.output.recovery                             19439 non-null  float64\n",
      " 49  rougher.output.tail_ag                              19438 non-null  float64\n",
      " 50  rougher.output.tail_pb                              19439 non-null  float64\n",
      " 51  rougher.output.tail_sol                             19439 non-null  float64\n",
      " 52  rougher.output.tail_au                              19439 non-null  float64\n",
      " 53  rougher.state.floatbank10_a_air                     19438 non-null  float64\n",
      " 54  rougher.state.floatbank10_a_level                   19438 non-null  float64\n",
      " 55  rougher.state.floatbank10_b_air                     19438 non-null  float64\n",
      " 56  rougher.state.floatbank10_b_level                   19438 non-null  float64\n",
      " 57  rougher.state.floatbank10_c_air                     19438 non-null  float64\n",
      " 58  rougher.state.floatbank10_c_level                   19438 non-null  float64\n",
      " 59  rougher.state.floatbank10_d_air                     19439 non-null  float64\n",
      " 60  rougher.state.floatbank10_d_level                   19439 non-null  float64\n",
      " 61  rougher.state.floatbank10_e_air                     19003 non-null  float64\n",
      " 62  rougher.state.floatbank10_e_level                   19439 non-null  float64\n",
      " 63  rougher.state.floatbank10_f_air                     19439 non-null  float64\n",
      " 64  rougher.state.floatbank10_f_level                   19439 non-null  float64\n",
      " 65  secondary_cleaner.output.tail_ag                    19437 non-null  float64\n",
      " 66  secondary_cleaner.output.tail_pb                    19427 non-null  float64\n",
      " 67  secondary_cleaner.output.tail_sol                   17691 non-null  float64\n",
      " 68  secondary_cleaner.output.tail_au                    19439 non-null  float64\n",
      " 69  secondary_cleaner.state.floatbank2_a_air            19219 non-null  float64\n",
      " 70  secondary_cleaner.state.floatbank2_a_level          19438 non-null  float64\n",
      " 71  secondary_cleaner.state.floatbank2_b_air            19416 non-null  float64\n",
      " 72  secondary_cleaner.state.floatbank2_b_level          19438 non-null  float64\n",
      " 73  secondary_cleaner.state.floatbank3_a_air            19426 non-null  float64\n",
      " 74  secondary_cleaner.state.floatbank3_a_level          19438 non-null  float64\n",
      " 75  secondary_cleaner.state.floatbank3_b_air            19438 non-null  float64\n",
      " 76  secondary_cleaner.state.floatbank3_b_level          19438 non-null  float64\n",
      " 77  secondary_cleaner.state.floatbank4_a_air            19433 non-null  float64\n",
      " 78  secondary_cleaner.state.floatbank4_a_level          19438 non-null  float64\n",
      " 79  secondary_cleaner.state.floatbank4_b_air            19438 non-null  float64\n",
      " 80  secondary_cleaner.state.floatbank4_b_level          19438 non-null  float64\n",
      " 81  secondary_cleaner.state.floatbank5_a_air            19438 non-null  float64\n",
      " 82  secondary_cleaner.state.floatbank5_a_level          19438 non-null  float64\n",
      " 83  secondary_cleaner.state.floatbank5_b_air            19438 non-null  float64\n",
      " 84  secondary_cleaner.state.floatbank5_b_level          19438 non-null  float64\n",
      " 85  secondary_cleaner.state.floatbank6_a_air            19437 non-null  float64\n",
      " 86  secondary_cleaner.state.floatbank6_a_level          19438 non-null  float64\n",
      "dtypes: float64(86), object(1)\n",
      "memory usage: 12.9+ MB\n",
      "None\n",
      "\n",
      "ПОИСК ДУБЛИКАТОВ\n",
      "0\n",
      "\n",
      "СТАТИСТИКИ\n",
      "       final.output.concentrate_ag  final.output.concentrate_pb  \\\n",
      "count                 19438.000000                 19438.000000   \n",
      "mean                      5.168470                     9.978895   \n",
      "std                       1.372348                     1.669240   \n",
      "min                       0.000000                     0.000000   \n",
      "25%                       4.251240                     9.137262   \n",
      "50%                       5.066094                    10.102433   \n",
      "75%                       5.895527                    11.035769   \n",
      "max                      16.001945                    17.031899   \n",
      "\n",
      "       final.output.concentrate_sol  final.output.concentrate_au  \\\n",
      "count                  19228.000000                 19439.000000   \n",
      "mean                       9.501224                    44.076513   \n",
      "std                        2.787537                     5.129784   \n",
      "min                        0.000000                     0.000000   \n",
      "25%                        7.722820                    43.402215   \n",
      "50%                        9.218961                    45.011244   \n",
      "75%                       10.947813                    46.275313   \n",
      "max                       19.615720                    52.756638   \n",
      "\n",
      "       final.output.recovery  final.output.tail_ag  final.output.tail_pb  \\\n",
      "count           19439.000000          19438.000000          19338.000000   \n",
      "mean               67.050208              9.688589              2.705795   \n",
      "std                10.125840              2.328642              0.949077   \n",
      "min                 0.000000              0.000000              0.000000   \n",
      "25%                63.299712              8.062878              2.040119   \n",
      "50%                68.172738              9.743623              2.748730   \n",
      "75%                72.686642             11.134294              3.333216   \n",
      "max               100.000000             19.552149              5.804178   \n",
      "\n",
      "       final.output.tail_sol  final.output.tail_au  \\\n",
      "count           19433.000000          19439.000000   \n",
      "mean               10.583728              3.042467   \n",
      "std                 2.868782              0.922808   \n",
      "min                 0.000000              0.000000   \n",
      "25%                 8.938947              2.461138   \n",
      "50%                10.622456              2.984909   \n",
      "75%                12.104271              3.571351   \n",
      "max                22.317730              8.245022   \n",
      "\n",
      "       primary_cleaner.input.sulfate  ...  \\\n",
      "count                   19415.000000  ...   \n",
      "mean                      144.624774  ...   \n",
      "std                        44.464071  ...   \n",
      "min                         0.003112  ...   \n",
      "25%                       114.107029  ...   \n",
      "50%                       143.232103  ...   \n",
      "75%                       175.075656  ...   \n",
      "max                       265.983123  ...   \n",
      "\n",
      "       secondary_cleaner.state.floatbank4_a_air  \\\n",
      "count                              19433.000000   \n",
      "mean                                  18.987674   \n",
      "std                                    5.411058   \n",
      "min                                    0.000000   \n",
      "25%                                   14.975734   \n",
      "50%                                   18.017481   \n",
      "75%                                   23.012470   \n",
      "max                                   30.115735   \n",
      "\n",
      "       secondary_cleaner.state.floatbank4_a_level  \\\n",
      "count                                19438.000000   \n",
      "mean                                  -485.894516   \n",
      "std                                     47.758570   \n",
      "min                                   -799.798523   \n",
      "25%                                   -500.704892   \n",
      "50%                                   -499.837793   \n",
      "75%                                   -498.249730   \n",
      "max                                   -245.239184   \n",
      "\n",
      "       secondary_cleaner.state.floatbank4_b_air  \\\n",
      "count                              19438.000000   \n",
      "mean                                  15.010366   \n",
      "std                                    4.890228   \n",
      "min                                    0.000000   \n",
      "25%                                   11.940294   \n",
      "50%                                   14.971014   \n",
      "75%                                   19.034162   \n",
      "max                                   31.269706   \n",
      "\n",
      "       secondary_cleaner.state.floatbank4_b_level  \\\n",
      "count                                19438.000000   \n",
      "mean                                  -461.078636   \n",
      "std                                     67.405524   \n",
      "min                                   -800.836914   \n",
      "25%                                   -500.187742   \n",
      "50%                                   -499.459786   \n",
      "75%                                   -400.118106   \n",
      "max                                     -6.506986   \n",
      "\n",
      "       secondary_cleaner.state.floatbank5_a_air  \\\n",
      "count                              19438.000000   \n",
      "mean                                  15.694452   \n",
      "std                                    5.510974   \n",
      "min                                   -0.372054   \n",
      "25%                                   10.988606   \n",
      "50%                                   15.000036   \n",
      "75%                                   18.026190   \n",
      "max                                   43.709931   \n",
      "\n",
      "       secondary_cleaner.state.floatbank5_a_level  \\\n",
      "count                                19438.000000   \n",
      "mean                                  -488.684065   \n",
      "std                                     34.533396   \n",
      "min                                   -797.323986   \n",
      "25%                                   -500.458467   \n",
      "50%                                   -499.802605   \n",
      "75%                                   -498.384187   \n",
      "max                                   -244.483566   \n",
      "\n",
      "       secondary_cleaner.state.floatbank5_b_air  \\\n",
      "count                              19438.000000   \n",
      "mean                                  12.198224   \n",
      "std                                    5.333024   \n",
      "min                                    0.528083   \n",
      "25%                                    8.971105   \n",
      "50%                                   11.019433   \n",
      "75%                                   14.019088   \n",
      "max                                   27.926001   \n",
      "\n",
      "       secondary_cleaner.state.floatbank5_b_level  \\\n",
      "count                                19438.000000   \n",
      "mean                                  -487.149827   \n",
      "std                                     38.347312   \n",
      "min                                   -800.220337   \n",
      "25%                                   -500.129462   \n",
      "50%                                   -499.935317   \n",
      "75%                                   -499.436708   \n",
      "max                                   -137.740004   \n",
      "\n",
      "       secondary_cleaner.state.floatbank6_a_air  \\\n",
      "count                              19437.000000   \n",
      "mean                                  18.959024   \n",
      "std                                    5.550498   \n",
      "min                                   -0.079426   \n",
      "25%                                   14.983037   \n",
      "50%                                   19.960541   \n",
      "75%                                   24.003170   \n",
      "max                                   32.188906   \n",
      "\n",
      "       secondary_cleaner.state.floatbank6_a_level  \n",
      "count                                19438.000000  \n",
      "mean                                  -505.436305  \n",
      "std                                     37.689057  \n",
      "min                                   -809.741464  \n",
      "25%                                   -500.728067  \n",
      "50%                                   -500.048400  \n",
      "75%                                   -499.495378  \n",
      "max                                   -104.427459  \n",
      "\n",
      "[8 rows x 86 columns]\n",
      "ТАБЛИЦА КОРЕЛЯЦИИ\n",
      "\n",
      "                                            final.output.concentrate_ag  \\\n",
      "final.output.concentrate_ag                                    1.000000   \n",
      "final.output.concentrate_pb                                    0.063570   \n",
      "final.output.concentrate_sol                                   0.380142   \n",
      "final.output.concentrate_au                                   -0.038373   \n",
      "final.output.recovery                                          0.185952   \n",
      "...                                                                 ...   \n",
      "secondary_cleaner.state.floatbank5_a_level                     0.184332   \n",
      "secondary_cleaner.state.floatbank5_b_air                       0.003693   \n",
      "secondary_cleaner.state.floatbank5_b_level                     0.156471   \n",
      "secondary_cleaner.state.floatbank6_a_air                       0.162591   \n",
      "secondary_cleaner.state.floatbank6_a_level                     0.059581   \n",
      "\n",
      "                                            final.output.concentrate_pb  \\\n",
      "final.output.concentrate_ag                                    0.063570   \n",
      "final.output.concentrate_pb                                    1.000000   \n",
      "final.output.concentrate_sol                                  -0.048586   \n",
      "final.output.concentrate_au                                    0.374400   \n",
      "final.output.recovery                                          0.151987   \n",
      "...                                                                 ...   \n",
      "secondary_cleaner.state.floatbank5_a_level                    -0.024668   \n",
      "secondary_cleaner.state.floatbank5_b_air                       0.149266   \n",
      "secondary_cleaner.state.floatbank5_b_level                    -0.060038   \n",
      "secondary_cleaner.state.floatbank6_a_air                      -0.042372   \n",
      "secondary_cleaner.state.floatbank6_a_level                     0.067458   \n",
      "\n",
      "                                            final.output.concentrate_sol  \\\n",
      "final.output.concentrate_ag                                     0.380142   \n",
      "final.output.concentrate_pb                                    -0.048586   \n",
      "final.output.concentrate_sol                                    1.000000   \n",
      "final.output.concentrate_au                                     0.261225   \n",
      "final.output.recovery                                           0.265993   \n",
      "...                                                                  ...   \n",
      "secondary_cleaner.state.floatbank5_a_level                      0.163992   \n",
      "secondary_cleaner.state.floatbank5_b_air                       -0.009510   \n",
      "secondary_cleaner.state.floatbank5_b_level                      0.152343   \n",
      "secondary_cleaner.state.floatbank6_a_air                        0.245158   \n",
      "secondary_cleaner.state.floatbank6_a_level                     -0.216734   \n",
      "\n",
      "                                            final.output.concentrate_au  \\\n",
      "final.output.concentrate_ag                                   -0.038373   \n",
      "final.output.concentrate_pb                                    0.374400   \n",
      "final.output.concentrate_sol                                   0.261225   \n",
      "final.output.concentrate_au                                    1.000000   \n",
      "final.output.recovery                                          0.288568   \n",
      "...                                                                 ...   \n",
      "secondary_cleaner.state.floatbank5_a_level                    -0.080786   \n",
      "secondary_cleaner.state.floatbank5_b_air                      -0.016961   \n",
      "secondary_cleaner.state.floatbank5_b_level                    -0.084962   \n",
      "secondary_cleaner.state.floatbank6_a_air                      -0.082184   \n",
      "secondary_cleaner.state.floatbank6_a_level                    -0.019523   \n",
      "\n",
      "                                            final.output.recovery  \\\n",
      "final.output.concentrate_ag                              0.185952   \n",
      "final.output.concentrate_pb                              0.151987   \n",
      "final.output.concentrate_sol                             0.265993   \n",
      "final.output.concentrate_au                              0.288568   \n",
      "final.output.recovery                                    1.000000   \n",
      "...                                                           ...   \n",
      "secondary_cleaner.state.floatbank5_a_level               0.011871   \n",
      "secondary_cleaner.state.floatbank5_b_air                 0.052017   \n",
      "secondary_cleaner.state.floatbank5_b_level               0.016480   \n",
      "secondary_cleaner.state.floatbank6_a_air                -0.025192   \n",
      "secondary_cleaner.state.floatbank6_a_level              -0.005305   \n",
      "\n",
      "                                            final.output.tail_ag  \\\n",
      "final.output.concentrate_ag                             0.334596   \n",
      "final.output.concentrate_pb                            -0.126886   \n",
      "final.output.concentrate_sol                            0.286305   \n",
      "final.output.concentrate_au                             0.080381   \n",
      "final.output.recovery                                   0.125986   \n",
      "...                                                          ...   \n",
      "secondary_cleaner.state.floatbank5_a_level             -0.021662   \n",
      "secondary_cleaner.state.floatbank5_b_air               -0.013677   \n",
      "secondary_cleaner.state.floatbank5_b_level             -0.003762   \n",
      "secondary_cleaner.state.floatbank6_a_air               -0.055311   \n",
      "secondary_cleaner.state.floatbank6_a_level             -0.088461   \n",
      "\n",
      "                                            final.output.tail_pb  \\\n",
      "final.output.concentrate_ag                            -0.051855   \n",
      "final.output.concentrate_pb                             0.221372   \n",
      "final.output.concentrate_sol                            0.221714   \n",
      "final.output.concentrate_au                             0.081291   \n",
      "final.output.recovery                                  -0.143094   \n",
      "...                                                          ...   \n",
      "secondary_cleaner.state.floatbank5_a_level              0.015060   \n",
      "secondary_cleaner.state.floatbank5_b_air                0.132744   \n",
      "secondary_cleaner.state.floatbank5_b_level              0.041558   \n",
      "secondary_cleaner.state.floatbank6_a_air                0.007496   \n",
      "secondary_cleaner.state.floatbank6_a_level             -0.117950   \n",
      "\n",
      "                                            final.output.tail_sol  \\\n",
      "final.output.concentrate_ag                              0.028890   \n",
      "final.output.concentrate_pb                              0.094385   \n",
      "final.output.concentrate_sol                            -0.023865   \n",
      "final.output.concentrate_au                              0.134978   \n",
      "final.output.recovery                                   -0.050280   \n",
      "...                                                           ...   \n",
      "secondary_cleaner.state.floatbank5_a_level              -0.073670   \n",
      "secondary_cleaner.state.floatbank5_b_air                -0.135330   \n",
      "secondary_cleaner.state.floatbank5_b_level              -0.087635   \n",
      "secondary_cleaner.state.floatbank6_a_air                -0.070706   \n",
      "secondary_cleaner.state.floatbank6_a_level               0.021293   \n",
      "\n",
      "                                            final.output.tail_au  \\\n",
      "final.output.concentrate_ag                             0.206569   \n",
      "final.output.concentrate_pb                            -0.047446   \n",
      "final.output.concentrate_sol                            0.267781   \n",
      "final.output.concentrate_au                            -0.031696   \n",
      "final.output.recovery                                  -0.409200   \n",
      "...                                                          ...   \n",
      "secondary_cleaner.state.floatbank5_a_level              0.035272   \n",
      "secondary_cleaner.state.floatbank5_b_air               -0.160522   \n",
      "secondary_cleaner.state.floatbank5_b_level              0.063404   \n",
      "secondary_cleaner.state.floatbank6_a_air                0.038797   \n",
      "secondary_cleaner.state.floatbank6_a_level             -0.065571   \n",
      "\n",
      "                                            primary_cleaner.input.sulfate  \\\n",
      "final.output.concentrate_ag                                      0.071158   \n",
      "final.output.concentrate_pb                                      0.079160   \n",
      "final.output.concentrate_sol                                     0.316233   \n",
      "final.output.concentrate_au                                      0.102781   \n",
      "final.output.recovery                                            0.366954   \n",
      "...                                                                   ...   \n",
      "secondary_cleaner.state.floatbank5_a_level                      -0.098079   \n",
      "secondary_cleaner.state.floatbank5_b_air                        -0.088879   \n",
      "secondary_cleaner.state.floatbank5_b_level                      -0.054203   \n",
      "secondary_cleaner.state.floatbank6_a_air                        -0.175804   \n",
      "secondary_cleaner.state.floatbank6_a_level                      -0.055692   \n",
      "\n",
      "                                            ...  \\\n",
      "final.output.concentrate_ag                 ...   \n",
      "final.output.concentrate_pb                 ...   \n",
      "final.output.concentrate_sol                ...   \n",
      "final.output.concentrate_au                 ...   \n",
      "final.output.recovery                       ...   \n",
      "...                                         ...   \n",
      "secondary_cleaner.state.floatbank5_a_level  ...   \n",
      "secondary_cleaner.state.floatbank5_b_air    ...   \n",
      "secondary_cleaner.state.floatbank5_b_level  ...   \n",
      "secondary_cleaner.state.floatbank6_a_air    ...   \n",
      "secondary_cleaner.state.floatbank6_a_level  ...   \n",
      "\n",
      "                                            secondary_cleaner.state.floatbank4_a_air  \\\n",
      "final.output.concentrate_ag                                                 0.027343   \n",
      "final.output.concentrate_pb                                                 0.058380   \n",
      "final.output.concentrate_sol                                               -0.049341   \n",
      "final.output.concentrate_au                                                 0.008308   \n",
      "final.output.recovery                                                       0.167059   \n",
      "...                                                                              ...   \n",
      "secondary_cleaner.state.floatbank5_a_level                                  0.175689   \n",
      "secondary_cleaner.state.floatbank5_b_air                                    0.734503   \n",
      "secondary_cleaner.state.floatbank5_b_level                                  0.147999   \n",
      "secondary_cleaner.state.floatbank6_a_air                                    0.229330   \n",
      "secondary_cleaner.state.floatbank6_a_level                                  0.007269   \n",
      "\n",
      "                                            secondary_cleaner.state.floatbank4_a_level  \\\n",
      "final.output.concentrate_ag                                                   0.104118   \n",
      "final.output.concentrate_pb                                                   0.028962   \n",
      "final.output.concentrate_sol                                                  0.147304   \n",
      "final.output.concentrate_au                                                  -0.019481   \n",
      "final.output.recovery                                                         0.031317   \n",
      "...                                                                                ...   \n",
      "secondary_cleaner.state.floatbank5_a_level                                    0.737533   \n",
      "secondary_cleaner.state.floatbank5_b_air                                      0.289059   \n",
      "secondary_cleaner.state.floatbank5_b_level                                    0.630466   \n",
      "secondary_cleaner.state.floatbank6_a_air                                      0.503967   \n",
      "secondary_cleaner.state.floatbank6_a_level                                    0.186186   \n",
      "\n",
      "                                            secondary_cleaner.state.floatbank4_b_air  \\\n",
      "final.output.concentrate_ag                                                 0.029887   \n",
      "final.output.concentrate_pb                                                 0.115404   \n",
      "final.output.concentrate_sol                                                0.020544   \n",
      "final.output.concentrate_au                                                -0.015284   \n",
      "final.output.recovery                                                       0.158557   \n",
      "...                                                                              ...   \n",
      "secondary_cleaner.state.floatbank5_a_level                                  0.069865   \n",
      "secondary_cleaner.state.floatbank5_b_air                                    0.855785   \n",
      "secondary_cleaner.state.floatbank5_b_level                                  0.076251   \n",
      "secondary_cleaner.state.floatbank6_a_air                                    0.311676   \n",
      "secondary_cleaner.state.floatbank6_a_level                                 -0.064545   \n",
      "\n",
      "                                            secondary_cleaner.state.floatbank4_b_level  \\\n",
      "final.output.concentrate_ag                                                  -0.063246   \n",
      "final.output.concentrate_pb                                                   0.093859   \n",
      "final.output.concentrate_sol                                                  0.002077   \n",
      "final.output.concentrate_au                                                  -0.018636   \n",
      "final.output.recovery                                                        -0.049973   \n",
      "...                                                                                ...   \n",
      "secondary_cleaner.state.floatbank5_a_level                                    0.417890   \n",
      "secondary_cleaner.state.floatbank5_b_air                                      0.099747   \n",
      "secondary_cleaner.state.floatbank5_b_level                                    0.364582   \n",
      "secondary_cleaner.state.floatbank6_a_air                                      0.087389   \n",
      "secondary_cleaner.state.floatbank6_a_level                                    0.191545   \n",
      "\n",
      "                                            secondary_cleaner.state.floatbank5_a_air  \\\n",
      "final.output.concentrate_ag                                                -0.004246   \n",
      "final.output.concentrate_pb                                                 0.125920   \n",
      "final.output.concentrate_sol                                               -0.002361   \n",
      "final.output.concentrate_au                                                -0.000971   \n",
      "final.output.recovery                                                       0.067014   \n",
      "...                                                                              ...   \n",
      "secondary_cleaner.state.floatbank5_a_level                                  0.154722   \n",
      "secondary_cleaner.state.floatbank5_b_air                                    0.895832   \n",
      "secondary_cleaner.state.floatbank5_b_level                                  0.135991   \n",
      "secondary_cleaner.state.floatbank6_a_air                                    0.473300   \n",
      "secondary_cleaner.state.floatbank6_a_level                                 -0.008790   \n",
      "\n",
      "                                            secondary_cleaner.state.floatbank5_a_level  \\\n",
      "final.output.concentrate_ag                                                   0.184332   \n",
      "final.output.concentrate_pb                                                  -0.024668   \n",
      "final.output.concentrate_sol                                                  0.163992   \n",
      "final.output.concentrate_au                                                  -0.080786   \n",
      "final.output.recovery                                                         0.011871   \n",
      "...                                                                                ...   \n",
      "secondary_cleaner.state.floatbank5_a_level                                    1.000000   \n",
      "secondary_cleaner.state.floatbank5_b_air                                      0.108107   \n",
      "secondary_cleaner.state.floatbank5_b_level                                    0.818406   \n",
      "secondary_cleaner.state.floatbank6_a_air                                      0.464142   \n",
      "secondary_cleaner.state.floatbank6_a_level                                    0.344494   \n",
      "\n",
      "                                            secondary_cleaner.state.floatbank5_b_air  \\\n",
      "final.output.concentrate_ag                                                 0.003693   \n",
      "final.output.concentrate_pb                                                 0.149266   \n",
      "final.output.concentrate_sol                                               -0.009510   \n",
      "final.output.concentrate_au                                                -0.016961   \n",
      "final.output.recovery                                                       0.052017   \n",
      "...                                                                              ...   \n",
      "secondary_cleaner.state.floatbank5_a_level                                  0.108107   \n",
      "secondary_cleaner.state.floatbank5_b_air                                    1.000000   \n",
      "secondary_cleaner.state.floatbank5_b_level                                  0.090751   \n",
      "secondary_cleaner.state.floatbank6_a_air                                    0.491707   \n",
      "secondary_cleaner.state.floatbank6_a_level                                 -0.011976   \n",
      "\n",
      "                                            secondary_cleaner.state.floatbank5_b_level  \\\n",
      "final.output.concentrate_ag                                                   0.156471   \n",
      "final.output.concentrate_pb                                                  -0.060038   \n",
      "final.output.concentrate_sol                                                  0.152343   \n",
      "final.output.concentrate_au                                                  -0.084962   \n",
      "final.output.recovery                                                         0.016480   \n",
      "...                                                                                ...   \n",
      "secondary_cleaner.state.floatbank5_a_level                                    0.818406   \n",
      "secondary_cleaner.state.floatbank5_b_air                                      0.090751   \n",
      "secondary_cleaner.state.floatbank5_b_level                                    1.000000   \n",
      "secondary_cleaner.state.floatbank6_a_air                                      0.411510   \n",
      "secondary_cleaner.state.floatbank6_a_level                                    0.327861   \n",
      "\n",
      "                                            secondary_cleaner.state.floatbank6_a_air  \\\n",
      "final.output.concentrate_ag                                                 0.162591   \n",
      "final.output.concentrate_pb                                                -0.042372   \n",
      "final.output.concentrate_sol                                                0.245158   \n",
      "final.output.concentrate_au                                                -0.082184   \n",
      "final.output.recovery                                                      -0.025192   \n",
      "...                                                                              ...   \n",
      "secondary_cleaner.state.floatbank5_a_level                                  0.464142   \n",
      "secondary_cleaner.state.floatbank5_b_air                                    0.491707   \n",
      "secondary_cleaner.state.floatbank5_b_level                                  0.411510   \n",
      "secondary_cleaner.state.floatbank6_a_air                                    1.000000   \n",
      "secondary_cleaner.state.floatbank6_a_level                                  0.106270   \n",
      "\n",
      "                                            secondary_cleaner.state.floatbank6_a_level  \n",
      "final.output.concentrate_ag                                                   0.059581  \n",
      "final.output.concentrate_pb                                                   0.067458  \n",
      "final.output.concentrate_sol                                                 -0.216734  \n",
      "final.output.concentrate_au                                                  -0.019523  \n",
      "final.output.recovery                                                        -0.005305  \n",
      "...                                                                                ...  \n",
      "secondary_cleaner.state.floatbank5_a_level                                    0.344494  \n",
      "secondary_cleaner.state.floatbank5_b_air                                     -0.011976  \n",
      "secondary_cleaner.state.floatbank5_b_level                                    0.327861  \n",
      "secondary_cleaner.state.floatbank6_a_air                                      0.106270  \n",
      "secondary_cleaner.state.floatbank6_a_level                                    1.000000  \n",
      "\n",
      "[86 rows x 86 columns]\n",
      "\n"
     ]
    }
   ],
   "source": [
    "info_df(full)"
   ]
  },
  {
   "cell_type": "markdown",
   "metadata": {},
   "source": [
    "вывод:\n",
    "    1.есть нулевые значения на разных этапах в train и full, пока не понятно как они влияют на результаты, оставлю как есть. в test нулевых значений нет.\n",
    "    2. все столбцы соответствуют необходимому типу данных\n",
    "    3. дубликатов нет\n",
    "    4. в test  53 столбца в остальных по 87\n",
    "    \n",
    "    "
   ]
  },
  {
   "cell_type": "markdown",
   "metadata": {},
   "source": [
    "# 1.2 Проверяю, что эффективность обогащения рассчитана правильно"
   ]
  },
  {
   "cell_type": "code",
   "execution_count": 7,
   "metadata": {},
   "outputs": [],
   "source": [
    "#пишу функцию, которая позволит посчтать эффективность обогащения по указанной формуле\n",
    "\n",
    "def recovery(c, f, t):\n",
    "    \n",
    "    #c — доля золота в концентрате после флотации/очистки (rougher.output.concentrate_au)\n",
    "    #f — доля золота в сырье/концентрате до флотации/очистки (rougher.input.feed_au)\n",
    "    #t — доля золота в отвальных хвостах после флотации/очистки (rougher.output.tail_au)\n",
    "    \n",
    "    recovery = ((c*(f-t))/(f*(c-t)))*100\n",
    "      \n",
    "    return recovery"
   ]
  },
  {
   "cell_type": "code",
   "execution_count": 8,
   "metadata": {},
   "outputs": [],
   "source": [
    "#указываю данные для переменных\n",
    "\n",
    "c = train['rougher.output.concentrate_au']\n",
    "f = train['rougher.input.feed_au']\n",
    "t = train['rougher.output.tail_au']"
   ]
  },
  {
   "cell_type": "code",
   "execution_count": 9,
   "metadata": {},
   "outputs": [
    {
     "data": {
      "text/plain": [
       "9.73512347450521e-15"
      ]
     },
     "execution_count": 9,
     "metadata": {},
     "output_type": "execute_result"
    }
   ],
   "source": [
    "#считаю MAE\n",
    "\n",
    "mean_absolute_error(train['rougher.output.recovery'], recovery(c,f,t))"
   ]
  },
  {
   "cell_type": "markdown",
   "metadata": {},
   "source": [
    "вывод:\n",
    "средняя разница между фактическим значением данных и значением, предсказанным моделью, ничтожна мала\n",
    "расчетные значения и их табличные совпадают полностью\n"
   ]
  },
  {
   "cell_type": "markdown",
   "metadata": {},
   "source": [
    "# 1.3. Проанализируем признаки, недоступные в тестовой выборке. Что это за параметры? К какому типу относятся?"
   ]
  },
  {
   "cell_type": "code",
   "execution_count": 10,
   "metadata": {},
   "outputs": [
    {
     "name": "stdout",
     "output_type": "stream",
     "text": [
      "['final.output.concentrate_ag', 'final.output.concentrate_pb', 'final.output.concentrate_sol', 'final.output.concentrate_au', 'final.output.recovery', 'final.output.tail_ag', 'final.output.tail_pb', 'final.output.tail_sol', 'final.output.tail_au', 'primary_cleaner.output.concentrate_ag', 'primary_cleaner.output.concentrate_pb', 'primary_cleaner.output.concentrate_sol', 'primary_cleaner.output.concentrate_au', 'primary_cleaner.output.tail_ag', 'primary_cleaner.output.tail_pb', 'primary_cleaner.output.tail_sol', 'primary_cleaner.output.tail_au', 'rougher.calculation.sulfate_to_au_concentrate', 'rougher.calculation.floatbank10_sulfate_to_au_feed', 'rougher.calculation.floatbank11_sulfate_to_au_feed', 'rougher.calculation.au_pb_ratio', 'rougher.output.concentrate_ag', 'rougher.output.concentrate_pb', 'rougher.output.concentrate_sol', 'rougher.output.concentrate_au', 'rougher.output.recovery', 'rougher.output.tail_ag', 'rougher.output.tail_pb', 'rougher.output.tail_sol', 'rougher.output.tail_au', 'secondary_cleaner.output.tail_ag', 'secondary_cleaner.output.tail_pb', 'secondary_cleaner.output.tail_sol', 'secondary_cleaner.output.tail_au']\n"
     ]
    }
   ],
   "source": [
    "#смотрю стобцы, которых нет в тестовой, но есть в полной\n",
    "\n",
    "out_in_test=[]\n",
    "for i in full.columns:\n",
    "    if i not in test.columns:\n",
    "        out_in_test.append(i)\n",
    "print(out_in_test)"
   ]
  },
  {
   "cell_type": "markdown",
   "metadata": {},
   "source": [
    "в тестовой выборке отсутствуют признаки final.output, primary_cleaner.output, rougher.output, secondary_cleaner.output, самое главное - нет таргетных столбцов rougher.output.recovery и final.output.recovery"
   ]
  },
  {
   "cell_type": "code",
   "execution_count": 11,
   "metadata": {},
   "outputs": [
    {
     "data": {
      "text/plain": [
       "(5290, 55)"
      ]
     },
     "execution_count": 11,
     "metadata": {},
     "output_type": "execute_result"
    }
   ],
   "source": [
    "#добавлю в test таргетные столбцы\n",
    "\n",
    "targets = full[['date', 'rougher.output.recovery', 'final.output.recovery']]\n",
    "test = test.merge(targets, on='date')\n",
    "test.shape"
   ]
  },
  {
   "cell_type": "markdown",
   "metadata": {},
   "source": [
    "# 1.4 Предобработка данных."
   ]
  },
  {
   "cell_type": "code",
   "execution_count": 12,
   "metadata": {},
   "outputs": [
    {
     "data": {
      "text/html": [
       "<div>\n",
       "<style scoped>\n",
       "    .dataframe tbody tr th:only-of-type {\n",
       "        vertical-align: middle;\n",
       "    }\n",
       "\n",
       "    .dataframe tbody tr th {\n",
       "        vertical-align: top;\n",
       "    }\n",
       "\n",
       "    .dataframe thead th {\n",
       "        text-align: right;\n",
       "    }\n",
       "</style>\n",
       "<table border=\"1\" class=\"dataframe\">\n",
       "  <thead>\n",
       "    <tr style=\"text-align: right;\">\n",
       "      <th></th>\n",
       "      <th>final.output.concentrate_ag</th>\n",
       "      <th>final.output.concentrate_pb</th>\n",
       "      <th>final.output.concentrate_sol</th>\n",
       "      <th>final.output.concentrate_au</th>\n",
       "      <th>final.output.recovery</th>\n",
       "      <th>final.output.tail_ag</th>\n",
       "      <th>final.output.tail_pb</th>\n",
       "      <th>final.output.tail_sol</th>\n",
       "      <th>final.output.tail_au</th>\n",
       "      <th>primary_cleaner.input.sulfate</th>\n",
       "      <th>...</th>\n",
       "      <th>secondary_cleaner.state.floatbank4_a_air</th>\n",
       "      <th>secondary_cleaner.state.floatbank4_a_level</th>\n",
       "      <th>secondary_cleaner.state.floatbank4_b_air</th>\n",
       "      <th>secondary_cleaner.state.floatbank4_b_level</th>\n",
       "      <th>secondary_cleaner.state.floatbank5_a_air</th>\n",
       "      <th>secondary_cleaner.state.floatbank5_a_level</th>\n",
       "      <th>secondary_cleaner.state.floatbank5_b_air</th>\n",
       "      <th>secondary_cleaner.state.floatbank5_b_level</th>\n",
       "      <th>secondary_cleaner.state.floatbank6_a_air</th>\n",
       "      <th>secondary_cleaner.state.floatbank6_a_level</th>\n",
       "    </tr>\n",
       "  </thead>\n",
       "  <tbody>\n",
       "    <tr>\n",
       "      <th>0</th>\n",
       "      <td>6.055403</td>\n",
       "      <td>9.889648</td>\n",
       "      <td>5.507324</td>\n",
       "      <td>42.192020</td>\n",
       "      <td>70.541216</td>\n",
       "      <td>10.411962</td>\n",
       "      <td>0.895447</td>\n",
       "      <td>16.904297</td>\n",
       "      <td>2.143149</td>\n",
       "      <td>127.092003</td>\n",
       "      <td>...</td>\n",
       "      <td>14.016835</td>\n",
       "      <td>-502.488007</td>\n",
       "      <td>12.099931</td>\n",
       "      <td>-504.715942</td>\n",
       "      <td>9.925633</td>\n",
       "      <td>-498.310211</td>\n",
       "      <td>8.079666</td>\n",
       "      <td>-500.470978</td>\n",
       "      <td>14.151341</td>\n",
       "      <td>-605.841980</td>\n",
       "    </tr>\n",
       "    <tr>\n",
       "      <th>1</th>\n",
       "      <td>6.029369</td>\n",
       "      <td>9.968944</td>\n",
       "      <td>5.257781</td>\n",
       "      <td>42.701629</td>\n",
       "      <td>69.266198</td>\n",
       "      <td>10.462676</td>\n",
       "      <td>0.927452</td>\n",
       "      <td>16.634514</td>\n",
       "      <td>2.224930</td>\n",
       "      <td>125.629232</td>\n",
       "      <td>...</td>\n",
       "      <td>13.992281</td>\n",
       "      <td>-505.503262</td>\n",
       "      <td>11.950531</td>\n",
       "      <td>-501.331529</td>\n",
       "      <td>10.039245</td>\n",
       "      <td>-500.169983</td>\n",
       "      <td>7.984757</td>\n",
       "      <td>-500.582168</td>\n",
       "      <td>13.998353</td>\n",
       "      <td>-599.787184</td>\n",
       "    </tr>\n",
       "    <tr>\n",
       "      <th>2</th>\n",
       "      <td>6.055926</td>\n",
       "      <td>10.213995</td>\n",
       "      <td>5.383759</td>\n",
       "      <td>42.657501</td>\n",
       "      <td>68.116445</td>\n",
       "      <td>10.507046</td>\n",
       "      <td>0.953716</td>\n",
       "      <td>16.208849</td>\n",
       "      <td>2.257889</td>\n",
       "      <td>123.819808</td>\n",
       "      <td>...</td>\n",
       "      <td>14.015015</td>\n",
       "      <td>-502.520901</td>\n",
       "      <td>11.912783</td>\n",
       "      <td>-501.133383</td>\n",
       "      <td>10.070913</td>\n",
       "      <td>-500.129135</td>\n",
       "      <td>8.013877</td>\n",
       "      <td>-500.517572</td>\n",
       "      <td>14.028663</td>\n",
       "      <td>-601.427363</td>\n",
       "    </tr>\n",
       "    <tr>\n",
       "      <th>3</th>\n",
       "      <td>6.047977</td>\n",
       "      <td>9.977019</td>\n",
       "      <td>4.858634</td>\n",
       "      <td>42.689819</td>\n",
       "      <td>68.347543</td>\n",
       "      <td>10.422762</td>\n",
       "      <td>0.883763</td>\n",
       "      <td>16.532835</td>\n",
       "      <td>2.146849</td>\n",
       "      <td>122.270188</td>\n",
       "      <td>...</td>\n",
       "      <td>14.036510</td>\n",
       "      <td>-500.857308</td>\n",
       "      <td>11.999550</td>\n",
       "      <td>-501.193686</td>\n",
       "      <td>9.970366</td>\n",
       "      <td>-499.201640</td>\n",
       "      <td>7.977324</td>\n",
       "      <td>-500.255908</td>\n",
       "      <td>14.005551</td>\n",
       "      <td>-599.996129</td>\n",
       "    </tr>\n",
       "    <tr>\n",
       "      <th>4</th>\n",
       "      <td>6.148599</td>\n",
       "      <td>10.142511</td>\n",
       "      <td>4.939416</td>\n",
       "      <td>42.774141</td>\n",
       "      <td>66.927016</td>\n",
       "      <td>10.360302</td>\n",
       "      <td>0.792826</td>\n",
       "      <td>16.525686</td>\n",
       "      <td>2.055292</td>\n",
       "      <td>117.988169</td>\n",
       "      <td>...</td>\n",
       "      <td>14.027298</td>\n",
       "      <td>-499.838632</td>\n",
       "      <td>11.953070</td>\n",
       "      <td>-501.053894</td>\n",
       "      <td>9.925709</td>\n",
       "      <td>-501.686727</td>\n",
       "      <td>7.894242</td>\n",
       "      <td>-500.356035</td>\n",
       "      <td>13.996647</td>\n",
       "      <td>-601.496691</td>\n",
       "    </tr>\n",
       "    <tr>\n",
       "      <th>...</th>\n",
       "      <td>...</td>\n",
       "      <td>...</td>\n",
       "      <td>...</td>\n",
       "      <td>...</td>\n",
       "      <td>...</td>\n",
       "      <td>...</td>\n",
       "      <td>...</td>\n",
       "      <td>...</td>\n",
       "      <td>...</td>\n",
       "      <td>...</td>\n",
       "      <td>...</td>\n",
       "      <td>...</td>\n",
       "      <td>...</td>\n",
       "      <td>...</td>\n",
       "      <td>...</td>\n",
       "      <td>...</td>\n",
       "      <td>...</td>\n",
       "      <td>...</td>\n",
       "      <td>...</td>\n",
       "      <td>...</td>\n",
       "      <td>...</td>\n",
       "    </tr>\n",
       "    <tr>\n",
       "      <th>14144</th>\n",
       "      <td>3.224920</td>\n",
       "      <td>11.356233</td>\n",
       "      <td>6.803482</td>\n",
       "      <td>46.713954</td>\n",
       "      <td>73.755150</td>\n",
       "      <td>8.769645</td>\n",
       "      <td>3.141541</td>\n",
       "      <td>10.403181</td>\n",
       "      <td>1.529220</td>\n",
       "      <td>123.381787</td>\n",
       "      <td>...</td>\n",
       "      <td>23.031497</td>\n",
       "      <td>-501.167942</td>\n",
       "      <td>20.007571</td>\n",
       "      <td>-499.740028</td>\n",
       "      <td>18.006038</td>\n",
       "      <td>-499.834374</td>\n",
       "      <td>13.001114</td>\n",
       "      <td>-500.155694</td>\n",
       "      <td>20.007840</td>\n",
       "      <td>-501.296428</td>\n",
       "    </tr>\n",
       "    <tr>\n",
       "      <th>14145</th>\n",
       "      <td>3.195978</td>\n",
       "      <td>11.349355</td>\n",
       "      <td>6.862249</td>\n",
       "      <td>46.866780</td>\n",
       "      <td>69.049291</td>\n",
       "      <td>8.897321</td>\n",
       "      <td>3.130493</td>\n",
       "      <td>10.549470</td>\n",
       "      <td>1.612542</td>\n",
       "      <td>120.878188</td>\n",
       "      <td>...</td>\n",
       "      <td>22.960095</td>\n",
       "      <td>-501.612783</td>\n",
       "      <td>20.035660</td>\n",
       "      <td>-500.251357</td>\n",
       "      <td>17.998535</td>\n",
       "      <td>-500.395178</td>\n",
       "      <td>12.954048</td>\n",
       "      <td>-499.895163</td>\n",
       "      <td>19.968498</td>\n",
       "      <td>-501.041608</td>\n",
       "    </tr>\n",
       "    <tr>\n",
       "      <th>14146</th>\n",
       "      <td>3.109998</td>\n",
       "      <td>11.434366</td>\n",
       "      <td>6.886013</td>\n",
       "      <td>46.795691</td>\n",
       "      <td>67.002189</td>\n",
       "      <td>8.529606</td>\n",
       "      <td>2.911418</td>\n",
       "      <td>11.115147</td>\n",
       "      <td>1.596616</td>\n",
       "      <td>105.666118</td>\n",
       "      <td>...</td>\n",
       "      <td>23.015718</td>\n",
       "      <td>-501.711599</td>\n",
       "      <td>19.951231</td>\n",
       "      <td>-499.857027</td>\n",
       "      <td>18.019543</td>\n",
       "      <td>-500.451156</td>\n",
       "      <td>13.023431</td>\n",
       "      <td>-499.914391</td>\n",
       "      <td>19.990885</td>\n",
       "      <td>-501.518452</td>\n",
       "    </tr>\n",
       "    <tr>\n",
       "      <th>14147</th>\n",
       "      <td>3.367241</td>\n",
       "      <td>11.625587</td>\n",
       "      <td>6.799433</td>\n",
       "      <td>46.408188</td>\n",
       "      <td>65.523246</td>\n",
       "      <td>8.777171</td>\n",
       "      <td>2.819214</td>\n",
       "      <td>10.463847</td>\n",
       "      <td>1.602879</td>\n",
       "      <td>98.880538</td>\n",
       "      <td>...</td>\n",
       "      <td>23.024963</td>\n",
       "      <td>-501.153409</td>\n",
       "      <td>20.054122</td>\n",
       "      <td>-500.314711</td>\n",
       "      <td>17.979515</td>\n",
       "      <td>-499.272871</td>\n",
       "      <td>12.992404</td>\n",
       "      <td>-499.976268</td>\n",
       "      <td>20.013986</td>\n",
       "      <td>-500.625471</td>\n",
       "    </tr>\n",
       "    <tr>\n",
       "      <th>14148</th>\n",
       "      <td>3.598375</td>\n",
       "      <td>11.737832</td>\n",
       "      <td>6.717509</td>\n",
       "      <td>46.299438</td>\n",
       "      <td>70.281454</td>\n",
       "      <td>8.406690</td>\n",
       "      <td>2.517518</td>\n",
       "      <td>10.652193</td>\n",
       "      <td>1.389434</td>\n",
       "      <td>95.248427</td>\n",
       "      <td>...</td>\n",
       "      <td>23.018622</td>\n",
       "      <td>-500.492702</td>\n",
       "      <td>20.020205</td>\n",
       "      <td>-500.220296</td>\n",
       "      <td>17.963512</td>\n",
       "      <td>-499.939490</td>\n",
       "      <td>12.990306</td>\n",
       "      <td>-500.080993</td>\n",
       "      <td>19.990336</td>\n",
       "      <td>-499.191575</td>\n",
       "    </tr>\n",
       "  </tbody>\n",
       "</table>\n",
       "<p>14149 rows × 86 columns</p>\n",
       "</div>"
      ],
      "text/plain": [
       "       final.output.concentrate_ag  final.output.concentrate_pb  \\\n",
       "0                         6.055403                     9.889648   \n",
       "1                         6.029369                     9.968944   \n",
       "2                         6.055926                    10.213995   \n",
       "3                         6.047977                     9.977019   \n",
       "4                         6.148599                    10.142511   \n",
       "...                            ...                          ...   \n",
       "14144                     3.224920                    11.356233   \n",
       "14145                     3.195978                    11.349355   \n",
       "14146                     3.109998                    11.434366   \n",
       "14147                     3.367241                    11.625587   \n",
       "14148                     3.598375                    11.737832   \n",
       "\n",
       "       final.output.concentrate_sol  final.output.concentrate_au  \\\n",
       "0                          5.507324                    42.192020   \n",
       "1                          5.257781                    42.701629   \n",
       "2                          5.383759                    42.657501   \n",
       "3                          4.858634                    42.689819   \n",
       "4                          4.939416                    42.774141   \n",
       "...                             ...                          ...   \n",
       "14144                      6.803482                    46.713954   \n",
       "14145                      6.862249                    46.866780   \n",
       "14146                      6.886013                    46.795691   \n",
       "14147                      6.799433                    46.408188   \n",
       "14148                      6.717509                    46.299438   \n",
       "\n",
       "       final.output.recovery  final.output.tail_ag  final.output.tail_pb  \\\n",
       "0                  70.541216             10.411962              0.895447   \n",
       "1                  69.266198             10.462676              0.927452   \n",
       "2                  68.116445             10.507046              0.953716   \n",
       "3                  68.347543             10.422762              0.883763   \n",
       "4                  66.927016             10.360302              0.792826   \n",
       "...                      ...                   ...                   ...   \n",
       "14144              73.755150              8.769645              3.141541   \n",
       "14145              69.049291              8.897321              3.130493   \n",
       "14146              67.002189              8.529606              2.911418   \n",
       "14147              65.523246              8.777171              2.819214   \n",
       "14148              70.281454              8.406690              2.517518   \n",
       "\n",
       "       final.output.tail_sol  final.output.tail_au  \\\n",
       "0                  16.904297              2.143149   \n",
       "1                  16.634514              2.224930   \n",
       "2                  16.208849              2.257889   \n",
       "3                  16.532835              2.146849   \n",
       "4                  16.525686              2.055292   \n",
       "...                      ...                   ...   \n",
       "14144              10.403181              1.529220   \n",
       "14145              10.549470              1.612542   \n",
       "14146              11.115147              1.596616   \n",
       "14147              10.463847              1.602879   \n",
       "14148              10.652193              1.389434   \n",
       "\n",
       "       primary_cleaner.input.sulfate  ...  \\\n",
       "0                         127.092003  ...   \n",
       "1                         125.629232  ...   \n",
       "2                         123.819808  ...   \n",
       "3                         122.270188  ...   \n",
       "4                         117.988169  ...   \n",
       "...                              ...  ...   \n",
       "14144                     123.381787  ...   \n",
       "14145                     120.878188  ...   \n",
       "14146                     105.666118  ...   \n",
       "14147                      98.880538  ...   \n",
       "14148                      95.248427  ...   \n",
       "\n",
       "       secondary_cleaner.state.floatbank4_a_air  \\\n",
       "0                                     14.016835   \n",
       "1                                     13.992281   \n",
       "2                                     14.015015   \n",
       "3                                     14.036510   \n",
       "4                                     14.027298   \n",
       "...                                         ...   \n",
       "14144                                 23.031497   \n",
       "14145                                 22.960095   \n",
       "14146                                 23.015718   \n",
       "14147                                 23.024963   \n",
       "14148                                 23.018622   \n",
       "\n",
       "       secondary_cleaner.state.floatbank4_a_level  \\\n",
       "0                                     -502.488007   \n",
       "1                                     -505.503262   \n",
       "2                                     -502.520901   \n",
       "3                                     -500.857308   \n",
       "4                                     -499.838632   \n",
       "...                                           ...   \n",
       "14144                                 -501.167942   \n",
       "14145                                 -501.612783   \n",
       "14146                                 -501.711599   \n",
       "14147                                 -501.153409   \n",
       "14148                                 -500.492702   \n",
       "\n",
       "       secondary_cleaner.state.floatbank4_b_air  \\\n",
       "0                                     12.099931   \n",
       "1                                     11.950531   \n",
       "2                                     11.912783   \n",
       "3                                     11.999550   \n",
       "4                                     11.953070   \n",
       "...                                         ...   \n",
       "14144                                 20.007571   \n",
       "14145                                 20.035660   \n",
       "14146                                 19.951231   \n",
       "14147                                 20.054122   \n",
       "14148                                 20.020205   \n",
       "\n",
       "       secondary_cleaner.state.floatbank4_b_level  \\\n",
       "0                                     -504.715942   \n",
       "1                                     -501.331529   \n",
       "2                                     -501.133383   \n",
       "3                                     -501.193686   \n",
       "4                                     -501.053894   \n",
       "...                                           ...   \n",
       "14144                                 -499.740028   \n",
       "14145                                 -500.251357   \n",
       "14146                                 -499.857027   \n",
       "14147                                 -500.314711   \n",
       "14148                                 -500.220296   \n",
       "\n",
       "       secondary_cleaner.state.floatbank5_a_air  \\\n",
       "0                                      9.925633   \n",
       "1                                     10.039245   \n",
       "2                                     10.070913   \n",
       "3                                      9.970366   \n",
       "4                                      9.925709   \n",
       "...                                         ...   \n",
       "14144                                 18.006038   \n",
       "14145                                 17.998535   \n",
       "14146                                 18.019543   \n",
       "14147                                 17.979515   \n",
       "14148                                 17.963512   \n",
       "\n",
       "       secondary_cleaner.state.floatbank5_a_level  \\\n",
       "0                                     -498.310211   \n",
       "1                                     -500.169983   \n",
       "2                                     -500.129135   \n",
       "3                                     -499.201640   \n",
       "4                                     -501.686727   \n",
       "...                                           ...   \n",
       "14144                                 -499.834374   \n",
       "14145                                 -500.395178   \n",
       "14146                                 -500.451156   \n",
       "14147                                 -499.272871   \n",
       "14148                                 -499.939490   \n",
       "\n",
       "       secondary_cleaner.state.floatbank5_b_air  \\\n",
       "0                                      8.079666   \n",
       "1                                      7.984757   \n",
       "2                                      8.013877   \n",
       "3                                      7.977324   \n",
       "4                                      7.894242   \n",
       "...                                         ...   \n",
       "14144                                 13.001114   \n",
       "14145                                 12.954048   \n",
       "14146                                 13.023431   \n",
       "14147                                 12.992404   \n",
       "14148                                 12.990306   \n",
       "\n",
       "       secondary_cleaner.state.floatbank5_b_level  \\\n",
       "0                                     -500.470978   \n",
       "1                                     -500.582168   \n",
       "2                                     -500.517572   \n",
       "3                                     -500.255908   \n",
       "4                                     -500.356035   \n",
       "...                                           ...   \n",
       "14144                                 -500.155694   \n",
       "14145                                 -499.895163   \n",
       "14146                                 -499.914391   \n",
       "14147                                 -499.976268   \n",
       "14148                                 -500.080993   \n",
       "\n",
       "       secondary_cleaner.state.floatbank6_a_air  \\\n",
       "0                                     14.151341   \n",
       "1                                     13.998353   \n",
       "2                                     14.028663   \n",
       "3                                     14.005551   \n",
       "4                                     13.996647   \n",
       "...                                         ...   \n",
       "14144                                 20.007840   \n",
       "14145                                 19.968498   \n",
       "14146                                 19.990885   \n",
       "14147                                 20.013986   \n",
       "14148                                 19.990336   \n",
       "\n",
       "       secondary_cleaner.state.floatbank6_a_level  \n",
       "0                                     -605.841980  \n",
       "1                                     -599.787184  \n",
       "2                                     -601.427363  \n",
       "3                                     -599.996129  \n",
       "4                                     -601.496691  \n",
       "...                                           ...  \n",
       "14144                                 -501.296428  \n",
       "14145                                 -501.041608  \n",
       "14146                                 -501.518452  \n",
       "14147                                 -500.625471  \n",
       "14148                                 -499.191575  \n",
       "\n",
       "[14149 rows x 86 columns]"
      ]
     },
     "execution_count": 12,
     "metadata": {},
     "output_type": "execute_result"
    }
   ],
   "source": [
    "#стоблец date больше не несет  смысловой нагрузки - удаляю его из всез выборок и сразу проверю\n",
    "\n",
    "train = train.drop('date', axis=1)\n",
    "train"
   ]
  },
  {
   "cell_type": "code",
   "execution_count": 13,
   "metadata": {},
   "outputs": [
    {
     "name": "stdout",
     "output_type": "stream",
     "text": [
      "   primary_cleaner.input.sulfate  primary_cleaner.input.depressant  \\\n",
      "0                     210.800909                         14.993118   \n",
      "1                     215.392455                         14.987471   \n",
      "2                     215.259946                         12.884934   \n",
      "3                     215.336236                         12.006805   \n",
      "4                     199.099327                         10.682530   \n",
      "\n",
      "   primary_cleaner.input.feed_size  primary_cleaner.input.xanthate  \\\n",
      "0                         8.080000                        1.005021   \n",
      "1                         8.080000                        0.990469   \n",
      "2                         7.786667                        0.996043   \n",
      "3                         7.640000                        0.863514   \n",
      "4                         7.530000                        0.805575   \n",
      "\n",
      "   primary_cleaner.state.floatbank8_a_air  \\\n",
      "0                             1398.981301   \n",
      "1                             1398.777912   \n",
      "2                             1398.493666   \n",
      "3                             1399.618111   \n",
      "4                             1401.268123   \n",
      "\n",
      "   primary_cleaner.state.floatbank8_a_level  \\\n",
      "0                               -500.225577   \n",
      "1                               -500.057435   \n",
      "2                               -500.868360   \n",
      "3                               -498.863574   \n",
      "4                               -500.808305   \n",
      "\n",
      "   primary_cleaner.state.floatbank8_b_air  \\\n",
      "0                             1399.144926   \n",
      "1                             1398.055362   \n",
      "2                             1398.860436   \n",
      "3                             1397.440120   \n",
      "4                             1398.128818   \n",
      "\n",
      "   primary_cleaner.state.floatbank8_b_level  \\\n",
      "0                               -499.919735   \n",
      "1                               -499.778182   \n",
      "2                               -499.764529   \n",
      "3                               -499.211024   \n",
      "4                               -499.504543   \n",
      "\n",
      "   primary_cleaner.state.floatbank8_c_air  \\\n",
      "0                             1400.102998   \n",
      "1                             1396.151033   \n",
      "2                             1398.075709   \n",
      "3                             1400.129303   \n",
      "4                             1402.172226   \n",
      "\n",
      "   primary_cleaner.state.floatbank8_c_level  ...  \\\n",
      "0                               -500.704369  ...   \n",
      "1                               -499.240168  ...   \n",
      "2                               -502.151509  ...   \n",
      "3                               -498.355873  ...   \n",
      "4                               -500.810606  ...   \n",
      "\n",
      "   secondary_cleaner.state.floatbank4_b_air  \\\n",
      "0                                  8.016656   \n",
      "1                                  8.130979   \n",
      "2                                  8.096893   \n",
      "3                                  8.074946   \n",
      "4                                  8.054678   \n",
      "\n",
      "   secondary_cleaner.state.floatbank4_b_level  \\\n",
      "0                                 -501.289139   \n",
      "1                                 -499.634209   \n",
      "2                                 -500.827423   \n",
      "3                                 -499.474407   \n",
      "4                                 -500.397500   \n",
      "\n",
      "   secondary_cleaner.state.floatbank5_a_air  \\\n",
      "0                                  7.946562   \n",
      "1                                  7.958270   \n",
      "2                                  8.071056   \n",
      "3                                  7.897085   \n",
      "4                                  8.107890   \n",
      "\n",
      "   secondary_cleaner.state.floatbank5_a_level  \\\n",
      "0                                 -432.317850   \n",
      "1                                 -525.839648   \n",
      "2                                 -500.801673   \n",
      "3                                 -500.868509   \n",
      "4                                 -509.526725   \n",
      "\n",
      "   secondary_cleaner.state.floatbank5_b_air  \\\n",
      "0                                  4.872511   \n",
      "1                                  4.878850   \n",
      "2                                  4.905125   \n",
      "3                                  4.931400   \n",
      "4                                  4.957674   \n",
      "\n",
      "   secondary_cleaner.state.floatbank5_b_level  \\\n",
      "0                                 -500.037437   \n",
      "1                                 -500.162375   \n",
      "2                                 -499.828510   \n",
      "3                                 -499.963623   \n",
      "4                                 -500.360026   \n",
      "\n",
      "   secondary_cleaner.state.floatbank6_a_air  \\\n",
      "0                                 26.705889   \n",
      "1                                 25.019940   \n",
      "2                                 24.994862   \n",
      "3                                 24.948919   \n",
      "4                                 25.003331   \n",
      "\n",
      "   secondary_cleaner.state.floatbank6_a_level  rougher.output.recovery  \\\n",
      "0                                 -499.709414                89.993421   \n",
      "1                                 -499.819438                88.089657   \n",
      "2                                 -500.622559                88.412756   \n",
      "3                                 -498.709987                87.360133   \n",
      "4                                 -500.856333                83.236367   \n",
      "\n",
      "   final.output.recovery  \n",
      "0              70.273583  \n",
      "1              68.910432  \n",
      "2              68.143213  \n",
      "3              67.776393  \n",
      "4              61.467078  \n",
      "\n",
      "[5 rows x 54 columns]\n",
      "------------------------\n",
      "   final.output.concentrate_ag  final.output.concentrate_pb  \\\n",
      "0                     6.055403                     9.889648   \n",
      "1                     6.029369                     9.968944   \n",
      "2                     6.055926                    10.213995   \n",
      "3                     6.047977                     9.977019   \n",
      "4                     6.148599                    10.142511   \n",
      "\n",
      "   final.output.concentrate_sol  final.output.concentrate_au  \\\n",
      "0                      5.507324                    42.192020   \n",
      "1                      5.257781                    42.701629   \n",
      "2                      5.383759                    42.657501   \n",
      "3                      4.858634                    42.689819   \n",
      "4                      4.939416                    42.774141   \n",
      "\n",
      "   final.output.recovery  final.output.tail_ag  final.output.tail_pb  \\\n",
      "0              70.541216             10.411962              0.895447   \n",
      "1              69.266198             10.462676              0.927452   \n",
      "2              68.116445             10.507046              0.953716   \n",
      "3              68.347543             10.422762              0.883763   \n",
      "4              66.927016             10.360302              0.792826   \n",
      "\n",
      "   final.output.tail_sol  final.output.tail_au  primary_cleaner.input.sulfate  \\\n",
      "0              16.904297              2.143149                     127.092003   \n",
      "1              16.634514              2.224930                     125.629232   \n",
      "2              16.208849              2.257889                     123.819808   \n",
      "3              16.532835              2.146849                     122.270188   \n",
      "4              16.525686              2.055292                     117.988169   \n",
      "\n",
      "   ...  secondary_cleaner.state.floatbank4_a_air  \\\n",
      "0  ...                                 14.016835   \n",
      "1  ...                                 13.992281   \n",
      "2  ...                                 14.015015   \n",
      "3  ...                                 14.036510   \n",
      "4  ...                                 14.027298   \n",
      "\n",
      "   secondary_cleaner.state.floatbank4_a_level  \\\n",
      "0                                 -502.488007   \n",
      "1                                 -505.503262   \n",
      "2                                 -502.520901   \n",
      "3                                 -500.857308   \n",
      "4                                 -499.838632   \n",
      "\n",
      "   secondary_cleaner.state.floatbank4_b_air  \\\n",
      "0                                 12.099931   \n",
      "1                                 11.950531   \n",
      "2                                 11.912783   \n",
      "3                                 11.999550   \n",
      "4                                 11.953070   \n",
      "\n",
      "   secondary_cleaner.state.floatbank4_b_level  \\\n",
      "0                                 -504.715942   \n",
      "1                                 -501.331529   \n",
      "2                                 -501.133383   \n",
      "3                                 -501.193686   \n",
      "4                                 -501.053894   \n",
      "\n",
      "   secondary_cleaner.state.floatbank5_a_air  \\\n",
      "0                                  9.925633   \n",
      "1                                 10.039245   \n",
      "2                                 10.070913   \n",
      "3                                  9.970366   \n",
      "4                                  9.925709   \n",
      "\n",
      "   secondary_cleaner.state.floatbank5_a_level  \\\n",
      "0                                 -498.310211   \n",
      "1                                 -500.169983   \n",
      "2                                 -500.129135   \n",
      "3                                 -499.201640   \n",
      "4                                 -501.686727   \n",
      "\n",
      "   secondary_cleaner.state.floatbank5_b_air  \\\n",
      "0                                  8.079666   \n",
      "1                                  7.984757   \n",
      "2                                  8.013877   \n",
      "3                                  7.977324   \n",
      "4                                  7.894242   \n",
      "\n",
      "   secondary_cleaner.state.floatbank5_b_level  \\\n",
      "0                                 -500.470978   \n",
      "1                                 -500.582168   \n",
      "2                                 -500.517572   \n",
      "3                                 -500.255908   \n",
      "4                                 -500.356035   \n",
      "\n",
      "   secondary_cleaner.state.floatbank6_a_air  \\\n",
      "0                                 14.151341   \n",
      "1                                 13.998353   \n",
      "2                                 14.028663   \n",
      "3                                 14.005551   \n",
      "4                                 13.996647   \n",
      "\n",
      "   secondary_cleaner.state.floatbank6_a_level  \n",
      "0                                 -605.841980  \n",
      "1                                 -599.787184  \n",
      "2                                 -601.427363  \n",
      "3                                 -599.996129  \n",
      "4                                 -601.496691  \n",
      "\n",
      "[5 rows x 86 columns]\n"
     ]
    }
   ],
   "source": [
    "#аналогично для test  и full\n",
    "\n",
    "test = test.drop('date', axis=1)\n",
    "full = full.drop('date', axis=1)\n",
    "print(test.head())\n",
    "print(\"------------------------\")\n",
    "print(full.head())"
   ]
  },
  {
   "cell_type": "code",
   "execution_count": 14,
   "metadata": {},
   "outputs": [
    {
     "data": {
      "text/plain": [
       "final.output.concentrate_ag                     1\n",
       "final.output.concentrate_pb                     1\n",
       "final.output.concentrate_sol                  211\n",
       "final.output.concentrate_au                     0\n",
       "final.output.recovery                           0\n",
       "                                             ... \n",
       "secondary_cleaner.state.floatbank5_a_level      1\n",
       "secondary_cleaner.state.floatbank5_b_air        1\n",
       "secondary_cleaner.state.floatbank5_b_level      1\n",
       "secondary_cleaner.state.floatbank6_a_air        2\n",
       "secondary_cleaner.state.floatbank6_a_level      1\n",
       "Length: 86, dtype: int64"
      ]
     },
     "execution_count": 14,
     "metadata": {},
     "output_type": "execute_result"
    }
   ],
   "source": [
    "#считаю количсто пропусков в train\n",
    "\n",
    "train.isna().sum()"
   ]
  },
  {
   "cell_type": "code",
   "execution_count": 15,
   "metadata": {},
   "outputs": [],
   "source": [
    "#применяю метод ffill, нулевые значения заменяются данными из предыдущего столбца или строки.\n",
    "\n",
    "train = train.ffill()"
   ]
  },
  {
   "cell_type": "code",
   "execution_count": 16,
   "metadata": {},
   "outputs": [
    {
     "data": {
      "text/plain": [
       "final.output.concentrate_ag                   0\n",
       "final.output.concentrate_pb                   0\n",
       "final.output.concentrate_sol                  0\n",
       "final.output.concentrate_au                   0\n",
       "final.output.recovery                         0\n",
       "                                             ..\n",
       "secondary_cleaner.state.floatbank5_a_level    0\n",
       "secondary_cleaner.state.floatbank5_b_air      0\n",
       "secondary_cleaner.state.floatbank5_b_level    0\n",
       "secondary_cleaner.state.floatbank6_a_air      0\n",
       "secondary_cleaner.state.floatbank6_a_level    0\n",
       "Length: 86, dtype: int64"
      ]
     },
     "execution_count": 16,
     "metadata": {},
     "output_type": "execute_result"
    }
   ],
   "source": [
    "#проверяю, все ок\n",
    "\n",
    "train.isna().sum()"
   ]
  },
  {
   "cell_type": "code",
   "execution_count": 17,
   "metadata": {},
   "outputs": [],
   "source": [
    "#повторяю метод ffill к другим выборкам\n",
    "\n",
    "test = test.ffill()\n",
    "full = full.ffill()"
   ]
  },
  {
   "cell_type": "markdown",
   "metadata": {},
   "source": [
    "вывод:\n",
    "    1. удалил столбец с датой, как уже не нужный\n",
    "    2. заменил пропуски методом ffill, то есть заполнил данными с ближайших строк, это обусловленно тем, данные индексируются датой и временем получения информации. Соседние по времени параметры часто похожи."
   ]
  },
  {
   "cell_type": "markdown",
   "metadata": {},
   "source": [
    "## Анализ данных"
   ]
  },
  {
   "cell_type": "markdown",
   "metadata": {},
   "source": [
    "# 2.1 Как меняется концентрация металлов (Au, Ag, Pb) на различных этапах очистки"
   ]
  },
  {
   "cell_type": "code",
   "execution_count": 18,
   "metadata": {},
   "outputs": [
    {
     "data": {
      "image/png": "[encoded data removed]",
      "text/plain": [
       "<Figure size 1080x720 with 1 Axes>"
      ]
     },
     "metadata": {
      "needs_background": "light"
     },
     "output_type": "display_data"
    }
   ],
   "source": [
    "#рисую гистограмму с концентрацией золота\n",
    "\n",
    "plt.figure(figsize=[15,10])\n",
    "\n",
    "plt.hist(full['final.output.concentrate_au'], bins=100, label = 'final.output', alpha=.7)\n",
    "plt.hist(full['primary_cleaner.output.concentrate_au'], bins=100, label = 'primary_cleaner.output', alpha=.7)\n",
    "plt.hist(full['rougher.output.concentrate_au'], bins=100, label = 'rougher.output', alpha=.7)\n",
    "plt.hist(full['rougher.input.feed_au'], bins=100, label = 'rougher.input', alpha=.7)\n",
    "\n",
    "plt.xlim([0, 55])\n",
    "plt.ylim([0, 2500])\n",
    "\n",
    "plt.xlabel('концентрация золота')\n",
    "plt.ylabel('количество')\n",
    "plt.legend()\n",
    "plt.title('распределение концентрации золота')\n",
    "\n",
    "plt.show()"
   ]
  },
  {
   "cell_type": "markdown",
   "metadata": {},
   "source": [
    "концентрация золота в процессе отфлотации до финальной концентрации увеличивается отчетивыми этапами, есть нулевые значения"
   ]
  },
  {
   "cell_type": "code",
   "execution_count": 19,
   "metadata": {},
   "outputs": [
    {
     "data": {
      "image/png": "[encoded data removed]",
      "text/plain": [
       "<Figure size 1080x720 with 1 Axes>"
      ]
     },
     "metadata": {
      "needs_background": "light"
     },
     "output_type": "display_data"
    }
   ],
   "source": [
    "#гистограмма концентрации серебра\n",
    "\n",
    "plt.figure(figsize=[15,10])\n",
    "\n",
    "plt.hist(full['final.output.concentrate_ag'], bins=100, label = 'final.output', alpha=.7)\n",
    "plt.hist(full['primary_cleaner.output.concentrate_ag'], bins=100, label = 'primary_cleaner.output', alpha=.7)\n",
    "plt.hist(full['rougher.output.concentrate_ag'], bins=100, label = 'rougher.output', alpha=.7)\n",
    "plt.hist(full['rougher.input.feed_ag'], bins=100, label = 'rougher.input', alpha=.7)\n",
    "\n",
    "plt.xlim([0, 25])\n",
    "plt.ylim([0, 1200])\n",
    "\n",
    "plt.xlabel('конценрация серебра')\n",
    "plt.ylabel('количество')\n",
    "plt.legend()\n",
    "plt.title('распределение концентрации серебра')\n",
    "\n",
    "plt.show()"
   ]
  },
  {
   "cell_type": "markdown",
   "metadata": {},
   "source": [
    "возможно ощибка в рассчетах, но концентрация серебра уменьшается в процессе, этапы примерно на четверть заходя друг на друга. концентрация на входе в сырье (rougher.input) и первичной очистке на выходе (primary_cleaner.output) практически совпадают по распределению и количеству\n",
    "есть нулевые значения"
   ]
  },
  {
   "cell_type": "code",
   "execution_count": 20,
   "metadata": {},
   "outputs": [
    {
     "data": {
      "image/png": "[encoded data removed]",
      "text/plain": [
       "<Figure size 1080x720 with 1 Axes>"
      ]
     },
     "metadata": {
      "needs_background": "light"
     },
     "output_type": "display_data"
    }
   ],
   "source": [
    "#гистограмма концентрации свинца\n",
    "\n",
    "plt.figure(figsize=[15,10])\n",
    "\n",
    "plt.hist(full['final.output.concentrate_pb'], bins=100, label = 'final.output', alpha=.7)\n",
    "plt.hist(full['primary_cleaner.output.concentrate_pb'], bins=100, label = 'primary_cleaner.output', alpha=.7)\n",
    "plt.hist(full['rougher.output.concentrate_pb'], bins=100, label = 'rougher.output', alpha=.7)\n",
    "plt.hist(full['rougher.input.feed_pb'], bins=100, label = 'rougher.output', alpha=.7)\n",
    "\n",
    "plt.xlim([0, 20])\n",
    "plt.ylim([0, 1000])\n",
    "\n",
    "plt.xlabel('конценрация свинца')\n",
    "plt.ylabel('количество')\n",
    "plt.legend()\n",
    "plt.title('распределение концентрации свинца')\n",
    "\n",
    "plt.show()"
   ]
  },
  {
   "cell_type": "markdown",
   "metadata": {},
   "source": [
    "распределение этапов в целом не меняется, за исключением концентрация на входе в сырье (rougher.input), на этом этапе логично, что концентрация ниже, чем на дугих этапах , есть значения с нулями"
   ]
  },
  {
   "cell_type": "markdown",
   "metadata": {},
   "source": [
    "# 2.2.  Сравните распределения размеров гранул сырья на обучающей и тестовой выборках. Если распределения сильно отличаются друг от друга, оценка модели будет неправильной."
   ]
  },
  {
   "cell_type": "code",
   "execution_count": 43,
   "metadata": {},
   "outputs": [
    {
     "data": {
      "image/png": "[encoded data removed]",
      "text/plain": [
       "<Figure size 864x648 with 1 Axes>"
      ]
     },
     "metadata": {
      "needs_background": "light"
     },
     "output_type": "display_data"
    }
   ],
   "source": [
    "#рисую гистограмму распределения размеров гранул сырья на обучающей и тестовой выборках\n",
    "#для rougher.input.feed_size\n",
    "\n",
    "plt.figure(figsize=[12,9])\n",
    "plt.xlabel('размер гранул сырья', labelpad=5, fontsize=15)\n",
    "\n",
    "plt.title('расспределение гранул сырья')\n",
    "plt.xlim([0, 125])\n",
    "\n",
    "sns.kdeplot(data=train, x='rougher.input.feed_size', label = 'Train rougher.input.feed_size')\n",
    "sns.kdeplot(data=test, x='rougher.input.feed_size', label = 'Test rougher.input.feed_size')\n",
    "\n",
    "plt.legend()\n",
    "plt.show()"
   ]
  },
  {
   "cell_type": "code",
   "execution_count": 45,
   "metadata": {},
   "outputs": [
    {
     "data": {
      "image/png": "[encoded data removed]",
      "text/plain": [
       "<Figure size 864x648 with 1 Axes>"
      ]
     },
     "metadata": {
      "needs_background": "light"
     },
     "output_type": "display_data"
    }
   ],
   "source": [
    "#рисую гистограмму распределения размеров гранул сырья на обучающей и тестовой выборках\n",
    "#для primary_cleaner.input.feed_size\n",
    "\n",
    "plt.figure(figsize=[12,9])\n",
    "plt.xlabel('размер гранул сырья', labelpad=5, fontsize=15)\n",
    "\n",
    "plt.title('расспределение гранул сырья')\n",
    "plt.xlim([0, 20])\n",
    "\n",
    "sns.kdeplot(data=train, x='primary_cleaner.input.feed_size', label = 'Train primary_cleaner.input.feed_size')\n",
    "sns.kdeplot(data=test, x='primary_cleaner.input.feed_size', label = 'Test primary_cleaner.input.feed_size')\n",
    "\n",
    "plt.legend()\n",
    "plt.show()"
   ]
  },
  {
   "cell_type": "markdown",
   "metadata": {},
   "source": [
    "распределение для флотации и первичной очистки  в обоих выборках практически одинаковое"
   ]
  },
  {
   "cell_type": "markdown",
   "metadata": {},
   "source": [
    "# 2.3 Исследуйте суммарную концентрацию всех веществ на разных стадиях: в сырье, в черновом и финальном концентратах. "
   ]
  },
  {
   "cell_type": "code",
   "execution_count": 22,
   "metadata": {},
   "outputs": [
    {
     "data": {
      "text/plain": [
       "0        63.644396\n",
       "1        63.957723\n",
       "2        64.311180\n",
       "3        63.573449\n",
       "4        64.004667\n",
       "           ...    \n",
       "14144    68.098589\n",
       "14145    68.274362\n",
       "14146    68.226068\n",
       "14147    68.200449\n",
       "14148    68.353154\n",
       "Length: 14149, dtype: float64"
      ]
     },
     "execution_count": 22,
     "metadata": {},
     "output_type": "execute_result"
    }
   ],
   "source": [
    "#считаю суммарные концентрации всех веществ на разных стадиях\n",
    "#\n",
    "\n",
    "final_output_concentrate_sum = train[['final.output.concentrate_au', \n",
    "                                      'final.output.concentrate_ag', \n",
    "                                      'final.output.concentrate_pb', \n",
    "                                      'final.output.concentrate_sol']].sum(axis=1) \n",
    "final_output_concentrate_sum                                 \n",
    "                                      "
   ]
  },
  {
   "cell_type": "code",
   "execution_count": 23,
   "metadata": {},
   "outputs": [
    {
     "data": {
      "text/plain": [
       "0        72.640924\n",
       "1        72.543485\n",
       "2        72.095042\n",
       "3        59.957723\n",
       "4        71.321010\n",
       "           ...    \n",
       "14144    59.001692\n",
       "14145    59.703912\n",
       "14146    59.561096\n",
       "14147    57.216686\n",
       "14148    55.748041\n",
       "Length: 14149, dtype: float64"
      ]
     },
     "execution_count": 23,
     "metadata": {},
     "output_type": "execute_result"
    }
   ],
   "source": [
    "primary_cleaner_output_concentrate_sum = train[['primary_cleaner.output.concentrate_au', \n",
    "                                                'primary_cleaner.output.concentrate_ag', \n",
    "                                                'primary_cleaner.output.concentrate_pb',\n",
    "                                                'primary_cleaner.output.concentrate_sol']].sum(axis=1)\n",
    "primary_cleaner_output_concentrate_sum"
   ]
  },
  {
   "cell_type": "code",
   "execution_count": 24,
   "metadata": {},
   "outputs": [
    {
     "data": {
      "text/plain": [
       "0        66.424950\n",
       "1        67.012710\n",
       "2        66.103793\n",
       "3        65.752751\n",
       "4        65.908382\n",
       "           ...    \n",
       "14144    70.781325\n",
       "14145    70.539603\n",
       "14146    55.376330\n",
       "14147    69.201689\n",
       "14148    69.544003\n",
       "Length: 14149, dtype: float64"
      ]
     },
     "execution_count": 24,
     "metadata": {},
     "output_type": "execute_result"
    }
   ],
   "source": [
    "rougher_output_concentrate_sum = train[['rougher.output.concentrate_au', \n",
    "                                        'rougher.output.concentrate_ag', \n",
    "                                        'rougher.output.concentrate_pb',\n",
    "                                        'rougher.output.concentrate_sol']].sum(axis=1)\n",
    "rougher_output_concentrate_sum"
   ]
  },
  {
   "cell_type": "code",
   "execution_count": 25,
   "metadata": {},
   "outputs": [
    {
     "data": {
      "text/plain": [
       "0        51.680034\n",
       "1        50.659114\n",
       "2        50.609929\n",
       "3        51.061546\n",
       "4        47.859163\n",
       "           ...    \n",
       "14144    53.415050\n",
       "14145    53.696482\n",
       "14146    54.589604\n",
       "14147    54.027355\n",
       "14148    53.535054\n",
       "Length: 14149, dtype: float64"
      ]
     },
     "execution_count": 25,
     "metadata": {},
     "output_type": "execute_result"
    }
   ],
   "source": [
    "rougher_input_feed_sum = train[['rougher.input.feed_au', \n",
    "                                        'rougher.input.feed_ag', \n",
    "                                        'rougher.input.feed_pb',\n",
    "                                        'rougher.input.feed_sol']].sum(axis=1)\n",
    "rougher_input_feed_sum"
   ]
  },
  {
   "cell_type": "code",
   "execution_count": 26,
   "metadata": {},
   "outputs": [
    {
     "data": {
      "image/png": "[encoded data removed]",
      "text/plain": [
       "<Figure size 864x648 with 1 Axes>"
      ]
     },
     "metadata": {
      "needs_background": "light"
     },
     "output_type": "display_data"
    }
   ],
   "source": [
    "#рисую гистограмму концентрации всех веществ на разных стадиях\n",
    "\n",
    "plt.figure(figsize=[12,9])\n",
    "\n",
    "plt.hist(final_output_concentrate_sum, bins=30, label = 'final_output', alpha=.7)\n",
    "plt.hist(primary_cleaner_output_concentrate_sum, bins=30, label = 'primary_cleaner_output', alpha=.7)\n",
    "plt.hist(rougher_output_concentrate_sum, bins=30, label = 'rougher_output', alpha=.5)\n",
    "plt.hist(rougher_input_feed_sum, bins=30, label = 'rougher_input', alpha=.7)\n",
    "\n",
    "plt.xlim([0, 100])\n",
    "plt.ylim([0, 6000])\n",
    "\n",
    "plt.xlabel('концентрация')\n",
    "plt.ylabel('количество')\n",
    "plt.legend()\n",
    "plt.title('концентрация всех веществ на разных стадиях')\n",
    "\n",
    "plt.show()"
   ]
  },
  {
   "cell_type": "markdown",
   "metadata": {},
   "source": [
    "есть нулевые значения, на этапе концентраций такого быть не может\n",
    "концентрация и количество всех веществ на разных стадиях в среднем на 15% к каждому этапу"
   ]
  },
  {
   "cell_type": "code",
   "execution_count": 27,
   "metadata": {},
   "outputs": [
    {
     "name": "stdout",
     "output_type": "stream",
     "text": [
      "final_output = 58\n",
      "primary_cleaner_output = 74\n",
      "rougher_output = 297\n",
      "rougher_input = 0\n"
     ]
    }
   ],
   "source": [
    "#по гистограмме видно что нулевых значений не много, но посмотрю сколько конкретно их в каждой сумме концентраций\n",
    "\n",
    "print(f'final_output = {final_output_concentrate_sum[final_output_concentrate_sum==0].count()}')\n",
    "print(f'primary_cleaner_output = {primary_cleaner_output_concentrate_sum[primary_cleaner_output_concentrate_sum==0].count()}')\n",
    "print(f'rougher_output = {rougher_output_concentrate_sum[rougher_output_concentrate_sum==0].count()}')\n",
    "print(f'rougher_input = {rougher_input_feed_sum[rougher_input_feed_sum==0].count()}')"
   ]
  },
  {
   "cell_type": "markdown",
   "metadata": {},
   "source": [
    "так как это тоько сумма концентраций, удаляю строки с минимальной концентрацией (<1) в исходном train, далее заного посчитаю суммы"
   ]
  },
  {
   "cell_type": "code",
   "execution_count": 28,
   "metadata": {},
   "outputs": [],
   "source": [
    "#удаляю нули в столбцах с этапом concentrate\n",
    "\n",
    "for i in train.columns:\n",
    "    if 'concentrate' in i:\n",
    "        train = train.drop(train[train[i] < 1].index)"
   ]
  },
  {
   "cell_type": "code",
   "execution_count": 29,
   "metadata": {},
   "outputs": [],
   "source": [
    "# еще раз считаю сумму концентраций\n",
    "\n",
    "final_output_concentrate_sum = train[['final.output.concentrate_au', \n",
    "                                      'final.output.concentrate_ag', \n",
    "                                      'final.output.concentrate_pb', \n",
    "                                      'final.output.concentrate_sol']].sum(axis=1) \n",
    "\n",
    "rougher_output_concentrate_sum = train[['rougher.output.concentrate_au', \n",
    "                                        'rougher.output.concentrate_ag', \n",
    "                                        'rougher.output.concentrate_pb',\n",
    "                                        'rougher.output.concentrate_sol']].sum(axis=1)\n",
    "\n",
    "primary_cleaner_output_concentrate_sum = train[['primary_cleaner.output.concentrate_au', \n",
    "                                                'primary_cleaner.output.concentrate_ag', \n",
    "                                                'primary_cleaner.output.concentrate_pb',\n",
    "                                                'primary_cleaner.output.concentrate_sol']].sum(axis=1)\n",
    "\n",
    "rougher_input_feed_sum = train[['rougher.input.feed_au', \n",
    "                                        'rougher.input.feed_ag', \n",
    "                                        'rougher.input.feed_pb',\n",
    "                                        'rougher.input.feed_sol']].sum(axis=1)\n"
   ]
  },
  {
   "cell_type": "code",
   "execution_count": 30,
   "metadata": {},
   "outputs": [
    {
     "data": {
      "image/png": "[encoded data removed]",
      "text/plain": [
       "<Figure size 864x648 with 1 Axes>"
      ]
     },
     "metadata": {
      "needs_background": "light"
     },
     "output_type": "display_data"
    }
   ],
   "source": [
    "#и рисую гистограмму\n",
    "\n",
    "plt.figure(figsize=[12,9])\n",
    "\n",
    "plt.hist(final_output_concentrate_sum, bins=30, label = 'final_output', alpha=.7)\n",
    "plt.hist(primary_cleaner_output_concentrate_sum, bins=30, label = 'primary_cleaner_output', alpha=.7)\n",
    "plt.hist(rougher_output_concentrate_sum, bins=30, label = 'rougher_output', alpha=.7)\n",
    "plt.hist(rougher_input_feed_sum, bins=30, label = 'rougher_input', alpha=.7)\n",
    "\n",
    "plt.xlim([0, 100])\n",
    "plt.ylim([0, 6000])\n",
    "\n",
    "plt.xlabel('концентрация')\n",
    "plt.ylabel('количество')\n",
    "plt.legend()\n",
    "plt.title('концентрация всех веществ на разных стадиях')\n",
    "\n",
    "plt.show()"
   ]
  },
  {
   "cell_type": "markdown",
   "metadata": {},
   "source": [
    "распределение смещается не значитеьно от флотации до финальной концентрации, количество финальной концентрации почти в два раза выше"
   ]
  },
  {
   "cell_type": "markdown",
   "metadata": {},
   "source": [
    "вывод:\n",
    "    1. изучены концентрации всех веществ на разных стадях\n",
    "    2. размер гранул на тренировочной и тестовой выборках\n",
    "    3. сумарная концентрация вечещств, в большнстве случавем концентрация увеличивается от начальных до финальных этапов\n",
    "    4. удалены аномальные данные с концентрацией <1\n",
    "   "
   ]
  },
  {
   "cell_type": "markdown",
   "metadata": {},
   "source": [
    "## Модель"
   ]
  },
  {
   "cell_type": "code",
   "execution_count": 31,
   "metadata": {},
   "outputs": [
    {
     "name": "stdout",
     "output_type": "stream",
     "text": [
      "(13415, 54)\n",
      "Index(['primary_cleaner.input.sulfate', 'primary_cleaner.input.depressant',\n",
      "       'primary_cleaner.input.feed_size', 'primary_cleaner.input.xanthate',\n",
      "       'primary_cleaner.state.floatbank8_a_air',\n",
      "       'primary_cleaner.state.floatbank8_a_level',\n",
      "       'primary_cleaner.state.floatbank8_b_air',\n",
      "       'primary_cleaner.state.floatbank8_b_level',\n",
      "       'primary_cleaner.state.floatbank8_c_air',\n",
      "       'primary_cleaner.state.floatbank8_c_level',\n",
      "       'primary_cleaner.state.floatbank8_d_air',\n",
      "       'primary_cleaner.state.floatbank8_d_level', 'rougher.input.feed_ag',\n",
      "       'rougher.input.feed_pb', 'rougher.input.feed_rate',\n",
      "       'rougher.input.feed_size', 'rougher.input.feed_sol',\n",
      "       'rougher.input.feed_au', 'rougher.input.floatbank10_sulfate',\n",
      "       'rougher.input.floatbank10_xanthate',\n",
      "       'rougher.input.floatbank11_sulfate',\n",
      "       'rougher.input.floatbank11_xanthate', 'rougher.state.floatbank10_a_air',\n",
      "       'rougher.state.floatbank10_a_level', 'rougher.state.floatbank10_b_air',\n",
      "       'rougher.state.floatbank10_b_level', 'rougher.state.floatbank10_c_air',\n",
      "       'rougher.state.floatbank10_c_level', 'rougher.state.floatbank10_d_air',\n",
      "       'rougher.state.floatbank10_d_level', 'rougher.state.floatbank10_e_air',\n",
      "       'rougher.state.floatbank10_e_level', 'rougher.state.floatbank10_f_air',\n",
      "       'rougher.state.floatbank10_f_level',\n",
      "       'secondary_cleaner.state.floatbank2_a_air',\n",
      "       'secondary_cleaner.state.floatbank2_a_level',\n",
      "       'secondary_cleaner.state.floatbank2_b_air',\n",
      "       'secondary_cleaner.state.floatbank2_b_level',\n",
      "       'secondary_cleaner.state.floatbank3_a_air',\n",
      "       'secondary_cleaner.state.floatbank3_a_level',\n",
      "       'secondary_cleaner.state.floatbank3_b_air',\n",
      "       'secondary_cleaner.state.floatbank3_b_level',\n",
      "       'secondary_cleaner.state.floatbank4_a_air',\n",
      "       'secondary_cleaner.state.floatbank4_a_level',\n",
      "       'secondary_cleaner.state.floatbank4_b_air',\n",
      "       'secondary_cleaner.state.floatbank4_b_level',\n",
      "       'secondary_cleaner.state.floatbank5_a_air',\n",
      "       'secondary_cleaner.state.floatbank5_a_level',\n",
      "       'secondary_cleaner.state.floatbank5_b_air',\n",
      "       'secondary_cleaner.state.floatbank5_b_level',\n",
      "       'secondary_cleaner.state.floatbank6_a_air',\n",
      "       'secondary_cleaner.state.floatbank6_a_level', 'rougher.output.recovery',\n",
      "       'final.output.recovery'],\n",
      "      dtype='object')\n"
     ]
    }
   ],
   "source": [
    "#удаляю стобцы в train, котрых нет в test и сразу проверяю\n",
    "\n",
    "train = train[test.columns]\n",
    "print(train.shape)\n",
    "print(train.columns)"
   ]
  },
  {
   "cell_type": "code",
   "execution_count": 32,
   "metadata": {},
   "outputs": [
    {
     "data": {
      "text/html": [
       "<div>\n",
       "<style scoped>\n",
       "    .dataframe tbody tr th:only-of-type {\n",
       "        vertical-align: middle;\n",
       "    }\n",
       "\n",
       "    .dataframe tbody tr th {\n",
       "        vertical-align: top;\n",
       "    }\n",
       "\n",
       "    .dataframe thead th {\n",
       "        text-align: right;\n",
       "    }\n",
       "</style>\n",
       "<table border=\"1\" class=\"dataframe\">\n",
       "  <thead>\n",
       "    <tr style=\"text-align: right;\">\n",
       "      <th></th>\n",
       "      <th>rougher.output.recovery</th>\n",
       "      <th>final.output.recovery</th>\n",
       "    </tr>\n",
       "  </thead>\n",
       "  <tbody>\n",
       "    <tr>\n",
       "      <th>0</th>\n",
       "      <td>87.107763</td>\n",
       "      <td>70.541216</td>\n",
       "    </tr>\n",
       "    <tr>\n",
       "      <th>1</th>\n",
       "      <td>86.843261</td>\n",
       "      <td>69.266198</td>\n",
       "    </tr>\n",
       "    <tr>\n",
       "      <th>2</th>\n",
       "      <td>86.842308</td>\n",
       "      <td>68.116445</td>\n",
       "    </tr>\n",
       "    <tr>\n",
       "      <th>3</th>\n",
       "      <td>87.226430</td>\n",
       "      <td>68.347543</td>\n",
       "    </tr>\n",
       "    <tr>\n",
       "      <th>4</th>\n",
       "      <td>86.688794</td>\n",
       "      <td>66.927016</td>\n",
       "    </tr>\n",
       "    <tr>\n",
       "      <th>...</th>\n",
       "      <td>...</td>\n",
       "      <td>...</td>\n",
       "    </tr>\n",
       "    <tr>\n",
       "      <th>14144</th>\n",
       "      <td>89.574376</td>\n",
       "      <td>73.755150</td>\n",
       "    </tr>\n",
       "    <tr>\n",
       "      <th>14145</th>\n",
       "      <td>87.724007</td>\n",
       "      <td>69.049291</td>\n",
       "    </tr>\n",
       "    <tr>\n",
       "      <th>14146</th>\n",
       "      <td>88.890579</td>\n",
       "      <td>67.002189</td>\n",
       "    </tr>\n",
       "    <tr>\n",
       "      <th>14147</th>\n",
       "      <td>89.858126</td>\n",
       "      <td>65.523246</td>\n",
       "    </tr>\n",
       "    <tr>\n",
       "      <th>14148</th>\n",
       "      <td>89.514960</td>\n",
       "      <td>70.281454</td>\n",
       "    </tr>\n",
       "  </tbody>\n",
       "</table>\n",
       "<p>13415 rows × 2 columns</p>\n",
       "</div>"
      ],
      "text/plain": [
       "       rougher.output.recovery  final.output.recovery\n",
       "0                    87.107763              70.541216\n",
       "1                    86.843261              69.266198\n",
       "2                    86.842308              68.116445\n",
       "3                    87.226430              68.347543\n",
       "4                    86.688794              66.927016\n",
       "...                        ...                    ...\n",
       "14144                89.574376              73.755150\n",
       "14145                87.724007              69.049291\n",
       "14146                88.890579              67.002189\n",
       "14147                89.858126              65.523246\n",
       "14148                89.514960              70.281454\n",
       "\n",
       "[13415 rows x 2 columns]"
      ]
     },
     "execution_count": 32,
     "metadata": {},
     "output_type": "execute_result"
    }
   ],
   "source": [
    "#удаляю таргетные стоблцы из train для подготовки features\n",
    "\n",
    "features_train = train.drop('rougher.output.recovery', axis=1)\n",
    "features_train = features_train.drop(['final.output.recovery'], axis=1)\n",
    "\n",
    "target_train = train[['rougher.output.recovery', 'final.output.recovery']]\n",
    "target_train\n",
    "#Предсказать нужно будет не только rougher.output.recovery, но и final.output.recovery"
   ]
  },
  {
   "cell_type": "code",
   "execution_count": 33,
   "metadata": {},
   "outputs": [
    {
     "data": {
      "text/html": [
       "<div>\n",
       "<style scoped>\n",
       "    .dataframe tbody tr th:only-of-type {\n",
       "        vertical-align: middle;\n",
       "    }\n",
       "\n",
       "    .dataframe tbody tr th {\n",
       "        vertical-align: top;\n",
       "    }\n",
       "\n",
       "    .dataframe thead th {\n",
       "        text-align: right;\n",
       "    }\n",
       "</style>\n",
       "<table border=\"1\" class=\"dataframe\">\n",
       "  <thead>\n",
       "    <tr style=\"text-align: right;\">\n",
       "      <th></th>\n",
       "      <th>rougher.output.recovery</th>\n",
       "      <th>final.output.recovery</th>\n",
       "    </tr>\n",
       "  </thead>\n",
       "  <tbody>\n",
       "    <tr>\n",
       "      <th>0</th>\n",
       "      <td>87.107763</td>\n",
       "      <td>70.541216</td>\n",
       "    </tr>\n",
       "    <tr>\n",
       "      <th>1</th>\n",
       "      <td>86.843261</td>\n",
       "      <td>69.266198</td>\n",
       "    </tr>\n",
       "    <tr>\n",
       "      <th>2</th>\n",
       "      <td>86.842308</td>\n",
       "      <td>68.116445</td>\n",
       "    </tr>\n",
       "    <tr>\n",
       "      <th>3</th>\n",
       "      <td>87.226430</td>\n",
       "      <td>68.347543</td>\n",
       "    </tr>\n",
       "    <tr>\n",
       "      <th>4</th>\n",
       "      <td>86.688794</td>\n",
       "      <td>66.927016</td>\n",
       "    </tr>\n",
       "    <tr>\n",
       "      <th>...</th>\n",
       "      <td>...</td>\n",
       "      <td>...</td>\n",
       "    </tr>\n",
       "    <tr>\n",
       "      <th>14144</th>\n",
       "      <td>89.574376</td>\n",
       "      <td>73.755150</td>\n",
       "    </tr>\n",
       "    <tr>\n",
       "      <th>14145</th>\n",
       "      <td>87.724007</td>\n",
       "      <td>69.049291</td>\n",
       "    </tr>\n",
       "    <tr>\n",
       "      <th>14146</th>\n",
       "      <td>88.890579</td>\n",
       "      <td>67.002189</td>\n",
       "    </tr>\n",
       "    <tr>\n",
       "      <th>14147</th>\n",
       "      <td>89.858126</td>\n",
       "      <td>65.523246</td>\n",
       "    </tr>\n",
       "    <tr>\n",
       "      <th>14148</th>\n",
       "      <td>89.514960</td>\n",
       "      <td>70.281454</td>\n",
       "    </tr>\n",
       "  </tbody>\n",
       "</table>\n",
       "<p>13415 rows × 2 columns</p>\n",
       "</div>"
      ],
      "text/plain": [
       "       rougher.output.recovery  final.output.recovery\n",
       "0                    87.107763              70.541216\n",
       "1                    86.843261              69.266198\n",
       "2                    86.842308              68.116445\n",
       "3                    87.226430              68.347543\n",
       "4                    86.688794              66.927016\n",
       "...                        ...                    ...\n",
       "14144                89.574376              73.755150\n",
       "14145                87.724007              69.049291\n",
       "14146                88.890579              67.002189\n",
       "14147                89.858126              65.523246\n",
       "14148                89.514960              70.281454\n",
       "\n",
       "[13415 rows x 2 columns]"
      ]
     },
     "execution_count": 33,
     "metadata": {},
     "output_type": "execute_result"
    }
   ],
   "source": [
    "#оставляю таргетные столбцы в train для подготовки target\n",
    "\n",
    "target_train = train[['rougher.output.recovery', 'final.output.recovery']]\n",
    "target_train"
   ]
  },
  {
   "cell_type": "code",
   "execution_count": 34,
   "metadata": {},
   "outputs": [],
   "source": [
    "#аналогично для test\n",
    "\n",
    "features_test = test.drop('rougher.output.recovery', axis=1)\n",
    "features_test = features_test.drop(['final.output.recovery'], axis=1)\n",
    "\n",
    "target_test = test[['rougher.output.recovery', 'final.output.recovery']]"
   ]
  },
  {
   "cell_type": "code",
   "execution_count": 35,
   "metadata": {},
   "outputs": [],
   "source": [
    "#функция для вычисления итоговой sMAPE.\n",
    "\n",
    "def sMAPE_score(target, target_pred):\n",
    "   \n",
    "    return ((1/len(target)) * np.sum(2 * np.abs(target - target_pred) / \n",
    "                                       (np.abs(target) + np.abs(target_pred)))) * 100\n",
    "    \n",
    "def sMAPE_final_score(target, target_pred):\n",
    "    target_r = target['rougher.output.recovery']\n",
    "    target_f = target['final.output.recovery']\n",
    "    \n",
    "    target_pred_r = target_pred[:, 0]\n",
    "    target_pred_f = target_pred[:, 1]\n",
    "    \n",
    "    return 0.25 * sMAPE_score(target_r, target_pred_r) + 0.75 * sMAPE_score(target_r, target_pred_r)\n",
    "        \n",
    "        \n",
    "sMAPE_scorer = make_scorer(sMAPE_final_score, greater_is_better=False)"
   ]
  },
  {
   "cell_type": "code",
   "execution_count": 36,
   "metadata": {},
   "outputs": [
    {
     "name": "stderr",
     "output_type": "stream",
     "text": [
      "[Parallel(n_jobs=-1)]: Using backend SequentialBackend with 1 concurrent workers.\n"
     ]
    },
    {
     "name": "stdout",
     "output_type": "stream",
     "text": [
      "[CV] START .....................................................................\n",
      "[CV] END ............................... score: (test=-9.300) total time=   0.4s\n",
      "[CV] START .....................................................................\n"
     ]
    },
    {
     "name": "stderr",
     "output_type": "stream",
     "text": [
      "[Parallel(n_jobs=-1)]: Done   1 out of   1 | elapsed:    0.5s remaining:    0.0s\n"
     ]
    },
    {
     "name": "stdout",
     "output_type": "stream",
     "text": [
      "[CV] END ............................... score: (test=-9.564) total time=   0.5s\n",
      "[CV] START .....................................................................\n"
     ]
    },
    {
     "name": "stderr",
     "output_type": "stream",
     "text": [
      "[Parallel(n_jobs=-1)]: Done   2 out of   2 | elapsed:    1.0s remaining:    0.0s\n"
     ]
    },
    {
     "name": "stdout",
     "output_type": "stream",
     "text": [
      "[CV] END .............................. score: (test=-13.028) total time=   0.4s\n",
      "Лучшее значение sMAPE для линейной регрессии:10.630805220920166\n"
     ]
    },
    {
     "name": "stderr",
     "output_type": "stream",
     "text": [
      "[Parallel(n_jobs=-1)]: Done   3 out of   3 | elapsed:    1.4s remaining:    0.0s\n",
      "[Parallel(n_jobs=-1)]: Done   3 out of   3 | elapsed:    1.4s finished\n"
     ]
    }
   ],
   "source": [
    "# линейная регрессия\n",
    "\n",
    "model = LinearRegression()\n",
    "model.fit(features_train, target_train)\n",
    "sMAPE = cross_val_score(model, features_train, target_train, cv=3, scoring=sMAPE_scorer, \n",
    "                        n_jobs=-1, verbose=10).mean()\n",
    "print(f'Лучшее значение sMAPE для линейной регрессии:{-sMAPE}')"
   ]
  },
  {
   "cell_type": "code",
   "execution_count": 37,
   "metadata": {},
   "outputs": [
    {
     "name": "stdout",
     "output_type": "stream",
     "text": [
      "Fitting 5 folds for each of 4 candidates, totalling 20 fits\n",
      "[CV 1/5; 1/4] START max_depth=1, n_estimators=10................................\n",
      "[CV 1/5; 1/4] END ..............max_depth=1, n_estimators=10; total time=   0.6s\n",
      "[CV 2/5; 1/4] START max_depth=1, n_estimators=10................................\n",
      "[CV 2/5; 1/4] END ..............max_depth=1, n_estimators=10; total time=   0.5s\n",
      "[CV 3/5; 1/4] START max_depth=1, n_estimators=10................................\n",
      "[CV 3/5; 1/4] END ..............max_depth=1, n_estimators=10; total time=   0.5s\n",
      "[CV 4/5; 1/4] START max_depth=1, n_estimators=10................................\n",
      "[CV 4/5; 1/4] END ..............max_depth=1, n_estimators=10; total time=   0.5s\n",
      "[CV 5/5; 1/4] START max_depth=1, n_estimators=10................................\n",
      "[CV 5/5; 1/4] END ..............max_depth=1, n_estimators=10; total time=   0.5s\n",
      "[CV 1/5; 2/4] START max_depth=1, n_estimators=20................................\n",
      "[CV 1/5; 2/4] END ..............max_depth=1, n_estimators=20; total time=   0.9s\n",
      "[CV 2/5; 2/4] START max_depth=1, n_estimators=20................................\n",
      "[CV 2/5; 2/4] END ..............max_depth=1, n_estimators=20; total time=   0.9s\n",
      "[CV 3/5; 2/4] START max_depth=1, n_estimators=20................................\n",
      "[CV 3/5; 2/4] END ..............max_depth=1, n_estimators=20; total time=   0.9s\n",
      "[CV 4/5; 2/4] START max_depth=1, n_estimators=20................................\n",
      "[CV 4/5; 2/4] END ..............max_depth=1, n_estimators=20; total time=   0.9s\n",
      "[CV 5/5; 2/4] START max_depth=1, n_estimators=20................................\n",
      "[CV 5/5; 2/4] END ..............max_depth=1, n_estimators=20; total time=   0.9s\n",
      "[CV 1/5; 3/4] START max_depth=2, n_estimators=10................................\n",
      "[CV 1/5; 3/4] END ..............max_depth=2, n_estimators=10; total time=   0.9s\n",
      "[CV 2/5; 3/4] START max_depth=2, n_estimators=10................................\n",
      "[CV 2/5; 3/4] END ..............max_depth=2, n_estimators=10; total time=   0.9s\n",
      "[CV 3/5; 3/4] START max_depth=2, n_estimators=10................................\n",
      "[CV 3/5; 3/4] END ..............max_depth=2, n_estimators=10; total time=   0.9s\n",
      "[CV 4/5; 3/4] START max_depth=2, n_estimators=10................................\n",
      "[CV 4/5; 3/4] END ..............max_depth=2, n_estimators=10; total time=   0.9s\n",
      "[CV 5/5; 3/4] START max_depth=2, n_estimators=10................................\n",
      "[CV 5/5; 3/4] END ..............max_depth=2, n_estimators=10; total time=   0.9s\n",
      "[CV 1/5; 4/4] START max_depth=2, n_estimators=20................................\n",
      "[CV 1/5; 4/4] END ..............max_depth=2, n_estimators=20; total time=   1.7s\n",
      "[CV 2/5; 4/4] START max_depth=2, n_estimators=20................................\n",
      "[CV 2/5; 4/4] END ..............max_depth=2, n_estimators=20; total time=   1.7s\n",
      "[CV 3/5; 4/4] START max_depth=2, n_estimators=20................................\n",
      "[CV 3/5; 4/4] END ..............max_depth=2, n_estimators=20; total time=   1.7s\n",
      "[CV 4/5; 4/4] START max_depth=2, n_estimators=20................................\n",
      "[CV 4/5; 4/4] END ..............max_depth=2, n_estimators=20; total time=   1.7s\n",
      "[CV 5/5; 4/4] START max_depth=2, n_estimators=20................................\n",
      "[CV 5/5; 4/4] END ..............max_depth=2, n_estimators=20; total time=   1.7s\n",
      "лучшее значение sMAPE для случайного леса: 6.733050059510129\n",
      "при значениях гиперпараметров: {'max_depth': 2, 'n_estimators': 20}\n"
     ]
    }
   ],
   "source": [
    "#Случайный лес\n",
    "\n",
    "\n",
    "param_grid = {'n_estimators': range(10, 100, 10), 'max_depth': range(1, 10)}\n",
    " \n",
    "model = RandomForestRegressor(max_depth=2, random_state=state)\n",
    "GSCV = GridSearchCV(model, param_grid, cv=5, scoring=sMAPE_scorer, n_jobs=-1, verbose=10)\n",
    "GSCV.fit(features_train, target_train)\n",
    "    \n",
    "print(f'лучшее значение sMAPE для случайного леса: {-GSCV.best_score_}') \n",
    "print(f'при значениях гиперпараметров: {GSCV.best_params_}')"
   ]
  },
  {
   "cell_type": "code",
   "execution_count": 38,
   "metadata": {},
   "outputs": [
    {
     "name": "stdout",
     "output_type": "stream",
     "text": [
      "лучшее значение sMAPE для дерева решений: 7.048391587278987\n",
      "при значениях гиперпараметров: {'max_depth': 1}\n"
     ]
    }
   ],
   "source": [
    "#Дерево Решений\n",
    "\n",
    "param_grid = {'max_depth': range(1, 10)}\n",
    "\n",
    "model = DecisionTreeRegressor(random_state=state)\n",
    "GSCV = GridSearchCV(model, param_grid, cv=5, scoring=sMAPE_scorer)\n",
    "GSCV.fit(features_train, target_train)\n",
    "\n",
    "print(f'лучшее значение sMAPE для дерева решений: {-GSCV.best_score_}')\n",
    "print(f'при значениях гиперпараметров: {GSCV.best_params_}')     "
   ]
  },
  {
   "cell_type": "markdown",
   "metadata": {},
   "source": [
    "вывод: лучшая модель случайный лес с sMAPE = 6.6, при значениях гиперпараметров: {'max_depth': 3, 'n_estimators': 10}, на ней и буду проводить итоговое тестирование"
   ]
  },
  {
   "cell_type": "code",
   "execution_count": 41,
   "metadata": {},
   "outputs": [
    {
     "name": "stdout",
     "output_type": "stream",
     "text": [
      "sMAPE для тестовых данных: 8.724442937192423\n"
     ]
    }
   ],
   "source": [
    "#тестирование лучшей модели\n",
    "\n",
    "model = RandomForestRegressor(max_depth=3, n_estimators=10, random_state=state) \n",
    "model.fit(features_train, target_train)\n",
    "predictions_test = model.predict(features_test)\n",
    "\n",
    "print('sMAPE для тестовых данных:', sMAPE_final_score(target_test, predictions_test))"
   ]
  },
  {
   "cell_type": "code",
   "execution_count": 42,
   "metadata": {},
   "outputs": [
    {
     "name": "stdout",
     "output_type": "stream",
     "text": [
      "sMAPE для тестовых данных: 8.973014215038752\n"
     ]
    }
   ],
   "source": [
    "#константная модель\n",
    "\n",
    "\n",
    "#target_train_r = target_train['rougher.output.recovery']\n",
    "#target_train_f = target_train['final.output.recovery']\n",
    "\n",
    "#target_test_r = target_test['rougher.output.recovery']\n",
    "#target_test_f = target_test['final.output.recovery']\n",
    "\n",
    "\n",
    "model = DummyRegressor(strategy='mean')\n",
    "model.fit(features_train, target_train)\n",
    "predictions_test = model.predict(features_test)\n",
    "\n",
    "print('sMAPE для тестовых данных:', sMAPE_final_score(target_test, predictions_test))\n",
    "\n",
    "\n"
   ]
  },
  {
   "cell_type": "markdown",
   "metadata": {},
   "source": [
    "вывод:\n",
    "случайный лес дал лучшее значение sMAPE = 6.60\n",
    "на тестовой выборке случайный лес предсказал значения целевых признаков rougher.output.recovery и final.output.recovery с sMAPE = 8.7\n"
   ]
  },
  {
   "cell_type": "markdown",
   "metadata": {},
   "source": [
    "итоговый вывод:\n",
    "    1. изучены и обработаны данные\n",
    "    2. проведен анализ концентрации, размера гранул, исследована суммарная концентрация\n",
    "    3. построены и обучены 3 модели, с выбором лучших гиперпараметров через автоматическое подбирания параметров GridSearchCV\n",
    "    4. выбрана лучшая модель Случайный лес с симметричной средней абсолютной процентной ошибкой sMAPE  = 6.6\n",
    "    5. проверил Случайный лес на тестовых данныхс sMAPE = 8.7\n",
    "    6. подтвердил оценку через  константную модель с sMAPE = 8.9\n"
   ]
  }
 ],
 "metadata": {
  "ExecuteTimeLog": [
   {
    "duration": 389,
    "start_time": "2023-03-19T10:44:52.892Z"
   },
   {
    "duration": 2125,
    "start_time": "2023-03-19T10:44:54.427Z"
   },
   {
    "duration": 6,
    "start_time": "2023-03-19T10:45:27.492Z"
   },
   {
    "duration": 1320,
    "start_time": "2023-03-19T10:45:49.546Z"
   },
   {
    "duration": 1232,
    "start_time": "2023-03-19T12:28:05.553Z"
   },
   {
    "duration": 6,
    "start_time": "2023-03-19T12:28:22.338Z"
   },
   {
    "duration": 658,
    "start_time": "2023-03-19T12:28:24.961Z"
   },
   {
    "duration": 841,
    "start_time": "2023-03-19T12:34:52.063Z"
   },
   {
    "duration": 49134,
    "start_time": "2023-03-19T12:35:01.024Z"
   },
   {
    "duration": 8,
    "start_time": "2023-03-19T13:12:26.055Z"
   },
   {
    "duration": 106,
    "start_time": "2023-03-19T13:35:30.025Z"
   },
   {
    "duration": 86,
    "start_time": "2023-03-19T13:47:18.718Z"
   },
   {
    "duration": 103,
    "start_time": "2023-03-19T13:47:28.044Z"
   },
   {
    "duration": 87,
    "start_time": "2023-03-19T13:48:19.123Z"
   },
   {
    "duration": 93,
    "start_time": "2023-03-19T13:49:14.637Z"
   },
   {
    "duration": 88,
    "start_time": "2023-03-19T13:49:26.337Z"
   },
   {
    "duration": 1200,
    "start_time": "2023-03-19T13:52:35.427Z"
   },
   {
    "duration": 966,
    "start_time": "2023-03-19T13:52:36.629Z"
   },
   {
    "duration": 5,
    "start_time": "2023-03-19T13:52:37.597Z"
   },
   {
    "duration": 47417,
    "start_time": "2023-03-19T13:52:37.605Z"
   },
   {
    "duration": 9,
    "start_time": "2023-03-19T13:53:25.024Z"
   },
   {
    "duration": 0,
    "start_time": "2023-03-19T13:53:25.108Z"
   },
   {
    "duration": 1413,
    "start_time": "2023-03-21T11:41:53.237Z"
   },
   {
    "duration": 2024,
    "start_time": "2023-03-21T11:41:54.652Z"
   },
   {
    "duration": 5,
    "start_time": "2023-03-21T11:41:56.679Z"
   },
   {
    "duration": 45975,
    "start_time": "2023-03-21T11:41:59.637Z"
   },
   {
    "duration": 203,
    "start_time": "2023-03-21T11:42:45.614Z"
   },
   {
    "duration": 1173,
    "start_time": "2023-03-21T11:44:24.991Z"
   },
   {
    "duration": 686,
    "start_time": "2023-03-21T11:44:26.166Z"
   },
   {
    "duration": 5,
    "start_time": "2023-03-21T11:44:26.855Z"
   },
   {
    "duration": 46319,
    "start_time": "2023-03-21T11:44:26.862Z"
   },
   {
    "duration": 6,
    "start_time": "2023-03-21T11:45:13.183Z"
   },
   {
    "duration": 69,
    "start_time": "2023-03-21T11:45:13.203Z"
   },
   {
    "duration": 0,
    "start_time": "2023-03-21T11:45:13.274Z"
   },
   {
    "duration": 3,
    "start_time": "2023-03-21T11:47:42.588Z"
   },
   {
    "duration": 5,
    "start_time": "2023-03-21T11:52:11.229Z"
   },
   {
    "duration": 15,
    "start_time": "2023-03-21T11:52:13.662Z"
   },
   {
    "duration": 5,
    "start_time": "2023-03-21T11:52:26.259Z"
   },
   {
    "duration": 294,
    "start_time": "2023-03-21T12:13:38.896Z"
   },
   {
    "duration": 5,
    "start_time": "2023-03-21T12:14:55.652Z"
   },
   {
    "duration": 16,
    "start_time": "2023-03-21T12:17:01.003Z"
   },
   {
    "duration": 4,
    "start_time": "2023-03-21T13:25:03.219Z"
   },
   {
    "duration": 3,
    "start_time": "2023-03-21T13:26:03.696Z"
   },
   {
    "duration": 8,
    "start_time": "2023-03-21T13:26:13.115Z"
   },
   {
    "duration": 112,
    "start_time": "2023-03-21T13:46:47.791Z"
   },
   {
    "duration": 13,
    "start_time": "2023-03-21T13:47:15.207Z"
   },
   {
    "duration": 6,
    "start_time": "2023-03-21T13:47:31.056Z"
   },
   {
    "duration": 4,
    "start_time": "2023-03-21T13:47:43.620Z"
   },
   {
    "duration": 8,
    "start_time": "2023-03-21T13:50:47.619Z"
   },
   {
    "duration": 4,
    "start_time": "2023-03-21T13:56:12.389Z"
   },
   {
    "duration": 68,
    "start_time": "2023-03-21T13:56:19.157Z"
   },
   {
    "duration": 9,
    "start_time": "2023-03-21T13:56:27.727Z"
   },
   {
    "duration": 11,
    "start_time": "2023-03-21T13:56:48.928Z"
   },
   {
    "duration": 3,
    "start_time": "2023-03-21T13:58:38.685Z"
   },
   {
    "duration": 6,
    "start_time": "2023-03-21T13:58:46.925Z"
   },
   {
    "duration": 727,
    "start_time": "2023-03-21T13:58:54.884Z"
   },
   {
    "duration": 6,
    "start_time": "2023-03-21T13:59:03.731Z"
   },
   {
    "duration": 3,
    "start_time": "2023-03-21T14:00:00.939Z"
   },
   {
    "duration": 9,
    "start_time": "2023-03-21T14:00:13.884Z"
   },
   {
    "duration": 3,
    "start_time": "2023-03-21T14:00:47.143Z"
   },
   {
    "duration": 3,
    "start_time": "2023-03-21T14:00:55.290Z"
   },
   {
    "duration": 7,
    "start_time": "2023-03-21T14:01:06.388Z"
   },
   {
    "duration": 4,
    "start_time": "2023-03-21T14:06:39.994Z"
   },
   {
    "duration": 9,
    "start_time": "2023-03-21T14:08:40.541Z"
   },
   {
    "duration": 1637,
    "start_time": "2023-03-22T00:23:24.901Z"
   },
   {
    "duration": 3499,
    "start_time": "2023-03-22T00:23:26.576Z"
   },
   {
    "duration": 151,
    "start_time": "2023-03-22T00:23:34.914Z"
   },
   {
    "duration": 13,
    "start_time": "2023-03-22T00:23:45.809Z"
   },
   {
    "duration": 6,
    "start_time": "2023-03-22T00:25:00.712Z"
   },
   {
    "duration": 24,
    "start_time": "2023-03-22T00:25:30.170Z"
   },
   {
    "duration": 14,
    "start_time": "2023-03-22T00:26:29.503Z"
   },
   {
    "duration": 5,
    "start_time": "2023-03-22T00:36:28.834Z"
   },
   {
    "duration": 12,
    "start_time": "2023-03-22T00:36:56.294Z"
   },
   {
    "duration": 64,
    "start_time": "2023-03-22T00:38:18.597Z"
   },
   {
    "duration": 71,
    "start_time": "2023-03-22T00:38:25.861Z"
   },
   {
    "duration": 9,
    "start_time": "2023-03-22T00:38:43.182Z"
   },
   {
    "duration": 10,
    "start_time": "2023-03-22T00:39:41.071Z"
   },
   {
    "duration": 97,
    "start_time": "2023-03-22T00:39:55.296Z"
   },
   {
    "duration": 8,
    "start_time": "2023-03-22T00:40:03.884Z"
   },
   {
    "duration": 12,
    "start_time": "2023-03-22T00:40:21.171Z"
   },
   {
    "duration": 5,
    "start_time": "2023-03-22T00:40:41.170Z"
   },
   {
    "duration": 4,
    "start_time": "2023-03-22T00:40:49.289Z"
   },
   {
    "duration": 5,
    "start_time": "2023-03-22T00:41:10.787Z"
   },
   {
    "duration": 12,
    "start_time": "2023-03-22T00:41:30.280Z"
   },
   {
    "duration": 3,
    "start_time": "2023-03-22T00:41:50.890Z"
   },
   {
    "duration": 4,
    "start_time": "2023-03-22T00:41:54.323Z"
   },
   {
    "duration": 4,
    "start_time": "2023-03-22T00:42:10.815Z"
   },
   {
    "duration": 7,
    "start_time": "2023-03-22T00:42:14.137Z"
   },
   {
    "duration": 5,
    "start_time": "2023-03-22T00:43:05.204Z"
   },
   {
    "duration": 17,
    "start_time": "2023-03-22T00:45:05.764Z"
   },
   {
    "duration": 4,
    "start_time": "2023-03-22T01:29:49.389Z"
   },
   {
    "duration": 6,
    "start_time": "2023-03-22T01:30:04.386Z"
   },
   {
    "duration": 5,
    "start_time": "2023-03-22T01:30:32.817Z"
   },
   {
    "duration": 12,
    "start_time": "2023-03-22T01:31:04.166Z"
   },
   {
    "duration": 11,
    "start_time": "2023-03-22T01:31:25.406Z"
   },
   {
    "duration": 28,
    "start_time": "2023-03-22T01:32:12.245Z"
   },
   {
    "duration": 45,
    "start_time": "2023-03-22T01:32:38.222Z"
   },
   {
    "duration": 1963,
    "start_time": "2023-03-22T13:35:45.454Z"
   },
   {
    "duration": 3220,
    "start_time": "2023-03-22T13:35:47.420Z"
   },
   {
    "duration": 5,
    "start_time": "2023-03-22T13:35:50.642Z"
   },
   {
    "duration": 49908,
    "start_time": "2023-03-22T13:35:50.649Z"
   },
   {
    "duration": 5,
    "start_time": "2023-03-22T13:36:40.559Z"
   },
   {
    "duration": 20,
    "start_time": "2023-03-22T13:36:40.566Z"
   },
   {
    "duration": 30,
    "start_time": "2023-03-22T13:36:40.588Z"
   },
   {
    "duration": 7,
    "start_time": "2023-03-22T13:36:40.619Z"
   },
   {
    "duration": 55,
    "start_time": "2023-03-22T13:36:40.627Z"
   },
   {
    "duration": 130,
    "start_time": "2023-03-22T13:48:06.237Z"
   },
   {
    "duration": 36,
    "start_time": "2023-03-22T13:48:19.887Z"
   },
   {
    "duration": 8,
    "start_time": "2023-03-22T13:51:11.238Z"
   },
   {
    "duration": 23,
    "start_time": "2023-03-22T13:51:21.264Z"
   },
   {
    "duration": 36,
    "start_time": "2023-03-22T13:51:34.551Z"
   },
   {
    "duration": 824,
    "start_time": "2023-03-22T13:51:49.757Z"
   },
   {
    "duration": 9,
    "start_time": "2023-03-22T13:52:06.678Z"
   },
   {
    "duration": 31,
    "start_time": "2023-03-22T13:52:24.700Z"
   },
   {
    "duration": 10,
    "start_time": "2023-03-22T13:52:36.942Z"
   },
   {
    "duration": 28,
    "start_time": "2023-03-22T13:53:14.675Z"
   },
   {
    "duration": 32,
    "start_time": "2023-03-22T13:55:31.217Z"
   },
   {
    "duration": 781,
    "start_time": "2023-03-22T13:56:11.120Z"
   },
   {
    "duration": 31,
    "start_time": "2023-03-22T13:56:17.859Z"
   },
   {
    "duration": 45,
    "start_time": "2023-03-22T14:03:32.211Z"
   },
   {
    "duration": 11,
    "start_time": "2023-03-22T14:03:47.421Z"
   },
   {
    "duration": 38,
    "start_time": "2023-03-22T14:08:48.016Z"
   },
   {
    "duration": 11,
    "start_time": "2023-03-22T14:08:59.683Z"
   },
   {
    "duration": 10,
    "start_time": "2023-03-22T14:09:07.814Z"
   },
   {
    "duration": 8,
    "start_time": "2023-03-22T14:09:38.245Z"
   },
   {
    "duration": 4,
    "start_time": "2023-03-22T14:10:06.522Z"
   },
   {
    "duration": 43,
    "start_time": "2023-03-22T14:10:15.451Z"
   },
   {
    "duration": 8,
    "start_time": "2023-03-22T14:10:24.979Z"
   },
   {
    "duration": 10,
    "start_time": "2023-03-22T14:10:35.782Z"
   },
   {
    "duration": 711,
    "start_time": "2023-03-22T14:10:50.944Z"
   },
   {
    "duration": 9,
    "start_time": "2023-03-22T14:10:57.831Z"
   },
   {
    "duration": 34,
    "start_time": "2023-03-22T14:11:05.422Z"
   },
   {
    "duration": 12,
    "start_time": "2023-03-22T14:11:12.067Z"
   },
   {
    "duration": 9,
    "start_time": "2023-03-22T14:11:20.873Z"
   },
   {
    "duration": 9,
    "start_time": "2023-03-22T14:11:38.432Z"
   },
   {
    "duration": 10,
    "start_time": "2023-03-22T14:11:42.265Z"
   },
   {
    "duration": 8,
    "start_time": "2023-03-22T14:11:44.654Z"
   },
   {
    "duration": 1672,
    "start_time": "2023-03-22T23:46:02.661Z"
   },
   {
    "duration": 3329,
    "start_time": "2023-03-22T23:46:04.335Z"
   },
   {
    "duration": 5,
    "start_time": "2023-03-22T23:46:07.666Z"
   },
   {
    "duration": 52307,
    "start_time": "2023-03-22T23:46:07.673Z"
   },
   {
    "duration": 3,
    "start_time": "2023-03-22T23:46:59.983Z"
   },
   {
    "duration": 35,
    "start_time": "2023-03-22T23:46:59.999Z"
   },
   {
    "duration": 26,
    "start_time": "2023-03-22T23:47:00.036Z"
   },
   {
    "duration": 64,
    "start_time": "2023-03-22T23:47:00.064Z"
   },
   {
    "duration": 45,
    "start_time": "2023-03-22T23:47:00.130Z"
   },
   {
    "duration": 43,
    "start_time": "2023-03-22T23:47:00.179Z"
   },
   {
    "duration": 21,
    "start_time": "2023-03-22T23:47:00.224Z"
   },
   {
    "duration": 12,
    "start_time": "2023-03-22T23:47:00.248Z"
   },
   {
    "duration": 15,
    "start_time": "2023-03-22T23:47:00.262Z"
   },
   {
    "duration": 660,
    "start_time": "2023-03-23T00:54:23.202Z"
   },
   {
    "duration": 726,
    "start_time": "2023-03-23T00:54:38.647Z"
   },
   {
    "duration": 7,
    "start_time": "2023-03-23T01:00:09.922Z"
   },
   {
    "duration": 5,
    "start_time": "2023-03-23T01:01:23.601Z"
   },
   {
    "duration": 1254,
    "start_time": "2023-03-23T01:02:20.082Z"
   },
   {
    "duration": 911,
    "start_time": "2023-03-23T01:02:48.778Z"
   },
   {
    "duration": 785,
    "start_time": "2023-03-23T01:03:37.004Z"
   },
   {
    "duration": 33,
    "start_time": "2023-03-23T01:04:14.936Z"
   },
   {
    "duration": 5,
    "start_time": "2023-03-23T01:05:24.430Z"
   },
   {
    "duration": 517,
    "start_time": "2023-03-23T01:08:45.963Z"
   },
   {
    "duration": 7,
    "start_time": "2023-03-23T01:13:41.466Z"
   },
   {
    "duration": 1869,
    "start_time": "2023-03-23T01:15:41.864Z"
   },
   {
    "duration": 718,
    "start_time": "2023-03-23T01:16:01.838Z"
   },
   {
    "duration": 704,
    "start_time": "2023-03-23T01:16:28.939Z"
   },
   {
    "duration": 1003,
    "start_time": "2023-03-23T01:16:45.869Z"
   },
   {
    "duration": 857,
    "start_time": "2023-03-23T01:17:55.642Z"
   },
   {
    "duration": 845,
    "start_time": "2023-03-23T01:18:05.082Z"
   },
   {
    "duration": 973,
    "start_time": "2023-03-23T01:18:15.016Z"
   },
   {
    "duration": 830,
    "start_time": "2023-03-23T01:20:18.021Z"
   },
   {
    "duration": 889,
    "start_time": "2023-03-23T01:20:30.881Z"
   },
   {
    "duration": 847,
    "start_time": "2023-03-23T01:22:36.122Z"
   },
   {
    "duration": 844,
    "start_time": "2023-03-23T01:23:12.580Z"
   },
   {
    "duration": 959,
    "start_time": "2023-03-23T01:23:22.124Z"
   },
   {
    "duration": 742,
    "start_time": "2023-03-23T01:26:06.772Z"
   },
   {
    "duration": 780,
    "start_time": "2023-03-23T01:26:19.178Z"
   },
   {
    "duration": 895,
    "start_time": "2023-03-23T01:27:16.389Z"
   },
   {
    "duration": 809,
    "start_time": "2023-03-23T01:27:45.303Z"
   },
   {
    "duration": 2091,
    "start_time": "2023-03-23T11:11:15.156Z"
   },
   {
    "duration": 3091,
    "start_time": "2023-03-23T11:11:17.250Z"
   },
   {
    "duration": 9,
    "start_time": "2023-03-23T11:11:20.343Z"
   },
   {
    "duration": 54962,
    "start_time": "2023-03-23T11:11:20.354Z"
   },
   {
    "duration": 4,
    "start_time": "2023-03-23T11:12:15.318Z"
   },
   {
    "duration": 5,
    "start_time": "2023-03-23T11:12:15.324Z"
   },
   {
    "duration": 10,
    "start_time": "2023-03-23T11:12:15.332Z"
   },
   {
    "duration": 6,
    "start_time": "2023-03-23T11:12:15.343Z"
   },
   {
    "duration": 74,
    "start_time": "2023-03-23T11:12:15.351Z"
   },
   {
    "duration": 10,
    "start_time": "2023-03-23T11:12:15.428Z"
   },
   {
    "duration": 7,
    "start_time": "2023-03-23T11:12:15.440Z"
   },
   {
    "duration": 68,
    "start_time": "2023-03-23T11:12:15.449Z"
   },
   {
    "duration": 32,
    "start_time": "2023-03-23T11:12:15.519Z"
   },
   {
    "duration": 8,
    "start_time": "2023-03-23T11:12:15.553Z"
   },
   {
    "duration": 7,
    "start_time": "2023-03-23T11:12:15.582Z"
   },
   {
    "duration": 13,
    "start_time": "2023-03-23T11:12:15.591Z"
   },
   {
    "duration": 18,
    "start_time": "2023-03-23T11:12:15.606Z"
   },
   {
    "duration": 968,
    "start_time": "2023-03-23T11:12:15.627Z"
   },
   {
    "duration": 911,
    "start_time": "2023-03-23T11:12:16.605Z"
   },
   {
    "duration": 996,
    "start_time": "2023-03-23T11:12:17.518Z"
   },
   {
    "duration": 2375,
    "start_time": "2023-03-23T11:13:21.314Z"
   },
   {
    "duration": 852,
    "start_time": "2023-03-23T11:13:36.308Z"
   },
   {
    "duration": 295,
    "start_time": "2023-03-23T11:36:24.155Z"
   },
   {
    "duration": 259,
    "start_time": "2023-03-23T11:37:01.993Z"
   },
   {
    "duration": 987,
    "start_time": "2023-03-23T11:49:24.166Z"
   },
   {
    "duration": 786,
    "start_time": "2023-03-23T11:49:47.894Z"
   },
   {
    "duration": 871,
    "start_time": "2023-03-23T11:50:03.052Z"
   },
   {
    "duration": 968,
    "start_time": "2023-03-23T11:50:19.613Z"
   },
   {
    "duration": 1090,
    "start_time": "2023-03-23T11:50:59.574Z"
   },
   {
    "duration": 1004,
    "start_time": "2023-03-23T11:52:47.378Z"
   },
   {
    "duration": 1073,
    "start_time": "2023-03-23T11:53:00.593Z"
   },
   {
    "duration": 1008,
    "start_time": "2023-03-23T11:53:22.384Z"
   },
   {
    "duration": 1072,
    "start_time": "2023-03-23T11:53:31.957Z"
   },
   {
    "duration": 1127,
    "start_time": "2023-03-23T11:55:04.009Z"
   },
   {
    "duration": 1135,
    "start_time": "2023-03-23T11:55:45.916Z"
   },
   {
    "duration": 966,
    "start_time": "2023-03-23T11:55:57.004Z"
   },
   {
    "duration": 1186,
    "start_time": "2023-03-23T11:56:09.917Z"
   },
   {
    "duration": 1120,
    "start_time": "2023-03-23T11:56:25.345Z"
   },
   {
    "duration": 1203,
    "start_time": "2023-03-23T11:59:25.259Z"
   },
   {
    "duration": 1483,
    "start_time": "2023-03-23T12:29:20.930Z"
   },
   {
    "duration": 1495,
    "start_time": "2023-03-23T12:32:33.006Z"
   },
   {
    "duration": 1397,
    "start_time": "2023-03-23T12:33:19.347Z"
   },
   {
    "duration": 578,
    "start_time": "2023-03-23T12:35:31.733Z"
   },
   {
    "duration": 2046,
    "start_time": "2023-03-23T12:39:07.824Z"
   },
   {
    "duration": 1875,
    "start_time": "2023-03-23T13:32:45.368Z"
   },
   {
    "duration": 1033,
    "start_time": "2023-03-23T13:33:32.256Z"
   },
   {
    "duration": 100,
    "start_time": "2023-03-23T13:48:20.712Z"
   },
   {
    "duration": 1387,
    "start_time": "2023-03-23T13:50:04.423Z"
   },
   {
    "duration": 1260,
    "start_time": "2023-03-23T13:51:00.814Z"
   },
   {
    "duration": 1453,
    "start_time": "2023-03-23T13:51:15.358Z"
   },
   {
    "duration": 747,
    "start_time": "2023-03-23T13:51:16.814Z"
   },
   {
    "duration": 6,
    "start_time": "2023-03-23T13:51:17.562Z"
   },
   {
    "duration": 49537,
    "start_time": "2023-03-23T13:51:17.580Z"
   },
   {
    "duration": 4,
    "start_time": "2023-03-23T13:52:07.120Z"
   },
   {
    "duration": 11,
    "start_time": "2023-03-23T13:52:07.126Z"
   },
   {
    "duration": 24,
    "start_time": "2023-03-23T13:52:07.139Z"
   },
   {
    "duration": 25,
    "start_time": "2023-03-23T13:52:07.165Z"
   },
   {
    "duration": 35,
    "start_time": "2023-03-23T13:52:07.192Z"
   },
   {
    "duration": 8,
    "start_time": "2023-03-23T13:52:07.231Z"
   },
   {
    "duration": 19,
    "start_time": "2023-03-23T13:52:07.241Z"
   },
   {
    "duration": 47,
    "start_time": "2023-03-23T13:52:07.262Z"
   },
   {
    "duration": 30,
    "start_time": "2023-03-23T13:52:07.310Z"
   },
   {
    "duration": 7,
    "start_time": "2023-03-23T13:52:07.342Z"
   },
   {
    "duration": 34,
    "start_time": "2023-03-23T13:52:07.351Z"
   },
   {
    "duration": 10,
    "start_time": "2023-03-23T13:52:07.387Z"
   },
   {
    "duration": 18,
    "start_time": "2023-03-23T13:52:07.398Z"
   },
   {
    "duration": 948,
    "start_time": "2023-03-23T13:52:07.418Z"
   },
   {
    "duration": 939,
    "start_time": "2023-03-23T13:52:08.375Z"
   },
   {
    "duration": 2091,
    "start_time": "2023-03-23T13:52:09.317Z"
   },
   {
    "duration": 933,
    "start_time": "2023-03-23T13:52:11.410Z"
   },
   {
    "duration": 0,
    "start_time": "2023-03-23T13:52:13.754Z"
   },
   {
    "duration": 0,
    "start_time": "2023-03-23T13:52:13.756Z"
   },
   {
    "duration": 0,
    "start_time": "2023-03-23T13:52:13.757Z"
   },
   {
    "duration": 0,
    "start_time": "2023-03-23T13:52:13.760Z"
   },
   {
    "duration": 0,
    "start_time": "2023-03-23T13:52:13.761Z"
   },
   {
    "duration": 0,
    "start_time": "2023-03-23T13:52:13.761Z"
   },
   {
    "duration": 1247,
    "start_time": "2023-03-23T13:52:23.496Z"
   },
   {
    "duration": 1261,
    "start_time": "2023-03-23T13:53:05.832Z"
   },
   {
    "duration": 1363,
    "start_time": "2023-03-23T13:54:00.357Z"
   },
   {
    "duration": 701,
    "start_time": "2023-03-23T13:54:19.245Z"
   },
   {
    "duration": 6,
    "start_time": "2023-03-23T13:54:27.039Z"
   },
   {
    "duration": 51310,
    "start_time": "2023-03-23T13:54:32.961Z"
   },
   {
    "duration": 7,
    "start_time": "2023-03-23T13:55:24.287Z"
   },
   {
    "duration": 9,
    "start_time": "2023-03-23T13:55:33.097Z"
   },
   {
    "duration": 7,
    "start_time": "2023-03-23T13:56:41.539Z"
   },
   {
    "duration": 6,
    "start_time": "2023-03-23T13:56:58.998Z"
   },
   {
    "duration": 11,
    "start_time": "2023-03-23T13:59:57.549Z"
   },
   {
    "duration": 10,
    "start_time": "2023-03-23T14:00:21.827Z"
   },
   {
    "duration": 11,
    "start_time": "2023-03-23T14:01:30.620Z"
   },
   {
    "duration": 9,
    "start_time": "2023-03-23T14:03:26.724Z"
   },
   {
    "duration": 1275,
    "start_time": "2023-03-23T14:05:22.241Z"
   },
   {
    "duration": 2401,
    "start_time": "2023-03-23T14:05:41.203Z"
   },
   {
    "duration": 599,
    "start_time": "2023-03-23T14:09:33.572Z"
   },
   {
    "duration": 561,
    "start_time": "2023-03-23T14:12:35.301Z"
   },
   {
    "duration": 476,
    "start_time": "2023-03-23T14:12:53.987Z"
   },
   {
    "duration": 500,
    "start_time": "2023-03-23T14:15:50.188Z"
   },
   {
    "duration": 623,
    "start_time": "2023-03-23T14:16:36.820Z"
   },
   {
    "duration": 495,
    "start_time": "2023-03-23T14:17:07.389Z"
   },
   {
    "duration": 448,
    "start_time": "2023-03-23T14:17:33.399Z"
   },
   {
    "duration": 2117,
    "start_time": "2023-03-24T12:49:49.836Z"
   },
   {
    "duration": 5617,
    "start_time": "2023-03-24T12:49:51.956Z"
   },
   {
    "duration": 9,
    "start_time": "2023-03-24T12:49:57.577Z"
   },
   {
    "duration": 60839,
    "start_time": "2023-03-24T12:49:57.589Z"
   },
   {
    "duration": 6,
    "start_time": "2023-03-24T12:50:58.431Z"
   },
   {
    "duration": 56,
    "start_time": "2023-03-24T12:50:58.439Z"
   },
   {
    "duration": 11,
    "start_time": "2023-03-24T12:50:58.497Z"
   },
   {
    "duration": 8,
    "start_time": "2023-03-24T12:50:58.510Z"
   },
   {
    "duration": 53,
    "start_time": "2023-03-24T12:50:58.520Z"
   },
   {
    "duration": 26,
    "start_time": "2023-03-24T12:50:58.575Z"
   },
   {
    "duration": 15,
    "start_time": "2023-03-24T12:50:58.603Z"
   },
   {
    "duration": 65,
    "start_time": "2023-03-24T12:50:58.621Z"
   },
   {
    "duration": 53,
    "start_time": "2023-03-24T12:50:58.688Z"
   },
   {
    "duration": 48,
    "start_time": "2023-03-24T12:50:58.748Z"
   },
   {
    "duration": 13,
    "start_time": "2023-03-24T12:50:58.798Z"
   },
   {
    "duration": 11,
    "start_time": "2023-03-24T12:50:58.813Z"
   },
   {
    "duration": 29,
    "start_time": "2023-03-24T12:50:58.826Z"
   },
   {
    "duration": 1165,
    "start_time": "2023-03-24T12:50:58.857Z"
   },
   {
    "duration": 1084,
    "start_time": "2023-03-24T12:51:00.025Z"
   },
   {
    "duration": 2421,
    "start_time": "2023-03-24T12:51:01.111Z"
   },
   {
    "duration": 1066,
    "start_time": "2023-03-24T12:51:03.535Z"
   },
   {
    "duration": 1693,
    "start_time": "2023-03-24T12:51:04.604Z"
   },
   {
    "duration": 0,
    "start_time": "2023-03-24T12:51:06.299Z"
   },
   {
    "duration": 0,
    "start_time": "2023-03-24T12:51:06.301Z"
   },
   {
    "duration": 0,
    "start_time": "2023-03-24T12:51:06.302Z"
   },
   {
    "duration": 3,
    "start_time": "2023-03-24T12:51:20.958Z"
   },
   {
    "duration": 8,
    "start_time": "2023-03-24T12:51:39.666Z"
   },
   {
    "duration": 15,
    "start_time": "2023-03-24T12:51:47.770Z"
   },
   {
    "duration": 1840,
    "start_time": "2023-03-24T12:55:31.682Z"
   },
   {
    "duration": 22,
    "start_time": "2023-03-24T12:56:29.252Z"
   },
   {
    "duration": 4,
    "start_time": "2023-03-24T12:56:47.301Z"
   },
   {
    "duration": 1029,
    "start_time": "2023-03-24T12:56:54.862Z"
   },
   {
    "duration": 1308,
    "start_time": "2023-03-24T12:57:18.294Z"
   },
   {
    "duration": 1115,
    "start_time": "2023-03-24T12:57:37.231Z"
   },
   {
    "duration": 11,
    "start_time": "2023-03-24T12:57:51.967Z"
   },
   {
    "duration": 657,
    "start_time": "2023-03-24T12:58:00.653Z"
   },
   {
    "duration": 18,
    "start_time": "2023-03-24T13:01:07.878Z"
   },
   {
    "duration": 853,
    "start_time": "2023-03-24T13:04:10.362Z"
   },
   {
    "duration": 453,
    "start_time": "2023-03-24T13:04:46.186Z"
   },
   {
    "duration": 302,
    "start_time": "2023-03-24T13:05:08.422Z"
   },
   {
    "duration": 352,
    "start_time": "2023-03-24T13:05:24.506Z"
   },
   {
    "duration": 440,
    "start_time": "2023-03-24T13:05:50.861Z"
   },
   {
    "duration": 495,
    "start_time": "2023-03-24T13:06:26.759Z"
   },
   {
    "duration": 413,
    "start_time": "2023-03-24T13:06:53.562Z"
   },
   {
    "duration": 446,
    "start_time": "2023-03-24T13:07:04.362Z"
   },
   {
    "duration": 477,
    "start_time": "2023-03-24T13:07:15.779Z"
   },
   {
    "duration": 419,
    "start_time": "2023-03-24T13:07:34.105Z"
   },
   {
    "duration": 627,
    "start_time": "2023-03-24T13:07:46.986Z"
   },
   {
    "duration": 532,
    "start_time": "2023-03-24T13:07:59.486Z"
   },
   {
    "duration": 46,
    "start_time": "2023-03-25T04:10:48.523Z"
   },
   {
    "duration": 1716,
    "start_time": "2023-03-25T04:10:59.317Z"
   },
   {
    "duration": 2691,
    "start_time": "2023-03-25T04:11:01.035Z"
   },
   {
    "duration": 4,
    "start_time": "2023-03-25T04:11:03.728Z"
   },
   {
    "duration": 616,
    "start_time": "2023-03-25T04:11:03.734Z"
   },
   {
    "duration": 4,
    "start_time": "2023-03-25T04:11:04.351Z"
   },
   {
    "duration": 10,
    "start_time": "2023-03-25T04:11:04.356Z"
   },
   {
    "duration": 11,
    "start_time": "2023-03-25T04:11:04.367Z"
   },
   {
    "duration": 5,
    "start_time": "2023-03-25T04:11:04.380Z"
   },
   {
    "duration": 32,
    "start_time": "2023-03-25T04:11:04.386Z"
   },
   {
    "duration": 2,
    "start_time": "2023-03-25T04:11:04.441Z"
   },
   {
    "duration": 10,
    "start_time": "2023-03-25T04:11:04.445Z"
   },
   {
    "duration": 36,
    "start_time": "2023-03-25T04:11:04.456Z"
   },
   {
    "duration": 47,
    "start_time": "2023-03-25T04:11:04.494Z"
   },
   {
    "duration": 9,
    "start_time": "2023-03-25T04:11:04.543Z"
   },
   {
    "duration": 10,
    "start_time": "2023-03-25T04:11:04.553Z"
   },
   {
    "duration": 14,
    "start_time": "2023-03-25T04:11:04.565Z"
   },
   {
    "duration": 15,
    "start_time": "2023-03-25T04:11:04.581Z"
   },
   {
    "duration": 827,
    "start_time": "2023-03-25T04:11:04.597Z"
   },
   {
    "duration": 974,
    "start_time": "2023-03-25T04:11:05.425Z"
   },
   {
    "duration": 859,
    "start_time": "2023-03-25T04:11:06.400Z"
   },
   {
    "duration": 874,
    "start_time": "2023-03-25T04:11:07.260Z"
   },
   {
    "duration": 9,
    "start_time": "2023-03-25T04:11:08.136Z"
   },
   {
    "duration": 327,
    "start_time": "2023-03-25T04:11:08.146Z"
   },
   {
    "duration": 6,
    "start_time": "2023-03-25T04:11:08.475Z"
   },
   {
    "duration": 8,
    "start_time": "2023-03-25T04:11:32.648Z"
   },
   {
    "duration": 57,
    "start_time": "2023-03-25T04:11:46.029Z"
   },
   {
    "duration": 6,
    "start_time": "2023-03-25T04:12:07.708Z"
   },
   {
    "duration": 6,
    "start_time": "2023-03-25T04:12:19.515Z"
   },
   {
    "duration": 7,
    "start_time": "2023-03-25T04:16:24.738Z"
   },
   {
    "duration": 110,
    "start_time": "2023-03-25T04:17:54.790Z"
   },
   {
    "duration": 19,
    "start_time": "2023-03-25T04:18:09.981Z"
   },
   {
    "duration": 9,
    "start_time": "2023-03-25T04:18:24.401Z"
   },
   {
    "duration": 7,
    "start_time": "2023-03-25T04:18:49.718Z"
   },
   {
    "duration": 5,
    "start_time": "2023-03-25T04:19:06.760Z"
   },
   {
    "duration": 16,
    "start_time": "2023-03-25T04:19:13.941Z"
   },
   {
    "duration": 637,
    "start_time": "2023-03-25T04:19:31.568Z"
   },
   {
    "duration": 10,
    "start_time": "2023-03-25T04:19:51.379Z"
   },
   {
    "duration": 7,
    "start_time": "2023-03-25T04:20:03.835Z"
   },
   {
    "duration": 8,
    "start_time": "2023-03-25T04:20:12.190Z"
   },
   {
    "duration": 4,
    "start_time": "2023-03-25T04:20:24.908Z"
   },
   {
    "duration": 4,
    "start_time": "2023-03-25T04:20:38.756Z"
   },
   {
    "duration": 8,
    "start_time": "2023-03-25T04:20:47.961Z"
   },
   {
    "duration": 15,
    "start_time": "2023-03-25T04:21:03.270Z"
   },
   {
    "duration": 94,
    "start_time": "2023-03-25T04:28:53.129Z"
   },
   {
    "duration": 24,
    "start_time": "2023-03-25T04:29:45.937Z"
   },
   {
    "duration": 5,
    "start_time": "2023-03-25T04:30:07.959Z"
   },
   {
    "duration": 766,
    "start_time": "2023-03-25T04:30:24.927Z"
   },
   {
    "duration": 5,
    "start_time": "2023-03-25T04:30:33.539Z"
   },
   {
    "duration": 1522,
    "start_time": "2023-03-25T04:33:19.739Z"
   },
   {
    "duration": 683,
    "start_time": "2023-03-25T04:33:21.263Z"
   },
   {
    "duration": 5,
    "start_time": "2023-03-25T04:33:21.948Z"
   },
   {
    "duration": 628,
    "start_time": "2023-03-25T04:33:21.955Z"
   },
   {
    "duration": 4,
    "start_time": "2023-03-25T04:33:22.584Z"
   },
   {
    "duration": 7,
    "start_time": "2023-03-25T04:33:22.590Z"
   },
   {
    "duration": 12,
    "start_time": "2023-03-25T04:33:22.599Z"
   },
   {
    "duration": 5,
    "start_time": "2023-03-25T04:33:22.613Z"
   },
   {
    "duration": 48,
    "start_time": "2023-03-25T04:33:22.620Z"
   },
   {
    "duration": 3,
    "start_time": "2023-03-25T04:33:22.671Z"
   },
   {
    "duration": 9,
    "start_time": "2023-03-25T04:33:22.675Z"
   },
   {
    "duration": 67,
    "start_time": "2023-03-25T04:33:22.685Z"
   },
   {
    "duration": 31,
    "start_time": "2023-03-25T04:33:22.755Z"
   },
   {
    "duration": 8,
    "start_time": "2023-03-25T04:33:22.788Z"
   },
   {
    "duration": 22,
    "start_time": "2023-03-25T04:33:22.798Z"
   },
   {
    "duration": 24,
    "start_time": "2023-03-25T04:33:22.822Z"
   },
   {
    "duration": 32,
    "start_time": "2023-03-25T04:33:22.848Z"
   },
   {
    "duration": 814,
    "start_time": "2023-03-25T04:33:22.882Z"
   },
   {
    "duration": 920,
    "start_time": "2023-03-25T04:33:23.698Z"
   },
   {
    "duration": 830,
    "start_time": "2023-03-25T04:33:24.620Z"
   },
   {
    "duration": 986,
    "start_time": "2023-03-25T04:33:25.452Z"
   },
   {
    "duration": 9,
    "start_time": "2023-03-25T04:33:26.440Z"
   },
   {
    "duration": 386,
    "start_time": "2023-03-25T04:33:26.451Z"
   },
   {
    "duration": 7,
    "start_time": "2023-03-25T04:33:26.842Z"
   },
   {
    "duration": 396,
    "start_time": "2023-03-25T04:33:26.851Z"
   },
   {
    "duration": 0,
    "start_time": "2023-03-25T04:33:27.249Z"
   },
   {
    "duration": 48,
    "start_time": "2023-03-25T04:34:07.226Z"
   },
   {
    "duration": 272,
    "start_time": "2023-03-25T04:34:33.075Z"
   },
   {
    "duration": 4597,
    "start_time": "2023-03-25T04:35:06.586Z"
   },
   {
    "duration": 56,
    "start_time": "2023-03-25T04:35:54.560Z"
   },
   {
    "duration": 65,
    "start_time": "2023-03-25T04:36:28.115Z"
   },
   {
    "duration": 47,
    "start_time": "2023-03-25T04:36:51.583Z"
   },
   {
    "duration": 1562,
    "start_time": "2023-03-25T06:02:36.774Z"
   },
   {
    "duration": 2676,
    "start_time": "2023-03-25T06:02:38.338Z"
   },
   {
    "duration": 4,
    "start_time": "2023-03-25T06:02:41.016Z"
   },
   {
    "duration": 632,
    "start_time": "2023-03-25T06:02:41.022Z"
   },
   {
    "duration": 3,
    "start_time": "2023-03-25T06:02:41.656Z"
   },
   {
    "duration": 20,
    "start_time": "2023-03-25T06:02:41.661Z"
   },
   {
    "duration": 36,
    "start_time": "2023-03-25T06:02:41.683Z"
   },
   {
    "duration": 24,
    "start_time": "2023-03-25T06:02:41.721Z"
   },
   {
    "duration": 47,
    "start_time": "2023-03-25T06:02:41.747Z"
   },
   {
    "duration": 15,
    "start_time": "2023-03-25T06:02:41.797Z"
   },
   {
    "duration": 26,
    "start_time": "2023-03-25T06:02:41.814Z"
   },
   {
    "duration": 65,
    "start_time": "2023-03-25T06:02:41.842Z"
   },
   {
    "duration": 42,
    "start_time": "2023-03-25T06:02:41.909Z"
   },
   {
    "duration": 12,
    "start_time": "2023-03-25T06:02:41.954Z"
   },
   {
    "duration": 18,
    "start_time": "2023-03-25T06:02:41.968Z"
   },
   {
    "duration": 30,
    "start_time": "2023-03-25T06:02:41.989Z"
   },
   {
    "duration": 16,
    "start_time": "2023-03-25T06:02:42.021Z"
   },
   {
    "duration": 917,
    "start_time": "2023-03-25T06:02:42.039Z"
   },
   {
    "duration": 975,
    "start_time": "2023-03-25T06:02:42.958Z"
   },
   {
    "duration": 849,
    "start_time": "2023-03-25T06:02:43.935Z"
   },
   {
    "duration": 956,
    "start_time": "2023-03-25T06:02:44.786Z"
   },
   {
    "duration": 8,
    "start_time": "2023-03-25T06:02:45.744Z"
   },
   {
    "duration": 371,
    "start_time": "2023-03-25T06:02:45.753Z"
   },
   {
    "duration": 6,
    "start_time": "2023-03-25T06:02:46.126Z"
   },
   {
    "duration": 47,
    "start_time": "2023-03-25T06:02:46.134Z"
   },
   {
    "duration": 0,
    "start_time": "2023-03-25T06:02:46.183Z"
   },
   {
    "duration": 70,
    "start_time": "2023-03-25T06:04:11.684Z"
   },
   {
    "duration": 129,
    "start_time": "2023-03-25T06:04:30.396Z"
   },
   {
    "duration": 18,
    "start_time": "2023-03-25T06:07:26.916Z"
   },
   {
    "duration": 16,
    "start_time": "2023-03-25T06:07:44.350Z"
   },
   {
    "duration": 25,
    "start_time": "2023-03-25T06:07:57.314Z"
   },
   {
    "duration": 7,
    "start_time": "2023-03-25T06:08:26.535Z"
   },
   {
    "duration": 97,
    "start_time": "2023-03-25T06:08:42.095Z"
   },
   {
    "duration": 21,
    "start_time": "2023-03-25T06:09:01.551Z"
   },
   {
    "duration": 18,
    "start_time": "2023-03-25T06:09:15.269Z"
   },
   {
    "duration": 4,
    "start_time": "2023-03-25T06:09:37.077Z"
   },
   {
    "duration": 2056,
    "start_time": "2023-03-25T06:10:03.957Z"
   },
   {
    "duration": 981,
    "start_time": "2023-03-25T06:10:19.839Z"
   },
   {
    "duration": 821,
    "start_time": "2023-03-25T06:10:38.500Z"
   },
   {
    "duration": 9,
    "start_time": "2023-03-25T06:10:57.098Z"
   },
   {
    "duration": 1484,
    "start_time": "2023-03-25T06:14:26.782Z"
   },
   {
    "duration": 783,
    "start_time": "2023-03-25T06:14:28.269Z"
   },
   {
    "duration": 4,
    "start_time": "2023-03-25T06:14:29.053Z"
   },
   {
    "duration": 712,
    "start_time": "2023-03-25T06:14:29.060Z"
   },
   {
    "duration": 4,
    "start_time": "2023-03-25T06:14:29.775Z"
   },
   {
    "duration": 8,
    "start_time": "2023-03-25T06:14:29.781Z"
   },
   {
    "duration": 11,
    "start_time": "2023-03-25T06:14:29.790Z"
   },
   {
    "duration": 16,
    "start_time": "2023-03-25T06:14:29.803Z"
   },
   {
    "duration": 60,
    "start_time": "2023-03-25T06:14:29.821Z"
   },
   {
    "duration": 2,
    "start_time": "2023-03-25T06:14:29.883Z"
   },
   {
    "duration": 10,
    "start_time": "2023-03-25T06:14:29.887Z"
   },
   {
    "duration": 41,
    "start_time": "2023-03-25T06:14:29.899Z"
   },
   {
    "duration": 28,
    "start_time": "2023-03-25T06:14:29.942Z"
   },
   {
    "duration": 15,
    "start_time": "2023-03-25T06:14:29.972Z"
   },
   {
    "duration": 31,
    "start_time": "2023-03-25T06:14:29.989Z"
   },
   {
    "duration": 12,
    "start_time": "2023-03-25T06:14:30.022Z"
   },
   {
    "duration": 35,
    "start_time": "2023-03-25T06:14:30.036Z"
   },
   {
    "duration": 916,
    "start_time": "2023-03-25T06:14:30.073Z"
   },
   {
    "duration": 1069,
    "start_time": "2023-03-25T06:14:30.991Z"
   },
   {
    "duration": 974,
    "start_time": "2023-03-25T06:14:32.062Z"
   },
   {
    "duration": 1003,
    "start_time": "2023-03-25T06:14:33.039Z"
   },
   {
    "duration": 8,
    "start_time": "2023-03-25T06:14:34.044Z"
   },
   {
    "duration": 393,
    "start_time": "2023-03-25T06:14:34.055Z"
   },
   {
    "duration": 7,
    "start_time": "2023-03-25T06:14:34.450Z"
   },
   {
    "duration": 40,
    "start_time": "2023-03-25T06:14:34.458Z"
   },
   {
    "duration": 33,
    "start_time": "2023-03-25T06:14:34.500Z"
   },
   {
    "duration": 5,
    "start_time": "2023-03-25T06:14:52.195Z"
   },
   {
    "duration": 3275,
    "start_time": "2023-03-25T06:15:02.804Z"
   },
   {
    "duration": 149,
    "start_time": "2023-03-25T06:15:46.699Z"
   },
   {
    "duration": 1032,
    "start_time": "2023-03-25T06:15:52.482Z"
   },
   {
    "duration": 1219,
    "start_time": "2023-03-25T06:16:06.376Z"
   },
   {
    "duration": 9,
    "start_time": "2023-03-25T06:16:15.991Z"
   },
   {
    "duration": 984,
    "start_time": "2023-03-25T06:16:27.478Z"
   },
   {
    "duration": 803,
    "start_time": "2023-03-25T06:16:40.894Z"
   },
   {
    "duration": 7,
    "start_time": "2023-03-25T06:17:41.100Z"
   },
   {
    "duration": 6,
    "start_time": "2023-03-25T06:17:50.778Z"
   },
   {
    "duration": 1331,
    "start_time": "2023-03-25T06:18:11.374Z"
   },
   {
    "duration": 945,
    "start_time": "2023-03-25T06:18:23.262Z"
   },
   {
    "duration": 22,
    "start_time": "2023-03-25T06:18:45.990Z"
   },
   {
    "duration": 897,
    "start_time": "2023-03-25T06:19:22.514Z"
   },
   {
    "duration": 7,
    "start_time": "2023-03-25T06:19:35.705Z"
   },
   {
    "duration": 9,
    "start_time": "2023-03-25T06:22:15.288Z"
   },
   {
    "duration": 6,
    "start_time": "2023-03-25T06:22:32.868Z"
   },
   {
    "duration": 11,
    "start_time": "2023-03-25T06:24:58.805Z"
   },
   {
    "duration": 4,
    "start_time": "2023-03-25T06:25:09.138Z"
   },
   {
    "duration": 11,
    "start_time": "2023-03-25T06:26:47.468Z"
   },
   {
    "duration": 10,
    "start_time": "2023-03-25T06:27:03.538Z"
   },
   {
    "duration": 14,
    "start_time": "2023-03-25T06:27:13.839Z"
   },
   {
    "duration": 14,
    "start_time": "2023-03-25T06:27:35.739Z"
   },
   {
    "duration": 534,
    "start_time": "2023-03-25T06:31:48.960Z"
   },
   {
    "duration": 482,
    "start_time": "2023-03-25T06:33:01.396Z"
   },
   {
    "duration": 9,
    "start_time": "2023-03-25T06:35:03.798Z"
   },
   {
    "duration": 5,
    "start_time": "2023-03-25T06:35:42.538Z"
   },
   {
    "duration": 8,
    "start_time": "2023-03-25T06:35:52.734Z"
   },
   {
    "duration": 11,
    "start_time": "2023-03-25T06:40:42.575Z"
   },
   {
    "duration": 393,
    "start_time": "2023-03-25T06:44:16.091Z"
   },
   {
    "duration": 8,
    "start_time": "2023-03-25T06:44:32.792Z"
   },
   {
    "duration": 9,
    "start_time": "2023-03-25T06:46:14.537Z"
   },
   {
    "duration": 701,
    "start_time": "2023-03-25T06:47:34.354Z"
   },
   {
    "duration": 32,
    "start_time": "2023-03-25T07:15:05.871Z"
   },
   {
    "duration": 6,
    "start_time": "2023-03-25T07:15:34.167Z"
   },
   {
    "duration": 5,
    "start_time": "2023-03-25T07:15:43.574Z"
   },
   {
    "duration": 5,
    "start_time": "2023-03-25T07:15:51.071Z"
   },
   {
    "duration": 5,
    "start_time": "2023-03-25T07:19:23.115Z"
   },
   {
    "duration": 13,
    "start_time": "2023-03-25T07:19:36.916Z"
   },
   {
    "duration": 737,
    "start_time": "2023-03-25T07:19:56.063Z"
   },
   {
    "duration": 101,
    "start_time": "2023-03-25T07:20:08.975Z"
   },
   {
    "duration": 5,
    "start_time": "2023-03-25T07:20:15.571Z"
   },
   {
    "duration": 455,
    "start_time": "2023-03-25T07:34:03.046Z"
   },
   {
    "duration": 12,
    "start_time": "2023-03-25T07:34:18.667Z"
   },
   {
    "duration": 8,
    "start_time": "2023-03-25T07:34:36.416Z"
   },
   {
    "duration": 808,
    "start_time": "2023-03-25T07:43:25.736Z"
   },
   {
    "duration": 718,
    "start_time": "2023-03-25T07:43:30.638Z"
   },
   {
    "duration": 55,
    "start_time": "2023-03-25T07:55:58.835Z"
   },
   {
    "duration": 6,
    "start_time": "2023-03-25T07:56:11.300Z"
   },
   {
    "duration": 395,
    "start_time": "2023-03-25T07:56:39.903Z"
   },
   {
    "duration": 14,
    "start_time": "2023-03-25T07:56:55.457Z"
   },
   {
    "duration": 8,
    "start_time": "2023-03-25T07:57:00.809Z"
   },
   {
    "duration": 9,
    "start_time": "2023-03-25T07:57:03.659Z"
   },
   {
    "duration": 362,
    "start_time": "2023-03-25T07:57:08.318Z"
   },
   {
    "duration": 531,
    "start_time": "2023-03-25T08:02:52.508Z"
   },
   {
    "duration": 12,
    "start_time": "2023-03-25T08:02:58.960Z"
   },
   {
    "duration": 373,
    "start_time": "2023-03-25T08:03:00.975Z"
   },
   {
    "duration": 55,
    "start_time": "2023-03-25T08:05:10.985Z"
   },
   {
    "duration": 11,
    "start_time": "2023-03-25T08:05:13.099Z"
   },
   {
    "duration": 370,
    "start_time": "2023-03-25T08:05:18.379Z"
   },
   {
    "duration": 1024,
    "start_time": "2023-03-25T08:13:04.099Z"
   },
   {
    "duration": 1086,
    "start_time": "2023-03-25T08:13:32.234Z"
   },
   {
    "duration": 916,
    "start_time": "2023-03-25T08:13:41.571Z"
   },
   {
    "duration": 12,
    "start_time": "2023-03-25T08:15:50.187Z"
   },
   {
    "duration": 403,
    "start_time": "2023-03-25T08:16:00.104Z"
   },
   {
    "duration": 353,
    "start_time": "2023-03-25T08:25:55.780Z"
   },
   {
    "duration": 758,
    "start_time": "2023-03-25T08:28:08.339Z"
   },
   {
    "duration": 31,
    "start_time": "2023-03-25T08:35:58.816Z"
   },
   {
    "duration": 28,
    "start_time": "2023-03-25T08:38:04.079Z"
   },
   {
    "duration": 7,
    "start_time": "2023-03-25T08:39:53.213Z"
   },
   {
    "duration": 9,
    "start_time": "2023-03-25T08:44:52.068Z"
   },
   {
    "duration": 13,
    "start_time": "2023-03-25T08:45:22.537Z"
   },
   {
    "duration": 13,
    "start_time": "2023-03-25T08:45:28.460Z"
   },
   {
    "duration": 4,
    "start_time": "2023-03-25T08:46:49.402Z"
   },
   {
    "duration": 6,
    "start_time": "2023-03-25T08:47:18.482Z"
   },
   {
    "duration": 4,
    "start_time": "2023-03-25T08:47:51.642Z"
   },
   {
    "duration": 316,
    "start_time": "2023-03-25T09:03:04.867Z"
   },
   {
    "duration": 4,
    "start_time": "2023-03-25T09:09:43.222Z"
   },
   {
    "duration": 6,
    "start_time": "2023-03-25T09:26:05.369Z"
   },
   {
    "duration": 7,
    "start_time": "2023-03-25T09:26:19.471Z"
   },
   {
    "duration": 14,
    "start_time": "2023-03-25T09:44:04.440Z"
   },
   {
    "duration": 14,
    "start_time": "2023-03-25T09:44:16.116Z"
   },
   {
    "duration": 13,
    "start_time": "2023-03-25T09:46:14.284Z"
   },
   {
    "duration": 32,
    "start_time": "2023-03-25T09:46:34.084Z"
   },
   {
    "duration": 7,
    "start_time": "2023-03-25T09:47:21.297Z"
   },
   {
    "duration": 9,
    "start_time": "2023-03-25T09:50:29.994Z"
   },
   {
    "duration": 15,
    "start_time": "2023-03-25T09:50:45.169Z"
   },
   {
    "duration": 14,
    "start_time": "2023-03-25T09:52:27.739Z"
   },
   {
    "duration": 16,
    "start_time": "2023-03-25T09:52:45.706Z"
   },
   {
    "duration": 721,
    "start_time": "2023-03-25T09:56:54.366Z"
   },
   {
    "duration": 32,
    "start_time": "2023-03-25T09:57:21.748Z"
   },
   {
    "duration": 7,
    "start_time": "2023-03-25T09:57:37.275Z"
   },
   {
    "duration": 14,
    "start_time": "2023-03-25T09:57:51.609Z"
   },
   {
    "duration": 1059,
    "start_time": "2023-03-25T10:01:02.414Z"
   },
   {
    "duration": 4,
    "start_time": "2023-03-25T10:01:50.621Z"
   },
   {
    "duration": 16,
    "start_time": "2023-03-25T10:02:06.616Z"
   },
   {
    "duration": 14,
    "start_time": "2023-03-25T10:06:28.696Z"
   },
   {
    "duration": 17,
    "start_time": "2023-03-25T10:16:44.143Z"
   },
   {
    "duration": 3,
    "start_time": "2023-03-25T10:20:41.405Z"
   },
   {
    "duration": 2,
    "start_time": "2023-03-25T10:20:43.608Z"
   },
   {
    "duration": 3,
    "start_time": "2023-03-25T10:20:45.497Z"
   },
   {
    "duration": 769,
    "start_time": "2023-03-25T10:20:49.147Z"
   },
   {
    "duration": 18,
    "start_time": "2023-03-25T10:21:07.447Z"
   },
   {
    "duration": 725,
    "start_time": "2023-03-25T10:21:29.631Z"
   },
   {
    "duration": 16,
    "start_time": "2023-03-25T10:21:39.338Z"
   },
   {
    "duration": 56,
    "start_time": "2023-03-25T10:41:06.391Z"
   },
   {
    "duration": 20,
    "start_time": "2023-03-25T10:44:02.720Z"
   },
   {
    "duration": 15,
    "start_time": "2023-03-25T10:55:22.919Z"
   },
   {
    "duration": 700,
    "start_time": "2023-03-25T10:55:33.553Z"
   },
   {
    "duration": 15,
    "start_time": "2023-03-25T10:55:44.354Z"
   },
   {
    "duration": 16,
    "start_time": "2023-03-25T10:56:36.410Z"
   },
   {
    "duration": 157,
    "start_time": "2023-03-25T10:59:30.885Z"
   },
   {
    "duration": 10,
    "start_time": "2023-03-25T10:59:41.477Z"
   },
   {
    "duration": 11,
    "start_time": "2023-03-25T11:00:00.200Z"
   },
   {
    "duration": 13,
    "start_time": "2023-03-25T11:02:19.628Z"
   },
   {
    "duration": 4,
    "start_time": "2023-03-25T11:03:11.476Z"
   },
   {
    "duration": 720,
    "start_time": "2023-03-25T11:03:13.967Z"
   },
   {
    "duration": 17,
    "start_time": "2023-03-25T11:03:25.611Z"
   },
   {
    "duration": 30,
    "start_time": "2023-03-25T11:03:37.869Z"
   },
   {
    "duration": 33,
    "start_time": "2023-03-25T11:03:45.380Z"
   },
   {
    "duration": 7,
    "start_time": "2023-03-25T11:03:49.607Z"
   },
   {
    "duration": 11,
    "start_time": "2023-03-25T11:03:51.168Z"
   },
   {
    "duration": 14,
    "start_time": "2023-03-25T11:03:54.668Z"
   },
   {
    "duration": 6,
    "start_time": "2023-03-25T11:04:19.329Z"
   },
   {
    "duration": 7,
    "start_time": "2023-03-25T11:04:23.268Z"
   },
   {
    "duration": 11,
    "start_time": "2023-03-25T11:04:29.038Z"
   },
   {
    "duration": 10,
    "start_time": "2023-03-25T11:04:32.612Z"
   },
   {
    "duration": 4,
    "start_time": "2023-03-25T11:05:41.341Z"
   },
   {
    "duration": 12,
    "start_time": "2023-03-25T11:06:02.047Z"
   },
   {
    "duration": 11,
    "start_time": "2023-03-25T11:06:38.498Z"
   },
   {
    "duration": 5,
    "start_time": "2023-03-25T11:07:16.693Z"
   },
   {
    "duration": 6,
    "start_time": "2023-03-25T11:07:23.975Z"
   },
   {
    "duration": 17629,
    "start_time": "2023-03-25T11:07:30.494Z"
   },
   {
    "duration": 17566,
    "start_time": "2023-03-25T11:09:50.119Z"
   },
   {
    "duration": 11,
    "start_time": "2023-03-25T11:21:50.083Z"
   },
   {
    "duration": 13,
    "start_time": "2023-03-25T11:22:51.475Z"
   },
   {
    "duration": 27696,
    "start_time": "2023-03-25T11:23:02.368Z"
   },
   {
    "duration": 17861,
    "start_time": "2023-03-25T11:26:58.174Z"
   },
   {
    "duration": 550,
    "start_time": "2023-03-25T11:30:21.123Z"
   },
   {
    "duration": 5,
    "start_time": "2023-03-25T11:32:07.800Z"
   },
   {
    "duration": 18210,
    "start_time": "2023-03-25T11:32:19.417Z"
   },
   {
    "duration": 2658,
    "start_time": "2023-03-25T11:33:10.261Z"
   },
   {
    "duration": 744,
    "start_time": "2023-03-25T11:34:21.048Z"
   },
   {
    "duration": 17,
    "start_time": "2023-03-25T11:34:31.696Z"
   },
   {
    "duration": 32,
    "start_time": "2023-03-25T11:34:35.378Z"
   },
   {
    "duration": 29,
    "start_time": "2023-03-25T11:34:39.558Z"
   },
   {
    "duration": 9,
    "start_time": "2023-03-25T11:34:47.041Z"
   },
   {
    "duration": 8,
    "start_time": "2023-03-25T11:34:49.980Z"
   },
   {
    "duration": 17,
    "start_time": "2023-03-25T11:34:52.907Z"
   },
   {
    "duration": 73,
    "start_time": "2023-03-25T11:35:25.275Z"
   },
   {
    "duration": 8,
    "start_time": "2023-03-25T11:35:33.179Z"
   },
   {
    "duration": 10,
    "start_time": "2023-03-25T11:35:39.545Z"
   },
   {
    "duration": 15,
    "start_time": "2023-03-25T11:35:41.731Z"
   },
   {
    "duration": 9,
    "start_time": "2023-03-25T11:35:46.073Z"
   },
   {
    "duration": 5,
    "start_time": "2023-03-25T11:35:48.266Z"
   },
   {
    "duration": 2325,
    "start_time": "2023-03-25T11:35:52.801Z"
   },
   {
    "duration": 27358,
    "start_time": "2023-03-25T11:36:01.972Z"
   },
   {
    "duration": 16844,
    "start_time": "2023-03-25T11:36:39.025Z"
   },
   {
    "duration": 11,
    "start_time": "2023-03-25T11:44:13.667Z"
   },
   {
    "duration": 9,
    "start_time": "2023-03-25T11:44:21.235Z"
   },
   {
    "duration": 13,
    "start_time": "2023-03-25T11:44:28.607Z"
   },
   {
    "duration": 16230,
    "start_time": "2023-03-25T11:44:50.878Z"
   },
   {
    "duration": 16,
    "start_time": "2023-03-25T11:46:09.242Z"
   },
   {
    "duration": 1998,
    "start_time": "2023-03-25T11:46:22.687Z"
   },
   {
    "duration": 61,
    "start_time": "2023-03-25T11:53:39.965Z"
   },
   {
    "duration": 4,
    "start_time": "2023-03-25T11:53:46.396Z"
   },
   {
    "duration": 1620,
    "start_time": "2023-03-25T11:53:48.398Z"
   },
   {
    "duration": 55,
    "start_time": "2023-03-25T11:54:32.274Z"
   },
   {
    "duration": 5555,
    "start_time": "2023-03-25T11:54:56.864Z"
   },
   {
    "duration": 19856,
    "start_time": "2023-03-25T11:56:15.775Z"
   },
   {
    "duration": 33653,
    "start_time": "2023-03-25T11:56:44.435Z"
   },
   {
    "duration": 52,
    "start_time": "2023-03-25T11:57:44.003Z"
   },
   {
    "duration": 54,
    "start_time": "2023-03-25T11:58:11.167Z"
   },
   {
    "duration": 18,
    "start_time": "2023-03-25T11:58:19.539Z"
   },
   {
    "duration": 64,
    "start_time": "2023-03-25T12:04:53.114Z"
   },
   {
    "duration": 72915,
    "start_time": "2023-03-25T12:05:08.476Z"
   },
   {
    "duration": 33034,
    "start_time": "2023-03-25T12:06:35.533Z"
   },
   {
    "duration": 6,
    "start_time": "2023-03-25T12:11:46.483Z"
   },
   {
    "duration": 5,
    "start_time": "2023-03-25T12:26:14.602Z"
   },
   {
    "duration": 63979,
    "start_time": "2023-03-25T12:26:34.984Z"
   },
   {
    "duration": 64066,
    "start_time": "2023-03-25T12:27:50.802Z"
   },
   {
    "duration": 49,
    "start_time": "2023-03-25T12:29:02.763Z"
   },
   {
    "duration": 53,
    "start_time": "2023-03-25T12:29:15.823Z"
   },
   {
    "duration": 4,
    "start_time": "2023-03-25T12:31:02.372Z"
   },
   {
    "duration": 6,
    "start_time": "2023-03-25T12:37:05.928Z"
   },
   {
    "duration": 6,
    "start_time": "2023-03-25T12:39:52.433Z"
   },
   {
    "duration": 189,
    "start_time": "2023-03-25T12:40:30.380Z"
   },
   {
    "duration": 29527,
    "start_time": "2023-03-25T12:42:02.916Z"
   },
   {
    "duration": 29203,
    "start_time": "2023-03-25T12:46:14.638Z"
   },
   {
    "duration": 59,
    "start_time": "2023-03-26T12:07:45.129Z"
   },
   {
    "duration": 4,
    "start_time": "2023-03-26T12:07:48.569Z"
   },
   {
    "duration": 192,
    "start_time": "2023-03-26T12:07:57.390Z"
   },
   {
    "duration": 1691,
    "start_time": "2023-03-26T12:27:47.498Z"
   },
   {
    "duration": 2183,
    "start_time": "2023-03-26T12:27:49.191Z"
   },
   {
    "duration": 5,
    "start_time": "2023-03-26T12:27:51.375Z"
   },
   {
    "duration": 643,
    "start_time": "2023-03-26T12:27:51.383Z"
   },
   {
    "duration": 257,
    "start_time": "2023-03-26T12:27:52.028Z"
   },
   {
    "duration": 731,
    "start_time": "2023-03-26T12:27:52.287Z"
   },
   {
    "duration": 3,
    "start_time": "2023-03-26T12:27:53.020Z"
   },
   {
    "duration": 9,
    "start_time": "2023-03-26T12:27:53.025Z"
   },
   {
    "duration": 10,
    "start_time": "2023-03-26T12:27:53.036Z"
   },
   {
    "duration": 7,
    "start_time": "2023-03-26T12:27:53.066Z"
   },
   {
    "duration": 17,
    "start_time": "2023-03-26T12:27:53.076Z"
   },
   {
    "duration": 27,
    "start_time": "2023-03-26T12:27:53.095Z"
   },
   {
    "duration": 54,
    "start_time": "2023-03-26T12:27:53.124Z"
   },
   {
    "duration": 7,
    "start_time": "2023-03-26T12:27:53.180Z"
   },
   {
    "duration": 9,
    "start_time": "2023-03-26T12:27:53.189Z"
   },
   {
    "duration": 8,
    "start_time": "2023-03-26T12:27:53.199Z"
   },
   {
    "duration": 14,
    "start_time": "2023-03-26T12:27:53.209Z"
   },
   {
    "duration": 854,
    "start_time": "2023-03-26T12:27:53.225Z"
   },
   {
    "duration": 900,
    "start_time": "2023-03-26T12:27:54.080Z"
   },
   {
    "duration": 1042,
    "start_time": "2023-03-26T12:27:54.983Z"
   },
   {
    "duration": 868,
    "start_time": "2023-03-26T12:27:56.027Z"
   },
   {
    "duration": 7,
    "start_time": "2023-03-26T12:27:56.896Z"
   },
   {
    "duration": 6,
    "start_time": "2023-03-26T12:27:56.906Z"
   },
   {
    "duration": 8,
    "start_time": "2023-03-26T12:27:56.914Z"
   },
   {
    "duration": 388,
    "start_time": "2023-03-26T12:27:56.923Z"
   },
   {
    "duration": 10,
    "start_time": "2023-03-26T12:27:57.313Z"
   },
   {
    "duration": 66,
    "start_time": "2023-03-26T12:27:57.325Z"
   },
   {
    "duration": 10,
    "start_time": "2023-03-26T12:27:57.394Z"
   },
   {
    "duration": 348,
    "start_time": "2023-03-26T12:27:57.406Z"
   },
   {
    "duration": 13,
    "start_time": "2023-03-26T12:27:57.756Z"
   },
   {
    "duration": 8,
    "start_time": "2023-03-26T12:27:57.775Z"
   },
   {
    "duration": 13,
    "start_time": "2023-03-26T12:27:57.785Z"
   },
   {
    "duration": 10,
    "start_time": "2023-03-26T12:27:57.800Z"
   },
   {
    "duration": 17,
    "start_time": "2023-03-26T12:27:57.812Z"
   },
   {
    "duration": 3035,
    "start_time": "2023-03-26T12:27:57.831Z"
   },
   {
    "duration": 57546,
    "start_time": "2023-03-26T12:28:00.869Z"
   },
   {
    "duration": 29739,
    "start_time": "2023-03-26T12:28:58.417Z"
   },
   {
    "duration": 942,
    "start_time": "2023-03-26T12:29:28.158Z"
   },
   {
    "duration": 778,
    "start_time": "2023-03-26T12:31:25.001Z"
   },
   {
    "duration": 1139,
    "start_time": "2023-03-26T12:34:10.059Z"
   },
   {
    "duration": 959,
    "start_time": "2023-03-26T12:43:16.072Z"
   },
   {
    "duration": 1129,
    "start_time": "2023-03-26T12:43:50.782Z"
   },
   {
    "duration": 648,
    "start_time": "2023-03-26T12:44:40.289Z"
   },
   {
    "duration": 1206,
    "start_time": "2023-03-26T12:48:20.489Z"
   },
   {
    "duration": 641,
    "start_time": "2023-03-26T12:54:23.241Z"
   },
   {
    "duration": 628,
    "start_time": "2023-03-26T12:57:50.942Z"
   },
   {
    "duration": 590,
    "start_time": "2023-03-26T12:58:53.787Z"
   },
   {
    "duration": 415,
    "start_time": "2023-03-26T13:08:10.220Z"
   },
   {
    "duration": 519,
    "start_time": "2023-03-26T13:08:39.803Z"
   },
   {
    "duration": 7,
    "start_time": "2023-03-26T13:09:50.283Z"
   },
   {
    "duration": 476,
    "start_time": "2023-03-26T13:10:59.140Z"
   },
   {
    "duration": 407,
    "start_time": "2023-03-26T13:12:11.110Z"
   },
   {
    "duration": 850,
    "start_time": "2023-03-26T13:13:57.214Z"
   },
   {
    "duration": 757,
    "start_time": "2023-03-26T13:14:52.359Z"
   },
   {
    "duration": 772,
    "start_time": "2023-03-26T13:15:21.246Z"
   },
   {
    "duration": 735,
    "start_time": "2023-03-26T13:15:42.203Z"
   },
   {
    "duration": 816,
    "start_time": "2023-03-26T13:17:46.640Z"
   },
   {
    "duration": 869,
    "start_time": "2023-03-26T13:20:33.688Z"
   },
   {
    "duration": 716,
    "start_time": "2023-03-26T13:21:31.692Z"
   },
   {
    "duration": 702,
    "start_time": "2023-03-26T13:21:56.424Z"
   },
   {
    "duration": 728,
    "start_time": "2023-03-26T13:22:11.315Z"
   },
   {
    "duration": 796,
    "start_time": "2023-03-26T13:23:16.387Z"
   },
   {
    "duration": 8,
    "start_time": "2023-03-26T14:13:33.318Z"
   },
   {
    "duration": 529,
    "start_time": "2023-03-26T14:14:33.911Z"
   },
   {
    "duration": 8,
    "start_time": "2023-03-26T14:20:39.152Z"
   },
   {
    "duration": 1157,
    "start_time": "2023-03-26T14:21:05.821Z"
   },
   {
    "duration": 17,
    "start_time": "2023-03-26T14:21:27.136Z"
   },
   {
    "duration": 17,
    "start_time": "2023-03-26T14:21:36.597Z"
   },
   {
    "duration": 18,
    "start_time": "2023-03-26T14:21:47.160Z"
   },
   {
    "duration": 627,
    "start_time": "2023-03-26T14:23:57.977Z"
   },
   {
    "duration": 64860,
    "start_time": "2023-03-26T14:30:16.653Z"
   },
   {
    "duration": 3956,
    "start_time": "2023-03-26T14:33:45.528Z"
   },
   {
    "duration": 4117,
    "start_time": "2023-03-26T14:34:41.954Z"
   },
   {
    "duration": 372450,
    "start_time": "2023-03-26T14:35:42.687Z"
   },
   {
    "duration": 13952,
    "start_time": "2023-03-26T14:45:16.961Z"
   },
   {
    "duration": 3772,
    "start_time": "2023-03-26T14:46:11.024Z"
   },
   {
    "duration": 1281143,
    "start_time": "2023-03-26T14:51:20.597Z"
   },
   {
    "duration": 1723,
    "start_time": "2023-03-26T23:48:18.995Z"
   },
   {
    "duration": 2110,
    "start_time": "2023-03-26T23:48:20.720Z"
   },
   {
    "duration": 4,
    "start_time": "2023-03-26T23:48:22.832Z"
   },
   {
    "duration": 624,
    "start_time": "2023-03-26T23:48:22.838Z"
   },
   {
    "duration": 247,
    "start_time": "2023-03-26T23:48:23.464Z"
   },
   {
    "duration": 715,
    "start_time": "2023-03-26T23:48:23.713Z"
   },
   {
    "duration": 3,
    "start_time": "2023-03-26T23:48:24.430Z"
   },
   {
    "duration": 7,
    "start_time": "2023-03-26T23:48:24.435Z"
   },
   {
    "duration": 10,
    "start_time": "2023-03-26T23:48:24.444Z"
   },
   {
    "duration": 4,
    "start_time": "2023-03-26T23:48:24.456Z"
   },
   {
    "duration": 16,
    "start_time": "2023-03-26T23:48:24.462Z"
   },
   {
    "duration": 63,
    "start_time": "2023-03-26T23:48:24.481Z"
   },
   {
    "duration": 29,
    "start_time": "2023-03-26T23:48:24.546Z"
   },
   {
    "duration": 9,
    "start_time": "2023-03-26T23:48:24.577Z"
   },
   {
    "duration": 40,
    "start_time": "2023-03-26T23:48:24.588Z"
   },
   {
    "duration": 9,
    "start_time": "2023-03-26T23:48:24.630Z"
   },
   {
    "duration": 15,
    "start_time": "2023-03-26T23:48:24.641Z"
   },
   {
    "duration": 924,
    "start_time": "2023-03-26T23:48:24.657Z"
   },
   {
    "duration": 824,
    "start_time": "2023-03-26T23:48:25.583Z"
   },
   {
    "duration": 956,
    "start_time": "2023-03-26T23:48:26.409Z"
   },
   {
    "duration": 804,
    "start_time": "2023-03-26T23:48:27.367Z"
   },
   {
    "duration": 8,
    "start_time": "2023-03-26T23:48:28.173Z"
   },
   {
    "duration": 12,
    "start_time": "2023-03-26T23:48:28.183Z"
   },
   {
    "duration": 6,
    "start_time": "2023-03-26T23:48:28.197Z"
   },
   {
    "duration": 22,
    "start_time": "2023-03-26T23:48:28.205Z"
   },
   {
    "duration": 378,
    "start_time": "2023-03-26T23:48:28.228Z"
   },
   {
    "duration": 6,
    "start_time": "2023-03-26T23:48:28.608Z"
   },
   {
    "duration": 44,
    "start_time": "2023-03-26T23:48:28.623Z"
   },
   {
    "duration": 10,
    "start_time": "2023-03-26T23:48:28.668Z"
   },
   {
    "duration": 381,
    "start_time": "2023-03-26T23:48:28.679Z"
   },
   {
    "duration": 6,
    "start_time": "2023-03-26T23:48:29.062Z"
   },
   {
    "duration": 14,
    "start_time": "2023-03-26T23:48:29.069Z"
   },
   {
    "duration": 14,
    "start_time": "2023-03-26T23:48:29.084Z"
   },
   {
    "duration": 25,
    "start_time": "2023-03-26T23:48:29.100Z"
   },
   {
    "duration": 4,
    "start_time": "2023-03-26T23:48:29.127Z"
   },
   {
    "duration": 799,
    "start_time": "2023-03-26T23:48:29.133Z"
   },
   {
    "duration": 3382928,
    "start_time": "2023-03-26T23:48:29.933Z"
   },
   {
    "duration": 13056,
    "start_time": "2023-03-27T00:44:52.864Z"
   },
   {
    "duration": 8742,
    "start_time": "2023-03-27T00:45:05.934Z"
   },
   {
    "duration": 0,
    "start_time": "2023-03-27T00:45:14.679Z"
   },
   {
    "duration": 15,
    "start_time": "2023-03-27T01:25:23.440Z"
   },
   {
    "duration": 7,
    "start_time": "2023-03-27T01:26:59.835Z"
   },
   {
    "duration": 5,
    "start_time": "2023-03-27T01:27:45.473Z"
   },
   {
    "duration": 4,
    "start_time": "2023-03-27T01:29:13.923Z"
   },
   {
    "duration": 5,
    "start_time": "2023-03-27T01:34:18.520Z"
   },
   {
    "duration": 7,
    "start_time": "2023-03-27T01:37:11.089Z"
   },
   {
    "duration": 5,
    "start_time": "2023-03-27T01:37:35.309Z"
   },
   {
    "duration": 1391,
    "start_time": "2023-03-27T01:37:46.499Z"
   },
   {
    "duration": 18,
    "start_time": "2023-03-27T01:38:10.484Z"
   },
   {
    "duration": 6,
    "start_time": "2023-03-27T01:44:35.739Z"
   },
   {
    "duration": 12,
    "start_time": "2023-03-27T01:56:32.301Z"
   },
   {
    "duration": 6,
    "start_time": "2023-03-27T01:56:47.060Z"
   },
   {
    "duration": 13,
    "start_time": "2023-03-27T02:01:30.067Z"
   },
   {
    "duration": 8,
    "start_time": "2023-03-27T02:20:41.002Z"
   },
   {
    "duration": 11,
    "start_time": "2023-03-27T02:22:56.727Z"
   },
   {
    "duration": 13,
    "start_time": "2023-03-27T03:18:26.672Z"
   },
   {
    "duration": 19,
    "start_time": "2023-03-27T03:18:44.406Z"
   },
   {
    "duration": 12,
    "start_time": "2023-03-27T03:20:18.272Z"
   },
   {
    "duration": 5,
    "start_time": "2023-03-27T03:39:15.432Z"
   },
   {
    "duration": 1913,
    "start_time": "2023-03-28T03:09:04.732Z"
   },
   {
    "duration": 3550,
    "start_time": "2023-03-28T03:09:06.649Z"
   },
   {
    "duration": 4,
    "start_time": "2023-03-28T03:09:10.201Z"
   },
   {
    "duration": 741,
    "start_time": "2023-03-28T03:09:10.207Z"
   },
   {
    "duration": 267,
    "start_time": "2023-03-28T03:09:10.950Z"
   },
   {
    "duration": 849,
    "start_time": "2023-03-28T03:09:11.219Z"
   },
   {
    "duration": 4,
    "start_time": "2023-03-28T03:09:12.070Z"
   },
   {
    "duration": 18,
    "start_time": "2023-03-28T03:09:12.076Z"
   },
   {
    "duration": 16,
    "start_time": "2023-03-28T03:09:12.096Z"
   },
   {
    "duration": 4,
    "start_time": "2023-03-28T03:09:12.114Z"
   },
   {
    "duration": 33,
    "start_time": "2023-03-28T03:09:12.120Z"
   },
   {
    "duration": 39,
    "start_time": "2023-03-28T03:09:12.155Z"
   },
   {
    "duration": 30,
    "start_time": "2023-03-28T03:09:12.196Z"
   },
   {
    "duration": 14,
    "start_time": "2023-03-28T03:09:12.237Z"
   },
   {
    "duration": 13,
    "start_time": "2023-03-28T03:09:12.252Z"
   },
   {
    "duration": 22,
    "start_time": "2023-03-28T03:09:12.267Z"
   },
   {
    "duration": 23,
    "start_time": "2023-03-28T03:09:12.290Z"
   },
   {
    "duration": 1048,
    "start_time": "2023-03-28T03:09:12.315Z"
   },
   {
    "duration": 944,
    "start_time": "2023-03-28T03:09:13.365Z"
   },
   {
    "duration": 1098,
    "start_time": "2023-03-28T03:09:14.311Z"
   },
   {
    "duration": 805,
    "start_time": "2023-03-28T03:09:15.411Z"
   },
   {
    "duration": 22,
    "start_time": "2023-03-28T03:09:16.218Z"
   },
   {
    "duration": 17,
    "start_time": "2023-03-28T03:09:16.242Z"
   },
   {
    "duration": 13,
    "start_time": "2023-03-28T03:09:16.261Z"
   },
   {
    "duration": 11,
    "start_time": "2023-03-28T03:09:16.276Z"
   },
   {
    "duration": 459,
    "start_time": "2023-03-28T03:09:16.289Z"
   },
   {
    "duration": 9,
    "start_time": "2023-03-28T03:09:16.750Z"
   },
   {
    "duration": 58,
    "start_time": "2023-03-28T03:09:16.763Z"
   },
   {
    "duration": 24,
    "start_time": "2023-03-28T03:09:16.823Z"
   },
   {
    "duration": 426,
    "start_time": "2023-03-28T03:09:16.850Z"
   },
   {
    "duration": 7,
    "start_time": "2023-03-28T03:09:17.277Z"
   },
   {
    "duration": 23,
    "start_time": "2023-03-28T03:09:17.286Z"
   },
   {
    "duration": 24,
    "start_time": "2023-03-28T03:09:17.310Z"
   },
   {
    "duration": 23,
    "start_time": "2023-03-28T03:09:17.336Z"
   },
   {
    "duration": 11,
    "start_time": "2023-03-28T03:09:17.361Z"
   },
   {
    "duration": 1578,
    "start_time": "2023-03-28T03:09:17.374Z"
   },
   {
    "duration": 1738,
    "start_time": "2023-03-28T04:07:02.602Z"
   },
   {
    "duration": 881,
    "start_time": "2023-03-28T04:07:04.343Z"
   },
   {
    "duration": 8,
    "start_time": "2023-03-28T04:07:05.226Z"
   },
   {
    "duration": 765,
    "start_time": "2023-03-28T04:07:05.238Z"
   },
   {
    "duration": 274,
    "start_time": "2023-03-28T04:07:06.005Z"
   },
   {
    "duration": 890,
    "start_time": "2023-03-28T04:07:06.306Z"
   },
   {
    "duration": 6,
    "start_time": "2023-03-28T04:07:07.198Z"
   },
   {
    "duration": 8,
    "start_time": "2023-03-28T04:07:07.206Z"
   },
   {
    "duration": 37,
    "start_time": "2023-03-28T04:07:07.215Z"
   },
   {
    "duration": 17,
    "start_time": "2023-03-28T04:07:07.256Z"
   },
   {
    "duration": 34,
    "start_time": "2023-03-28T04:07:07.275Z"
   },
   {
    "duration": 46,
    "start_time": "2023-03-28T04:07:07.311Z"
   },
   {
    "duration": 32,
    "start_time": "2023-03-28T04:07:07.360Z"
   },
   {
    "duration": 11,
    "start_time": "2023-03-28T04:07:07.394Z"
   },
   {
    "duration": 30,
    "start_time": "2023-03-28T04:07:07.407Z"
   },
   {
    "duration": 15,
    "start_time": "2023-03-28T04:07:07.440Z"
   },
   {
    "duration": 28,
    "start_time": "2023-03-28T04:07:07.457Z"
   },
   {
    "duration": 1060,
    "start_time": "2023-03-28T04:07:07.487Z"
   },
   {
    "duration": 958,
    "start_time": "2023-03-28T04:07:08.554Z"
   },
   {
    "duration": 1133,
    "start_time": "2023-03-28T04:07:09.514Z"
   },
   {
    "duration": 907,
    "start_time": "2023-03-28T04:07:10.649Z"
   },
   {
    "duration": 11,
    "start_time": "2023-03-28T04:07:11.559Z"
   },
   {
    "duration": 10,
    "start_time": "2023-03-28T04:07:11.573Z"
   },
   {
    "duration": 7,
    "start_time": "2023-03-28T04:07:11.585Z"
   },
   {
    "duration": 55,
    "start_time": "2023-03-28T04:07:11.593Z"
   },
   {
    "duration": 459,
    "start_time": "2023-03-28T04:07:11.652Z"
   },
   {
    "duration": 10,
    "start_time": "2023-03-28T04:07:12.113Z"
   },
   {
    "duration": 58,
    "start_time": "2023-03-28T04:07:12.136Z"
   },
   {
    "duration": 13,
    "start_time": "2023-03-28T04:07:12.196Z"
   },
   {
    "duration": 478,
    "start_time": "2023-03-28T04:07:12.211Z"
   },
   {
    "duration": 7,
    "start_time": "2023-03-28T04:07:12.690Z"
   },
   {
    "duration": 37,
    "start_time": "2023-03-28T04:07:12.699Z"
   },
   {
    "duration": 29,
    "start_time": "2023-03-28T04:07:12.739Z"
   },
   {
    "duration": 13,
    "start_time": "2023-03-28T04:07:12.770Z"
   },
   {
    "duration": 10,
    "start_time": "2023-03-28T04:07:12.784Z"
   },
   {
    "duration": 1656,
    "start_time": "2023-03-28T04:07:12.796Z"
   },
   {
    "duration": 22331,
    "start_time": "2023-03-28T04:07:14.454Z"
   },
   {
    "duration": 14899,
    "start_time": "2023-03-28T04:07:36.787Z"
   },
   {
    "duration": 1632,
    "start_time": "2023-03-28T04:07:51.688Z"
   },
   {
    "duration": 26,
    "start_time": "2023-03-28T04:07:53.323Z"
   },
   {
    "duration": 1565,
    "start_time": "2023-03-28T04:09:02.265Z"
   },
   {
    "duration": 10,
    "start_time": "2023-03-28T04:09:09.618Z"
   },
   {
    "duration": 480,
    "start_time": "2023-03-28T04:32:39.293Z"
   },
   {
    "duration": 499,
    "start_time": "2023-03-28T04:33:04.095Z"
   },
   {
    "duration": 689,
    "start_time": "2023-03-28T04:33:25.953Z"
   }
  ],
  "kernelspec": {
   "display_name": "anaconda-2022.05-py39",
   "language": "python",
   "name": "conda-env-anaconda-2022.05-py39-py"
  },
  "language_info": {
   "codemirror_mode": {
    "name": "ipython",
    "version": 3
   },
   "file_extension": ".py",
   "mimetype": "text/x-python",
   "name": "python",
   "nbconvert_exporter": "python",
   "pygments_lexer": "ipython3",
   "version": "3.9.12"
  },
  "toc": {
   "base_numbering": 1,
   "nav_menu": {},
   "number_sections": true,
   "sideBar": true,
   "skip_h1_title": true,
   "title_cell": "Содержание",
   "title_sidebar": "Contents",
   "toc_cell": true,
   "toc_position": {
    "height": "calc(100% - 180px)",
    "left": "10px",
    "top": "150px",
    "width": "165px"
   },
   "toc_section_display": true,
   "toc_window_display": true
  }
 },
 "nbformat": 4,
 "nbformat_minor": 4
}
