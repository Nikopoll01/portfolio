{
 "cells": [
  {
   "cell_type": "markdown",
   "metadata": {
    "toc": true
   },
   "source": [
    "<h1>Содержание<span class=\"tocSkip\"></span></h1>\n",
    "<div class=\"toc\"><ul class=\"toc-item\"><li><span><a href=\"#Подготовка\" data-toc-modified-id=\"Подготовка-1\"><span class=\"toc-item-num\">1&nbsp;&nbsp;</span>Подготовка</a></span></li><li><span><a href=\"#Обучение\" data-toc-modified-id=\"Обучение-2\"><span class=\"toc-item-num\">2&nbsp;&nbsp;</span>Обучение</a></span></li><li><span><a href=\"#Выводы\" data-toc-modified-id=\"Выводы-3\"><span class=\"toc-item-num\">3&nbsp;&nbsp;</span>Выводы</a></span></li><li><span><a href=\"#Чек-лист-проверки\" data-toc-modified-id=\"Чек-лист-проверки-4\"><span class=\"toc-item-num\">4&nbsp;&nbsp;</span>Чек-лист проверки</a></span></li></ul></div>"
   ]
  },
  {
   "cell_type": "markdown",
   "metadata": {},
   "source": [
    "# Проект для «Викишоп»"
   ]
  },
  {
   "cell_type": "markdown",
   "metadata": {},
   "source": [
    "Интернет-магазин «Викишоп» запускает новый сервис. Теперь пользователи могут редактировать и дополнять описания товаров, как в вики-сообществах. То есть клиенты предлагают свои правки и комментируют изменения других. Магазину нужен инструмент, который будет искать токсичные комментарии и отправлять их на модерацию. \n",
    "\n",
    "Обучите модель классифицировать комментарии на позитивные и негативные. В вашем распоряжении набор данных с разметкой о токсичности правок.\n",
    "\n",
    "Постройте модель со значением метрики качества *F1* не меньше 0.75. \n",
    "\n",
    "**Инструкция по выполнению проекта**\n",
    "\n",
    "1. Загрузите и подготовьте данные.\n",
    "2. Обучите разные модели. \n",
    "3. Сделайте выводы.\n",
    "\n",
    "Для выполнения проекта применять *BERT* необязательно, но вы можете попробовать.\n",
    "\n",
    "**Описание данных**\n",
    "\n",
    "Данные находятся в файле `toxic_comments.csv`. Столбец *text* в нём содержит текст комментария, а *toxic* — целевой признак."
   ]
  },
  {
   "cell_type": "markdown",
   "metadata": {},
   "source": [
    "## Подготовка"
   ]
  },
  {
   "cell_type": "code",
   "execution_count": 1,
   "metadata": {},
   "outputs": [],
   "source": [
    "import numpy as np\n",
    "import pandas as pd\n",
    "\n",
    "\n",
    "from pymystem3 import Mystem\n",
    "import re\n",
    "import torch\n",
    "import transformers\n",
    "import pymorphy2\n",
    "\n",
    "from nltk.corpus import stopwords\n",
    "import nltk\n",
    "from sklearn.feature_extraction.text import CountVectorizer, TfidfVectorizer\n",
    "from nltk.stem import WordNetLemmatizer\n",
    "\n",
    "from tqdm import notebook\n",
    "from tqdm import tqdm\n",
    "\n",
    "from sklearn.linear_model import LogisticRegression\n",
    "from sklearn.ensemble import RandomForestClassifier\n",
    "from catboost import CatBoostClassifier\n",
    "from sklearn.model_selection import cross_val_score, GridSearchCV, train_test_split\n",
    "\n",
    "from sklearn.metrics import accuracy_score, f1_score\n",
    "\n",
    "import warnings\n",
    "warnings.filterwarnings('ignore')"
   ]
  },
  {
   "cell_type": "code",
   "execution_count": 2,
   "metadata": {},
   "outputs": [],
   "source": [
    "#читаю датасет\n",
    "\n",
    "data=pd.read_csv('/datasets/toxic_comments.csv')"
   ]
  },
  {
   "cell_type": "code",
   "execution_count": 3,
   "metadata": {},
   "outputs": [
    {
     "data": {
      "text/html": [
       "<div>\n",
       "<style scoped>\n",
       "    .dataframe tbody tr th:only-of-type {\n",
       "        vertical-align: middle;\n",
       "    }\n",
       "\n",
       "    .dataframe tbody tr th {\n",
       "        vertical-align: top;\n",
       "    }\n",
       "\n",
       "    .dataframe thead th {\n",
       "        text-align: right;\n",
       "    }\n",
       "</style>\n",
       "<table border=\"1\" class=\"dataframe\">\n",
       "  <thead>\n",
       "    <tr style=\"text-align: right;\">\n",
       "      <th></th>\n",
       "      <th>Unnamed: 0</th>\n",
       "      <th>text</th>\n",
       "      <th>toxic</th>\n",
       "    </tr>\n",
       "  </thead>\n",
       "  <tbody>\n",
       "    <tr>\n",
       "      <th>0</th>\n",
       "      <td>0</td>\n",
       "      <td>Explanation\\nWhy the edits made under my usern...</td>\n",
       "      <td>0</td>\n",
       "    </tr>\n",
       "    <tr>\n",
       "      <th>1</th>\n",
       "      <td>1</td>\n",
       "      <td>D'aww! He matches this background colour I'm s...</td>\n",
       "      <td>0</td>\n",
       "    </tr>\n",
       "    <tr>\n",
       "      <th>2</th>\n",
       "      <td>2</td>\n",
       "      <td>Hey man, I'm really not trying to edit war. It...</td>\n",
       "      <td>0</td>\n",
       "    </tr>\n",
       "    <tr>\n",
       "      <th>3</th>\n",
       "      <td>3</td>\n",
       "      <td>\"\\nMore\\nI can't make any real suggestions on ...</td>\n",
       "      <td>0</td>\n",
       "    </tr>\n",
       "    <tr>\n",
       "      <th>4</th>\n",
       "      <td>4</td>\n",
       "      <td>You, sir, are my hero. Any chance you remember...</td>\n",
       "      <td>0</td>\n",
       "    </tr>\n",
       "    <tr>\n",
       "      <th>...</th>\n",
       "      <td>...</td>\n",
       "      <td>...</td>\n",
       "      <td>...</td>\n",
       "    </tr>\n",
       "    <tr>\n",
       "      <th>159287</th>\n",
       "      <td>159446</td>\n",
       "      <td>\":::::And for the second time of asking, when ...</td>\n",
       "      <td>0</td>\n",
       "    </tr>\n",
       "    <tr>\n",
       "      <th>159288</th>\n",
       "      <td>159447</td>\n",
       "      <td>You should be ashamed of yourself \\n\\nThat is ...</td>\n",
       "      <td>0</td>\n",
       "    </tr>\n",
       "    <tr>\n",
       "      <th>159289</th>\n",
       "      <td>159448</td>\n",
       "      <td>Spitzer \\n\\nUmm, theres no actual article for ...</td>\n",
       "      <td>0</td>\n",
       "    </tr>\n",
       "    <tr>\n",
       "      <th>159290</th>\n",
       "      <td>159449</td>\n",
       "      <td>And it looks like it was actually you who put ...</td>\n",
       "      <td>0</td>\n",
       "    </tr>\n",
       "    <tr>\n",
       "      <th>159291</th>\n",
       "      <td>159450</td>\n",
       "      <td>\"\\nAnd ... I really don't think you understand...</td>\n",
       "      <td>0</td>\n",
       "    </tr>\n",
       "  </tbody>\n",
       "</table>\n",
       "<p>159292 rows × 3 columns</p>\n",
       "</div>"
      ],
      "text/plain": [
       "        Unnamed: 0                                               text  toxic\n",
       "0                0  Explanation\\nWhy the edits made under my usern...      0\n",
       "1                1  D'aww! He matches this background colour I'm s...      0\n",
       "2                2  Hey man, I'm really not trying to edit war. It...      0\n",
       "3                3  \"\\nMore\\nI can't make any real suggestions on ...      0\n",
       "4                4  You, sir, are my hero. Any chance you remember...      0\n",
       "...            ...                                                ...    ...\n",
       "159287      159446  \":::::And for the second time of asking, when ...      0\n",
       "159288      159447  You should be ashamed of yourself \\n\\nThat is ...      0\n",
       "159289      159448  Spitzer \\n\\nUmm, theres no actual article for ...      0\n",
       "159290      159449  And it looks like it was actually you who put ...      0\n",
       "159291      159450  \"\\nAnd ... I really don't think you understand...      0\n",
       "\n",
       "[159292 rows x 3 columns]"
      ]
     },
     "execution_count": 3,
     "metadata": {},
     "output_type": "execute_result"
    }
   ],
   "source": [
    "#проверяю что в нем лежит\n",
    "\n",
    "data"
   ]
  },
  {
   "cell_type": "markdown",
   "metadata": {},
   "source": [
    "много ненужных симбволов типа троеточий, разделителей \\n, таке лишний столбец 'Unnamed: 0'"
   ]
  },
  {
   "cell_type": "code",
   "execution_count": 4,
   "metadata": {},
   "outputs": [],
   "source": [
    "#удаляю столбец\n",
    "\n",
    "data = data.drop('Unnamed: 0', axis=1)"
   ]
  },
  {
   "cell_type": "code",
   "execution_count": 5,
   "metadata": {},
   "outputs": [
    {
     "data": {
      "text/html": [
       "<div>\n",
       "<style scoped>\n",
       "    .dataframe tbody tr th:only-of-type {\n",
       "        vertical-align: middle;\n",
       "    }\n",
       "\n",
       "    .dataframe tbody tr th {\n",
       "        vertical-align: top;\n",
       "    }\n",
       "\n",
       "    .dataframe thead th {\n",
       "        text-align: right;\n",
       "    }\n",
       "</style>\n",
       "<table border=\"1\" class=\"dataframe\">\n",
       "  <thead>\n",
       "    <tr style=\"text-align: right;\">\n",
       "      <th></th>\n",
       "      <th>text</th>\n",
       "      <th>toxic</th>\n",
       "    </tr>\n",
       "  </thead>\n",
       "  <tbody>\n",
       "    <tr>\n",
       "      <th>0</th>\n",
       "      <td>Explanation\\nWhy the edits made under my usern...</td>\n",
       "      <td>0</td>\n",
       "    </tr>\n",
       "    <tr>\n",
       "      <th>1</th>\n",
       "      <td>D'aww! He matches this background colour I'm s...</td>\n",
       "      <td>0</td>\n",
       "    </tr>\n",
       "    <tr>\n",
       "      <th>2</th>\n",
       "      <td>Hey man, I'm really not trying to edit war. It...</td>\n",
       "      <td>0</td>\n",
       "    </tr>\n",
       "    <tr>\n",
       "      <th>3</th>\n",
       "      <td>\"\\nMore\\nI can't make any real suggestions on ...</td>\n",
       "      <td>0</td>\n",
       "    </tr>\n",
       "    <tr>\n",
       "      <th>4</th>\n",
       "      <td>You, sir, are my hero. Any chance you remember...</td>\n",
       "      <td>0</td>\n",
       "    </tr>\n",
       "    <tr>\n",
       "      <th>...</th>\n",
       "      <td>...</td>\n",
       "      <td>...</td>\n",
       "    </tr>\n",
       "    <tr>\n",
       "      <th>159287</th>\n",
       "      <td>\":::::And for the second time of asking, when ...</td>\n",
       "      <td>0</td>\n",
       "    </tr>\n",
       "    <tr>\n",
       "      <th>159288</th>\n",
       "      <td>You should be ashamed of yourself \\n\\nThat is ...</td>\n",
       "      <td>0</td>\n",
       "    </tr>\n",
       "    <tr>\n",
       "      <th>159289</th>\n",
       "      <td>Spitzer \\n\\nUmm, theres no actual article for ...</td>\n",
       "      <td>0</td>\n",
       "    </tr>\n",
       "    <tr>\n",
       "      <th>159290</th>\n",
       "      <td>And it looks like it was actually you who put ...</td>\n",
       "      <td>0</td>\n",
       "    </tr>\n",
       "    <tr>\n",
       "      <th>159291</th>\n",
       "      <td>\"\\nAnd ... I really don't think you understand...</td>\n",
       "      <td>0</td>\n",
       "    </tr>\n",
       "  </tbody>\n",
       "</table>\n",
       "<p>159292 rows × 2 columns</p>\n",
       "</div>"
      ],
      "text/plain": [
       "                                                     text  toxic\n",
       "0       Explanation\\nWhy the edits made under my usern...      0\n",
       "1       D'aww! He matches this background colour I'm s...      0\n",
       "2       Hey man, I'm really not trying to edit war. It...      0\n",
       "3       \"\\nMore\\nI can't make any real suggestions on ...      0\n",
       "4       You, sir, are my hero. Any chance you remember...      0\n",
       "...                                                   ...    ...\n",
       "159287  \":::::And for the second time of asking, when ...      0\n",
       "159288  You should be ashamed of yourself \\n\\nThat is ...      0\n",
       "159289  Spitzer \\n\\nUmm, theres no actual article for ...      0\n",
       "159290  And it looks like it was actually you who put ...      0\n",
       "159291  \"\\nAnd ... I really don't think you understand...      0\n",
       "\n",
       "[159292 rows x 2 columns]"
      ]
     },
     "execution_count": 5,
     "metadata": {},
     "output_type": "execute_result"
    }
   ],
   "source": [
    "#провряю удаление\n",
    "\n",
    "data"
   ]
  },
  {
   "cell_type": "code",
   "execution_count": 7,
   "metadata": {},
   "outputs": [],
   "source": [
    "#функция очистки текста\n",
    "\n",
    "def clear_text(text):\n",
    "    text = text.lower()\n",
    "    cl_text = re.sub(r\"[^a-zA-Z' ]\", \" \", text)\n",
    "    clear_list = cl_text.split()\n",
    "    clear_text = ' '.join(clear_list)\n",
    "    return clear_text\n",
    " \n",
    "#функция лематизации\n",
    "\n",
    "wnl = WordNetLemmatizer()\n",
    "def lemmatize(text):\n",
    "    lemm_list = [wnl.lemmatize(w) for w in nltk.word_tokenize(text)] \n",
    "    lemm_text = \" \".join(lemm_list)\n",
    "    return lemm_text\n",
    " \n"
   ]
  },
  {
   "cell_type": "code",
   "execution_count": 8,
   "metadata": {},
   "outputs": [
    {
     "name": "stderr",
     "output_type": "stream",
     "text": [
      "100%|██████████| 159292/159292 [01:26<00:00, 1838.27it/s]\n"
     ]
    }
   ],
   "source": [
    "#сама лематизация\n",
    "\n",
    "lemm=[]\n",
    "for i in tqdm(range(len(data['text']))):\n",
    "    lemm.append(lemmatize(clear_text(data['text'][i])))\n",
    "    \n",
    "data['lemm_text']=pd.Series(lemm, index=data.index)"
   ]
  },
  {
   "cell_type": "code",
   "execution_count": 9,
   "metadata": {},
   "outputs": [
    {
     "data": {
      "text/html": [
       "<div>\n",
       "<style scoped>\n",
       "    .dataframe tbody tr th:only-of-type {\n",
       "        vertical-align: middle;\n",
       "    }\n",
       "\n",
       "    .dataframe tbody tr th {\n",
       "        vertical-align: top;\n",
       "    }\n",
       "\n",
       "    .dataframe thead th {\n",
       "        text-align: right;\n",
       "    }\n",
       "</style>\n",
       "<table border=\"1\" class=\"dataframe\">\n",
       "  <thead>\n",
       "    <tr style=\"text-align: right;\">\n",
       "      <th></th>\n",
       "      <th>text</th>\n",
       "      <th>toxic</th>\n",
       "      <th>lemm_text</th>\n",
       "    </tr>\n",
       "  </thead>\n",
       "  <tbody>\n",
       "    <tr>\n",
       "      <th>0</th>\n",
       "      <td>Explanation\\nWhy the edits made under my usern...</td>\n",
       "      <td>0</td>\n",
       "      <td>explanation why the edits made under my userna...</td>\n",
       "    </tr>\n",
       "    <tr>\n",
       "      <th>1</th>\n",
       "      <td>D'aww! He matches this background colour I'm s...</td>\n",
       "      <td>0</td>\n",
       "      <td>d'aww he match this background colour i 'm see...</td>\n",
       "    </tr>\n",
       "    <tr>\n",
       "      <th>2</th>\n",
       "      <td>Hey man, I'm really not trying to edit war. It...</td>\n",
       "      <td>0</td>\n",
       "      <td>hey man i 'm really not trying to edit war it ...</td>\n",
       "    </tr>\n",
       "    <tr>\n",
       "      <th>3</th>\n",
       "      <td>\"\\nMore\\nI can't make any real suggestions on ...</td>\n",
       "      <td>0</td>\n",
       "      <td>more i ca n't make any real suggestion on impr...</td>\n",
       "    </tr>\n",
       "    <tr>\n",
       "      <th>4</th>\n",
       "      <td>You, sir, are my hero. Any chance you remember...</td>\n",
       "      <td>0</td>\n",
       "      <td>you sir are my hero any chance you remember wh...</td>\n",
       "    </tr>\n",
       "  </tbody>\n",
       "</table>\n",
       "</div>"
      ],
      "text/plain": [
       "                                                text  toxic  \\\n",
       "0  Explanation\\nWhy the edits made under my usern...      0   \n",
       "1  D'aww! He matches this background colour I'm s...      0   \n",
       "2  Hey man, I'm really not trying to edit war. It...      0   \n",
       "3  \"\\nMore\\nI can't make any real suggestions on ...      0   \n",
       "4  You, sir, are my hero. Any chance you remember...      0   \n",
       "\n",
       "                                           lemm_text  \n",
       "0  explanation why the edits made under my userna...  \n",
       "1  d'aww he match this background colour i 'm see...  \n",
       "2  hey man i 'm really not trying to edit war it ...  \n",
       "3  more i ca n't make any real suggestion on impr...  \n",
       "4  you sir are my hero any chance you remember wh...  "
      ]
     },
     "execution_count": 9,
     "metadata": {},
     "output_type": "execute_result"
    }
   ],
   "source": [
    "#проверяю лематизацию\n",
    "\n",
    "data.head()"
   ]
  },
  {
   "cell_type": "code",
   "execution_count": 10,
   "metadata": {},
   "outputs": [
    {
     "data": {
      "text/plain": [
       "0.10161213369158527"
      ]
     },
     "execution_count": 10,
     "metadata": {},
     "output_type": "execute_result"
    }
   ],
   "source": [
    "#проверяю баланс классов\n",
    "\n",
    "data['toxic'].mean()"
   ]
  },
  {
   "cell_type": "markdown",
   "metadata": {},
   "source": [
    "Классы несбалансированы."
   ]
  },
  {
   "cell_type": "markdown",
   "metadata": {},
   "source": [
    "вывод 1:\n",
    "    1. прочитал датасет - \n",
    "    2. почистил от регулярных выражений\n",
    "    3. провел лемматизацию\n",
    "    4. обнаружил дисбаланс классов - при работе с моделями этот момент исправлю\n",
    "    "
   ]
  },
  {
   "cell_type": "markdown",
   "metadata": {},
   "source": [
    "## Обучение"
   ]
  },
  {
   "cell_type": "code",
   "execution_count": 11,
   "metadata": {},
   "outputs": [],
   "source": [
    "#разбиваю на выборки\n",
    "\n",
    "features = data['lemm_text']\n",
    "target=data['toxic']"
   ]
  },
  {
   "cell_type": "code",
   "execution_count": 12,
   "metadata": {},
   "outputs": [],
   "source": [
    "#делю сначала на test и  train_valid\n",
    "\n",
    "features_train_valid, features_test, target_train_valid, target_test = train_test_split(features, target, shuffle=True,\n",
    "                                                                            test_size = 0.1, random_state = 12345)"
   ]
  },
  {
   "cell_type": "markdown",
   "metadata": {},
   "source": []
  },
  {
   "cell_type": "code",
   "execution_count": 13,
   "metadata": {},
   "outputs": [],
   "source": [
    "# потом train_valid  на train и valid\n",
    "\n",
    "features_train, features_valid, target_train, target_valid = train_test_split(features_train_valid, target_train_valid, \n",
    "                                                                              shuffle=True, test_size=0.5, \n",
    "                                                                              random_state = 12345)"
   ]
  },
  {
   "cell_type": "code",
   "execution_count": 14,
   "metadata": {},
   "outputs": [
    {
     "name": "stdout",
     "output_type": "stream",
     "text": [
      "(71681,)\n",
      "(71681,)\n",
      "(15930,)\n"
     ]
    }
   ],
   "source": [
    "#проверяю\n",
    "\n",
    "print(features_train.shape)\n",
    "print(features_valid.shape)\n",
    "print(features_test.shape)"
   ]
  },
  {
   "cell_type": "code",
   "execution_count": 15,
   "metadata": {},
   "outputs": [
    {
     "name": "stderr",
     "output_type": "stream",
     "text": [
      "[nltk_data] Downloading package stopwords to /home/jovyan/nltk_data...\n",
      "[nltk_data]   Package stopwords is already up-to-date!\n"
     ]
    }
   ],
   "source": [
    "#загружаю список стоп слов\n",
    "\n",
    "nltk.download('stopwords')\n",
    "stop_words = set(stopwords.words('english')) \n",
    "count_tf_idf = TfidfVectorizer(stop_words=stop_words)"
   ]
  },
  {
   "cell_type": "code",
   "execution_count": 16,
   "metadata": {},
   "outputs": [],
   "source": [
    "features_train_no_tfidf = features_train.copy()\n",
    "features_valid_no_tfidf = features_valid.copy()\n",
    "features_test_no_tfidf = features_test.copy()"
   ]
  },
  {
   "cell_type": "code",
   "execution_count": 17,
   "metadata": {},
   "outputs": [],
   "source": [
    "#создаю счётчик, указав в нём стоп-слова и чтобы посчитать TF-IDF, вызоваяю функцию fit_transform():\n",
    "\n",
    "features_train = count_tf_idf.fit_transform(features_train)\n",
    "features_valid = count_tf_idf.transform(features_valid)\n",
    "features_test = count_tf_idf.transform(features_test)\n"
   ]
  },
  {
   "cell_type": "code",
   "execution_count": 18,
   "metadata": {},
   "outputs": [
    {
     "name": "stdout",
     "output_type": "stream",
     "text": [
      "f1_score 0.7540794038288579\n",
      "\n",
      "CPU times: user 1.5 s, sys: 47.5 ms, total: 1.55 s\n",
      "Wall time: 1.55 s\n"
     ]
    }
   ],
   "source": [
    "%%time\n",
    "#смотрю модель LogisticRegression\n",
    "\n",
    "model = LogisticRegression(class_weight='balanced', random_state=12345, C = 4, penalty = 'l1', solver='liblinear', max_iter=200)\n",
    "model.fit(features_train, target_train)\n",
    "predict = model.predict(features_valid)\n",
    "print(f'f1_score {f1_score(target_valid, predict)}')\n",
    "print()\n"
   ]
  },
  {
   "cell_type": "markdown",
   "metadata": {},
   "source": [
    "модель LogisticRegression, f1_score = 0.75"
   ]
  },
  {
   "cell_type": "code",
   "execution_count": 36,
   "metadata": {},
   "outputs": [
    {
     "name": "stdout",
     "output_type": "stream",
     "text": [
      "f1_score 0.7499512852373286\n",
      "\n",
      "CPU times: user 1.66 s, sys: 319 µs, total: 1.66 s\n",
      "Wall time: 1.66 s\n"
     ]
    }
   ],
   "source": [
    "%%time\n",
    "\n",
    "#LogisticRegression c указанными гиперпарамтерами\n",
    "\n",
    "model = LogisticRegression(class_weight='balanced', \n",
    "                           random_state=12345,\n",
    "                           C = 2,\n",
    "                           penalty = 'l1',\n",
    "                           solver='liblinear',\n",
    "                           max_iter=50)\n",
    "\n",
    "f1_score_lg = cross_val_score(model,\n",
    "                           features_train,\n",
    "                           target_train,\n",
    "                           cv=3,\n",
    "                           scoring='f1').mean()                      \n",
    "print(f'f1_score {f1_score_lg}')\n",
    "print()"
   ]
  },
  {
   "cell_type": "markdown",
   "metadata": {},
   "source": [
    " LogisticRegression, f1_score = 0.755 с кросвалидацией"
   ]
  },
  {
   "cell_type": "code",
   "execution_count": 20,
   "metadata": {},
   "outputs": [
    {
     "name": "stdout",
     "output_type": "stream",
     "text": [
      "CPU times: user 2.88 ms, sys: 0 ns, total: 2.88 ms\n",
      "Wall time: 1.94 ms\n"
     ]
    }
   ],
   "source": [
    "%%time\n",
    "\n",
    "from sklearn.model_selection import GridSearchCV\n",
    "from sklearn.pipeline import Pipeline\n",
    "from sklearn.feature_extraction.text import CountVectorizer\n",
    "from sklearn.linear_model import SGDClassifier\n",
    "\n",
    "clf = Pipeline([\n",
    "    ('vect', CountVectorizer()),\n",
    "    ('clf', SGDClassifier(class_weight=\"balanced\"))\n",
    "])\n",
    "\n",
    "parameters = {\n",
    "    'vect__ngram_range': [(1, 1), (1, 3)],\n",
    "    'clf__loss': ['modified_huber', 'hinge'],\n",
    "}\n",
    "\n",
    "grid_search = GridSearchCV(estimator=clf, param_grid=parameters,\n",
    "                           scoring='f1', n_jobs=-1, verbose=1)\n",
    "\n"
   ]
  },
  {
   "cell_type": "markdown",
   "metadata": {},
   "source": [
    "features_train = features_train.lower()"
   ]
  },
  {
   "cell_type": "markdown",
   "metadata": {},
   "source": [
    "<div class=\"alert alert-info\">\n",
    "<b>Комментарий студента</b>\n",
    "не помогло\n",
    "</div>"
   ]
  },
  {
   "cell_type": "code",
   "execution_count": 21,
   "metadata": {},
   "outputs": [
    {
     "name": "stdout",
     "output_type": "stream",
     "text": [
      "Fitting 5 folds for each of 4 candidates, totalling 20 fits\n",
      "CPU times: user 5min 12s, sys: 12.4 s, total: 5min 24s\n",
      "Wall time: 5min 25s\n"
     ]
    },
    {
     "data": {
      "text/plain": [
       "GridSearchCV(estimator=Pipeline(steps=[('vect', CountVectorizer()),\n",
       "                                       ('clf',\n",
       "                                        SGDClassifier(class_weight='balanced'))]),\n",
       "             n_jobs=-1,\n",
       "             param_grid={'clf__loss': ['modified_huber', 'hinge'],\n",
       "                         'vect__ngram_range': [(1, 1), (1, 3)]},\n",
       "             scoring='f1', verbose=1)"
      ]
     },
     "execution_count": 21,
     "metadata": {},
     "output_type": "execute_result"
    }
   ],
   "source": [
    "%%time\n",
    "\n",
    "grid_search.fit(features_train_no_tfidf, target_train)\n",
    "\n"
   ]
  },
  {
   "cell_type": "code",
   "execution_count": 22,
   "metadata": {},
   "outputs": [
    {
     "data": {
      "text/plain": [
       "scipy.sparse._csr.csr_matrix"
      ]
     },
     "execution_count": 22,
     "metadata": {},
     "output_type": "execute_result"
    }
   ],
   "source": [
    "type(features_train)"
   ]
  },
  {
   "cell_type": "code",
   "execution_count": 23,
   "metadata": {},
   "outputs": [
    {
     "name": "stdout",
     "output_type": "stream",
     "text": [
      "CPU times: user 3.99 s, sys: 171 ms, total: 4.16 s\n",
      "Wall time: 4.17 s\n"
     ]
    },
    {
     "data": {
      "text/plain": [
       "Pipeline(steps=[('vect', CountVectorizer()),\n",
       "                ('clf',\n",
       "                 SGDClassifier(class_weight='balanced',\n",
       "                               loss='modified_huber'))])"
      ]
     },
     "execution_count": 23,
     "metadata": {},
     "output_type": "execute_result"
    }
   ],
   "source": [
    "%%time\n",
    "\n",
    "grid_search.best_estimator_.fit(features_train_no_tfidf, target_train)\n",
    "\n"
   ]
  },
  {
   "cell_type": "code",
   "execution_count": 28,
   "metadata": {},
   "outputs": [
    {
     "name": "stdout",
     "output_type": "stream",
     "text": [
      "CPU times: user 2.78 s, sys: 12.4 ms, total: 2.8 s\n",
      "Wall time: 2.8 s\n"
     ]
    }
   ],
   "source": [
    "%%time\n",
    "\n",
    "predict_SGDC = grid_search.best_estimator_.predict(features_valid_no_tfidf)"
   ]
  },
  {
   "cell_type": "code",
   "execution_count": 29,
   "metadata": {},
   "outputs": [
    {
     "name": "stdout",
     "output_type": "stream",
     "text": [
      "f1_score 0.7346013351807533\n",
      "\n",
      "{'clf__loss': 'modified_huber', 'vect__ngram_range': (1, 1)}\n",
      "\n",
      "CPU times: user 19 ms, sys: 103 µs, total: 19.1 ms\n",
      "Wall time: 17.4 ms\n"
     ]
    }
   ],
   "source": [
    "%%time\n",
    "\n",
    "print(f'f1_score {f1_score(predict_SGDC,target_valid)}')\n",
    "print()\n"
   ]
  },
  {
   "cell_type": "markdown",
   "metadata": {},
   "source": [
    "GDClassifier с GridSearchCV показал f1=0.73 "
   ]
  },
  {
   "cell_type": "markdown",
   "metadata": {},
   "source": [
    "итого лучшая модель LogisticRegression, f1_score = 0.75"
   ]
  },
  {
   "cell_type": "code",
   "execution_count": 32,
   "metadata": {},
   "outputs": [
    {
     "name": "stdout",
     "output_type": "stream",
     "text": [
      "f1_score 0.7608505680163123\n",
      "\n",
      "CPU times: user 1.45 s, sys: 20.1 ms, total: 1.47 s\n",
      "Wall time: 1.47 s\n"
     ]
    }
   ],
   "source": [
    "%%time\n",
    "#смотрю модель LogisticRegression\n",
    "\n",
    "model = LogisticRegression(class_weight='balanced', random_state=12345, C = 4, penalty = 'l1', solver='liblinear', max_iter=200)\n",
    "model.fit(features_train, target_train)\n",
    "predict_lg = model.predict(features_test)\n",
    "print(f'f1_score {f1_score(target_test, predict_lg)}')\n",
    "print()"
   ]
  },
  {
   "cell_type": "markdown",
   "metadata": {},
   "source": [
    "лучшая модель по f1 = 0.76  - LogisticRegression на тестовых данных"
   ]
  },
  {
   "cell_type": "markdown",
   "metadata": {},
   "source": [
    "## Выводы"
   ]
  },
  {
   "cell_type": "markdown",
   "metadata": {},
   "source": [
    "вывод:\n",
    "    1. загружен датасет, проведена предобработка\n",
    "    2. выбраны модели классификации, для них подготовил выборки, обучил модели, посчитал нужную метрику качества f1 не меньше 0.75. \n",
    "    3. лучшей моделью с f1 = 0.94 оказалась SGDClassifier с подбором параметров через GridSearchCV на тестовых данных"
   ]
  }
 ],
 "metadata": {
  "ExecuteTimeLog": [
   {
    "duration": 2805,
    "start_time": "2023-05-18T13:35:28.343Z"
   },
   {
    "duration": 4421,
    "start_time": "2023-05-18T13:36:53.247Z"
   },
   {
    "duration": 15,
    "start_time": "2023-05-18T13:40:04.611Z"
   },
   {
    "duration": 3,
    "start_time": "2023-05-18T13:40:43.947Z"
   },
   {
    "duration": 781,
    "start_time": "2023-05-18T13:40:46.739Z"
   },
   {
    "duration": 2211,
    "start_time": "2023-05-18T13:40:48.559Z"
   },
   {
    "duration": 917,
    "start_time": "2023-05-18T13:40:51.901Z"
   },
   {
    "duration": 4,
    "start_time": "2023-05-18T13:42:20.407Z"
   },
   {
    "duration": 811,
    "start_time": "2023-05-18T13:42:22.607Z"
   },
   {
    "duration": 3011,
    "start_time": "2023-05-18T13:44:52.656Z"
   },
   {
    "duration": 4407,
    "start_time": "2023-05-18T13:44:55.669Z"
   },
   {
    "duration": 1992,
    "start_time": "2023-05-18T13:45:00.475Z"
   },
   {
    "duration": 1986,
    "start_time": "2023-05-19T01:16:40.338Z"
   },
   {
    "duration": 2496,
    "start_time": "2023-05-19T01:16:44.068Z"
   },
   {
    "duration": 1973,
    "start_time": "2023-05-19T01:16:58.054Z"
   },
   {
    "duration": 4,
    "start_time": "2023-05-19T01:17:08.205Z"
   },
   {
    "duration": 4,
    "start_time": "2023-05-19T01:17:10.632Z"
   },
   {
    "duration": 890,
    "start_time": "2023-05-19T01:17:12.802Z"
   },
   {
    "duration": 3,
    "start_time": "2023-05-19T01:25:48.765Z"
   },
   {
    "duration": 147,
    "start_time": "2023-05-19T01:25:51.939Z"
   },
   {
    "duration": 4,
    "start_time": "2023-05-19T01:28:22.777Z"
   },
   {
    "duration": 929,
    "start_time": "2023-05-19T01:32:06.014Z"
   },
   {
    "duration": 18,
    "start_time": "2023-05-19T01:32:43.972Z"
   },
   {
    "duration": 5,
    "start_time": "2023-05-19T01:32:55.928Z"
   },
   {
    "duration": 3,
    "start_time": "2023-05-19T01:38:40.142Z"
   },
   {
    "duration": 57,
    "start_time": "2023-05-19T01:38:42.662Z"
   },
   {
    "duration": 2299,
    "start_time": "2023-05-19T02:03:37.595Z"
   },
   {
    "duration": 2202,
    "start_time": "2023-05-19T02:03:40.007Z"
   },
   {
    "duration": 4,
    "start_time": "2023-05-19T02:03:44.317Z"
   },
   {
    "duration": 133,
    "start_time": "2023-05-19T02:05:05.560Z"
   },
   {
    "duration": 3,
    "start_time": "2023-05-19T02:05:36.840Z"
   },
   {
    "duration": 4,
    "start_time": "2023-05-19T02:05:47.494Z"
   },
   {
    "duration": 15,
    "start_time": "2023-05-19T02:05:49.516Z"
   },
   {
    "duration": 51,
    "start_time": "2023-05-19T02:06:06.711Z"
   },
   {
    "duration": 12,
    "start_time": "2023-05-19T02:07:35.956Z"
   },
   {
    "duration": 7556,
    "start_time": "2023-05-19T02:09:40.466Z"
   },
   {
    "duration": 10,
    "start_time": "2023-05-19T02:09:53.938Z"
   },
   {
    "duration": 3,
    "start_time": "2023-05-19T02:11:34.029Z"
   },
   {
    "duration": 4,
    "start_time": "2023-05-19T02:12:18.421Z"
   },
   {
    "duration": 203,
    "start_time": "2023-05-19T02:12:22.632Z"
   },
   {
    "duration": 5,
    "start_time": "2023-05-19T02:12:25.634Z"
   },
   {
    "duration": 3,
    "start_time": "2023-05-19T02:23:46.385Z"
   },
   {
    "duration": 247,
    "start_time": "2023-05-19T02:23:51.830Z"
   },
   {
    "duration": 259,
    "start_time": "2023-05-19T02:24:53.470Z"
   },
   {
    "duration": 3,
    "start_time": "2023-05-19T02:25:23.462Z"
   },
   {
    "duration": 192,
    "start_time": "2023-05-19T02:25:27.748Z"
   },
   {
    "duration": 5,
    "start_time": "2023-05-19T02:25:30.989Z"
   },
   {
    "duration": 4,
    "start_time": "2023-05-19T02:26:00.715Z"
   },
   {
    "duration": 6,
    "start_time": "2023-05-19T02:26:57.036Z"
   },
   {
    "duration": 758,
    "start_time": "2023-05-19T02:27:01.233Z"
   },
   {
    "duration": 3,
    "start_time": "2023-05-19T02:27:11.590Z"
   },
   {
    "duration": 894,
    "start_time": "2023-05-19T02:27:15.110Z"
   },
   {
    "duration": 4,
    "start_time": "2023-05-19T02:27:19.644Z"
   },
   {
    "duration": 5,
    "start_time": "2023-05-19T02:27:51.246Z"
   },
   {
    "duration": 3,
    "start_time": "2023-05-19T02:28:25.494Z"
   },
   {
    "duration": 1492,
    "start_time": "2023-05-19T02:28:28.277Z"
   },
   {
    "duration": 6,
    "start_time": "2023-05-19T02:28:30.793Z"
   },
   {
    "duration": 3,
    "start_time": "2023-05-19T02:33:57.820Z"
   },
   {
    "duration": 369,
    "start_time": "2023-05-19T02:34:00.103Z"
   },
   {
    "duration": 3,
    "start_time": "2023-05-19T02:34:12.243Z"
   },
   {
    "duration": 332,
    "start_time": "2023-05-19T02:34:14.631Z"
   },
   {
    "duration": 3,
    "start_time": "2023-05-19T02:34:40.071Z"
   },
   {
    "duration": 506,
    "start_time": "2023-05-19T02:34:42.608Z"
   },
   {
    "duration": 3,
    "start_time": "2023-05-19T02:35:02.573Z"
   },
   {
    "duration": 2963,
    "start_time": "2023-05-19T02:35:04.635Z"
   },
   {
    "duration": 5,
    "start_time": "2023-05-19T02:35:11.075Z"
   },
   {
    "duration": 4,
    "start_time": "2023-05-19T02:36:30.178Z"
   },
   {
    "duration": 2424,
    "start_time": "2023-05-19T02:36:32.406Z"
   },
   {
    "duration": 5,
    "start_time": "2023-05-19T02:36:34.832Z"
   },
   {
    "duration": 1847,
    "start_time": "2023-05-19T02:38:33.525Z"
   },
   {
    "duration": 3,
    "start_time": "2023-05-19T02:38:50.274Z"
   },
   {
    "duration": 43,
    "start_time": "2023-05-19T02:39:05.498Z"
   },
   {
    "duration": 2,
    "start_time": "2023-05-19T02:39:20.022Z"
   },
   {
    "duration": 4,
    "start_time": "2023-05-19T02:41:43.199Z"
   },
   {
    "duration": 862,
    "start_time": "2023-05-19T02:48:02.293Z"
   },
   {
    "duration": 807,
    "start_time": "2023-05-19T02:48:21.635Z"
   },
   {
    "duration": 7,
    "start_time": "2023-05-19T02:48:54.798Z"
   },
   {
    "duration": 15,
    "start_time": "2023-05-19T02:59:50.077Z"
   },
   {
    "duration": 276,
    "start_time": "2023-05-19T03:00:32.573Z"
   },
   {
    "duration": 149,
    "start_time": "2023-05-19T03:00:37.724Z"
   },
   {
    "duration": 4,
    "start_time": "2023-05-19T03:04:30.477Z"
   },
   {
    "duration": 2327,
    "start_time": "2023-05-19T03:05:48.117Z"
   },
   {
    "duration": 2243,
    "start_time": "2023-05-19T03:05:50.446Z"
   },
   {
    "duration": 10,
    "start_time": "2023-05-19T03:05:52.690Z"
   },
   {
    "duration": 17,
    "start_time": "2023-05-19T03:05:52.702Z"
   },
   {
    "duration": 3155,
    "start_time": "2023-05-19T03:05:52.721Z"
   },
   {
    "duration": 4,
    "start_time": "2023-05-19T03:05:55.878Z"
   },
   {
    "duration": 1937,
    "start_time": "2023-05-19T03:05:55.884Z"
   },
   {
    "duration": 5,
    "start_time": "2023-05-19T03:05:57.823Z"
   },
   {
    "duration": 799,
    "start_time": "2023-05-19T03:05:57.830Z"
   },
   {
    "duration": 4,
    "start_time": "2023-05-19T03:05:58.632Z"
   },
   {
    "duration": 213,
    "start_time": "2023-05-19T03:05:58.638Z"
   },
   {
    "duration": 2171,
    "start_time": "2023-05-19T03:06:55.145Z"
   },
   {
    "duration": 2185,
    "start_time": "2023-05-19T03:06:57.318Z"
   },
   {
    "duration": 11,
    "start_time": "2023-05-19T03:06:59.505Z"
   },
   {
    "duration": 12,
    "start_time": "2023-05-19T03:06:59.518Z"
   },
   {
    "duration": 3115,
    "start_time": "2023-05-19T03:06:59.532Z"
   },
   {
    "duration": 6,
    "start_time": "2023-05-19T03:07:02.649Z"
   },
   {
    "duration": 1926,
    "start_time": "2023-05-19T03:07:02.656Z"
   },
   {
    "duration": 12,
    "start_time": "2023-05-19T03:07:04.583Z"
   },
   {
    "duration": 821,
    "start_time": "2023-05-19T03:07:04.597Z"
   },
   {
    "duration": 5,
    "start_time": "2023-05-19T03:07:05.421Z"
   },
   {
    "duration": 211,
    "start_time": "2023-05-19T03:07:05.428Z"
   },
   {
    "duration": 3,
    "start_time": "2023-05-19T03:07:05.641Z"
   },
   {
    "duration": 44,
    "start_time": "2023-05-19T03:21:27.606Z"
   },
   {
    "duration": 2437,
    "start_time": "2023-05-19T03:21:34.312Z"
   },
   {
    "duration": 2313,
    "start_time": "2023-05-19T03:21:36.751Z"
   },
   {
    "duration": 15,
    "start_time": "2023-05-19T03:21:40.347Z"
   },
   {
    "duration": 5,
    "start_time": "2023-05-19T03:21:55.950Z"
   },
   {
    "duration": 2363,
    "start_time": "2023-05-19T03:29:55.482Z"
   },
   {
    "duration": 837,
    "start_time": "2023-05-19T03:29:57.847Z"
   },
   {
    "duration": 17,
    "start_time": "2023-05-19T03:29:58.685Z"
   },
   {
    "duration": 15,
    "start_time": "2023-05-19T03:29:58.704Z"
   },
   {
    "duration": 3363,
    "start_time": "2023-05-19T03:29:58.721Z"
   },
   {
    "duration": 20,
    "start_time": "2023-05-19T03:30:02.085Z"
   },
   {
    "duration": 2048,
    "start_time": "2023-05-19T03:30:02.110Z"
   },
   {
    "duration": 2,
    "start_time": "2023-05-19T03:30:04.160Z"
   },
   {
    "duration": 857,
    "start_time": "2023-05-19T03:30:04.164Z"
   },
   {
    "duration": 5,
    "start_time": "2023-05-19T03:30:05.024Z"
   },
   {
    "duration": 18,
    "start_time": "2023-05-19T03:30:05.031Z"
   },
   {
    "duration": 171,
    "start_time": "2023-05-19T03:30:05.051Z"
   },
   {
    "duration": 154,
    "start_time": "2023-05-19T03:30:05.223Z"
   },
   {
    "duration": 0,
    "start_time": "2023-05-19T03:30:05.380Z"
   },
   {
    "duration": 4,
    "start_time": "2023-05-19T03:31:16.961Z"
   },
   {
    "duration": 3,
    "start_time": "2023-05-19T03:31:31.770Z"
   },
   {
    "duration": 20,
    "start_time": "2023-05-19T03:31:45.682Z"
   },
   {
    "duration": 2499,
    "start_time": "2023-05-19T03:32:15.307Z"
   },
   {
    "duration": 848,
    "start_time": "2023-05-19T03:32:17.808Z"
   },
   {
    "duration": 10,
    "start_time": "2023-05-19T03:32:18.658Z"
   },
   {
    "duration": 55,
    "start_time": "2023-05-19T03:32:18.670Z"
   },
   {
    "duration": 3451,
    "start_time": "2023-05-19T03:32:18.727Z"
   },
   {
    "duration": 6,
    "start_time": "2023-05-19T03:32:22.180Z"
   },
   {
    "duration": 1972,
    "start_time": "2023-05-19T03:32:22.195Z"
   },
   {
    "duration": 32,
    "start_time": "2023-05-19T03:32:24.169Z"
   },
   {
    "duration": 868,
    "start_time": "2023-05-19T03:32:24.203Z"
   },
   {
    "duration": 4,
    "start_time": "2023-05-19T03:32:25.074Z"
   },
   {
    "duration": 19,
    "start_time": "2023-05-19T03:32:25.080Z"
   },
   {
    "duration": 214,
    "start_time": "2023-05-19T03:32:25.103Z"
   },
   {
    "duration": 2,
    "start_time": "2023-05-19T03:32:25.319Z"
   },
   {
    "duration": 165,
    "start_time": "2023-05-19T03:32:25.323Z"
   },
   {
    "duration": 2,
    "start_time": "2023-05-19T03:33:36.279Z"
   },
   {
    "duration": 9802,
    "start_time": "2023-05-19T03:33:47.559Z"
   },
   {
    "duration": 3,
    "start_time": "2023-05-19T03:37:48.890Z"
   },
   {
    "duration": 14,
    "start_time": "2023-05-19T03:44:21.817Z"
   },
   {
    "duration": 27,
    "start_time": "2023-05-19T03:46:30.436Z"
   },
   {
    "duration": 9,
    "start_time": "2023-05-19T03:46:32.226Z"
   },
   {
    "duration": 10,
    "start_time": "2023-05-19T03:47:20.070Z"
   },
   {
    "duration": 2404,
    "start_time": "2023-05-19T08:06:15.900Z"
   },
   {
    "duration": 2962,
    "start_time": "2023-05-19T08:06:18.306Z"
   },
   {
    "duration": 15,
    "start_time": "2023-05-19T08:06:21.269Z"
   },
   {
    "duration": 9,
    "start_time": "2023-05-19T08:06:21.286Z"
   },
   {
    "duration": 10,
    "start_time": "2023-05-19T08:06:21.296Z"
   },
   {
    "duration": 4,
    "start_time": "2023-05-19T08:06:21.307Z"
   },
   {
    "duration": 3133,
    "start_time": "2023-05-19T08:06:21.312Z"
   },
   {
    "duration": 6,
    "start_time": "2023-05-19T08:06:24.447Z"
   },
   {
    "duration": 1921,
    "start_time": "2023-05-19T08:06:24.454Z"
   },
   {
    "duration": 6,
    "start_time": "2023-05-19T08:06:26.378Z"
   },
   {
    "duration": 765,
    "start_time": "2023-05-19T08:06:26.386Z"
   },
   {
    "duration": 4,
    "start_time": "2023-05-19T08:06:27.153Z"
   },
   {
    "duration": 17,
    "start_time": "2023-05-19T08:06:27.158Z"
   },
   {
    "duration": 221,
    "start_time": "2023-05-19T08:06:27.177Z"
   },
   {
    "duration": 9381,
    "start_time": "2023-05-19T08:06:27.399Z"
   },
   {
    "duration": 4,
    "start_time": "2023-05-19T08:06:36.781Z"
   },
   {
    "duration": 6,
    "start_time": "2023-05-19T08:06:36.786Z"
   },
   {
    "duration": 164,
    "start_time": "2023-05-19T08:40:54.874Z"
   },
   {
    "duration": 3,
    "start_time": "2023-05-19T08:47:07.810Z"
   },
   {
    "duration": 803,
    "start_time": "2023-05-19T08:47:09.725Z"
   },
   {
    "duration": 4,
    "start_time": "2023-05-19T08:47:15.318Z"
   },
   {
    "duration": 3633,
    "start_time": "2023-05-19T08:47:17.282Z"
   },
   {
    "duration": 8,
    "start_time": "2023-05-19T08:47:24.917Z"
   },
   {
    "duration": 2861,
    "start_time": "2023-05-19T08:55:28.343Z"
   },
   {
    "duration": 3262,
    "start_time": "2023-05-19T08:55:31.207Z"
   },
   {
    "duration": 23,
    "start_time": "2023-05-19T08:55:34.470Z"
   },
   {
    "duration": 16,
    "start_time": "2023-05-19T08:55:34.495Z"
   },
   {
    "duration": 17,
    "start_time": "2023-05-19T08:55:34.513Z"
   },
   {
    "duration": 4,
    "start_time": "2023-05-19T08:55:34.532Z"
   },
   {
    "duration": 3658,
    "start_time": "2023-05-19T08:55:34.538Z"
   },
   {
    "duration": 5,
    "start_time": "2023-05-19T08:55:38.198Z"
   },
   {
    "duration": 1993,
    "start_time": "2023-05-19T08:55:38.205Z"
   },
   {
    "duration": 6,
    "start_time": "2023-05-19T08:55:40.200Z"
   },
   {
    "duration": 799,
    "start_time": "2023-05-19T08:55:40.208Z"
   },
   {
    "duration": 4,
    "start_time": "2023-05-19T08:55:41.009Z"
   },
   {
    "duration": 6,
    "start_time": "2023-05-19T08:55:41.015Z"
   },
   {
    "duration": 174,
    "start_time": "2023-05-19T08:55:41.023Z"
   },
   {
    "duration": 3,
    "start_time": "2023-05-19T08:55:41.199Z"
   },
   {
    "duration": 40,
    "start_time": "2023-05-19T08:55:41.203Z"
   },
   {
    "duration": 170,
    "start_time": "2023-05-19T08:55:41.244Z"
   },
   {
    "duration": 0,
    "start_time": "2023-05-19T08:55:41.415Z"
   },
   {
    "duration": 0,
    "start_time": "2023-05-19T08:55:41.416Z"
   },
   {
    "duration": 0,
    "start_time": "2023-05-19T08:55:41.417Z"
   },
   {
    "duration": 23,
    "start_time": "2023-05-19T08:56:00.068Z"
   },
   {
    "duration": 913,
    "start_time": "2023-05-19T09:17:42.768Z"
   },
   {
    "duration": 3,
    "start_time": "2023-05-19T09:17:50.229Z"
   },
   {
    "duration": 3606,
    "start_time": "2023-05-19T09:17:55.252Z"
   },
   {
    "duration": 6,
    "start_time": "2023-05-19T09:18:10.532Z"
   },
   {
    "duration": 4,
    "start_time": "2023-05-19T09:18:26.281Z"
   },
   {
    "duration": 754,
    "start_time": "2023-05-19T09:18:28.355Z"
   },
   {
    "duration": 14,
    "start_time": "2023-05-19T09:18:33.149Z"
   },
   {
    "duration": 10,
    "start_time": "2023-05-19T09:18:57.773Z"
   },
   {
    "duration": 21,
    "start_time": "2023-05-19T09:19:02.562Z"
   },
   {
    "duration": 4,
    "start_time": "2023-05-19T09:19:11.028Z"
   },
   {
    "duration": 897,
    "start_time": "2023-05-19T09:19:13.880Z"
   },
   {
    "duration": 13,
    "start_time": "2023-05-19T09:19:16.173Z"
   },
   {
    "duration": 10,
    "start_time": "2023-05-19T09:19:19.717Z"
   },
   {
    "duration": 3,
    "start_time": "2023-05-19T09:19:25.041Z"
   },
   {
    "duration": 3447,
    "start_time": "2023-05-19T09:19:31.460Z"
   },
   {
    "duration": 6,
    "start_time": "2023-05-19T09:19:34.909Z"
   },
   {
    "duration": 11,
    "start_time": "2023-05-19T09:19:53.845Z"
   },
   {
    "duration": 41,
    "start_time": "2023-05-19T09:19:56.821Z"
   },
   {
    "duration": 22,
    "start_time": "2023-05-19T09:20:30.068Z"
   },
   {
    "duration": 2689,
    "start_time": "2023-05-19T09:20:46.019Z"
   },
   {
    "duration": 3542,
    "start_time": "2023-05-19T09:20:48.709Z"
   },
   {
    "duration": 16,
    "start_time": "2023-05-19T09:20:52.254Z"
   },
   {
    "duration": 14,
    "start_time": "2023-05-19T09:20:52.271Z"
   },
   {
    "duration": 33,
    "start_time": "2023-05-19T09:20:52.287Z"
   },
   {
    "duration": 4,
    "start_time": "2023-05-19T09:20:52.802Z"
   },
   {
    "duration": 3965,
    "start_time": "2023-05-19T09:20:56.926Z"
   },
   {
    "duration": 5,
    "start_time": "2023-05-19T09:21:00.893Z"
   },
   {
    "duration": 2836,
    "start_time": "2023-05-19T09:24:20.420Z"
   },
   {
    "duration": 3653,
    "start_time": "2023-05-19T09:24:23.258Z"
   },
   {
    "duration": 16,
    "start_time": "2023-05-19T09:24:26.913Z"
   },
   {
    "duration": 10,
    "start_time": "2023-05-19T09:24:26.930Z"
   },
   {
    "duration": 10,
    "start_time": "2023-05-19T09:24:26.941Z"
   },
   {
    "duration": 9,
    "start_time": "2023-05-19T09:24:26.953Z"
   },
   {
    "duration": 3847,
    "start_time": "2023-05-19T09:24:28.768Z"
   },
   {
    "duration": 6,
    "start_time": "2023-05-19T09:24:32.617Z"
   },
   {
    "duration": 2815,
    "start_time": "2023-05-19T09:25:12.563Z"
   },
   {
    "duration": 3663,
    "start_time": "2023-05-19T09:25:15.382Z"
   },
   {
    "duration": 16,
    "start_time": "2023-05-19T09:25:19.047Z"
   },
   {
    "duration": 10,
    "start_time": "2023-05-19T09:25:21.037Z"
   },
   {
    "duration": 10,
    "start_time": "2023-05-19T09:25:22.621Z"
   },
   {
    "duration": 3,
    "start_time": "2023-05-19T09:25:24.329Z"
   },
   {
    "duration": 3856,
    "start_time": "2023-05-19T09:25:29.159Z"
   },
   {
    "duration": 6,
    "start_time": "2023-05-19T09:25:33.017Z"
   },
   {
    "duration": 3,
    "start_time": "2023-05-19T09:25:54.953Z"
   },
   {
    "duration": 184,
    "start_time": "2023-05-19T09:26:29.888Z"
   },
   {
    "duration": 2913,
    "start_time": "2023-05-19T09:28:43.736Z"
   },
   {
    "duration": 3895,
    "start_time": "2023-05-19T09:28:46.651Z"
   },
   {
    "duration": 18,
    "start_time": "2023-05-19T09:28:50.548Z"
   },
   {
    "duration": 23,
    "start_time": "2023-05-19T09:28:50.568Z"
   },
   {
    "duration": 18,
    "start_time": "2023-05-19T09:28:50.592Z"
   },
   {
    "duration": 4,
    "start_time": "2023-05-19T09:28:51.903Z"
   },
   {
    "duration": 4114,
    "start_time": "2023-05-19T09:28:55.722Z"
   },
   {
    "duration": 5,
    "start_time": "2023-05-19T09:28:59.838Z"
   },
   {
    "duration": 2087,
    "start_time": "2023-05-19T09:29:13.030Z"
   },
   {
    "duration": 4,
    "start_time": "2023-05-19T09:29:46.160Z"
   },
   {
    "duration": 2949,
    "start_time": "2023-05-19T09:31:53.804Z"
   },
   {
    "duration": 3500,
    "start_time": "2023-05-19T09:31:56.755Z"
   },
   {
    "duration": 29,
    "start_time": "2023-05-19T09:32:00.257Z"
   },
   {
    "duration": 14,
    "start_time": "2023-05-19T09:32:00.292Z"
   },
   {
    "duration": 33,
    "start_time": "2023-05-19T09:32:00.309Z"
   },
   {
    "duration": 20,
    "start_time": "2023-05-19T09:32:00.344Z"
   },
   {
    "duration": 3778,
    "start_time": "2023-05-19T09:32:05.802Z"
   },
   {
    "duration": 6,
    "start_time": "2023-05-19T09:32:09.583Z"
   },
   {
    "duration": 4,
    "start_time": "2023-05-19T09:32:32.961Z"
   },
   {
    "duration": 2632,
    "start_time": "2023-05-19T09:34:14.032Z"
   },
   {
    "duration": 841,
    "start_time": "2023-05-19T09:34:16.666Z"
   },
   {
    "duration": 17,
    "start_time": "2023-05-19T09:34:17.509Z"
   },
   {
    "duration": 10,
    "start_time": "2023-05-19T09:34:17.529Z"
   },
   {
    "duration": 10,
    "start_time": "2023-05-19T09:34:17.541Z"
   },
   {
    "duration": 26,
    "start_time": "2023-05-19T09:34:17.553Z"
   },
   {
    "duration": 3588,
    "start_time": "2023-05-19T09:34:17.584Z"
   },
   {
    "duration": 14,
    "start_time": "2023-05-19T09:34:21.176Z"
   },
   {
    "duration": 3,
    "start_time": "2023-05-19T09:34:21.194Z"
   },
   {
    "duration": 4,
    "start_time": "2023-05-19T09:34:21.199Z"
   },
   {
    "duration": 2530,
    "start_time": "2023-05-19T09:36:23.588Z"
   },
   {
    "duration": 845,
    "start_time": "2023-05-19T09:36:26.121Z"
   },
   {
    "duration": 21,
    "start_time": "2023-05-19T09:36:26.968Z"
   },
   {
    "duration": 15,
    "start_time": "2023-05-19T09:36:26.991Z"
   },
   {
    "duration": 10,
    "start_time": "2023-05-19T09:36:27.008Z"
   },
   {
    "duration": 7,
    "start_time": "2023-05-19T09:36:27.020Z"
   },
   {
    "duration": 3604,
    "start_time": "2023-05-19T09:36:27.028Z"
   },
   {
    "duration": 5,
    "start_time": "2023-05-19T09:36:30.634Z"
   },
   {
    "duration": 49,
    "start_time": "2023-05-19T09:36:30.641Z"
   },
   {
    "duration": 34,
    "start_time": "2023-05-19T09:36:30.693Z"
   },
   {
    "duration": 2635,
    "start_time": "2023-05-19T10:23:17.188Z"
   },
   {
    "duration": 941,
    "start_time": "2023-05-19T10:23:24.952Z"
   },
   {
    "duration": 29,
    "start_time": "2023-05-19T10:23:29.392Z"
   },
   {
    "duration": 15,
    "start_time": "2023-05-19T10:23:35.006Z"
   },
   {
    "duration": 12,
    "start_time": "2023-05-19T10:23:38.156Z"
   },
   {
    "duration": 4,
    "start_time": "2023-05-19T10:23:42.720Z"
   },
   {
    "duration": 3971,
    "start_time": "2023-05-19T10:23:47.453Z"
   },
   {
    "duration": 3,
    "start_time": "2023-05-19T10:23:59.543Z"
   },
   {
    "duration": 2613,
    "start_time": "2023-05-19T10:30:05.293Z"
   },
   {
    "duration": 873,
    "start_time": "2023-05-19T10:30:12.414Z"
   },
   {
    "duration": 311,
    "start_time": "2023-05-19T10:30:58.310Z"
   },
   {
    "duration": 120692,
    "start_time": "2023-05-19T10:31:24.345Z"
   },
   {
    "duration": 15,
    "start_time": "2023-05-19T10:34:22.632Z"
   },
   {
    "duration": 6,
    "start_time": "2023-05-19T10:34:27.465Z"
   },
   {
    "duration": 165,
    "start_time": "2023-05-19T10:34:58.254Z"
   },
   {
    "duration": 3,
    "start_time": "2023-05-19T10:35:04.393Z"
   },
   {
    "duration": 26,
    "start_time": "2023-05-19T10:35:10.667Z"
   },
   {
    "duration": 18,
    "start_time": "2023-05-19T10:35:12.786Z"
   },
   {
    "duration": 4,
    "start_time": "2023-05-19T10:39:33.257Z"
   },
   {
    "duration": 5,
    "start_time": "2023-05-19T10:39:46.628Z"
   },
   {
    "duration": 15,
    "start_time": "2023-05-19T10:40:18.815Z"
   },
   {
    "duration": 8,
    "start_time": "2023-05-19T10:42:34.195Z"
   },
   {
    "duration": 12257,
    "start_time": "2023-05-19T10:42:40.552Z"
   },
   {
    "duration": 3,
    "start_time": "2023-05-19T10:43:37.844Z"
   },
   {
    "duration": 52054,
    "start_time": "2023-05-19T10:46:12.948Z"
   },
   {
    "duration": 52201,
    "start_time": "2023-05-19T10:50:03.583Z"
   },
   {
    "duration": 3198,
    "start_time": "2023-05-19T11:01:09.825Z"
   },
   {
    "duration": 1010,
    "start_time": "2023-05-19T11:01:15.871Z"
   },
   {
    "duration": 13,
    "start_time": "2023-05-19T11:01:19.823Z"
   },
   {
    "duration": 3,
    "start_time": "2023-05-19T11:01:26.852Z"
   },
   {
    "duration": 4605,
    "start_time": "2023-05-19T11:01:30.014Z"
   },
   {
    "duration": 4,
    "start_time": "2023-05-19T11:01:50.128Z"
   },
   {
    "duration": 83210,
    "start_time": "2023-05-19T11:02:04.926Z"
   },
   {
    "duration": 11,
    "start_time": "2023-05-19T11:09:20.320Z"
   },
   {
    "duration": 37,
    "start_time": "2023-05-19T11:09:39.394Z"
   },
   {
    "duration": 84701,
    "start_time": "2023-05-19T11:09:45.111Z"
   },
   {
    "duration": 13,
    "start_time": "2023-05-19T11:12:23.894Z"
   },
   {
    "duration": 5,
    "start_time": "2023-05-19T11:12:29.053Z"
   },
   {
    "duration": 2,
    "start_time": "2023-05-19T11:12:40.361Z"
   },
   {
    "duration": 16,
    "start_time": "2023-05-19T11:12:42.648Z"
   },
   {
    "duration": 41,
    "start_time": "2023-05-19T11:12:43.473Z"
   },
   {
    "duration": 9,
    "start_time": "2023-05-19T11:12:49.006Z"
   },
   {
    "duration": 243,
    "start_time": "2023-05-19T11:13:22.771Z"
   },
   {
    "duration": 18493,
    "start_time": "2023-05-19T11:13:27.044Z"
   },
   {
    "duration": 4,
    "start_time": "2023-05-19T11:13:45.539Z"
   },
   {
    "duration": 45205,
    "start_time": "2023-05-19T11:14:12.526Z"
   },
   {
    "duration": 4,
    "start_time": "2023-05-19T11:17:17.955Z"
   },
   {
    "duration": 46363,
    "start_time": "2023-05-19T11:18:07.938Z"
   },
   {
    "duration": 45129,
    "start_time": "2023-05-19T11:19:08.403Z"
   },
   {
    "duration": 18,
    "start_time": "2023-05-19T11:21:26.498Z"
   },
   {
    "duration": 14,
    "start_time": "2023-05-19T11:24:39.053Z"
   },
   {
    "duration": 506,
    "start_time": "2023-05-19T11:33:38.654Z"
   },
   {
    "duration": 215,
    "start_time": "2023-05-19T11:33:51.531Z"
   },
   {
    "duration": 14,
    "start_time": "2023-05-19T11:35:47.830Z"
   },
   {
    "duration": 4,
    "start_time": "2023-05-19T11:35:55.190Z"
   },
   {
    "duration": 42225,
    "start_time": "2023-05-19T11:46:28.789Z"
   },
   {
    "duration": 67056,
    "start_time": "2023-05-19T11:55:22.414Z"
   },
   {
    "duration": 71924,
    "start_time": "2023-05-19T11:58:03.475Z"
   },
   {
    "duration": 3,
    "start_time": "2023-05-19T11:59:19.926Z"
   },
   {
    "duration": 31,
    "start_time": "2023-05-19T12:05:46.674Z"
   },
   {
    "duration": 107,
    "start_time": "2023-05-19T12:06:09.199Z"
   },
   {
    "duration": 4,
    "start_time": "2023-05-19T12:07:30.989Z"
   },
   {
    "duration": 2586,
    "start_time": "2023-05-19T12:17:12.422Z"
   },
   {
    "duration": 863,
    "start_time": "2023-05-19T12:17:15.010Z"
   },
   {
    "duration": 24,
    "start_time": "2023-05-19T12:17:15.877Z"
   },
   {
    "duration": 19,
    "start_time": "2023-05-19T12:17:15.903Z"
   },
   {
    "duration": 17,
    "start_time": "2023-05-19T12:17:15.926Z"
   },
   {
    "duration": 4,
    "start_time": "2023-05-19T12:17:15.945Z"
   },
   {
    "duration": 3384,
    "start_time": "2023-05-19T12:17:15.950Z"
   },
   {
    "duration": 5,
    "start_time": "2023-05-19T12:17:19.336Z"
   },
   {
    "duration": 5,
    "start_time": "2023-05-19T12:17:19.342Z"
   },
   {
    "duration": 7,
    "start_time": "2023-05-19T12:17:19.348Z"
   },
   {
    "duration": 68785,
    "start_time": "2023-05-19T12:17:19.356Z"
   },
   {
    "duration": 6,
    "start_time": "2023-05-19T12:18:28.143Z"
   },
   {
    "duration": 7,
    "start_time": "2023-05-19T12:18:28.150Z"
   },
   {
    "duration": 3,
    "start_time": "2023-05-19T12:18:28.159Z"
   },
   {
    "duration": 32,
    "start_time": "2023-05-19T12:18:28.174Z"
   },
   {
    "duration": 14,
    "start_time": "2023-05-19T12:18:28.208Z"
   },
   {
    "duration": 4,
    "start_time": "2023-05-19T12:18:28.224Z"
   },
   {
    "duration": 185,
    "start_time": "2023-05-19T12:18:28.229Z"
   },
   {
    "duration": 12769,
    "start_time": "2023-05-19T12:18:28.416Z"
   },
   {
    "duration": 24310,
    "start_time": "2023-05-19T12:18:41.187Z"
   },
   {
    "duration": 65798,
    "start_time": "2023-05-19T12:19:05.499Z"
   },
   {
    "duration": 1002113,
    "start_time": "2023-05-19T12:20:11.299Z"
   },
   {
    "duration": 245,
    "start_time": "2023-05-19T13:04:34.322Z"
   },
   {
    "duration": 23,
    "start_time": "2023-05-19T13:05:27.510Z"
   },
   {
    "duration": 1128986,
    "start_time": "2023-05-19T13:05:35.572Z"
   },
   {
    "duration": 97,
    "start_time": "2023-05-20T09:35:46.038Z"
   },
   {
    "duration": 2638,
    "start_time": "2023-05-20T09:35:58.505Z"
   },
   {
    "duration": 2253,
    "start_time": "2023-05-20T09:36:01.145Z"
   },
   {
    "duration": 17,
    "start_time": "2023-05-20T09:36:03.402Z"
   },
   {
    "duration": 89,
    "start_time": "2023-05-20T09:36:03.421Z"
   },
   {
    "duration": 19,
    "start_time": "2023-05-20T09:36:03.512Z"
   },
   {
    "duration": 10,
    "start_time": "2023-05-20T09:36:03.534Z"
   },
   {
    "duration": 3198,
    "start_time": "2023-05-20T09:36:03.546Z"
   },
   {
    "duration": 5,
    "start_time": "2023-05-20T09:36:06.747Z"
   },
   {
    "duration": 14,
    "start_time": "2023-05-20T09:36:06.753Z"
   },
   {
    "duration": 10,
    "start_time": "2023-05-20T09:36:06.769Z"
   },
   {
    "duration": 59974,
    "start_time": "2023-05-20T09:36:06.780Z"
   },
   {
    "duration": 6,
    "start_time": "2023-05-20T09:37:06.755Z"
   },
   {
    "duration": 11,
    "start_time": "2023-05-20T09:37:06.762Z"
   },
   {
    "duration": 5,
    "start_time": "2023-05-20T09:37:06.775Z"
   },
   {
    "duration": 30,
    "start_time": "2023-05-20T09:37:06.782Z"
   },
   {
    "duration": 13,
    "start_time": "2023-05-20T09:37:06.813Z"
   },
   {
    "duration": 4,
    "start_time": "2023-05-20T09:37:06.828Z"
   },
   {
    "duration": 223,
    "start_time": "2023-05-20T09:37:06.834Z"
   },
   {
    "duration": 10238,
    "start_time": "2023-05-20T09:37:07.059Z"
   },
   {
    "duration": 21150,
    "start_time": "2023-05-20T09:37:17.298Z"
   },
   {
    "duration": 2080,
    "start_time": "2023-05-20T09:37:38.449Z"
   },
   {
    "duration": 1037,
    "start_time": "2023-05-20T09:42:28.590Z"
   },
   {
    "duration": 1211,
    "start_time": "2023-05-20T10:01:07.131Z"
   },
   {
    "duration": 2110,
    "start_time": "2023-05-20T10:01:15.382Z"
   },
   {
    "duration": 4139,
    "start_time": "2023-05-20T10:41:05.402Z"
   },
   {
    "duration": 3244,
    "start_time": "2023-05-20T10:41:09.543Z"
   },
   {
    "duration": 18,
    "start_time": "2023-05-20T10:41:12.789Z"
   },
   {
    "duration": 10,
    "start_time": "2023-05-20T10:41:12.808Z"
   },
   {
    "duration": 9,
    "start_time": "2023-05-20T10:41:12.820Z"
   },
   {
    "duration": 4,
    "start_time": "2023-05-20T10:41:12.831Z"
   },
   {
    "duration": 3033,
    "start_time": "2023-05-20T10:41:12.836Z"
   },
   {
    "duration": 6,
    "start_time": "2023-05-20T10:41:15.870Z"
   },
   {
    "duration": 15,
    "start_time": "2023-05-20T10:41:15.877Z"
   },
   {
    "duration": 8,
    "start_time": "2023-05-20T10:41:15.893Z"
   },
   {
    "duration": 61699,
    "start_time": "2023-05-20T10:41:15.902Z"
   },
   {
    "duration": 7,
    "start_time": "2023-05-20T10:42:17.603Z"
   },
   {
    "duration": 4,
    "start_time": "2023-05-20T10:42:17.613Z"
   },
   {
    "duration": 7,
    "start_time": "2023-05-20T10:42:17.620Z"
   },
   {
    "duration": 31,
    "start_time": "2023-05-20T10:42:17.628Z"
   },
   {
    "duration": 14,
    "start_time": "2023-05-20T10:42:17.660Z"
   },
   {
    "duration": 5,
    "start_time": "2023-05-20T10:43:35.621Z"
   },
   {
    "duration": 4,
    "start_time": "2023-05-20T10:43:39.064Z"
   },
   {
    "duration": 4,
    "start_time": "2023-05-20T10:43:48.068Z"
   },
   {
    "duration": 5,
    "start_time": "2023-05-20T10:43:53.344Z"
   },
   {
    "duration": 4,
    "start_time": "2023-05-20T10:44:03.233Z"
   },
   {
    "duration": 4,
    "start_time": "2023-05-20T10:44:05.881Z"
   },
   {
    "duration": 4,
    "start_time": "2023-05-20T10:44:10.260Z"
   },
   {
    "duration": 5,
    "start_time": "2023-05-20T10:44:14.848Z"
   },
   {
    "duration": 4549,
    "start_time": "2023-05-21T02:23:24.495Z"
   },
   {
    "duration": 3135,
    "start_time": "2023-05-21T02:23:29.046Z"
   },
   {
    "duration": 17,
    "start_time": "2023-05-21T02:23:32.182Z"
   },
   {
    "duration": 22,
    "start_time": "2023-05-21T02:23:32.200Z"
   },
   {
    "duration": 23,
    "start_time": "2023-05-21T02:23:32.223Z"
   },
   {
    "duration": 16,
    "start_time": "2023-05-21T02:23:32.248Z"
   },
   {
    "duration": 3171,
    "start_time": "2023-05-21T02:23:32.265Z"
   },
   {
    "duration": 5,
    "start_time": "2023-05-21T02:23:35.438Z"
   },
   {
    "duration": 10,
    "start_time": "2023-05-21T02:23:35.444Z"
   },
   {
    "duration": 8,
    "start_time": "2023-05-21T02:23:35.457Z"
   },
   {
    "duration": 61403,
    "start_time": "2023-05-21T02:23:35.466Z"
   },
   {
    "duration": 7,
    "start_time": "2023-05-21T02:24:36.871Z"
   },
   {
    "duration": 11,
    "start_time": "2023-05-21T02:24:36.879Z"
   },
   {
    "duration": 3,
    "start_time": "2023-05-21T02:24:36.892Z"
   },
   {
    "duration": 39,
    "start_time": "2023-05-21T02:24:36.897Z"
   },
   {
    "duration": 39,
    "start_time": "2023-05-21T02:24:36.937Z"
   },
   {
    "duration": 4,
    "start_time": "2023-05-21T02:24:36.977Z"
   },
   {
    "duration": 237,
    "start_time": "2023-05-21T02:24:36.983Z"
   },
   {
    "duration": 6488,
    "start_time": "2023-05-21T02:24:37.221Z"
   },
   {
    "duration": 8894,
    "start_time": "2023-05-21T02:24:43.711Z"
   },
   {
    "duration": 2970,
    "start_time": "2023-05-21T02:24:52.607Z"
   },
   {
    "duration": 10997,
    "start_time": "2023-05-21T02:34:18.235Z"
   },
   {
    "duration": 2441,
    "start_time": "2023-05-21T02:34:44.709Z"
   },
   {
    "duration": 748,
    "start_time": "2023-05-21T02:38:21.575Z"
   },
   {
    "duration": 26,
    "start_time": "2023-05-21T02:39:15.576Z"
   },
   {
    "duration": 463,
    "start_time": "2023-05-21T02:39:44.766Z"
   },
   {
    "duration": 20,
    "start_time": "2023-05-21T02:40:35.903Z"
   },
   {
    "duration": 21,
    "start_time": "2023-05-21T02:41:01.127Z"
   },
   {
    "duration": 622,
    "start_time": "2023-05-21T02:45:57.391Z"
   },
   {
    "duration": 19,
    "start_time": "2023-05-21T02:48:43.030Z"
   },
   {
    "duration": 34,
    "start_time": "2023-05-21T02:49:11.238Z"
   },
   {
    "duration": 2,
    "start_time": "2023-05-21T02:50:28.035Z"
   },
   {
    "duration": 18,
    "start_time": "2023-05-21T02:50:31.093Z"
   },
   {
    "duration": 3,
    "start_time": "2023-05-21T02:51:31.035Z"
   },
   {
    "duration": 3,
    "start_time": "2023-05-21T02:51:34.309Z"
   },
   {
    "duration": 150381,
    "start_time": "2023-05-21T02:54:44.225Z"
   },
   {
    "duration": 9,
    "start_time": "2023-05-21T02:57:51.961Z"
   },
   {
    "duration": 3,
    "start_time": "2023-05-21T02:58:58.744Z"
   },
   {
    "duration": 4,
    "start_time": "2023-05-21T02:59:10.998Z"
   },
   {
    "duration": 737,
    "start_time": "2023-05-21T02:59:13.619Z"
   },
   {
    "duration": 3,
    "start_time": "2023-05-21T02:59:46.040Z"
   },
   {
    "duration": 3,
    "start_time": "2023-05-21T02:59:55.890Z"
   },
   {
    "duration": 7,
    "start_time": "2023-05-21T03:00:11.633Z"
   },
   {
    "duration": 3421,
    "start_time": "2023-05-21T03:00:51.937Z"
   },
   {
    "duration": 5,
    "start_time": "2023-05-21T03:01:11.086Z"
   },
   {
    "duration": 3,
    "start_time": "2023-05-21T03:01:42.833Z"
   },
   {
    "duration": 146016,
    "start_time": "2023-05-21T03:01:54.368Z"
   },
   {
    "duration": 10,
    "start_time": "2023-05-21T03:06:17.756Z"
   },
   {
    "duration": 783,
    "start_time": "2023-05-21T03:08:37.691Z"
   },
   {
    "duration": 3,
    "start_time": "2023-05-21T03:08:47.376Z"
   },
   {
    "duration": 3311,
    "start_time": "2023-05-21T03:08:50.257Z"
   },
   {
    "duration": 6,
    "start_time": "2023-05-21T03:08:54.362Z"
   },
   {
    "duration": 25,
    "start_time": "2023-05-21T03:09:08.957Z"
   },
   {
    "duration": 27,
    "start_time": "2023-05-21T03:10:12.449Z"
   },
   {
    "duration": 6,
    "start_time": "2023-05-21T03:10:30.363Z"
   },
   {
    "duration": 4,
    "start_time": "2023-05-21T03:11:00.000Z"
   },
   {
    "duration": 4,
    "start_time": "2023-05-21T03:11:27.449Z"
   },
   {
    "duration": 792,
    "start_time": "2023-05-21T03:19:53.791Z"
   },
   {
    "duration": 3,
    "start_time": "2023-05-21T03:20:01.313Z"
   },
   {
    "duration": 3234,
    "start_time": "2023-05-21T03:20:03.713Z"
   },
   {
    "duration": 5,
    "start_time": "2023-05-21T03:20:06.950Z"
   },
   {
    "duration": 3,
    "start_time": "2023-05-21T03:20:33.250Z"
   },
   {
    "duration": 3,
    "start_time": "2023-05-21T03:22:25.772Z"
   },
   {
    "duration": 23,
    "start_time": "2023-05-21T03:22:41.254Z"
   },
   {
    "duration": 25,
    "start_time": "2023-05-21T03:24:37.933Z"
   },
   {
    "duration": 4,
    "start_time": "2023-05-21T03:25:49.691Z"
   },
   {
    "duration": 24,
    "start_time": "2023-05-21T03:25:53.657Z"
   },
   {
    "duration": 2694,
    "start_time": "2023-05-21T10:57:32.893Z"
   },
   {
    "duration": 3539,
    "start_time": "2023-05-21T10:57:35.590Z"
   },
   {
    "duration": 3,
    "start_time": "2023-05-21T10:57:39.980Z"
   },
   {
    "duration": 3349,
    "start_time": "2023-05-21T10:57:41.842Z"
   },
   {
    "duration": 12924,
    "start_time": "2023-05-21T10:57:47.787Z"
   },
   {
    "duration": 5,
    "start_time": "2023-05-21T10:58:00.713Z"
   },
   {
    "duration": 199,
    "start_time": "2023-05-21T10:58:03.033Z"
   },
   {
    "duration": 5,
    "start_time": "2023-05-21T11:52:09.402Z"
   },
   {
    "duration": 37,
    "start_time": "2023-05-21T11:52:12.796Z"
   },
   {
    "duration": 508,
    "start_time": "2023-05-21T13:09:34.599Z"
   },
   {
    "duration": 161,
    "start_time": "2023-05-21T13:09:55.730Z"
   },
   {
    "duration": 16,
    "start_time": "2023-05-21T13:38:57.498Z"
   },
   {
    "duration": 13,
    "start_time": "2023-05-21T13:45:26.876Z"
   },
   {
    "duration": 447,
    "start_time": "2023-05-21T13:45:26.891Z"
   },
   {
    "duration": 527,
    "start_time": "2023-05-21T13:46:45.805Z"
   },
   {
    "duration": 148,
    "start_time": "2023-05-21T13:48:35.753Z"
   },
   {
    "duration": 96,
    "start_time": "2023-05-21T13:49:31.712Z"
   },
   {
    "duration": 10,
    "start_time": "2023-05-21T14:18:42.751Z"
   },
   {
    "duration": 5,
    "start_time": "2023-05-21T14:19:24.970Z"
   },
   {
    "duration": 859,
    "start_time": "2023-05-21T14:19:27.074Z"
   },
   {
    "duration": 6,
    "start_time": "2023-05-21T14:19:32.675Z"
   },
   {
    "duration": 3,
    "start_time": "2023-05-21T14:19:40.598Z"
   },
   {
    "duration": 3622,
    "start_time": "2023-05-21T14:19:42.389Z"
   },
   {
    "duration": 6,
    "start_time": "2023-05-21T14:19:49.678Z"
   },
   {
    "duration": 824,
    "start_time": "2023-05-21T14:20:59.569Z"
   },
   {
    "duration": 6,
    "start_time": "2023-05-21T14:21:03.532Z"
   },
   {
    "duration": 78,
    "start_time": "2023-05-21T14:22:11.802Z"
   },
   {
    "duration": 19689,
    "start_time": "2023-05-21T14:22:32.586Z"
   },
   {
    "duration": 63,
    "start_time": "2023-05-21T14:24:42.380Z"
   },
   {
    "duration": 12,
    "start_time": "2023-05-21T14:25:02.172Z"
   },
   {
    "duration": 69,
    "start_time": "2023-05-21T14:25:11.074Z"
   },
   {
    "duration": 27,
    "start_time": "2023-05-21T14:26:01.810Z"
   },
   {
    "duration": 6,
    "start_time": "2023-05-21T14:26:07.606Z"
   },
   {
    "duration": 768,
    "start_time": "2023-05-21T14:26:46.153Z"
   },
   {
    "duration": 6,
    "start_time": "2023-05-21T14:26:57.559Z"
   },
   {
    "duration": 22,
    "start_time": "2023-05-21T14:27:04.815Z"
   },
   {
    "duration": 6,
    "start_time": "2023-05-21T14:27:08.872Z"
   },
   {
    "duration": 753,
    "start_time": "2023-05-21T14:27:21.504Z"
   },
   {
    "duration": 790,
    "start_time": "2023-05-21T14:29:52.751Z"
   },
   {
    "duration": 3,
    "start_time": "2023-05-21T14:29:58.398Z"
   },
   {
    "duration": 3118,
    "start_time": "2023-05-21T14:30:00.530Z"
   },
   {
    "duration": 10387,
    "start_time": "2023-05-21T14:30:06.755Z"
   },
   {
    "duration": 3697,
    "start_time": "2023-05-21T14:30:28.648Z"
   },
   {
    "duration": 190,
    "start_time": "2023-05-21T14:31:35.847Z"
   },
   {
    "duration": 21,
    "start_time": "2023-05-21T14:33:17.491Z"
   },
   {
    "duration": 29,
    "start_time": "2023-05-21T14:34:08.281Z"
   },
   {
    "duration": 4,
    "start_time": "2023-05-21T14:34:15.826Z"
   },
   {
    "duration": 7,
    "start_time": "2023-05-21T14:35:06.616Z"
   },
   {
    "duration": 5,
    "start_time": "2023-05-21T14:35:09.025Z"
   },
   {
    "duration": 23,
    "start_time": "2023-05-21T14:35:50.480Z"
   },
   {
    "duration": 6,
    "start_time": "2023-05-21T14:43:30.790Z"
   },
   {
    "duration": 9,
    "start_time": "2023-05-21T14:44:58.381Z"
   },
   {
    "duration": 24,
    "start_time": "2023-05-21T14:44:59.979Z"
   },
   {
    "duration": 703,
    "start_time": "2023-05-21T14:45:26.384Z"
   },
   {
    "duration": 201978,
    "start_time": "2023-05-21T14:46:09.570Z"
   },
   {
    "duration": 4,
    "start_time": "2023-05-21T14:55:21.540Z"
   },
   {
    "duration": 194293,
    "start_time": "2023-05-21T15:00:38.451Z"
   },
   {
    "duration": 4,
    "start_time": "2023-05-21T15:09:22.703Z"
   },
   {
    "duration": 832,
    "start_time": "2023-05-21T15:09:25.606Z"
   },
   {
    "duration": 2,
    "start_time": "2023-05-21T15:09:29.587Z"
   },
   {
    "duration": 3218,
    "start_time": "2023-05-21T15:09:33.053Z"
   },
   {
    "duration": 150,
    "start_time": "2023-05-21T15:09:43.671Z"
   },
   {
    "duration": 175805,
    "start_time": "2023-05-21T15:10:08.970Z"
   },
   {
    "duration": 795,
    "start_time": "2023-05-21T15:19:37.630Z"
   },
   {
    "duration": 3,
    "start_time": "2023-05-21T15:19:49.044Z"
   },
   {
    "duration": 106,
    "start_time": "2023-05-21T15:19:50.738Z"
   },
   {
    "duration": 3,
    "start_time": "2023-05-21T15:19:51.704Z"
   },
   {
    "duration": 2171,
    "start_time": "2023-05-22T00:35:24.223Z"
   },
   {
    "duration": 2178,
    "start_time": "2023-05-22T00:35:28.010Z"
   },
   {
    "duration": 4,
    "start_time": "2023-05-22T00:35:48.858Z"
   },
   {
    "duration": 2957,
    "start_time": "2023-05-22T00:35:58.095Z"
   },
   {
    "duration": 9,
    "start_time": "2023-05-22T00:36:01.903Z"
   },
   {
    "duration": 101,
    "start_time": "2023-05-22T00:36:27.891Z"
   },
   {
    "duration": 94,
    "start_time": "2023-05-22T00:37:45.215Z"
   },
   {
    "duration": 109,
    "start_time": "2023-05-22T00:37:49.650Z"
   },
   {
    "duration": 480,
    "start_time": "2023-05-22T00:38:02.699Z"
   },
   {
    "duration": 98,
    "start_time": "2023-05-22T00:38:20.099Z"
   },
   {
    "duration": 893,
    "start_time": "2023-05-22T00:38:24.432Z"
   },
   {
    "duration": 15,
    "start_time": "2023-05-22T00:40:53.291Z"
   },
   {
    "duration": 4,
    "start_time": "2023-05-22T00:41:45.605Z"
   },
   {
    "duration": 14,
    "start_time": "2023-05-22T00:41:52.496Z"
   },
   {
    "duration": 53,
    "start_time": "2023-05-22T00:42:51.451Z"
   },
   {
    "duration": 50,
    "start_time": "2023-05-22T00:43:04.585Z"
   },
   {
    "duration": 2,
    "start_time": "2023-05-22T00:43:29.011Z"
   },
   {
    "duration": 12,
    "start_time": "2023-05-22T00:43:32.544Z"
   },
   {
    "duration": 3,
    "start_time": "2023-05-22T00:44:23.579Z"
   },
   {
    "duration": 77198,
    "start_time": "2023-05-22T00:44:59.605Z"
   },
   {
    "duration": 76826,
    "start_time": "2023-05-22T00:48:34.575Z"
   },
   {
    "duration": 21,
    "start_time": "2023-05-22T00:51:34.627Z"
   },
   {
    "duration": 3,
    "start_time": "2023-05-22T01:06:32.647Z"
   },
   {
    "duration": 17,
    "start_time": "2023-05-22T01:06:37.490Z"
   },
   {
    "duration": 30,
    "start_time": "2023-05-22T01:06:58.239Z"
   },
   {
    "duration": 24,
    "start_time": "2023-05-22T01:07:01.169Z"
   },
   {
    "duration": 3,
    "start_time": "2023-05-22T01:07:09.579Z"
   },
   {
    "duration": 161,
    "start_time": "2023-05-22T01:07:17.490Z"
   },
   {
    "duration": 5930,
    "start_time": "2023-05-22T01:07:25.223Z"
   },
   {
    "duration": 1560,
    "start_time": "2023-05-22T01:07:32.518Z"
   },
   {
    "duration": 2369,
    "start_time": "2023-05-22T01:09:02.101Z"
   },
   {
    "duration": 56,
    "start_time": "2023-05-22T01:14:19.897Z"
   },
   {
    "duration": 5,
    "start_time": "2023-05-22T01:16:05.961Z"
   },
   {
    "duration": 348457,
    "start_time": "2023-05-22T01:28:52.276Z"
   },
   {
    "duration": 905033,
    "start_time": "2023-05-22T01:35:51.505Z"
   },
   {
    "duration": 6,
    "start_time": "2023-05-22T01:53:49.969Z"
   },
   {
    "duration": 99,
    "start_time": "2023-05-22T01:53:53.449Z"
   },
   {
    "duration": 62,
    "start_time": "2023-05-22T01:57:54.921Z"
   },
   {
    "duration": 6,
    "start_time": "2023-05-22T01:59:50.165Z"
   },
   {
    "duration": 19,
    "start_time": "2023-05-22T02:00:13.419Z"
   },
   {
    "duration": 39,
    "start_time": "2023-05-22T02:04:43.100Z"
   },
   {
    "duration": 146,
    "start_time": "2023-05-22T02:05:02.076Z"
   },
   {
    "duration": 5,
    "start_time": "2023-05-22T02:05:26.474Z"
   },
   {
    "duration": 80,
    "start_time": "2023-05-22T02:05:32.545Z"
   },
   {
    "duration": 5,
    "start_time": "2023-05-22T02:10:30.788Z"
   },
   {
    "duration": 120,
    "start_time": "2023-05-22T02:10:36.240Z"
   },
   {
    "duration": 6,
    "start_time": "2023-05-22T02:11:47.310Z"
   },
   {
    "duration": 137,
    "start_time": "2023-05-22T02:11:50.696Z"
   },
   {
    "duration": 110,
    "start_time": "2023-05-22T02:14:07.626Z"
   },
   {
    "duration": 13,
    "start_time": "2023-05-22T02:17:58.841Z"
   },
   {
    "duration": 39,
    "start_time": "2023-05-22T02:18:19.705Z"
   },
   {
    "duration": 12,
    "start_time": "2023-05-22T02:19:32.651Z"
   },
   {
    "duration": 14,
    "start_time": "2023-05-22T02:19:55.347Z"
   },
   {
    "duration": 44,
    "start_time": "2023-05-22T02:20:51.998Z"
   },
   {
    "duration": 4,
    "start_time": "2023-05-22T02:21:28.268Z"
   },
   {
    "duration": 5,
    "start_time": "2023-05-22T02:22:03.540Z"
   },
   {
    "duration": 32,
    "start_time": "2023-05-22T02:23:46.020Z"
   },
   {
    "duration": 1008,
    "start_time": "2023-05-22T11:45:41.177Z"
   },
   {
    "duration": 1812,
    "start_time": "2023-05-22T11:45:58.474Z"
   },
   {
    "duration": 3453,
    "start_time": "2023-05-22T11:46:01.109Z"
   },
   {
    "duration": 5,
    "start_time": "2023-05-22T11:46:09.880Z"
   },
   {
    "duration": 92472,
    "start_time": "2023-05-22T11:46:17.987Z"
   },
   {
    "duration": 89,
    "start_time": "2023-05-22T11:48:09.644Z"
   },
   {
    "duration": 13,
    "start_time": "2023-05-22T11:48:25.701Z"
   },
   {
    "duration": 27,
    "start_time": "2023-05-22T11:49:38.760Z"
   },
   {
    "duration": 3,
    "start_time": "2023-05-22T11:50:26.208Z"
   },
   {
    "duration": 38,
    "start_time": "2023-05-22T11:50:27.891Z"
   },
   {
    "duration": 39,
    "start_time": "2023-05-22T11:50:32.290Z"
   },
   {
    "duration": 4,
    "start_time": "2023-05-22T11:50:37.129Z"
   },
   {
    "duration": 220,
    "start_time": "2023-05-22T11:50:41.538Z"
   },
   {
    "duration": 7165,
    "start_time": "2023-05-22T11:50:46.797Z"
   },
   {
    "duration": 3164,
    "start_time": "2023-05-22T11:51:02.302Z"
   },
   {
    "duration": 3428,
    "start_time": "2023-05-22T11:51:12.724Z"
   },
   {
    "duration": 308,
    "start_time": "2023-05-22T11:51:41.814Z"
   },
   {
    "duration": 4,
    "start_time": "2023-05-22T11:56:35.650Z"
   },
   {
    "duration": 18,
    "start_time": "2023-05-22T11:56:50.309Z"
   },
   {
    "duration": 6,
    "start_time": "2023-05-22T11:57:27.419Z"
   },
   {
    "duration": 5,
    "start_time": "2023-05-22T11:58:25.474Z"
   },
   {
    "duration": 240,
    "start_time": "2023-05-22T11:58:37.233Z"
   },
   {
    "duration": 97,
    "start_time": "2023-05-22T11:59:53.785Z"
   },
   {
    "duration": 2726,
    "start_time": "2023-05-22T12:02:36.711Z"
   },
   {
    "duration": 2782,
    "start_time": "2023-05-22T12:04:22.748Z"
   },
   {
    "duration": 124,
    "start_time": "2023-05-22T12:06:19.204Z"
   },
   {
    "duration": 6,
    "start_time": "2023-05-22T12:06:38.518Z"
   },
   {
    "duration": 2972,
    "start_time": "2023-05-22T12:06:43.165Z"
   },
   {
    "duration": 229,
    "start_time": "2023-05-22T12:07:27.661Z"
   },
   {
    "duration": 3630,
    "start_time": "2023-05-22T12:12:47.919Z"
   },
   {
    "duration": 277,
    "start_time": "2023-05-22T12:13:17.804Z"
   },
   {
    "duration": 103140,
    "start_time": "2023-05-22T12:18:57.332Z"
   },
   {
    "duration": 12,
    "start_time": "2023-05-22T12:21:14.499Z"
   },
   {
    "duration": 4,
    "start_time": "2023-05-22T12:21:44.473Z"
   },
   {
    "duration": 83,
    "start_time": "2023-05-22T12:21:47.309Z"
   },
   {
    "duration": 38,
    "start_time": "2023-05-22T12:21:50.319Z"
   },
   {
    "duration": 4,
    "start_time": "2023-05-22T12:21:55.203Z"
   },
   {
    "duration": 28,
    "start_time": "2023-05-22T12:22:11.239Z"
   },
   {
    "duration": 21,
    "start_time": "2023-05-22T12:22:22.251Z"
   },
   {
    "duration": 7853,
    "start_time": "2023-05-22T12:22:35.748Z"
   },
   {
    "duration": 6,
    "start_time": "2023-05-22T12:22:51.500Z"
   },
   {
    "duration": 4,
    "start_time": "2023-05-22T12:22:58.548Z"
   },
   {
    "duration": 3340,
    "start_time": "2023-05-22T12:24:03.726Z"
   },
   {
    "duration": 3571,
    "start_time": "2023-05-22T12:24:10.646Z"
   },
   {
    "duration": 5,
    "start_time": "2023-05-22T12:24:21.400Z"
   },
   {
    "duration": 252,
    "start_time": "2023-05-22T12:24:27.286Z"
   },
   {
    "duration": 59,
    "start_time": "2023-05-22T20:17:00.320Z"
   },
   {
    "duration": 3643,
    "start_time": "2023-05-22T20:17:17.432Z"
   },
   {
    "duration": 2242,
    "start_time": "2023-05-22T20:17:21.078Z"
   },
   {
    "duration": 20,
    "start_time": "2023-05-22T20:17:23.322Z"
   },
   {
    "duration": 24,
    "start_time": "2023-05-22T20:17:23.344Z"
   },
   {
    "duration": 35,
    "start_time": "2023-05-22T20:17:23.370Z"
   },
   {
    "duration": 15,
    "start_time": "2023-05-22T20:17:23.407Z"
   },
   {
    "duration": 26,
    "start_time": "2023-05-22T20:17:23.423Z"
   },
   {
    "duration": 93881,
    "start_time": "2023-05-22T20:17:23.451Z"
   },
   {
    "duration": 7,
    "start_time": "2023-05-22T20:18:57.335Z"
   },
   {
    "duration": 11,
    "start_time": "2023-05-22T20:18:57.344Z"
   },
   {
    "duration": 9,
    "start_time": "2023-05-22T20:18:57.356Z"
   },
   {
    "duration": 34,
    "start_time": "2023-05-22T20:18:57.366Z"
   },
   {
    "duration": 28,
    "start_time": "2023-05-22T20:18:57.402Z"
   },
   {
    "duration": 4,
    "start_time": "2023-05-22T20:18:57.432Z"
   },
   {
    "duration": 141,
    "start_time": "2023-05-22T20:18:57.437Z"
   },
   {
    "duration": 6515,
    "start_time": "2023-05-22T20:18:57.580Z"
   },
   {
    "duration": 2336,
    "start_time": "2023-05-22T20:19:04.097Z"
   },
   {
    "duration": 2615,
    "start_time": "2023-05-22T20:19:06.434Z"
   },
   {
    "duration": 6,
    "start_time": "2023-05-22T20:19:09.051Z"
   },
   {
    "duration": 332,
    "start_time": "2023-05-22T20:19:09.059Z"
   },
   {
    "duration": 250,
    "start_time": "2023-05-22T20:23:05.036Z"
   },
   {
    "duration": 15,
    "start_time": "2023-05-22T20:23:09.074Z"
   },
   {
    "duration": 3291,
    "start_time": "2023-05-23T00:08:08.723Z"
   },
   {
    "duration": 5031,
    "start_time": "2023-05-23T00:08:12.031Z"
   },
   {
    "duration": 4,
    "start_time": "2023-05-23T00:08:57.462Z"
   },
   {
    "duration": 116752,
    "start_time": "2023-05-23T00:09:04.625Z"
   },
   {
    "duration": 21,
    "start_time": "2023-05-23T00:11:17.731Z"
   },
   {
    "duration": 14,
    "start_time": "2023-05-23T00:11:26.128Z"
   },
   {
    "duration": 47,
    "start_time": "2023-05-23T00:11:27.107Z"
   },
   {
    "duration": 25,
    "start_time": "2023-05-23T00:11:28.750Z"
   },
   {
    "duration": 213,
    "start_time": "2023-05-23T00:11:34.443Z"
   },
   {
    "duration": 8177,
    "start_time": "2023-05-23T00:11:35.649Z"
   },
   {
    "duration": 1641,
    "start_time": "2023-05-23T00:11:43.833Z"
   },
   {
    "duration": 2992,
    "start_time": "2023-05-23T00:11:49.646Z"
   },
   {
    "duration": 26,
    "start_time": "2023-05-23T00:11:57.916Z"
   },
   {
    "duration": 404,
    "start_time": "2023-05-23T00:12:02.465Z"
   },
   {
    "duration": 22,
    "start_time": "2023-05-23T00:12:50.616Z"
   },
   {
    "duration": 35,
    "start_time": "2023-05-23T00:12:59.883Z"
   },
   {
    "duration": 10,
    "start_time": "2023-05-23T01:39:24.173Z"
   },
   {
    "duration": 3,
    "start_time": "2023-05-23T01:40:52.152Z"
   },
   {
    "duration": 30,
    "start_time": "2023-05-23T01:41:54.516Z"
   },
   {
    "duration": 4,
    "start_time": "2023-05-23T01:43:45.756Z"
   },
   {
    "duration": 5,
    "start_time": "2023-05-23T02:08:59.668Z"
   },
   {
    "duration": 993,
    "start_time": "2023-05-23T02:09:00.564Z"
   },
   {
    "duration": 4,
    "start_time": "2023-05-23T02:09:07.446Z"
   },
   {
    "duration": 112266,
    "start_time": "2023-05-23T02:09:11.050Z"
   },
   {
    "duration": 7,
    "start_time": "2023-05-23T02:11:29.457Z"
   },
   {
    "duration": 3,
    "start_time": "2023-05-23T02:11:35.448Z"
   },
   {
    "duration": 67,
    "start_time": "2023-05-23T02:11:36.783Z"
   },
   {
    "duration": 19,
    "start_time": "2023-05-23T02:11:38.547Z"
   },
   {
    "duration": 163,
    "start_time": "2023-05-23T02:11:51.622Z"
   },
   {
    "duration": 10,
    "start_time": "2023-05-23T02:11:53.047Z"
   },
   {
    "duration": 10,
    "start_time": "2023-05-23T02:12:13.344Z"
   },
   {
    "duration": 8,
    "start_time": "2023-05-23T02:14:50.615Z"
   },
   {
    "duration": 7867,
    "start_time": "2023-05-23T02:15:10.595Z"
   },
   {
    "duration": 1511,
    "start_time": "2023-05-23T02:15:18.469Z"
   },
   {
    "duration": 2642,
    "start_time": "2023-05-23T02:15:23.804Z"
   },
   {
    "duration": 14,
    "start_time": "2023-05-23T02:15:44.609Z"
   },
   {
    "duration": 389723,
    "start_time": "2023-05-23T02:22:56.497Z"
   },
   {
    "duration": 5010,
    "start_time": "2023-05-23T02:32:30.148Z"
   },
   {
    "duration": 8689,
    "start_time": "2023-05-23T02:32:55.667Z"
   },
   {
    "duration": 8915,
    "start_time": "2023-05-23T02:34:24.035Z"
   },
   {
    "duration": 5252,
    "start_time": "2023-05-23T02:34:51.405Z"
   },
   {
    "duration": 3724,
    "start_time": "2023-05-23T02:35:30.026Z"
   },
   {
    "duration": 110,
    "start_time": "2023-05-23T02:35:56.254Z"
   },
   {
    "duration": 211,
    "start_time": "2023-05-23T02:40:02.266Z"
   },
   {
    "duration": 30,
    "start_time": "2023-05-23T02:40:29.319Z"
   },
   {
    "duration": 101,
    "start_time": "2023-05-23T02:40:47.467Z"
   },
   {
    "duration": 91,
    "start_time": "2023-05-23T02:47:54.747Z"
   },
   {
    "duration": 213,
    "start_time": "2023-05-23T02:48:15.060Z"
   },
   {
    "duration": 6,
    "start_time": "2023-05-23T02:48:24.967Z"
   },
   {
    "duration": 5,
    "start_time": "2023-05-23T03:00:25.151Z"
   },
   {
    "duration": 1142,
    "start_time": "2023-05-23T03:04:04.639Z"
   },
   {
    "duration": 1035,
    "start_time": "2023-05-23T03:04:34.103Z"
   },
   {
    "duration": 2406,
    "start_time": "2023-05-24T02:26:46.503Z"
   },
   {
    "duration": 2293,
    "start_time": "2023-05-24T02:26:48.911Z"
   },
   {
    "duration": 19,
    "start_time": "2023-05-24T02:26:51.205Z"
   },
   {
    "duration": 12,
    "start_time": "2023-05-24T02:26:51.226Z"
   },
   {
    "duration": 18,
    "start_time": "2023-05-24T02:26:51.240Z"
   },
   {
    "duration": 5,
    "start_time": "2023-05-24T02:26:51.260Z"
   },
   {
    "duration": 11,
    "start_time": "2023-05-24T02:26:51.266Z"
   },
   {
    "duration": 88225,
    "start_time": "2023-05-24T02:26:51.278Z"
   },
   {
    "duration": 7,
    "start_time": "2023-05-24T02:28:19.505Z"
   },
   {
    "duration": 8,
    "start_time": "2023-05-24T02:28:19.514Z"
   },
   {
    "duration": 5,
    "start_time": "2023-05-24T02:28:19.523Z"
   },
   {
    "duration": 35,
    "start_time": "2023-05-24T02:28:19.530Z"
   },
   {
    "duration": 52,
    "start_time": "2023-05-24T02:28:19.567Z"
   },
   {
    "duration": 4,
    "start_time": "2023-05-24T02:28:19.620Z"
   },
   {
    "duration": 214,
    "start_time": "2023-05-24T02:28:19.625Z"
   },
   {
    "duration": 10,
    "start_time": "2023-05-24T02:28:19.840Z"
   },
   {
    "duration": 6784,
    "start_time": "2023-05-24T02:28:19.852Z"
   },
   {
    "duration": 1745,
    "start_time": "2023-05-24T02:28:26.638Z"
   },
   {
    "duration": 2833,
    "start_time": "2023-05-24T02:28:28.385Z"
   },
   {
    "duration": 6,
    "start_time": "2023-05-24T02:28:31.220Z"
   },
   {
    "duration": 193,
    "start_time": "2023-05-24T02:28:31.227Z"
   },
   {
    "duration": 0,
    "start_time": "2023-05-24T02:28:31.422Z"
   },
   {
    "duration": 0,
    "start_time": "2023-05-24T02:28:31.423Z"
   },
   {
    "duration": 0,
    "start_time": "2023-05-24T02:28:31.424Z"
   },
   {
    "duration": 0,
    "start_time": "2023-05-24T02:28:31.425Z"
   },
   {
    "duration": 0,
    "start_time": "2023-05-24T02:28:31.426Z"
   },
   {
    "duration": 0,
    "start_time": "2023-05-24T02:28:31.427Z"
   },
   {
    "duration": 387228,
    "start_time": "2023-05-24T02:36:00.375Z"
   },
   {
    "duration": 33543,
    "start_time": "2023-05-24T02:51:46.160Z"
   },
   {
    "duration": 12245,
    "start_time": "2023-05-24T02:53:23.294Z"
   },
   {
    "duration": 97,
    "start_time": "2023-05-24T02:54:58.879Z"
   },
   {
    "duration": 60,
    "start_time": "2023-05-24T02:57:32.400Z"
   },
   {
    "duration": 56,
    "start_time": "2023-05-24T02:57:45.184Z"
   },
   {
    "duration": 2276,
    "start_time": "2023-05-24T02:59:28.504Z"
   },
   {
    "duration": 60,
    "start_time": "2023-05-24T03:01:02.463Z"
   },
   {
    "duration": 4,
    "start_time": "2023-05-24T03:04:15.664Z"
   },
   {
    "duration": 82,
    "start_time": "2023-05-24T03:05:39.558Z"
   },
   {
    "duration": 24,
    "start_time": "2023-05-24T03:06:59.202Z"
   },
   {
    "duration": 4,
    "start_time": "2023-05-24T03:07:14.214Z"
   },
   {
    "duration": 5,
    "start_time": "2023-05-24T03:07:32.456Z"
   },
   {
    "duration": 389051,
    "start_time": "2023-05-24T03:07:36.848Z"
   },
   {
    "duration": 33027,
    "start_time": "2023-05-24T03:15:05.483Z"
   },
   {
    "duration": 12817,
    "start_time": "2023-05-24T03:15:46.154Z"
   },
   {
    "duration": 28,
    "start_time": "2023-05-24T03:16:02.170Z"
   },
   {
    "duration": 2694,
    "start_time": "2023-05-24T03:17:39.356Z"
   },
   {
    "duration": 2370,
    "start_time": "2023-05-24T03:19:05.529Z"
   },
   {
    "duration": 812,
    "start_time": "2023-05-24T03:19:07.900Z"
   },
   {
    "duration": 17,
    "start_time": "2023-05-24T03:19:08.713Z"
   },
   {
    "duration": 10,
    "start_time": "2023-05-24T03:19:08.731Z"
   },
   {
    "duration": 11,
    "start_time": "2023-05-24T03:19:08.743Z"
   },
   {
    "duration": 9,
    "start_time": "2023-05-24T03:19:08.755Z"
   },
   {
    "duration": 8,
    "start_time": "2023-05-24T03:19:08.766Z"
   },
   {
    "duration": 86715,
    "start_time": "2023-05-24T03:19:08.795Z"
   },
   {
    "duration": 9,
    "start_time": "2023-05-24T03:20:35.512Z"
   },
   {
    "duration": 17,
    "start_time": "2023-05-24T03:20:35.522Z"
   },
   {
    "duration": 14,
    "start_time": "2023-05-24T03:20:35.541Z"
   },
   {
    "duration": 39,
    "start_time": "2023-05-24T03:20:35.557Z"
   },
   {
    "duration": 31,
    "start_time": "2023-05-24T03:20:35.597Z"
   },
   {
    "duration": 4,
    "start_time": "2023-05-24T03:20:35.631Z"
   },
   {
    "duration": 171,
    "start_time": "2023-05-24T03:20:35.636Z"
   },
   {
    "duration": 9,
    "start_time": "2023-05-24T03:20:35.809Z"
   },
   {
    "duration": 6123,
    "start_time": "2023-05-24T03:20:35.819Z"
   },
   {
    "duration": 1557,
    "start_time": "2023-05-24T03:20:41.944Z"
   },
   {
    "duration": 2595,
    "start_time": "2023-05-24T03:20:43.503Z"
   },
   {
    "duration": 5,
    "start_time": "2023-05-24T03:20:46.100Z"
   },
   {
    "duration": 325138,
    "start_time": "2023-05-24T03:20:46.107Z"
   },
   {
    "duration": 3,
    "start_time": "2023-05-24T03:26:11.246Z"
   },
   {
    "duration": 4184,
    "start_time": "2023-05-24T03:26:11.251Z"
   },
   {
    "duration": 2864,
    "start_time": "2023-05-24T03:26:15.437Z"
   },
   {
    "duration": 33,
    "start_time": "2023-05-24T03:26:18.303Z"
   },
   {
    "duration": 846,
    "start_time": "2023-05-24T03:26:18.338Z"
   },
   {
    "duration": 626,
    "start_time": "2023-05-24T03:36:10.870Z"
   },
   {
    "duration": 2800,
    "start_time": "2023-05-24T03:37:36.886Z"
   },
   {
    "duration": 21,
    "start_time": "2023-05-24T03:38:58.205Z"
   },
   {
    "duration": 630,
    "start_time": "2023-05-24T03:43:15.822Z"
   },
   {
    "duration": 404,
    "start_time": "2023-05-24T03:44:46.746Z"
   },
   {
    "duration": 1475,
    "start_time": "2023-05-24T03:46:10.154Z"
   },
   {
    "duration": 2082,
    "start_time": "2023-05-24T03:47:19.587Z"
   },
   {
    "duration": 2092,
    "start_time": "2023-05-24T03:47:54.217Z"
   },
   {
    "duration": 1942,
    "start_time": "2023-05-24T03:48:09.787Z"
   },
   {
    "duration": 1664,
    "start_time": "2023-05-24T03:48:27.291Z"
   }
  ],
  "kernelspec": {
   "display_name": "anaconda-2022.05-py39",
   "language": "python",
   "name": "conda-env-anaconda-2022.05-py39-py"
  },
  "language_info": {
   "codemirror_mode": {
    "name": "ipython",
    "version": 3
   },
   "file_extension": ".py",
   "mimetype": "text/x-python",
   "name": "python",
   "nbconvert_exporter": "python",
   "pygments_lexer": "ipython3",
   "version": "3.9.12"
  },
  "toc": {
   "base_numbering": 1,
   "nav_menu": {},
   "number_sections": true,
   "sideBar": true,
   "skip_h1_title": true,
   "title_cell": "Содержание",
   "title_sidebar": "Contents",
   "toc_cell": true,
   "toc_position": {
    "height": "calc(100% - 180px)",
    "left": "10px",
    "top": "150px",
    "width": "302.391px"
   },
   "toc_section_display": true,
   "toc_window_display": false
  }
 },
 "nbformat": 4,
 "nbformat_minor": 4
}
