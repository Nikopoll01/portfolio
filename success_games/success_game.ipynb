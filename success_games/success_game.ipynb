{
 "cells": [
  {
   "cell_type": "markdown",
   "metadata": {},
   "source": [
    "Из открытых источников доступны исторические данные о продажах игр, оценки пользователей и экспертов, жанры и платформы (например, Xbox или PlayStation). Вам нужно выявить определяющие успешность игры закономерности. Это позволит сделать ставку на потенциально популярный продукт и спланировать рекламные кампании."
   ]
  },
  {
   "cell_type": "code",
   "execution_count": 256,
   "metadata": {},
   "outputs": [],
   "source": [
    "import pandas as pd\n",
    "import matplotlib.pyplot as plt\n",
    "import numpy as np\n",
    "import datetime as dt\n",
    "import seaborn as sns\n",
    "from scipy import stats as st\n"
   ]
  },
  {
   "cell_type": "code",
   "execution_count": 257,
   "metadata": {},
   "outputs": [
    {
     "name": "stdout",
     "output_type": "stream",
     "text": [
      "<class 'pandas.core.frame.DataFrame'>\n",
      "RangeIndex: 16715 entries, 0 to 16714\n",
      "Data columns (total 11 columns):\n",
      " #   Column           Non-Null Count  Dtype  \n",
      "---  ------           --------------  -----  \n",
      " 0   Name             16713 non-null  object \n",
      " 1   Platform         16715 non-null  object \n",
      " 2   Year_of_Release  16446 non-null  float64\n",
      " 3   Genre            16713 non-null  object \n",
      " 4   NA_sales         16715 non-null  float64\n",
      " 5   EU_sales         16715 non-null  float64\n",
      " 6   JP_sales         16715 non-null  float64\n",
      " 7   Other_sales      16715 non-null  float64\n",
      " 8   Critic_Score     8137 non-null   float64\n",
      " 9   User_Score       10014 non-null  object \n",
      " 10  Rating           9949 non-null   object \n",
      "dtypes: float64(6), object(5)\n",
      "memory usage: 1.4+ MB\n"
     ]
    }
   ],
   "source": [
    "data = pd.read_csv('/datasets/games.csv')\n",
    "\n",
    "data.info()\n",
    "\n",
    " "
   ]
  },
  {
   "cell_type": "code",
   "execution_count": 258,
   "metadata": {},
   "outputs": [
    {
     "data": {
      "text/html": [
       "<div>\n",
       "<style scoped>\n",
       "    .dataframe tbody tr th:only-of-type {\n",
       "        vertical-align: middle;\n",
       "    }\n",
       "\n",
       "    .dataframe tbody tr th {\n",
       "        vertical-align: top;\n",
       "    }\n",
       "\n",
       "    .dataframe thead th {\n",
       "        text-align: right;\n",
       "    }\n",
       "</style>\n",
       "<table border=\"1\" class=\"dataframe\">\n",
       "  <thead>\n",
       "    <tr style=\"text-align: right;\">\n",
       "      <th></th>\n",
       "      <th>Name</th>\n",
       "      <th>Platform</th>\n",
       "      <th>Year_of_Release</th>\n",
       "      <th>Genre</th>\n",
       "      <th>NA_sales</th>\n",
       "      <th>EU_sales</th>\n",
       "      <th>JP_sales</th>\n",
       "      <th>Other_sales</th>\n",
       "      <th>Critic_Score</th>\n",
       "      <th>User_Score</th>\n",
       "      <th>Rating</th>\n",
       "    </tr>\n",
       "  </thead>\n",
       "  <tbody>\n",
       "    <tr>\n",
       "      <th>0</th>\n",
       "      <td>Wii Sports</td>\n",
       "      <td>Wii</td>\n",
       "      <td>2006.0</td>\n",
       "      <td>Sports</td>\n",
       "      <td>41.36</td>\n",
       "      <td>28.96</td>\n",
       "      <td>3.77</td>\n",
       "      <td>8.45</td>\n",
       "      <td>76.0</td>\n",
       "      <td>8</td>\n",
       "      <td>E</td>\n",
       "    </tr>\n",
       "    <tr>\n",
       "      <th>1</th>\n",
       "      <td>Super Mario Bros.</td>\n",
       "      <td>NES</td>\n",
       "      <td>1985.0</td>\n",
       "      <td>Platform</td>\n",
       "      <td>29.08</td>\n",
       "      <td>3.58</td>\n",
       "      <td>6.81</td>\n",
       "      <td>0.77</td>\n",
       "      <td>NaN</td>\n",
       "      <td>NaN</td>\n",
       "      <td>NaN</td>\n",
       "    </tr>\n",
       "    <tr>\n",
       "      <th>2</th>\n",
       "      <td>Mario Kart Wii</td>\n",
       "      <td>Wii</td>\n",
       "      <td>2008.0</td>\n",
       "      <td>Racing</td>\n",
       "      <td>15.68</td>\n",
       "      <td>12.76</td>\n",
       "      <td>3.79</td>\n",
       "      <td>3.29</td>\n",
       "      <td>82.0</td>\n",
       "      <td>8.3</td>\n",
       "      <td>E</td>\n",
       "    </tr>\n",
       "    <tr>\n",
       "      <th>3</th>\n",
       "      <td>Wii Sports Resort</td>\n",
       "      <td>Wii</td>\n",
       "      <td>2009.0</td>\n",
       "      <td>Sports</td>\n",
       "      <td>15.61</td>\n",
       "      <td>10.93</td>\n",
       "      <td>3.28</td>\n",
       "      <td>2.95</td>\n",
       "      <td>80.0</td>\n",
       "      <td>8</td>\n",
       "      <td>E</td>\n",
       "    </tr>\n",
       "    <tr>\n",
       "      <th>4</th>\n",
       "      <td>Pokemon Red/Pokemon Blue</td>\n",
       "      <td>GB</td>\n",
       "      <td>1996.0</td>\n",
       "      <td>Role-Playing</td>\n",
       "      <td>11.27</td>\n",
       "      <td>8.89</td>\n",
       "      <td>10.22</td>\n",
       "      <td>1.00</td>\n",
       "      <td>NaN</td>\n",
       "      <td>NaN</td>\n",
       "      <td>NaN</td>\n",
       "    </tr>\n",
       "  </tbody>\n",
       "</table>\n",
       "</div>"
      ],
      "text/plain": [
       "                       Name Platform  Year_of_Release         Genre  NA_sales  \\\n",
       "0                Wii Sports      Wii           2006.0        Sports     41.36   \n",
       "1         Super Mario Bros.      NES           1985.0      Platform     29.08   \n",
       "2            Mario Kart Wii      Wii           2008.0        Racing     15.68   \n",
       "3         Wii Sports Resort      Wii           2009.0        Sports     15.61   \n",
       "4  Pokemon Red/Pokemon Blue       GB           1996.0  Role-Playing     11.27   \n",
       "\n",
       "   EU_sales  JP_sales  Other_sales  Critic_Score User_Score Rating  \n",
       "0     28.96      3.77         8.45          76.0          8      E  \n",
       "1      3.58      6.81         0.77           NaN        NaN    NaN  \n",
       "2     12.76      3.79         3.29          82.0        8.3      E  \n",
       "3     10.93      3.28         2.95          80.0          8      E  \n",
       "4      8.89     10.22         1.00           NaN        NaN    NaN  "
      ]
     },
     "execution_count": 258,
     "metadata": {},
     "output_type": "execute_result"
    }
   ],
   "source": [
    "data.head()"
   ]
  },
  {
   "cell_type": "code",
   "execution_count": 259,
   "metadata": {},
   "outputs": [
    {
     "data": {
      "text/html": [
       "<div>\n",
       "<style scoped>\n",
       "    .dataframe tbody tr th:only-of-type {\n",
       "        vertical-align: middle;\n",
       "    }\n",
       "\n",
       "    .dataframe tbody tr th {\n",
       "        vertical-align: top;\n",
       "    }\n",
       "\n",
       "    .dataframe thead th {\n",
       "        text-align: right;\n",
       "    }\n",
       "</style>\n",
       "<table border=\"1\" class=\"dataframe\">\n",
       "  <thead>\n",
       "    <tr style=\"text-align: right;\">\n",
       "      <th></th>\n",
       "      <th>Year_of_Release</th>\n",
       "      <th>NA_sales</th>\n",
       "      <th>EU_sales</th>\n",
       "      <th>JP_sales</th>\n",
       "      <th>Other_sales</th>\n",
       "      <th>Critic_Score</th>\n",
       "    </tr>\n",
       "  </thead>\n",
       "  <tbody>\n",
       "    <tr>\n",
       "      <th>count</th>\n",
       "      <td>16446.000000</td>\n",
       "      <td>16715.000000</td>\n",
       "      <td>16715.000000</td>\n",
       "      <td>16715.000000</td>\n",
       "      <td>16715.000000</td>\n",
       "      <td>8137.000000</td>\n",
       "    </tr>\n",
       "    <tr>\n",
       "      <th>mean</th>\n",
       "      <td>2006.484616</td>\n",
       "      <td>0.263377</td>\n",
       "      <td>0.145060</td>\n",
       "      <td>0.077617</td>\n",
       "      <td>0.047342</td>\n",
       "      <td>68.967679</td>\n",
       "    </tr>\n",
       "    <tr>\n",
       "      <th>std</th>\n",
       "      <td>5.877050</td>\n",
       "      <td>0.813604</td>\n",
       "      <td>0.503339</td>\n",
       "      <td>0.308853</td>\n",
       "      <td>0.186731</td>\n",
       "      <td>13.938165</td>\n",
       "    </tr>\n",
       "    <tr>\n",
       "      <th>min</th>\n",
       "      <td>1980.000000</td>\n",
       "      <td>0.000000</td>\n",
       "      <td>0.000000</td>\n",
       "      <td>0.000000</td>\n",
       "      <td>0.000000</td>\n",
       "      <td>13.000000</td>\n",
       "    </tr>\n",
       "    <tr>\n",
       "      <th>25%</th>\n",
       "      <td>2003.000000</td>\n",
       "      <td>0.000000</td>\n",
       "      <td>0.000000</td>\n",
       "      <td>0.000000</td>\n",
       "      <td>0.000000</td>\n",
       "      <td>60.000000</td>\n",
       "    </tr>\n",
       "    <tr>\n",
       "      <th>50%</th>\n",
       "      <td>2007.000000</td>\n",
       "      <td>0.080000</td>\n",
       "      <td>0.020000</td>\n",
       "      <td>0.000000</td>\n",
       "      <td>0.010000</td>\n",
       "      <td>71.000000</td>\n",
       "    </tr>\n",
       "    <tr>\n",
       "      <th>75%</th>\n",
       "      <td>2010.000000</td>\n",
       "      <td>0.240000</td>\n",
       "      <td>0.110000</td>\n",
       "      <td>0.040000</td>\n",
       "      <td>0.030000</td>\n",
       "      <td>79.000000</td>\n",
       "    </tr>\n",
       "    <tr>\n",
       "      <th>max</th>\n",
       "      <td>2016.000000</td>\n",
       "      <td>41.360000</td>\n",
       "      <td>28.960000</td>\n",
       "      <td>10.220000</td>\n",
       "      <td>10.570000</td>\n",
       "      <td>98.000000</td>\n",
       "    </tr>\n",
       "  </tbody>\n",
       "</table>\n",
       "</div>"
      ],
      "text/plain": [
       "       Year_of_Release      NA_sales      EU_sales      JP_sales  \\\n",
       "count     16446.000000  16715.000000  16715.000000  16715.000000   \n",
       "mean       2006.484616      0.263377      0.145060      0.077617   \n",
       "std           5.877050      0.813604      0.503339      0.308853   \n",
       "min        1980.000000      0.000000      0.000000      0.000000   \n",
       "25%        2003.000000      0.000000      0.000000      0.000000   \n",
       "50%        2007.000000      0.080000      0.020000      0.000000   \n",
       "75%        2010.000000      0.240000      0.110000      0.040000   \n",
       "max        2016.000000     41.360000     28.960000     10.220000   \n",
       "\n",
       "        Other_sales  Critic_Score  \n",
       "count  16715.000000   8137.000000  \n",
       "mean       0.047342     68.967679  \n",
       "std        0.186731     13.938165  \n",
       "min        0.000000     13.000000  \n",
       "25%        0.000000     60.000000  \n",
       "50%        0.010000     71.000000  \n",
       "75%        0.030000     79.000000  \n",
       "max       10.570000     98.000000  "
      ]
     },
     "execution_count": 259,
     "metadata": {},
     "output_type": "execute_result"
    }
   ],
   "source": [
    "data.describe()"
   ]
  },
  {
   "cell_type": "markdown",
   "metadata": {},
   "source": [
    "<div class=\"alert alert-info\">\n",
    "<b></b>\n",
    "вывод:\n",
    "    1. подгрузил нужные библиотеки\n",
    "    2. прочитал файл, озакомилс в какомм виде эти данные представлены\n",
    "    3. основной вывод будет ниже, сейчас стоит отметить наличие пропусков, типы переменных количественные и качественные\n",
    "    4. тип данных года - число, а не dt\n",
    "    5. выяснил количество и название столбцов, тип данных\n",
    "    6. в колонках где представлены числа - какие минимальные и максимальные значения, особенно это важно для оценок и года\n",
    "</div>"
   ]
  },
  {
   "cell_type": "markdown",
   "metadata": {},
   "source": [
    "# 2. Обработка данных"
   ]
  },
  {
   "cell_type": "markdown",
   "metadata": {},
   "source": [
    "# 2.1 Поиск и узучение  пропущенных значения в столбцах:"
   ]
  },
  {
   "cell_type": "code",
   "execution_count": 261,
   "metadata": {},
   "outputs": [],
   "source": [
    "#перевожу наименования столбцов в нижний регистр\n",
    "data.columns = data.columns.str.lower()"
   ]
  },
  {
   "cell_type": "code",
   "execution_count": 262,
   "metadata": {
    "scrolled": true
   },
   "outputs": [
    {
     "name": "stdout",
     "output_type": "stream",
     "text": [
      "<class 'pandas.core.frame.DataFrame'>\n",
      "RangeIndex: 16715 entries, 0 to 16714\n",
      "Data columns (total 11 columns):\n",
      " #   Column           Non-Null Count  Dtype  \n",
      "---  ------           --------------  -----  \n",
      " 0   name             16713 non-null  object \n",
      " 1   platform         16715 non-null  object \n",
      " 2   year_of_release  16446 non-null  float64\n",
      " 3   genre            16713 non-null  object \n",
      " 4   na_sales         16715 non-null  float64\n",
      " 5   eu_sales         16715 non-null  float64\n",
      " 6   jp_sales         16715 non-null  float64\n",
      " 7   other_sales      16715 non-null  float64\n",
      " 8   critic_score     8137 non-null   float64\n",
      " 9   user_score       10014 non-null  object \n",
      " 10  rating           9949 non-null   object \n",
      "dtypes: float64(6), object(5)\n",
      "memory usage: 1.4+ MB\n"
     ]
    }
   ],
   "source": [
    "#проверяю перевод в нижних регистр\n",
    "data.info()"
   ]
  },
  {
   "cell_type": "code",
   "execution_count": 263,
   "metadata": {},
   "outputs": [
    {
     "data": {
      "text/plain": [
       "array(['Wii Sports', 'Super Mario Bros.', 'Mario Kart Wii', ...,\n",
       "       'Woody Woodpecker in Crazy Castle 5', 'LMA Manager 2007',\n",
       "       'Haitaka no Psychedelica'], dtype=object)"
      ]
     },
     "execution_count": 263,
     "metadata": {},
     "output_type": "execute_result"
    }
   ],
   "source": [
    "#name\n",
    "\n",
    "data['name'].unique()\n"
   ]
  },
  {
   "cell_type": "code",
   "execution_count": 264,
   "metadata": {},
   "outputs": [
    {
     "data": {
      "text/html": [
       "<div>\n",
       "<style scoped>\n",
       "    .dataframe tbody tr th:only-of-type {\n",
       "        vertical-align: middle;\n",
       "    }\n",
       "\n",
       "    .dataframe tbody tr th {\n",
       "        vertical-align: top;\n",
       "    }\n",
       "\n",
       "    .dataframe thead th {\n",
       "        text-align: right;\n",
       "    }\n",
       "</style>\n",
       "<table border=\"1\" class=\"dataframe\">\n",
       "  <thead>\n",
       "    <tr style=\"text-align: right;\">\n",
       "      <th></th>\n",
       "      <th>name</th>\n",
       "      <th>platform</th>\n",
       "      <th>year_of_release</th>\n",
       "      <th>genre</th>\n",
       "      <th>na_sales</th>\n",
       "      <th>eu_sales</th>\n",
       "      <th>jp_sales</th>\n",
       "      <th>other_sales</th>\n",
       "      <th>critic_score</th>\n",
       "      <th>user_score</th>\n",
       "      <th>rating</th>\n",
       "    </tr>\n",
       "  </thead>\n",
       "  <tbody>\n",
       "    <tr>\n",
       "      <th>659</th>\n",
       "      <td>NaN</td>\n",
       "      <td>GEN</td>\n",
       "      <td>1993.0</td>\n",
       "      <td>NaN</td>\n",
       "      <td>1.78</td>\n",
       "      <td>0.53</td>\n",
       "      <td>0.00</td>\n",
       "      <td>0.08</td>\n",
       "      <td>NaN</td>\n",
       "      <td>NaN</td>\n",
       "      <td>NaN</td>\n",
       "    </tr>\n",
       "    <tr>\n",
       "      <th>14244</th>\n",
       "      <td>NaN</td>\n",
       "      <td>GEN</td>\n",
       "      <td>1993.0</td>\n",
       "      <td>NaN</td>\n",
       "      <td>0.00</td>\n",
       "      <td>0.00</td>\n",
       "      <td>0.03</td>\n",
       "      <td>0.00</td>\n",
       "      <td>NaN</td>\n",
       "      <td>NaN</td>\n",
       "      <td>NaN</td>\n",
       "    </tr>\n",
       "  </tbody>\n",
       "</table>\n",
       "</div>"
      ],
      "text/plain": [
       "      name platform  year_of_release genre  na_sales  eu_sales  jp_sales  \\\n",
       "659    NaN      GEN           1993.0   NaN      1.78      0.53      0.00   \n",
       "14244  NaN      GEN           1993.0   NaN      0.00      0.00      0.03   \n",
       "\n",
       "       other_sales  critic_score user_score rating  \n",
       "659           0.08           NaN        NaN    NaN  \n",
       "14244         0.00           NaN        NaN    NaN  "
      ]
     },
     "execution_count": 264,
     "metadata": {},
     "output_type": "execute_result"
    }
   ],
   "source": [
    "#проверяю количество пропусков в стобце name\n",
    "data[data['name'].isna()]"
   ]
  },
  {
   "cell_type": "code",
   "execution_count": 265,
   "metadata": {},
   "outputs": [
    {
     "data": {
      "text/plain": [
       "Need for Speed: Most Wanted             12\n",
       "FIFA 14                                  9\n",
       "LEGO Marvel Super Heroes                 9\n",
       "Ratatouille                              9\n",
       "Madden NFL 07                            9\n",
       "                                        ..\n",
       "Dragonseeds                              1\n",
       "Tottadoo! Yoiko no Mujintou Seikatsu     1\n",
       "Counter-Strike                           1\n",
       "Famista 64                               1\n",
       "Dynasty Warriors Vs                      1\n",
       "Name: name, Length: 11559, dtype: int64"
      ]
     },
     "execution_count": 265,
     "metadata": {},
     "output_type": "execute_result"
    }
   ],
   "source": [
    "#предпологаю что одни и те же названия игр встречаются в разных категориях и соответствнно дублируются в списке\n",
    "data['name'].value_counts()"
   ]
  },
  {
   "cell_type": "markdown",
   "metadata": {},
   "source": [
    "много дуюликатов по именам игр, взможно разные игры встречаются в разных жанрах, странах и прочих категориях, проверим по Need for Speed: Most Wanted "
   ]
  },
  {
   "cell_type": "code",
   "execution_count": 266,
   "metadata": {},
   "outputs": [
    {
     "data": {
      "text/html": [
       "<div>\n",
       "<style scoped>\n",
       "    .dataframe tbody tr th:only-of-type {\n",
       "        vertical-align: middle;\n",
       "    }\n",
       "\n",
       "    .dataframe tbody tr th {\n",
       "        vertical-align: top;\n",
       "    }\n",
       "\n",
       "    .dataframe thead th {\n",
       "        text-align: right;\n",
       "    }\n",
       "</style>\n",
       "<table border=\"1\" class=\"dataframe\">\n",
       "  <thead>\n",
       "    <tr style=\"text-align: right;\">\n",
       "      <th></th>\n",
       "      <th>name</th>\n",
       "      <th>platform</th>\n",
       "      <th>year_of_release</th>\n",
       "      <th>genre</th>\n",
       "      <th>na_sales</th>\n",
       "      <th>eu_sales</th>\n",
       "      <th>jp_sales</th>\n",
       "      <th>other_sales</th>\n",
       "      <th>critic_score</th>\n",
       "      <th>user_score</th>\n",
       "      <th>rating</th>\n",
       "    </tr>\n",
       "  </thead>\n",
       "  <tbody>\n",
       "    <tr>\n",
       "      <th>253</th>\n",
       "      <td>Need for Speed: Most Wanted</td>\n",
       "      <td>PS2</td>\n",
       "      <td>2005.0</td>\n",
       "      <td>Racing</td>\n",
       "      <td>2.03</td>\n",
       "      <td>1.79</td>\n",
       "      <td>0.08</td>\n",
       "      <td>0.47</td>\n",
       "      <td>82.0</td>\n",
       "      <td>9.1</td>\n",
       "      <td>T</td>\n",
       "    </tr>\n",
       "    <tr>\n",
       "      <th>523</th>\n",
       "      <td>Need for Speed: Most Wanted</td>\n",
       "      <td>PS3</td>\n",
       "      <td>2012.0</td>\n",
       "      <td>Racing</td>\n",
       "      <td>0.71</td>\n",
       "      <td>1.46</td>\n",
       "      <td>0.06</td>\n",
       "      <td>0.58</td>\n",
       "      <td>NaN</td>\n",
       "      <td>NaN</td>\n",
       "      <td>NaN</td>\n",
       "    </tr>\n",
       "    <tr>\n",
       "      <th>1190</th>\n",
       "      <td>Need for Speed: Most Wanted</td>\n",
       "      <td>X360</td>\n",
       "      <td>2012.0</td>\n",
       "      <td>Racing</td>\n",
       "      <td>0.62</td>\n",
       "      <td>0.78</td>\n",
       "      <td>0.01</td>\n",
       "      <td>0.15</td>\n",
       "      <td>83.0</td>\n",
       "      <td>8.5</td>\n",
       "      <td>T</td>\n",
       "    </tr>\n",
       "    <tr>\n",
       "      <th>1591</th>\n",
       "      <td>Need for Speed: Most Wanted</td>\n",
       "      <td>X360</td>\n",
       "      <td>2005.0</td>\n",
       "      <td>Racing</td>\n",
       "      <td>1.00</td>\n",
       "      <td>0.13</td>\n",
       "      <td>0.02</td>\n",
       "      <td>0.10</td>\n",
       "      <td>83.0</td>\n",
       "      <td>8.5</td>\n",
       "      <td>T</td>\n",
       "    </tr>\n",
       "    <tr>\n",
       "      <th>1998</th>\n",
       "      <td>Need for Speed: Most Wanted</td>\n",
       "      <td>XB</td>\n",
       "      <td>2005.0</td>\n",
       "      <td>Racing</td>\n",
       "      <td>0.53</td>\n",
       "      <td>0.46</td>\n",
       "      <td>0.00</td>\n",
       "      <td>0.05</td>\n",
       "      <td>83.0</td>\n",
       "      <td>8.8</td>\n",
       "      <td>T</td>\n",
       "    </tr>\n",
       "    <tr>\n",
       "      <th>2048</th>\n",
       "      <td>Need for Speed: Most Wanted</td>\n",
       "      <td>PSV</td>\n",
       "      <td>2012.0</td>\n",
       "      <td>Racing</td>\n",
       "      <td>0.33</td>\n",
       "      <td>0.45</td>\n",
       "      <td>0.01</td>\n",
       "      <td>0.22</td>\n",
       "      <td>NaN</td>\n",
       "      <td>NaN</td>\n",
       "      <td>NaN</td>\n",
       "    </tr>\n",
       "    <tr>\n",
       "      <th>3581</th>\n",
       "      <td>Need for Speed: Most Wanted</td>\n",
       "      <td>GC</td>\n",
       "      <td>2005.0</td>\n",
       "      <td>Racing</td>\n",
       "      <td>0.43</td>\n",
       "      <td>0.11</td>\n",
       "      <td>0.00</td>\n",
       "      <td>0.02</td>\n",
       "      <td>80.0</td>\n",
       "      <td>9.1</td>\n",
       "      <td>T</td>\n",
       "    </tr>\n",
       "    <tr>\n",
       "      <th>5972</th>\n",
       "      <td>Need for Speed: Most Wanted</td>\n",
       "      <td>PC</td>\n",
       "      <td>2005.0</td>\n",
       "      <td>Racing</td>\n",
       "      <td>0.02</td>\n",
       "      <td>0.23</td>\n",
       "      <td>0.00</td>\n",
       "      <td>0.04</td>\n",
       "      <td>82.0</td>\n",
       "      <td>8.5</td>\n",
       "      <td>T</td>\n",
       "    </tr>\n",
       "    <tr>\n",
       "      <th>6273</th>\n",
       "      <td>Need for Speed: Most Wanted</td>\n",
       "      <td>WiiU</td>\n",
       "      <td>2013.0</td>\n",
       "      <td>Racing</td>\n",
       "      <td>0.13</td>\n",
       "      <td>0.12</td>\n",
       "      <td>0.00</td>\n",
       "      <td>0.02</td>\n",
       "      <td>NaN</td>\n",
       "      <td>NaN</td>\n",
       "      <td>NaN</td>\n",
       "    </tr>\n",
       "    <tr>\n",
       "      <th>6410</th>\n",
       "      <td>Need for Speed: Most Wanted</td>\n",
       "      <td>DS</td>\n",
       "      <td>2005.0</td>\n",
       "      <td>Racing</td>\n",
       "      <td>0.24</td>\n",
       "      <td>0.01</td>\n",
       "      <td>0.00</td>\n",
       "      <td>0.02</td>\n",
       "      <td>45.0</td>\n",
       "      <td>6.1</td>\n",
       "      <td>E</td>\n",
       "    </tr>\n",
       "    <tr>\n",
       "      <th>6473</th>\n",
       "      <td>Need for Speed: Most Wanted</td>\n",
       "      <td>GBA</td>\n",
       "      <td>2005.0</td>\n",
       "      <td>Racing</td>\n",
       "      <td>0.19</td>\n",
       "      <td>0.07</td>\n",
       "      <td>0.00</td>\n",
       "      <td>0.00</td>\n",
       "      <td>NaN</td>\n",
       "      <td>8.3</td>\n",
       "      <td>E</td>\n",
       "    </tr>\n",
       "    <tr>\n",
       "      <th>11715</th>\n",
       "      <td>Need for Speed: Most Wanted</td>\n",
       "      <td>PC</td>\n",
       "      <td>2012.0</td>\n",
       "      <td>Racing</td>\n",
       "      <td>0.00</td>\n",
       "      <td>0.06</td>\n",
       "      <td>0.00</td>\n",
       "      <td>0.02</td>\n",
       "      <td>82.0</td>\n",
       "      <td>8.5</td>\n",
       "      <td>T</td>\n",
       "    </tr>\n",
       "  </tbody>\n",
       "</table>\n",
       "</div>"
      ],
      "text/plain": [
       "                              name platform  year_of_release   genre  \\\n",
       "253    Need for Speed: Most Wanted      PS2           2005.0  Racing   \n",
       "523    Need for Speed: Most Wanted      PS3           2012.0  Racing   \n",
       "1190   Need for Speed: Most Wanted     X360           2012.0  Racing   \n",
       "1591   Need for Speed: Most Wanted     X360           2005.0  Racing   \n",
       "1998   Need for Speed: Most Wanted       XB           2005.0  Racing   \n",
       "2048   Need for Speed: Most Wanted      PSV           2012.0  Racing   \n",
       "3581   Need for Speed: Most Wanted       GC           2005.0  Racing   \n",
       "5972   Need for Speed: Most Wanted       PC           2005.0  Racing   \n",
       "6273   Need for Speed: Most Wanted     WiiU           2013.0  Racing   \n",
       "6410   Need for Speed: Most Wanted       DS           2005.0  Racing   \n",
       "6473   Need for Speed: Most Wanted      GBA           2005.0  Racing   \n",
       "11715  Need for Speed: Most Wanted       PC           2012.0  Racing   \n",
       "\n",
       "       na_sales  eu_sales  jp_sales  other_sales  critic_score user_score  \\\n",
       "253        2.03      1.79      0.08         0.47          82.0        9.1   \n",
       "523        0.71      1.46      0.06         0.58           NaN        NaN   \n",
       "1190       0.62      0.78      0.01         0.15          83.0        8.5   \n",
       "1591       1.00      0.13      0.02         0.10          83.0        8.5   \n",
       "1998       0.53      0.46      0.00         0.05          83.0        8.8   \n",
       "2048       0.33      0.45      0.01         0.22           NaN        NaN   \n",
       "3581       0.43      0.11      0.00         0.02          80.0        9.1   \n",
       "5972       0.02      0.23      0.00         0.04          82.0        8.5   \n",
       "6273       0.13      0.12      0.00         0.02           NaN        NaN   \n",
       "6410       0.24      0.01      0.00         0.02          45.0        6.1   \n",
       "6473       0.19      0.07      0.00         0.00           NaN        8.3   \n",
       "11715      0.00      0.06      0.00         0.02          82.0        8.5   \n",
       "\n",
       "      rating  \n",
       "253        T  \n",
       "523      NaN  \n",
       "1190       T  \n",
       "1591       T  \n",
       "1998       T  \n",
       "2048     NaN  \n",
       "3581       T  \n",
       "5972       T  \n",
       "6273     NaN  \n",
       "6410       E  \n",
       "6473       E  \n",
       "11715      T  "
      ]
     },
     "execution_count": 266,
     "metadata": {},
     "output_type": "execute_result"
    }
   ],
   "source": [
    "#проверяю гипотезу на примере одной игры\n",
    "data[data['name']=='Need for Speed: Most Wanted']"
   ]
  },
  {
   "cell_type": "markdown",
   "metadata": {},
   "source": [
    "все верно, основное деление по платформе, году и стране"
   ]
  },
  {
   "cell_type": "code",
   "execution_count": 267,
   "metadata": {},
   "outputs": [
    {
     "data": {
      "text/plain": [
       "array(['Sports', 'Platform', 'Racing', 'Role-Playing', 'Puzzle', 'Misc',\n",
       "       'Shooter', 'Simulation', 'Action', 'Fighting', 'Adventure',\n",
       "       'Strategy', nan], dtype=object)"
      ]
     },
     "execution_count": 267,
     "metadata": {},
     "output_type": "execute_result"
    }
   ],
   "source": [
    "#genre\n",
    "\n",
    "#также в стандарте изучаю все уникальные значения, что бы понять количество и качество\n",
    "data['genre'].unique()"
   ]
  },
  {
   "cell_type": "code",
   "execution_count": 268,
   "metadata": {},
   "outputs": [
    {
     "data": {
      "text/html": [
       "<div>\n",
       "<style scoped>\n",
       "    .dataframe tbody tr th:only-of-type {\n",
       "        vertical-align: middle;\n",
       "    }\n",
       "\n",
       "    .dataframe tbody tr th {\n",
       "        vertical-align: top;\n",
       "    }\n",
       "\n",
       "    .dataframe thead th {\n",
       "        text-align: right;\n",
       "    }\n",
       "</style>\n",
       "<table border=\"1\" class=\"dataframe\">\n",
       "  <thead>\n",
       "    <tr style=\"text-align: right;\">\n",
       "      <th></th>\n",
       "      <th>name</th>\n",
       "      <th>platform</th>\n",
       "      <th>year_of_release</th>\n",
       "      <th>genre</th>\n",
       "      <th>na_sales</th>\n",
       "      <th>eu_sales</th>\n",
       "      <th>jp_sales</th>\n",
       "      <th>other_sales</th>\n",
       "      <th>critic_score</th>\n",
       "      <th>user_score</th>\n",
       "      <th>rating</th>\n",
       "    </tr>\n",
       "  </thead>\n",
       "  <tbody>\n",
       "    <tr>\n",
       "      <th>659</th>\n",
       "      <td>NaN</td>\n",
       "      <td>GEN</td>\n",
       "      <td>1993.0</td>\n",
       "      <td>NaN</td>\n",
       "      <td>1.78</td>\n",
       "      <td>0.53</td>\n",
       "      <td>0.00</td>\n",
       "      <td>0.08</td>\n",
       "      <td>NaN</td>\n",
       "      <td>NaN</td>\n",
       "      <td>NaN</td>\n",
       "    </tr>\n",
       "    <tr>\n",
       "      <th>14244</th>\n",
       "      <td>NaN</td>\n",
       "      <td>GEN</td>\n",
       "      <td>1993.0</td>\n",
       "      <td>NaN</td>\n",
       "      <td>0.00</td>\n",
       "      <td>0.00</td>\n",
       "      <td>0.03</td>\n",
       "      <td>0.00</td>\n",
       "      <td>NaN</td>\n",
       "      <td>NaN</td>\n",
       "      <td>NaN</td>\n",
       "    </tr>\n",
       "  </tbody>\n",
       "</table>\n",
       "</div>"
      ],
      "text/plain": [
       "      name platform  year_of_release genre  na_sales  eu_sales  jp_sales  \\\n",
       "659    NaN      GEN           1993.0   NaN      1.78      0.53      0.00   \n",
       "14244  NaN      GEN           1993.0   NaN      0.00      0.00      0.03   \n",
       "\n",
       "       other_sales  critic_score user_score rating  \n",
       "659           0.08           NaN        NaN    NaN  \n",
       "14244         0.00           NaN        NaN    NaN  "
      ]
     },
     "execution_count": 268,
     "metadata": {},
     "output_type": "execute_result"
    }
   ],
   "source": [
    "data[data['genre'].isna()]"
   ]
  },
  {
   "cell_type": "markdown",
   "metadata": {},
   "source": [
    "пропущенные значения genre и name  совпадают по строкам"
   ]
  },
  {
   "cell_type": "code",
   "execution_count": 269,
   "metadata": {},
   "outputs": [
    {
     "data": {
      "text/plain": [
       "array([2006., 1985., 2008., 2009., 1996., 1989., 1984., 2005., 1999.,\n",
       "       2007., 2010., 2013., 2004., 1990., 1988., 2002., 2001., 2011.,\n",
       "       1998., 2015., 2012., 2014., 1992., 1997., 1993., 1994., 1982.,\n",
       "       2016., 2003., 1986., 2000.,   nan, 1995., 1991., 1981., 1987.,\n",
       "       1980., 1983.])"
      ]
     },
     "execution_count": 269,
     "metadata": {},
     "output_type": "execute_result"
    }
   ],
   "source": [
    "#year_of_release\n",
    "\n",
    "data['year_of_release'].unique()"
   ]
  },
  {
   "cell_type": "code",
   "execution_count": 270,
   "metadata": {},
   "outputs": [
    {
     "data": {
      "text/html": [
       "<div>\n",
       "<style scoped>\n",
       "    .dataframe tbody tr th:only-of-type {\n",
       "        vertical-align: middle;\n",
       "    }\n",
       "\n",
       "    .dataframe tbody tr th {\n",
       "        vertical-align: top;\n",
       "    }\n",
       "\n",
       "    .dataframe thead th {\n",
       "        text-align: right;\n",
       "    }\n",
       "</style>\n",
       "<table border=\"1\" class=\"dataframe\">\n",
       "  <thead>\n",
       "    <tr style=\"text-align: right;\">\n",
       "      <th></th>\n",
       "      <th>name</th>\n",
       "      <th>platform</th>\n",
       "      <th>year_of_release</th>\n",
       "      <th>genre</th>\n",
       "      <th>na_sales</th>\n",
       "      <th>eu_sales</th>\n",
       "      <th>jp_sales</th>\n",
       "      <th>other_sales</th>\n",
       "      <th>critic_score</th>\n",
       "      <th>user_score</th>\n",
       "      <th>rating</th>\n",
       "    </tr>\n",
       "  </thead>\n",
       "  <tbody>\n",
       "    <tr>\n",
       "      <th>183</th>\n",
       "      <td>Madden NFL 2004</td>\n",
       "      <td>PS2</td>\n",
       "      <td>NaN</td>\n",
       "      <td>Sports</td>\n",
       "      <td>4.26</td>\n",
       "      <td>0.26</td>\n",
       "      <td>0.01</td>\n",
       "      <td>0.71</td>\n",
       "      <td>94.0</td>\n",
       "      <td>8.5</td>\n",
       "      <td>E</td>\n",
       "    </tr>\n",
       "    <tr>\n",
       "      <th>377</th>\n",
       "      <td>FIFA Soccer 2004</td>\n",
       "      <td>PS2</td>\n",
       "      <td>NaN</td>\n",
       "      <td>Sports</td>\n",
       "      <td>0.59</td>\n",
       "      <td>2.36</td>\n",
       "      <td>0.04</td>\n",
       "      <td>0.51</td>\n",
       "      <td>84.0</td>\n",
       "      <td>6.4</td>\n",
       "      <td>E</td>\n",
       "    </tr>\n",
       "    <tr>\n",
       "      <th>456</th>\n",
       "      <td>LEGO Batman: The Videogame</td>\n",
       "      <td>Wii</td>\n",
       "      <td>NaN</td>\n",
       "      <td>Action</td>\n",
       "      <td>1.80</td>\n",
       "      <td>0.97</td>\n",
       "      <td>0.00</td>\n",
       "      <td>0.29</td>\n",
       "      <td>74.0</td>\n",
       "      <td>7.9</td>\n",
       "      <td>E10+</td>\n",
       "    </tr>\n",
       "    <tr>\n",
       "      <th>475</th>\n",
       "      <td>wwe Smackdown vs. Raw 2006</td>\n",
       "      <td>PS2</td>\n",
       "      <td>NaN</td>\n",
       "      <td>Fighting</td>\n",
       "      <td>1.57</td>\n",
       "      <td>1.02</td>\n",
       "      <td>0.00</td>\n",
       "      <td>0.41</td>\n",
       "      <td>NaN</td>\n",
       "      <td>NaN</td>\n",
       "      <td>NaN</td>\n",
       "    </tr>\n",
       "    <tr>\n",
       "      <th>609</th>\n",
       "      <td>Space Invaders</td>\n",
       "      <td>2600</td>\n",
       "      <td>NaN</td>\n",
       "      <td>Shooter</td>\n",
       "      <td>2.36</td>\n",
       "      <td>0.14</td>\n",
       "      <td>0.00</td>\n",
       "      <td>0.03</td>\n",
       "      <td>NaN</td>\n",
       "      <td>NaN</td>\n",
       "      <td>NaN</td>\n",
       "    </tr>\n",
       "    <tr>\n",
       "      <th>...</th>\n",
       "      <td>...</td>\n",
       "      <td>...</td>\n",
       "      <td>...</td>\n",
       "      <td>...</td>\n",
       "      <td>...</td>\n",
       "      <td>...</td>\n",
       "      <td>...</td>\n",
       "      <td>...</td>\n",
       "      <td>...</td>\n",
       "      <td>...</td>\n",
       "      <td>...</td>\n",
       "    </tr>\n",
       "    <tr>\n",
       "      <th>16373</th>\n",
       "      <td>PDC World Championship Darts 2008</td>\n",
       "      <td>PSP</td>\n",
       "      <td>NaN</td>\n",
       "      <td>Sports</td>\n",
       "      <td>0.01</td>\n",
       "      <td>0.00</td>\n",
       "      <td>0.00</td>\n",
       "      <td>0.00</td>\n",
       "      <td>43.0</td>\n",
       "      <td>tbd</td>\n",
       "      <td>E10+</td>\n",
       "    </tr>\n",
       "    <tr>\n",
       "      <th>16405</th>\n",
       "      <td>Freaky Flyers</td>\n",
       "      <td>GC</td>\n",
       "      <td>NaN</td>\n",
       "      <td>Racing</td>\n",
       "      <td>0.01</td>\n",
       "      <td>0.00</td>\n",
       "      <td>0.00</td>\n",
       "      <td>0.00</td>\n",
       "      <td>69.0</td>\n",
       "      <td>6.5</td>\n",
       "      <td>T</td>\n",
       "    </tr>\n",
       "    <tr>\n",
       "      <th>16448</th>\n",
       "      <td>Inversion</td>\n",
       "      <td>PC</td>\n",
       "      <td>NaN</td>\n",
       "      <td>Shooter</td>\n",
       "      <td>0.01</td>\n",
       "      <td>0.00</td>\n",
       "      <td>0.00</td>\n",
       "      <td>0.00</td>\n",
       "      <td>59.0</td>\n",
       "      <td>6.7</td>\n",
       "      <td>M</td>\n",
       "    </tr>\n",
       "    <tr>\n",
       "      <th>16458</th>\n",
       "      <td>Hakuouki: Shinsengumi Kitan</td>\n",
       "      <td>PS3</td>\n",
       "      <td>NaN</td>\n",
       "      <td>Adventure</td>\n",
       "      <td>0.01</td>\n",
       "      <td>0.00</td>\n",
       "      <td>0.00</td>\n",
       "      <td>0.00</td>\n",
       "      <td>NaN</td>\n",
       "      <td>NaN</td>\n",
       "      <td>NaN</td>\n",
       "    </tr>\n",
       "    <tr>\n",
       "      <th>16522</th>\n",
       "      <td>Virtua Quest</td>\n",
       "      <td>GC</td>\n",
       "      <td>NaN</td>\n",
       "      <td>Role-Playing</td>\n",
       "      <td>0.01</td>\n",
       "      <td>0.00</td>\n",
       "      <td>0.00</td>\n",
       "      <td>0.00</td>\n",
       "      <td>55.0</td>\n",
       "      <td>5.5</td>\n",
       "      <td>T</td>\n",
       "    </tr>\n",
       "  </tbody>\n",
       "</table>\n",
       "<p>269 rows × 11 columns</p>\n",
       "</div>"
      ],
      "text/plain": [
       "                                    name platform  year_of_release  \\\n",
       "183                      Madden NFL 2004      PS2              NaN   \n",
       "377                     FIFA Soccer 2004      PS2              NaN   \n",
       "456           LEGO Batman: The Videogame      Wii              NaN   \n",
       "475           wwe Smackdown vs. Raw 2006      PS2              NaN   \n",
       "609                       Space Invaders     2600              NaN   \n",
       "...                                  ...      ...              ...   \n",
       "16373  PDC World Championship Darts 2008      PSP              NaN   \n",
       "16405                      Freaky Flyers       GC              NaN   \n",
       "16448                          Inversion       PC              NaN   \n",
       "16458        Hakuouki: Shinsengumi Kitan      PS3              NaN   \n",
       "16522                       Virtua Quest       GC              NaN   \n",
       "\n",
       "              genre  na_sales  eu_sales  jp_sales  other_sales  critic_score  \\\n",
       "183          Sports      4.26      0.26      0.01         0.71          94.0   \n",
       "377          Sports      0.59      2.36      0.04         0.51          84.0   \n",
       "456          Action      1.80      0.97      0.00         0.29          74.0   \n",
       "475        Fighting      1.57      1.02      0.00         0.41           NaN   \n",
       "609         Shooter      2.36      0.14      0.00         0.03           NaN   \n",
       "...             ...       ...       ...       ...          ...           ...   \n",
       "16373        Sports      0.01      0.00      0.00         0.00          43.0   \n",
       "16405        Racing      0.01      0.00      0.00         0.00          69.0   \n",
       "16448       Shooter      0.01      0.00      0.00         0.00          59.0   \n",
       "16458     Adventure      0.01      0.00      0.00         0.00           NaN   \n",
       "16522  Role-Playing      0.01      0.00      0.00         0.00          55.0   \n",
       "\n",
       "      user_score rating  \n",
       "183          8.5      E  \n",
       "377          6.4      E  \n",
       "456          7.9   E10+  \n",
       "475          NaN    NaN  \n",
       "609          NaN    NaN  \n",
       "...          ...    ...  \n",
       "16373        tbd   E10+  \n",
       "16405        6.5      T  \n",
       "16448        6.7      M  \n",
       "16458        NaN    NaN  \n",
       "16522        5.5      T  \n",
       "\n",
       "[269 rows x 11 columns]"
      ]
     },
     "execution_count": 270,
     "metadata": {},
     "output_type": "execute_result"
    }
   ],
   "source": [
    "data[data['year_of_release'].isna()]"
   ]
  },
  {
   "cell_type": "markdown",
   "metadata": {},
   "source": [
    "269 NAN"
   ]
  },
  {
   "cell_type": "code",
   "execution_count": 271,
   "metadata": {},
   "outputs": [
    {
     "data": {
      "text/plain": [
       "array([76., nan, 82., 80., 89., 58., 87., 91., 61., 97., 95., 77., 88.,\n",
       "       83., 94., 93., 85., 86., 98., 96., 90., 84., 73., 74., 78., 92.,\n",
       "       71., 72., 68., 62., 49., 67., 81., 66., 56., 79., 70., 59., 64.,\n",
       "       75., 60., 63., 69., 50., 25., 42., 44., 55., 48., 57., 29., 47.,\n",
       "       65., 54., 20., 53., 37., 38., 33., 52., 30., 32., 43., 45., 51.,\n",
       "       40., 46., 39., 34., 35., 41., 36., 28., 31., 27., 26., 19., 23.,\n",
       "       24., 21., 17., 22., 13.])"
      ]
     },
     "execution_count": 271,
     "metadata": {},
     "output_type": "execute_result"
    }
   ],
   "source": [
    "#critic_score\n",
    "\n",
    "data['critic_score'].unique()"
   ]
  },
  {
   "cell_type": "code",
   "execution_count": 272,
   "metadata": {},
   "outputs": [
    {
     "data": {
      "text/html": [
       "<div>\n",
       "<style scoped>\n",
       "    .dataframe tbody tr th:only-of-type {\n",
       "        vertical-align: middle;\n",
       "    }\n",
       "\n",
       "    .dataframe tbody tr th {\n",
       "        vertical-align: top;\n",
       "    }\n",
       "\n",
       "    .dataframe thead th {\n",
       "        text-align: right;\n",
       "    }\n",
       "</style>\n",
       "<table border=\"1\" class=\"dataframe\">\n",
       "  <thead>\n",
       "    <tr style=\"text-align: right;\">\n",
       "      <th></th>\n",
       "      <th>name</th>\n",
       "      <th>platform</th>\n",
       "      <th>year_of_release</th>\n",
       "      <th>genre</th>\n",
       "      <th>na_sales</th>\n",
       "      <th>eu_sales</th>\n",
       "      <th>jp_sales</th>\n",
       "      <th>other_sales</th>\n",
       "      <th>critic_score</th>\n",
       "      <th>user_score</th>\n",
       "      <th>rating</th>\n",
       "    </tr>\n",
       "  </thead>\n",
       "  <tbody>\n",
       "    <tr>\n",
       "      <th>1</th>\n",
       "      <td>Super Mario Bros.</td>\n",
       "      <td>NES</td>\n",
       "      <td>1985.0</td>\n",
       "      <td>Platform</td>\n",
       "      <td>29.08</td>\n",
       "      <td>3.58</td>\n",
       "      <td>6.81</td>\n",
       "      <td>0.77</td>\n",
       "      <td>NaN</td>\n",
       "      <td>NaN</td>\n",
       "      <td>NaN</td>\n",
       "    </tr>\n",
       "    <tr>\n",
       "      <th>4</th>\n",
       "      <td>Pokemon Red/Pokemon Blue</td>\n",
       "      <td>GB</td>\n",
       "      <td>1996.0</td>\n",
       "      <td>Role-Playing</td>\n",
       "      <td>11.27</td>\n",
       "      <td>8.89</td>\n",
       "      <td>10.22</td>\n",
       "      <td>1.00</td>\n",
       "      <td>NaN</td>\n",
       "      <td>NaN</td>\n",
       "      <td>NaN</td>\n",
       "    </tr>\n",
       "    <tr>\n",
       "      <th>5</th>\n",
       "      <td>Tetris</td>\n",
       "      <td>GB</td>\n",
       "      <td>1989.0</td>\n",
       "      <td>Puzzle</td>\n",
       "      <td>23.20</td>\n",
       "      <td>2.26</td>\n",
       "      <td>4.22</td>\n",
       "      <td>0.58</td>\n",
       "      <td>NaN</td>\n",
       "      <td>NaN</td>\n",
       "      <td>NaN</td>\n",
       "    </tr>\n",
       "    <tr>\n",
       "      <th>9</th>\n",
       "      <td>Duck Hunt</td>\n",
       "      <td>NES</td>\n",
       "      <td>1984.0</td>\n",
       "      <td>Shooter</td>\n",
       "      <td>26.93</td>\n",
       "      <td>0.63</td>\n",
       "      <td>0.28</td>\n",
       "      <td>0.47</td>\n",
       "      <td>NaN</td>\n",
       "      <td>NaN</td>\n",
       "      <td>NaN</td>\n",
       "    </tr>\n",
       "    <tr>\n",
       "      <th>10</th>\n",
       "      <td>Nintendogs</td>\n",
       "      <td>DS</td>\n",
       "      <td>2005.0</td>\n",
       "      <td>Simulation</td>\n",
       "      <td>9.05</td>\n",
       "      <td>10.95</td>\n",
       "      <td>1.93</td>\n",
       "      <td>2.74</td>\n",
       "      <td>NaN</td>\n",
       "      <td>NaN</td>\n",
       "      <td>NaN</td>\n",
       "    </tr>\n",
       "    <tr>\n",
       "      <th>...</th>\n",
       "      <td>...</td>\n",
       "      <td>...</td>\n",
       "      <td>...</td>\n",
       "      <td>...</td>\n",
       "      <td>...</td>\n",
       "      <td>...</td>\n",
       "      <td>...</td>\n",
       "      <td>...</td>\n",
       "      <td>...</td>\n",
       "      <td>...</td>\n",
       "      <td>...</td>\n",
       "    </tr>\n",
       "    <tr>\n",
       "      <th>16710</th>\n",
       "      <td>Samurai Warriors: Sanada Maru</td>\n",
       "      <td>PS3</td>\n",
       "      <td>2016.0</td>\n",
       "      <td>Action</td>\n",
       "      <td>0.00</td>\n",
       "      <td>0.00</td>\n",
       "      <td>0.01</td>\n",
       "      <td>0.00</td>\n",
       "      <td>NaN</td>\n",
       "      <td>NaN</td>\n",
       "      <td>NaN</td>\n",
       "    </tr>\n",
       "    <tr>\n",
       "      <th>16711</th>\n",
       "      <td>LMA Manager 2007</td>\n",
       "      <td>X360</td>\n",
       "      <td>2006.0</td>\n",
       "      <td>Sports</td>\n",
       "      <td>0.00</td>\n",
       "      <td>0.01</td>\n",
       "      <td>0.00</td>\n",
       "      <td>0.00</td>\n",
       "      <td>NaN</td>\n",
       "      <td>NaN</td>\n",
       "      <td>NaN</td>\n",
       "    </tr>\n",
       "    <tr>\n",
       "      <th>16712</th>\n",
       "      <td>Haitaka no Psychedelica</td>\n",
       "      <td>PSV</td>\n",
       "      <td>2016.0</td>\n",
       "      <td>Adventure</td>\n",
       "      <td>0.00</td>\n",
       "      <td>0.00</td>\n",
       "      <td>0.01</td>\n",
       "      <td>0.00</td>\n",
       "      <td>NaN</td>\n",
       "      <td>NaN</td>\n",
       "      <td>NaN</td>\n",
       "    </tr>\n",
       "    <tr>\n",
       "      <th>16713</th>\n",
       "      <td>Spirits &amp; Spells</td>\n",
       "      <td>GBA</td>\n",
       "      <td>2003.0</td>\n",
       "      <td>Platform</td>\n",
       "      <td>0.01</td>\n",
       "      <td>0.00</td>\n",
       "      <td>0.00</td>\n",
       "      <td>0.00</td>\n",
       "      <td>NaN</td>\n",
       "      <td>NaN</td>\n",
       "      <td>NaN</td>\n",
       "    </tr>\n",
       "    <tr>\n",
       "      <th>16714</th>\n",
       "      <td>Winning Post 8 2016</td>\n",
       "      <td>PSV</td>\n",
       "      <td>2016.0</td>\n",
       "      <td>Simulation</td>\n",
       "      <td>0.00</td>\n",
       "      <td>0.00</td>\n",
       "      <td>0.01</td>\n",
       "      <td>0.00</td>\n",
       "      <td>NaN</td>\n",
       "      <td>NaN</td>\n",
       "      <td>NaN</td>\n",
       "    </tr>\n",
       "  </tbody>\n",
       "</table>\n",
       "<p>8578 rows × 11 columns</p>\n",
       "</div>"
      ],
      "text/plain": [
       "                                name platform  year_of_release         genre  \\\n",
       "1                  Super Mario Bros.      NES           1985.0      Platform   \n",
       "4           Pokemon Red/Pokemon Blue       GB           1996.0  Role-Playing   \n",
       "5                             Tetris       GB           1989.0        Puzzle   \n",
       "9                          Duck Hunt      NES           1984.0       Shooter   \n",
       "10                        Nintendogs       DS           2005.0    Simulation   \n",
       "...                              ...      ...              ...           ...   \n",
       "16710  Samurai Warriors: Sanada Maru      PS3           2016.0        Action   \n",
       "16711               LMA Manager 2007     X360           2006.0        Sports   \n",
       "16712        Haitaka no Psychedelica      PSV           2016.0     Adventure   \n",
       "16713               Spirits & Spells      GBA           2003.0      Platform   \n",
       "16714            Winning Post 8 2016      PSV           2016.0    Simulation   \n",
       "\n",
       "       na_sales  eu_sales  jp_sales  other_sales  critic_score user_score  \\\n",
       "1         29.08      3.58      6.81         0.77           NaN        NaN   \n",
       "4         11.27      8.89     10.22         1.00           NaN        NaN   \n",
       "5         23.20      2.26      4.22         0.58           NaN        NaN   \n",
       "9         26.93      0.63      0.28         0.47           NaN        NaN   \n",
       "10         9.05     10.95      1.93         2.74           NaN        NaN   \n",
       "...         ...       ...       ...          ...           ...        ...   \n",
       "16710      0.00      0.00      0.01         0.00           NaN        NaN   \n",
       "16711      0.00      0.01      0.00         0.00           NaN        NaN   \n",
       "16712      0.00      0.00      0.01         0.00           NaN        NaN   \n",
       "16713      0.01      0.00      0.00         0.00           NaN        NaN   \n",
       "16714      0.00      0.00      0.01         0.00           NaN        NaN   \n",
       "\n",
       "      rating  \n",
       "1        NaN  \n",
       "4        NaN  \n",
       "5        NaN  \n",
       "9        NaN  \n",
       "10       NaN  \n",
       "...      ...  \n",
       "16710    NaN  \n",
       "16711    NaN  \n",
       "16712    NaN  \n",
       "16713    NaN  \n",
       "16714    NaN  \n",
       "\n",
       "[8578 rows x 11 columns]"
      ]
     },
     "execution_count": 272,
     "metadata": {},
     "output_type": "execute_result"
    }
   ],
   "source": [
    "data[data['critic_score'].isna()]"
   ]
  },
  {
   "cell_type": "markdown",
   "metadata": {},
   "source": [
    "8578 NAN"
   ]
  },
  {
   "cell_type": "code",
   "execution_count": 273,
   "metadata": {},
   "outputs": [
    {
     "data": {
      "text/plain": [
       "array(['8', nan, '8.3', '8.5', '6.6', '8.4', '8.6', '7.7', '6.3', '7.4',\n",
       "       '8.2', '9', '7.9', '8.1', '8.7', '7.1', '3.4', '5.3', '4.8', '3.2',\n",
       "       '8.9', '6.4', '7.8', '7.5', '2.6', '7.2', '9.2', '7', '7.3', '4.3',\n",
       "       '7.6', '5.7', '5', '9.1', '6.5', 'tbd', '8.8', '6.9', '9.4', '6.8',\n",
       "       '6.1', '6.7', '5.4', '4', '4.9', '4.5', '9.3', '6.2', '4.2', '6',\n",
       "       '3.7', '4.1', '5.8', '5.6', '5.5', '4.4', '4.6', '5.9', '3.9',\n",
       "       '3.1', '2.9', '5.2', '3.3', '4.7', '5.1', '3.5', '2.5', '1.9', '3',\n",
       "       '2.7', '2.2', '2', '9.5', '2.1', '3.6', '2.8', '1.8', '3.8', '0',\n",
       "       '1.6', '9.6', '2.4', '1.7', '1.1', '0.3', '1.5', '0.7', '1.2',\n",
       "       '2.3', '0.5', '1.3', '0.2', '0.6', '1.4', '0.9', '1', '9.7'],\n",
       "      dtype=object)"
      ]
     },
     "execution_count": 273,
     "metadata": {},
     "output_type": "execute_result"
    }
   ],
   "source": [
    "#user_score\n",
    "\n",
    "data['user_score'].unique()"
   ]
  },
  {
   "cell_type": "code",
   "execution_count": 274,
   "metadata": {},
   "outputs": [
    {
     "data": {
      "text/html": [
       "<div>\n",
       "<style scoped>\n",
       "    .dataframe tbody tr th:only-of-type {\n",
       "        vertical-align: middle;\n",
       "    }\n",
       "\n",
       "    .dataframe tbody tr th {\n",
       "        vertical-align: top;\n",
       "    }\n",
       "\n",
       "    .dataframe thead th {\n",
       "        text-align: right;\n",
       "    }\n",
       "</style>\n",
       "<table border=\"1\" class=\"dataframe\">\n",
       "  <thead>\n",
       "    <tr style=\"text-align: right;\">\n",
       "      <th></th>\n",
       "      <th>name</th>\n",
       "      <th>platform</th>\n",
       "      <th>year_of_release</th>\n",
       "      <th>genre</th>\n",
       "      <th>na_sales</th>\n",
       "      <th>eu_sales</th>\n",
       "      <th>jp_sales</th>\n",
       "      <th>other_sales</th>\n",
       "      <th>critic_score</th>\n",
       "      <th>user_score</th>\n",
       "      <th>rating</th>\n",
       "    </tr>\n",
       "  </thead>\n",
       "  <tbody>\n",
       "    <tr>\n",
       "      <th>119</th>\n",
       "      <td>Zumba Fitness</td>\n",
       "      <td>Wii</td>\n",
       "      <td>2010.0</td>\n",
       "      <td>Sports</td>\n",
       "      <td>3.45</td>\n",
       "      <td>2.59</td>\n",
       "      <td>0.0</td>\n",
       "      <td>0.66</td>\n",
       "      <td>NaN</td>\n",
       "      <td>tbd</td>\n",
       "      <td>E</td>\n",
       "    </tr>\n",
       "    <tr>\n",
       "      <th>301</th>\n",
       "      <td>Namco Museum: 50th Anniversary</td>\n",
       "      <td>PS2</td>\n",
       "      <td>2005.0</td>\n",
       "      <td>Misc</td>\n",
       "      <td>2.08</td>\n",
       "      <td>1.35</td>\n",
       "      <td>0.0</td>\n",
       "      <td>0.54</td>\n",
       "      <td>61.0</td>\n",
       "      <td>tbd</td>\n",
       "      <td>E10+</td>\n",
       "    </tr>\n",
       "    <tr>\n",
       "      <th>520</th>\n",
       "      <td>Zumba Fitness 2</td>\n",
       "      <td>Wii</td>\n",
       "      <td>2011.0</td>\n",
       "      <td>Sports</td>\n",
       "      <td>1.51</td>\n",
       "      <td>1.03</td>\n",
       "      <td>0.0</td>\n",
       "      <td>0.27</td>\n",
       "      <td>NaN</td>\n",
       "      <td>tbd</td>\n",
       "      <td>T</td>\n",
       "    </tr>\n",
       "    <tr>\n",
       "      <th>645</th>\n",
       "      <td>uDraw Studio</td>\n",
       "      <td>Wii</td>\n",
       "      <td>2010.0</td>\n",
       "      <td>Misc</td>\n",
       "      <td>1.65</td>\n",
       "      <td>0.57</td>\n",
       "      <td>0.0</td>\n",
       "      <td>0.20</td>\n",
       "      <td>71.0</td>\n",
       "      <td>tbd</td>\n",
       "      <td>E</td>\n",
       "    </tr>\n",
       "    <tr>\n",
       "      <th>657</th>\n",
       "      <td>Frogger's Adventures: Temple of the Frog</td>\n",
       "      <td>GBA</td>\n",
       "      <td>NaN</td>\n",
       "      <td>Adventure</td>\n",
       "      <td>2.15</td>\n",
       "      <td>0.18</td>\n",
       "      <td>0.0</td>\n",
       "      <td>0.07</td>\n",
       "      <td>73.0</td>\n",
       "      <td>tbd</td>\n",
       "      <td>E</td>\n",
       "    </tr>\n",
       "    <tr>\n",
       "      <th>...</th>\n",
       "      <td>...</td>\n",
       "      <td>...</td>\n",
       "      <td>...</td>\n",
       "      <td>...</td>\n",
       "      <td>...</td>\n",
       "      <td>...</td>\n",
       "      <td>...</td>\n",
       "      <td>...</td>\n",
       "      <td>...</td>\n",
       "      <td>...</td>\n",
       "      <td>...</td>\n",
       "    </tr>\n",
       "    <tr>\n",
       "      <th>16695</th>\n",
       "      <td>Planet Monsters</td>\n",
       "      <td>GBA</td>\n",
       "      <td>2001.0</td>\n",
       "      <td>Action</td>\n",
       "      <td>0.01</td>\n",
       "      <td>0.00</td>\n",
       "      <td>0.0</td>\n",
       "      <td>0.00</td>\n",
       "      <td>67.0</td>\n",
       "      <td>tbd</td>\n",
       "      <td>E</td>\n",
       "    </tr>\n",
       "    <tr>\n",
       "      <th>16697</th>\n",
       "      <td>Bust-A-Move 3000</td>\n",
       "      <td>GC</td>\n",
       "      <td>2003.0</td>\n",
       "      <td>Puzzle</td>\n",
       "      <td>0.01</td>\n",
       "      <td>0.00</td>\n",
       "      <td>0.0</td>\n",
       "      <td>0.00</td>\n",
       "      <td>53.0</td>\n",
       "      <td>tbd</td>\n",
       "      <td>E</td>\n",
       "    </tr>\n",
       "    <tr>\n",
       "      <th>16698</th>\n",
       "      <td>Mega Brain Boost</td>\n",
       "      <td>DS</td>\n",
       "      <td>2008.0</td>\n",
       "      <td>Puzzle</td>\n",
       "      <td>0.01</td>\n",
       "      <td>0.00</td>\n",
       "      <td>0.0</td>\n",
       "      <td>0.00</td>\n",
       "      <td>48.0</td>\n",
       "      <td>tbd</td>\n",
       "      <td>E</td>\n",
       "    </tr>\n",
       "    <tr>\n",
       "      <th>16704</th>\n",
       "      <td>Plushees</td>\n",
       "      <td>DS</td>\n",
       "      <td>2008.0</td>\n",
       "      <td>Simulation</td>\n",
       "      <td>0.01</td>\n",
       "      <td>0.00</td>\n",
       "      <td>0.0</td>\n",
       "      <td>0.00</td>\n",
       "      <td>NaN</td>\n",
       "      <td>tbd</td>\n",
       "      <td>E</td>\n",
       "    </tr>\n",
       "    <tr>\n",
       "      <th>16706</th>\n",
       "      <td>Men in Black II: Alien Escape</td>\n",
       "      <td>GC</td>\n",
       "      <td>2003.0</td>\n",
       "      <td>Shooter</td>\n",
       "      <td>0.01</td>\n",
       "      <td>0.00</td>\n",
       "      <td>0.0</td>\n",
       "      <td>0.00</td>\n",
       "      <td>NaN</td>\n",
       "      <td>tbd</td>\n",
       "      <td>T</td>\n",
       "    </tr>\n",
       "  </tbody>\n",
       "</table>\n",
       "<p>2424 rows × 11 columns</p>\n",
       "</div>"
      ],
      "text/plain": [
       "                                           name platform  year_of_release  \\\n",
       "119                               Zumba Fitness      Wii           2010.0   \n",
       "301              Namco Museum: 50th Anniversary      PS2           2005.0   \n",
       "520                             Zumba Fitness 2      Wii           2011.0   \n",
       "645                                uDraw Studio      Wii           2010.0   \n",
       "657    Frogger's Adventures: Temple of the Frog      GBA              NaN   \n",
       "...                                         ...      ...              ...   \n",
       "16695                           Planet Monsters      GBA           2001.0   \n",
       "16697                          Bust-A-Move 3000       GC           2003.0   \n",
       "16698                          Mega Brain Boost       DS           2008.0   \n",
       "16704                                  Plushees       DS           2008.0   \n",
       "16706             Men in Black II: Alien Escape       GC           2003.0   \n",
       "\n",
       "            genre  na_sales  eu_sales  jp_sales  other_sales  critic_score  \\\n",
       "119        Sports      3.45      2.59       0.0         0.66           NaN   \n",
       "301          Misc      2.08      1.35       0.0         0.54          61.0   \n",
       "520        Sports      1.51      1.03       0.0         0.27           NaN   \n",
       "645          Misc      1.65      0.57       0.0         0.20          71.0   \n",
       "657     Adventure      2.15      0.18       0.0         0.07          73.0   \n",
       "...           ...       ...       ...       ...          ...           ...   \n",
       "16695      Action      0.01      0.00       0.0         0.00          67.0   \n",
       "16697      Puzzle      0.01      0.00       0.0         0.00          53.0   \n",
       "16698      Puzzle      0.01      0.00       0.0         0.00          48.0   \n",
       "16704  Simulation      0.01      0.00       0.0         0.00           NaN   \n",
       "16706     Shooter      0.01      0.00       0.0         0.00           NaN   \n",
       "\n",
       "      user_score rating  \n",
       "119          tbd      E  \n",
       "301          tbd   E10+  \n",
       "520          tbd      T  \n",
       "645          tbd      E  \n",
       "657          tbd      E  \n",
       "...          ...    ...  \n",
       "16695        tbd      E  \n",
       "16697        tbd      E  \n",
       "16698        tbd      E  \n",
       "16704        tbd      E  \n",
       "16706        tbd      T  \n",
       "\n",
       "[2424 rows x 11 columns]"
      ]
     },
     "execution_count": 274,
     "metadata": {},
     "output_type": "execute_result"
    }
   ],
   "source": [
    "#в данных столбца оценки игроков есть аномалия в виде tbd, смотрю как это выглядит в таблице, есть ли какие то закономерности\n",
    "data[data['user_score'] == 'tbd']"
   ]
  },
  {
   "cell_type": "markdown",
   "metadata": {},
   "source": [
    "2424 tbd, явных закономерностей по наличию tbd  не вижу"
   ]
  },
  {
   "cell_type": "code",
   "execution_count": 275,
   "metadata": {},
   "outputs": [
    {
     "data": {
      "text/html": [
       "<div>\n",
       "<style scoped>\n",
       "    .dataframe tbody tr th:only-of-type {\n",
       "        vertical-align: middle;\n",
       "    }\n",
       "\n",
       "    .dataframe tbody tr th {\n",
       "        vertical-align: top;\n",
       "    }\n",
       "\n",
       "    .dataframe thead th {\n",
       "        text-align: right;\n",
       "    }\n",
       "</style>\n",
       "<table border=\"1\" class=\"dataframe\">\n",
       "  <thead>\n",
       "    <tr style=\"text-align: right;\">\n",
       "      <th></th>\n",
       "      <th>name</th>\n",
       "      <th>platform</th>\n",
       "      <th>year_of_release</th>\n",
       "      <th>genre</th>\n",
       "      <th>na_sales</th>\n",
       "      <th>eu_sales</th>\n",
       "      <th>jp_sales</th>\n",
       "      <th>other_sales</th>\n",
       "      <th>critic_score</th>\n",
       "      <th>user_score</th>\n",
       "      <th>rating</th>\n",
       "    </tr>\n",
       "  </thead>\n",
       "  <tbody>\n",
       "    <tr>\n",
       "      <th>1</th>\n",
       "      <td>Super Mario Bros.</td>\n",
       "      <td>NES</td>\n",
       "      <td>1985.0</td>\n",
       "      <td>Platform</td>\n",
       "      <td>29.08</td>\n",
       "      <td>3.58</td>\n",
       "      <td>6.81</td>\n",
       "      <td>0.77</td>\n",
       "      <td>NaN</td>\n",
       "      <td>NaN</td>\n",
       "      <td>NaN</td>\n",
       "    </tr>\n",
       "    <tr>\n",
       "      <th>4</th>\n",
       "      <td>Pokemon Red/Pokemon Blue</td>\n",
       "      <td>GB</td>\n",
       "      <td>1996.0</td>\n",
       "      <td>Role-Playing</td>\n",
       "      <td>11.27</td>\n",
       "      <td>8.89</td>\n",
       "      <td>10.22</td>\n",
       "      <td>1.00</td>\n",
       "      <td>NaN</td>\n",
       "      <td>NaN</td>\n",
       "      <td>NaN</td>\n",
       "    </tr>\n",
       "    <tr>\n",
       "      <th>5</th>\n",
       "      <td>Tetris</td>\n",
       "      <td>GB</td>\n",
       "      <td>1989.0</td>\n",
       "      <td>Puzzle</td>\n",
       "      <td>23.20</td>\n",
       "      <td>2.26</td>\n",
       "      <td>4.22</td>\n",
       "      <td>0.58</td>\n",
       "      <td>NaN</td>\n",
       "      <td>NaN</td>\n",
       "      <td>NaN</td>\n",
       "    </tr>\n",
       "    <tr>\n",
       "      <th>9</th>\n",
       "      <td>Duck Hunt</td>\n",
       "      <td>NES</td>\n",
       "      <td>1984.0</td>\n",
       "      <td>Shooter</td>\n",
       "      <td>26.93</td>\n",
       "      <td>0.63</td>\n",
       "      <td>0.28</td>\n",
       "      <td>0.47</td>\n",
       "      <td>NaN</td>\n",
       "      <td>NaN</td>\n",
       "      <td>NaN</td>\n",
       "    </tr>\n",
       "    <tr>\n",
       "      <th>10</th>\n",
       "      <td>Nintendogs</td>\n",
       "      <td>DS</td>\n",
       "      <td>2005.0</td>\n",
       "      <td>Simulation</td>\n",
       "      <td>9.05</td>\n",
       "      <td>10.95</td>\n",
       "      <td>1.93</td>\n",
       "      <td>2.74</td>\n",
       "      <td>NaN</td>\n",
       "      <td>NaN</td>\n",
       "      <td>NaN</td>\n",
       "    </tr>\n",
       "    <tr>\n",
       "      <th>...</th>\n",
       "      <td>...</td>\n",
       "      <td>...</td>\n",
       "      <td>...</td>\n",
       "      <td>...</td>\n",
       "      <td>...</td>\n",
       "      <td>...</td>\n",
       "      <td>...</td>\n",
       "      <td>...</td>\n",
       "      <td>...</td>\n",
       "      <td>...</td>\n",
       "      <td>...</td>\n",
       "    </tr>\n",
       "    <tr>\n",
       "      <th>16710</th>\n",
       "      <td>Samurai Warriors: Sanada Maru</td>\n",
       "      <td>PS3</td>\n",
       "      <td>2016.0</td>\n",
       "      <td>Action</td>\n",
       "      <td>0.00</td>\n",
       "      <td>0.00</td>\n",
       "      <td>0.01</td>\n",
       "      <td>0.00</td>\n",
       "      <td>NaN</td>\n",
       "      <td>NaN</td>\n",
       "      <td>NaN</td>\n",
       "    </tr>\n",
       "    <tr>\n",
       "      <th>16711</th>\n",
       "      <td>LMA Manager 2007</td>\n",
       "      <td>X360</td>\n",
       "      <td>2006.0</td>\n",
       "      <td>Sports</td>\n",
       "      <td>0.00</td>\n",
       "      <td>0.01</td>\n",
       "      <td>0.00</td>\n",
       "      <td>0.00</td>\n",
       "      <td>NaN</td>\n",
       "      <td>NaN</td>\n",
       "      <td>NaN</td>\n",
       "    </tr>\n",
       "    <tr>\n",
       "      <th>16712</th>\n",
       "      <td>Haitaka no Psychedelica</td>\n",
       "      <td>PSV</td>\n",
       "      <td>2016.0</td>\n",
       "      <td>Adventure</td>\n",
       "      <td>0.00</td>\n",
       "      <td>0.00</td>\n",
       "      <td>0.01</td>\n",
       "      <td>0.00</td>\n",
       "      <td>NaN</td>\n",
       "      <td>NaN</td>\n",
       "      <td>NaN</td>\n",
       "    </tr>\n",
       "    <tr>\n",
       "      <th>16713</th>\n",
       "      <td>Spirits &amp; Spells</td>\n",
       "      <td>GBA</td>\n",
       "      <td>2003.0</td>\n",
       "      <td>Platform</td>\n",
       "      <td>0.01</td>\n",
       "      <td>0.00</td>\n",
       "      <td>0.00</td>\n",
       "      <td>0.00</td>\n",
       "      <td>NaN</td>\n",
       "      <td>NaN</td>\n",
       "      <td>NaN</td>\n",
       "    </tr>\n",
       "    <tr>\n",
       "      <th>16714</th>\n",
       "      <td>Winning Post 8 2016</td>\n",
       "      <td>PSV</td>\n",
       "      <td>2016.0</td>\n",
       "      <td>Simulation</td>\n",
       "      <td>0.00</td>\n",
       "      <td>0.00</td>\n",
       "      <td>0.01</td>\n",
       "      <td>0.00</td>\n",
       "      <td>NaN</td>\n",
       "      <td>NaN</td>\n",
       "      <td>NaN</td>\n",
       "    </tr>\n",
       "  </tbody>\n",
       "</table>\n",
       "<p>6701 rows × 11 columns</p>\n",
       "</div>"
      ],
      "text/plain": [
       "                                name platform  year_of_release         genre  \\\n",
       "1                  Super Mario Bros.      NES           1985.0      Platform   \n",
       "4           Pokemon Red/Pokemon Blue       GB           1996.0  Role-Playing   \n",
       "5                             Tetris       GB           1989.0        Puzzle   \n",
       "9                          Duck Hunt      NES           1984.0       Shooter   \n",
       "10                        Nintendogs       DS           2005.0    Simulation   \n",
       "...                              ...      ...              ...           ...   \n",
       "16710  Samurai Warriors: Sanada Maru      PS3           2016.0        Action   \n",
       "16711               LMA Manager 2007     X360           2006.0        Sports   \n",
       "16712        Haitaka no Psychedelica      PSV           2016.0     Adventure   \n",
       "16713               Spirits & Spells      GBA           2003.0      Platform   \n",
       "16714            Winning Post 8 2016      PSV           2016.0    Simulation   \n",
       "\n",
       "       na_sales  eu_sales  jp_sales  other_sales  critic_score user_score  \\\n",
       "1         29.08      3.58      6.81         0.77           NaN        NaN   \n",
       "4         11.27      8.89     10.22         1.00           NaN        NaN   \n",
       "5         23.20      2.26      4.22         0.58           NaN        NaN   \n",
       "9         26.93      0.63      0.28         0.47           NaN        NaN   \n",
       "10         9.05     10.95      1.93         2.74           NaN        NaN   \n",
       "...         ...       ...       ...          ...           ...        ...   \n",
       "16710      0.00      0.00      0.01         0.00           NaN        NaN   \n",
       "16711      0.00      0.01      0.00         0.00           NaN        NaN   \n",
       "16712      0.00      0.00      0.01         0.00           NaN        NaN   \n",
       "16713      0.01      0.00      0.00         0.00           NaN        NaN   \n",
       "16714      0.00      0.00      0.01         0.00           NaN        NaN   \n",
       "\n",
       "      rating  \n",
       "1        NaN  \n",
       "4        NaN  \n",
       "5        NaN  \n",
       "9        NaN  \n",
       "10       NaN  \n",
       "...      ...  \n",
       "16710    NaN  \n",
       "16711    NaN  \n",
       "16712    NaN  \n",
       "16713    NaN  \n",
       "16714    NaN  \n",
       "\n",
       "[6701 rows x 11 columns]"
      ]
     },
     "execution_count": 275,
     "metadata": {},
     "output_type": "execute_result"
    }
   ],
   "source": [
    "data[data['user_score'].isna()]"
   ]
  },
  {
   "cell_type": "markdown",
   "metadata": {},
   "source": [
    "6701 NAN"
   ]
  },
  {
   "cell_type": "code",
   "execution_count": 276,
   "metadata": {},
   "outputs": [
    {
     "data": {
      "text/plain": [
       "array(['E', nan, 'M', 'T', 'E10+', 'K-A', 'AO', 'EC', 'RP'], dtype=object)"
      ]
     },
     "execution_count": 276,
     "metadata": {},
     "output_type": "execute_result"
    }
   ],
   "source": [
    "#rating\n",
    "\n",
    "data['rating'].unique()"
   ]
  },
  {
   "cell_type": "code",
   "execution_count": 277,
   "metadata": {},
   "outputs": [
    {
     "data": {
      "text/html": [
       "<div>\n",
       "<style scoped>\n",
       "    .dataframe tbody tr th:only-of-type {\n",
       "        vertical-align: middle;\n",
       "    }\n",
       "\n",
       "    .dataframe tbody tr th {\n",
       "        vertical-align: top;\n",
       "    }\n",
       "\n",
       "    .dataframe thead th {\n",
       "        text-align: right;\n",
       "    }\n",
       "</style>\n",
       "<table border=\"1\" class=\"dataframe\">\n",
       "  <thead>\n",
       "    <tr style=\"text-align: right;\">\n",
       "      <th></th>\n",
       "      <th>name</th>\n",
       "      <th>platform</th>\n",
       "      <th>year_of_release</th>\n",
       "      <th>genre</th>\n",
       "      <th>na_sales</th>\n",
       "      <th>eu_sales</th>\n",
       "      <th>jp_sales</th>\n",
       "      <th>other_sales</th>\n",
       "      <th>critic_score</th>\n",
       "      <th>user_score</th>\n",
       "      <th>rating</th>\n",
       "    </tr>\n",
       "  </thead>\n",
       "  <tbody>\n",
       "    <tr>\n",
       "      <th>1</th>\n",
       "      <td>Super Mario Bros.</td>\n",
       "      <td>NES</td>\n",
       "      <td>1985.0</td>\n",
       "      <td>Platform</td>\n",
       "      <td>29.08</td>\n",
       "      <td>3.58</td>\n",
       "      <td>6.81</td>\n",
       "      <td>0.77</td>\n",
       "      <td>NaN</td>\n",
       "      <td>NaN</td>\n",
       "      <td>NaN</td>\n",
       "    </tr>\n",
       "    <tr>\n",
       "      <th>4</th>\n",
       "      <td>Pokemon Red/Pokemon Blue</td>\n",
       "      <td>GB</td>\n",
       "      <td>1996.0</td>\n",
       "      <td>Role-Playing</td>\n",
       "      <td>11.27</td>\n",
       "      <td>8.89</td>\n",
       "      <td>10.22</td>\n",
       "      <td>1.00</td>\n",
       "      <td>NaN</td>\n",
       "      <td>NaN</td>\n",
       "      <td>NaN</td>\n",
       "    </tr>\n",
       "    <tr>\n",
       "      <th>5</th>\n",
       "      <td>Tetris</td>\n",
       "      <td>GB</td>\n",
       "      <td>1989.0</td>\n",
       "      <td>Puzzle</td>\n",
       "      <td>23.20</td>\n",
       "      <td>2.26</td>\n",
       "      <td>4.22</td>\n",
       "      <td>0.58</td>\n",
       "      <td>NaN</td>\n",
       "      <td>NaN</td>\n",
       "      <td>NaN</td>\n",
       "    </tr>\n",
       "    <tr>\n",
       "      <th>9</th>\n",
       "      <td>Duck Hunt</td>\n",
       "      <td>NES</td>\n",
       "      <td>1984.0</td>\n",
       "      <td>Shooter</td>\n",
       "      <td>26.93</td>\n",
       "      <td>0.63</td>\n",
       "      <td>0.28</td>\n",
       "      <td>0.47</td>\n",
       "      <td>NaN</td>\n",
       "      <td>NaN</td>\n",
       "      <td>NaN</td>\n",
       "    </tr>\n",
       "    <tr>\n",
       "      <th>10</th>\n",
       "      <td>Nintendogs</td>\n",
       "      <td>DS</td>\n",
       "      <td>2005.0</td>\n",
       "      <td>Simulation</td>\n",
       "      <td>9.05</td>\n",
       "      <td>10.95</td>\n",
       "      <td>1.93</td>\n",
       "      <td>2.74</td>\n",
       "      <td>NaN</td>\n",
       "      <td>NaN</td>\n",
       "      <td>NaN</td>\n",
       "    </tr>\n",
       "    <tr>\n",
       "      <th>...</th>\n",
       "      <td>...</td>\n",
       "      <td>...</td>\n",
       "      <td>...</td>\n",
       "      <td>...</td>\n",
       "      <td>...</td>\n",
       "      <td>...</td>\n",
       "      <td>...</td>\n",
       "      <td>...</td>\n",
       "      <td>...</td>\n",
       "      <td>...</td>\n",
       "      <td>...</td>\n",
       "    </tr>\n",
       "    <tr>\n",
       "      <th>16710</th>\n",
       "      <td>Samurai Warriors: Sanada Maru</td>\n",
       "      <td>PS3</td>\n",
       "      <td>2016.0</td>\n",
       "      <td>Action</td>\n",
       "      <td>0.00</td>\n",
       "      <td>0.00</td>\n",
       "      <td>0.01</td>\n",
       "      <td>0.00</td>\n",
       "      <td>NaN</td>\n",
       "      <td>NaN</td>\n",
       "      <td>NaN</td>\n",
       "    </tr>\n",
       "    <tr>\n",
       "      <th>16711</th>\n",
       "      <td>LMA Manager 2007</td>\n",
       "      <td>X360</td>\n",
       "      <td>2006.0</td>\n",
       "      <td>Sports</td>\n",
       "      <td>0.00</td>\n",
       "      <td>0.01</td>\n",
       "      <td>0.00</td>\n",
       "      <td>0.00</td>\n",
       "      <td>NaN</td>\n",
       "      <td>NaN</td>\n",
       "      <td>NaN</td>\n",
       "    </tr>\n",
       "    <tr>\n",
       "      <th>16712</th>\n",
       "      <td>Haitaka no Psychedelica</td>\n",
       "      <td>PSV</td>\n",
       "      <td>2016.0</td>\n",
       "      <td>Adventure</td>\n",
       "      <td>0.00</td>\n",
       "      <td>0.00</td>\n",
       "      <td>0.01</td>\n",
       "      <td>0.00</td>\n",
       "      <td>NaN</td>\n",
       "      <td>NaN</td>\n",
       "      <td>NaN</td>\n",
       "    </tr>\n",
       "    <tr>\n",
       "      <th>16713</th>\n",
       "      <td>Spirits &amp; Spells</td>\n",
       "      <td>GBA</td>\n",
       "      <td>2003.0</td>\n",
       "      <td>Platform</td>\n",
       "      <td>0.01</td>\n",
       "      <td>0.00</td>\n",
       "      <td>0.00</td>\n",
       "      <td>0.00</td>\n",
       "      <td>NaN</td>\n",
       "      <td>NaN</td>\n",
       "      <td>NaN</td>\n",
       "    </tr>\n",
       "    <tr>\n",
       "      <th>16714</th>\n",
       "      <td>Winning Post 8 2016</td>\n",
       "      <td>PSV</td>\n",
       "      <td>2016.0</td>\n",
       "      <td>Simulation</td>\n",
       "      <td>0.00</td>\n",
       "      <td>0.00</td>\n",
       "      <td>0.01</td>\n",
       "      <td>0.00</td>\n",
       "      <td>NaN</td>\n",
       "      <td>NaN</td>\n",
       "      <td>NaN</td>\n",
       "    </tr>\n",
       "  </tbody>\n",
       "</table>\n",
       "<p>6766 rows × 11 columns</p>\n",
       "</div>"
      ],
      "text/plain": [
       "                                name platform  year_of_release         genre  \\\n",
       "1                  Super Mario Bros.      NES           1985.0      Platform   \n",
       "4           Pokemon Red/Pokemon Blue       GB           1996.0  Role-Playing   \n",
       "5                             Tetris       GB           1989.0        Puzzle   \n",
       "9                          Duck Hunt      NES           1984.0       Shooter   \n",
       "10                        Nintendogs       DS           2005.0    Simulation   \n",
       "...                              ...      ...              ...           ...   \n",
       "16710  Samurai Warriors: Sanada Maru      PS3           2016.0        Action   \n",
       "16711               LMA Manager 2007     X360           2006.0        Sports   \n",
       "16712        Haitaka no Psychedelica      PSV           2016.0     Adventure   \n",
       "16713               Spirits & Spells      GBA           2003.0      Platform   \n",
       "16714            Winning Post 8 2016      PSV           2016.0    Simulation   \n",
       "\n",
       "       na_sales  eu_sales  jp_sales  other_sales  critic_score user_score  \\\n",
       "1         29.08      3.58      6.81         0.77           NaN        NaN   \n",
       "4         11.27      8.89     10.22         1.00           NaN        NaN   \n",
       "5         23.20      2.26      4.22         0.58           NaN        NaN   \n",
       "9         26.93      0.63      0.28         0.47           NaN        NaN   \n",
       "10         9.05     10.95      1.93         2.74           NaN        NaN   \n",
       "...         ...       ...       ...          ...           ...        ...   \n",
       "16710      0.00      0.00      0.01         0.00           NaN        NaN   \n",
       "16711      0.00      0.01      0.00         0.00           NaN        NaN   \n",
       "16712      0.00      0.00      0.01         0.00           NaN        NaN   \n",
       "16713      0.01      0.00      0.00         0.00           NaN        NaN   \n",
       "16714      0.00      0.00      0.01         0.00           NaN        NaN   \n",
       "\n",
       "      rating  \n",
       "1        NaN  \n",
       "4        NaN  \n",
       "5        NaN  \n",
       "9        NaN  \n",
       "10       NaN  \n",
       "...      ...  \n",
       "16710    NaN  \n",
       "16711    NaN  \n",
       "16712    NaN  \n",
       "16713    NaN  \n",
       "16714    NaN  \n",
       "\n",
       "[6766 rows x 11 columns]"
      ]
     },
     "execution_count": 277,
     "metadata": {},
     "output_type": "execute_result"
    }
   ],
   "source": [
    "data[data['rating'].isna()]"
   ]
  },
  {
   "cell_type": "markdown",
   "metadata": {},
   "source": [
    "6766 NAN"
   ]
  },
  {
   "cell_type": "markdown",
   "metadata": {},
   "source": [
    "# Общий вывод 2.1:"
   ]
  },
  {
   "cell_type": "markdown",
   "metadata": {},
   "source": [
    "1. year_of_release и critic_score переводим в int\n",
    "2. user_score переводим в float64\n",
    "\n",
    "1. пропуски в name и genre по 2шт, это одна игра, с одтельно оценкой по Японии и отдельно по Северной Америке и Европе\n",
    "2. Пропуски в year_of_release, critic_score, user_score, rating\n",
    "\n",
    "1. дубликаты в name  по платформе, году и стране. Одна и таже игра имеет независимые релизы на разных платформах, перевыпаскается с обновлениями по годам и отдельные рейтинги по категориям стран\n",
    "2. 1/8 часть от оценок игроков tbd (\"to be defined\"), в момент релиза игры видмо не всем играм присваиваются оценки игроков, интересно как потом производители обрабатывают ( если потом обрабатывают) этот параметр, так как есть игры с годом релиза 2001 и без оценки игроков. в оценках критиков такой категории нет, но есть пропуски, возможно по этой же причине\n"
   ]
  },
  {
   "cell_type": "markdown",
   "metadata": {},
   "source": [
    "# 2.2 Подготовка данных"
   ]
  },
  {
   "cell_type": "markdown",
   "metadata": {},
   "source": [
    "обработка пропусков и сразу переводим в нужный типа данных, так как из предыдущего проекта ясно, что с пропусками будут проблемы со сменой типа данных"
   ]
  },
  {
   "cell_type": "code",
   "execution_count": 278,
   "metadata": {},
   "outputs": [
    {
     "data": {
      "text/plain": [
       "16715"
      ]
     },
     "execution_count": 278,
     "metadata": {},
     "output_type": "execute_result"
    }
   ],
   "source": [
    "data.shape[0]"
   ]
  },
  {
   "cell_type": "code",
   "execution_count": 279,
   "metadata": {},
   "outputs": [],
   "source": [
    "#заранее удаляю две строки с NAN  с name  и genre\n",
    "data.drop([659, 14244], inplace = True)"
   ]
  },
  {
   "cell_type": "code",
   "execution_count": 280,
   "metadata": {},
   "outputs": [
    {
     "data": {
      "text/plain": [
       "16713"
      ]
     },
     "execution_count": 280,
     "metadata": {},
     "output_type": "execute_result"
    }
   ],
   "source": [
    "data.shape[0]"
   ]
  },
  {
   "cell_type": "code",
   "execution_count": 281,
   "metadata": {},
   "outputs": [
    {
     "data": {
      "text/html": [
       "<div>\n",
       "<style scoped>\n",
       "    .dataframe tbody tr th:only-of-type {\n",
       "        vertical-align: middle;\n",
       "    }\n",
       "\n",
       "    .dataframe tbody tr th {\n",
       "        vertical-align: top;\n",
       "    }\n",
       "\n",
       "    .dataframe thead th {\n",
       "        text-align: right;\n",
       "    }\n",
       "</style>\n",
       "<table border=\"1\" class=\"dataframe\">\n",
       "  <thead>\n",
       "    <tr style=\"text-align: right;\">\n",
       "      <th></th>\n",
       "      <th>name</th>\n",
       "      <th>platform</th>\n",
       "      <th>year_of_release</th>\n",
       "      <th>genre</th>\n",
       "      <th>na_sales</th>\n",
       "      <th>eu_sales</th>\n",
       "      <th>jp_sales</th>\n",
       "      <th>other_sales</th>\n",
       "      <th>critic_score</th>\n",
       "      <th>user_score</th>\n",
       "      <th>rating</th>\n",
       "    </tr>\n",
       "  </thead>\n",
       "  <tbody>\n",
       "    <tr>\n",
       "      <th>183</th>\n",
       "      <td>Madden NFL 2004</td>\n",
       "      <td>PS2</td>\n",
       "      <td>NaN</td>\n",
       "      <td>Sports</td>\n",
       "      <td>4.26</td>\n",
       "      <td>0.26</td>\n",
       "      <td>0.01</td>\n",
       "      <td>0.71</td>\n",
       "      <td>94.0</td>\n",
       "      <td>8.5</td>\n",
       "      <td>E</td>\n",
       "    </tr>\n",
       "    <tr>\n",
       "      <th>377</th>\n",
       "      <td>FIFA Soccer 2004</td>\n",
       "      <td>PS2</td>\n",
       "      <td>NaN</td>\n",
       "      <td>Sports</td>\n",
       "      <td>0.59</td>\n",
       "      <td>2.36</td>\n",
       "      <td>0.04</td>\n",
       "      <td>0.51</td>\n",
       "      <td>84.0</td>\n",
       "      <td>6.4</td>\n",
       "      <td>E</td>\n",
       "    </tr>\n",
       "    <tr>\n",
       "      <th>456</th>\n",
       "      <td>LEGO Batman: The Videogame</td>\n",
       "      <td>Wii</td>\n",
       "      <td>NaN</td>\n",
       "      <td>Action</td>\n",
       "      <td>1.80</td>\n",
       "      <td>0.97</td>\n",
       "      <td>0.00</td>\n",
       "      <td>0.29</td>\n",
       "      <td>74.0</td>\n",
       "      <td>7.9</td>\n",
       "      <td>E10+</td>\n",
       "    </tr>\n",
       "    <tr>\n",
       "      <th>475</th>\n",
       "      <td>wwe Smackdown vs. Raw 2006</td>\n",
       "      <td>PS2</td>\n",
       "      <td>NaN</td>\n",
       "      <td>Fighting</td>\n",
       "      <td>1.57</td>\n",
       "      <td>1.02</td>\n",
       "      <td>0.00</td>\n",
       "      <td>0.41</td>\n",
       "      <td>NaN</td>\n",
       "      <td>NaN</td>\n",
       "      <td>NaN</td>\n",
       "    </tr>\n",
       "    <tr>\n",
       "      <th>609</th>\n",
       "      <td>Space Invaders</td>\n",
       "      <td>2600</td>\n",
       "      <td>NaN</td>\n",
       "      <td>Shooter</td>\n",
       "      <td>2.36</td>\n",
       "      <td>0.14</td>\n",
       "      <td>0.00</td>\n",
       "      <td>0.03</td>\n",
       "      <td>NaN</td>\n",
       "      <td>NaN</td>\n",
       "      <td>NaN</td>\n",
       "    </tr>\n",
       "    <tr>\n",
       "      <th>...</th>\n",
       "      <td>...</td>\n",
       "      <td>...</td>\n",
       "      <td>...</td>\n",
       "      <td>...</td>\n",
       "      <td>...</td>\n",
       "      <td>...</td>\n",
       "      <td>...</td>\n",
       "      <td>...</td>\n",
       "      <td>...</td>\n",
       "      <td>...</td>\n",
       "      <td>...</td>\n",
       "    </tr>\n",
       "    <tr>\n",
       "      <th>16373</th>\n",
       "      <td>PDC World Championship Darts 2008</td>\n",
       "      <td>PSP</td>\n",
       "      <td>NaN</td>\n",
       "      <td>Sports</td>\n",
       "      <td>0.01</td>\n",
       "      <td>0.00</td>\n",
       "      <td>0.00</td>\n",
       "      <td>0.00</td>\n",
       "      <td>43.0</td>\n",
       "      <td>tbd</td>\n",
       "      <td>E10+</td>\n",
       "    </tr>\n",
       "    <tr>\n",
       "      <th>16405</th>\n",
       "      <td>Freaky Flyers</td>\n",
       "      <td>GC</td>\n",
       "      <td>NaN</td>\n",
       "      <td>Racing</td>\n",
       "      <td>0.01</td>\n",
       "      <td>0.00</td>\n",
       "      <td>0.00</td>\n",
       "      <td>0.00</td>\n",
       "      <td>69.0</td>\n",
       "      <td>6.5</td>\n",
       "      <td>T</td>\n",
       "    </tr>\n",
       "    <tr>\n",
       "      <th>16448</th>\n",
       "      <td>Inversion</td>\n",
       "      <td>PC</td>\n",
       "      <td>NaN</td>\n",
       "      <td>Shooter</td>\n",
       "      <td>0.01</td>\n",
       "      <td>0.00</td>\n",
       "      <td>0.00</td>\n",
       "      <td>0.00</td>\n",
       "      <td>59.0</td>\n",
       "      <td>6.7</td>\n",
       "      <td>M</td>\n",
       "    </tr>\n",
       "    <tr>\n",
       "      <th>16458</th>\n",
       "      <td>Hakuouki: Shinsengumi Kitan</td>\n",
       "      <td>PS3</td>\n",
       "      <td>NaN</td>\n",
       "      <td>Adventure</td>\n",
       "      <td>0.01</td>\n",
       "      <td>0.00</td>\n",
       "      <td>0.00</td>\n",
       "      <td>0.00</td>\n",
       "      <td>NaN</td>\n",
       "      <td>NaN</td>\n",
       "      <td>NaN</td>\n",
       "    </tr>\n",
       "    <tr>\n",
       "      <th>16522</th>\n",
       "      <td>Virtua Quest</td>\n",
       "      <td>GC</td>\n",
       "      <td>NaN</td>\n",
       "      <td>Role-Playing</td>\n",
       "      <td>0.01</td>\n",
       "      <td>0.00</td>\n",
       "      <td>0.00</td>\n",
       "      <td>0.00</td>\n",
       "      <td>55.0</td>\n",
       "      <td>5.5</td>\n",
       "      <td>T</td>\n",
       "    </tr>\n",
       "  </tbody>\n",
       "</table>\n",
       "<p>269 rows × 11 columns</p>\n",
       "</div>"
      ],
      "text/plain": [
       "                                    name platform  year_of_release  \\\n",
       "183                      Madden NFL 2004      PS2              NaN   \n",
       "377                     FIFA Soccer 2004      PS2              NaN   \n",
       "456           LEGO Batman: The Videogame      Wii              NaN   \n",
       "475           wwe Smackdown vs. Raw 2006      PS2              NaN   \n",
       "609                       Space Invaders     2600              NaN   \n",
       "...                                  ...      ...              ...   \n",
       "16373  PDC World Championship Darts 2008      PSP              NaN   \n",
       "16405                      Freaky Flyers       GC              NaN   \n",
       "16448                          Inversion       PC              NaN   \n",
       "16458        Hakuouki: Shinsengumi Kitan      PS3              NaN   \n",
       "16522                       Virtua Quest       GC              NaN   \n",
       "\n",
       "              genre  na_sales  eu_sales  jp_sales  other_sales  critic_score  \\\n",
       "183          Sports      4.26      0.26      0.01         0.71          94.0   \n",
       "377          Sports      0.59      2.36      0.04         0.51          84.0   \n",
       "456          Action      1.80      0.97      0.00         0.29          74.0   \n",
       "475        Fighting      1.57      1.02      0.00         0.41           NaN   \n",
       "609         Shooter      2.36      0.14      0.00         0.03           NaN   \n",
       "...             ...       ...       ...       ...          ...           ...   \n",
       "16373        Sports      0.01      0.00      0.00         0.00          43.0   \n",
       "16405        Racing      0.01      0.00      0.00         0.00          69.0   \n",
       "16448       Shooter      0.01      0.00      0.00         0.00          59.0   \n",
       "16458     Adventure      0.01      0.00      0.00         0.00           NaN   \n",
       "16522  Role-Playing      0.01      0.00      0.00         0.00          55.0   \n",
       "\n",
       "      user_score rating  \n",
       "183          8.5      E  \n",
       "377          6.4      E  \n",
       "456          7.9   E10+  \n",
       "475          NaN    NaN  \n",
       "609          NaN    NaN  \n",
       "...          ...    ...  \n",
       "16373        tbd   E10+  \n",
       "16405        6.5      T  \n",
       "16448        6.7      M  \n",
       "16458        NaN    NaN  \n",
       "16522        5.5      T  \n",
       "\n",
       "[269 rows x 11 columns]"
      ]
     },
     "execution_count": 281,
     "metadata": {},
     "output_type": "execute_result"
    }
   ],
   "source": [
    "#year_of_release\n",
    "\n",
    "data[data['year_of_release'].isna()]"
   ]
  },
  {
   "cell_type": "code",
   "execution_count": 282,
   "metadata": {},
   "outputs": [],
   "source": [
    "#269 строк - это меньше 2% удаляю\n",
    "data = data.drop(data[data['year_of_release'].isna() == True].index)"
   ]
  },
  {
   "cell_type": "code",
   "execution_count": 283,
   "metadata": {},
   "outputs": [
    {
     "data": {
      "text/plain": [
       "16444"
      ]
     },
     "execution_count": 283,
     "metadata": {},
     "output_type": "execute_result"
    }
   ],
   "source": [
    "#проверяю\n",
    "data.shape[0]"
   ]
  },
  {
   "cell_type": "code",
   "execution_count": 284,
   "metadata": {},
   "outputs": [
    {
     "data": {
      "text/html": [
       "<div>\n",
       "<style scoped>\n",
       "    .dataframe tbody tr th:only-of-type {\n",
       "        vertical-align: middle;\n",
       "    }\n",
       "\n",
       "    .dataframe tbody tr th {\n",
       "        vertical-align: top;\n",
       "    }\n",
       "\n",
       "    .dataframe thead th {\n",
       "        text-align: right;\n",
       "    }\n",
       "</style>\n",
       "<table border=\"1\" class=\"dataframe\">\n",
       "  <thead>\n",
       "    <tr style=\"text-align: right;\">\n",
       "      <th></th>\n",
       "      <th>name</th>\n",
       "      <th>platform</th>\n",
       "      <th>year_of_release</th>\n",
       "      <th>genre</th>\n",
       "      <th>na_sales</th>\n",
       "      <th>eu_sales</th>\n",
       "      <th>jp_sales</th>\n",
       "      <th>other_sales</th>\n",
       "      <th>critic_score</th>\n",
       "      <th>user_score</th>\n",
       "      <th>rating</th>\n",
       "    </tr>\n",
       "  </thead>\n",
       "  <tbody>\n",
       "    <tr>\n",
       "      <th>1</th>\n",
       "      <td>Super Mario Bros.</td>\n",
       "      <td>NES</td>\n",
       "      <td>1985.0</td>\n",
       "      <td>Platform</td>\n",
       "      <td>29.08</td>\n",
       "      <td>3.58</td>\n",
       "      <td>6.81</td>\n",
       "      <td>0.77</td>\n",
       "      <td>NaN</td>\n",
       "      <td>NaN</td>\n",
       "      <td>NaN</td>\n",
       "    </tr>\n",
       "    <tr>\n",
       "      <th>4</th>\n",
       "      <td>Pokemon Red/Pokemon Blue</td>\n",
       "      <td>GB</td>\n",
       "      <td>1996.0</td>\n",
       "      <td>Role-Playing</td>\n",
       "      <td>11.27</td>\n",
       "      <td>8.89</td>\n",
       "      <td>10.22</td>\n",
       "      <td>1.00</td>\n",
       "      <td>NaN</td>\n",
       "      <td>NaN</td>\n",
       "      <td>NaN</td>\n",
       "    </tr>\n",
       "    <tr>\n",
       "      <th>5</th>\n",
       "      <td>Tetris</td>\n",
       "      <td>GB</td>\n",
       "      <td>1989.0</td>\n",
       "      <td>Puzzle</td>\n",
       "      <td>23.20</td>\n",
       "      <td>2.26</td>\n",
       "      <td>4.22</td>\n",
       "      <td>0.58</td>\n",
       "      <td>NaN</td>\n",
       "      <td>NaN</td>\n",
       "      <td>NaN</td>\n",
       "    </tr>\n",
       "    <tr>\n",
       "      <th>9</th>\n",
       "      <td>Duck Hunt</td>\n",
       "      <td>NES</td>\n",
       "      <td>1984.0</td>\n",
       "      <td>Shooter</td>\n",
       "      <td>26.93</td>\n",
       "      <td>0.63</td>\n",
       "      <td>0.28</td>\n",
       "      <td>0.47</td>\n",
       "      <td>NaN</td>\n",
       "      <td>NaN</td>\n",
       "      <td>NaN</td>\n",
       "    </tr>\n",
       "    <tr>\n",
       "      <th>10</th>\n",
       "      <td>Nintendogs</td>\n",
       "      <td>DS</td>\n",
       "      <td>2005.0</td>\n",
       "      <td>Simulation</td>\n",
       "      <td>9.05</td>\n",
       "      <td>10.95</td>\n",
       "      <td>1.93</td>\n",
       "      <td>2.74</td>\n",
       "      <td>NaN</td>\n",
       "      <td>NaN</td>\n",
       "      <td>NaN</td>\n",
       "    </tr>\n",
       "    <tr>\n",
       "      <th>...</th>\n",
       "      <td>...</td>\n",
       "      <td>...</td>\n",
       "      <td>...</td>\n",
       "      <td>...</td>\n",
       "      <td>...</td>\n",
       "      <td>...</td>\n",
       "      <td>...</td>\n",
       "      <td>...</td>\n",
       "      <td>...</td>\n",
       "      <td>...</td>\n",
       "      <td>...</td>\n",
       "    </tr>\n",
       "    <tr>\n",
       "      <th>16710</th>\n",
       "      <td>Samurai Warriors: Sanada Maru</td>\n",
       "      <td>PS3</td>\n",
       "      <td>2016.0</td>\n",
       "      <td>Action</td>\n",
       "      <td>0.00</td>\n",
       "      <td>0.00</td>\n",
       "      <td>0.01</td>\n",
       "      <td>0.00</td>\n",
       "      <td>NaN</td>\n",
       "      <td>NaN</td>\n",
       "      <td>NaN</td>\n",
       "    </tr>\n",
       "    <tr>\n",
       "      <th>16711</th>\n",
       "      <td>LMA Manager 2007</td>\n",
       "      <td>X360</td>\n",
       "      <td>2006.0</td>\n",
       "      <td>Sports</td>\n",
       "      <td>0.00</td>\n",
       "      <td>0.01</td>\n",
       "      <td>0.00</td>\n",
       "      <td>0.00</td>\n",
       "      <td>NaN</td>\n",
       "      <td>NaN</td>\n",
       "      <td>NaN</td>\n",
       "    </tr>\n",
       "    <tr>\n",
       "      <th>16712</th>\n",
       "      <td>Haitaka no Psychedelica</td>\n",
       "      <td>PSV</td>\n",
       "      <td>2016.0</td>\n",
       "      <td>Adventure</td>\n",
       "      <td>0.00</td>\n",
       "      <td>0.00</td>\n",
       "      <td>0.01</td>\n",
       "      <td>0.00</td>\n",
       "      <td>NaN</td>\n",
       "      <td>NaN</td>\n",
       "      <td>NaN</td>\n",
       "    </tr>\n",
       "    <tr>\n",
       "      <th>16713</th>\n",
       "      <td>Spirits &amp; Spells</td>\n",
       "      <td>GBA</td>\n",
       "      <td>2003.0</td>\n",
       "      <td>Platform</td>\n",
       "      <td>0.01</td>\n",
       "      <td>0.00</td>\n",
       "      <td>0.00</td>\n",
       "      <td>0.00</td>\n",
       "      <td>NaN</td>\n",
       "      <td>NaN</td>\n",
       "      <td>NaN</td>\n",
       "    </tr>\n",
       "    <tr>\n",
       "      <th>16714</th>\n",
       "      <td>Winning Post 8 2016</td>\n",
       "      <td>PSV</td>\n",
       "      <td>2016.0</td>\n",
       "      <td>Simulation</td>\n",
       "      <td>0.00</td>\n",
       "      <td>0.00</td>\n",
       "      <td>0.01</td>\n",
       "      <td>0.00</td>\n",
       "      <td>NaN</td>\n",
       "      <td>NaN</td>\n",
       "      <td>NaN</td>\n",
       "    </tr>\n",
       "  </tbody>\n",
       "</table>\n",
       "<p>8461 rows × 11 columns</p>\n",
       "</div>"
      ],
      "text/plain": [
       "                                name platform  year_of_release         genre  \\\n",
       "1                  Super Mario Bros.      NES           1985.0      Platform   \n",
       "4           Pokemon Red/Pokemon Blue       GB           1996.0  Role-Playing   \n",
       "5                             Tetris       GB           1989.0        Puzzle   \n",
       "9                          Duck Hunt      NES           1984.0       Shooter   \n",
       "10                        Nintendogs       DS           2005.0    Simulation   \n",
       "...                              ...      ...              ...           ...   \n",
       "16710  Samurai Warriors: Sanada Maru      PS3           2016.0        Action   \n",
       "16711               LMA Manager 2007     X360           2006.0        Sports   \n",
       "16712        Haitaka no Psychedelica      PSV           2016.0     Adventure   \n",
       "16713               Spirits & Spells      GBA           2003.0      Platform   \n",
       "16714            Winning Post 8 2016      PSV           2016.0    Simulation   \n",
       "\n",
       "       na_sales  eu_sales  jp_sales  other_sales  critic_score user_score  \\\n",
       "1         29.08      3.58      6.81         0.77           NaN        NaN   \n",
       "4         11.27      8.89     10.22         1.00           NaN        NaN   \n",
       "5         23.20      2.26      4.22         0.58           NaN        NaN   \n",
       "9         26.93      0.63      0.28         0.47           NaN        NaN   \n",
       "10         9.05     10.95      1.93         2.74           NaN        NaN   \n",
       "...         ...       ...       ...          ...           ...        ...   \n",
       "16710      0.00      0.00      0.01         0.00           NaN        NaN   \n",
       "16711      0.00      0.01      0.00         0.00           NaN        NaN   \n",
       "16712      0.00      0.00      0.01         0.00           NaN        NaN   \n",
       "16713      0.01      0.00      0.00         0.00           NaN        NaN   \n",
       "16714      0.00      0.00      0.01         0.00           NaN        NaN   \n",
       "\n",
       "      rating  \n",
       "1        NaN  \n",
       "4        NaN  \n",
       "5        NaN  \n",
       "9        NaN  \n",
       "10       NaN  \n",
       "...      ...  \n",
       "16710    NaN  \n",
       "16711    NaN  \n",
       "16712    NaN  \n",
       "16713    NaN  \n",
       "16714    NaN  \n",
       "\n",
       "[8461 rows x 11 columns]"
      ]
     },
     "execution_count": 284,
     "metadata": {},
     "output_type": "execute_result"
    }
   ],
   "source": [
    "#critic_score\n",
    "\n",
    "data[data['critic_score'].isna()]\n",
    "    "
   ]
  },
  {
   "cell_type": "markdown",
   "metadata": {},
   "source": [
    "удалить нельзя, поставить медиану или среднее  - нельзя, так как оценка вещь индивидуальная. видимо оставляю как есть "
   ]
  },
  {
   "cell_type": "code",
   "execution_count": 286,
   "metadata": {},
   "outputs": [
    {
     "data": {
      "text/html": [
       "<div>\n",
       "<style scoped>\n",
       "    .dataframe tbody tr th:only-of-type {\n",
       "        vertical-align: middle;\n",
       "    }\n",
       "\n",
       "    .dataframe tbody tr th {\n",
       "        vertical-align: top;\n",
       "    }\n",
       "\n",
       "    .dataframe thead th {\n",
       "        text-align: right;\n",
       "    }\n",
       "</style>\n",
       "<table border=\"1\" class=\"dataframe\">\n",
       "  <thead>\n",
       "    <tr style=\"text-align: right;\">\n",
       "      <th></th>\n",
       "      <th>name</th>\n",
       "      <th>platform</th>\n",
       "      <th>year_of_release</th>\n",
       "      <th>genre</th>\n",
       "      <th>na_sales</th>\n",
       "      <th>eu_sales</th>\n",
       "      <th>jp_sales</th>\n",
       "      <th>other_sales</th>\n",
       "      <th>critic_score</th>\n",
       "      <th>user_score</th>\n",
       "      <th>rating</th>\n",
       "    </tr>\n",
       "  </thead>\n",
       "  <tbody>\n",
       "    <tr>\n",
       "      <th>1</th>\n",
       "      <td>Super Mario Bros.</td>\n",
       "      <td>NES</td>\n",
       "      <td>1985.0</td>\n",
       "      <td>Platform</td>\n",
       "      <td>29.08</td>\n",
       "      <td>3.58</td>\n",
       "      <td>6.81</td>\n",
       "      <td>0.77</td>\n",
       "      <td>NaN</td>\n",
       "      <td>NaN</td>\n",
       "      <td>NaN</td>\n",
       "    </tr>\n",
       "    <tr>\n",
       "      <th>4</th>\n",
       "      <td>Pokemon Red/Pokemon Blue</td>\n",
       "      <td>GB</td>\n",
       "      <td>1996.0</td>\n",
       "      <td>Role-Playing</td>\n",
       "      <td>11.27</td>\n",
       "      <td>8.89</td>\n",
       "      <td>10.22</td>\n",
       "      <td>1.00</td>\n",
       "      <td>NaN</td>\n",
       "      <td>NaN</td>\n",
       "      <td>NaN</td>\n",
       "    </tr>\n",
       "    <tr>\n",
       "      <th>5</th>\n",
       "      <td>Tetris</td>\n",
       "      <td>GB</td>\n",
       "      <td>1989.0</td>\n",
       "      <td>Puzzle</td>\n",
       "      <td>23.20</td>\n",
       "      <td>2.26</td>\n",
       "      <td>4.22</td>\n",
       "      <td>0.58</td>\n",
       "      <td>NaN</td>\n",
       "      <td>NaN</td>\n",
       "      <td>NaN</td>\n",
       "    </tr>\n",
       "    <tr>\n",
       "      <th>9</th>\n",
       "      <td>Duck Hunt</td>\n",
       "      <td>NES</td>\n",
       "      <td>1984.0</td>\n",
       "      <td>Shooter</td>\n",
       "      <td>26.93</td>\n",
       "      <td>0.63</td>\n",
       "      <td>0.28</td>\n",
       "      <td>0.47</td>\n",
       "      <td>NaN</td>\n",
       "      <td>NaN</td>\n",
       "      <td>NaN</td>\n",
       "    </tr>\n",
       "    <tr>\n",
       "      <th>10</th>\n",
       "      <td>Nintendogs</td>\n",
       "      <td>DS</td>\n",
       "      <td>2005.0</td>\n",
       "      <td>Simulation</td>\n",
       "      <td>9.05</td>\n",
       "      <td>10.95</td>\n",
       "      <td>1.93</td>\n",
       "      <td>2.74</td>\n",
       "      <td>NaN</td>\n",
       "      <td>NaN</td>\n",
       "      <td>NaN</td>\n",
       "    </tr>\n",
       "    <tr>\n",
       "      <th>...</th>\n",
       "      <td>...</td>\n",
       "      <td>...</td>\n",
       "      <td>...</td>\n",
       "      <td>...</td>\n",
       "      <td>...</td>\n",
       "      <td>...</td>\n",
       "      <td>...</td>\n",
       "      <td>...</td>\n",
       "      <td>...</td>\n",
       "      <td>...</td>\n",
       "      <td>...</td>\n",
       "    </tr>\n",
       "    <tr>\n",
       "      <th>16710</th>\n",
       "      <td>Samurai Warriors: Sanada Maru</td>\n",
       "      <td>PS3</td>\n",
       "      <td>2016.0</td>\n",
       "      <td>Action</td>\n",
       "      <td>0.00</td>\n",
       "      <td>0.00</td>\n",
       "      <td>0.01</td>\n",
       "      <td>0.00</td>\n",
       "      <td>NaN</td>\n",
       "      <td>NaN</td>\n",
       "      <td>NaN</td>\n",
       "    </tr>\n",
       "    <tr>\n",
       "      <th>16711</th>\n",
       "      <td>LMA Manager 2007</td>\n",
       "      <td>X360</td>\n",
       "      <td>2006.0</td>\n",
       "      <td>Sports</td>\n",
       "      <td>0.00</td>\n",
       "      <td>0.01</td>\n",
       "      <td>0.00</td>\n",
       "      <td>0.00</td>\n",
       "      <td>NaN</td>\n",
       "      <td>NaN</td>\n",
       "      <td>NaN</td>\n",
       "    </tr>\n",
       "    <tr>\n",
       "      <th>16712</th>\n",
       "      <td>Haitaka no Psychedelica</td>\n",
       "      <td>PSV</td>\n",
       "      <td>2016.0</td>\n",
       "      <td>Adventure</td>\n",
       "      <td>0.00</td>\n",
       "      <td>0.00</td>\n",
       "      <td>0.01</td>\n",
       "      <td>0.00</td>\n",
       "      <td>NaN</td>\n",
       "      <td>NaN</td>\n",
       "      <td>NaN</td>\n",
       "    </tr>\n",
       "    <tr>\n",
       "      <th>16713</th>\n",
       "      <td>Spirits &amp; Spells</td>\n",
       "      <td>GBA</td>\n",
       "      <td>2003.0</td>\n",
       "      <td>Platform</td>\n",
       "      <td>0.01</td>\n",
       "      <td>0.00</td>\n",
       "      <td>0.00</td>\n",
       "      <td>0.00</td>\n",
       "      <td>NaN</td>\n",
       "      <td>NaN</td>\n",
       "      <td>NaN</td>\n",
       "    </tr>\n",
       "    <tr>\n",
       "      <th>16714</th>\n",
       "      <td>Winning Post 8 2016</td>\n",
       "      <td>PSV</td>\n",
       "      <td>2016.0</td>\n",
       "      <td>Simulation</td>\n",
       "      <td>0.00</td>\n",
       "      <td>0.00</td>\n",
       "      <td>0.01</td>\n",
       "      <td>0.00</td>\n",
       "      <td>NaN</td>\n",
       "      <td>NaN</td>\n",
       "      <td>NaN</td>\n",
       "    </tr>\n",
       "  </tbody>\n",
       "</table>\n",
       "<p>6605 rows × 11 columns</p>\n",
       "</div>"
      ],
      "text/plain": [
       "                                name platform  year_of_release         genre  \\\n",
       "1                  Super Mario Bros.      NES           1985.0      Platform   \n",
       "4           Pokemon Red/Pokemon Blue       GB           1996.0  Role-Playing   \n",
       "5                             Tetris       GB           1989.0        Puzzle   \n",
       "9                          Duck Hunt      NES           1984.0       Shooter   \n",
       "10                        Nintendogs       DS           2005.0    Simulation   \n",
       "...                              ...      ...              ...           ...   \n",
       "16710  Samurai Warriors: Sanada Maru      PS3           2016.0        Action   \n",
       "16711               LMA Manager 2007     X360           2006.0        Sports   \n",
       "16712        Haitaka no Psychedelica      PSV           2016.0     Adventure   \n",
       "16713               Spirits & Spells      GBA           2003.0      Platform   \n",
       "16714            Winning Post 8 2016      PSV           2016.0    Simulation   \n",
       "\n",
       "       na_sales  eu_sales  jp_sales  other_sales  critic_score user_score  \\\n",
       "1         29.08      3.58      6.81         0.77           NaN        NaN   \n",
       "4         11.27      8.89     10.22         1.00           NaN        NaN   \n",
       "5         23.20      2.26      4.22         0.58           NaN        NaN   \n",
       "9         26.93      0.63      0.28         0.47           NaN        NaN   \n",
       "10         9.05     10.95      1.93         2.74           NaN        NaN   \n",
       "...         ...       ...       ...          ...           ...        ...   \n",
       "16710      0.00      0.00      0.01         0.00           NaN        NaN   \n",
       "16711      0.00      0.01      0.00         0.00           NaN        NaN   \n",
       "16712      0.00      0.00      0.01         0.00           NaN        NaN   \n",
       "16713      0.01      0.00      0.00         0.00           NaN        NaN   \n",
       "16714      0.00      0.00      0.01         0.00           NaN        NaN   \n",
       "\n",
       "      rating  \n",
       "1        NaN  \n",
       "4        NaN  \n",
       "5        NaN  \n",
       "9        NaN  \n",
       "10       NaN  \n",
       "...      ...  \n",
       "16710    NaN  \n",
       "16711    NaN  \n",
       "16712    NaN  \n",
       "16713    NaN  \n",
       "16714    NaN  \n",
       "\n",
       "[6605 rows x 11 columns]"
      ]
     },
     "execution_count": 286,
     "metadata": {},
     "output_type": "execute_result"
    }
   ],
   "source": [
    "data[data['user_score'].isna()]"
   ]
  },
  {
   "cell_type": "markdown",
   "metadata": {},
   "source": [
    "аналогичная ситуация, заменить нельзя, удалить тоже. овые данные по значением tbd  мы тоже не дождемся, поэтому переведем их также в nan"
   ]
  },
  {
   "cell_type": "code",
   "execution_count": 287,
   "metadata": {},
   "outputs": [],
   "source": [
    "data.loc[data['user_score'] == 'tbd', 'user_score'] = np.nan"
   ]
  },
  {
   "cell_type": "code",
   "execution_count": 288,
   "metadata": {},
   "outputs": [
    {
     "data": {
      "text/plain": [
       "array(['8', nan, '8.3', '8.5', '6.6', '8.4', '8.6', '7.7', '6.3', '7.4',\n",
       "       '8.2', '9', '7.9', '8.1', '8.7', '7.1', '3.4', '5.3', '4.8', '3.2',\n",
       "       '8.9', '6.4', '7.8', '7.5', '2.6', '7.2', '9.2', '7', '7.3', '4.3',\n",
       "       '7.6', '5.7', '5', '9.1', '6.5', '8.8', '6.9', '9.4', '6.8', '6.1',\n",
       "       '6.7', '5.4', '4', '4.9', '4.5', '9.3', '6.2', '4.2', '6', '3.7',\n",
       "       '4.1', '5.8', '5.6', '5.5', '4.4', '4.6', '5.9', '3.9', '3.1',\n",
       "       '2.9', '5.2', '3.3', '4.7', '5.1', '3.5', '2.5', '1.9', '3', '2.7',\n",
       "       '2.2', '2', '9.5', '2.1', '3.6', '2.8', '1.8', '3.8', '0', '1.6',\n",
       "       '9.6', '2.4', '1.7', '1.1', '0.3', '1.5', '0.7', '1.2', '2.3',\n",
       "       '0.5', '1.3', '0.2', '0.6', '1.4', '0.9', '1', '9.7'], dtype=object)"
      ]
     },
     "execution_count": 288,
     "metadata": {},
     "output_type": "execute_result"
    }
   ],
   "source": [
    "#проверяю\n",
    "data['user_score'].unique()"
   ]
  },
  {
   "cell_type": "code",
   "execution_count": 289,
   "metadata": {},
   "outputs": [
    {
     "data": {
      "text/html": [
       "<div>\n",
       "<style scoped>\n",
       "    .dataframe tbody tr th:only-of-type {\n",
       "        vertical-align: middle;\n",
       "    }\n",
       "\n",
       "    .dataframe tbody tr th {\n",
       "        vertical-align: top;\n",
       "    }\n",
       "\n",
       "    .dataframe thead th {\n",
       "        text-align: right;\n",
       "    }\n",
       "</style>\n",
       "<table border=\"1\" class=\"dataframe\">\n",
       "  <thead>\n",
       "    <tr style=\"text-align: right;\">\n",
       "      <th></th>\n",
       "      <th>name</th>\n",
       "      <th>platform</th>\n",
       "      <th>year_of_release</th>\n",
       "      <th>genre</th>\n",
       "      <th>na_sales</th>\n",
       "      <th>eu_sales</th>\n",
       "      <th>jp_sales</th>\n",
       "      <th>other_sales</th>\n",
       "      <th>critic_score</th>\n",
       "      <th>user_score</th>\n",
       "      <th>rating</th>\n",
       "    </tr>\n",
       "  </thead>\n",
       "  <tbody>\n",
       "    <tr>\n",
       "      <th>1</th>\n",
       "      <td>Super Mario Bros.</td>\n",
       "      <td>NES</td>\n",
       "      <td>1985.0</td>\n",
       "      <td>Platform</td>\n",
       "      <td>29.08</td>\n",
       "      <td>3.58</td>\n",
       "      <td>6.81</td>\n",
       "      <td>0.77</td>\n",
       "      <td>NaN</td>\n",
       "      <td>NaN</td>\n",
       "      <td>NaN</td>\n",
       "    </tr>\n",
       "    <tr>\n",
       "      <th>4</th>\n",
       "      <td>Pokemon Red/Pokemon Blue</td>\n",
       "      <td>GB</td>\n",
       "      <td>1996.0</td>\n",
       "      <td>Role-Playing</td>\n",
       "      <td>11.27</td>\n",
       "      <td>8.89</td>\n",
       "      <td>10.22</td>\n",
       "      <td>1.00</td>\n",
       "      <td>NaN</td>\n",
       "      <td>NaN</td>\n",
       "      <td>NaN</td>\n",
       "    </tr>\n",
       "    <tr>\n",
       "      <th>5</th>\n",
       "      <td>Tetris</td>\n",
       "      <td>GB</td>\n",
       "      <td>1989.0</td>\n",
       "      <td>Puzzle</td>\n",
       "      <td>23.20</td>\n",
       "      <td>2.26</td>\n",
       "      <td>4.22</td>\n",
       "      <td>0.58</td>\n",
       "      <td>NaN</td>\n",
       "      <td>NaN</td>\n",
       "      <td>NaN</td>\n",
       "    </tr>\n",
       "    <tr>\n",
       "      <th>9</th>\n",
       "      <td>Duck Hunt</td>\n",
       "      <td>NES</td>\n",
       "      <td>1984.0</td>\n",
       "      <td>Shooter</td>\n",
       "      <td>26.93</td>\n",
       "      <td>0.63</td>\n",
       "      <td>0.28</td>\n",
       "      <td>0.47</td>\n",
       "      <td>NaN</td>\n",
       "      <td>NaN</td>\n",
       "      <td>NaN</td>\n",
       "    </tr>\n",
       "    <tr>\n",
       "      <th>10</th>\n",
       "      <td>Nintendogs</td>\n",
       "      <td>DS</td>\n",
       "      <td>2005.0</td>\n",
       "      <td>Simulation</td>\n",
       "      <td>9.05</td>\n",
       "      <td>10.95</td>\n",
       "      <td>1.93</td>\n",
       "      <td>2.74</td>\n",
       "      <td>NaN</td>\n",
       "      <td>NaN</td>\n",
       "      <td>NaN</td>\n",
       "    </tr>\n",
       "    <tr>\n",
       "      <th>...</th>\n",
       "      <td>...</td>\n",
       "      <td>...</td>\n",
       "      <td>...</td>\n",
       "      <td>...</td>\n",
       "      <td>...</td>\n",
       "      <td>...</td>\n",
       "      <td>...</td>\n",
       "      <td>...</td>\n",
       "      <td>...</td>\n",
       "      <td>...</td>\n",
       "      <td>...</td>\n",
       "    </tr>\n",
       "    <tr>\n",
       "      <th>16710</th>\n",
       "      <td>Samurai Warriors: Sanada Maru</td>\n",
       "      <td>PS3</td>\n",
       "      <td>2016.0</td>\n",
       "      <td>Action</td>\n",
       "      <td>0.00</td>\n",
       "      <td>0.00</td>\n",
       "      <td>0.01</td>\n",
       "      <td>0.00</td>\n",
       "      <td>NaN</td>\n",
       "      <td>NaN</td>\n",
       "      <td>NaN</td>\n",
       "    </tr>\n",
       "    <tr>\n",
       "      <th>16711</th>\n",
       "      <td>LMA Manager 2007</td>\n",
       "      <td>X360</td>\n",
       "      <td>2006.0</td>\n",
       "      <td>Sports</td>\n",
       "      <td>0.00</td>\n",
       "      <td>0.01</td>\n",
       "      <td>0.00</td>\n",
       "      <td>0.00</td>\n",
       "      <td>NaN</td>\n",
       "      <td>NaN</td>\n",
       "      <td>NaN</td>\n",
       "    </tr>\n",
       "    <tr>\n",
       "      <th>16712</th>\n",
       "      <td>Haitaka no Psychedelica</td>\n",
       "      <td>PSV</td>\n",
       "      <td>2016.0</td>\n",
       "      <td>Adventure</td>\n",
       "      <td>0.00</td>\n",
       "      <td>0.00</td>\n",
       "      <td>0.01</td>\n",
       "      <td>0.00</td>\n",
       "      <td>NaN</td>\n",
       "      <td>NaN</td>\n",
       "      <td>NaN</td>\n",
       "    </tr>\n",
       "    <tr>\n",
       "      <th>16713</th>\n",
       "      <td>Spirits &amp; Spells</td>\n",
       "      <td>GBA</td>\n",
       "      <td>2003.0</td>\n",
       "      <td>Platform</td>\n",
       "      <td>0.01</td>\n",
       "      <td>0.00</td>\n",
       "      <td>0.00</td>\n",
       "      <td>0.00</td>\n",
       "      <td>NaN</td>\n",
       "      <td>NaN</td>\n",
       "      <td>NaN</td>\n",
       "    </tr>\n",
       "    <tr>\n",
       "      <th>16714</th>\n",
       "      <td>Winning Post 8 2016</td>\n",
       "      <td>PSV</td>\n",
       "      <td>2016.0</td>\n",
       "      <td>Simulation</td>\n",
       "      <td>0.00</td>\n",
       "      <td>0.00</td>\n",
       "      <td>0.01</td>\n",
       "      <td>0.00</td>\n",
       "      <td>NaN</td>\n",
       "      <td>NaN</td>\n",
       "      <td>NaN</td>\n",
       "    </tr>\n",
       "  </tbody>\n",
       "</table>\n",
       "<p>6676 rows × 11 columns</p>\n",
       "</div>"
      ],
      "text/plain": [
       "                                name platform  year_of_release         genre  \\\n",
       "1                  Super Mario Bros.      NES           1985.0      Platform   \n",
       "4           Pokemon Red/Pokemon Blue       GB           1996.0  Role-Playing   \n",
       "5                             Tetris       GB           1989.0        Puzzle   \n",
       "9                          Duck Hunt      NES           1984.0       Shooter   \n",
       "10                        Nintendogs       DS           2005.0    Simulation   \n",
       "...                              ...      ...              ...           ...   \n",
       "16710  Samurai Warriors: Sanada Maru      PS3           2016.0        Action   \n",
       "16711               LMA Manager 2007     X360           2006.0        Sports   \n",
       "16712        Haitaka no Psychedelica      PSV           2016.0     Adventure   \n",
       "16713               Spirits & Spells      GBA           2003.0      Platform   \n",
       "16714            Winning Post 8 2016      PSV           2016.0    Simulation   \n",
       "\n",
       "       na_sales  eu_sales  jp_sales  other_sales  critic_score user_score  \\\n",
       "1         29.08      3.58      6.81         0.77           NaN        NaN   \n",
       "4         11.27      8.89     10.22         1.00           NaN        NaN   \n",
       "5         23.20      2.26      4.22         0.58           NaN        NaN   \n",
       "9         26.93      0.63      0.28         0.47           NaN        NaN   \n",
       "10         9.05     10.95      1.93         2.74           NaN        NaN   \n",
       "...         ...       ...       ...          ...           ...        ...   \n",
       "16710      0.00      0.00      0.01         0.00           NaN        NaN   \n",
       "16711      0.00      0.01      0.00         0.00           NaN        NaN   \n",
       "16712      0.00      0.00      0.01         0.00           NaN        NaN   \n",
       "16713      0.01      0.00      0.00         0.00           NaN        NaN   \n",
       "16714      0.00      0.00      0.01         0.00           NaN        NaN   \n",
       "\n",
       "      rating  \n",
       "1        NaN  \n",
       "4        NaN  \n",
       "5        NaN  \n",
       "9        NaN  \n",
       "10       NaN  \n",
       "...      ...  \n",
       "16710    NaN  \n",
       "16711    NaN  \n",
       "16712    NaN  \n",
       "16713    NaN  \n",
       "16714    NaN  \n",
       "\n",
       "[6676 rows x 11 columns]"
      ]
     },
     "execution_count": 289,
     "metadata": {},
     "output_type": "execute_result"
    }
   ],
   "source": [
    "#rating\n",
    "\n",
    "data[data['rating'].isna()]"
   ]
  },
  {
   "cell_type": "code",
   "execution_count": 290,
   "metadata": {},
   "outputs": [
    {
     "data": {
      "text/plain": [
       "NaN     6676\n",
       "E       3921\n",
       "T       2905\n",
       "M       1536\n",
       "E10+    1393\n",
       "EC         8\n",
       "K-A        3\n",
       "RP         1\n",
       "AO         1\n",
       "Name: rating, dtype: int64"
      ]
     },
     "execution_count": 290,
     "metadata": {},
     "output_type": "execute_result"
    }
   ],
   "source": [
    "data['rating'].value_counts(dropna=False)"
   ]
  },
  {
   "cell_type": "markdown",
   "metadata": {},
   "source": [
    "чем то заменить нельзя, пока мыслей нет, пусть будут NAN"
   ]
  },
  {
   "cell_type": "markdown",
   "metadata": {},
   "source": [
    "Суммарные продажи во всех регионах:"
   ]
  },
  {
   "cell_type": "code",
   "execution_count": 291,
   "metadata": {},
   "outputs": [],
   "source": [
    "data['total_sales'] = data[['na_sales','eu_sales','jp_sales','other_sales']].sum(axis=1)"
   ]
  },
  {
   "cell_type": "markdown",
   "metadata": {},
   "source": [
    "<div class=\"alert alert-success\">\n",
    "<b>ОТЛИЧНО! 👍</b>\n",
    "\n",
    "Здесь отлично. Не все это знают (обычно для \"сложения\" столбцов коллеги знаком \"\"+\" оперируют).\n",
    "</div>\n"
   ]
  },
  {
   "cell_type": "code",
   "execution_count": 292,
   "metadata": {},
   "outputs": [
    {
     "data": {
      "text/html": [
       "<div>\n",
       "<style scoped>\n",
       "    .dataframe tbody tr th:only-of-type {\n",
       "        vertical-align: middle;\n",
       "    }\n",
       "\n",
       "    .dataframe tbody tr th {\n",
       "        vertical-align: top;\n",
       "    }\n",
       "\n",
       "    .dataframe thead th {\n",
       "        text-align: right;\n",
       "    }\n",
       "</style>\n",
       "<table border=\"1\" class=\"dataframe\">\n",
       "  <thead>\n",
       "    <tr style=\"text-align: right;\">\n",
       "      <th></th>\n",
       "      <th>name</th>\n",
       "      <th>platform</th>\n",
       "      <th>year_of_release</th>\n",
       "      <th>genre</th>\n",
       "      <th>na_sales</th>\n",
       "      <th>eu_sales</th>\n",
       "      <th>jp_sales</th>\n",
       "      <th>other_sales</th>\n",
       "      <th>critic_score</th>\n",
       "      <th>user_score</th>\n",
       "      <th>rating</th>\n",
       "      <th>total_sales</th>\n",
       "    </tr>\n",
       "  </thead>\n",
       "  <tbody>\n",
       "    <tr>\n",
       "      <th>0</th>\n",
       "      <td>Wii Sports</td>\n",
       "      <td>Wii</td>\n",
       "      <td>2006.0</td>\n",
       "      <td>Sports</td>\n",
       "      <td>41.36</td>\n",
       "      <td>28.96</td>\n",
       "      <td>3.77</td>\n",
       "      <td>8.45</td>\n",
       "      <td>76.0</td>\n",
       "      <td>8</td>\n",
       "      <td>E</td>\n",
       "      <td>82.54</td>\n",
       "    </tr>\n",
       "    <tr>\n",
       "      <th>1</th>\n",
       "      <td>Super Mario Bros.</td>\n",
       "      <td>NES</td>\n",
       "      <td>1985.0</td>\n",
       "      <td>Platform</td>\n",
       "      <td>29.08</td>\n",
       "      <td>3.58</td>\n",
       "      <td>6.81</td>\n",
       "      <td>0.77</td>\n",
       "      <td>NaN</td>\n",
       "      <td>NaN</td>\n",
       "      <td>NaN</td>\n",
       "      <td>40.24</td>\n",
       "    </tr>\n",
       "    <tr>\n",
       "      <th>2</th>\n",
       "      <td>Mario Kart Wii</td>\n",
       "      <td>Wii</td>\n",
       "      <td>2008.0</td>\n",
       "      <td>Racing</td>\n",
       "      <td>15.68</td>\n",
       "      <td>12.76</td>\n",
       "      <td>3.79</td>\n",
       "      <td>3.29</td>\n",
       "      <td>82.0</td>\n",
       "      <td>8.3</td>\n",
       "      <td>E</td>\n",
       "      <td>35.52</td>\n",
       "    </tr>\n",
       "    <tr>\n",
       "      <th>3</th>\n",
       "      <td>Wii Sports Resort</td>\n",
       "      <td>Wii</td>\n",
       "      <td>2009.0</td>\n",
       "      <td>Sports</td>\n",
       "      <td>15.61</td>\n",
       "      <td>10.93</td>\n",
       "      <td>3.28</td>\n",
       "      <td>2.95</td>\n",
       "      <td>80.0</td>\n",
       "      <td>8</td>\n",
       "      <td>E</td>\n",
       "      <td>32.77</td>\n",
       "    </tr>\n",
       "    <tr>\n",
       "      <th>4</th>\n",
       "      <td>Pokemon Red/Pokemon Blue</td>\n",
       "      <td>GB</td>\n",
       "      <td>1996.0</td>\n",
       "      <td>Role-Playing</td>\n",
       "      <td>11.27</td>\n",
       "      <td>8.89</td>\n",
       "      <td>10.22</td>\n",
       "      <td>1.00</td>\n",
       "      <td>NaN</td>\n",
       "      <td>NaN</td>\n",
       "      <td>NaN</td>\n",
       "      <td>31.38</td>\n",
       "    </tr>\n",
       "    <tr>\n",
       "      <th>...</th>\n",
       "      <td>...</td>\n",
       "      <td>...</td>\n",
       "      <td>...</td>\n",
       "      <td>...</td>\n",
       "      <td>...</td>\n",
       "      <td>...</td>\n",
       "      <td>...</td>\n",
       "      <td>...</td>\n",
       "      <td>...</td>\n",
       "      <td>...</td>\n",
       "      <td>...</td>\n",
       "      <td>...</td>\n",
       "    </tr>\n",
       "    <tr>\n",
       "      <th>16710</th>\n",
       "      <td>Samurai Warriors: Sanada Maru</td>\n",
       "      <td>PS3</td>\n",
       "      <td>2016.0</td>\n",
       "      <td>Action</td>\n",
       "      <td>0.00</td>\n",
       "      <td>0.00</td>\n",
       "      <td>0.01</td>\n",
       "      <td>0.00</td>\n",
       "      <td>NaN</td>\n",
       "      <td>NaN</td>\n",
       "      <td>NaN</td>\n",
       "      <td>0.01</td>\n",
       "    </tr>\n",
       "    <tr>\n",
       "      <th>16711</th>\n",
       "      <td>LMA Manager 2007</td>\n",
       "      <td>X360</td>\n",
       "      <td>2006.0</td>\n",
       "      <td>Sports</td>\n",
       "      <td>0.00</td>\n",
       "      <td>0.01</td>\n",
       "      <td>0.00</td>\n",
       "      <td>0.00</td>\n",
       "      <td>NaN</td>\n",
       "      <td>NaN</td>\n",
       "      <td>NaN</td>\n",
       "      <td>0.01</td>\n",
       "    </tr>\n",
       "    <tr>\n",
       "      <th>16712</th>\n",
       "      <td>Haitaka no Psychedelica</td>\n",
       "      <td>PSV</td>\n",
       "      <td>2016.0</td>\n",
       "      <td>Adventure</td>\n",
       "      <td>0.00</td>\n",
       "      <td>0.00</td>\n",
       "      <td>0.01</td>\n",
       "      <td>0.00</td>\n",
       "      <td>NaN</td>\n",
       "      <td>NaN</td>\n",
       "      <td>NaN</td>\n",
       "      <td>0.01</td>\n",
       "    </tr>\n",
       "    <tr>\n",
       "      <th>16713</th>\n",
       "      <td>Spirits &amp; Spells</td>\n",
       "      <td>GBA</td>\n",
       "      <td>2003.0</td>\n",
       "      <td>Platform</td>\n",
       "      <td>0.01</td>\n",
       "      <td>0.00</td>\n",
       "      <td>0.00</td>\n",
       "      <td>0.00</td>\n",
       "      <td>NaN</td>\n",
       "      <td>NaN</td>\n",
       "      <td>NaN</td>\n",
       "      <td>0.01</td>\n",
       "    </tr>\n",
       "    <tr>\n",
       "      <th>16714</th>\n",
       "      <td>Winning Post 8 2016</td>\n",
       "      <td>PSV</td>\n",
       "      <td>2016.0</td>\n",
       "      <td>Simulation</td>\n",
       "      <td>0.00</td>\n",
       "      <td>0.00</td>\n",
       "      <td>0.01</td>\n",
       "      <td>0.00</td>\n",
       "      <td>NaN</td>\n",
       "      <td>NaN</td>\n",
       "      <td>NaN</td>\n",
       "      <td>0.01</td>\n",
       "    </tr>\n",
       "  </tbody>\n",
       "</table>\n",
       "<p>16444 rows × 12 columns</p>\n",
       "</div>"
      ],
      "text/plain": [
       "                                name platform  year_of_release         genre  \\\n",
       "0                         Wii Sports      Wii           2006.0        Sports   \n",
       "1                  Super Mario Bros.      NES           1985.0      Platform   \n",
       "2                     Mario Kart Wii      Wii           2008.0        Racing   \n",
       "3                  Wii Sports Resort      Wii           2009.0        Sports   \n",
       "4           Pokemon Red/Pokemon Blue       GB           1996.0  Role-Playing   \n",
       "...                              ...      ...              ...           ...   \n",
       "16710  Samurai Warriors: Sanada Maru      PS3           2016.0        Action   \n",
       "16711               LMA Manager 2007     X360           2006.0        Sports   \n",
       "16712        Haitaka no Psychedelica      PSV           2016.0     Adventure   \n",
       "16713               Spirits & Spells      GBA           2003.0      Platform   \n",
       "16714            Winning Post 8 2016      PSV           2016.0    Simulation   \n",
       "\n",
       "       na_sales  eu_sales  jp_sales  other_sales  critic_score user_score  \\\n",
       "0         41.36     28.96      3.77         8.45          76.0          8   \n",
       "1         29.08      3.58      6.81         0.77           NaN        NaN   \n",
       "2         15.68     12.76      3.79         3.29          82.0        8.3   \n",
       "3         15.61     10.93      3.28         2.95          80.0          8   \n",
       "4         11.27      8.89     10.22         1.00           NaN        NaN   \n",
       "...         ...       ...       ...          ...           ...        ...   \n",
       "16710      0.00      0.00      0.01         0.00           NaN        NaN   \n",
       "16711      0.00      0.01      0.00         0.00           NaN        NaN   \n",
       "16712      0.00      0.00      0.01         0.00           NaN        NaN   \n",
       "16713      0.01      0.00      0.00         0.00           NaN        NaN   \n",
       "16714      0.00      0.00      0.01         0.00           NaN        NaN   \n",
       "\n",
       "      rating  total_sales  \n",
       "0          E        82.54  \n",
       "1        NaN        40.24  \n",
       "2          E        35.52  \n",
       "3          E        32.77  \n",
       "4        NaN        31.38  \n",
       "...      ...          ...  \n",
       "16710    NaN         0.01  \n",
       "16711    NaN         0.01  \n",
       "16712    NaN         0.01  \n",
       "16713    NaN         0.01  \n",
       "16714    NaN         0.01  \n",
       "\n",
       "[16444 rows x 12 columns]"
      ]
     },
     "execution_count": 292,
     "metadata": {},
     "output_type": "execute_result"
    }
   ],
   "source": [
    "data"
   ]
  },
  {
   "cell_type": "markdown",
   "metadata": {},
   "source": [
    "# Поиск дубликатов"
   ]
  },
  {
   "cell_type": "code",
   "execution_count": 293,
   "metadata": {},
   "outputs": [
    {
     "data": {
      "text/plain": [
       "False    16444\n",
       "dtype: int64"
      ]
     },
     "execution_count": 293,
     "metadata": {},
     "output_type": "execute_result"
    }
   ],
   "source": [
    "#поиск явных дубликатов\n",
    "data.duplicated().value_counts()"
   ]
  },
  {
   "cell_type": "code",
   "execution_count": null,
   "metadata": {},
   "outputs": [],
   "source": []
  },
  {
   "cell_type": "code",
   "execution_count": 294,
   "metadata": {},
   "outputs": [
    {
     "data": {
      "text/html": [
       "<div>\n",
       "<style scoped>\n",
       "    .dataframe tbody tr th:only-of-type {\n",
       "        vertical-align: middle;\n",
       "    }\n",
       "\n",
       "    .dataframe tbody tr th {\n",
       "        vertical-align: top;\n",
       "    }\n",
       "\n",
       "    .dataframe thead th {\n",
       "        text-align: right;\n",
       "    }\n",
       "</style>\n",
       "<table border=\"1\" class=\"dataframe\">\n",
       "  <thead>\n",
       "    <tr style=\"text-align: right;\">\n",
       "      <th></th>\n",
       "      <th>name</th>\n",
       "      <th>platform</th>\n",
       "      <th>year_of_release</th>\n",
       "      <th>genre</th>\n",
       "      <th>na_sales</th>\n",
       "      <th>eu_sales</th>\n",
       "      <th>jp_sales</th>\n",
       "      <th>other_sales</th>\n",
       "      <th>critic_score</th>\n",
       "      <th>user_score</th>\n",
       "      <th>rating</th>\n",
       "      <th>total_sales</th>\n",
       "    </tr>\n",
       "  </thead>\n",
       "  <tbody>\n",
       "    <tr>\n",
       "      <th>604</th>\n",
       "      <td>Madden NFL 13</td>\n",
       "      <td>PS3</td>\n",
       "      <td>2012.0</td>\n",
       "      <td>Sports</td>\n",
       "      <td>2.11</td>\n",
       "      <td>0.22</td>\n",
       "      <td>0.0</td>\n",
       "      <td>0.23</td>\n",
       "      <td>83.0</td>\n",
       "      <td>5.5</td>\n",
       "      <td>E</td>\n",
       "      <td>2.56</td>\n",
       "    </tr>\n",
       "    <tr>\n",
       "      <th>16230</th>\n",
       "      <td>Madden NFL 13</td>\n",
       "      <td>PS3</td>\n",
       "      <td>2012.0</td>\n",
       "      <td>Sports</td>\n",
       "      <td>0.00</td>\n",
       "      <td>0.01</td>\n",
       "      <td>0.0</td>\n",
       "      <td>0.00</td>\n",
       "      <td>83.0</td>\n",
       "      <td>5.5</td>\n",
       "      <td>E</td>\n",
       "      <td>0.01</td>\n",
       "    </tr>\n",
       "  </tbody>\n",
       "</table>\n",
       "</div>"
      ],
      "text/plain": [
       "                name platform  year_of_release   genre  na_sales  eu_sales  \\\n",
       "604    Madden NFL 13      PS3           2012.0  Sports      2.11      0.22   \n",
       "16230  Madden NFL 13      PS3           2012.0  Sports      0.00      0.01   \n",
       "\n",
       "       jp_sales  other_sales  critic_score user_score rating  total_sales  \n",
       "604         0.0         0.23          83.0        5.5      E         2.56  \n",
       "16230       0.0         0.00          83.0        5.5      E         0.01  "
      ]
     },
     "execution_count": 294,
     "metadata": {},
     "output_type": "execute_result"
    }
   ],
   "source": [
    "#проверяю не явные дубликаты толотко в тех столбцах, где логически они могут быть\n",
    "data[data.duplicated(subset=['name', 'platform', 'year_of_release', 'genre', 'rating'], keep=False)]"
   ]
  },
  {
   "cell_type": "markdown",
   "metadata": {},
   "source": [
    "явных дуюликатов нет, отдельно по стобцам наше две строки. Строку 16230 можно просто удалить, она выглядит как не до конца заполненная строка выше"
   ]
  },
  {
   "cell_type": "code",
   "execution_count": 295,
   "metadata": {},
   "outputs": [
    {
     "data": {
      "text/plain": [
       "16444"
      ]
     },
     "execution_count": 295,
     "metadata": {},
     "output_type": "execute_result"
    }
   ],
   "source": [
    "data.shape[0]"
   ]
  },
  {
   "cell_type": "code",
   "execution_count": 296,
   "metadata": {},
   "outputs": [],
   "source": [
    "#удаляю одну строку\n",
    "data = data.drop(data[data.index == 16230].index)"
   ]
  },
  {
   "cell_type": "code",
   "execution_count": 297,
   "metadata": {},
   "outputs": [
    {
     "data": {
      "text/plain": [
       "16443"
      ]
     },
     "execution_count": 297,
     "metadata": {},
     "output_type": "execute_result"
    }
   ],
   "source": [
    "#проверяю что \"ушла\" только одна строка\n",
    "data.shape[0]"
   ]
  },
  {
   "cell_type": "markdown",
   "metadata": {},
   "source": [
    "# Преобразования типов данных"
   ]
  },
  {
   "cell_type": "code",
   "execution_count": 298,
   "metadata": {},
   "outputs": [],
   "source": [
    "data['user_score'] = data['user_score'].astype('float64')"
   ]
  },
  {
   "cell_type": "markdown",
   "metadata": {},
   "source": [
    "вывод по предобработке данных:\n",
    "    1. основные пропуски встречаются в оценках критиков и пользователей, их оставил как есть, без заглушек. заполнять средними и медианами нельзя, так как это может повлиять на итоговую аналитику\n",
    "    2. всего примерно 30% пропусков в каждой категории\n",
    "    3. удалил всего 2 дубля\n",
    "    4. добавил data['total_sales'] с суммой всех продаж по регионам"
   ]
  },
  {
   "cell_type": "markdown",
   "metadata": {},
   "source": [
    "# 3 исследовательский анализ данных"
   ]
  },
  {
   "cell_type": "markdown",
   "metadata": {},
   "source": [
    "# 3.1 Посмотрите, сколько игр выпускалось в разные годы. Важны ли данные за все периоды?"
   ]
  },
  {
   "cell_type": "code",
   "execution_count": 299,
   "metadata": {},
   "outputs": [
    {
     "data": {
      "text/plain": [
       "<AxesSubplot:title={'center':'количество выпущеных игр по годам'}, xlabel='year_of_release'>"
      ]
     },
     "execution_count": 299,
     "metadata": {},
     "output_type": "execute_result"
    },
    {
     "data": {
      "image/png": "[encoded data removed]",
      "text/plain": [
       "<Figure size 1440x720 with 1 Axes>"
      ]
     },
     "metadata": {
      "needs_background": "light"
     },
     "output_type": "display_data"
    }
   ],
   "source": [
    "year_of_release_table= pd.pivot_table(data, index='year_of_release', values='name', aggfunc='count')\n",
    "year_of_release_table.columns = ['name_count']\n",
    "year_of_release_table.plot(figsize=[20, 10], title = 'количество выпущеных игр по годам')"
   ]
  },
  {
   "cell_type": "markdown",
   "metadata": {},
   "source": [
    "c 1980 по 1993 года количество игр не большое, потом с 1993 года начинает появлятся игры на DOS и винде, после 2000го стали появояется XP, видео карты становятся производительнее, появляется 3D графика, помню много было компьютеных салонов, где дети резались в контру. Поосле 2008 года спад из за кризиса, основные игроки на тот момент начали сильно терять в стоимости и сокращать штат. Также с 2008 года в игоровую индустрию приходят мобильные игры, которых в нашей выборке нет"
   ]
  },
  {
   "cell_type": "code",
   "execution_count": 300,
   "metadata": {},
   "outputs": [
    {
     "name": "stderr",
     "output_type": "stream",
     "text": [
      "/tmp/ipykernel_31/1512582411.py:4: UserWarning: Boolean Series key will be reindexed to match DataFrame index.\n",
      "  data_nodupl_name_year[data_nodupl_name_tear.duplicated(subset=['name', 'year_of_release'], keep=False)]\n"
     ]
    },
    {
     "data": {
      "text/html": [
       "<div>\n",
       "<style scoped>\n",
       "    .dataframe tbody tr th:only-of-type {\n",
       "        vertical-align: middle;\n",
       "    }\n",
       "\n",
       "    .dataframe tbody tr th {\n",
       "        vertical-align: top;\n",
       "    }\n",
       "\n",
       "    .dataframe thead th {\n",
       "        text-align: right;\n",
       "    }\n",
       "</style>\n",
       "<table border=\"1\" class=\"dataframe\">\n",
       "  <thead>\n",
       "    <tr style=\"text-align: right;\">\n",
       "      <th></th>\n",
       "      <th>name</th>\n",
       "      <th>platform</th>\n",
       "      <th>year_of_release</th>\n",
       "      <th>genre</th>\n",
       "      <th>na_sales</th>\n",
       "      <th>eu_sales</th>\n",
       "      <th>jp_sales</th>\n",
       "      <th>other_sales</th>\n",
       "      <th>critic_score</th>\n",
       "      <th>user_score</th>\n",
       "      <th>rating</th>\n",
       "      <th>total_sales</th>\n",
       "    </tr>\n",
       "  </thead>\n",
       "  <tbody>\n",
       "    <tr>\n",
       "      <th>16</th>\n",
       "      <td>Grand Theft Auto V</td>\n",
       "      <td>PS3</td>\n",
       "      <td>2013.0</td>\n",
       "      <td>Action</td>\n",
       "      <td>7.02</td>\n",
       "      <td>9.09</td>\n",
       "      <td>0.98</td>\n",
       "      <td>3.96</td>\n",
       "      <td>97.0</td>\n",
       "      <td>8.2</td>\n",
       "      <td>M</td>\n",
       "      <td>21.05</td>\n",
       "    </tr>\n",
       "    <tr>\n",
       "      <th>23</th>\n",
       "      <td>Grand Theft Auto V</td>\n",
       "      <td>X360</td>\n",
       "      <td>2013.0</td>\n",
       "      <td>Action</td>\n",
       "      <td>9.66</td>\n",
       "      <td>5.14</td>\n",
       "      <td>0.06</td>\n",
       "      <td>1.41</td>\n",
       "      <td>97.0</td>\n",
       "      <td>8.1</td>\n",
       "      <td>M</td>\n",
       "      <td>16.27</td>\n",
       "    </tr>\n",
       "    <tr>\n",
       "      <th>29</th>\n",
       "      <td>Call of Duty: Modern Warfare 3</td>\n",
       "      <td>X360</td>\n",
       "      <td>2011.0</td>\n",
       "      <td>Shooter</td>\n",
       "      <td>9.04</td>\n",
       "      <td>4.24</td>\n",
       "      <td>0.13</td>\n",
       "      <td>1.32</td>\n",
       "      <td>88.0</td>\n",
       "      <td>3.4</td>\n",
       "      <td>M</td>\n",
       "      <td>14.73</td>\n",
       "    </tr>\n",
       "    <tr>\n",
       "      <th>31</th>\n",
       "      <td>Call of Duty: Black Ops 3</td>\n",
       "      <td>PS4</td>\n",
       "      <td>2015.0</td>\n",
       "      <td>Shooter</td>\n",
       "      <td>6.03</td>\n",
       "      <td>5.86</td>\n",
       "      <td>0.36</td>\n",
       "      <td>2.38</td>\n",
       "      <td>NaN</td>\n",
       "      <td>NaN</td>\n",
       "      <td>NaN</td>\n",
       "      <td>14.63</td>\n",
       "    </tr>\n",
       "    <tr>\n",
       "      <th>32</th>\n",
       "      <td>Call of Duty: Black Ops</td>\n",
       "      <td>X360</td>\n",
       "      <td>2010.0</td>\n",
       "      <td>Shooter</td>\n",
       "      <td>9.70</td>\n",
       "      <td>3.68</td>\n",
       "      <td>0.11</td>\n",
       "      <td>1.13</td>\n",
       "      <td>87.0</td>\n",
       "      <td>6.3</td>\n",
       "      <td>M</td>\n",
       "      <td>14.62</td>\n",
       "    </tr>\n",
       "    <tr>\n",
       "      <th>...</th>\n",
       "      <td>...</td>\n",
       "      <td>...</td>\n",
       "      <td>...</td>\n",
       "      <td>...</td>\n",
       "      <td>...</td>\n",
       "      <td>...</td>\n",
       "      <td>...</td>\n",
       "      <td>...</td>\n",
       "      <td>...</td>\n",
       "      <td>...</td>\n",
       "      <td>...</td>\n",
       "      <td>...</td>\n",
       "    </tr>\n",
       "    <tr>\n",
       "      <th>16692</th>\n",
       "      <td>Metal Gear Solid V: Ground Zeroes</td>\n",
       "      <td>PC</td>\n",
       "      <td>2014.0</td>\n",
       "      <td>Action</td>\n",
       "      <td>0.00</td>\n",
       "      <td>0.01</td>\n",
       "      <td>0.00</td>\n",
       "      <td>0.00</td>\n",
       "      <td>80.0</td>\n",
       "      <td>7.6</td>\n",
       "      <td>M</td>\n",
       "      <td>0.01</td>\n",
       "    </tr>\n",
       "    <tr>\n",
       "      <th>16709</th>\n",
       "      <td>SCORE International Baja 1000: The Official Game</td>\n",
       "      <td>PS2</td>\n",
       "      <td>2008.0</td>\n",
       "      <td>Racing</td>\n",
       "      <td>0.00</td>\n",
       "      <td>0.00</td>\n",
       "      <td>0.00</td>\n",
       "      <td>0.00</td>\n",
       "      <td>NaN</td>\n",
       "      <td>NaN</td>\n",
       "      <td>NaN</td>\n",
       "      <td>0.00</td>\n",
       "    </tr>\n",
       "    <tr>\n",
       "      <th>16710</th>\n",
       "      <td>Samurai Warriors: Sanada Maru</td>\n",
       "      <td>PS3</td>\n",
       "      <td>2016.0</td>\n",
       "      <td>Action</td>\n",
       "      <td>0.00</td>\n",
       "      <td>0.00</td>\n",
       "      <td>0.01</td>\n",
       "      <td>0.00</td>\n",
       "      <td>NaN</td>\n",
       "      <td>NaN</td>\n",
       "      <td>NaN</td>\n",
       "      <td>0.01</td>\n",
       "    </tr>\n",
       "    <tr>\n",
       "      <th>16713</th>\n",
       "      <td>Spirits &amp; Spells</td>\n",
       "      <td>GBA</td>\n",
       "      <td>2003.0</td>\n",
       "      <td>Platform</td>\n",
       "      <td>0.01</td>\n",
       "      <td>0.00</td>\n",
       "      <td>0.00</td>\n",
       "      <td>0.00</td>\n",
       "      <td>NaN</td>\n",
       "      <td>NaN</td>\n",
       "      <td>NaN</td>\n",
       "      <td>0.01</td>\n",
       "    </tr>\n",
       "    <tr>\n",
       "      <th>16714</th>\n",
       "      <td>Winning Post 8 2016</td>\n",
       "      <td>PSV</td>\n",
       "      <td>2016.0</td>\n",
       "      <td>Simulation</td>\n",
       "      <td>0.00</td>\n",
       "      <td>0.00</td>\n",
       "      <td>0.01</td>\n",
       "      <td>0.00</td>\n",
       "      <td>NaN</td>\n",
       "      <td>NaN</td>\n",
       "      <td>NaN</td>\n",
       "      <td>0.01</td>\n",
       "    </tr>\n",
       "  </tbody>\n",
       "</table>\n",
       "<p>6581 rows × 12 columns</p>\n",
       "</div>"
      ],
      "text/plain": [
       "                                                   name platform  \\\n",
       "16                                   Grand Theft Auto V      PS3   \n",
       "23                                   Grand Theft Auto V     X360   \n",
       "29                       Call of Duty: Modern Warfare 3     X360   \n",
       "31                            Call of Duty: Black Ops 3      PS4   \n",
       "32                              Call of Duty: Black Ops     X360   \n",
       "...                                                 ...      ...   \n",
       "16692                 Metal Gear Solid V: Ground Zeroes       PC   \n",
       "16709  SCORE International Baja 1000: The Official Game      PS2   \n",
       "16710                     Samurai Warriors: Sanada Maru      PS3   \n",
       "16713                                  Spirits & Spells      GBA   \n",
       "16714                               Winning Post 8 2016      PSV   \n",
       "\n",
       "       year_of_release       genre  na_sales  eu_sales  jp_sales  other_sales  \\\n",
       "16              2013.0      Action      7.02      9.09      0.98         3.96   \n",
       "23              2013.0      Action      9.66      5.14      0.06         1.41   \n",
       "29              2011.0     Shooter      9.04      4.24      0.13         1.32   \n",
       "31              2015.0     Shooter      6.03      5.86      0.36         2.38   \n",
       "32              2010.0     Shooter      9.70      3.68      0.11         1.13   \n",
       "...                ...         ...       ...       ...       ...          ...   \n",
       "16692           2014.0      Action      0.00      0.01      0.00         0.00   \n",
       "16709           2008.0      Racing      0.00      0.00      0.00         0.00   \n",
       "16710           2016.0      Action      0.00      0.00      0.01         0.00   \n",
       "16713           2003.0    Platform      0.01      0.00      0.00         0.00   \n",
       "16714           2016.0  Simulation      0.00      0.00      0.01         0.00   \n",
       "\n",
       "       critic_score  user_score rating  total_sales  \n",
       "16             97.0         8.2      M        21.05  \n",
       "23             97.0         8.1      M        16.27  \n",
       "29             88.0         3.4      M        14.73  \n",
       "31              NaN         NaN    NaN        14.63  \n",
       "32             87.0         6.3      M        14.62  \n",
       "...             ...         ...    ...          ...  \n",
       "16692          80.0         7.6      M         0.01  \n",
       "16709           NaN         NaN    NaN         0.00  \n",
       "16710           NaN         NaN    NaN         0.01  \n",
       "16713           NaN         NaN    NaN         0.01  \n",
       "16714           NaN         NaN    NaN         0.01  \n",
       "\n",
       "[6581 rows x 12 columns]"
      ]
     },
     "execution_count": 300,
     "metadata": {},
     "output_type": "execute_result"
    }
   ],
   "source": [
    "# пробую оставить только одну игру в подсчете, выявляю дубликаты, получается 6582 строк\n",
    "#для дальнейшей работы с таблицей без дубликаов создаю новую таблицу data_nodupl_name_tear\n",
    "data_nodupl_name_year = data\n",
    "data_nodupl_name_year[data_nodupl_name_tear.duplicated(subset=['name', 'year_of_release'], keep=False)]"
   ]
  },
  {
   "cell_type": "code",
   "execution_count": 301,
   "metadata": {},
   "outputs": [],
   "source": [
    "#удаляю дубли, оставляю только первую строку\n",
    "data_nodupl_name_year = data_nodupl_name_year.drop_duplicates(subset=['name', 'year_of_release'])"
   ]
  },
  {
   "cell_type": "code",
   "execution_count": 302,
   "metadata": {},
   "outputs": [
    {
     "name": "stderr",
     "output_type": "stream",
     "text": [
      "/tmp/ipykernel_31/3822322743.py:2: UserWarning: Boolean Series key will be reindexed to match DataFrame index.\n",
      "  data_nodupl_name_year[data_nodupl_name_tear.duplicated(subset=['name', 'year_of_release'], keep=False)]\n"
     ]
    },
    {
     "data": {
      "text/html": [
       "<div>\n",
       "<style scoped>\n",
       "    .dataframe tbody tr th:only-of-type {\n",
       "        vertical-align: middle;\n",
       "    }\n",
       "\n",
       "    .dataframe tbody tr th {\n",
       "        vertical-align: top;\n",
       "    }\n",
       "\n",
       "    .dataframe thead th {\n",
       "        text-align: right;\n",
       "    }\n",
       "</style>\n",
       "<table border=\"1\" class=\"dataframe\">\n",
       "  <thead>\n",
       "    <tr style=\"text-align: right;\">\n",
       "      <th></th>\n",
       "      <th>name</th>\n",
       "      <th>platform</th>\n",
       "      <th>year_of_release</th>\n",
       "      <th>genre</th>\n",
       "      <th>na_sales</th>\n",
       "      <th>eu_sales</th>\n",
       "      <th>jp_sales</th>\n",
       "      <th>other_sales</th>\n",
       "      <th>critic_score</th>\n",
       "      <th>user_score</th>\n",
       "      <th>rating</th>\n",
       "      <th>total_sales</th>\n",
       "    </tr>\n",
       "  </thead>\n",
       "  <tbody>\n",
       "    <tr>\n",
       "      <th>16</th>\n",
       "      <td>Grand Theft Auto V</td>\n",
       "      <td>PS3</td>\n",
       "      <td>2013.0</td>\n",
       "      <td>Action</td>\n",
       "      <td>7.02</td>\n",
       "      <td>9.09</td>\n",
       "      <td>0.98</td>\n",
       "      <td>3.96</td>\n",
       "      <td>97.0</td>\n",
       "      <td>8.2</td>\n",
       "      <td>M</td>\n",
       "      <td>21.05</td>\n",
       "    </tr>\n",
       "    <tr>\n",
       "      <th>29</th>\n",
       "      <td>Call of Duty: Modern Warfare 3</td>\n",
       "      <td>X360</td>\n",
       "      <td>2011.0</td>\n",
       "      <td>Shooter</td>\n",
       "      <td>9.04</td>\n",
       "      <td>4.24</td>\n",
       "      <td>0.13</td>\n",
       "      <td>1.32</td>\n",
       "      <td>88.0</td>\n",
       "      <td>3.4</td>\n",
       "      <td>M</td>\n",
       "      <td>14.73</td>\n",
       "    </tr>\n",
       "    <tr>\n",
       "      <th>31</th>\n",
       "      <td>Call of Duty: Black Ops 3</td>\n",
       "      <td>PS4</td>\n",
       "      <td>2015.0</td>\n",
       "      <td>Shooter</td>\n",
       "      <td>6.03</td>\n",
       "      <td>5.86</td>\n",
       "      <td>0.36</td>\n",
       "      <td>2.38</td>\n",
       "      <td>NaN</td>\n",
       "      <td>NaN</td>\n",
       "      <td>NaN</td>\n",
       "      <td>14.63</td>\n",
       "    </tr>\n",
       "    <tr>\n",
       "      <th>32</th>\n",
       "      <td>Call of Duty: Black Ops</td>\n",
       "      <td>X360</td>\n",
       "      <td>2010.0</td>\n",
       "      <td>Shooter</td>\n",
       "      <td>9.70</td>\n",
       "      <td>3.68</td>\n",
       "      <td>0.11</td>\n",
       "      <td>1.13</td>\n",
       "      <td>87.0</td>\n",
       "      <td>6.3</td>\n",
       "      <td>M</td>\n",
       "      <td>14.62</td>\n",
       "    </tr>\n",
       "    <tr>\n",
       "      <th>34</th>\n",
       "      <td>Call of Duty: Black Ops II</td>\n",
       "      <td>PS3</td>\n",
       "      <td>2012.0</td>\n",
       "      <td>Shooter</td>\n",
       "      <td>4.99</td>\n",
       "      <td>5.73</td>\n",
       "      <td>0.65</td>\n",
       "      <td>2.42</td>\n",
       "      <td>83.0</td>\n",
       "      <td>5.3</td>\n",
       "      <td>M</td>\n",
       "      <td>13.79</td>\n",
       "    </tr>\n",
       "    <tr>\n",
       "      <th>...</th>\n",
       "      <td>...</td>\n",
       "      <td>...</td>\n",
       "      <td>...</td>\n",
       "      <td>...</td>\n",
       "      <td>...</td>\n",
       "      <td>...</td>\n",
       "      <td>...</td>\n",
       "      <td>...</td>\n",
       "      <td>...</td>\n",
       "      <td>...</td>\n",
       "      <td>...</td>\n",
       "      <td>...</td>\n",
       "    </tr>\n",
       "    <tr>\n",
       "      <th>16149</th>\n",
       "      <td>Winning Post 7 Maximum 2008</td>\n",
       "      <td>PS2</td>\n",
       "      <td>2008.0</td>\n",
       "      <td>Sports</td>\n",
       "      <td>0.00</td>\n",
       "      <td>0.00</td>\n",
       "      <td>0.01</td>\n",
       "      <td>0.00</td>\n",
       "      <td>NaN</td>\n",
       "      <td>NaN</td>\n",
       "      <td>NaN</td>\n",
       "      <td>0.01</td>\n",
       "    </tr>\n",
       "    <tr>\n",
       "      <th>16194</th>\n",
       "      <td>Grooverider: Slot Car Thunder</td>\n",
       "      <td>XB</td>\n",
       "      <td>2003.0</td>\n",
       "      <td>Racing</td>\n",
       "      <td>0.01</td>\n",
       "      <td>0.00</td>\n",
       "      <td>0.00</td>\n",
       "      <td>0.00</td>\n",
       "      <td>45.0</td>\n",
       "      <td>7.3</td>\n",
       "      <td>E</td>\n",
       "      <td>0.01</td>\n",
       "    </tr>\n",
       "    <tr>\n",
       "      <th>16280</th>\n",
       "      <td>Sherlock Holmes: The Devil's Daughter</td>\n",
       "      <td>PC</td>\n",
       "      <td>2016.0</td>\n",
       "      <td>Adventure</td>\n",
       "      <td>0.00</td>\n",
       "      <td>0.01</td>\n",
       "      <td>0.00</td>\n",
       "      <td>0.00</td>\n",
       "      <td>65.0</td>\n",
       "      <td>7.3</td>\n",
       "      <td>T</td>\n",
       "      <td>0.01</td>\n",
       "    </tr>\n",
       "    <tr>\n",
       "      <th>16281</th>\n",
       "      <td>Sakura-Sou no Pet na Kanojo</td>\n",
       "      <td>PSP</td>\n",
       "      <td>2013.0</td>\n",
       "      <td>Adventure</td>\n",
       "      <td>0.00</td>\n",
       "      <td>0.00</td>\n",
       "      <td>0.01</td>\n",
       "      <td>0.00</td>\n",
       "      <td>NaN</td>\n",
       "      <td>NaN</td>\n",
       "      <td>NaN</td>\n",
       "      <td>0.01</td>\n",
       "    </tr>\n",
       "    <tr>\n",
       "      <th>16519</th>\n",
       "      <td>Akatsuki no Goei Trinity</td>\n",
       "      <td>PSP</td>\n",
       "      <td>2012.0</td>\n",
       "      <td>Adventure</td>\n",
       "      <td>0.00</td>\n",
       "      <td>0.00</td>\n",
       "      <td>0.01</td>\n",
       "      <td>0.00</td>\n",
       "      <td>NaN</td>\n",
       "      <td>NaN</td>\n",
       "      <td>NaN</td>\n",
       "      <td>0.01</td>\n",
       "    </tr>\n",
       "  </tbody>\n",
       "</table>\n",
       "<p>2333 rows × 12 columns</p>\n",
       "</div>"
      ],
      "text/plain": [
       "                                        name platform  year_of_release  \\\n",
       "16                        Grand Theft Auto V      PS3           2013.0   \n",
       "29            Call of Duty: Modern Warfare 3     X360           2011.0   \n",
       "31                 Call of Duty: Black Ops 3      PS4           2015.0   \n",
       "32                   Call of Duty: Black Ops     X360           2010.0   \n",
       "34                Call of Duty: Black Ops II      PS3           2012.0   \n",
       "...                                      ...      ...              ...   \n",
       "16149            Winning Post 7 Maximum 2008      PS2           2008.0   \n",
       "16194          Grooverider: Slot Car Thunder       XB           2003.0   \n",
       "16280  Sherlock Holmes: The Devil's Daughter       PC           2016.0   \n",
       "16281            Sakura-Sou no Pet na Kanojo      PSP           2013.0   \n",
       "16519               Akatsuki no Goei Trinity      PSP           2012.0   \n",
       "\n",
       "           genre  na_sales  eu_sales  jp_sales  other_sales  critic_score  \\\n",
       "16        Action      7.02      9.09      0.98         3.96          97.0   \n",
       "29       Shooter      9.04      4.24      0.13         1.32          88.0   \n",
       "31       Shooter      6.03      5.86      0.36         2.38           NaN   \n",
       "32       Shooter      9.70      3.68      0.11         1.13          87.0   \n",
       "34       Shooter      4.99      5.73      0.65         2.42          83.0   \n",
       "...          ...       ...       ...       ...          ...           ...   \n",
       "16149     Sports      0.00      0.00      0.01         0.00           NaN   \n",
       "16194     Racing      0.01      0.00      0.00         0.00          45.0   \n",
       "16280  Adventure      0.00      0.01      0.00         0.00          65.0   \n",
       "16281  Adventure      0.00      0.00      0.01         0.00           NaN   \n",
       "16519  Adventure      0.00      0.00      0.01         0.00           NaN   \n",
       "\n",
       "       user_score rating  total_sales  \n",
       "16            8.2      M        21.05  \n",
       "29            3.4      M        14.73  \n",
       "31            NaN    NaN        14.63  \n",
       "32            6.3      M        14.62  \n",
       "34            5.3      M        13.79  \n",
       "...           ...    ...          ...  \n",
       "16149         NaN    NaN         0.01  \n",
       "16194         7.3      E         0.01  \n",
       "16280         7.3      T         0.01  \n",
       "16281         NaN    NaN         0.01  \n",
       "16519         NaN    NaN         0.01  \n",
       "\n",
       "[2333 rows x 12 columns]"
      ]
     },
     "execution_count": 302,
     "metadata": {},
     "output_type": "execute_result"
    }
   ],
   "source": [
    "#проверяю\n",
    "data_nodupl_name_year[data_nodupl_name_tear.duplicated(subset=['name', 'year_of_release'], keep=False)]"
   ]
  },
  {
   "cell_type": "code",
   "execution_count": 303,
   "metadata": {},
   "outputs": [
    {
     "data": {
      "text/plain": [
       "<AxesSubplot:title={'center':'количество выпущеных игр по годам без дублей по играм'}, xlabel='годы', ylabel='Количество игр'>"
      ]
     },
     "execution_count": 303,
     "metadata": {},
     "output_type": "execute_result"
    },
    {
     "data": {
      "image/png": "[encoded data removed]",
      "text/plain": [
       "<Figure size 1440x720 with 1 Axes>"
      ]
     },
     "metadata": {
      "needs_background": "light"
     },
     "output_type": "display_data"
    }
   ],
   "source": [
    "year_of_release_table2= data_nodupl_name_year.pivot_table(index='year_of_release', values='name', aggfunc='count')\n",
    "year_of_release_table2.columns = ['name_count']\n",
    "year_of_release_table2.plot(figsize=[20, 10], title = 'количество выпущеных игр по годам без дублей по играм', \n",
    "                            xlabel='годы', ylabel='Количество игр')"
   ]
  },
  {
   "cell_type": "markdown",
   "metadata": {},
   "source": [
    "1. количество упало примерно на треть\n",
    "2. но динамика практически не  поменялась, выводы по обоим графикам можно сделать одинаковые\n",
    "\n",
    "в целом по подходу к удалению дублей - в этом случае действительно необходимо обсуждение  с заказчиком, какая у них цель. ведь удаляю дубликаты по годам, я удаляю игры выпущеные на других платформах, вопрос к заказчику - считает он их отдельно или нет.  \n"
   ]
  },
  {
   "cell_type": "markdown",
   "metadata": {},
   "source": [
    "# 3.2 как менялись продажи по платформам. Выберите платформы с наибольшими суммарными продажами и постройте распределение по годам. За какой характерный срок появляются новые и исчезают старые платформы?"
   ]
  },
  {
   "cell_type": "code",
   "execution_count": 304,
   "metadata": {},
   "outputs": [
    {
     "data": {
      "text/html": [
       "<div>\n",
       "<style scoped>\n",
       "    .dataframe tbody tr th:only-of-type {\n",
       "        vertical-align: middle;\n",
       "    }\n",
       "\n",
       "    .dataframe tbody tr th {\n",
       "        vertical-align: top;\n",
       "    }\n",
       "\n",
       "    .dataframe thead th {\n",
       "        text-align: right;\n",
       "    }\n",
       "</style>\n",
       "<table border=\"1\" class=\"dataframe\">\n",
       "  <thead>\n",
       "    <tr style=\"text-align: right;\">\n",
       "      <th></th>\n",
       "      <th>total_sales</th>\n",
       "    </tr>\n",
       "    <tr>\n",
       "      <th>platform</th>\n",
       "      <th></th>\n",
       "    </tr>\n",
       "  </thead>\n",
       "  <tbody>\n",
       "    <tr>\n",
       "      <th>PS2</th>\n",
       "      <td>1233.56</td>\n",
       "    </tr>\n",
       "    <tr>\n",
       "      <th>X360</th>\n",
       "      <td>961.24</td>\n",
       "    </tr>\n",
       "    <tr>\n",
       "      <th>PS3</th>\n",
       "      <td>931.33</td>\n",
       "    </tr>\n",
       "    <tr>\n",
       "      <th>Wii</th>\n",
       "      <td>891.18</td>\n",
       "    </tr>\n",
       "    <tr>\n",
       "      <th>DS</th>\n",
       "      <td>802.78</td>\n",
       "    </tr>\n",
       "    <tr>\n",
       "      <th>PS</th>\n",
       "      <td>727.58</td>\n",
       "    </tr>\n",
       "    <tr>\n",
       "      <th>PS4</th>\n",
       "      <td>314.14</td>\n",
       "    </tr>\n",
       "    <tr>\n",
       "      <th>GBA</th>\n",
       "      <td>312.88</td>\n",
       "    </tr>\n",
       "    <tr>\n",
       "      <th>PSP</th>\n",
       "      <td>289.53</td>\n",
       "    </tr>\n",
       "    <tr>\n",
       "      <th>3DS</th>\n",
       "      <td>257.81</td>\n",
       "    </tr>\n",
       "    <tr>\n",
       "      <th>PC</th>\n",
       "      <td>255.76</td>\n",
       "    </tr>\n",
       "    <tr>\n",
       "      <th>GB</th>\n",
       "      <td>254.43</td>\n",
       "    </tr>\n",
       "    <tr>\n",
       "      <th>XB</th>\n",
       "      <td>251.57</td>\n",
       "    </tr>\n",
       "    <tr>\n",
       "      <th>NES</th>\n",
       "      <td>251.05</td>\n",
       "    </tr>\n",
       "    <tr>\n",
       "      <th>N64</th>\n",
       "      <td>218.01</td>\n",
       "    </tr>\n",
       "    <tr>\n",
       "      <th>SNES</th>\n",
       "      <td>200.04</td>\n",
       "    </tr>\n",
       "    <tr>\n",
       "      <th>GC</th>\n",
       "      <td>196.73</td>\n",
       "    </tr>\n",
       "    <tr>\n",
       "      <th>XOne</th>\n",
       "      <td>159.32</td>\n",
       "    </tr>\n",
       "    <tr>\n",
       "      <th>2600</th>\n",
       "      <td>86.48</td>\n",
       "    </tr>\n",
       "    <tr>\n",
       "      <th>WiiU</th>\n",
       "      <td>82.19</td>\n",
       "    </tr>\n",
       "    <tr>\n",
       "      <th>PSV</th>\n",
       "      <td>53.81</td>\n",
       "    </tr>\n",
       "    <tr>\n",
       "      <th>SAT</th>\n",
       "      <td>33.59</td>\n",
       "    </tr>\n",
       "    <tr>\n",
       "      <th>GEN</th>\n",
       "      <td>28.35</td>\n",
       "    </tr>\n",
       "    <tr>\n",
       "      <th>DC</th>\n",
       "      <td>15.95</td>\n",
       "    </tr>\n",
       "    <tr>\n",
       "      <th>SCD</th>\n",
       "      <td>1.86</td>\n",
       "    </tr>\n",
       "    <tr>\n",
       "      <th>NG</th>\n",
       "      <td>1.44</td>\n",
       "    </tr>\n",
       "    <tr>\n",
       "      <th>WS</th>\n",
       "      <td>1.42</td>\n",
       "    </tr>\n",
       "    <tr>\n",
       "      <th>TG16</th>\n",
       "      <td>0.16</td>\n",
       "    </tr>\n",
       "    <tr>\n",
       "      <th>3DO</th>\n",
       "      <td>0.10</td>\n",
       "    </tr>\n",
       "    <tr>\n",
       "      <th>GG</th>\n",
       "      <td>0.04</td>\n",
       "    </tr>\n",
       "    <tr>\n",
       "      <th>PCFX</th>\n",
       "      <td>0.03</td>\n",
       "    </tr>\n",
       "  </tbody>\n",
       "</table>\n",
       "</div>"
      ],
      "text/plain": [
       "          total_sales\n",
       "platform             \n",
       "PS2           1233.56\n",
       "X360           961.24\n",
       "PS3            931.33\n",
       "Wii            891.18\n",
       "DS             802.78\n",
       "PS             727.58\n",
       "PS4            314.14\n",
       "GBA            312.88\n",
       "PSP            289.53\n",
       "3DS            257.81\n",
       "PC             255.76\n",
       "GB             254.43\n",
       "XB             251.57\n",
       "NES            251.05\n",
       "N64            218.01\n",
       "SNES           200.04\n",
       "GC             196.73\n",
       "XOne           159.32\n",
       "2600            86.48\n",
       "WiiU            82.19\n",
       "PSV             53.81\n",
       "SAT             33.59\n",
       "GEN             28.35\n",
       "DC              15.95\n",
       "SCD              1.86\n",
       "NG               1.44\n",
       "WS               1.42\n",
       "TG16             0.16\n",
       "3DO              0.10\n",
       "GG               0.04\n",
       "PCFX             0.03"
      ]
     },
     "execution_count": 304,
     "metadata": {},
     "output_type": "execute_result"
    }
   ],
   "source": [
    "platform_table = data.pivot_table(index='platform', values='total_sales', aggfunc='sum')\n",
    "platform_table = platform_table.sort_values('total_sales', ascending=False)\n",
    "platform_table"
   ]
  },
  {
   "cell_type": "code",
   "execution_count": 305,
   "metadata": {},
   "outputs": [
    {
     "data": {
      "text/plain": [
       "<Figure size 1152x432 with 0 Axes>"
      ]
     },
     "execution_count": 305,
     "metadata": {},
     "output_type": "execute_result"
    },
    {
     "data": {
      "image/png": "[encoded data removed]",
      "text/plain": [
       "<Figure size 432x288 with 1 Axes>"
      ]
     },
     "metadata": {
      "needs_background": "light"
     },
     "output_type": "display_data"
    },
    {
     "data": {
      "text/plain": [
       "<Figure size 1152x432 with 0 Axes>"
      ]
     },
     "metadata": {},
     "output_type": "display_data"
    }
   ],
   "source": [
    "sns.barplot(x=platform_table['total_sales'],y=platform_table.index)\n",
    "plt.title(\"Продажи по платформам за весь период\")\n",
    "plt.xlabel(\"Название платформы\")\n",
    "plt.ylabel(\"Количество продаж\")\n",
    "plt.figure(figsize=(16,6))"
   ]
  },
  {
   "cell_type": "code",
   "execution_count": 306,
   "metadata": {},
   "outputs": [
    {
     "data": {
      "text/plain": [
       "Index(['PS2', 'X360', 'PS3', 'Wii', 'DS', 'PS'], dtype='object', name='platform')"
      ]
     },
     "execution_count": 306,
     "metadata": {},
     "output_type": "execute_result"
    }
   ],
   "source": [
    "#самые продаваемые платформы\n",
    "platform_table.index[:6]"
   ]
  },
  {
   "cell_type": "markdown",
   "metadata": {},
   "source": [
    "логично что топ это PS в разных итерациях и XBox, также в топ вошла Wii от Nintendo и карманная пристава DS от того же Nintendo"
   ]
  },
  {
   "cell_type": "code",
   "execution_count": 307,
   "metadata": {},
   "outputs": [
    {
     "data": {
      "image/png": "[encoded data removed]",
      "text/plain": [
       "<Figure size 936x288 with 1 Axes>"
      ]
     },
     "metadata": {
      "needs_background": "light"
     },
     "output_type": "display_data"
    },
    {
     "data": {
      "image/png": "[encoded data removed]",
      "text/plain": [
       "<Figure size 936x288 with 1 Axes>"
      ]
     },
     "metadata": {
      "needs_background": "light"
     },
     "output_type": "display_data"
    },
    {
     "data": {
      "image/png": "[encoded data removed]",
      "text/plain": [
       "<Figure size 936x288 with 1 Axes>"
      ]
     },
     "metadata": {
      "needs_background": "light"
     },
     "output_type": "display_data"
    },
    {
     "data": {
      "image/png": "[encoded data removed]",
      "text/plain": [
       "<Figure size 936x288 with 1 Axes>"
      ]
     },
     "metadata": {
      "needs_background": "light"
     },
     "output_type": "display_data"
    },
    {
     "data": {
      "image/png": "[encoded data removed]",
      "text/plain": [
       "<Figure size 936x288 with 1 Axes>"
      ]
     },
     "metadata": {
      "needs_background": "light"
     },
     "output_type": "display_data"
    },
    {
     "data": {
      "image/png": "[encoded data removed]",
      "text/plain": [
       "<Figure size 936x288 with 1 Axes>"
      ]
     },
     "metadata": {
      "needs_background": "light"
     },
     "output_type": "display_data"
    }
   ],
   "source": [
    "#распределение платформ по годам\n",
    "for platform in platform_table.index[:6]:\n",
    "    data[data['platform'] == platform].pivot_table(index='year_of_release', values='total_sales', aggfunc='sum').plot(\n",
    "        kind='bar', figsize=(13,4), title=platform)\n",
    "    \n",
    "\n",
    "    "
   ]
  },
  {
   "cell_type": "code",
   "execution_count": 308,
   "metadata": {},
   "outputs": [
    {
     "data": {
      "text/html": [
       "<div>\n",
       "<style scoped>\n",
       "    .dataframe tbody tr th:only-of-type {\n",
       "        vertical-align: middle;\n",
       "    }\n",
       "\n",
       "    .dataframe tbody tr th {\n",
       "        vertical-align: top;\n",
       "    }\n",
       "\n",
       "    .dataframe thead th {\n",
       "        text-align: right;\n",
       "    }\n",
       "</style>\n",
       "<table border=\"1\" class=\"dataframe\">\n",
       "  <thead>\n",
       "    <tr style=\"text-align: right;\">\n",
       "      <th></th>\n",
       "      <th>name</th>\n",
       "      <th>platform</th>\n",
       "      <th>year_of_release</th>\n",
       "      <th>genre</th>\n",
       "      <th>na_sales</th>\n",
       "      <th>eu_sales</th>\n",
       "      <th>jp_sales</th>\n",
       "      <th>other_sales</th>\n",
       "      <th>critic_score</th>\n",
       "      <th>user_score</th>\n",
       "      <th>rating</th>\n",
       "      <th>total_sales</th>\n",
       "    </tr>\n",
       "  </thead>\n",
       "  <tbody>\n",
       "    <tr>\n",
       "      <th>15957</th>\n",
       "      <td>Strongest Tokyo University Shogi DS</td>\n",
       "      <td>DS</td>\n",
       "      <td>1985.0</td>\n",
       "      <td>Action</td>\n",
       "      <td>0.0</td>\n",
       "      <td>0.0</td>\n",
       "      <td>0.02</td>\n",
       "      <td>0.0</td>\n",
       "      <td>NaN</td>\n",
       "      <td>NaN</td>\n",
       "      <td>NaN</td>\n",
       "      <td>0.02</td>\n",
       "    </tr>\n",
       "  </tbody>\n",
       "</table>\n",
       "</div>"
      ],
      "text/plain": [
       "                                      name platform  year_of_release   genre  \\\n",
       "15957  Strongest Tokyo University Shogi DS       DS           1985.0  Action   \n",
       "\n",
       "       na_sales  eu_sales  jp_sales  other_sales  critic_score  user_score  \\\n",
       "15957       0.0       0.0      0.02          0.0           NaN         NaN   \n",
       "\n",
       "      rating  total_sales  \n",
       "15957    NaN         0.02  "
      ]
     },
     "execution_count": 308,
     "metadata": {},
     "output_type": "execute_result"
    }
   ],
   "source": [
    "#проверяю строку с платформой DS  и годом 1985\n",
    "data[(data['platform'] == 'DS') & (data['year_of_release'] == 1985)]"
   ]
  },
  {
   "cell_type": "markdown",
   "metadata": {},
   "source": [
    "DS была выпущена в 2004 году, наличие артефакта пропустил, удаляю"
   ]
  },
  {
   "cell_type": "code",
   "execution_count": null,
   "metadata": {},
   "outputs": [],
   "source": [
    "data.shape[0]"
   ]
  },
  {
   "cell_type": "code",
   "execution_count": null,
   "metadata": {},
   "outputs": [],
   "source": [
    "data = data.drop(data[data.index == 15957]. index)"
   ]
  },
  {
   "cell_type": "code",
   "execution_count": null,
   "metadata": {},
   "outputs": [],
   "source": [
    "data.shape[0]"
   ]
  },
  {
   "cell_type": "markdown",
   "metadata": {},
   "source": [
    "1. средний срок жизни платформы 8-12 лет. Исключение DS, но это карманная приставка\n",
    "2. жизнь каждой платформы характеризуется сильным ростом до пика и далее сильным падением, совсем без плато\n",
    "3. PS  в среднем выпускает новую платформу, через год/два после пика предыдущей"
   ]
  },
  {
   "cell_type": "markdown",
   "metadata": {},
   "source": [
    "# 3.3 Аналитика за период с 2012года"
   ]
  },
  {
   "cell_type": "markdown",
   "metadata": {},
   "source": [
    "Возьмите данные за соответствующий актуальный период. Актуальный период определите самостоятельно в результате исследования предыдущих вопросов. Основной фактор — эти данные помогут построить прогноз на 2017 год.\n",
    "Какие платформы лидируют по продажам, растут или падают? Выберите несколько потенциально прибыльных платформ."
   ]
  },
  {
   "cell_type": "code",
   "execution_count": null,
   "metadata": {},
   "outputs": [],
   "source": [
    "#платформы за период с 2012го года \n",
    "\n",
    "data[data['year_of_release']>2012].pivot_table(index='platform', values='total_sales', \n",
    "                                               aggfunc='sum').sort_values('total_sales', ascending=False)"
   ]
  },
  {
   "cell_type": "code",
   "execution_count": 372,
   "metadata": {},
   "outputs": [
    {
     "data": {
      "text/html": [
       "<div>\n",
       "<style scoped>\n",
       "    .dataframe tbody tr th:only-of-type {\n",
       "        vertical-align: middle;\n",
       "    }\n",
       "\n",
       "    .dataframe tbody tr th {\n",
       "        vertical-align: top;\n",
       "    }\n",
       "\n",
       "    .dataframe thead th {\n",
       "        text-align: right;\n",
       "    }\n",
       "</style>\n",
       "<table border=\"1\" class=\"dataframe\">\n",
       "  <thead>\n",
       "    <tr style=\"text-align: right;\">\n",
       "      <th></th>\n",
       "      <th>total_sales</th>\n",
       "    </tr>\n",
       "    <tr>\n",
       "      <th>platform</th>\n",
       "      <th></th>\n",
       "    </tr>\n",
       "  </thead>\n",
       "  <tbody>\n",
       "    <tr>\n",
       "      <th>3DS</th>\n",
       "      <td>143.25</td>\n",
       "    </tr>\n",
       "    <tr>\n",
       "      <th>DS</th>\n",
       "      <td>1.54</td>\n",
       "    </tr>\n",
       "    <tr>\n",
       "      <th>PC</th>\n",
       "      <td>39.43</td>\n",
       "    </tr>\n",
       "    <tr>\n",
       "      <th>PS3</th>\n",
       "      <td>181.43</td>\n",
       "    </tr>\n",
       "    <tr>\n",
       "      <th>PS4</th>\n",
       "      <td>314.14</td>\n",
       "    </tr>\n",
       "    <tr>\n",
       "      <th>PSP</th>\n",
       "      <td>3.50</td>\n",
       "    </tr>\n",
       "    <tr>\n",
       "      <th>PSV</th>\n",
       "      <td>32.99</td>\n",
       "    </tr>\n",
       "    <tr>\n",
       "      <th>Wii</th>\n",
       "      <td>13.66</td>\n",
       "    </tr>\n",
       "    <tr>\n",
       "      <th>WiiU</th>\n",
       "      <td>64.63</td>\n",
       "    </tr>\n",
       "    <tr>\n",
       "      <th>X360</th>\n",
       "      <td>136.80</td>\n",
       "    </tr>\n",
       "    <tr>\n",
       "      <th>XOne</th>\n",
       "      <td>159.32</td>\n",
       "    </tr>\n",
       "  </tbody>\n",
       "</table>\n",
       "</div>"
      ],
      "text/plain": [
       "          total_sales\n",
       "platform             \n",
       "3DS            143.25\n",
       "DS               1.54\n",
       "PC              39.43\n",
       "PS3            181.43\n",
       "PS4            314.14\n",
       "PSP              3.50\n",
       "PSV             32.99\n",
       "Wii             13.66\n",
       "WiiU            64.63\n",
       "X360           136.80\n",
       "XOne           159.32"
      ]
     },
     "execution_count": 372,
     "metadata": {},
     "output_type": "execute_result"
    }
   ],
   "source": [
    "#самые прибыльные платформы\n",
    "\n",
    "top5_platform = data[data['year_of_release']>2012].pivot_table(index='platform',values='total_sales', aggfunc='sum') \n",
    "top5_platform.sort_values('total_sales', ascending=False).head(5)                                                                                                                                                            \n",
    "top5_platform"
   ]
  },
  {
   "cell_type": "code",
   "execution_count": 373,
   "metadata": {},
   "outputs": [],
   "source": [
    "#таблица с данными за период с 2012 года\n",
    "\n",
    "data_since2012 = data[data['year_of_release']>2012]\n"
   ]
  },
  {
   "cell_type": "code",
   "execution_count": 374,
   "metadata": {},
   "outputs": [
    {
     "data": {
      "text/html": [
       "<div>\n",
       "<style scoped>\n",
       "    .dataframe tbody tr th:only-of-type {\n",
       "        vertical-align: middle;\n",
       "    }\n",
       "\n",
       "    .dataframe tbody tr th {\n",
       "        vertical-align: top;\n",
       "    }\n",
       "\n",
       "    .dataframe thead th {\n",
       "        text-align: right;\n",
       "    }\n",
       "</style>\n",
       "<table border=\"1\" class=\"dataframe\">\n",
       "  <thead>\n",
       "    <tr style=\"text-align: right;\">\n",
       "      <th></th>\n",
       "      <th></th>\n",
       "      <th>total_sales</th>\n",
       "    </tr>\n",
       "    <tr>\n",
       "      <th>platform</th>\n",
       "      <th>year_of_release</th>\n",
       "      <th></th>\n",
       "    </tr>\n",
       "  </thead>\n",
       "  <tbody>\n",
       "    <tr>\n",
       "      <th rowspan=\"4\" valign=\"top\">3DS</th>\n",
       "      <th>2013.0</th>\n",
       "      <td>56.57</td>\n",
       "    </tr>\n",
       "    <tr>\n",
       "      <th>2014.0</th>\n",
       "      <td>43.76</td>\n",
       "    </tr>\n",
       "    <tr>\n",
       "      <th>2015.0</th>\n",
       "      <td>27.78</td>\n",
       "    </tr>\n",
       "    <tr>\n",
       "      <th>2016.0</th>\n",
       "      <td>15.14</td>\n",
       "    </tr>\n",
       "    <tr>\n",
       "      <th rowspan=\"4\" valign=\"top\">PS3</th>\n",
       "      <th>2013.0</th>\n",
       "      <td>113.25</td>\n",
       "    </tr>\n",
       "    <tr>\n",
       "      <th>2014.0</th>\n",
       "      <td>47.76</td>\n",
       "    </tr>\n",
       "    <tr>\n",
       "      <th>2015.0</th>\n",
       "      <td>16.82</td>\n",
       "    </tr>\n",
       "    <tr>\n",
       "      <th>2016.0</th>\n",
       "      <td>3.60</td>\n",
       "    </tr>\n",
       "    <tr>\n",
       "      <th rowspan=\"4\" valign=\"top\">PS4</th>\n",
       "      <th>2013.0</th>\n",
       "      <td>25.99</td>\n",
       "    </tr>\n",
       "    <tr>\n",
       "      <th>2014.0</th>\n",
       "      <td>100.00</td>\n",
       "    </tr>\n",
       "    <tr>\n",
       "      <th>2015.0</th>\n",
       "      <td>118.90</td>\n",
       "    </tr>\n",
       "    <tr>\n",
       "      <th>2016.0</th>\n",
       "      <td>69.25</td>\n",
       "    </tr>\n",
       "    <tr>\n",
       "      <th rowspan=\"4\" valign=\"top\">X360</th>\n",
       "      <th>2013.0</th>\n",
       "      <td>88.58</td>\n",
       "    </tr>\n",
       "    <tr>\n",
       "      <th>2014.0</th>\n",
       "      <td>34.74</td>\n",
       "    </tr>\n",
       "    <tr>\n",
       "      <th>2015.0</th>\n",
       "      <td>11.96</td>\n",
       "    </tr>\n",
       "    <tr>\n",
       "      <th>2016.0</th>\n",
       "      <td>1.52</td>\n",
       "    </tr>\n",
       "    <tr>\n",
       "      <th rowspan=\"4\" valign=\"top\">XOne</th>\n",
       "      <th>2013.0</th>\n",
       "      <td>18.96</td>\n",
       "    </tr>\n",
       "    <tr>\n",
       "      <th>2014.0</th>\n",
       "      <td>54.07</td>\n",
       "    </tr>\n",
       "    <tr>\n",
       "      <th>2015.0</th>\n",
       "      <td>60.14</td>\n",
       "    </tr>\n",
       "    <tr>\n",
       "      <th>2016.0</th>\n",
       "      <td>26.15</td>\n",
       "    </tr>\n",
       "  </tbody>\n",
       "</table>\n",
       "</div>"
      ],
      "text/plain": [
       "                          total_sales\n",
       "platform year_of_release             \n",
       "3DS      2013.0                 56.57\n",
       "         2014.0                 43.76\n",
       "         2015.0                 27.78\n",
       "         2016.0                 15.14\n",
       "PS3      2013.0                113.25\n",
       "         2014.0                 47.76\n",
       "         2015.0                 16.82\n",
       "         2016.0                  3.60\n",
       "PS4      2013.0                 25.99\n",
       "         2014.0                100.00\n",
       "         2015.0                118.90\n",
       "         2016.0                 69.25\n",
       "X360     2013.0                 88.58\n",
       "         2014.0                 34.74\n",
       "         2015.0                 11.96\n",
       "         2016.0                  1.52\n",
       "XOne     2013.0                 18.96\n",
       "         2014.0                 54.07\n",
       "         2015.0                 60.14\n",
       "         2016.0                 26.15"
      ]
     },
     "execution_count": 374,
     "metadata": {},
     "output_type": "execute_result"
    }
   ],
   "source": [
    "#топ5 платформ за период с 2012го года с разбивкой по годам\n",
    "\n",
    "top5_platform_since2012 = data_since2012[data_since2012['platform'].isin(['PS4', \n",
    "        'PS3', 'XOne', '3DS', 'X360'])].pivot_table(index=['platform', 'year_of_release'], values='total_sales', aggfunc='sum')\n",
    "top5_platform_since2012"
   ]
  },
  {
   "cell_type": "code",
   "execution_count": 375,
   "metadata": {},
   "outputs": [
    {
     "data": {
      "text/plain": [
       "array(['3DS', 'PS3', 'PS4', 'X360', 'XOne'], dtype=object)"
      ]
     },
     "execution_count": 375,
     "metadata": {},
     "output_type": "execute_result"
    }
   ],
   "source": [
    "top5_platform_since2012.reset_index()['platform'].unique()"
   ]
  },
  {
   "cell_type": "code",
   "execution_count": 376,
   "metadata": {},
   "outputs": [
    {
     "data": {
      "image/png": "[encoded data removed]",
      "text/plain": [
       "<Figure size 936x288 with 1 Axes>"
      ]
     },
     "metadata": {
      "needs_background": "light"
     },
     "output_type": "display_data"
    },
    {
     "data": {
      "image/png": "[encoded data removed]",
      "text/plain": [
       "<Figure size 936x288 with 1 Axes>"
      ]
     },
     "metadata": {
      "needs_background": "light"
     },
     "output_type": "display_data"
    },
    {
     "data": {
      "image/png": "[encoded data removed]",
      "text/plain": [
       "<Figure size 936x288 with 1 Axes>"
      ]
     },
     "metadata": {
      "needs_background": "light"
     },
     "output_type": "display_data"
    },
    {
     "data": {
      "image/png": "[encoded data removed]",
      "text/plain": [
       "<Figure size 936x288 with 1 Axes>"
      ]
     },
     "metadata": {
      "needs_background": "light"
     },
     "output_type": "display_data"
    },
    {
     "data": {
      "image/png": "[encoded data removed]",
      "text/plain": [
       "<Figure size 936x288 with 1 Axes>"
      ]
     },
     "metadata": {
      "needs_background": "light"
     },
     "output_type": "display_data"
    }
   ],
   "source": [
    "#посмотрим развитие этих топ 5 платформ за выбранный актуальный период\n",
    "for platform in top5_platform_since2012.reset_index()['platform'].unique():\n",
    "    data_since2012[data_since2012['platform'] == platform].pivot_table(index='year_of_release',                                                                                       \n",
    "                                    values='total_sales', aggfunc='sum').plot( kind='bar', figsize=(13,4), title=platform)\n",
    "       \n",
    "    \n"
   ]
  },
  {
   "cell_type": "markdown",
   "metadata": {},
   "source": [
    "1. все платформы к конце 2016го находятся в стадии падения продаж, но возможно в PS4 спад временный\n",
    "2. если соответствовать логике, что в среднем платформа выходит в свой пик за 4-5 лет, то к 2017году в свой пик выйдет PS4"
   ]
  },
  {
   "cell_type": "markdown",
   "metadata": {},
   "source": [
    "# Построим график «ящик с усами» по глобальным продажам игр на актуаьный перид в разбивке по платформам"
   ]
  },
  {
   "cell_type": "code",
   "execution_count": null,
   "metadata": {},
   "outputs": [],
   "source": [
    "#Построим график «ящик с усами» по глобальным продажам игр на актуаьный перид в разбивке по платформам\n",
    "\n",
    "plt.figure(figsize=(15,12))\n",
    "sns.boxplot(data=top5_platform_since2012.reset_index(), x='platform', y='total_sales')\n",
    "plt.title('Глобальные продажи игр на актуаьный перид в разбивке по платформам', fontsize=15)\n",
    "plt.xlabel('Платформа', fontsize=15)\n",
    "plt.ylabel('Продажи',fontsize=15)"
   ]
  },
  {
   "cell_type": "code",
   "execution_count": null,
   "metadata": {},
   "outputs": [],
   "source": [
    "#строю осортированный по медиане describe для топ5 платформ на на период с 2012года\n",
    "\n",
    "top5_platform_since2012.reset_index().groupby('platform')['total_sales'].describe().sort_values('50%', ascending=False)"
   ]
  },
  {
   "cell_type": "markdown",
   "metadata": {},
   "source": [
    "1. у всех платформ разная медиана\n",
    "2. в топ по продажам по медиане с сильныи отрывом от остальных выходит PS4, далее Xone. Эти платформы вышли на рынок позже остальых, этим можно объяснить этот успех\n",
    "3. в каждой платформе средняя меньше 3й квантили, это мы уже наблюдали ранее - тенденция на спад у всех, но также стоит учитывать, что за 2016й год данные не полные и платформы, которые показывали рост по сумме продаж до 16го и в 16м показали спад, по факту могут расти в нашем случае это те же Ps4 и  XOne"
   ]
  },
  {
   "cell_type": "markdown",
   "metadata": {},
   "source": [
    "# как влияют на продажи внутри одной популярной платформы отзывы пользователей и критиков. Постройте диаграмму рассеяния и посчитайте корреляцию между отзывами и продажами. Сформулируйте выводы."
   ]
  },
  {
   "cell_type": "code",
   "execution_count": null,
   "metadata": {},
   "outputs": [],
   "source": [
    "#корреляция между оценками критиков и продажами\n",
    "sps4 = data_since2012[data_since2012['platform']=='PS4']\n",
    "sps4['critic_score'].corr(sps4['total_sales'])"
   ]
  },
  {
   "cell_type": "markdown",
   "metadata": {},
   "source": [
    "слабая корреляция между оценками критиков и продажами на платформе PS4"
   ]
  },
  {
   "cell_type": "code",
   "execution_count": null,
   "metadata": {},
   "outputs": [],
   "source": [
    "#построим диаграмму рассеяния\n",
    "\n",
    "plt.figure(figsize=(12,6))\n",
    "sns.scatterplot(x='critic_score', y='total_sales', data=sps4)\n",
    "plt.title('корреляция между оценками критиков и продажами')"
   ]
  },
  {
   "cell_type": "code",
   "execution_count": null,
   "metadata": {},
   "outputs": [],
   "source": [
    "#корреляция между оценками игроков и продажами\n",
    "sps4 = data_since2012[data_since2012['platform']=='PS4']\n",
    "sps4['user_score'].corr(sps4['total_sales'])"
   ]
  },
  {
   "cell_type": "markdown",
   "metadata": {},
   "source": [
    "очень слабая отрицательная корреляция, считай что связи нет "
   ]
  },
  {
   "cell_type": "code",
   "execution_count": null,
   "metadata": {},
   "outputs": [],
   "source": [
    "#построим диаграмму рассеяния\n",
    "plt.figure(figsize=(12,6))\n",
    "sns.scatterplot(x='user_score', y='total_sales', data=sps4)\n",
    "plt.title('корреляция между оценками игроков и продажами')"
   ]
  },
  {
   "cell_type": "code",
   "execution_count": null,
   "metadata": {},
   "outputs": [],
   "source": [
    "#корреляция между оценками игроков и продажами\n",
    "sps4 = data_since2012[data_since2012['platform']=='PS4']\n",
    "sps4['user_score'].corr(sps4['critic_score'])"
   ]
  },
  {
   "cell_type": "markdown",
   "metadata": {},
   "source": [
    "средняя корреляция между оцеками критиков и оценками игроков"
   ]
  },
  {
   "cell_type": "markdown",
   "metadata": {},
   "source": [
    "1. средняя корреляция между продажами и оценкой критиков  понятна\n",
    "2. но отрицательная корреляция между продажами и оценкой игроков уже интереснее, возможно кому игра понравилась так в нее и играют, не выставляя оценок, кому не понравилась - ищут способы выразить свое отношение к ней\n",
    "3. может поэтому сами поьзователи больше доверяют оценкам критиков"
   ]
  },
  {
   "cell_type": "markdown",
   "metadata": {},
   "source": [
    "# Соотнесите выводы с продажами игр на других платформах."
   ]
  },
  {
   "cell_type": "code",
   "execution_count": null,
   "metadata": {},
   "outputs": [],
   "source": [
    "\n",
    "for platform in [\"XOne\",\"3DS\",\"X360\",\"PS3\"]:\n",
    "    data_p = data_since2012[data_since2012['platform'] == platform]\n",
    "   \n",
    "    data_p.plot.scatter(x=\"user_score\", y=\"total_sales\")\n",
    "    print(data_p['total_sales'].corr(data_p['user_score']))\n",
    "    plt.title(platform)\n",
    "    \n",
    "    \n"
   ]
  },
  {
   "cell_type": "markdown",
   "metadata": {},
   "source": [
    "1. как и в случае с PS4 у остальных топ платформ также  очень слабая кореляция между отзывами игроков и продажами\n",
    "2. чувь выше остальных 3DS, но она вообще в стороне от остальных, так как является карманной приставкой"
   ]
  },
  {
   "cell_type": "code",
   "execution_count": null,
   "metadata": {},
   "outputs": [],
   "source": [
    "for platform in [\"XOne\",\"3DS\",\"X360\",\"PS3\"]:\n",
    "    data_p = data_since2012[data_since2012['platform'] == platform]\n",
    "   \n",
    "    data_p.plot.scatter(x=\"critic_score\", y=\"total_sales\")\n",
    "    print(data_p['total_sales'].corr(data_p['critic_score']))\n",
    "    plt.title(platform)"
   ]
  },
  {
   "cell_type": "markdown",
   "metadata": {},
   "source": [
    "1. корреляция между оценками критиков и продажами у остальных платформ также слабая, но если сравнивать с оценками игроков, то уже хоть что  то \n",
    "2. самая высокая корреляция у PS3"
   ]
  },
  {
   "cell_type": "markdown",
   "metadata": {},
   "source": [
    "# общее распределение игр по жанрам. Что можно сказать о самых прибыльных жанрах? Выделяются ли жанры с высокими и низкими продажами?"
   ]
  },
  {
   "cell_type": "code",
   "execution_count": 379,
   "metadata": {},
   "outputs": [
    {
     "data": {
      "text/html": [
       "<div>\n",
       "<style scoped>\n",
       "    .dataframe tbody tr th:only-of-type {\n",
       "        vertical-align: middle;\n",
       "    }\n",
       "\n",
       "    .dataframe tbody tr th {\n",
       "        vertical-align: top;\n",
       "    }\n",
       "\n",
       "    .dataframe thead th {\n",
       "        text-align: right;\n",
       "    }\n",
       "</style>\n",
       "<table border=\"1\" class=\"dataframe\">\n",
       "  <thead>\n",
       "    <tr style=\"text-align: right;\">\n",
       "      <th></th>\n",
       "      <th>total_sales</th>\n",
       "    </tr>\n",
       "    <tr>\n",
       "      <th>genre</th>\n",
       "      <th></th>\n",
       "    </tr>\n",
       "  </thead>\n",
       "  <tbody>\n",
       "    <tr>\n",
       "      <th>Action</th>\n",
       "      <td>321.87</td>\n",
       "    </tr>\n",
       "    <tr>\n",
       "      <th>Shooter</th>\n",
       "      <td>232.98</td>\n",
       "    </tr>\n",
       "    <tr>\n",
       "      <th>Sports</th>\n",
       "      <td>150.65</td>\n",
       "    </tr>\n",
       "    <tr>\n",
       "      <th>Role-Playing</th>\n",
       "      <td>145.89</td>\n",
       "    </tr>\n",
       "    <tr>\n",
       "      <th>Misc</th>\n",
       "      <td>62.82</td>\n",
       "    </tr>\n",
       "    <tr>\n",
       "      <th>Platform</th>\n",
       "      <td>42.63</td>\n",
       "    </tr>\n",
       "    <tr>\n",
       "      <th>Racing</th>\n",
       "      <td>39.89</td>\n",
       "    </tr>\n",
       "    <tr>\n",
       "      <th>Fighting</th>\n",
       "      <td>35.31</td>\n",
       "    </tr>\n",
       "    <tr>\n",
       "      <th>Adventure</th>\n",
       "      <td>23.64</td>\n",
       "    </tr>\n",
       "    <tr>\n",
       "      <th>Simulation</th>\n",
       "      <td>21.76</td>\n",
       "    </tr>\n",
       "    <tr>\n",
       "      <th>Strategy</th>\n",
       "      <td>10.08</td>\n",
       "    </tr>\n",
       "    <tr>\n",
       "      <th>Puzzle</th>\n",
       "      <td>3.17</td>\n",
       "    </tr>\n",
       "  </tbody>\n",
       "</table>\n",
       "</div>"
      ],
      "text/plain": [
       "              total_sales\n",
       "genre                    \n",
       "Action             321.87\n",
       "Shooter            232.98\n",
       "Sports             150.65\n",
       "Role-Playing       145.89\n",
       "Misc                62.82\n",
       "Platform            42.63\n",
       "Racing              39.89\n",
       "Fighting            35.31\n",
       "Adventure           23.64\n",
       "Simulation          21.76\n",
       "Strategy            10.08\n",
       "Puzzle               3.17"
      ]
     },
     "execution_count": 379,
     "metadata": {},
     "output_type": "execute_result"
    }
   ],
   "source": [
    "#топ жанорв с самыми высокими продажами по сумме\n",
    "\n",
    "genre_table = data_since2012.pivot_table(index='genre', values='total_sales', aggfunc='sum')\n",
    "genre_table.sort_values('total_sales', ascending=False)"
   ]
  },
  {
   "cell_type": "code",
   "execution_count": 380,
   "metadata": {},
   "outputs": [
    {
     "data": {
      "text/html": [
       "<div>\n",
       "<style scoped>\n",
       "    .dataframe tbody tr th:only-of-type {\n",
       "        vertical-align: middle;\n",
       "    }\n",
       "\n",
       "    .dataframe tbody tr th {\n",
       "        vertical-align: top;\n",
       "    }\n",
       "\n",
       "    .dataframe thead th {\n",
       "        text-align: right;\n",
       "    }\n",
       "</style>\n",
       "<table border=\"1\" class=\"dataframe\">\n",
       "  <thead>\n",
       "    <tr style=\"text-align: right;\">\n",
       "      <th></th>\n",
       "      <th>total_sales</th>\n",
       "    </tr>\n",
       "    <tr>\n",
       "      <th>genre</th>\n",
       "      <th></th>\n",
       "    </tr>\n",
       "  </thead>\n",
       "  <tbody>\n",
       "    <tr>\n",
       "      <th>Shooter</th>\n",
       "      <td>0.450</td>\n",
       "    </tr>\n",
       "    <tr>\n",
       "      <th>Sports</th>\n",
       "      <td>0.240</td>\n",
       "    </tr>\n",
       "    <tr>\n",
       "      <th>Platform</th>\n",
       "      <td>0.225</td>\n",
       "    </tr>\n",
       "    <tr>\n",
       "      <th>Role-Playing</th>\n",
       "      <td>0.125</td>\n",
       "    </tr>\n",
       "    <tr>\n",
       "      <th>Fighting</th>\n",
       "      <td>0.125</td>\n",
       "    </tr>\n",
       "    <tr>\n",
       "      <th>Racing</th>\n",
       "      <td>0.120</td>\n",
       "    </tr>\n",
       "    <tr>\n",
       "      <th>Action</th>\n",
       "      <td>0.110</td>\n",
       "    </tr>\n",
       "    <tr>\n",
       "      <th>Simulation</th>\n",
       "      <td>0.100</td>\n",
       "    </tr>\n",
       "    <tr>\n",
       "      <th>Misc</th>\n",
       "      <td>0.100</td>\n",
       "    </tr>\n",
       "    <tr>\n",
       "      <th>Strategy</th>\n",
       "      <td>0.080</td>\n",
       "    </tr>\n",
       "    <tr>\n",
       "      <th>Puzzle</th>\n",
       "      <td>0.060</td>\n",
       "    </tr>\n",
       "    <tr>\n",
       "      <th>Adventure</th>\n",
       "      <td>0.030</td>\n",
       "    </tr>\n",
       "  </tbody>\n",
       "</table>\n",
       "</div>"
      ],
      "text/plain": [
       "              total_sales\n",
       "genre                    \n",
       "Shooter             0.450\n",
       "Sports              0.240\n",
       "Platform            0.225\n",
       "Role-Playing        0.125\n",
       "Fighting            0.125\n",
       "Racing              0.120\n",
       "Action              0.110\n",
       "Simulation          0.100\n",
       "Misc                0.100\n",
       "Strategy            0.080\n",
       "Puzzle              0.060\n",
       "Adventure           0.030"
      ]
     },
     "execution_count": 380,
     "metadata": {},
     "output_type": "execute_result"
    }
   ],
   "source": [
    "#топ жанорв с самыми высокими продажами по медиане\n",
    "\n",
    "genre_table = data_since2012.pivot_table(index=['genre'], values='total_sales', aggfunc='median')\n",
    "genre_table.sort_values('total_sales', ascending=False).head(20)"
   ]
  },
  {
   "cell_type": "code",
   "execution_count": 381,
   "metadata": {},
   "outputs": [
    {
     "data": {
      "text/html": [
       "<div>\n",
       "<style scoped>\n",
       "    .dataframe tbody tr th:only-of-type {\n",
       "        vertical-align: middle;\n",
       "    }\n",
       "\n",
       "    .dataframe tbody tr th {\n",
       "        vertical-align: top;\n",
       "    }\n",
       "\n",
       "    .dataframe thead th {\n",
       "        text-align: right;\n",
       "    }\n",
       "</style>\n",
       "<table border=\"1\" class=\"dataframe\">\n",
       "  <thead>\n",
       "    <tr style=\"text-align: right;\">\n",
       "      <th></th>\n",
       "      <th></th>\n",
       "      <th>total_sales</th>\n",
       "    </tr>\n",
       "    <tr>\n",
       "      <th>genre</th>\n",
       "      <th>name</th>\n",
       "      <th></th>\n",
       "    </tr>\n",
       "  </thead>\n",
       "  <tbody>\n",
       "    <tr>\n",
       "      <th>Action</th>\n",
       "      <th>Grand Theft Auto V</th>\n",
       "      <td>56.58</td>\n",
       "    </tr>\n",
       "    <tr>\n",
       "      <th rowspan=\"2\" valign=\"top\">Shooter</th>\n",
       "      <th>Call of Duty: Ghosts</th>\n",
       "      <td>27.39</td>\n",
       "    </tr>\n",
       "    <tr>\n",
       "      <th>Call of Duty: Black Ops 3</th>\n",
       "      <td>25.67</td>\n",
       "    </tr>\n",
       "    <tr>\n",
       "      <th>Misc</th>\n",
       "      <th>Minecraft</th>\n",
       "      <td>24.16</td>\n",
       "    </tr>\n",
       "    <tr>\n",
       "      <th>Shooter</th>\n",
       "      <th>Call of Duty: Advanced Warfare</th>\n",
       "      <td>21.97</td>\n",
       "    </tr>\n",
       "    <tr>\n",
       "      <th rowspan=\"3\" valign=\"top\">Sports</th>\n",
       "      <th>FIFA 15</th>\n",
       "      <td>17.37</td>\n",
       "    </tr>\n",
       "    <tr>\n",
       "      <th>FIFA 14</th>\n",
       "      <td>16.46</td>\n",
       "    </tr>\n",
       "    <tr>\n",
       "      <th>FIFA 16</th>\n",
       "      <td>16.30</td>\n",
       "    </tr>\n",
       "    <tr>\n",
       "      <th>Role-Playing</th>\n",
       "      <th>Pokemon X/Pokemon Y</th>\n",
       "      <td>14.60</td>\n",
       "    </tr>\n",
       "    <tr>\n",
       "      <th>Shooter</th>\n",
       "      <th>Battlefield 4</th>\n",
       "      <td>13.94</td>\n",
       "    </tr>\n",
       "    <tr>\n",
       "      <th>Action</th>\n",
       "      <th>Assassin's Creed IV: Black Flag</th>\n",
       "      <td>13.06</td>\n",
       "    </tr>\n",
       "    <tr>\n",
       "      <th>Role-Playing</th>\n",
       "      <th>Fallout 4</th>\n",
       "      <td>12.67</td>\n",
       "    </tr>\n",
       "    <tr>\n",
       "      <th>Shooter</th>\n",
       "      <th>Destiny</th>\n",
       "      <td>12.54</td>\n",
       "    </tr>\n",
       "    <tr>\n",
       "      <th>Fighting</th>\n",
       "      <th>Super Smash Bros. for Wii U and 3DS</th>\n",
       "      <td>12.42</td>\n",
       "    </tr>\n",
       "    <tr>\n",
       "      <th>Shooter</th>\n",
       "      <th>Star Wars Battlefront (2015)</th>\n",
       "      <td>12.19</td>\n",
       "    </tr>\n",
       "    <tr>\n",
       "      <th>Role-Playing</th>\n",
       "      <th>Pokemon Omega Ruby/Pokemon Alpha Sapphire</th>\n",
       "      <td>11.68</td>\n",
       "    </tr>\n",
       "    <tr>\n",
       "      <th>Sports</th>\n",
       "      <th>FIFA 17</th>\n",
       "      <td>11.48</td>\n",
       "    </tr>\n",
       "    <tr>\n",
       "      <th rowspan=\"3\" valign=\"top\">Action</th>\n",
       "      <th>The Last of Us</th>\n",
       "      <td>10.58</td>\n",
       "    </tr>\n",
       "    <tr>\n",
       "      <th>LEGO Marvel Super Heroes</th>\n",
       "      <td>9.41</td>\n",
       "    </tr>\n",
       "    <tr>\n",
       "      <th>Watch Dogs</th>\n",
       "      <td>9.18</td>\n",
       "    </tr>\n",
       "  </tbody>\n",
       "</table>\n",
       "</div>"
      ],
      "text/plain": [
       "                                                        total_sales\n",
       "genre        name                                                  \n",
       "Action       Grand Theft Auto V                               56.58\n",
       "Shooter      Call of Duty: Ghosts                             27.39\n",
       "             Call of Duty: Black Ops 3                        25.67\n",
       "Misc         Minecraft                                        24.16\n",
       "Shooter      Call of Duty: Advanced Warfare                   21.97\n",
       "Sports       FIFA 15                                          17.37\n",
       "             FIFA 14                                          16.46\n",
       "             FIFA 16                                          16.30\n",
       "Role-Playing Pokemon X/Pokemon Y                              14.60\n",
       "Shooter      Battlefield 4                                    13.94\n",
       "Action       Assassin's Creed IV: Black Flag                  13.06\n",
       "Role-Playing Fallout 4                                        12.67\n",
       "Shooter      Destiny                                          12.54\n",
       "Fighting     Super Smash Bros. for Wii U and 3DS              12.42\n",
       "Shooter      Star Wars Battlefront (2015)                     12.19\n",
       "Role-Playing Pokemon Omega Ruby/Pokemon Alpha Sapphire        11.68\n",
       "Sports       FIFA 17                                          11.48\n",
       "Action       The Last of Us                                   10.58\n",
       "             LEGO Marvel Super Heroes                          9.41\n",
       "             Watch Dogs                                        9.18"
      ]
     },
     "execution_count": 381,
     "metadata": {},
     "output_type": "execute_result"
    }
   ],
   "source": [
    "#добавляю в таблицу названия игр, что бы понять знаковые игры для жанра\n",
    "\n",
    "genre_table = data_since2012.pivot_table(index=['genre', 'name'], values='total_sales', aggfunc='sum')\n",
    "genre_table.sort_values('total_sales', ascending=False).head(20)\n"
   ]
  },
  {
   "cell_type": "code",
   "execution_count": 382,
   "metadata": {},
   "outputs": [
    {
     "data": {
      "text/html": [
       "<div>\n",
       "<style scoped>\n",
       "    .dataframe tbody tr th:only-of-type {\n",
       "        vertical-align: middle;\n",
       "    }\n",
       "\n",
       "    .dataframe tbody tr th {\n",
       "        vertical-align: top;\n",
       "    }\n",
       "\n",
       "    .dataframe thead th {\n",
       "        text-align: right;\n",
       "    }\n",
       "</style>\n",
       "<table border=\"1\" class=\"dataframe\">\n",
       "  <thead>\n",
       "    <tr style=\"text-align: right;\">\n",
       "      <th></th>\n",
       "      <th></th>\n",
       "      <th>total_sales</th>\n",
       "    </tr>\n",
       "    <tr>\n",
       "      <th>name</th>\n",
       "      <th>year_of_release</th>\n",
       "      <th></th>\n",
       "    </tr>\n",
       "  </thead>\n",
       "  <tbody>\n",
       "    <tr>\n",
       "      <th>Grand Theft Auto V</th>\n",
       "      <th>2013.0</th>\n",
       "      <td>37.32</td>\n",
       "    </tr>\n",
       "    <tr>\n",
       "      <th>Call of Duty: Ghosts</th>\n",
       "      <th>2013.0</th>\n",
       "      <td>27.39</td>\n",
       "    </tr>\n",
       "    <tr>\n",
       "      <th>Call of Duty: Black Ops 3</th>\n",
       "      <th>2015.0</th>\n",
       "      <td>25.67</td>\n",
       "    </tr>\n",
       "    <tr>\n",
       "      <th>Call of Duty: Advanced Warfare</th>\n",
       "      <th>2014.0</th>\n",
       "      <td>21.97</td>\n",
       "    </tr>\n",
       "    <tr>\n",
       "      <th>Grand Theft Auto V</th>\n",
       "      <th>2014.0</th>\n",
       "      <td>18.09</td>\n",
       "    </tr>\n",
       "    <tr>\n",
       "      <th>FIFA 15</th>\n",
       "      <th>2014.0</th>\n",
       "      <td>17.37</td>\n",
       "    </tr>\n",
       "    <tr>\n",
       "      <th>FIFA 14</th>\n",
       "      <th>2013.0</th>\n",
       "      <td>16.46</td>\n",
       "    </tr>\n",
       "    <tr>\n",
       "      <th>FIFA 16</th>\n",
       "      <th>2015.0</th>\n",
       "      <td>16.30</td>\n",
       "    </tr>\n",
       "    <tr>\n",
       "      <th>Pokemon X/Pokemon Y</th>\n",
       "      <th>2013.0</th>\n",
       "      <td>14.60</td>\n",
       "    </tr>\n",
       "    <tr>\n",
       "      <th>Minecraft</th>\n",
       "      <th>2014.0</th>\n",
       "      <td>14.31</td>\n",
       "    </tr>\n",
       "    <tr>\n",
       "      <th>Battlefield 4</th>\n",
       "      <th>2013.0</th>\n",
       "      <td>13.94</td>\n",
       "    </tr>\n",
       "    <tr>\n",
       "      <th>Assassin's Creed IV: Black Flag</th>\n",
       "      <th>2013.0</th>\n",
       "      <td>13.06</td>\n",
       "    </tr>\n",
       "    <tr>\n",
       "      <th>Fallout 4</th>\n",
       "      <th>2015.0</th>\n",
       "      <td>12.67</td>\n",
       "    </tr>\n",
       "    <tr>\n",
       "      <th>Destiny</th>\n",
       "      <th>2014.0</th>\n",
       "      <td>12.54</td>\n",
       "    </tr>\n",
       "    <tr>\n",
       "      <th>Super Smash Bros. for Wii U and 3DS</th>\n",
       "      <th>2014.0</th>\n",
       "      <td>12.42</td>\n",
       "    </tr>\n",
       "    <tr>\n",
       "      <th>Star Wars Battlefront (2015)</th>\n",
       "      <th>2015.0</th>\n",
       "      <td>12.19</td>\n",
       "    </tr>\n",
       "    <tr>\n",
       "      <th>Pokemon Omega Ruby/Pokemon Alpha Sapphire</th>\n",
       "      <th>2014.0</th>\n",
       "      <td>11.68</td>\n",
       "    </tr>\n",
       "    <tr>\n",
       "      <th>FIFA 17</th>\n",
       "      <th>2016.0</th>\n",
       "      <td>11.48</td>\n",
       "    </tr>\n",
       "    <tr>\n",
       "      <th>LEGO Marvel Super Heroes</th>\n",
       "      <th>2013.0</th>\n",
       "      <td>9.41</td>\n",
       "    </tr>\n",
       "    <tr>\n",
       "      <th>Watch Dogs</th>\n",
       "      <th>2014.0</th>\n",
       "      <td>9.18</td>\n",
       "    </tr>\n",
       "  </tbody>\n",
       "</table>\n",
       "</div>"
      ],
      "text/plain": [
       "                                                           total_sales\n",
       "name                                      year_of_release             \n",
       "Grand Theft Auto V                        2013.0                 37.32\n",
       "Call of Duty: Ghosts                      2013.0                 27.39\n",
       "Call of Duty: Black Ops 3                 2015.0                 25.67\n",
       "Call of Duty: Advanced Warfare            2014.0                 21.97\n",
       "Grand Theft Auto V                        2014.0                 18.09\n",
       "FIFA 15                                   2014.0                 17.37\n",
       "FIFA 14                                   2013.0                 16.46\n",
       "FIFA 16                                   2015.0                 16.30\n",
       "Pokemon X/Pokemon Y                       2013.0                 14.60\n",
       "Minecraft                                 2014.0                 14.31\n",
       "Battlefield 4                             2013.0                 13.94\n",
       "Assassin's Creed IV: Black Flag           2013.0                 13.06\n",
       "Fallout 4                                 2015.0                 12.67\n",
       "Destiny                                   2014.0                 12.54\n",
       "Super Smash Bros. for Wii U and 3DS       2014.0                 12.42\n",
       "Star Wars Battlefront (2015)              2015.0                 12.19\n",
       "Pokemon Omega Ruby/Pokemon Alpha Sapphire 2014.0                 11.68\n",
       "FIFA 17                                   2016.0                 11.48\n",
       "LEGO Marvel Super Heroes                  2013.0                  9.41\n",
       "Watch Dogs                                2014.0                  9.18"
      ]
     },
     "execution_count": 382,
     "metadata": {},
     "output_type": "execute_result"
    }
   ],
   "source": [
    "#посмотрю еще распределения игр по годам\n",
    "\n",
    "name_year_table = data_since2012.pivot_table(index=['name', 'year_of_release'], values='total_sales', aggfunc='sum')\n",
    "name_year_table.sort_values('total_sales', ascending=False).head(20)"
   ]
  },
  {
   "cell_type": "markdown",
   "metadata": {},
   "source": [
    "не очен наглядно"
   ]
  },
  {
   "cell_type": "code",
   "execution_count": 383,
   "metadata": {},
   "outputs": [
    {
     "data": {
      "text/html": [
       "<div>\n",
       "<style scoped>\n",
       "    .dataframe tbody tr th:only-of-type {\n",
       "        vertical-align: middle;\n",
       "    }\n",
       "\n",
       "    .dataframe tbody tr th {\n",
       "        vertical-align: top;\n",
       "    }\n",
       "\n",
       "    .dataframe thead th {\n",
       "        text-align: right;\n",
       "    }\n",
       "</style>\n",
       "<table border=\"1\" class=\"dataframe\">\n",
       "  <thead>\n",
       "    <tr style=\"text-align: right;\">\n",
       "      <th></th>\n",
       "      <th>name</th>\n",
       "      <th>platform</th>\n",
       "      <th>year_of_release</th>\n",
       "      <th>genre</th>\n",
       "      <th>na_sales</th>\n",
       "      <th>eu_sales</th>\n",
       "      <th>jp_sales</th>\n",
       "      <th>other_sales</th>\n",
       "      <th>critic_score</th>\n",
       "      <th>user_score</th>\n",
       "      <th>rating</th>\n",
       "      <th>total_sales</th>\n",
       "    </tr>\n",
       "  </thead>\n",
       "  <tbody>\n",
       "    <tr>\n",
       "      <th>16</th>\n",
       "      <td>Grand Theft Auto V</td>\n",
       "      <td>PS3</td>\n",
       "      <td>2013.0</td>\n",
       "      <td>Action</td>\n",
       "      <td>7.02</td>\n",
       "      <td>9.09</td>\n",
       "      <td>0.98</td>\n",
       "      <td>3.96</td>\n",
       "      <td>97.0</td>\n",
       "      <td>8.2</td>\n",
       "      <td>M</td>\n",
       "      <td>21.05</td>\n",
       "    </tr>\n",
       "    <tr>\n",
       "      <th>23</th>\n",
       "      <td>Grand Theft Auto V</td>\n",
       "      <td>X360</td>\n",
       "      <td>2013.0</td>\n",
       "      <td>Action</td>\n",
       "      <td>9.66</td>\n",
       "      <td>5.14</td>\n",
       "      <td>0.06</td>\n",
       "      <td>1.41</td>\n",
       "      <td>97.0</td>\n",
       "      <td>8.1</td>\n",
       "      <td>M</td>\n",
       "      <td>16.27</td>\n",
       "    </tr>\n",
       "    <tr>\n",
       "      <th>42</th>\n",
       "      <td>Grand Theft Auto V</td>\n",
       "      <td>PS4</td>\n",
       "      <td>2014.0</td>\n",
       "      <td>Action</td>\n",
       "      <td>3.96</td>\n",
       "      <td>6.31</td>\n",
       "      <td>0.38</td>\n",
       "      <td>1.97</td>\n",
       "      <td>97.0</td>\n",
       "      <td>8.3</td>\n",
       "      <td>M</td>\n",
       "      <td>12.62</td>\n",
       "    </tr>\n",
       "    <tr>\n",
       "      <th>165</th>\n",
       "      <td>Grand Theft Auto V</td>\n",
       "      <td>XOne</td>\n",
       "      <td>2014.0</td>\n",
       "      <td>Action</td>\n",
       "      <td>2.81</td>\n",
       "      <td>2.19</td>\n",
       "      <td>0.00</td>\n",
       "      <td>0.47</td>\n",
       "      <td>97.0</td>\n",
       "      <td>7.9</td>\n",
       "      <td>M</td>\n",
       "      <td>5.47</td>\n",
       "    </tr>\n",
       "    <tr>\n",
       "      <th>1730</th>\n",
       "      <td>Grand Theft Auto V</td>\n",
       "      <td>PC</td>\n",
       "      <td>2015.0</td>\n",
       "      <td>Action</td>\n",
       "      <td>0.39</td>\n",
       "      <td>0.69</td>\n",
       "      <td>0.00</td>\n",
       "      <td>0.09</td>\n",
       "      <td>96.0</td>\n",
       "      <td>7.9</td>\n",
       "      <td>M</td>\n",
       "      <td>1.17</td>\n",
       "    </tr>\n",
       "  </tbody>\n",
       "</table>\n",
       "</div>"
      ],
      "text/plain": [
       "                    name platform  year_of_release   genre  na_sales  \\\n",
       "16    Grand Theft Auto V      PS3           2013.0  Action      7.02   \n",
       "23    Grand Theft Auto V     X360           2013.0  Action      9.66   \n",
       "42    Grand Theft Auto V      PS4           2014.0  Action      3.96   \n",
       "165   Grand Theft Auto V     XOne           2014.0  Action      2.81   \n",
       "1730  Grand Theft Auto V       PC           2015.0  Action      0.39   \n",
       "\n",
       "      eu_sales  jp_sales  other_sales  critic_score  user_score rating  \\\n",
       "16        9.09      0.98         3.96          97.0         8.2      M   \n",
       "23        5.14      0.06         1.41          97.0         8.1      M   \n",
       "42        6.31      0.38         1.97          97.0         8.3      M   \n",
       "165       2.19      0.00         0.47          97.0         7.9      M   \n",
       "1730      0.69      0.00         0.09          96.0         7.9      M   \n",
       "\n",
       "      total_sales  \n",
       "16          21.05  \n",
       "23          16.27  \n",
       "42          12.62  \n",
       "165          5.47  \n",
       "1730         1.17  "
      ]
     },
     "execution_count": 383,
     "metadata": {},
     "output_type": "execute_result"
    }
   ],
   "source": [
    "#возьму одну игру\n",
    "\n",
    "data_since2012[data_since2012['name'] == 'Grand Theft Auto V']"
   ]
  },
  {
   "cell_type": "markdown",
   "metadata": {},
   "source": [
    "слишком мало данных для анализа по играм, в идеале получить количество  и сумме продаж по годам на каждой платформе"
   ]
  },
  {
   "cell_type": "markdown",
   "metadata": {},
   "source": [
    "1. самые популярные жанры Action, Shooter, Sports \n",
    "2. изх популярнось оперделяется знаковыми играми в своей категории. GTA и Assassin в Action, Call of Duty и Battlefield  в Shooter, FIFA в Sports. \n",
    "3. теоритически удаляем какую то игру из жанра и сразу меняется позиция в рейтинге жанров\n",
    "4. самые популярные игры все серии, компаниям выгоднее вкладываться во франшизы чем в разработку новых\n",
    "5. нельзя также сказать, что пренадлежность к жанру оперделяет будущие продажи, распределение от головы до хвоста в целом одинаковое, хотя есть конечно и такие недорогие жанры как  Puzzle\n",
    "6. самые дорогие игры из серий GTA и Call of Duty"
   ]
  },
  {
   "cell_type": "markdown",
   "metadata": {},
   "source": [
    "Общий вывод:\n",
    "    платформа которая будет однозначно в топе на 2017год - PS4"
   ]
  },
  {
   "cell_type": "markdown",
   "metadata": {},
   "source": [
    "# Шаг 4. Составьте портрет пользователя каждого региона"
   ]
  },
  {
   "cell_type": "markdown",
   "metadata": {},
   "source": [
    "# Определите для пользователя каждого региона (NA, EU, JP):"
   ]
  },
  {
   "cell_type": "markdown",
   "metadata": {},
   "source": [
    "# Самые популярные платформы (топ-5). Опишите различия в долях продаж."
   ]
  },
  {
   "cell_type": "code",
   "execution_count": null,
   "metadata": {},
   "outputs": [],
   "source": [
    "data['na_sales'].describe()"
   ]
  },
  {
   "cell_type": "code",
   "execution_count": null,
   "metadata": {},
   "outputs": [],
   "source": [
    "data['eu_sales'].describe()"
   ]
  },
  {
   "cell_type": "code",
   "execution_count": null,
   "metadata": {},
   "outputs": [],
   "source": [
    "data['jp_sales'].describe()"
   ]
  },
  {
   "cell_type": "code",
   "execution_count": null,
   "metadata": {},
   "outputs": [],
   "source": [
    "fields = [('NA','na_sales'),('EU','eu_sales'),('JP','jp_sales')]\n",
    "fig = plt.figure(figsize=(15, 6))\n",
    "for i, pie in enumerate(fields):\n",
    "    df = data[data['year_of_release']>2012].groupby('genre')[pie[1]].sum().sort_values(ascending=False)\n",
    "    other = df[6:].sum()\n",
    "    df = df[:6].copy()\n",
    "    df['other_genre'] = other\n",
    "    ax = fig.add_subplot(1,3,i+1)\n",
    "    df.plot(kind='pie', autopct='%1.1f%%', title=pie[0])\n",
    "    plt.axis('off')\n",
    "fig.suptitle(\"Top 5 жанров в регионах\");"
   ]
  },
  {
   "cell_type": "markdown",
   "metadata": {},
   "source": [
    "1. топ 5 по северной Америке:     Action,       Shooter, Sports, Role-Playing и Misc\n",
    "   топ 5 по Европейскому региону: Action,       Shooter, Sports, Role-Playing и Racing\n",
    "   топ 5 по Японии:               Role-Playing, Action,  Misc,   Fighting и Shooter\n",
    "2. в северной Америке и Европе лидер жанр Action, в Японии как всегда все не как всех в лидерах RPG, когда как в друих регионах, он даже не в первой тройке \n",
    "2. "
   ]
  },
  {
   "cell_type": "code",
   "execution_count": 339,
   "metadata": {},
   "outputs": [
    {
     "data": {
      "image/png": "[encoded data removed]",
      "text/plain": [
       "<Figure size 1080x432 with 3 Axes>"
      ]
     },
     "metadata": {},
     "output_type": "display_data"
    }
   ],
   "source": [
    "pies = [('NA','na_sales'),('EU','eu_sales'),('JP','jp_sales')]\n",
    "fig = plt.figure(figsize=(15, 6))\n",
    "for i, pie in enumerate(pies):\n",
    "    df = data[data['year_of_release']>2012].groupby('platform')[pie[1]].sum().sort_values(ascending=False)\n",
    "    other = df[6:].sum()\n",
    "    df = df[:6].copy()\n",
    "    df['other_platform'] = other\n",
    "    ax = fig.add_subplot(1,3,i+1)\n",
    "    df.plot(kind='pie', autopct='%1.1f%%', title=pie[0])\n",
    "    plt.axis('off')\n",
    "fig.suptitle(\"Top 5 платформ в регионах завесь период\");\n"
   ]
  },
  {
   "cell_type": "markdown",
   "metadata": {},
   "source": [
    "1. топ 5 платформ по северной Америке:     PS4, XOne, X360, PS3 и  3DS\n",
    "   топ 5 платформ по Европейскому региону: PS4, PS3,  XOne, X360 и 3DS\n",
    "   топ 5 платформ по Японии:               3DS, PS3,  PSV,  PS4 и  WiiU\n",
    "2. в Европе и северной Америке в лидер SP4 когда как на родине SONY лидирует 3DS от Nintendo, напомню - портативная приставка\n",
    "3. в Северной Америке основные конкуренты SONY и MS, в Японии Nintendo и SONY"
   ]
  },
  {
   "cell_type": "markdown",
   "metadata": {},
   "source": [
    "# Влияет ли рейтинг ESRB на продажи в отдельном регионе?"
   ]
  },
  {
   "cell_type": "code",
   "execution_count": 377,
   "metadata": {},
   "outputs": [
    {
     "name": "stdout",
     "output_type": "stream",
     "text": [
      "M = 17+\n",
      "T = 13+\n",
      "E10+ = 10+\n",
      "E = 0+\n"
     ]
    },
    {
     "data": {
      "image/png": "[encoded data removed]",
      "text/plain": [
       "<Figure size 1080x432 with 3 Axes>"
      ]
     },
     "metadata": {},
     "output_type": "display_data"
    }
   ],
   "source": [
    "pies = [('NA','na_sales'),('EU','eu_sales'),('JP','jp_sales')]\n",
    "fig = plt.figure(figsize=(15, 6))\n",
    "for i, pie in enumerate(pies):\n",
    "    df = data_since2012.groupby('rating')[pie[1]].sum().sort_values(ascending=False)\n",
    "    other = df[6:].sum()\n",
    "    df = df[:6].copy()\n",
    "    df['other_platform'] = other\n",
    "    ax = fig.add_subplot(1,3,i+1)\n",
    "    df.plot(kind='pie', autopct='%1.1f%%', title=pie[0])\n",
    "    plt.axis('off')\n",
    "fig.suptitle(\"Разбивка по рэйтингам\");\n",
    "print('M = 17+')\n",
    "print('T = 13+')\n",
    "print('E10+ = 10+')\n",
    "print('E = 0+')"
   ]
  },
  {
   "cell_type": "code",
   "execution_count": 310,
   "metadata": {
    "scrolled": true
   },
   "outputs": [
    {
     "data": {
      "text/plain": [
       "NaN     977\n",
       "M       369\n",
       "T       333\n",
       "E       302\n",
       "E10+    252\n",
       "Name: rating, dtype: int64"
      ]
     },
     "execution_count": 310,
     "metadata": {},
     "output_type": "execute_result"
    }
   ],
   "source": [
    "#смотрим сколько всего игр без рейтинга\n",
    "\n",
    "data_since2012['rating'].value_counts(dropna=False)"
   ]
  },
  {
   "cell_type": "markdown",
   "metadata": {},
   "source": [
    "итак \n",
    "1. среднестатисический пользователь из северной Америке 17+, предпочитает шутеры и экшены на PS4 и XOne. \n",
    "2. европеец также 17+, выбрает PS 3й и 4й, играет также в шутеры и экшн\n",
    "3. японец как обычно отличается, в Японии начинают массово играть с 13 лет, предпочитают карманные приставки 3DS  с RPG  на борту"
   ]
  },
  {
   "cell_type": "code",
   "execution_count": 318,
   "metadata": {},
   "outputs": [
    {
     "name": "stderr",
     "output_type": "stream",
     "text": [
      "/tmp/ipykernel_31/1229226052.py:3: SettingWithCopyWarning: \n",
      "A value is trying to be set on a copy of a slice from a DataFrame.\n",
      "Try using .loc[row_indexer,col_indexer] = value instead\n",
      "\n",
      "See the caveats in the documentation: https://pandas.pydata.org/pandas-docs/stable/user_guide/indexing.html#returning-a-view-versus-a-copy\n",
      "  data_since2012['rating'] = data_since2012['rating'].fillna(\"ESRB\")\n"
     ]
    }
   ],
   "source": [
    "#меняю NAN  на ESRB\n",
    "\n",
    "data_since2012['rating'] = data_since2012['rating'].fillna(\"ESRB\")"
   ]
  },
  {
   "cell_type": "code",
   "execution_count": 320,
   "metadata": {},
   "outputs": [
    {
     "data": {
      "text/plain": [
       "ESRB    977\n",
       "M       369\n",
       "T       333\n",
       "E       302\n",
       "E10+    252\n",
       "Name: rating, dtype: int64"
      ]
     },
     "execution_count": 320,
     "metadata": {},
     "output_type": "execute_result"
    }
   ],
   "source": [
    "#проверяю\n",
    "\n",
    "\n",
    "data_since2012['rating'].value_counts(dropna=False)"
   ]
  },
  {
   "cell_type": "code",
   "execution_count": 378,
   "metadata": {},
   "outputs": [
    {
     "name": "stdout",
     "output_type": "stream",
     "text": [
      "M = 17+\n",
      "T = 13+\n",
      "E10+ = 10+\n",
      "E = 0+\n"
     ]
    },
    {
     "data": {
      "image/png": "[encoded data removed]",
      "text/plain": [
       "<Figure size 1080x432 with 3 Axes>"
      ]
     },
     "metadata": {},
     "output_type": "display_data"
    }
   ],
   "source": [
    "pies = [('NA','na_sales'),('EU','eu_sales'),('JP','jp_sales')]\n",
    "fig = plt.figure(figsize=(15, 6))\n",
    "for i, pie in enumerate(pies):\n",
    "    df = data_since2012.groupby('rating')[pie[1]].sum().sort_values(ascending=False)\n",
    "    other = df[6:].sum()\n",
    "    df = df[:6].copy()\n",
    "    df['other_platform'] = other\n",
    "    ax = fig.add_subplot(1,3,i+1)\n",
    "    df.plot(kind='pie', autopct='%1.1f%%', title=pie[0])\n",
    "    plt.axis('off')\n",
    "fig.suptitle(\"Разбивка по рэйтингам 2\");\n",
    "print('M = 17+')\n",
    "print('T = 13+')\n",
    "print('E10+ = 10+')\n",
    "print('E = 0+')"
   ]
  },
  {
   "cell_type": "code",
   "execution_count": 338,
   "metadata": {},
   "outputs": [
    {
     "data": {
      "text/html": [
       "<div>\n",
       "<style scoped>\n",
       "    .dataframe tbody tr th:only-of-type {\n",
       "        vertical-align: middle;\n",
       "    }\n",
       "\n",
       "    .dataframe tbody tr th {\n",
       "        vertical-align: top;\n",
       "    }\n",
       "\n",
       "    .dataframe thead th {\n",
       "        text-align: right;\n",
       "    }\n",
       "</style>\n",
       "<table border=\"1\" class=\"dataframe\">\n",
       "  <thead>\n",
       "    <tr style=\"text-align: right;\">\n",
       "      <th></th>\n",
       "      <th>total_sales</th>\n",
       "    </tr>\n",
       "    <tr>\n",
       "      <th>name</th>\n",
       "      <th></th>\n",
       "    </tr>\n",
       "  </thead>\n",
       "  <tbody>\n",
       "    <tr>\n",
       "      <th>Pokemon X/Pokemon Y</th>\n",
       "      <td>14.60</td>\n",
       "    </tr>\n",
       "    <tr>\n",
       "      <th>Pokemon Omega Ruby/Pokemon Alpha Sapphire</th>\n",
       "      <td>11.68</td>\n",
       "    </tr>\n",
       "    <tr>\n",
       "      <th>Pokemon Sun/Moon</th>\n",
       "      <td>7.14</td>\n",
       "    </tr>\n",
       "    <tr>\n",
       "      <th>Super Smash Bros. for Wii U and 3DS</th>\n",
       "      <td>6.21</td>\n",
       "    </tr>\n",
       "    <tr>\n",
       "      <th>Tomodachi Life</th>\n",
       "      <td>5.22</td>\n",
       "    </tr>\n",
       "    <tr>\n",
       "      <th>The Last of Us</th>\n",
       "      <td>4.72</td>\n",
       "    </tr>\n",
       "    <tr>\n",
       "      <th>Star Wars Battlefront (2015)</th>\n",
       "      <td>3.66</td>\n",
       "    </tr>\n",
       "    <tr>\n",
       "      <th>Minecraft</th>\n",
       "      <td>3.54</td>\n",
       "    </tr>\n",
       "    <tr>\n",
       "      <th>Monster Hunter 4</th>\n",
       "      <td>3.44</td>\n",
       "    </tr>\n",
       "    <tr>\n",
       "      <th>Monster Hunter X</th>\n",
       "      <td>3.32</td>\n",
       "    </tr>\n",
       "    <tr>\n",
       "      <th>Yokai Watch 2 Ganso/Honke</th>\n",
       "      <td>3.28</td>\n",
       "    </tr>\n",
       "    <tr>\n",
       "      <th>Yokai Watch 2 Shinuchi</th>\n",
       "      <td>2.68</td>\n",
       "    </tr>\n",
       "    <tr>\n",
       "      <th>Yokai Watch Busters</th>\n",
       "      <td>2.29</td>\n",
       "    </tr>\n",
       "    <tr>\n",
       "      <th>Yokai Watch</th>\n",
       "      <td>2.08</td>\n",
       "    </tr>\n",
       "    <tr>\n",
       "      <th>Mario &amp; Luigi: Dream Team</th>\n",
       "      <td>2.07</td>\n",
       "    </tr>\n",
       "    <tr>\n",
       "      <th>Donkey Kong Country Returns</th>\n",
       "      <td>1.90</td>\n",
       "    </tr>\n",
       "    <tr>\n",
       "      <th>The Legend of Zelda: The Wind Waker</th>\n",
       "      <td>1.80</td>\n",
       "    </tr>\n",
       "    <tr>\n",
       "      <th>The Elder Scrolls Online</th>\n",
       "      <td>1.75</td>\n",
       "    </tr>\n",
       "    <tr>\n",
       "      <th>Kingdom Hearts</th>\n",
       "      <td>1.74</td>\n",
       "    </tr>\n",
       "    <tr>\n",
       "      <th>Call of Duty: Black Ops 3</th>\n",
       "      <td>1.70</td>\n",
       "    </tr>\n",
       "  </tbody>\n",
       "</table>\n",
       "</div>"
      ],
      "text/plain": [
       "                                           total_sales\n",
       "name                                                  \n",
       "Pokemon X/Pokemon Y                              14.60\n",
       "Pokemon Omega Ruby/Pokemon Alpha Sapphire        11.68\n",
       "Pokemon Sun/Moon                                  7.14\n",
       "Super Smash Bros. for Wii U and 3DS               6.21\n",
       "Tomodachi Life                                    5.22\n",
       "The Last of Us                                    4.72\n",
       "Star Wars Battlefront (2015)                      3.66\n",
       "Minecraft                                         3.54\n",
       "Monster Hunter 4                                  3.44\n",
       "Monster Hunter X                                  3.32\n",
       "Yokai Watch 2 Ganso/Honke                         3.28\n",
       "Yokai Watch 2 Shinuchi                            2.68\n",
       "Yokai Watch Busters                               2.29\n",
       "Yokai Watch                                       2.08\n",
       "Mario & Luigi: Dream Team                         2.07\n",
       "Donkey Kong Country Returns                       1.90\n",
       "The Legend of Zelda: The Wind Waker               1.80\n",
       "The Elder Scrolls Online                          1.75\n",
       "Kingdom Hearts                                    1.74\n",
       "Call of Duty: Black Ops 3                         1.70"
      ]
     },
     "execution_count": 338,
     "metadata": {},
     "output_type": "execute_result"
    }
   ],
   "source": [
    "#смотрю какие игры с таким рейтингом\n",
    "\n",
    "data_since2012[data_since2012['rating']=='ESRB'].pivot_table(index='name', values='total_sales', \n",
    "                                            aggfunc='median').sort_values('total_sales', ascending=False).head(20)"
   ]
  },
  {
   "cell_type": "markdown",
   "metadata": {},
   "source": [
    "# 5. Гипотезы"
   ]
  },
  {
   "cell_type": "markdown",
   "metadata": {},
   "source": [
    "Нулевая гипотеза: Средние пользовательские рейтинги платформ Xbox One и PC одинаковые;\n",
    "Альтернативная гипотеза: Средние пользовательские рейтинги платформ Xbox One и PC различаются"
   ]
  },
  {
   "cell_type": "code",
   "execution_count": 349,
   "metadata": {},
   "outputs": [],
   "source": [
    "#создаю отдельные serias  с оценками по платформам XOne и PC\n",
    "\n",
    "xone_h = data_since2012[data_since2012['platform']=='XOne']['user_score'].dropna()\n",
    "pc_h = data_since2012[data_since2012['platform']=='PC']['user_score'].dropna()"
   ]
  },
  {
   "cell_type": "code",
   "execution_count": null,
   "metadata": {},
   "outputs": [],
   "source": []
  },
  {
   "cell_type": "code",
   "execution_count": 356,
   "metadata": {},
   "outputs": [
    {
     "data": {
      "text/plain": [
       "1.8965188383045526"
      ]
     },
     "execution_count": 356,
     "metadata": {},
     "output_type": "execute_result"
    }
   ],
   "source": [
    "#дисперсия для XOne\n",
    "\n",
    "np.var(xone_h)"
   ]
  },
  {
   "cell_type": "markdown",
   "metadata": {},
   "source": [
    "почему у меня дисперсия считается как NAN, при этом в выборке пропусков нет?  такая же ошибка далее, уже проверил разными способами и все одно и тоже "
   ]
  },
  {
   "cell_type": "code",
   "execution_count": 357,
   "metadata": {},
   "outputs": [
    {
     "data": {
      "text/plain": [
       "3.016306347554631"
      ]
     },
     "execution_count": 357,
     "metadata": {},
     "output_type": "execute_result"
    }
   ],
   "source": [
    "#дисперсия для PC\n",
    "\n",
    "np.var(pc_h)"
   ]
  },
  {
   "cell_type": "code",
   "execution_count": 358,
   "metadata": {},
   "outputs": [
    {
     "name": "stdout",
     "output_type": "stream",
     "text": [
      "p-значение: 0.14759594013430463\n",
      "Не получилось отвергнуть нулевую гипотезу\n"
     ]
    }
   ],
   "source": [
    "alpha = .05\n",
    "\n",
    "results = st.ttest_ind(xone_h, pc_h, equal_var=False)\n",
    "\n",
    "print('p-значение:', results.pvalue)\n",
    "\n",
    "\n",
    "if (results.pvalue < alpha):\n",
    "    print(\"Отвергаем нулевую гипотезу\")\n",
    "else:\n",
    "    print(\"Не получилось отвергнуть нулевую гипотезу\")"
   ]
  },
  {
   "cell_type": "markdown",
   "metadata": {},
   "source": [
    "Нулевая гипотеза: Средние пользовательские рейтинги жанров Action и Sports одинаковые.\n",
    "Альтернативная гипотеза: Средние пользовательские рейтинги жанров Action и Sports различаются."
   ]
  },
  {
   "cell_type": "code",
   "execution_count": 368,
   "metadata": {},
   "outputs": [],
   "source": [
    "genre_action_h = data_since2012[data_since2012['genre']=='Action']['user_score'].dropna()\n",
    "\n",
    "genre_sports_h = data_since2012[data_since2012['genre']=='Sports']['user_score'].dropna()"
   ]
  },
  {
   "cell_type": "code",
   "execution_count": 369,
   "metadata": {},
   "outputs": [
    {
     "data": {
      "text/plain": [
       "1.7648124186332366"
      ]
     },
     "execution_count": 369,
     "metadata": {},
     "output_type": "execute_result"
    }
   ],
   "source": [
    "#дисперсия для Action\n",
    "np.var(genre_action_h)\n",
    "\n"
   ]
  },
  {
   "cell_type": "code",
   "execution_count": 370,
   "metadata": {},
   "outputs": [
    {
     "data": {
      "text/plain": [
       "3.160733984375"
      ]
     },
     "execution_count": 370,
     "metadata": {},
     "output_type": "execute_result"
    }
   ],
   "source": [
    "#дисперсия для sports\n",
    "np.var(genre_sports_h)"
   ]
  },
  {
   "cell_type": "code",
   "execution_count": 371,
   "metadata": {},
   "outputs": [
    {
     "name": "stdout",
     "output_type": "stream",
     "text": [
      "p-значение: 1.4460039700704315e-20\n",
      "Отвергаем нулевую гипотезу\n"
     ]
    }
   ],
   "source": [
    "alpha = .05\n",
    "\n",
    "results = st.ttest_ind(genre_action_h, genre_sports_h, equal_var=False)\n",
    "\n",
    "print('p-значение:', results.pvalue)\n",
    "\n",
    "\n",
    "if (results.pvalue < alpha):\n",
    "    print(\"Отвергаем нулевую гипотезу\")\n",
    "else:\n",
    "    print(\"Не получилось отвергнуть нулевую гипотезу\")"
   ]
  },
  {
   "cell_type": "markdown",
   "metadata": {},
   "source": [
    "# Общий вывод\n"
   ]
  },
  {
   "cell_type": "markdown",
   "metadata": {},
   "source": [
    " выявить определяющие успешность игры закономерности. Это позволит сделать ставку на потенциально популярный продукт и спланировать рекламные кампании.\n",
    " "
   ]
  },
  {
   "cell_type": "markdown",
   "metadata": {},
   "source": [
    " Общий вывод\n",
    "   \n",
    "    1. около трети игр имеют пропуски в оценках критиков и игроков, возможно в этапе выхода игры не достаточно данных для того что бы эти пропуски заполнить, но после примерно двух можно уже получить эти данные, предалгаю дать соответствующее задания в соответствующие подразделения\n",
    "    2. в текущей выборке пропуски по оценкам критиков и игроков заполнять меианами, средними или нулями нельзя, так как это может повлиять на статистику\n",
    "    3. c 1980 по 1993 года количество игр не большое, потом с 1993 года начинает появлятся игры на DOS и винде, после 2000го стали появояется XP, видео карты становятся производительнее, появляется 3D графика, помню много было компьютеных салонов, где дети резались в контру. Поосле 2008 года спад из за кризиса, основные игроки на тот момент начали сильно терять в стоимости и сокращать штат. Также с 2008 года в игоровую индустрию приходят мобильные игры, которых в нашей выборке нет\n",
    "    4. но учитывая средную жизнь платформы в 8-12 продуктивнее сосредоточится на изучении данных с 2012го года, так мы будем работать только с актуальными платформами, которые еще могут дать прибыльные игры, на которых нам необходимо будет сосредоточится\n",
    "    5. в актуальной выборке топ 3 платформы по северной Америке: PS4, XOne, X360.   топ 3 платформы по Европейскому региону: PS4, PS3, XOne и  топ 3 платформы по Японии: 3DS, PS3, PSV. Рассматриать топы необходимо только так - в разбивке по регионам, так как предпочтения игроков по регионам разнятся\n",
    "    6. в целом самыми продуктивными по продажам платформами на 2017 год будут PS4, XOne, если выбирать только две, но как я описал выше - в идеале сделать разибвку по регионам, в особенности вынести отдельно Японию с очень популярными карманными приставками 3DS\n",
    "    7. при планировании продаж оценки критиков и игроков можно практически не учитывать, их связь крайне мала\n",
    "    8. в топ 2 жанров по продажам - шутеры и спорт. в японии RPG, так что при планировании продаж по жанрах также необходимо учитывать специфику региона\n",
    "    9. популярнось жанров оперделяется знаковыми играми в своей категории. GTA и Assassin в Action, Call of Duty и Battlefield  в Shooter, FIFA в Sports и Покемоны!!! в RPG. что бы строить более коректный прогноз по играм необходимо получить данные по количетву и суммам продаж отдельно по играм в разрезе одной платформы по годам. \n",
    "    10. среднестатисический пользователь из северной Америке 17+, предпочитает шутеры и экшены на PS4 и XOne.\n",
    "европеец также 17+, выбрает PS 3й и 4й, играет также в шутеры и экшн\n",
    "японец как обычно отличается, в Японии начинают массово играть с 13 лет, предпочитают карманные приставки 3DS с RPG на борту\n",
    "    "
   ]
  }
 ],
 "metadata": {
  "ExecuteTimeLog": [
   {
    "duration": 57,
    "start_time": "2023-01-28T06:54:33.167Z"
   },
   {
    "duration": 827,
    "start_time": "2023-01-28T06:54:38.126Z"
   },
   {
    "duration": 227,
    "start_time": "2023-01-28T06:54:42.725Z"
   },
   {
    "duration": 55,
    "start_time": "2023-01-28T06:55:10.852Z"
   },
   {
    "duration": 88,
    "start_time": "2023-01-28T06:55:37.500Z"
   },
   {
    "duration": 15,
    "start_time": "2023-01-28T06:55:52.721Z"
   },
   {
    "duration": 29,
    "start_time": "2023-01-28T06:56:10.619Z"
   },
   {
    "duration": 801,
    "start_time": "2023-01-28T06:58:19.523Z"
   },
   {
    "duration": 41,
    "start_time": "2023-01-28T07:18:42.593Z"
   },
   {
    "duration": 5,
    "start_time": "2023-01-28T07:18:46.449Z"
   },
   {
    "duration": 186,
    "start_time": "2023-01-28T07:18:56.940Z"
   },
   {
    "duration": 11,
    "start_time": "2023-01-28T07:27:40.525Z"
   },
   {
    "duration": 4,
    "start_time": "2023-01-28T07:28:23.633Z"
   },
   {
    "duration": 14,
    "start_time": "2023-01-28T07:28:27.558Z"
   },
   {
    "duration": 15,
    "start_time": "2023-01-28T07:28:44.572Z"
   },
   {
    "duration": 6,
    "start_time": "2023-01-28T07:29:52.029Z"
   },
   {
    "duration": 7,
    "start_time": "2023-01-28T08:06:01.127Z"
   },
   {
    "duration": 13,
    "start_time": "2023-01-28T08:07:14.457Z"
   },
   {
    "duration": 7,
    "start_time": "2023-01-28T08:08:21.084Z"
   },
   {
    "duration": 15,
    "start_time": "2023-01-28T08:08:46.364Z"
   },
   {
    "duration": 5,
    "start_time": "2023-01-28T08:11:44.604Z"
   },
   {
    "duration": 14,
    "start_time": "2023-01-28T08:12:00.227Z"
   },
   {
    "duration": 3,
    "start_time": "2023-01-28T08:14:10.088Z"
   },
   {
    "duration": 715,
    "start_time": "2023-01-28T08:14:58.862Z"
   },
   {
    "duration": 5,
    "start_time": "2023-01-28T08:16:27.755Z"
   },
   {
    "duration": 22,
    "start_time": "2023-01-28T08:16:46.387Z"
   },
   {
    "duration": 692,
    "start_time": "2023-01-28T08:18:43.606Z"
   },
   {
    "duration": 71,
    "start_time": "2023-01-28T08:19:13.728Z"
   },
   {
    "duration": 21,
    "start_time": "2023-01-28T08:19:17.951Z"
   },
   {
    "duration": 6,
    "start_time": "2023-01-28T08:20:43.646Z"
   },
   {
    "duration": 23,
    "start_time": "2023-01-28T08:20:49.348Z"
   },
   {
    "duration": 5,
    "start_time": "2023-01-28T08:22:11.931Z"
   },
   {
    "duration": 22,
    "start_time": "2023-01-28T08:22:15.663Z"
   },
   {
    "duration": 11,
    "start_time": "2023-01-28T08:26:01.140Z"
   },
   {
    "duration": 19,
    "start_time": "2023-01-28T08:31:13.196Z"
   },
   {
    "duration": 24,
    "start_time": "2023-01-28T08:36:33.195Z"
   },
   {
    "duration": 17,
    "start_time": "2023-01-28T09:12:02.571Z"
   },
   {
    "duration": 3,
    "start_time": "2023-01-28T09:25:54.879Z"
   },
   {
    "duration": 34,
    "start_time": "2023-01-28T09:28:26.959Z"
   },
   {
    "duration": 815,
    "start_time": "2023-01-28T12:29:26.495Z"
   },
   {
    "duration": 132,
    "start_time": "2023-01-28T12:29:28.191Z"
   },
   {
    "duration": 6,
    "start_time": "2023-01-28T12:36:45.771Z"
   },
   {
    "duration": 1288,
    "start_time": "2023-01-28T12:37:34.216Z"
   },
   {
    "duration": 4,
    "start_time": "2023-01-28T12:38:02.006Z"
   },
   {
    "duration": 17,
    "start_time": "2023-01-28T12:38:07.854Z"
   },
   {
    "duration": 4,
    "start_time": "2023-01-28T12:38:45.444Z"
   },
   {
    "duration": 22,
    "start_time": "2023-01-28T12:39:16.120Z"
   },
   {
    "duration": 9,
    "start_time": "2023-01-28T12:40:45.554Z"
   },
   {
    "duration": 10,
    "start_time": "2023-01-28T12:41:07.558Z"
   },
   {
    "duration": 9,
    "start_time": "2023-01-28T12:41:22.830Z"
   },
   {
    "duration": 10,
    "start_time": "2023-01-28T12:45:18.193Z"
   },
   {
    "duration": 49,
    "start_time": "2023-01-28T12:45:39.411Z"
   },
   {
    "duration": 30,
    "start_time": "2023-01-28T12:46:07.624Z"
   },
   {
    "duration": 7,
    "start_time": "2023-01-28T12:46:44.352Z"
   },
   {
    "duration": 3,
    "start_time": "2023-01-28T12:59:56.671Z"
   },
   {
    "duration": 12,
    "start_time": "2023-01-28T13:02:13.462Z"
   },
   {
    "duration": 34,
    "start_time": "2023-01-28T13:02:23.429Z"
   },
   {
    "duration": 33,
    "start_time": "2023-01-28T13:05:42.130Z"
   },
   {
    "duration": 26,
    "start_time": "2023-01-28T13:06:34.952Z"
   },
   {
    "duration": 91,
    "start_time": "2023-01-28T13:08:44.218Z"
   },
   {
    "duration": 24,
    "start_time": "2023-01-28T13:08:50.340Z"
   },
   {
    "duration": 24,
    "start_time": "2023-01-28T13:09:05.486Z"
   },
   {
    "duration": 26,
    "start_time": "2023-01-28T13:11:09.883Z"
   },
   {
    "duration": 9,
    "start_time": "2023-01-28T13:12:24.683Z"
   },
   {
    "duration": 5,
    "start_time": "2023-01-28T13:12:35.127Z"
   },
   {
    "duration": 523,
    "start_time": "2023-01-28T13:21:49.844Z"
   },
   {
    "duration": 264,
    "start_time": "2023-01-28T13:22:35.616Z"
   },
   {
    "duration": 279,
    "start_time": "2023-01-28T13:23:29.679Z"
   },
   {
    "duration": 857,
    "start_time": "2023-01-28T13:28:04.096Z"
   },
   {
    "duration": 3,
    "start_time": "2023-01-28T13:28:27.923Z"
   },
   {
    "duration": 818,
    "start_time": "2023-01-28T13:29:10.429Z"
   },
   {
    "duration": 260,
    "start_time": "2023-01-28T13:30:31.916Z"
   },
   {
    "duration": 246,
    "start_time": "2023-01-28T13:31:27.862Z"
   },
   {
    "duration": 3,
    "start_time": "2023-01-28T13:34:00.131Z"
   },
   {
    "duration": 254,
    "start_time": "2023-01-28T13:39:15.602Z"
   },
   {
    "duration": 3,
    "start_time": "2023-01-28T13:42:00.092Z"
   },
   {
    "duration": 4,
    "start_time": "2023-01-28T13:45:19.106Z"
   },
   {
    "duration": 16,
    "start_time": "2023-01-28T13:45:23.845Z"
   },
   {
    "duration": 60,
    "start_time": "2023-01-28T23:58:08.790Z"
   },
   {
    "duration": 40,
    "start_time": "2023-01-28T23:58:17.469Z"
   },
   {
    "duration": 750,
    "start_time": "2023-01-28T23:58:27.205Z"
   },
   {
    "duration": 208,
    "start_time": "2023-01-28T23:58:27.957Z"
   },
   {
    "duration": 18,
    "start_time": "2023-01-28T23:58:28.166Z"
   },
   {
    "duration": 27,
    "start_time": "2023-01-28T23:58:28.186Z"
   },
   {
    "duration": 2,
    "start_time": "2023-01-28T23:58:28.215Z"
   },
   {
    "duration": 6,
    "start_time": "2023-01-28T23:58:28.218Z"
   },
   {
    "duration": 14,
    "start_time": "2023-01-28T23:58:28.225Z"
   },
   {
    "duration": 5,
    "start_time": "2023-01-28T23:58:28.241Z"
   },
   {
    "duration": 13,
    "start_time": "2023-01-28T23:58:28.248Z"
   },
   {
    "duration": 35,
    "start_time": "2023-01-28T23:58:28.264Z"
   },
   {
    "duration": 16,
    "start_time": "2023-01-28T23:58:28.301Z"
   },
   {
    "duration": 9,
    "start_time": "2023-01-28T23:58:28.319Z"
   },
   {
    "duration": 14,
    "start_time": "2023-01-28T23:58:28.330Z"
   },
   {
    "duration": 6,
    "start_time": "2023-01-28T23:58:28.346Z"
   },
   {
    "duration": 39,
    "start_time": "2023-01-28T23:58:28.353Z"
   },
   {
    "duration": 5,
    "start_time": "2023-01-28T23:58:28.393Z"
   },
   {
    "duration": 20,
    "start_time": "2023-01-28T23:58:28.400Z"
   },
   {
    "duration": 4,
    "start_time": "2023-01-28T23:58:28.422Z"
   },
   {
    "duration": 24,
    "start_time": "2023-01-28T23:58:28.428Z"
   },
   {
    "duration": 44,
    "start_time": "2023-01-28T23:58:28.453Z"
   },
   {
    "duration": 5,
    "start_time": "2023-01-28T23:58:28.499Z"
   },
   {
    "duration": 25,
    "start_time": "2023-01-28T23:58:28.505Z"
   },
   {
    "duration": 3,
    "start_time": "2023-01-28T23:58:28.532Z"
   },
   {
    "duration": 6,
    "start_time": "2023-01-28T23:58:28.537Z"
   },
   {
    "duration": 4,
    "start_time": "2023-01-28T23:58:28.544Z"
   },
   {
    "duration": 48,
    "start_time": "2023-01-28T23:58:28.549Z"
   },
   {
    "duration": 40,
    "start_time": "2023-01-28T23:58:28.599Z"
   },
   {
    "duration": 48,
    "start_time": "2023-01-28T23:59:03.584Z"
   },
   {
    "duration": 14,
    "start_time": "2023-01-28T23:59:14.417Z"
   },
   {
    "duration": 13,
    "start_time": "2023-01-29T00:01:20.308Z"
   },
   {
    "duration": 6,
    "start_time": "2023-01-29T00:02:30.764Z"
   },
   {
    "duration": 3,
    "start_time": "2023-01-29T00:03:32.491Z"
   },
   {
    "duration": 22,
    "start_time": "2023-01-29T00:18:06.065Z"
   },
   {
    "duration": 21,
    "start_time": "2023-01-29T00:20:24.783Z"
   },
   {
    "duration": 12,
    "start_time": "2023-01-29T00:22:28.171Z"
   },
   {
    "duration": 5,
    "start_time": "2023-01-29T00:35:16.105Z"
   },
   {
    "duration": 4,
    "start_time": "2023-01-29T00:36:12.932Z"
   },
   {
    "duration": 21,
    "start_time": "2023-01-29T00:38:19.107Z"
   },
   {
    "duration": 6,
    "start_time": "2023-01-29T02:14:50.859Z"
   },
   {
    "duration": 12,
    "start_time": "2023-01-29T02:23:57.617Z"
   },
   {
    "duration": 5,
    "start_time": "2023-01-29T02:29:28.175Z"
   },
   {
    "duration": 5,
    "start_time": "2023-01-29T02:29:43.994Z"
   },
   {
    "duration": 21,
    "start_time": "2023-01-29T02:30:23.042Z"
   },
   {
    "duration": 9,
    "start_time": "2023-01-29T02:44:42.080Z"
   },
   {
    "duration": 15,
    "start_time": "2023-01-29T02:45:07.293Z"
   },
   {
    "duration": 152,
    "start_time": "2023-01-29T02:45:39.287Z"
   },
   {
    "duration": 128,
    "start_time": "2023-01-29T02:45:57.310Z"
   },
   {
    "duration": 143,
    "start_time": "2023-01-29T02:46:12.775Z"
   },
   {
    "duration": 142,
    "start_time": "2023-01-29T03:05:03.673Z"
   },
   {
    "duration": 13,
    "start_time": "2023-01-29T04:09:56.309Z"
   },
   {
    "duration": 16,
    "start_time": "2023-01-29T04:10:28.389Z"
   },
   {
    "duration": 14,
    "start_time": "2023-01-29T04:10:45.270Z"
   },
   {
    "duration": 8,
    "start_time": "2023-01-29T04:11:23.263Z"
   },
   {
    "duration": 14,
    "start_time": "2023-01-29T04:12:10.387Z"
   },
   {
    "duration": 169,
    "start_time": "2023-01-29T04:14:23.997Z"
   },
   {
    "duration": 19,
    "start_time": "2023-01-29T04:14:56.287Z"
   },
   {
    "duration": 8,
    "start_time": "2023-01-29T04:16:25.907Z"
   },
   {
    "duration": 476,
    "start_time": "2023-01-29T04:17:46.015Z"
   },
   {
    "duration": 35,
    "start_time": "2023-01-29T04:17:57.306Z"
   },
   {
    "duration": 263,
    "start_time": "2023-01-29T04:18:32.900Z"
   },
   {
    "duration": 358,
    "start_time": "2023-01-29T04:20:28.270Z"
   },
   {
    "duration": 278,
    "start_time": "2023-01-29T04:20:38.793Z"
   },
   {
    "duration": 266,
    "start_time": "2023-01-29T04:22:25.519Z"
   },
   {
    "duration": 4,
    "start_time": "2023-01-29T04:25:51.604Z"
   },
   {
    "duration": 773,
    "start_time": "2023-01-29T04:45:35.285Z"
   },
   {
    "duration": 7,
    "start_time": "2023-01-29T04:45:49.686Z"
   },
   {
    "duration": 100,
    "start_time": "2023-01-29T04:46:47.509Z"
   },
   {
    "duration": 137,
    "start_time": "2023-01-29T04:55:59.546Z"
   },
   {
    "duration": 146,
    "start_time": "2023-01-29T04:59:45.453Z"
   },
   {
    "duration": 141,
    "start_time": "2023-01-29T05:00:49.396Z"
   },
   {
    "duration": 137,
    "start_time": "2023-01-29T05:01:04.569Z"
   },
   {
    "duration": 136,
    "start_time": "2023-01-29T05:04:20.958Z"
   },
   {
    "duration": 3,
    "start_time": "2023-01-29T05:33:43.287Z"
   },
   {
    "duration": 60,
    "start_time": "2023-01-29T05:34:22.450Z"
   },
   {
    "duration": 137,
    "start_time": "2023-01-29T05:36:40.857Z"
   },
   {
    "duration": 883,
    "start_time": "2023-01-29T05:39:40.988Z"
   },
   {
    "duration": 743,
    "start_time": "2023-01-29T05:41:56.741Z"
   },
   {
    "duration": 772,
    "start_time": "2023-01-29T05:43:00.411Z"
   },
   {
    "duration": 903,
    "start_time": "2023-01-29T05:46:47.814Z"
   },
   {
    "duration": 788,
    "start_time": "2023-01-29T05:47:01.761Z"
   },
   {
    "duration": 1006,
    "start_time": "2023-01-29T06:16:48.849Z"
   },
   {
    "duration": 1169,
    "start_time": "2023-01-29T06:20:26.370Z"
   },
   {
    "duration": 1164,
    "start_time": "2023-01-30T01:11:55.008Z"
   },
   {
    "duration": 224,
    "start_time": "2023-01-30T01:11:56.174Z"
   },
   {
    "duration": 21,
    "start_time": "2023-01-30T01:11:56.399Z"
   },
   {
    "duration": 27,
    "start_time": "2023-01-30T01:11:56.423Z"
   },
   {
    "duration": 2,
    "start_time": "2023-01-30T01:11:56.452Z"
   },
   {
    "duration": 5,
    "start_time": "2023-01-30T01:11:56.456Z"
   },
   {
    "duration": 40,
    "start_time": "2023-01-30T01:11:56.462Z"
   },
   {
    "duration": 5,
    "start_time": "2023-01-30T01:11:56.504Z"
   },
   {
    "duration": 12,
    "start_time": "2023-01-30T01:11:56.511Z"
   },
   {
    "duration": 13,
    "start_time": "2023-01-30T01:11:56.525Z"
   },
   {
    "duration": 17,
    "start_time": "2023-01-30T01:11:56.539Z"
   },
   {
    "duration": 6,
    "start_time": "2023-01-30T01:11:56.558Z"
   },
   {
    "duration": 36,
    "start_time": "2023-01-30T01:11:56.565Z"
   },
   {
    "duration": 8,
    "start_time": "2023-01-30T01:11:56.603Z"
   },
   {
    "duration": 18,
    "start_time": "2023-01-30T01:11:56.612Z"
   },
   {
    "duration": 4,
    "start_time": "2023-01-30T01:11:56.632Z"
   },
   {
    "duration": 19,
    "start_time": "2023-01-30T01:11:56.637Z"
   },
   {
    "duration": 4,
    "start_time": "2023-01-30T01:11:56.658Z"
   },
   {
    "duration": 40,
    "start_time": "2023-01-30T01:11:56.663Z"
   },
   {
    "duration": 17,
    "start_time": "2023-01-30T01:11:56.704Z"
   },
   {
    "duration": 4,
    "start_time": "2023-01-30T01:11:56.722Z"
   },
   {
    "duration": 20,
    "start_time": "2023-01-30T01:11:56.727Z"
   },
   {
    "duration": 3,
    "start_time": "2023-01-30T01:11:56.748Z"
   },
   {
    "duration": 6,
    "start_time": "2023-01-30T01:11:56.753Z"
   },
   {
    "duration": 32,
    "start_time": "2023-01-30T01:11:56.760Z"
   },
   {
    "duration": 19,
    "start_time": "2023-01-30T01:11:56.794Z"
   },
   {
    "duration": 6,
    "start_time": "2023-01-30T01:11:56.815Z"
   },
   {
    "duration": 3,
    "start_time": "2023-01-30T01:11:56.824Z"
   },
   {
    "duration": 19,
    "start_time": "2023-01-30T01:11:56.828Z"
   },
   {
    "duration": 2,
    "start_time": "2023-01-30T01:11:56.848Z"
   },
   {
    "duration": 44,
    "start_time": "2023-01-30T01:11:56.852Z"
   },
   {
    "duration": 5,
    "start_time": "2023-01-30T01:11:56.897Z"
   },
   {
    "duration": 6,
    "start_time": "2023-01-30T01:11:56.904Z"
   },
   {
    "duration": 20,
    "start_time": "2023-01-30T01:11:56.911Z"
   },
   {
    "duration": 6,
    "start_time": "2023-01-30T01:11:56.932Z"
   },
   {
    "duration": 6,
    "start_time": "2023-01-30T01:11:56.939Z"
   },
   {
    "duration": 47,
    "start_time": "2023-01-30T01:11:56.947Z"
   },
   {
    "duration": 155,
    "start_time": "2023-01-30T01:11:56.995Z"
   },
   {
    "duration": 15,
    "start_time": "2023-01-30T01:11:57.151Z"
   },
   {
    "duration": 283,
    "start_time": "2023-01-30T01:11:57.167Z"
   },
   {
    "duration": 4,
    "start_time": "2023-01-30T01:11:57.452Z"
   },
   {
    "duration": 1016,
    "start_time": "2023-01-30T01:11:57.457Z"
   },
   {
    "duration": 812,
    "start_time": "2023-01-30T01:33:28.500Z"
   },
   {
    "duration": 13,
    "start_time": "2023-01-30T01:33:50.758Z"
   },
   {
    "duration": 13,
    "start_time": "2023-01-30T01:34:15.865Z"
   },
   {
    "duration": 17,
    "start_time": "2023-01-30T02:32:38.122Z"
   },
   {
    "duration": 25,
    "start_time": "2023-01-30T02:47:50.156Z"
   },
   {
    "duration": 17,
    "start_time": "2023-01-30T02:48:44.062Z"
   },
   {
    "duration": 13,
    "start_time": "2023-01-30T02:52:46.959Z"
   },
   {
    "duration": 16,
    "start_time": "2023-01-30T02:53:07.053Z"
   },
   {
    "duration": 14,
    "start_time": "2023-01-30T02:53:58.615Z"
   },
   {
    "duration": 14,
    "start_time": "2023-01-30T02:58:33.096Z"
   },
   {
    "duration": 701,
    "start_time": "2023-01-30T03:02:46.639Z"
   },
   {
    "duration": 15,
    "start_time": "2023-01-30T03:03:29.959Z"
   },
   {
    "duration": 17,
    "start_time": "2023-01-30T03:03:46.650Z"
   },
   {
    "duration": 753,
    "start_time": "2023-01-30T03:03:57.326Z"
   },
   {
    "duration": 18,
    "start_time": "2023-01-30T03:04:15.535Z"
   },
   {
    "duration": 24,
    "start_time": "2023-01-30T03:06:50.951Z"
   },
   {
    "duration": 19,
    "start_time": "2023-01-30T03:07:15.436Z"
   },
   {
    "duration": 13,
    "start_time": "2023-01-30T03:09:04.584Z"
   },
   {
    "duration": 17,
    "start_time": "2023-01-30T03:09:14.903Z"
   },
   {
    "duration": 22,
    "start_time": "2023-01-30T03:18:56.757Z"
   },
   {
    "duration": 27,
    "start_time": "2023-01-30T03:19:37.990Z"
   },
   {
    "duration": 1083,
    "start_time": "2023-01-30T03:19:43.260Z"
   },
   {
    "duration": 28,
    "start_time": "2023-01-30T03:21:24.861Z"
   },
   {
    "duration": 19,
    "start_time": "2023-01-30T03:22:24.347Z"
   },
   {
    "duration": 17,
    "start_time": "2023-01-30T03:22:41.808Z"
   },
   {
    "duration": 934,
    "start_time": "2023-01-30T03:22:55.953Z"
   },
   {
    "duration": 800,
    "start_time": "2023-01-30T03:25:29.424Z"
   },
   {
    "duration": 101,
    "start_time": "2023-01-30T03:54:20.594Z"
   },
   {
    "duration": 152,
    "start_time": "2023-01-30T04:04:49.883Z"
   },
   {
    "duration": 48,
    "start_time": "2023-01-30T04:08:42.014Z"
   },
   {
    "duration": 165,
    "start_time": "2023-01-30T04:09:01.398Z"
   },
   {
    "duration": 305,
    "start_time": "2023-01-30T04:09:58.315Z"
   },
   {
    "duration": 213,
    "start_time": "2023-01-30T04:28:58.207Z"
   },
   {
    "duration": 4,
    "start_time": "2023-01-30T04:29:26.685Z"
   },
   {
    "duration": 173,
    "start_time": "2023-01-30T04:32:42.876Z"
   },
   {
    "duration": 14,
    "start_time": "2023-01-30T04:36:45.472Z"
   },
   {
    "duration": 21,
    "start_time": "2023-01-30T04:38:20.403Z"
   },
   {
    "duration": 19,
    "start_time": "2023-01-30T04:39:34.329Z"
   },
   {
    "duration": 13,
    "start_time": "2023-01-30T04:42:32.804Z"
   },
   {
    "duration": 15,
    "start_time": "2023-01-30T04:43:04.145Z"
   },
   {
    "duration": 20,
    "start_time": "2023-01-30T04:44:06.714Z"
   },
   {
    "duration": 6,
    "start_time": "2023-01-30T04:46:09.705Z"
   },
   {
    "duration": 7,
    "start_time": "2023-01-30T04:46:17.315Z"
   },
   {
    "duration": 13,
    "start_time": "2023-01-30T04:50:06.708Z"
   },
   {
    "duration": 16,
    "start_time": "2023-01-30T04:51:55.956Z"
   },
   {
    "duration": 22,
    "start_time": "2023-01-30T04:55:02.742Z"
   },
   {
    "duration": 50,
    "start_time": "2023-01-30T04:57:43.125Z"
   },
   {
    "duration": 721,
    "start_time": "2023-01-30T04:57:59.731Z"
   },
   {
    "duration": 302,
    "start_time": "2023-01-30T04:58:56.126Z"
   },
   {
    "duration": 26,
    "start_time": "2023-01-30T04:59:43.430Z"
   },
   {
    "duration": 18,
    "start_time": "2023-01-30T04:59:53.514Z"
   },
   {
    "duration": 32,
    "start_time": "2023-01-30T05:00:35.592Z"
   },
   {
    "duration": 10,
    "start_time": "2023-01-30T05:01:37.920Z"
   },
   {
    "duration": 732,
    "start_time": "2023-01-30T05:02:33.100Z"
   },
   {
    "duration": 789,
    "start_time": "2023-01-30T05:02:53.350Z"
   },
   {
    "duration": 728,
    "start_time": "2023-01-30T05:05:59.836Z"
   },
   {
    "duration": 777,
    "start_time": "2023-01-30T05:06:36.462Z"
   },
   {
    "duration": 855,
    "start_time": "2023-01-30T05:09:30.923Z"
   },
   {
    "duration": 18,
    "start_time": "2023-01-30T05:10:08.286Z"
   },
   {
    "duration": 13,
    "start_time": "2023-01-30T05:10:59.319Z"
   },
   {
    "duration": 7,
    "start_time": "2023-01-30T05:11:56.663Z"
   },
   {
    "duration": 21,
    "start_time": "2023-01-30T05:12:24.127Z"
   },
   {
    "duration": 31,
    "start_time": "2023-01-30T05:13:45.691Z"
   },
   {
    "duration": 21,
    "start_time": "2023-01-30T05:15:02.234Z"
   },
   {
    "duration": 7,
    "start_time": "2023-01-30T05:16:21.808Z"
   },
   {
    "duration": 4,
    "start_time": "2023-01-30T05:16:32.666Z"
   },
   {
    "duration": 13,
    "start_time": "2023-01-30T05:17:26.772Z"
   },
   {
    "duration": 6,
    "start_time": "2023-01-30T05:18:05.603Z"
   },
   {
    "duration": 5,
    "start_time": "2023-01-30T05:18:18.777Z"
   },
   {
    "duration": 708,
    "start_time": "2023-01-30T05:18:37.885Z"
   },
   {
    "duration": 158,
    "start_time": "2023-01-30T05:20:04.932Z"
   },
   {
    "duration": 151,
    "start_time": "2023-01-30T05:20:59.624Z"
   },
   {
    "duration": 3,
    "start_time": "2023-01-30T05:25:28.424Z"
   },
   {
    "duration": 194,
    "start_time": "2023-01-30T05:25:49.159Z"
   },
   {
    "duration": 166,
    "start_time": "2023-01-30T05:26:34.858Z"
   },
   {
    "duration": 22,
    "start_time": "2023-01-30T05:27:02.010Z"
   },
   {
    "duration": 19,
    "start_time": "2023-01-30T05:27:16.329Z"
   },
   {
    "duration": 101,
    "start_time": "2023-01-30T05:29:10.675Z"
   },
   {
    "duration": 14,
    "start_time": "2023-01-30T05:30:24.692Z"
   },
   {
    "duration": 262,
    "start_time": "2023-01-30T05:30:50.432Z"
   },
   {
    "duration": 215,
    "start_time": "2023-01-30T05:31:54.135Z"
   },
   {
    "duration": 23,
    "start_time": "2023-01-30T05:33:23.111Z"
   },
   {
    "duration": 190,
    "start_time": "2023-01-30T05:35:00.058Z"
   },
   {
    "duration": 202,
    "start_time": "2023-01-30T05:36:47.640Z"
   },
   {
    "duration": 27,
    "start_time": "2023-01-30T05:42:55.893Z"
   },
   {
    "duration": 25,
    "start_time": "2023-01-30T05:43:13.750Z"
   },
   {
    "duration": 19,
    "start_time": "2023-01-30T05:51:38.744Z"
   },
   {
    "duration": 22,
    "start_time": "2023-01-30T05:53:38.770Z"
   },
   {
    "duration": 21,
    "start_time": "2023-01-30T05:54:07.243Z"
   },
   {
    "duration": 33142,
    "start_time": "2023-01-30T05:55:55.532Z"
   },
   {
    "duration": 18,
    "start_time": "2023-01-30T06:11:29.857Z"
   },
   {
    "duration": 20,
    "start_time": "2023-01-30T06:13:50.742Z"
   },
   {
    "duration": 12,
    "start_time": "2023-01-30T06:16:13.675Z"
   },
   {
    "duration": 5,
    "start_time": "2023-01-30T06:16:27.293Z"
   },
   {
    "duration": 9,
    "start_time": "2023-01-30T06:16:33.760Z"
   },
   {
    "duration": 10,
    "start_time": "2023-01-30T06:16:45.955Z"
   },
   {
    "duration": 23,
    "start_time": "2023-01-30T06:16:58.064Z"
   },
   {
    "duration": 11,
    "start_time": "2023-01-30T06:17:11.259Z"
   },
   {
    "duration": 4,
    "start_time": "2023-01-30T06:17:18.429Z"
   },
   {
    "duration": 21,
    "start_time": "2023-01-30T06:17:24.373Z"
   },
   {
    "duration": 23,
    "start_time": "2023-01-30T06:17:56.794Z"
   },
   {
    "duration": 147,
    "start_time": "2023-01-30T06:18:15.704Z"
   },
   {
    "duration": 7,
    "start_time": "2023-01-30T06:22:31.134Z"
   },
   {
    "duration": 170,
    "start_time": "2023-01-30T06:33:59.147Z"
   },
   {
    "duration": 153,
    "start_time": "2023-01-30T06:39:06.925Z"
   },
   {
    "duration": 8,
    "start_time": "2023-01-30T06:41:35.829Z"
   },
   {
    "duration": 177,
    "start_time": "2023-01-30T06:41:50.214Z"
   },
   {
    "duration": 231,
    "start_time": "2023-01-30T06:43:03.792Z"
   },
   {
    "duration": 6,
    "start_time": "2023-01-30T06:43:34.924Z"
   },
   {
    "duration": 13,
    "start_time": "2023-01-30T06:44:32.768Z"
   },
   {
    "duration": 6,
    "start_time": "2023-01-30T06:45:15.953Z"
   },
   {
    "duration": 4,
    "start_time": "2023-01-30T06:45:18.797Z"
   },
   {
    "duration": 14,
    "start_time": "2023-01-30T06:45:25.569Z"
   },
   {
    "duration": 8,
    "start_time": "2023-01-30T06:45:38.922Z"
   },
   {
    "duration": 175,
    "start_time": "2023-01-30T06:55:50.193Z"
   },
   {
    "duration": 9,
    "start_time": "2023-01-30T07:00:11.949Z"
   },
   {
    "duration": 3,
    "start_time": "2023-01-30T07:28:30.950Z"
   },
   {
    "duration": 87,
    "start_time": "2023-01-30T07:28:30.955Z"
   },
   {
    "duration": 15,
    "start_time": "2023-01-30T07:28:31.045Z"
   },
   {
    "duration": 55,
    "start_time": "2023-01-30T07:28:31.062Z"
   },
   {
    "duration": 2,
    "start_time": "2023-01-30T07:28:31.119Z"
   },
   {
    "duration": 25,
    "start_time": "2023-01-30T07:28:31.123Z"
   },
   {
    "duration": 45,
    "start_time": "2023-01-30T07:28:31.150Z"
   },
   {
    "duration": 20,
    "start_time": "2023-01-30T07:28:31.197Z"
   },
   {
    "duration": 59,
    "start_time": "2023-01-30T07:28:31.218Z"
   },
   {
    "duration": 54,
    "start_time": "2023-01-30T07:28:31.279Z"
   },
   {
    "duration": 64,
    "start_time": "2023-01-30T07:28:31.336Z"
   },
   {
    "duration": 31,
    "start_time": "2023-01-30T07:28:31.402Z"
   },
   {
    "duration": 29,
    "start_time": "2023-01-30T07:28:31.434Z"
   },
   {
    "duration": 36,
    "start_time": "2023-01-30T07:28:31.465Z"
   },
   {
    "duration": 40,
    "start_time": "2023-01-30T07:28:31.503Z"
   },
   {
    "duration": 9,
    "start_time": "2023-01-30T07:28:31.545Z"
   },
   {
    "duration": 34,
    "start_time": "2023-01-30T07:28:31.556Z"
   },
   {
    "duration": 5,
    "start_time": "2023-01-30T07:28:31.591Z"
   },
   {
    "duration": 31,
    "start_time": "2023-01-30T07:28:31.597Z"
   },
   {
    "duration": 21,
    "start_time": "2023-01-30T07:28:31.629Z"
   },
   {
    "duration": 13,
    "start_time": "2023-01-30T07:28:31.652Z"
   },
   {
    "duration": 46,
    "start_time": "2023-01-30T07:28:31.667Z"
   },
   {
    "duration": 14,
    "start_time": "2023-01-30T07:28:31.714Z"
   },
   {
    "duration": 30,
    "start_time": "2023-01-30T07:28:31.729Z"
   },
   {
    "duration": 25,
    "start_time": "2023-01-30T07:28:31.761Z"
   },
   {
    "duration": 54,
    "start_time": "2023-01-30T07:28:31.787Z"
   },
   {
    "duration": 12,
    "start_time": "2023-01-30T07:28:31.843Z"
   },
   {
    "duration": 19,
    "start_time": "2023-01-30T07:28:31.857Z"
   },
   {
    "duration": 26,
    "start_time": "2023-01-30T07:28:31.880Z"
   },
   {
    "duration": 8,
    "start_time": "2023-01-30T07:28:31.909Z"
   },
   {
    "duration": 31,
    "start_time": "2023-01-30T07:28:31.919Z"
   },
   {
    "duration": 5,
    "start_time": "2023-01-30T07:28:31.952Z"
   },
   {
    "duration": 13,
    "start_time": "2023-01-30T07:28:31.959Z"
   },
   {
    "duration": 40,
    "start_time": "2023-01-30T07:28:31.974Z"
   },
   {
    "duration": 7,
    "start_time": "2023-01-30T07:28:32.016Z"
   },
   {
    "duration": 10,
    "start_time": "2023-01-30T07:28:32.024Z"
   },
   {
    "duration": 28,
    "start_time": "2023-01-30T07:28:32.036Z"
   },
   {
    "duration": 15,
    "start_time": "2023-01-30T07:28:32.066Z"
   },
   {
    "duration": 162,
    "start_time": "2023-01-30T07:28:32.083Z"
   },
   {
    "duration": 15,
    "start_time": "2023-01-30T07:28:32.247Z"
   },
   {
    "duration": 315,
    "start_time": "2023-01-30T07:28:32.264Z"
   },
   {
    "duration": 12,
    "start_time": "2023-01-30T07:28:32.581Z"
   },
   {
    "duration": 1105,
    "start_time": "2023-01-30T07:28:32.594Z"
   },
   {
    "duration": 15,
    "start_time": "2023-01-30T07:28:33.701Z"
   },
   {
    "duration": 14,
    "start_time": "2023-01-30T07:28:33.717Z"
   },
   {
    "duration": 21,
    "start_time": "2023-01-30T07:28:33.732Z"
   },
   {
    "duration": 6,
    "start_time": "2023-01-30T07:28:33.754Z"
   },
   {
    "duration": 1864,
    "start_time": "2023-01-30T07:28:33.761Z"
   },
   {
    "duration": 232,
    "start_time": "2023-01-30T07:28:35.627Z"
   },
   {
    "duration": 37,
    "start_time": "2023-01-30T07:28:35.861Z"
   },
   {
    "duration": 7,
    "start_time": "2023-01-30T07:28:35.900Z"
   },
   {
    "duration": 200,
    "start_time": "2023-01-30T07:28:35.908Z"
   },
   {
    "duration": 7,
    "start_time": "2023-01-30T07:28:36.109Z"
   },
   {
    "duration": 188,
    "start_time": "2023-01-30T07:28:36.118Z"
   },
   {
    "duration": 9,
    "start_time": "2023-01-30T07:28:36.309Z"
   },
   {
    "duration": 44,
    "start_time": "2023-01-30T07:38:26.204Z"
   },
   {
    "duration": 50,
    "start_time": "2023-01-30T07:42:27.438Z"
   },
   {
    "duration": 59,
    "start_time": "2023-01-30T07:42:31.110Z"
   },
   {
    "duration": 87,
    "start_time": "2023-01-30T07:43:11.351Z"
   },
   {
    "duration": 49,
    "start_time": "2023-01-30T07:44:06.579Z"
   },
   {
    "duration": 57,
    "start_time": "2023-01-30T07:44:33.448Z"
   },
   {
    "duration": 58,
    "start_time": "2023-01-30T07:45:20.781Z"
   },
   {
    "duration": 485,
    "start_time": "2023-01-30T07:46:31.458Z"
   },
   {
    "duration": 518,
    "start_time": "2023-01-30T07:47:54.523Z"
   },
   {
    "duration": 537,
    "start_time": "2023-01-30T07:48:08.776Z"
   },
   {
    "duration": 520,
    "start_time": "2023-01-30T08:07:36.673Z"
   },
   {
    "duration": 45,
    "start_time": "2023-01-30T08:07:48.805Z"
   },
   {
    "duration": 515,
    "start_time": "2023-01-30T08:10:13.140Z"
   },
   {
    "duration": 507,
    "start_time": "2023-01-30T08:10:37.809Z"
   },
   {
    "duration": 521,
    "start_time": "2023-01-30T08:10:59.216Z"
   },
   {
    "duration": 544,
    "start_time": "2023-01-30T08:19:25.600Z"
   },
   {
    "duration": 16,
    "start_time": "2023-01-30T08:27:27.704Z"
   },
   {
    "duration": 24,
    "start_time": "2023-01-30T08:28:26.144Z"
   },
   {
    "duration": 15,
    "start_time": "2023-01-30T08:28:35.030Z"
   },
   {
    "duration": 25,
    "start_time": "2023-01-30T08:30:36.446Z"
   },
   {
    "duration": 19,
    "start_time": "2023-01-30T08:32:51.892Z"
   },
   {
    "duration": 15,
    "start_time": "2023-01-30T08:33:57.341Z"
   },
   {
    "duration": 9,
    "start_time": "2023-01-30T08:40:21.112Z"
   },
   {
    "duration": 16,
    "start_time": "2023-01-30T08:41:25.078Z"
   },
   {
    "duration": 19,
    "start_time": "2023-01-30T08:41:29.477Z"
   },
   {
    "duration": 15,
    "start_time": "2023-01-30T08:41:32.657Z"
   },
   {
    "duration": 18,
    "start_time": "2023-01-30T08:49:46.588Z"
   },
   {
    "duration": 8,
    "start_time": "2023-01-30T08:50:26.430Z"
   },
   {
    "duration": 9,
    "start_time": "2023-01-30T08:50:41.561Z"
   },
   {
    "duration": 10,
    "start_time": "2023-01-30T08:51:39.828Z"
   },
   {
    "duration": 9,
    "start_time": "2023-01-30T08:53:10.417Z"
   },
   {
    "duration": 8,
    "start_time": "2023-01-30T08:53:31.703Z"
   },
   {
    "duration": 7,
    "start_time": "2023-01-30T09:04:55.142Z"
   },
   {
    "duration": 7,
    "start_time": "2023-01-30T09:05:22.848Z"
   },
   {
    "duration": 7,
    "start_time": "2023-01-30T09:06:18.345Z"
   },
   {
    "duration": 11,
    "start_time": "2023-01-30T09:07:52.144Z"
   },
   {
    "duration": 7,
    "start_time": "2023-01-30T09:07:58.646Z"
   },
   {
    "duration": 162,
    "start_time": "2023-01-30T09:08:01.181Z"
   },
   {
    "duration": 182,
    "start_time": "2023-01-30T09:08:12.154Z"
   },
   {
    "duration": 30,
    "start_time": "2023-01-30T09:09:57.596Z"
   },
   {
    "duration": 57,
    "start_time": "2023-01-30T09:11:01.594Z"
   },
   {
    "duration": 7,
    "start_time": "2023-01-30T09:11:12.186Z"
   },
   {
    "duration": 16,
    "start_time": "2023-01-30T09:15:21.730Z"
   },
   {
    "duration": 164,
    "start_time": "2023-01-30T09:22:25.669Z"
   },
   {
    "duration": 8,
    "start_time": "2023-01-30T09:23:49.838Z"
   },
   {
    "duration": 8,
    "start_time": "2023-01-30T09:24:44.935Z"
   },
   {
    "duration": 6,
    "start_time": "2023-01-30T09:26:12.427Z"
   },
   {
    "duration": 185,
    "start_time": "2023-01-30T09:27:00.499Z"
   },
   {
    "duration": 173,
    "start_time": "2023-01-30T09:27:15.709Z"
   },
   {
    "duration": 176,
    "start_time": "2023-01-30T09:27:39.683Z"
   },
   {
    "duration": 110,
    "start_time": "2023-01-30T09:34:51.882Z"
   },
   {
    "duration": 21,
    "start_time": "2023-01-30T09:37:02.722Z"
   },
   {
    "duration": 122,
    "start_time": "2023-01-30T09:38:52.560Z"
   },
   {
    "duration": 147,
    "start_time": "2023-01-30T09:39:45.874Z"
   },
   {
    "duration": 134,
    "start_time": "2023-01-30T09:39:58.967Z"
   },
   {
    "duration": 125,
    "start_time": "2023-01-30T09:40:52.921Z"
   },
   {
    "duration": 132,
    "start_time": "2023-01-30T09:41:16.594Z"
   },
   {
    "duration": 127,
    "start_time": "2023-01-30T09:41:23.726Z"
   },
   {
    "duration": 49,
    "start_time": "2023-01-30T09:42:47.254Z"
   },
   {
    "duration": 48,
    "start_time": "2023-01-30T09:43:12.446Z"
   },
   {
    "duration": 196,
    "start_time": "2023-01-30T09:43:25.233Z"
   },
   {
    "duration": 122,
    "start_time": "2023-01-30T09:43:41.450Z"
   },
   {
    "duration": 134,
    "start_time": "2023-01-30T09:43:45.841Z"
   },
   {
    "duration": 131,
    "start_time": "2023-01-30T09:44:41.163Z"
   },
   {
    "duration": 130,
    "start_time": "2023-01-30T09:46:55.012Z"
   },
   {
    "duration": 130,
    "start_time": "2023-01-30T09:47:15.460Z"
   },
   {
    "duration": 127,
    "start_time": "2023-01-30T09:50:40.584Z"
   },
   {
    "duration": 130,
    "start_time": "2023-01-30T09:50:45.193Z"
   },
   {
    "duration": 130,
    "start_time": "2023-01-30T09:50:48.601Z"
   },
   {
    "duration": 312,
    "start_time": "2023-01-30T09:51:46.384Z"
   },
   {
    "duration": 304,
    "start_time": "2023-01-30T09:53:00.928Z"
   },
   {
    "duration": 314,
    "start_time": "2023-01-30T09:54:40.379Z"
   },
   {
    "duration": 315,
    "start_time": "2023-01-30T09:55:07.353Z"
   },
   {
    "duration": 309,
    "start_time": "2023-01-30T09:55:11.182Z"
   },
   {
    "duration": 296,
    "start_time": "2023-01-30T09:55:31.175Z"
   },
   {
    "duration": 9,
    "start_time": "2023-01-30T11:10:34.671Z"
   },
   {
    "duration": 49,
    "start_time": "2023-01-30T11:11:19.696Z"
   },
   {
    "duration": 9,
    "start_time": "2023-01-30T11:11:57.123Z"
   },
   {
    "duration": 11,
    "start_time": "2023-01-30T11:12:41.420Z"
   },
   {
    "duration": 12,
    "start_time": "2023-01-30T11:12:56.302Z"
   },
   {
    "duration": 5,
    "start_time": "2023-01-30T11:14:26.739Z"
   },
   {
    "duration": 8,
    "start_time": "2023-01-30T11:14:37.128Z"
   },
   {
    "duration": 289,
    "start_time": "2023-01-30T11:17:23.199Z"
   },
   {
    "duration": 312,
    "start_time": "2023-01-30T11:20:47.542Z"
   },
   {
    "duration": 291,
    "start_time": "2023-01-30T11:22:49.020Z"
   },
   {
    "duration": 349,
    "start_time": "2023-01-30T11:23:07.091Z"
   },
   {
    "duration": 141,
    "start_time": "2023-01-30T11:32:29.835Z"
   },
   {
    "duration": 381,
    "start_time": "2023-01-30T11:32:37.972Z"
   },
   {
    "duration": 306,
    "start_time": "2023-01-30T11:33:29.649Z"
   },
   {
    "duration": 377,
    "start_time": "2023-01-30T11:33:45.071Z"
   },
   {
    "duration": 367,
    "start_time": "2023-01-30T11:33:59.357Z"
   },
   {
    "duration": 262,
    "start_time": "2023-01-30T11:44:50.076Z"
   },
   {
    "duration": 258,
    "start_time": "2023-01-30T11:45:31.543Z"
   },
   {
    "duration": 248,
    "start_time": "2023-01-30T11:47:42.720Z"
   },
   {
    "duration": 246,
    "start_time": "2023-01-30T11:51:17.797Z"
   },
   {
    "duration": 8,
    "start_time": "2023-01-30T12:15:22.699Z"
   },
   {
    "duration": 5,
    "start_time": "2023-01-30T12:15:30.035Z"
   },
   {
    "duration": 7,
    "start_time": "2023-01-30T12:16:04.923Z"
   },
   {
    "duration": 11,
    "start_time": "2023-01-30T12:17:01.016Z"
   },
   {
    "duration": 3,
    "start_time": "2023-01-30T12:18:06.577Z"
   },
   {
    "duration": 4,
    "start_time": "2023-01-30T12:18:12.944Z"
   },
   {
    "duration": 8,
    "start_time": "2023-01-30T12:20:55.549Z"
   },
   {
    "duration": 7,
    "start_time": "2023-01-30T12:20:59.027Z"
   },
   {
    "duration": 9,
    "start_time": "2023-01-30T12:21:04.397Z"
   },
   {
    "duration": 6,
    "start_time": "2023-01-30T12:21:06.823Z"
   },
   {
    "duration": 5,
    "start_time": "2023-01-30T12:22:30.123Z"
   },
   {
    "duration": 4,
    "start_time": "2023-01-30T12:24:22.185Z"
   },
   {
    "duration": 5,
    "start_time": "2023-01-30T12:25:10.888Z"
   },
   {
    "duration": 4,
    "start_time": "2023-01-30T12:25:22.254Z"
   },
   {
    "duration": 5,
    "start_time": "2023-01-30T12:25:32.405Z"
   },
   {
    "duration": 8,
    "start_time": "2023-01-30T12:30:11.130Z"
   },
   {
    "duration": 8,
    "start_time": "2023-01-30T12:30:16.374Z"
   },
   {
    "duration": 4,
    "start_time": "2023-01-30T12:31:11.063Z"
   },
   {
    "duration": 7,
    "start_time": "2023-01-30T12:31:47.477Z"
   },
   {
    "duration": 7,
    "start_time": "2023-01-30T12:32:31.863Z"
   },
   {
    "duration": 5,
    "start_time": "2023-01-30T12:32:54.542Z"
   },
   {
    "duration": 5,
    "start_time": "2023-01-30T12:33:07.008Z"
   },
   {
    "duration": 5,
    "start_time": "2023-01-30T12:33:13.026Z"
   },
   {
    "duration": 4,
    "start_time": "2023-01-30T12:33:17.837Z"
   },
   {
    "duration": 4,
    "start_time": "2023-01-30T12:33:54.653Z"
   },
   {
    "duration": 1364,
    "start_time": "2023-01-31T04:38:32.219Z"
   },
   {
    "duration": 110,
    "start_time": "2023-01-31T04:38:33.585Z"
   },
   {
    "duration": 18,
    "start_time": "2023-01-31T04:38:33.697Z"
   },
   {
    "duration": 41,
    "start_time": "2023-01-31T04:38:33.717Z"
   },
   {
    "duration": 2,
    "start_time": "2023-01-31T04:38:33.760Z"
   },
   {
    "duration": 26,
    "start_time": "2023-01-31T04:38:33.764Z"
   },
   {
    "duration": 71,
    "start_time": "2023-01-31T04:38:33.791Z"
   },
   {
    "duration": 28,
    "start_time": "2023-01-31T04:38:33.863Z"
   },
   {
    "duration": 57,
    "start_time": "2023-01-31T04:38:33.893Z"
   },
   {
    "duration": 33,
    "start_time": "2023-01-31T04:38:33.954Z"
   },
   {
    "duration": 47,
    "start_time": "2023-01-31T04:38:33.989Z"
   },
   {
    "duration": 16,
    "start_time": "2023-01-31T04:38:34.038Z"
   },
   {
    "duration": 29,
    "start_time": "2023-01-31T04:38:34.056Z"
   },
   {
    "duration": 27,
    "start_time": "2023-01-31T04:38:34.087Z"
   },
   {
    "duration": 42,
    "start_time": "2023-01-31T04:38:34.116Z"
   },
   {
    "duration": 16,
    "start_time": "2023-01-31T04:38:34.160Z"
   },
   {
    "duration": 45,
    "start_time": "2023-01-31T04:38:34.177Z"
   },
   {
    "duration": 7,
    "start_time": "2023-01-31T04:38:34.223Z"
   },
   {
    "duration": 34,
    "start_time": "2023-01-31T04:38:34.232Z"
   },
   {
    "duration": 21,
    "start_time": "2023-01-31T04:38:34.268Z"
   },
   {
    "duration": 22,
    "start_time": "2023-01-31T04:38:34.290Z"
   },
   {
    "duration": 37,
    "start_time": "2023-01-31T04:38:34.314Z"
   },
   {
    "duration": 5,
    "start_time": "2023-01-31T04:38:34.353Z"
   },
   {
    "duration": 29,
    "start_time": "2023-01-31T04:38:34.360Z"
   },
   {
    "duration": 15,
    "start_time": "2023-01-31T04:38:34.390Z"
   },
   {
    "duration": 47,
    "start_time": "2023-01-31T04:38:34.407Z"
   },
   {
    "duration": 8,
    "start_time": "2023-01-31T04:38:34.456Z"
   },
   {
    "duration": 11,
    "start_time": "2023-01-31T04:38:34.468Z"
   },
   {
    "duration": 24,
    "start_time": "2023-01-31T04:38:34.480Z"
   },
   {
    "duration": 2,
    "start_time": "2023-01-31T04:38:34.505Z"
   },
   {
    "duration": 39,
    "start_time": "2023-01-31T04:38:34.509Z"
   },
   {
    "duration": 4,
    "start_time": "2023-01-31T04:38:34.550Z"
   },
   {
    "duration": 20,
    "start_time": "2023-01-31T04:38:34.556Z"
   },
   {
    "duration": 24,
    "start_time": "2023-01-31T04:38:34.578Z"
   },
   {
    "duration": 7,
    "start_time": "2023-01-31T04:38:34.603Z"
   },
   {
    "duration": 19,
    "start_time": "2023-01-31T04:38:34.612Z"
   },
   {
    "duration": 36,
    "start_time": "2023-01-31T04:38:34.633Z"
   },
   {
    "duration": 12,
    "start_time": "2023-01-31T04:38:34.670Z"
   },
   {
    "duration": 187,
    "start_time": "2023-01-31T04:38:34.683Z"
   },
   {
    "duration": 17,
    "start_time": "2023-01-31T04:38:34.873Z"
   },
   {
    "duration": 316,
    "start_time": "2023-01-31T04:38:34.892Z"
   },
   {
    "duration": 4,
    "start_time": "2023-01-31T04:38:35.210Z"
   },
   {
    "duration": 1121,
    "start_time": "2023-01-31T04:38:35.227Z"
   },
   {
    "duration": 17,
    "start_time": "2023-01-31T04:38:36.349Z"
   },
   {
    "duration": 62,
    "start_time": "2023-01-31T04:38:36.368Z"
   },
   {
    "duration": 22,
    "start_time": "2023-01-31T04:38:36.432Z"
   },
   {
    "duration": 16,
    "start_time": "2023-01-31T04:38:36.455Z"
   },
   {
    "duration": 792,
    "start_time": "2023-01-31T04:38:36.472Z"
   },
   {
    "duration": 237,
    "start_time": "2023-01-31T04:38:37.266Z"
   },
   {
    "duration": 30,
    "start_time": "2023-01-31T04:38:37.504Z"
   },
   {
    "duration": 6,
    "start_time": "2023-01-31T04:38:37.536Z"
   },
   {
    "duration": 193,
    "start_time": "2023-01-31T04:38:37.544Z"
   },
   {
    "duration": 7,
    "start_time": "2023-01-31T04:38:37.739Z"
   },
   {
    "duration": 197,
    "start_time": "2023-01-31T04:38:37.747Z"
   },
   {
    "duration": 7,
    "start_time": "2023-01-31T04:38:37.945Z"
   },
   {
    "duration": 538,
    "start_time": "2023-01-31T04:38:37.953Z"
   },
   {
    "duration": 527,
    "start_time": "2023-01-31T04:38:38.492Z"
   },
   {
    "duration": 21,
    "start_time": "2023-01-31T04:38:39.020Z"
   },
   {
    "duration": 51,
    "start_time": "2023-01-31T04:38:39.043Z"
   },
   {
    "duration": 22,
    "start_time": "2023-01-31T04:38:39.095Z"
   },
   {
    "duration": 91,
    "start_time": "2023-01-31T04:38:39.119Z"
   },
   {
    "duration": 0,
    "start_time": "2023-01-31T04:38:39.211Z"
   },
   {
    "duration": 0,
    "start_time": "2023-01-31T04:38:39.212Z"
   },
   {
    "duration": 0,
    "start_time": "2023-01-31T04:38:39.213Z"
   },
   {
    "duration": 0,
    "start_time": "2023-01-31T04:38:39.215Z"
   },
   {
    "duration": 0,
    "start_time": "2023-01-31T04:38:39.216Z"
   },
   {
    "duration": 0,
    "start_time": "2023-01-31T04:38:39.217Z"
   },
   {
    "duration": 0,
    "start_time": "2023-01-31T04:38:39.218Z"
   },
   {
    "duration": 0,
    "start_time": "2023-01-31T04:38:39.219Z"
   },
   {
    "duration": 0,
    "start_time": "2023-01-31T04:38:39.220Z"
   },
   {
    "duration": 0,
    "start_time": "2023-01-31T04:38:39.221Z"
   },
   {
    "duration": 0,
    "start_time": "2023-01-31T04:38:39.222Z"
   },
   {
    "duration": 0,
    "start_time": "2023-01-31T04:38:39.223Z"
   },
   {
    "duration": 0,
    "start_time": "2023-01-31T04:38:39.224Z"
   },
   {
    "duration": 0,
    "start_time": "2023-01-31T04:38:39.225Z"
   },
   {
    "duration": 0,
    "start_time": "2023-01-31T04:38:39.225Z"
   },
   {
    "duration": 0,
    "start_time": "2023-01-31T04:38:39.226Z"
   },
   {
    "duration": 0,
    "start_time": "2023-01-31T04:38:39.227Z"
   },
   {
    "duration": 1088,
    "start_time": "2023-01-31T04:39:28.344Z"
   },
   {
    "duration": 57,
    "start_time": "2023-01-31T04:39:29.434Z"
   },
   {
    "duration": 17,
    "start_time": "2023-01-31T04:39:29.493Z"
   },
   {
    "duration": 27,
    "start_time": "2023-01-31T04:39:29.513Z"
   },
   {
    "duration": 2,
    "start_time": "2023-01-31T04:39:29.542Z"
   },
   {
    "duration": 8,
    "start_time": "2023-01-31T04:39:29.545Z"
   },
   {
    "duration": 15,
    "start_time": "2023-01-31T04:39:29.554Z"
   },
   {
    "duration": 7,
    "start_time": "2023-01-31T04:39:29.571Z"
   },
   {
    "duration": 17,
    "start_time": "2023-01-31T04:39:29.580Z"
   },
   {
    "duration": 28,
    "start_time": "2023-01-31T04:39:29.600Z"
   },
   {
    "duration": 21,
    "start_time": "2023-01-31T04:39:29.629Z"
   },
   {
    "duration": 5,
    "start_time": "2023-01-31T04:39:29.652Z"
   },
   {
    "duration": 15,
    "start_time": "2023-01-31T04:39:29.659Z"
   },
   {
    "duration": 7,
    "start_time": "2023-01-31T04:39:29.676Z"
   },
   {
    "duration": 43,
    "start_time": "2023-01-31T04:39:29.685Z"
   },
   {
    "duration": 5,
    "start_time": "2023-01-31T04:39:29.730Z"
   },
   {
    "duration": 35,
    "start_time": "2023-01-31T04:39:29.737Z"
   },
   {
    "duration": 5,
    "start_time": "2023-01-31T04:39:29.773Z"
   },
   {
    "duration": 23,
    "start_time": "2023-01-31T04:39:29.779Z"
   },
   {
    "duration": 38,
    "start_time": "2023-01-31T04:39:29.804Z"
   },
   {
    "duration": 5,
    "start_time": "2023-01-31T04:39:29.844Z"
   },
   {
    "duration": 29,
    "start_time": "2023-01-31T04:39:29.851Z"
   },
   {
    "duration": 4,
    "start_time": "2023-01-31T04:39:29.882Z"
   },
   {
    "duration": 12,
    "start_time": "2023-01-31T04:39:29.888Z"
   },
   {
    "duration": 5,
    "start_time": "2023-01-31T04:39:29.902Z"
   },
   {
    "duration": 38,
    "start_time": "2023-01-31T04:39:29.908Z"
   },
   {
    "duration": 8,
    "start_time": "2023-01-31T04:39:29.947Z"
   },
   {
    "duration": 4,
    "start_time": "2023-01-31T04:39:29.960Z"
   },
   {
    "duration": 22,
    "start_time": "2023-01-31T04:39:29.965Z"
   },
   {
    "duration": 2,
    "start_time": "2023-01-31T04:39:29.989Z"
   },
   {
    "duration": 51,
    "start_time": "2023-01-31T04:39:29.993Z"
   },
   {
    "duration": 5,
    "start_time": "2023-01-31T04:39:30.046Z"
   },
   {
    "duration": 10,
    "start_time": "2023-01-31T04:39:30.053Z"
   },
   {
    "duration": 39,
    "start_time": "2023-01-31T04:39:30.065Z"
   },
   {
    "duration": 6,
    "start_time": "2023-01-31T04:39:30.106Z"
   },
   {
    "duration": 28,
    "start_time": "2023-01-31T04:39:30.114Z"
   },
   {
    "duration": 36,
    "start_time": "2023-01-31T04:39:30.144Z"
   },
   {
    "duration": 19,
    "start_time": "2023-01-31T04:39:30.182Z"
   },
   {
    "duration": 217,
    "start_time": "2023-01-31T04:39:30.203Z"
   },
   {
    "duration": 19,
    "start_time": "2023-01-31T04:39:30.421Z"
   },
   {
    "duration": 338,
    "start_time": "2023-01-31T04:39:30.442Z"
   },
   {
    "duration": 5,
    "start_time": "2023-01-31T04:39:30.781Z"
   },
   {
    "duration": 1107,
    "start_time": "2023-01-31T04:39:30.788Z"
   },
   {
    "duration": 15,
    "start_time": "2023-01-31T04:39:31.897Z"
   },
   {
    "duration": 35,
    "start_time": "2023-01-31T04:39:31.913Z"
   },
   {
    "duration": 19,
    "start_time": "2023-01-31T04:39:31.950Z"
   },
   {
    "duration": 13,
    "start_time": "2023-01-31T04:39:31.971Z"
   },
   {
    "duration": 756,
    "start_time": "2023-01-31T04:39:31.986Z"
   },
   {
    "duration": 224,
    "start_time": "2023-01-31T04:39:32.743Z"
   },
   {
    "duration": 28,
    "start_time": "2023-01-31T04:39:32.969Z"
   },
   {
    "duration": 8,
    "start_time": "2023-01-31T04:39:32.998Z"
   },
   {
    "duration": 172,
    "start_time": "2023-01-31T04:39:33.027Z"
   },
   {
    "duration": 7,
    "start_time": "2023-01-31T04:39:33.200Z"
   },
   {
    "duration": 176,
    "start_time": "2023-01-31T04:39:33.208Z"
   },
   {
    "duration": 7,
    "start_time": "2023-01-31T04:39:33.386Z"
   },
   {
    "duration": 511,
    "start_time": "2023-01-31T04:39:33.395Z"
   },
   {
    "duration": 565,
    "start_time": "2023-01-31T04:39:33.908Z"
   },
   {
    "duration": 14,
    "start_time": "2023-01-31T04:39:34.475Z"
   },
   {
    "duration": 19,
    "start_time": "2023-01-31T04:39:34.491Z"
   },
   {
    "duration": 23,
    "start_time": "2023-01-31T04:39:34.511Z"
   },
   {
    "duration": 21,
    "start_time": "2023-01-31T04:39:34.535Z"
   },
   {
    "duration": 20,
    "start_time": "2023-01-31T04:39:34.558Z"
   },
   {
    "duration": 23,
    "start_time": "2023-01-31T04:39:34.579Z"
   },
   {
    "duration": 136,
    "start_time": "2023-01-31T04:39:34.603Z"
   },
   {
    "duration": 0,
    "start_time": "2023-01-31T04:39:34.741Z"
   },
   {
    "duration": 0,
    "start_time": "2023-01-31T04:39:34.742Z"
   },
   {
    "duration": 0,
    "start_time": "2023-01-31T04:39:34.743Z"
   },
   {
    "duration": 0,
    "start_time": "2023-01-31T04:39:34.745Z"
   },
   {
    "duration": 0,
    "start_time": "2023-01-31T04:39:34.746Z"
   },
   {
    "duration": 0,
    "start_time": "2023-01-31T04:39:34.747Z"
   },
   {
    "duration": 0,
    "start_time": "2023-01-31T04:39:34.748Z"
   },
   {
    "duration": 0,
    "start_time": "2023-01-31T04:39:34.749Z"
   },
   {
    "duration": 0,
    "start_time": "2023-01-31T04:39:34.750Z"
   },
   {
    "duration": 0,
    "start_time": "2023-01-31T04:39:34.751Z"
   },
   {
    "duration": 0,
    "start_time": "2023-01-31T04:39:34.752Z"
   },
   {
    "duration": 1,
    "start_time": "2023-01-31T04:39:34.752Z"
   },
   {
    "duration": 0,
    "start_time": "2023-01-31T04:39:34.754Z"
   },
   {
    "duration": 15,
    "start_time": "2023-01-31T04:40:10.546Z"
   },
   {
    "duration": 405,
    "start_time": "2023-01-31T04:40:27.710Z"
   },
   {
    "duration": 339,
    "start_time": "2023-01-31T04:40:33.580Z"
   },
   {
    "duration": 260,
    "start_time": "2023-01-31T04:40:37.212Z"
   },
   {
    "duration": 1122,
    "start_time": "2023-01-31T04:40:43.823Z"
   },
   {
    "duration": 60,
    "start_time": "2023-01-31T04:40:44.947Z"
   },
   {
    "duration": 17,
    "start_time": "2023-01-31T04:40:45.008Z"
   },
   {
    "duration": 53,
    "start_time": "2023-01-31T04:40:45.027Z"
   },
   {
    "duration": 3,
    "start_time": "2023-01-31T04:40:45.083Z"
   },
   {
    "duration": 41,
    "start_time": "2023-01-31T04:40:45.087Z"
   },
   {
    "duration": 40,
    "start_time": "2023-01-31T04:40:45.129Z"
   },
   {
    "duration": 53,
    "start_time": "2023-01-31T04:40:45.171Z"
   },
   {
    "duration": 47,
    "start_time": "2023-01-31T04:40:45.226Z"
   },
   {
    "duration": 38,
    "start_time": "2023-01-31T04:40:45.275Z"
   },
   {
    "duration": 48,
    "start_time": "2023-01-31T04:40:45.315Z"
   },
   {
    "duration": 29,
    "start_time": "2023-01-31T04:40:45.364Z"
   },
   {
    "duration": 42,
    "start_time": "2023-01-31T04:40:45.395Z"
   },
   {
    "duration": 35,
    "start_time": "2023-01-31T04:40:45.439Z"
   },
   {
    "duration": 46,
    "start_time": "2023-01-31T04:40:45.476Z"
   },
   {
    "duration": 37,
    "start_time": "2023-01-31T04:40:45.523Z"
   },
   {
    "duration": 31,
    "start_time": "2023-01-31T04:40:45.562Z"
   },
   {
    "duration": 22,
    "start_time": "2023-01-31T04:40:45.594Z"
   },
   {
    "duration": 56,
    "start_time": "2023-01-31T04:40:45.617Z"
   },
   {
    "duration": 37,
    "start_time": "2023-01-31T04:40:45.674Z"
   },
   {
    "duration": 17,
    "start_time": "2023-01-31T04:40:45.712Z"
   },
   {
    "duration": 39,
    "start_time": "2023-01-31T04:40:45.730Z"
   },
   {
    "duration": 18,
    "start_time": "2023-01-31T04:40:45.770Z"
   },
   {
    "duration": 20,
    "start_time": "2023-01-31T04:40:45.789Z"
   },
   {
    "duration": 35,
    "start_time": "2023-01-31T04:40:45.810Z"
   },
   {
    "duration": 50,
    "start_time": "2023-01-31T04:40:45.847Z"
   },
   {
    "duration": 26,
    "start_time": "2023-01-31T04:40:45.899Z"
   },
   {
    "duration": 29,
    "start_time": "2023-01-31T04:40:45.927Z"
   },
   {
    "duration": 43,
    "start_time": "2023-01-31T04:40:45.958Z"
   },
   {
    "duration": 27,
    "start_time": "2023-01-31T04:40:46.003Z"
   },
   {
    "duration": 30,
    "start_time": "2023-01-31T04:40:46.032Z"
   },
   {
    "duration": 15,
    "start_time": "2023-01-31T04:40:46.064Z"
   },
   {
    "duration": 26,
    "start_time": "2023-01-31T04:40:46.081Z"
   },
   {
    "duration": 55,
    "start_time": "2023-01-31T04:40:46.109Z"
   },
   {
    "duration": 6,
    "start_time": "2023-01-31T04:40:46.166Z"
   },
   {
    "duration": 28,
    "start_time": "2023-01-31T04:40:46.174Z"
   },
   {
    "duration": 22,
    "start_time": "2023-01-31T04:40:46.203Z"
   },
   {
    "duration": 8,
    "start_time": "2023-01-31T04:40:46.227Z"
   },
   {
    "duration": 190,
    "start_time": "2023-01-31T04:40:46.237Z"
   },
   {
    "duration": 16,
    "start_time": "2023-01-31T04:40:46.429Z"
   },
   {
    "duration": 307,
    "start_time": "2023-01-31T04:40:46.449Z"
   },
   {
    "duration": 5,
    "start_time": "2023-01-31T04:40:46.757Z"
   },
   {
    "duration": 1114,
    "start_time": "2023-01-31T04:40:46.764Z"
   },
   {
    "duration": 16,
    "start_time": "2023-01-31T04:40:47.880Z"
   },
   {
    "duration": 30,
    "start_time": "2023-01-31T04:40:47.898Z"
   },
   {
    "duration": 20,
    "start_time": "2023-01-31T04:40:47.930Z"
   },
   {
    "duration": 6,
    "start_time": "2023-01-31T04:40:47.951Z"
   },
   {
    "duration": 792,
    "start_time": "2023-01-31T04:40:47.959Z"
   },
   {
    "duration": 228,
    "start_time": "2023-01-31T04:40:48.753Z"
   },
   {
    "duration": 27,
    "start_time": "2023-01-31T04:40:48.984Z"
   },
   {
    "duration": 20,
    "start_time": "2023-01-31T04:40:49.012Z"
   },
   {
    "duration": 185,
    "start_time": "2023-01-31T04:40:49.033Z"
   },
   {
    "duration": 11,
    "start_time": "2023-01-31T04:40:49.219Z"
   },
   {
    "duration": 174,
    "start_time": "2023-01-31T04:40:49.232Z"
   },
   {
    "duration": 7,
    "start_time": "2023-01-31T04:40:49.407Z"
   },
   {
    "duration": 493,
    "start_time": "2023-01-31T04:40:49.416Z"
   },
   {
    "duration": 574,
    "start_time": "2023-01-31T04:40:49.911Z"
   },
   {
    "duration": 16,
    "start_time": "2023-01-31T04:40:50.486Z"
   },
   {
    "duration": 32,
    "start_time": "2023-01-31T04:40:50.504Z"
   },
   {
    "duration": 10,
    "start_time": "2023-01-31T04:40:50.538Z"
   },
   {
    "duration": 10,
    "start_time": "2023-01-31T04:40:50.550Z"
   },
   {
    "duration": 7,
    "start_time": "2023-01-31T04:40:50.562Z"
   },
   {
    "duration": 7,
    "start_time": "2023-01-31T04:40:50.570Z"
   },
   {
    "duration": 362,
    "start_time": "2023-01-31T04:40:50.579Z"
   },
   {
    "duration": 444,
    "start_time": "2023-01-31T04:40:50.943Z"
   },
   {
    "duration": 96,
    "start_time": "2023-01-31T04:40:51.389Z"
   },
   {
    "duration": 0,
    "start_time": "2023-01-31T04:40:51.487Z"
   },
   {
    "duration": 0,
    "start_time": "2023-01-31T04:40:51.489Z"
   },
   {
    "duration": 0,
    "start_time": "2023-01-31T04:40:51.490Z"
   },
   {
    "duration": 0,
    "start_time": "2023-01-31T04:40:51.492Z"
   },
   {
    "duration": 0,
    "start_time": "2023-01-31T04:40:51.493Z"
   },
   {
    "duration": 0,
    "start_time": "2023-01-31T04:40:51.495Z"
   },
   {
    "duration": 0,
    "start_time": "2023-01-31T04:40:51.496Z"
   },
   {
    "duration": 0,
    "start_time": "2023-01-31T04:40:51.498Z"
   },
   {
    "duration": 0,
    "start_time": "2023-01-31T04:40:51.499Z"
   },
   {
    "duration": 0,
    "start_time": "2023-01-31T04:40:51.501Z"
   },
   {
    "duration": 0,
    "start_time": "2023-01-31T04:40:51.502Z"
   },
   {
    "duration": 1183,
    "start_time": "2023-01-31T04:41:17.547Z"
   },
   {
    "duration": 56,
    "start_time": "2023-01-31T04:41:18.732Z"
   },
   {
    "duration": 17,
    "start_time": "2023-01-31T04:41:18.790Z"
   },
   {
    "duration": 28,
    "start_time": "2023-01-31T04:41:18.809Z"
   },
   {
    "duration": 2,
    "start_time": "2023-01-31T04:41:18.838Z"
   },
   {
    "duration": 7,
    "start_time": "2023-01-31T04:41:18.841Z"
   },
   {
    "duration": 16,
    "start_time": "2023-01-31T04:41:18.850Z"
   },
   {
    "duration": 6,
    "start_time": "2023-01-31T04:41:18.867Z"
   },
   {
    "duration": 16,
    "start_time": "2023-01-31T04:41:18.874Z"
   },
   {
    "duration": 11,
    "start_time": "2023-01-31T04:41:18.892Z"
   },
   {
    "duration": 38,
    "start_time": "2023-01-31T04:41:18.904Z"
   },
   {
    "duration": 6,
    "start_time": "2023-01-31T04:41:18.944Z"
   },
   {
    "duration": 14,
    "start_time": "2023-01-31T04:41:18.952Z"
   },
   {
    "duration": 6,
    "start_time": "2023-01-31T04:41:18.968Z"
   },
   {
    "duration": 20,
    "start_time": "2023-01-31T04:41:18.976Z"
   },
   {
    "duration": 31,
    "start_time": "2023-01-31T04:41:18.998Z"
   },
   {
    "duration": 22,
    "start_time": "2023-01-31T04:41:19.031Z"
   },
   {
    "duration": 6,
    "start_time": "2023-01-31T04:41:19.055Z"
   },
   {
    "duration": 21,
    "start_time": "2023-01-31T04:41:19.063Z"
   },
   {
    "duration": 50,
    "start_time": "2023-01-31T04:41:19.086Z"
   },
   {
    "duration": 5,
    "start_time": "2023-01-31T04:41:19.138Z"
   },
   {
    "duration": 29,
    "start_time": "2023-01-31T04:41:19.145Z"
   },
   {
    "duration": 14,
    "start_time": "2023-01-31T04:41:19.176Z"
   },
   {
    "duration": 13,
    "start_time": "2023-01-31T04:41:19.192Z"
   },
   {
    "duration": 6,
    "start_time": "2023-01-31T04:41:19.207Z"
   },
   {
    "duration": 33,
    "start_time": "2023-01-31T04:41:19.215Z"
   },
   {
    "duration": 12,
    "start_time": "2023-01-31T04:41:19.250Z"
   },
   {
    "duration": 3,
    "start_time": "2023-01-31T04:41:19.266Z"
   },
   {
    "duration": 30,
    "start_time": "2023-01-31T04:41:19.271Z"
   },
   {
    "duration": 2,
    "start_time": "2023-01-31T04:41:19.303Z"
   },
   {
    "duration": 37,
    "start_time": "2023-01-31T04:41:19.307Z"
   },
   {
    "duration": 9,
    "start_time": "2023-01-31T04:41:19.345Z"
   },
   {
    "duration": 7,
    "start_time": "2023-01-31T04:41:19.355Z"
   },
   {
    "duration": 29,
    "start_time": "2023-01-31T04:41:19.363Z"
   },
   {
    "duration": 6,
    "start_time": "2023-01-31T04:41:19.394Z"
   },
   {
    "duration": 9,
    "start_time": "2023-01-31T04:41:19.402Z"
   },
   {
    "duration": 24,
    "start_time": "2023-01-31T04:41:19.428Z"
   },
   {
    "duration": 6,
    "start_time": "2023-01-31T04:41:19.454Z"
   },
   {
    "duration": 193,
    "start_time": "2023-01-31T04:41:19.462Z"
   },
   {
    "duration": 18,
    "start_time": "2023-01-31T04:41:19.657Z"
   },
   {
    "duration": 331,
    "start_time": "2023-01-31T04:41:19.677Z"
   },
   {
    "duration": 4,
    "start_time": "2023-01-31T04:41:20.010Z"
   },
   {
    "duration": 1164,
    "start_time": "2023-01-31T04:41:20.028Z"
   },
   {
    "duration": 15,
    "start_time": "2023-01-31T04:41:21.194Z"
   },
   {
    "duration": 25,
    "start_time": "2023-01-31T04:41:21.211Z"
   },
   {
    "duration": 27,
    "start_time": "2023-01-31T04:41:21.237Z"
   },
   {
    "duration": 6,
    "start_time": "2023-01-31T04:41:21.265Z"
   },
   {
    "duration": 767,
    "start_time": "2023-01-31T04:41:21.272Z"
   },
   {
    "duration": 225,
    "start_time": "2023-01-31T04:41:22.041Z"
   },
   {
    "duration": 29,
    "start_time": "2023-01-31T04:41:22.267Z"
   },
   {
    "duration": 7,
    "start_time": "2023-01-31T04:41:22.298Z"
   },
   {
    "duration": 190,
    "start_time": "2023-01-31T04:41:22.328Z"
   },
   {
    "duration": 13,
    "start_time": "2023-01-31T04:41:22.520Z"
   },
   {
    "duration": 196,
    "start_time": "2023-01-31T04:41:22.535Z"
   },
   {
    "duration": 8,
    "start_time": "2023-01-31T04:41:22.734Z"
   },
   {
    "duration": 532,
    "start_time": "2023-01-31T04:41:22.744Z"
   },
   {
    "duration": 558,
    "start_time": "2023-01-31T04:41:23.278Z"
   },
   {
    "duration": 17,
    "start_time": "2023-01-31T04:41:23.839Z"
   },
   {
    "duration": 23,
    "start_time": "2023-01-31T04:41:23.857Z"
   },
   {
    "duration": 11,
    "start_time": "2023-01-31T04:41:23.882Z"
   },
   {
    "duration": 41,
    "start_time": "2023-01-31T04:41:23.895Z"
   },
   {
    "duration": 10,
    "start_time": "2023-01-31T04:41:23.937Z"
   },
   {
    "duration": 8,
    "start_time": "2023-01-31T04:41:23.948Z"
   },
   {
    "duration": 371,
    "start_time": "2023-01-31T04:41:23.958Z"
   },
   {
    "duration": 444,
    "start_time": "2023-01-31T04:41:24.331Z"
   },
   {
    "duration": 253,
    "start_time": "2023-01-31T04:41:24.778Z"
   },
   {
    "duration": 8,
    "start_time": "2023-01-31T04:41:25.033Z"
   },
   {
    "duration": 17,
    "start_time": "2023-01-31T04:41:25.043Z"
   },
   {
    "duration": 12,
    "start_time": "2023-01-31T04:41:25.062Z"
   },
   {
    "duration": 15,
    "start_time": "2023-01-31T04:41:25.075Z"
   },
   {
    "duration": 15,
    "start_time": "2023-01-31T04:41:25.092Z"
   },
   {
    "duration": 74,
    "start_time": "2023-01-31T04:41:25.109Z"
   },
   {
    "duration": 0,
    "start_time": "2023-01-31T04:41:25.185Z"
   },
   {
    "duration": 0,
    "start_time": "2023-01-31T04:41:25.187Z"
   },
   {
    "duration": 0,
    "start_time": "2023-01-31T04:41:25.188Z"
   },
   {
    "duration": 0,
    "start_time": "2023-01-31T04:41:25.189Z"
   },
   {
    "duration": 1183,
    "start_time": "2023-01-31T04:41:52.545Z"
   },
   {
    "duration": 58,
    "start_time": "2023-01-31T04:41:53.730Z"
   },
   {
    "duration": 18,
    "start_time": "2023-01-31T04:41:53.789Z"
   },
   {
    "duration": 29,
    "start_time": "2023-01-31T04:41:53.809Z"
   },
   {
    "duration": 2,
    "start_time": "2023-01-31T04:41:53.840Z"
   },
   {
    "duration": 7,
    "start_time": "2023-01-31T04:41:53.843Z"
   },
   {
    "duration": 17,
    "start_time": "2023-01-31T04:41:53.851Z"
   },
   {
    "duration": 7,
    "start_time": "2023-01-31T04:41:53.870Z"
   },
   {
    "duration": 26,
    "start_time": "2023-01-31T04:41:53.879Z"
   },
   {
    "duration": 16,
    "start_time": "2023-01-31T04:41:53.926Z"
   },
   {
    "duration": 22,
    "start_time": "2023-01-31T04:41:53.944Z"
   },
   {
    "duration": 6,
    "start_time": "2023-01-31T04:41:53.968Z"
   },
   {
    "duration": 16,
    "start_time": "2023-01-31T04:41:53.976Z"
   },
   {
    "duration": 34,
    "start_time": "2023-01-31T04:41:53.994Z"
   },
   {
    "duration": 25,
    "start_time": "2023-01-31T04:41:54.030Z"
   },
   {
    "duration": 12,
    "start_time": "2023-01-31T04:41:54.056Z"
   },
   {
    "duration": 22,
    "start_time": "2023-01-31T04:41:54.070Z"
   },
   {
    "duration": 5,
    "start_time": "2023-01-31T04:41:54.094Z"
   },
   {
    "duration": 41,
    "start_time": "2023-01-31T04:41:54.101Z"
   },
   {
    "duration": 22,
    "start_time": "2023-01-31T04:41:54.143Z"
   },
   {
    "duration": 5,
    "start_time": "2023-01-31T04:41:54.167Z"
   },
   {
    "duration": 28,
    "start_time": "2023-01-31T04:41:54.174Z"
   },
   {
    "duration": 25,
    "start_time": "2023-01-31T04:41:54.204Z"
   },
   {
    "duration": 18,
    "start_time": "2023-01-31T04:41:54.231Z"
   },
   {
    "duration": 6,
    "start_time": "2023-01-31T04:41:54.251Z"
   },
   {
    "duration": 27,
    "start_time": "2023-01-31T04:41:54.258Z"
   },
   {
    "duration": 15,
    "start_time": "2023-01-31T04:41:54.286Z"
   },
   {
    "duration": 4,
    "start_time": "2023-01-31T04:41:54.306Z"
   },
   {
    "duration": 37,
    "start_time": "2023-01-31T04:41:54.312Z"
   },
   {
    "duration": 2,
    "start_time": "2023-01-31T04:41:54.351Z"
   },
   {
    "duration": 32,
    "start_time": "2023-01-31T04:41:54.355Z"
   },
   {
    "duration": 4,
    "start_time": "2023-01-31T04:41:54.389Z"
   },
   {
    "duration": 12,
    "start_time": "2023-01-31T04:41:54.395Z"
   },
   {
    "duration": 35,
    "start_time": "2023-01-31T04:41:54.409Z"
   },
   {
    "duration": 6,
    "start_time": "2023-01-31T04:41:54.446Z"
   },
   {
    "duration": 13,
    "start_time": "2023-01-31T04:41:54.454Z"
   },
   {
    "duration": 36,
    "start_time": "2023-01-31T04:41:54.468Z"
   },
   {
    "duration": 12,
    "start_time": "2023-01-31T04:41:54.506Z"
   },
   {
    "duration": 183,
    "start_time": "2023-01-31T04:41:54.519Z"
   },
   {
    "duration": 16,
    "start_time": "2023-01-31T04:41:54.703Z"
   },
   {
    "duration": 307,
    "start_time": "2023-01-31T04:41:54.721Z"
   },
   {
    "duration": 3,
    "start_time": "2023-01-31T04:41:55.030Z"
   },
   {
    "duration": 1119,
    "start_time": "2023-01-31T04:41:55.035Z"
   },
   {
    "duration": 13,
    "start_time": "2023-01-31T04:41:56.156Z"
   },
   {
    "duration": 13,
    "start_time": "2023-01-31T04:41:56.170Z"
   },
   {
    "duration": 36,
    "start_time": "2023-01-31T04:41:56.185Z"
   },
   {
    "duration": 6,
    "start_time": "2023-01-31T04:41:56.227Z"
   },
   {
    "duration": 769,
    "start_time": "2023-01-31T04:41:56.235Z"
   },
   {
    "duration": 228,
    "start_time": "2023-01-31T04:41:57.006Z"
   },
   {
    "duration": 26,
    "start_time": "2023-01-31T04:41:57.236Z"
   },
   {
    "duration": 17,
    "start_time": "2023-01-31T04:41:57.264Z"
   },
   {
    "duration": 191,
    "start_time": "2023-01-31T04:41:57.283Z"
   },
   {
    "duration": 18,
    "start_time": "2023-01-31T04:41:57.476Z"
   },
   {
    "duration": 181,
    "start_time": "2023-01-31T04:41:57.496Z"
   },
   {
    "duration": 7,
    "start_time": "2023-01-31T04:41:57.679Z"
   },
   {
    "duration": 509,
    "start_time": "2023-01-31T04:41:57.688Z"
   },
   {
    "duration": 522,
    "start_time": "2023-01-31T04:41:58.198Z"
   },
   {
    "duration": 14,
    "start_time": "2023-01-31T04:41:58.728Z"
   },
   {
    "duration": 17,
    "start_time": "2023-01-31T04:41:58.744Z"
   },
   {
    "duration": 9,
    "start_time": "2023-01-31T04:41:58.763Z"
   },
   {
    "duration": 8,
    "start_time": "2023-01-31T04:41:58.773Z"
   },
   {
    "duration": 8,
    "start_time": "2023-01-31T04:41:58.783Z"
   },
   {
    "duration": 9,
    "start_time": "2023-01-31T04:41:58.827Z"
   },
   {
    "duration": 356,
    "start_time": "2023-01-31T04:41:58.838Z"
   },
   {
    "duration": 440,
    "start_time": "2023-01-31T04:41:59.195Z"
   },
   {
    "duration": 253,
    "start_time": "2023-01-31T04:41:59.637Z"
   },
   {
    "duration": 8,
    "start_time": "2023-01-31T04:41:59.892Z"
   },
   {
    "duration": 11,
    "start_time": "2023-01-31T04:41:59.902Z"
   },
   {
    "duration": 13,
    "start_time": "2023-01-31T04:41:59.915Z"
   },
   {
    "duration": 13,
    "start_time": "2023-01-31T04:41:59.930Z"
   },
   {
    "duration": 8,
    "start_time": "2023-01-31T04:41:59.945Z"
   },
   {
    "duration": 19,
    "start_time": "2023-01-31T04:41:59.955Z"
   },
   {
    "duration": 8,
    "start_time": "2023-01-31T04:41:59.976Z"
   },
   {
    "duration": 8,
    "start_time": "2023-01-31T04:41:59.986Z"
   },
   {
    "duration": 14,
    "start_time": "2023-01-31T04:41:59.996Z"
   },
   {
    "duration": 7,
    "start_time": "2023-01-31T05:01:05.975Z"
   },
   {
    "duration": 7,
    "start_time": "2023-01-31T05:01:21.970Z"
   },
   {
    "duration": 3,
    "start_time": "2023-01-31T05:01:44.628Z"
   },
   {
    "duration": 80,
    "start_time": "2023-01-31T05:01:44.634Z"
   },
   {
    "duration": 14,
    "start_time": "2023-01-31T05:01:44.716Z"
   },
   {
    "duration": 55,
    "start_time": "2023-01-31T05:01:44.733Z"
   },
   {
    "duration": 3,
    "start_time": "2023-01-31T05:01:44.790Z"
   },
   {
    "duration": 39,
    "start_time": "2023-01-31T05:01:44.794Z"
   },
   {
    "duration": 33,
    "start_time": "2023-01-31T05:01:44.835Z"
   },
   {
    "duration": 34,
    "start_time": "2023-01-31T05:01:44.869Z"
   },
   {
    "duration": 26,
    "start_time": "2023-01-31T05:01:44.904Z"
   },
   {
    "duration": 62,
    "start_time": "2023-01-31T05:01:44.932Z"
   },
   {
    "duration": 24,
    "start_time": "2023-01-31T05:01:44.996Z"
   },
   {
    "duration": 30,
    "start_time": "2023-01-31T05:01:45.022Z"
   },
   {
    "duration": 56,
    "start_time": "2023-01-31T05:01:45.053Z"
   },
   {
    "duration": 10,
    "start_time": "2023-01-31T05:01:45.111Z"
   },
   {
    "duration": 41,
    "start_time": "2023-01-31T05:01:45.122Z"
   },
   {
    "duration": 12,
    "start_time": "2023-01-31T05:01:45.165Z"
   },
   {
    "duration": 39,
    "start_time": "2023-01-31T05:01:45.179Z"
   },
   {
    "duration": 6,
    "start_time": "2023-01-31T05:01:45.219Z"
   },
   {
    "duration": 30,
    "start_time": "2023-01-31T05:01:45.227Z"
   },
   {
    "duration": 22,
    "start_time": "2023-01-31T05:01:45.259Z"
   },
   {
    "duration": 4,
    "start_time": "2023-01-31T05:01:45.283Z"
   },
   {
    "duration": 32,
    "start_time": "2023-01-31T05:01:45.289Z"
   },
   {
    "duration": 10,
    "start_time": "2023-01-31T05:01:45.323Z"
   },
   {
    "duration": 33,
    "start_time": "2023-01-31T05:01:45.334Z"
   },
   {
    "duration": 15,
    "start_time": "2023-01-31T05:01:45.369Z"
   },
   {
    "duration": 34,
    "start_time": "2023-01-31T05:01:45.385Z"
   },
   {
    "duration": 32,
    "start_time": "2023-01-31T05:01:45.421Z"
   },
   {
    "duration": 18,
    "start_time": "2023-01-31T05:01:45.454Z"
   },
   {
    "duration": 37,
    "start_time": "2023-01-31T05:01:45.475Z"
   },
   {
    "duration": 2,
    "start_time": "2023-01-31T05:01:45.514Z"
   },
   {
    "duration": 41,
    "start_time": "2023-01-31T05:01:45.517Z"
   },
   {
    "duration": 5,
    "start_time": "2023-01-31T05:01:45.559Z"
   },
   {
    "duration": 30,
    "start_time": "2023-01-31T05:01:45.565Z"
   },
   {
    "duration": 36,
    "start_time": "2023-01-31T05:01:45.597Z"
   },
   {
    "duration": 9,
    "start_time": "2023-01-31T05:01:45.635Z"
   },
   {
    "duration": 8,
    "start_time": "2023-01-31T05:01:45.646Z"
   },
   {
    "duration": 34,
    "start_time": "2023-01-31T05:01:45.656Z"
   },
   {
    "duration": 27,
    "start_time": "2023-01-31T05:01:45.692Z"
   },
   {
    "duration": 162,
    "start_time": "2023-01-31T05:01:45.720Z"
   },
   {
    "duration": 16,
    "start_time": "2023-01-31T05:01:45.884Z"
   },
   {
    "duration": 344,
    "start_time": "2023-01-31T05:01:45.902Z"
   },
   {
    "duration": 4,
    "start_time": "2023-01-31T05:01:46.248Z"
   },
   {
    "duration": 1316,
    "start_time": "2023-01-31T05:01:46.254Z"
   },
   {
    "duration": 16,
    "start_time": "2023-01-31T05:01:47.571Z"
   },
   {
    "duration": 47,
    "start_time": "2023-01-31T05:01:47.588Z"
   },
   {
    "duration": 55,
    "start_time": "2023-01-31T05:01:47.637Z"
   },
   {
    "duration": 16,
    "start_time": "2023-01-31T05:01:47.694Z"
   },
   {
    "duration": 850,
    "start_time": "2023-01-31T05:01:47.711Z"
   },
   {
    "duration": 232,
    "start_time": "2023-01-31T05:01:48.563Z"
   },
   {
    "duration": 37,
    "start_time": "2023-01-31T05:01:48.796Z"
   },
   {
    "duration": 7,
    "start_time": "2023-01-31T05:01:48.834Z"
   },
   {
    "duration": 180,
    "start_time": "2023-01-31T05:01:48.843Z"
   },
   {
    "duration": 7,
    "start_time": "2023-01-31T05:01:49.026Z"
   },
   {
    "duration": 189,
    "start_time": "2023-01-31T05:01:49.035Z"
   },
   {
    "duration": 7,
    "start_time": "2023-01-31T05:01:49.227Z"
   },
   {
    "duration": 562,
    "start_time": "2023-01-31T05:01:49.236Z"
   },
   {
    "duration": 593,
    "start_time": "2023-01-31T05:01:49.799Z"
   },
   {
    "duration": 19,
    "start_time": "2023-01-31T05:01:50.394Z"
   },
   {
    "duration": 31,
    "start_time": "2023-01-31T05:01:50.415Z"
   },
   {
    "duration": 23,
    "start_time": "2023-01-31T05:01:50.448Z"
   },
   {
    "duration": 21,
    "start_time": "2023-01-31T05:01:50.472Z"
   },
   {
    "duration": 18,
    "start_time": "2023-01-31T05:01:50.495Z"
   },
   {
    "duration": 17,
    "start_time": "2023-01-31T05:01:50.514Z"
   },
   {
    "duration": 455,
    "start_time": "2023-01-31T05:01:50.533Z"
   },
   {
    "duration": 337,
    "start_time": "2023-01-31T05:01:50.990Z"
   },
   {
    "duration": 260,
    "start_time": "2023-01-31T05:01:51.328Z"
   },
   {
    "duration": 8,
    "start_time": "2023-01-31T05:01:51.589Z"
   },
   {
    "duration": 10,
    "start_time": "2023-01-31T05:02:01.602Z"
   },
   {
    "duration": 22,
    "start_time": "2023-01-31T05:02:12.796Z"
   },
   {
    "duration": 85,
    "start_time": "2023-01-31T05:02:28.288Z"
   },
   {
    "duration": 111,
    "start_time": "2023-01-31T05:02:33.606Z"
   },
   {
    "duration": 17,
    "start_time": "2023-01-31T05:02:44.416Z"
   },
   {
    "duration": 6,
    "start_time": "2023-01-31T05:02:54.131Z"
   },
   {
    "duration": 5,
    "start_time": "2023-01-31T05:03:01.830Z"
   },
   {
    "duration": 12,
    "start_time": "2023-01-31T05:03:31.255Z"
   },
   {
    "duration": 1531,
    "start_time": "2023-01-31T06:08:05.812Z"
   },
   {
    "duration": 141,
    "start_time": "2023-01-31T06:08:07.345Z"
   },
   {
    "duration": 31,
    "start_time": "2023-01-31T06:08:07.489Z"
   },
   {
    "duration": 52,
    "start_time": "2023-01-31T06:08:07.524Z"
   },
   {
    "duration": 3,
    "start_time": "2023-01-31T06:08:07.579Z"
   },
   {
    "duration": 28,
    "start_time": "2023-01-31T06:08:07.584Z"
   },
   {
    "duration": 35,
    "start_time": "2023-01-31T06:08:07.614Z"
   },
   {
    "duration": 14,
    "start_time": "2023-01-31T06:08:07.650Z"
   },
   {
    "duration": 35,
    "start_time": "2023-01-31T06:08:07.666Z"
   },
   {
    "duration": 24,
    "start_time": "2023-01-31T06:08:07.706Z"
   },
   {
    "duration": 41,
    "start_time": "2023-01-31T06:08:07.735Z"
   },
   {
    "duration": 24,
    "start_time": "2023-01-31T06:08:07.778Z"
   },
   {
    "duration": 45,
    "start_time": "2023-01-31T06:08:07.804Z"
   },
   {
    "duration": 18,
    "start_time": "2023-01-31T06:08:07.851Z"
   },
   {
    "duration": 34,
    "start_time": "2023-01-31T06:08:07.871Z"
   },
   {
    "duration": 16,
    "start_time": "2023-01-31T06:08:07.907Z"
   },
   {
    "duration": 37,
    "start_time": "2023-01-31T06:08:07.925Z"
   },
   {
    "duration": 6,
    "start_time": "2023-01-31T06:08:07.964Z"
   },
   {
    "duration": 52,
    "start_time": "2023-01-31T06:08:07.972Z"
   },
   {
    "duration": 23,
    "start_time": "2023-01-31T06:08:08.026Z"
   },
   {
    "duration": 7,
    "start_time": "2023-01-31T06:08:08.052Z"
   },
   {
    "duration": 41,
    "start_time": "2023-01-31T06:08:08.061Z"
   },
   {
    "duration": 9,
    "start_time": "2023-01-31T06:08:08.105Z"
   },
   {
    "duration": 17,
    "start_time": "2023-01-31T06:08:08.116Z"
   },
   {
    "duration": 26,
    "start_time": "2023-01-31T06:08:08.135Z"
   },
   {
    "duration": 35,
    "start_time": "2023-01-31T06:08:08.162Z"
   },
   {
    "duration": 15,
    "start_time": "2023-01-31T06:08:08.199Z"
   },
   {
    "duration": 7,
    "start_time": "2023-01-31T06:08:08.218Z"
   },
   {
    "duration": 45,
    "start_time": "2023-01-31T06:08:08.226Z"
   },
   {
    "duration": 3,
    "start_time": "2023-01-31T06:08:08.272Z"
   },
   {
    "duration": 41,
    "start_time": "2023-01-31T06:08:08.276Z"
   },
   {
    "duration": 11,
    "start_time": "2023-01-31T06:08:08.319Z"
   },
   {
    "duration": 14,
    "start_time": "2023-01-31T06:08:08.332Z"
   },
   {
    "duration": 43,
    "start_time": "2023-01-31T06:08:08.348Z"
   },
   {
    "duration": 7,
    "start_time": "2023-01-31T06:08:08.393Z"
   },
   {
    "duration": 29,
    "start_time": "2023-01-31T06:08:08.401Z"
   },
   {
    "duration": 43,
    "start_time": "2023-01-31T06:08:08.432Z"
   },
   {
    "duration": 25,
    "start_time": "2023-01-31T06:08:08.477Z"
   },
   {
    "duration": 197,
    "start_time": "2023-01-31T06:08:08.504Z"
   },
   {
    "duration": 25,
    "start_time": "2023-01-31T06:08:08.703Z"
   },
   {
    "duration": 319,
    "start_time": "2023-01-31T06:08:08.729Z"
   },
   {
    "duration": 5,
    "start_time": "2023-01-31T06:08:09.049Z"
   },
   {
    "duration": 1197,
    "start_time": "2023-01-31T06:08:09.055Z"
   },
   {
    "duration": 21,
    "start_time": "2023-01-31T06:08:10.254Z"
   },
   {
    "duration": 54,
    "start_time": "2023-01-31T06:08:10.277Z"
   },
   {
    "duration": 58,
    "start_time": "2023-01-31T06:08:10.333Z"
   },
   {
    "duration": 14,
    "start_time": "2023-01-31T06:08:10.393Z"
   },
   {
    "duration": 854,
    "start_time": "2023-01-31T06:08:10.411Z"
   },
   {
    "duration": 236,
    "start_time": "2023-01-31T06:08:11.268Z"
   },
   {
    "duration": 37,
    "start_time": "2023-01-31T06:08:11.506Z"
   },
   {
    "duration": 7,
    "start_time": "2023-01-31T06:08:11.545Z"
   },
   {
    "duration": 216,
    "start_time": "2023-01-31T06:08:11.554Z"
   },
   {
    "duration": 8,
    "start_time": "2023-01-31T06:08:11.772Z"
   },
   {
    "duration": 183,
    "start_time": "2023-01-31T06:08:11.781Z"
   },
   {
    "duration": 8,
    "start_time": "2023-01-31T06:08:11.966Z"
   },
   {
    "duration": 720,
    "start_time": "2023-01-31T06:08:11.976Z"
   },
   {
    "duration": 595,
    "start_time": "2023-01-31T06:08:12.699Z"
   },
   {
    "duration": 16,
    "start_time": "2023-01-31T06:08:13.296Z"
   },
   {
    "duration": 44,
    "start_time": "2023-01-31T06:08:13.327Z"
   },
   {
    "duration": 38,
    "start_time": "2023-01-31T06:08:13.373Z"
   },
   {
    "duration": 42,
    "start_time": "2023-01-31T06:08:13.413Z"
   },
   {
    "duration": 38,
    "start_time": "2023-01-31T06:08:13.457Z"
   },
   {
    "duration": 26,
    "start_time": "2023-01-31T06:08:13.497Z"
   },
   {
    "duration": 355,
    "start_time": "2023-01-31T06:08:13.526Z"
   },
   {
    "duration": 483,
    "start_time": "2023-01-31T06:08:13.884Z"
   },
   {
    "duration": 269,
    "start_time": "2023-01-31T06:08:14.369Z"
   },
   {
    "duration": 8,
    "start_time": "2023-01-31T06:08:14.640Z"
   },
   {
    "duration": 30,
    "start_time": "2023-01-31T06:08:14.649Z"
   },
   {
    "duration": 34,
    "start_time": "2023-01-31T06:08:14.680Z"
   },
   {
    "duration": 20,
    "start_time": "2023-01-31T06:08:14.716Z"
   },
   {
    "duration": 27,
    "start_time": "2023-01-31T06:08:14.739Z"
   },
   {
    "duration": 27,
    "start_time": "2023-01-31T06:08:14.769Z"
   },
   {
    "duration": 12,
    "start_time": "2023-01-31T06:08:14.799Z"
   },
   {
    "duration": 47,
    "start_time": "2023-01-31T06:08:14.812Z"
   },
   {
    "duration": 11,
    "start_time": "2023-01-31T06:08:14.862Z"
   },
   {
    "duration": 11,
    "start_time": "2023-01-31T06:15:36.453Z"
   },
   {
    "duration": 14,
    "start_time": "2023-01-31T08:18:56.806Z"
   },
   {
    "duration": 125,
    "start_time": "2023-01-31T08:19:14.926Z"
   },
   {
    "duration": 21,
    "start_time": "2023-01-31T08:19:21.336Z"
   },
   {
    "duration": 15,
    "start_time": "2023-01-31T08:21:33.247Z"
   },
   {
    "duration": 20,
    "start_time": "2023-01-31T08:21:45.325Z"
   },
   {
    "duration": 30,
    "start_time": "2023-01-31T08:26:13.420Z"
   },
   {
    "duration": 12,
    "start_time": "2023-01-31T08:27:52.887Z"
   },
   {
    "duration": 20,
    "start_time": "2023-01-31T08:28:01.156Z"
   },
   {
    "duration": 76,
    "start_time": "2023-01-31T08:32:07.223Z"
   },
   {
    "duration": 18,
    "start_time": "2023-01-31T08:32:13.418Z"
   },
   {
    "duration": 4,
    "start_time": "2023-01-31T08:33:16.566Z"
   },
   {
    "duration": 7,
    "start_time": "2023-01-31T08:33:20.831Z"
   },
   {
    "duration": 5,
    "start_time": "2023-01-31T08:33:32.369Z"
   },
   {
    "duration": 16,
    "start_time": "2023-01-31T08:47:56.761Z"
   },
   {
    "duration": 18,
    "start_time": "2023-01-31T08:48:16.621Z"
   },
   {
    "duration": 4,
    "start_time": "2023-01-31T08:51:22.248Z"
   },
   {
    "duration": 239,
    "start_time": "2023-01-31T08:51:32.039Z"
   },
   {
    "duration": 254,
    "start_time": "2023-01-31T08:54:17.135Z"
   },
   {
    "duration": 1326,
    "start_time": "2023-01-31T10:49:22.052Z"
   },
   {
    "duration": 113,
    "start_time": "2023-01-31T10:49:23.380Z"
   },
   {
    "duration": 16,
    "start_time": "2023-01-31T10:49:23.495Z"
   },
   {
    "duration": 33,
    "start_time": "2023-01-31T10:49:23.513Z"
   },
   {
    "duration": 2,
    "start_time": "2023-01-31T10:49:23.547Z"
   },
   {
    "duration": 25,
    "start_time": "2023-01-31T10:49:23.551Z"
   },
   {
    "duration": 33,
    "start_time": "2023-01-31T10:49:23.578Z"
   },
   {
    "duration": 5,
    "start_time": "2023-01-31T10:49:23.613Z"
   },
   {
    "duration": 15,
    "start_time": "2023-01-31T10:49:23.620Z"
   },
   {
    "duration": 12,
    "start_time": "2023-01-31T10:49:23.639Z"
   },
   {
    "duration": 17,
    "start_time": "2023-01-31T10:49:23.653Z"
   },
   {
    "duration": 22,
    "start_time": "2023-01-31T10:49:23.672Z"
   },
   {
    "duration": 35,
    "start_time": "2023-01-31T10:49:23.696Z"
   },
   {
    "duration": 9,
    "start_time": "2023-01-31T10:49:23.733Z"
   },
   {
    "duration": 22,
    "start_time": "2023-01-31T10:49:23.744Z"
   },
   {
    "duration": 12,
    "start_time": "2023-01-31T10:49:23.768Z"
   },
   {
    "duration": 20,
    "start_time": "2023-01-31T10:49:23.782Z"
   },
   {
    "duration": 5,
    "start_time": "2023-01-31T10:49:23.804Z"
   },
   {
    "duration": 23,
    "start_time": "2023-01-31T10:49:23.811Z"
   },
   {
    "duration": 21,
    "start_time": "2023-01-31T10:49:23.836Z"
   },
   {
    "duration": 5,
    "start_time": "2023-01-31T10:49:23.858Z"
   },
   {
    "duration": 21,
    "start_time": "2023-01-31T10:49:23.892Z"
   },
   {
    "duration": 4,
    "start_time": "2023-01-31T10:49:23.915Z"
   },
   {
    "duration": 9,
    "start_time": "2023-01-31T10:49:23.920Z"
   },
   {
    "duration": 10,
    "start_time": "2023-01-31T10:49:23.930Z"
   },
   {
    "duration": 29,
    "start_time": "2023-01-31T10:49:23.942Z"
   },
   {
    "duration": 32,
    "start_time": "2023-01-31T10:49:23.973Z"
   },
   {
    "duration": 4,
    "start_time": "2023-01-31T10:49:24.010Z"
   },
   {
    "duration": 29,
    "start_time": "2023-01-31T10:49:24.016Z"
   },
   {
    "duration": 3,
    "start_time": "2023-01-31T10:49:24.047Z"
   },
   {
    "duration": 47,
    "start_time": "2023-01-31T10:49:24.052Z"
   },
   {
    "duration": 7,
    "start_time": "2023-01-31T10:49:24.101Z"
   },
   {
    "duration": 11,
    "start_time": "2023-01-31T10:49:24.110Z"
   },
   {
    "duration": 33,
    "start_time": "2023-01-31T10:49:24.123Z"
   },
   {
    "duration": 11,
    "start_time": "2023-01-31T10:49:24.159Z"
   },
   {
    "duration": 91,
    "start_time": "2023-01-31T10:49:24.172Z"
   },
   {
    "duration": 0,
    "start_time": "2023-01-31T10:49:24.266Z"
   },
   {
    "duration": 0,
    "start_time": "2023-01-31T10:49:24.268Z"
   },
   {
    "duration": 0,
    "start_time": "2023-01-31T10:49:24.269Z"
   },
   {
    "duration": 0,
    "start_time": "2023-01-31T10:49:24.271Z"
   },
   {
    "duration": 0,
    "start_time": "2023-01-31T10:49:24.272Z"
   },
   {
    "duration": 0,
    "start_time": "2023-01-31T10:49:24.274Z"
   },
   {
    "duration": 0,
    "start_time": "2023-01-31T10:49:24.276Z"
   },
   {
    "duration": 0,
    "start_time": "2023-01-31T10:49:24.278Z"
   },
   {
    "duration": 0,
    "start_time": "2023-01-31T10:49:24.279Z"
   },
   {
    "duration": 0,
    "start_time": "2023-01-31T10:49:24.281Z"
   },
   {
    "duration": 0,
    "start_time": "2023-01-31T10:49:24.282Z"
   },
   {
    "duration": 0,
    "start_time": "2023-01-31T10:49:24.284Z"
   },
   {
    "duration": 0,
    "start_time": "2023-01-31T10:49:24.286Z"
   },
   {
    "duration": 0,
    "start_time": "2023-01-31T10:49:24.287Z"
   },
   {
    "duration": 0,
    "start_time": "2023-01-31T10:49:24.288Z"
   },
   {
    "duration": 0,
    "start_time": "2023-01-31T10:49:24.291Z"
   },
   {
    "duration": 0,
    "start_time": "2023-01-31T10:49:24.292Z"
   },
   {
    "duration": 0,
    "start_time": "2023-01-31T10:49:24.294Z"
   },
   {
    "duration": 0,
    "start_time": "2023-01-31T10:49:24.295Z"
   },
   {
    "duration": 0,
    "start_time": "2023-01-31T10:49:24.296Z"
   },
   {
    "duration": 0,
    "start_time": "2023-01-31T10:49:24.298Z"
   },
   {
    "duration": 0,
    "start_time": "2023-01-31T10:49:24.298Z"
   },
   {
    "duration": 0,
    "start_time": "2023-01-31T10:49:24.300Z"
   },
   {
    "duration": 1,
    "start_time": "2023-01-31T10:49:24.301Z"
   },
   {
    "duration": 0,
    "start_time": "2023-01-31T10:49:24.303Z"
   },
   {
    "duration": 0,
    "start_time": "2023-01-31T10:49:24.304Z"
   },
   {
    "duration": 0,
    "start_time": "2023-01-31T10:49:24.306Z"
   },
   {
    "duration": 0,
    "start_time": "2023-01-31T10:49:24.308Z"
   },
   {
    "duration": 0,
    "start_time": "2023-01-31T10:49:24.310Z"
   },
   {
    "duration": 0,
    "start_time": "2023-01-31T10:49:24.311Z"
   },
   {
    "duration": 1,
    "start_time": "2023-01-31T10:49:24.312Z"
   },
   {
    "duration": 0,
    "start_time": "2023-01-31T10:49:24.314Z"
   },
   {
    "duration": 0,
    "start_time": "2023-01-31T10:49:24.316Z"
   },
   {
    "duration": 0,
    "start_time": "2023-01-31T10:49:24.317Z"
   },
   {
    "duration": 0,
    "start_time": "2023-01-31T10:49:24.318Z"
   },
   {
    "duration": 0,
    "start_time": "2023-01-31T10:49:24.319Z"
   },
   {
    "duration": 0,
    "start_time": "2023-01-31T10:49:24.320Z"
   },
   {
    "duration": 0,
    "start_time": "2023-01-31T10:49:24.322Z"
   },
   {
    "duration": 0,
    "start_time": "2023-01-31T10:49:24.323Z"
   },
   {
    "duration": 0,
    "start_time": "2023-01-31T10:49:24.324Z"
   },
   {
    "duration": 0,
    "start_time": "2023-01-31T10:49:24.326Z"
   },
   {
    "duration": 0,
    "start_time": "2023-01-31T10:49:24.327Z"
   },
   {
    "duration": 0,
    "start_time": "2023-01-31T10:49:24.328Z"
   },
   {
    "duration": 0,
    "start_time": "2023-01-31T10:49:24.330Z"
   },
   {
    "duration": 0,
    "start_time": "2023-01-31T10:49:24.331Z"
   },
   {
    "duration": 0,
    "start_time": "2023-01-31T10:49:24.332Z"
   },
   {
    "duration": 0,
    "start_time": "2023-01-31T10:49:24.333Z"
   },
   {
    "duration": 238,
    "start_time": "2023-01-31T10:51:19.111Z"
   },
   {
    "duration": 25,
    "start_time": "2023-01-31T10:59:07.782Z"
   },
   {
    "duration": 29,
    "start_time": "2023-01-31T11:21:54.348Z"
   },
   {
    "duration": 36,
    "start_time": "2023-01-31T11:21:58.406Z"
   },
   {
    "duration": 22,
    "start_time": "2023-01-31T11:23:13.409Z"
   },
   {
    "duration": 3,
    "start_time": "2023-01-31T11:24:22.064Z"
   },
   {
    "duration": 94,
    "start_time": "2023-01-31T11:24:22.070Z"
   },
   {
    "duration": 13,
    "start_time": "2023-01-31T11:24:22.166Z"
   },
   {
    "duration": 40,
    "start_time": "2023-01-31T11:24:22.180Z"
   },
   {
    "duration": 20,
    "start_time": "2023-01-31T11:24:22.222Z"
   },
   {
    "duration": 41,
    "start_time": "2023-01-31T11:24:22.244Z"
   },
   {
    "duration": 51,
    "start_time": "2023-01-31T11:24:22.287Z"
   },
   {
    "duration": 42,
    "start_time": "2023-01-31T11:24:22.339Z"
   },
   {
    "duration": 52,
    "start_time": "2023-01-31T11:24:22.383Z"
   },
   {
    "duration": 51,
    "start_time": "2023-01-31T11:24:22.437Z"
   },
   {
    "duration": 58,
    "start_time": "2023-01-31T11:24:22.491Z"
   },
   {
    "duration": 61,
    "start_time": "2023-01-31T11:24:22.550Z"
   },
   {
    "duration": 44,
    "start_time": "2023-01-31T11:24:22.613Z"
   },
   {
    "duration": 44,
    "start_time": "2023-01-31T11:24:22.659Z"
   },
   {
    "duration": 49,
    "start_time": "2023-01-31T11:24:22.708Z"
   },
   {
    "duration": 25,
    "start_time": "2023-01-31T11:24:22.759Z"
   },
   {
    "duration": 46,
    "start_time": "2023-01-31T11:24:22.785Z"
   },
   {
    "duration": 14,
    "start_time": "2023-01-31T11:24:22.833Z"
   },
   {
    "duration": 37,
    "start_time": "2023-01-31T11:24:22.849Z"
   },
   {
    "duration": 39,
    "start_time": "2023-01-31T11:24:22.887Z"
   },
   {
    "duration": 5,
    "start_time": "2023-01-31T11:24:22.928Z"
   },
   {
    "duration": 54,
    "start_time": "2023-01-31T11:24:22.935Z"
   },
   {
    "duration": 24,
    "start_time": "2023-01-31T11:24:22.991Z"
   },
   {
    "duration": 44,
    "start_time": "2023-01-31T11:24:23.016Z"
   },
   {
    "duration": 25,
    "start_time": "2023-01-31T11:24:23.062Z"
   },
   {
    "duration": 47,
    "start_time": "2023-01-31T11:24:23.089Z"
   },
   {
    "duration": 31,
    "start_time": "2023-01-31T11:24:23.138Z"
   },
   {
    "duration": 24,
    "start_time": "2023-01-31T11:24:23.171Z"
   },
   {
    "duration": 43,
    "start_time": "2023-01-31T11:24:23.200Z"
   },
   {
    "duration": 15,
    "start_time": "2023-01-31T11:24:23.244Z"
   },
   {
    "duration": 54,
    "start_time": "2023-01-31T11:24:23.260Z"
   },
   {
    "duration": 23,
    "start_time": "2023-01-31T11:24:23.315Z"
   },
   {
    "duration": 39,
    "start_time": "2023-01-31T11:24:23.340Z"
   },
   {
    "duration": 49,
    "start_time": "2023-01-31T11:24:23.381Z"
   },
   {
    "duration": 11,
    "start_time": "2023-01-31T11:24:23.432Z"
   },
   {
    "duration": 85,
    "start_time": "2023-01-31T11:24:23.445Z"
   },
   {
    "duration": 0,
    "start_time": "2023-01-31T11:24:23.532Z"
   },
   {
    "duration": 0,
    "start_time": "2023-01-31T11:24:23.533Z"
   },
   {
    "duration": 0,
    "start_time": "2023-01-31T11:24:23.534Z"
   },
   {
    "duration": 0,
    "start_time": "2023-01-31T11:24:23.536Z"
   },
   {
    "duration": 0,
    "start_time": "2023-01-31T11:24:23.537Z"
   },
   {
    "duration": 0,
    "start_time": "2023-01-31T11:24:23.538Z"
   },
   {
    "duration": 0,
    "start_time": "2023-01-31T11:24:23.539Z"
   },
   {
    "duration": 0,
    "start_time": "2023-01-31T11:24:23.540Z"
   },
   {
    "duration": 0,
    "start_time": "2023-01-31T11:24:23.541Z"
   },
   {
    "duration": 0,
    "start_time": "2023-01-31T11:24:23.542Z"
   },
   {
    "duration": 0,
    "start_time": "2023-01-31T11:24:23.543Z"
   },
   {
    "duration": 0,
    "start_time": "2023-01-31T11:24:23.544Z"
   },
   {
    "duration": 0,
    "start_time": "2023-01-31T11:24:23.545Z"
   },
   {
    "duration": 0,
    "start_time": "2023-01-31T11:24:23.546Z"
   },
   {
    "duration": 0,
    "start_time": "2023-01-31T11:24:23.548Z"
   },
   {
    "duration": 0,
    "start_time": "2023-01-31T11:24:23.548Z"
   },
   {
    "duration": 0,
    "start_time": "2023-01-31T11:24:23.550Z"
   },
   {
    "duration": 0,
    "start_time": "2023-01-31T11:24:23.550Z"
   },
   {
    "duration": 0,
    "start_time": "2023-01-31T11:24:23.552Z"
   },
   {
    "duration": 0,
    "start_time": "2023-01-31T11:24:23.553Z"
   },
   {
    "duration": 0,
    "start_time": "2023-01-31T11:24:23.554Z"
   },
   {
    "duration": 0,
    "start_time": "2023-01-31T11:24:23.555Z"
   },
   {
    "duration": 0,
    "start_time": "2023-01-31T11:24:23.556Z"
   },
   {
    "duration": 0,
    "start_time": "2023-01-31T11:24:23.556Z"
   },
   {
    "duration": 0,
    "start_time": "2023-01-31T11:24:23.557Z"
   },
   {
    "duration": 0,
    "start_time": "2023-01-31T11:24:23.558Z"
   },
   {
    "duration": 1,
    "start_time": "2023-01-31T11:24:23.559Z"
   },
   {
    "duration": 0,
    "start_time": "2023-01-31T11:24:23.561Z"
   },
   {
    "duration": 0,
    "start_time": "2023-01-31T11:24:23.561Z"
   },
   {
    "duration": 0,
    "start_time": "2023-01-31T11:24:23.563Z"
   },
   {
    "duration": 0,
    "start_time": "2023-01-31T11:24:23.564Z"
   },
   {
    "duration": 0,
    "start_time": "2023-01-31T11:24:23.565Z"
   },
   {
    "duration": 0,
    "start_time": "2023-01-31T11:24:23.566Z"
   },
   {
    "duration": 0,
    "start_time": "2023-01-31T11:24:23.567Z"
   },
   {
    "duration": 0,
    "start_time": "2023-01-31T11:24:23.568Z"
   },
   {
    "duration": 0,
    "start_time": "2023-01-31T11:24:23.569Z"
   },
   {
    "duration": 0,
    "start_time": "2023-01-31T11:24:23.600Z"
   },
   {
    "duration": 0,
    "start_time": "2023-01-31T11:24:23.600Z"
   },
   {
    "duration": 0,
    "start_time": "2023-01-31T11:24:23.601Z"
   },
   {
    "duration": 0,
    "start_time": "2023-01-31T11:24:23.602Z"
   },
   {
    "duration": 0,
    "start_time": "2023-01-31T11:24:23.602Z"
   },
   {
    "duration": 0,
    "start_time": "2023-01-31T11:24:23.604Z"
   },
   {
    "duration": 0,
    "start_time": "2023-01-31T11:24:23.604Z"
   },
   {
    "duration": 0,
    "start_time": "2023-01-31T11:24:23.605Z"
   },
   {
    "duration": 0,
    "start_time": "2023-01-31T11:24:23.606Z"
   },
   {
    "duration": 0,
    "start_time": "2023-01-31T11:24:23.609Z"
   },
   {
    "duration": 0,
    "start_time": "2023-01-31T11:24:23.610Z"
   },
   {
    "duration": 0,
    "start_time": "2023-01-31T11:24:23.611Z"
   },
   {
    "duration": 0,
    "start_time": "2023-01-31T11:24:23.612Z"
   },
   {
    "duration": 23,
    "start_time": "2023-01-31T11:24:38.176Z"
   },
   {
    "duration": 20,
    "start_time": "2023-01-31T11:25:01.124Z"
   },
   {
    "duration": 218,
    "start_time": "2023-01-31T11:25:11.707Z"
   },
   {
    "duration": 23,
    "start_time": "2023-01-31T11:27:45.445Z"
   },
   {
    "duration": 32,
    "start_time": "2023-01-31T11:29:08.172Z"
   },
   {
    "duration": 22,
    "start_time": "2023-01-31T11:29:15.306Z"
   },
   {
    "duration": 25,
    "start_time": "2023-01-31T11:29:49.350Z"
   },
   {
    "duration": 7,
    "start_time": "2023-01-31T11:30:25.520Z"
   },
   {
    "duration": 8,
    "start_time": "2023-01-31T11:43:57.567Z"
   },
   {
    "duration": 23,
    "start_time": "2023-01-31T11:44:00.936Z"
   },
   {
    "duration": 23,
    "start_time": "2023-01-31T11:45:53.364Z"
   },
   {
    "duration": 23,
    "start_time": "2023-01-31T11:46:03.705Z"
   },
   {
    "duration": 8,
    "start_time": "2023-01-31T11:46:15.137Z"
   },
   {
    "duration": 26,
    "start_time": "2023-01-31T11:46:21.493Z"
   },
   {
    "duration": 4,
    "start_time": "2023-01-31T11:50:25.979Z"
   },
   {
    "duration": 97,
    "start_time": "2023-01-31T11:50:25.988Z"
   },
   {
    "duration": 19,
    "start_time": "2023-01-31T11:50:26.087Z"
   },
   {
    "duration": 38,
    "start_time": "2023-01-31T11:50:26.108Z"
   },
   {
    "duration": 2,
    "start_time": "2023-01-31T11:50:26.148Z"
   },
   {
    "duration": 7,
    "start_time": "2023-01-31T11:50:26.152Z"
   },
   {
    "duration": 14,
    "start_time": "2023-01-31T11:50:26.160Z"
   },
   {
    "duration": 6,
    "start_time": "2023-01-31T11:50:26.175Z"
   },
   {
    "duration": 27,
    "start_time": "2023-01-31T11:50:26.182Z"
   },
   {
    "duration": 12,
    "start_time": "2023-01-31T11:50:26.210Z"
   },
   {
    "duration": 19,
    "start_time": "2023-01-31T11:50:26.224Z"
   },
   {
    "duration": 8,
    "start_time": "2023-01-31T11:50:26.244Z"
   },
   {
    "duration": 14,
    "start_time": "2023-01-31T11:50:26.253Z"
   },
   {
    "duration": 10,
    "start_time": "2023-01-31T11:50:26.268Z"
   },
   {
    "duration": 22,
    "start_time": "2023-01-31T11:50:26.305Z"
   },
   {
    "duration": 20,
    "start_time": "2023-01-31T11:50:26.329Z"
   },
   {
    "duration": 24,
    "start_time": "2023-01-31T11:50:26.351Z"
   },
   {
    "duration": 5,
    "start_time": "2023-01-31T11:50:26.377Z"
   },
   {
    "duration": 29,
    "start_time": "2023-01-31T11:50:26.384Z"
   },
   {
    "duration": 19,
    "start_time": "2023-01-31T11:50:26.415Z"
   },
   {
    "duration": 6,
    "start_time": "2023-01-31T11:50:26.436Z"
   },
   {
    "duration": 63,
    "start_time": "2023-01-31T11:50:26.443Z"
   },
   {
    "duration": 3,
    "start_time": "2023-01-31T11:50:26.510Z"
   },
   {
    "duration": 7,
    "start_time": "2023-01-31T11:50:26.515Z"
   },
   {
    "duration": 14,
    "start_time": "2023-01-31T11:50:26.524Z"
   },
   {
    "duration": 43,
    "start_time": "2023-01-31T11:50:26.540Z"
   },
   {
    "duration": 26,
    "start_time": "2023-01-31T11:50:26.584Z"
   },
   {
    "duration": 8,
    "start_time": "2023-01-31T11:50:26.612Z"
   },
   {
    "duration": 22,
    "start_time": "2023-01-31T11:50:26.622Z"
   },
   {
    "duration": 2,
    "start_time": "2023-01-31T11:50:26.647Z"
   },
   {
    "duration": 23,
    "start_time": "2023-01-31T11:50:26.651Z"
   },
   {
    "duration": 5,
    "start_time": "2023-01-31T11:50:26.675Z"
   },
   {
    "duration": 48,
    "start_time": "2023-01-31T11:50:26.681Z"
   },
   {
    "duration": 48,
    "start_time": "2023-01-31T11:50:26.730Z"
   },
   {
    "duration": 7,
    "start_time": "2023-01-31T11:50:26.780Z"
   },
   {
    "duration": 99,
    "start_time": "2023-01-31T11:50:26.788Z"
   },
   {
    "duration": 0,
    "start_time": "2023-01-31T11:50:26.889Z"
   },
   {
    "duration": 0,
    "start_time": "2023-01-31T11:50:26.890Z"
   },
   {
    "duration": 0,
    "start_time": "2023-01-31T11:50:26.891Z"
   },
   {
    "duration": 1,
    "start_time": "2023-01-31T11:50:26.892Z"
   },
   {
    "duration": 0,
    "start_time": "2023-01-31T11:50:26.893Z"
   },
   {
    "duration": 0,
    "start_time": "2023-01-31T11:50:26.894Z"
   },
   {
    "duration": 0,
    "start_time": "2023-01-31T11:50:26.896Z"
   },
   {
    "duration": 0,
    "start_time": "2023-01-31T11:50:26.897Z"
   },
   {
    "duration": 0,
    "start_time": "2023-01-31T11:50:26.897Z"
   },
   {
    "duration": 0,
    "start_time": "2023-01-31T11:50:26.898Z"
   },
   {
    "duration": 0,
    "start_time": "2023-01-31T11:50:26.902Z"
   },
   {
    "duration": 0,
    "start_time": "2023-01-31T11:50:26.903Z"
   },
   {
    "duration": 0,
    "start_time": "2023-01-31T11:50:26.904Z"
   },
   {
    "duration": 0,
    "start_time": "2023-01-31T11:50:26.906Z"
   },
   {
    "duration": 0,
    "start_time": "2023-01-31T11:50:26.907Z"
   },
   {
    "duration": 0,
    "start_time": "2023-01-31T11:50:26.908Z"
   },
   {
    "duration": 0,
    "start_time": "2023-01-31T11:50:26.911Z"
   },
   {
    "duration": 0,
    "start_time": "2023-01-31T11:50:26.913Z"
   },
   {
    "duration": 0,
    "start_time": "2023-01-31T11:50:26.914Z"
   },
   {
    "duration": 0,
    "start_time": "2023-01-31T11:50:26.914Z"
   },
   {
    "duration": 0,
    "start_time": "2023-01-31T11:50:26.915Z"
   },
   {
    "duration": 0,
    "start_time": "2023-01-31T11:50:26.916Z"
   },
   {
    "duration": 0,
    "start_time": "2023-01-31T11:50:26.918Z"
   },
   {
    "duration": 0,
    "start_time": "2023-01-31T11:50:26.919Z"
   },
   {
    "duration": 0,
    "start_time": "2023-01-31T11:50:26.920Z"
   },
   {
    "duration": 0,
    "start_time": "2023-01-31T11:50:26.921Z"
   },
   {
    "duration": 0,
    "start_time": "2023-01-31T11:50:26.922Z"
   },
   {
    "duration": 0,
    "start_time": "2023-01-31T11:50:26.923Z"
   },
   {
    "duration": 0,
    "start_time": "2023-01-31T11:50:26.923Z"
   },
   {
    "duration": 0,
    "start_time": "2023-01-31T11:50:26.924Z"
   },
   {
    "duration": 0,
    "start_time": "2023-01-31T11:50:26.925Z"
   },
   {
    "duration": 0,
    "start_time": "2023-01-31T11:50:26.926Z"
   },
   {
    "duration": 0,
    "start_time": "2023-01-31T11:50:26.928Z"
   },
   {
    "duration": 212,
    "start_time": "2023-01-31T11:50:26.931Z"
   },
   {
    "duration": 0,
    "start_time": "2023-01-31T11:50:27.145Z"
   },
   {
    "duration": 0,
    "start_time": "2023-01-31T11:50:27.146Z"
   },
   {
    "duration": 0,
    "start_time": "2023-01-31T11:50:27.146Z"
   },
   {
    "duration": 0,
    "start_time": "2023-01-31T11:50:27.147Z"
   },
   {
    "duration": 0,
    "start_time": "2023-01-31T11:50:27.148Z"
   },
   {
    "duration": 0,
    "start_time": "2023-01-31T11:50:27.149Z"
   },
   {
    "duration": 0,
    "start_time": "2023-01-31T11:50:27.150Z"
   },
   {
    "duration": 0,
    "start_time": "2023-01-31T11:50:27.151Z"
   },
   {
    "duration": 0,
    "start_time": "2023-01-31T11:50:27.152Z"
   },
   {
    "duration": 0,
    "start_time": "2023-01-31T11:50:27.153Z"
   },
   {
    "duration": 0,
    "start_time": "2023-01-31T11:50:27.154Z"
   },
   {
    "duration": 0,
    "start_time": "2023-01-31T11:50:27.155Z"
   },
   {
    "duration": 0,
    "start_time": "2023-01-31T11:50:27.156Z"
   },
   {
    "duration": 0,
    "start_time": "2023-01-31T11:50:27.157Z"
   },
   {
    "duration": 0,
    "start_time": "2023-01-31T11:50:27.157Z"
   },
   {
    "duration": 0,
    "start_time": "2023-01-31T11:50:27.158Z"
   },
   {
    "duration": 247,
    "start_time": "2023-01-31T11:50:44.859Z"
   },
   {
    "duration": 26,
    "start_time": "2023-01-31T11:51:57.126Z"
   },
   {
    "duration": 23,
    "start_time": "2023-01-31T11:52:23.508Z"
   },
   {
    "duration": 7,
    "start_time": "2023-01-31T11:52:55.760Z"
   },
   {
    "duration": 29,
    "start_time": "2023-01-31T11:53:10.577Z"
   },
   {
    "duration": 246,
    "start_time": "2023-01-31T11:56:26.160Z"
   },
   {
    "duration": 222,
    "start_time": "2023-01-31T12:15:22.039Z"
   },
   {
    "duration": 205,
    "start_time": "2023-01-31T12:16:45.755Z"
   },
   {
    "duration": 10,
    "start_time": "2023-01-31T12:21:49.454Z"
   },
   {
    "duration": 3,
    "start_time": "2023-01-31T12:22:05.061Z"
   },
   {
    "duration": 71,
    "start_time": "2023-01-31T12:22:05.067Z"
   },
   {
    "duration": 15,
    "start_time": "2023-01-31T12:22:05.140Z"
   },
   {
    "duration": 42,
    "start_time": "2023-01-31T12:22:05.157Z"
   },
   {
    "duration": 2,
    "start_time": "2023-01-31T12:22:05.201Z"
   },
   {
    "duration": 18,
    "start_time": "2023-01-31T12:22:05.205Z"
   },
   {
    "duration": 31,
    "start_time": "2023-01-31T12:22:05.225Z"
   },
   {
    "duration": 6,
    "start_time": "2023-01-31T12:22:05.257Z"
   },
   {
    "duration": 13,
    "start_time": "2023-01-31T12:22:05.265Z"
   },
   {
    "duration": 40,
    "start_time": "2023-01-31T12:22:05.280Z"
   },
   {
    "duration": 42,
    "start_time": "2023-01-31T12:22:05.323Z"
   },
   {
    "duration": 16,
    "start_time": "2023-01-31T12:22:05.366Z"
   },
   {
    "duration": 33,
    "start_time": "2023-01-31T12:22:05.383Z"
   },
   {
    "duration": 15,
    "start_time": "2023-01-31T12:22:05.417Z"
   },
   {
    "duration": 38,
    "start_time": "2023-01-31T12:22:05.434Z"
   },
   {
    "duration": 9,
    "start_time": "2023-01-31T12:22:05.474Z"
   },
   {
    "duration": 23,
    "start_time": "2023-01-31T12:22:05.484Z"
   },
   {
    "duration": 4,
    "start_time": "2023-01-31T12:22:05.509Z"
   },
   {
    "duration": 34,
    "start_time": "2023-01-31T12:22:05.515Z"
   },
   {
    "duration": 21,
    "start_time": "2023-01-31T12:22:05.551Z"
   },
   {
    "duration": 11,
    "start_time": "2023-01-31T12:22:05.574Z"
   },
   {
    "duration": 23,
    "start_time": "2023-01-31T12:22:05.587Z"
   },
   {
    "duration": 3,
    "start_time": "2023-01-31T12:22:05.612Z"
   },
   {
    "duration": 19,
    "start_time": "2023-01-31T12:22:05.617Z"
   },
   {
    "duration": 11,
    "start_time": "2023-01-31T12:22:05.637Z"
   },
   {
    "duration": 27,
    "start_time": "2023-01-31T12:22:05.649Z"
   },
   {
    "duration": 19,
    "start_time": "2023-01-31T12:22:05.679Z"
   },
   {
    "duration": 4,
    "start_time": "2023-01-31T12:22:05.699Z"
   },
   {
    "duration": 31,
    "start_time": "2023-01-31T12:22:05.704Z"
   },
   {
    "duration": 2,
    "start_time": "2023-01-31T12:22:05.737Z"
   },
   {
    "duration": 31,
    "start_time": "2023-01-31T12:22:05.740Z"
   },
   {
    "duration": 16,
    "start_time": "2023-01-31T12:22:05.773Z"
   },
   {
    "duration": 11,
    "start_time": "2023-01-31T12:22:05.791Z"
   },
   {
    "duration": 49,
    "start_time": "2023-01-31T12:22:05.803Z"
   },
   {
    "duration": 6,
    "start_time": "2023-01-31T12:22:05.854Z"
   },
   {
    "duration": 88,
    "start_time": "2023-01-31T12:22:05.861Z"
   },
   {
    "duration": 0,
    "start_time": "2023-01-31T12:22:05.951Z"
   },
   {
    "duration": 0,
    "start_time": "2023-01-31T12:22:05.953Z"
   },
   {
    "duration": 0,
    "start_time": "2023-01-31T12:22:05.954Z"
   },
   {
    "duration": 0,
    "start_time": "2023-01-31T12:22:05.956Z"
   },
   {
    "duration": 0,
    "start_time": "2023-01-31T12:22:05.957Z"
   },
   {
    "duration": 0,
    "start_time": "2023-01-31T12:22:05.958Z"
   },
   {
    "duration": 0,
    "start_time": "2023-01-31T12:22:05.960Z"
   },
   {
    "duration": 0,
    "start_time": "2023-01-31T12:22:05.961Z"
   },
   {
    "duration": 0,
    "start_time": "2023-01-31T12:22:05.962Z"
   },
   {
    "duration": 0,
    "start_time": "2023-01-31T12:22:05.963Z"
   },
   {
    "duration": 0,
    "start_time": "2023-01-31T12:22:05.964Z"
   },
   {
    "duration": 0,
    "start_time": "2023-01-31T12:22:05.966Z"
   },
   {
    "duration": 0,
    "start_time": "2023-01-31T12:22:05.967Z"
   },
   {
    "duration": 0,
    "start_time": "2023-01-31T12:22:05.969Z"
   },
   {
    "duration": 0,
    "start_time": "2023-01-31T12:22:05.970Z"
   },
   {
    "duration": 0,
    "start_time": "2023-01-31T12:22:05.972Z"
   },
   {
    "duration": 0,
    "start_time": "2023-01-31T12:22:05.973Z"
   },
   {
    "duration": 0,
    "start_time": "2023-01-31T12:22:05.974Z"
   },
   {
    "duration": 0,
    "start_time": "2023-01-31T12:22:05.975Z"
   },
   {
    "duration": 0,
    "start_time": "2023-01-31T12:22:05.976Z"
   },
   {
    "duration": 14,
    "start_time": "2023-01-31T12:22:05.979Z"
   },
   {
    "duration": 0,
    "start_time": "2023-01-31T12:22:05.995Z"
   },
   {
    "duration": 10,
    "start_time": "2023-01-31T12:22:06.001Z"
   },
   {
    "duration": 0,
    "start_time": "2023-01-31T12:22:06.013Z"
   },
   {
    "duration": 12,
    "start_time": "2023-01-31T12:22:06.022Z"
   },
   {
    "duration": 0,
    "start_time": "2023-01-31T12:22:06.036Z"
   },
   {
    "duration": 1167,
    "start_time": "2023-01-31T12:22:06.043Z"
   },
   {
    "duration": 0,
    "start_time": "2023-01-31T12:22:07.213Z"
   },
   {
    "duration": 0,
    "start_time": "2023-01-31T12:22:07.214Z"
   },
   {
    "duration": 0,
    "start_time": "2023-01-31T12:22:07.216Z"
   },
   {
    "duration": 0,
    "start_time": "2023-01-31T12:22:07.217Z"
   },
   {
    "duration": 0,
    "start_time": "2023-01-31T12:22:07.219Z"
   },
   {
    "duration": 0,
    "start_time": "2023-01-31T12:22:07.220Z"
   },
   {
    "duration": 0,
    "start_time": "2023-01-31T12:22:07.221Z"
   },
   {
    "duration": 0,
    "start_time": "2023-01-31T12:22:07.223Z"
   },
   {
    "duration": 0,
    "start_time": "2023-01-31T12:22:07.224Z"
   },
   {
    "duration": 0,
    "start_time": "2023-01-31T12:22:07.225Z"
   },
   {
    "duration": 0,
    "start_time": "2023-01-31T12:22:07.226Z"
   },
   {
    "duration": 0,
    "start_time": "2023-01-31T12:22:07.228Z"
   },
   {
    "duration": 0,
    "start_time": "2023-01-31T12:22:07.229Z"
   },
   {
    "duration": 0,
    "start_time": "2023-01-31T12:22:07.230Z"
   },
   {
    "duration": 0,
    "start_time": "2023-01-31T12:22:07.232Z"
   },
   {
    "duration": 0,
    "start_time": "2023-01-31T12:22:07.233Z"
   },
   {
    "duration": 0,
    "start_time": "2023-01-31T12:22:07.235Z"
   },
   {
    "duration": 0,
    "start_time": "2023-01-31T12:22:07.338Z"
   },
   {
    "duration": 0,
    "start_time": "2023-01-31T12:22:07.340Z"
   },
   {
    "duration": 0,
    "start_time": "2023-01-31T12:22:07.341Z"
   },
   {
    "duration": 0,
    "start_time": "2023-01-31T12:22:07.343Z"
   },
   {
    "duration": 0,
    "start_time": "2023-01-31T12:22:07.345Z"
   },
   {
    "duration": 0,
    "start_time": "2023-01-31T12:22:07.346Z"
   },
   {
    "duration": 0,
    "start_time": "2023-01-31T12:22:07.347Z"
   },
   {
    "duration": 3,
    "start_time": "2023-01-31T12:24:32.196Z"
   },
   {
    "duration": 56,
    "start_time": "2023-01-31T12:24:47.562Z"
   },
   {
    "duration": 4,
    "start_time": "2023-01-31T12:24:57.320Z"
   },
   {
    "duration": 5,
    "start_time": "2023-01-31T12:25:39.258Z"
   },
   {
    "duration": 6,
    "start_time": "2023-01-31T12:25:44.539Z"
   },
   {
    "duration": 5,
    "start_time": "2023-01-31T12:25:53.213Z"
   },
   {
    "duration": 5,
    "start_time": "2023-01-31T12:26:38.569Z"
   },
   {
    "duration": 5,
    "start_time": "2023-01-31T12:26:53.486Z"
   },
   {
    "duration": 226,
    "start_time": "2023-01-31T12:27:06.247Z"
   },
   {
    "duration": 15,
    "start_time": "2023-01-31T12:27:26.851Z"
   },
   {
    "duration": 279,
    "start_time": "2023-01-31T12:27:40.606Z"
   },
   {
    "duration": 4,
    "start_time": "2023-01-31T12:27:46.907Z"
   },
   {
    "duration": 1081,
    "start_time": "2023-01-31T12:27:56.076Z"
   },
   {
    "duration": 4,
    "start_time": "2023-01-31T12:30:10.116Z"
   },
   {
    "duration": 8,
    "start_time": "2023-01-31T12:30:35.840Z"
   },
   {
    "duration": 11,
    "start_time": "2023-01-31T12:31:09.434Z"
   },
   {
    "duration": 14,
    "start_time": "2023-01-31T12:31:20.783Z"
   },
   {
    "duration": 3,
    "start_time": "2023-01-31T12:35:26.141Z"
   },
   {
    "duration": 10,
    "start_time": "2023-01-31T12:37:06.606Z"
   },
   {
    "duration": 5,
    "start_time": "2023-01-31T12:37:51.137Z"
   },
   {
    "duration": 3,
    "start_time": "2023-01-31T12:38:06.621Z"
   },
   {
    "duration": 15,
    "start_time": "2023-01-31T12:40:23.127Z"
   },
   {
    "duration": 15,
    "start_time": "2023-01-31T12:43:18.850Z"
   },
   {
    "duration": 16,
    "start_time": "2023-01-31T12:43:36.430Z"
   },
   {
    "duration": 15,
    "start_time": "2023-01-31T12:46:37.843Z"
   },
   {
    "duration": 5,
    "start_time": "2023-01-31T12:50:34.444Z"
   },
   {
    "duration": 17,
    "start_time": "2023-01-31T12:53:06.733Z"
   },
   {
    "duration": 20,
    "start_time": "2023-01-31T12:53:39.790Z"
   },
   {
    "duration": 8,
    "start_time": "2023-01-31T12:53:58.214Z"
   },
   {
    "duration": 789,
    "start_time": "2023-01-31T12:56:24.017Z"
   },
   {
    "duration": 231,
    "start_time": "2023-01-31T12:57:10.080Z"
   },
   {
    "duration": 31,
    "start_time": "2023-01-31T12:57:58.536Z"
   },
   {
    "duration": 8,
    "start_time": "2023-01-31T13:01:11.061Z"
   },
   {
    "duration": 9,
    "start_time": "2023-01-31T13:01:50.422Z"
   },
   {
    "duration": 12,
    "start_time": "2023-01-31T13:01:59.382Z"
   },
   {
    "duration": 6,
    "start_time": "2023-01-31T13:02:06.424Z"
   },
   {
    "duration": 338,
    "start_time": "2023-01-31T13:02:24.108Z"
   },
   {
    "duration": 8,
    "start_time": "2023-01-31T13:02:35.009Z"
   },
   {
    "duration": 168,
    "start_time": "2023-01-31T13:02:54.964Z"
   },
   {
    "duration": 8,
    "start_time": "2023-01-31T13:02:59.846Z"
   },
   {
    "duration": 516,
    "start_time": "2023-01-31T13:03:11.035Z"
   },
   {
    "duration": 568,
    "start_time": "2023-01-31T13:03:27.750Z"
   },
   {
    "duration": 7,
    "start_time": "2023-01-31T13:04:17.443Z"
   },
   {
    "duration": 6,
    "start_time": "2023-01-31T13:04:30.928Z"
   },
   {
    "duration": 532,
    "start_time": "2023-01-31T13:04:57.839Z"
   },
   {
    "duration": 548,
    "start_time": "2023-01-31T13:05:53.329Z"
   },
   {
    "duration": 15,
    "start_time": "2023-01-31T13:06:25.018Z"
   },
   {
    "duration": 17,
    "start_time": "2023-01-31T13:06:44.732Z"
   },
   {
    "duration": 18,
    "start_time": "2023-01-31T13:11:14.555Z"
   },
   {
    "duration": 14,
    "start_time": "2023-01-31T13:11:53.969Z"
   },
   {
    "duration": 15,
    "start_time": "2023-01-31T13:12:37.706Z"
   },
   {
    "duration": 14,
    "start_time": "2023-01-31T13:19:21.810Z"
   },
   {
    "duration": 17,
    "start_time": "2023-01-31T13:22:14.121Z"
   },
   {
    "duration": 7,
    "start_time": "2023-01-31T13:22:29.447Z"
   },
   {
    "duration": 15,
    "start_time": "2023-01-31T13:22:46.059Z"
   },
   {
    "duration": 19,
    "start_time": "2023-01-31T13:25:10.426Z"
   },
   {
    "duration": 17,
    "start_time": "2023-01-31T13:26:14.662Z"
   },
   {
    "duration": 21,
    "start_time": "2023-01-31T13:38:22.357Z"
   },
   {
    "duration": 31,
    "start_time": "2023-01-31T13:38:43.178Z"
   },
   {
    "duration": 14,
    "start_time": "2023-01-31T13:41:02.257Z"
   },
   {
    "duration": 28,
    "start_time": "2023-01-31T13:41:38.376Z"
   },
   {
    "duration": 18,
    "start_time": "2023-01-31T13:41:55.369Z"
   },
   {
    "duration": 19,
    "start_time": "2023-01-31T13:42:06.138Z"
   },
   {
    "duration": 152,
    "start_time": "2023-01-31T13:43:22.230Z"
   },
   {
    "duration": 20,
    "start_time": "2023-01-31T13:44:23.810Z"
   },
   {
    "duration": 254,
    "start_time": "2023-01-31T13:44:31.170Z"
   },
   {
    "duration": 351,
    "start_time": "2023-01-31T13:52:49.318Z"
   },
   {
    "duration": 177,
    "start_time": "2023-01-31T13:53:07.157Z"
   },
   {
    "duration": 128,
    "start_time": "2023-01-31T13:53:26.759Z"
   },
   {
    "duration": 329,
    "start_time": "2023-01-31T13:53:42.559Z"
   },
   {
    "duration": 250,
    "start_time": "2023-01-31T13:59:05.336Z"
   },
   {
    "duration": 249,
    "start_time": "2023-01-31T14:00:39.078Z"
   },
   {
    "duration": 6,
    "start_time": "2023-01-31T14:01:28.636Z"
   },
   {
    "duration": 10,
    "start_time": "2023-01-31T14:03:02.492Z"
   },
   {
    "duration": 8,
    "start_time": "2023-01-31T14:07:45.258Z"
   },
   {
    "duration": 4,
    "start_time": "2023-01-31T14:08:06.717Z"
   },
   {
    "duration": 1001,
    "start_time": "2023-01-31T14:08:51.833Z"
   },
   {
    "duration": 18,
    "start_time": "2023-01-31T14:10:02.585Z"
   },
   {
    "duration": 3,
    "start_time": "2023-01-31T14:10:57.984Z"
   },
   {
    "duration": 68,
    "start_time": "2023-01-31T14:10:57.993Z"
   },
   {
    "duration": 14,
    "start_time": "2023-01-31T14:10:58.063Z"
   },
   {
    "duration": 131,
    "start_time": "2023-01-31T14:10:58.078Z"
   },
   {
    "duration": 2,
    "start_time": "2023-01-31T14:10:58.211Z"
   },
   {
    "duration": 8,
    "start_time": "2023-01-31T14:10:58.215Z"
   },
   {
    "duration": 24,
    "start_time": "2023-01-31T14:10:58.225Z"
   },
   {
    "duration": 7,
    "start_time": "2023-01-31T14:10:58.250Z"
   },
   {
    "duration": 40,
    "start_time": "2023-01-31T14:10:58.259Z"
   },
   {
    "duration": 18,
    "start_time": "2023-01-31T14:10:58.301Z"
   },
   {
    "duration": 18,
    "start_time": "2023-01-31T14:10:58.321Z"
   },
   {
    "duration": 10,
    "start_time": "2023-01-31T14:10:58.341Z"
   },
   {
    "duration": 19,
    "start_time": "2023-01-31T14:10:58.353Z"
   },
   {
    "duration": 32,
    "start_time": "2023-01-31T14:10:58.374Z"
   },
   {
    "duration": 20,
    "start_time": "2023-01-31T14:10:58.408Z"
   },
   {
    "duration": 7,
    "start_time": "2023-01-31T14:10:58.430Z"
   },
   {
    "duration": 24,
    "start_time": "2023-01-31T14:10:58.439Z"
   },
   {
    "duration": 5,
    "start_time": "2023-01-31T14:10:58.465Z"
   },
   {
    "duration": 39,
    "start_time": "2023-01-31T14:10:58.471Z"
   },
   {
    "duration": 20,
    "start_time": "2023-01-31T14:10:58.511Z"
   },
   {
    "duration": 4,
    "start_time": "2023-01-31T14:10:58.533Z"
   },
   {
    "duration": 22,
    "start_time": "2023-01-31T14:10:58.538Z"
   },
   {
    "duration": 4,
    "start_time": "2023-01-31T14:10:58.561Z"
   },
   {
    "duration": 43,
    "start_time": "2023-01-31T14:10:58.567Z"
   },
   {
    "duration": 6,
    "start_time": "2023-01-31T14:10:58.613Z"
   },
   {
    "duration": 27,
    "start_time": "2023-01-31T14:10:58.620Z"
   },
   {
    "duration": 5,
    "start_time": "2023-01-31T14:10:58.649Z"
   },
   {
    "duration": 9,
    "start_time": "2023-01-31T14:10:58.656Z"
   },
   {
    "duration": 39,
    "start_time": "2023-01-31T14:10:58.666Z"
   },
   {
    "duration": 3,
    "start_time": "2023-01-31T14:10:58.707Z"
   },
   {
    "duration": 24,
    "start_time": "2023-01-31T14:10:58.712Z"
   },
   {
    "duration": 5,
    "start_time": "2023-01-31T14:10:58.737Z"
   },
   {
    "duration": 9,
    "start_time": "2023-01-31T14:10:58.743Z"
   },
   {
    "duration": 23,
    "start_time": "2023-01-31T14:10:58.753Z"
   },
   {
    "duration": 29,
    "start_time": "2023-01-31T14:10:58.777Z"
   },
   {
    "duration": 6,
    "start_time": "2023-01-31T14:10:58.809Z"
   },
   {
    "duration": 24,
    "start_time": "2023-01-31T14:10:58.816Z"
   },
   {
    "duration": 15,
    "start_time": "2023-01-31T14:10:58.842Z"
   },
   {
    "duration": 19,
    "start_time": "2023-01-31T14:10:58.858Z"
   },
   {
    "duration": 12,
    "start_time": "2023-01-31T14:10:58.894Z"
   },
   {
    "duration": 5,
    "start_time": "2023-01-31T14:10:58.908Z"
   },
   {
    "duration": 6,
    "start_time": "2023-01-31T14:10:58.915Z"
   },
   {
    "duration": 7,
    "start_time": "2023-01-31T14:10:58.923Z"
   },
   {
    "duration": 231,
    "start_time": "2023-01-31T14:10:58.932Z"
   },
   {
    "duration": 45,
    "start_time": "2023-01-31T14:10:59.165Z"
   },
   {
    "duration": 7,
    "start_time": "2023-01-31T14:10:59.212Z"
   },
   {
    "duration": 27,
    "start_time": "2023-01-31T14:10:59.221Z"
   },
   {
    "duration": 259,
    "start_time": "2023-01-31T14:10:59.249Z"
   },
   {
    "duration": 15,
    "start_time": "2023-01-31T14:10:59.511Z"
   },
   {
    "duration": 293,
    "start_time": "2023-01-31T14:10:59.528Z"
   },
   {
    "duration": 4,
    "start_time": "2023-01-31T14:10:59.823Z"
   },
   {
    "duration": 1105,
    "start_time": "2023-01-31T14:10:59.828Z"
   },
   {
    "duration": 14,
    "start_time": "2023-01-31T14:11:00.934Z"
   },
   {
    "duration": 84,
    "start_time": "2023-01-31T14:11:00.949Z"
   },
   {
    "duration": 0,
    "start_time": "2023-01-31T14:11:01.035Z"
   },
   {
    "duration": 0,
    "start_time": "2023-01-31T14:11:01.037Z"
   },
   {
    "duration": 0,
    "start_time": "2023-01-31T14:11:01.038Z"
   },
   {
    "duration": 0,
    "start_time": "2023-01-31T14:11:01.039Z"
   },
   {
    "duration": 0,
    "start_time": "2023-01-31T14:11:01.040Z"
   },
   {
    "duration": 0,
    "start_time": "2023-01-31T14:11:01.041Z"
   },
   {
    "duration": 0,
    "start_time": "2023-01-31T14:11:01.042Z"
   },
   {
    "duration": 0,
    "start_time": "2023-01-31T14:11:01.042Z"
   },
   {
    "duration": 0,
    "start_time": "2023-01-31T14:11:01.043Z"
   },
   {
    "duration": 0,
    "start_time": "2023-01-31T14:11:01.044Z"
   },
   {
    "duration": 0,
    "start_time": "2023-01-31T14:11:01.045Z"
   },
   {
    "duration": 0,
    "start_time": "2023-01-31T14:11:01.046Z"
   },
   {
    "duration": 0,
    "start_time": "2023-01-31T14:11:01.047Z"
   },
   {
    "duration": 0,
    "start_time": "2023-01-31T14:11:01.048Z"
   },
   {
    "duration": 0,
    "start_time": "2023-01-31T14:11:01.049Z"
   },
   {
    "duration": 0,
    "start_time": "2023-01-31T14:11:01.051Z"
   },
   {
    "duration": 0,
    "start_time": "2023-01-31T14:11:01.051Z"
   },
   {
    "duration": 0,
    "start_time": "2023-01-31T14:11:01.052Z"
   },
   {
    "duration": 0,
    "start_time": "2023-01-31T14:11:01.053Z"
   },
   {
    "duration": 0,
    "start_time": "2023-01-31T14:11:01.054Z"
   },
   {
    "duration": 0,
    "start_time": "2023-01-31T14:11:01.055Z"
   },
   {
    "duration": 0,
    "start_time": "2023-01-31T14:11:01.056Z"
   },
   {
    "duration": 0,
    "start_time": "2023-01-31T14:11:01.057Z"
   },
   {
    "duration": 0,
    "start_time": "2023-01-31T14:11:01.058Z"
   },
   {
    "duration": 0,
    "start_time": "2023-01-31T14:11:01.059Z"
   },
   {
    "duration": 0,
    "start_time": "2023-01-31T14:11:01.060Z"
   },
   {
    "duration": 0,
    "start_time": "2023-01-31T14:11:01.061Z"
   },
   {
    "duration": 0,
    "start_time": "2023-01-31T14:11:01.062Z"
   },
   {
    "duration": 0,
    "start_time": "2023-01-31T14:11:01.063Z"
   },
   {
    "duration": 0,
    "start_time": "2023-01-31T14:11:01.064Z"
   },
   {
    "duration": 0,
    "start_time": "2023-01-31T14:11:01.065Z"
   },
   {
    "duration": 1,
    "start_time": "2023-01-31T14:11:01.065Z"
   },
   {
    "duration": 0,
    "start_time": "2023-01-31T14:11:01.066Z"
   },
   {
    "duration": 0,
    "start_time": "2023-01-31T14:11:01.068Z"
   },
   {
    "duration": 0,
    "start_time": "2023-01-31T14:11:01.069Z"
   },
   {
    "duration": 0,
    "start_time": "2023-01-31T14:11:01.070Z"
   },
   {
    "duration": 0,
    "start_time": "2023-01-31T14:11:01.071Z"
   },
   {
    "duration": 0,
    "start_time": "2023-01-31T14:11:01.095Z"
   },
   {
    "duration": 0,
    "start_time": "2023-01-31T14:11:01.096Z"
   },
   {
    "duration": 0,
    "start_time": "2023-01-31T14:11:01.097Z"
   },
   {
    "duration": 6,
    "start_time": "2023-01-31T14:11:17.951Z"
   },
   {
    "duration": 22,
    "start_time": "2023-01-31T14:11:33.990Z"
   },
   {
    "duration": 3,
    "start_time": "2023-01-31T14:11:56.312Z"
   },
   {
    "duration": 933,
    "start_time": "2023-01-31T14:12:07.916Z"
   },
   {
    "duration": 903,
    "start_time": "2023-01-31T14:12:23.870Z"
   },
   {
    "duration": 5,
    "start_time": "2023-01-31T14:12:52.229Z"
   },
   {
    "duration": 5,
    "start_time": "2023-01-31T14:13:47.426Z"
   },
   {
    "duration": 6,
    "start_time": "2023-01-31T14:13:53.320Z"
   },
   {
    "duration": 3,
    "start_time": "2023-01-31T14:14:33.177Z"
   },
   {
    "duration": 6,
    "start_time": "2023-01-31T14:14:39.125Z"
   },
   {
    "duration": 7,
    "start_time": "2023-01-31T14:15:01.338Z"
   },
   {
    "duration": 293,
    "start_time": "2023-01-31T14:15:27.710Z"
   },
   {
    "duration": 360,
    "start_time": "2023-01-31T14:16:18.894Z"
   },
   {
    "duration": 9,
    "start_time": "2023-01-31T14:18:58.012Z"
   },
   {
    "duration": 22,
    "start_time": "2023-01-31T14:19:09.119Z"
   },
   {
    "duration": 309,
    "start_time": "2023-01-31T14:20:30.831Z"
   },
   {
    "duration": 22,
    "start_time": "2023-01-31T14:30:31.014Z"
   },
   {
    "duration": 27,
    "start_time": "2023-01-31T14:31:46.083Z"
   },
   {
    "duration": 10,
    "start_time": "2023-01-31T14:34:19.164Z"
   },
   {
    "duration": 14,
    "start_time": "2023-01-31T14:34:26.270Z"
   },
   {
    "duration": 20,
    "start_time": "2023-01-31T14:35:05.405Z"
   },
   {
    "duration": 19,
    "start_time": "2023-01-31T14:36:04.297Z"
   },
   {
    "duration": 18,
    "start_time": "2023-01-31T14:36:23.545Z"
   },
   {
    "duration": 16,
    "start_time": "2023-01-31T14:36:43.726Z"
   },
   {
    "duration": 21,
    "start_time": "2023-01-31T14:36:55.180Z"
   },
   {
    "duration": 22,
    "start_time": "2023-01-31T14:37:14.200Z"
   },
   {
    "duration": 19,
    "start_time": "2023-01-31T14:38:27.852Z"
   },
   {
    "duration": 23,
    "start_time": "2023-01-31T14:38:44.088Z"
   },
   {
    "duration": 15,
    "start_time": "2023-01-31T14:39:12.635Z"
   },
   {
    "duration": 396,
    "start_time": "2023-01-31T14:42:22.377Z"
   },
   {
    "duration": 12,
    "start_time": "2023-01-31T14:42:57.592Z"
   },
   {
    "duration": 5,
    "start_time": "2023-01-31T14:43:01.051Z"
   },
   {
    "duration": 4,
    "start_time": "2023-01-31T14:43:06.543Z"
   },
   {
    "duration": 7,
    "start_time": "2023-01-31T14:43:25.155Z"
   },
   {
    "duration": 4,
    "start_time": "2023-01-31T14:43:28.528Z"
   },
   {
    "duration": 7,
    "start_time": "2023-01-31T14:44:30.065Z"
   },
   {
    "duration": 4,
    "start_time": "2023-01-31T14:44:32.809Z"
   },
   {
    "duration": 6,
    "start_time": "2023-01-31T14:45:38.133Z"
   },
   {
    "duration": 4,
    "start_time": "2023-01-31T14:45:41.240Z"
   },
   {
    "duration": 7,
    "start_time": "2023-01-31T14:46:20.628Z"
   },
   {
    "duration": 15,
    "start_time": "2023-01-31T14:46:23.496Z"
   },
   {
    "duration": 4,
    "start_time": "2023-01-31T14:46:48.757Z"
   },
   {
    "duration": 5,
    "start_time": "2023-01-31T14:47:37.392Z"
   },
   {
    "duration": 5,
    "start_time": "2023-01-31T14:49:40.486Z"
   },
   {
    "duration": 8,
    "start_time": "2023-01-31T14:49:55.703Z"
   },
   {
    "duration": 6,
    "start_time": "2023-01-31T14:50:27.118Z"
   },
   {
    "duration": 6,
    "start_time": "2023-01-31T14:51:12.208Z"
   },
   {
    "duration": 5,
    "start_time": "2023-01-31T14:51:42.139Z"
   },
   {
    "duration": 5,
    "start_time": "2023-01-31T14:53:23.827Z"
   },
   {
    "duration": 9,
    "start_time": "2023-01-31T14:54:27.773Z"
   },
   {
    "duration": 5,
    "start_time": "2023-01-31T14:54:31.154Z"
   },
   {
    "duration": 11,
    "start_time": "2023-01-31T14:56:02.971Z"
   },
   {
    "duration": 5,
    "start_time": "2023-01-31T14:56:29.677Z"
   },
   {
    "duration": 6,
    "start_time": "2023-01-31T14:56:33.418Z"
   },
   {
    "duration": 3,
    "start_time": "2023-01-31T14:56:56.825Z"
   },
   {
    "duration": 3,
    "start_time": "2023-01-31T14:57:16.859Z"
   },
   {
    "duration": 8,
    "start_time": "2023-01-31T14:59:07.720Z"
   },
   {
    "duration": 36,
    "start_time": "2023-01-31T14:59:30.594Z"
   },
   {
    "duration": 5,
    "start_time": "2023-01-31T15:00:22.560Z"
   },
   {
    "duration": 7,
    "start_time": "2023-01-31T15:00:25.213Z"
   },
   {
    "duration": 4,
    "start_time": "2023-01-31T15:00:29.057Z"
   },
   {
    "duration": 5,
    "start_time": "2023-01-31T15:00:32.165Z"
   },
   {
    "duration": 15,
    "start_time": "2023-01-31T15:30:03.605Z"
   },
   {
    "duration": 4,
    "start_time": "2023-01-31T15:34:15.736Z"
   },
   {
    "duration": 19,
    "start_time": "2023-01-31T15:34:17.835Z"
   },
   {
    "duration": 7,
    "start_time": "2023-01-31T15:34:28.107Z"
   },
   {
    "duration": 670,
    "start_time": "2023-01-31T15:34:32.108Z"
   },
   {
    "duration": 241,
    "start_time": "2023-01-31T15:44:32.222Z"
   },
   {
    "duration": 236,
    "start_time": "2023-01-31T15:44:44.281Z"
   },
   {
    "duration": 14,
    "start_time": "2023-01-31T15:44:57.139Z"
   },
   {
    "duration": 13,
    "start_time": "2023-01-31T15:45:19.611Z"
   },
   {
    "duration": 18,
    "start_time": "2023-01-31T15:45:23.745Z"
   },
   {
    "duration": 19,
    "start_time": "2023-01-31T15:45:26.365Z"
   },
   {
    "duration": 23,
    "start_time": "2023-01-31T16:07:51.759Z"
   }
  ],
  "kernelspec": {
   "display_name": "anaconda-2022.05-py39",
   "language": "python",
   "name": "conda-env-anaconda-2022.05-py39-py"
  },
  "language_info": {
   "codemirror_mode": {
    "name": "ipython",
    "version": 3
   },
   "file_extension": ".py",
   "mimetype": "text/x-python",
   "name": "python",
   "nbconvert_exporter": "python",
   "pygments_lexer": "ipython3",
   "version": "3.9.12"
  },
  "toc": {
   "base_numbering": 1,
   "nav_menu": {},
   "number_sections": true,
   "sideBar": true,
   "skip_h1_title": true,
   "title_cell": "Table of Contents",
   "title_sidebar": "Contents",
   "toc_cell": false,
   "toc_position": {
    "height": "calc(100% - 180px)",
    "left": "10px",
    "top": "150px",
    "width": "165px"
   },
   "toc_section_display": true,
   "toc_window_display": true
  }
 },
 "nbformat": 4,
 "nbformat_minor": 4
}
